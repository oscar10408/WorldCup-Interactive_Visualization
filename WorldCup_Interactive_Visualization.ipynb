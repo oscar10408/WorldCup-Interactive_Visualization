{
 "cells": [
  {
   "cell_type": "markdown",
   "metadata": {},
   "source": [
    "# Overview\n",
    "\n",
    "We will create 4 visualizations about winners of the FIFA soccer World Cup."
   ]
  },
  {
   "cell_type": "code",
   "execution_count": 201,
   "metadata": {},
   "outputs": [
    {
     "data": {
      "text/plain": [
       "RendererRegistry.enable('jupyterlab')"
      ]
     },
     "execution_count": 201,
     "metadata": {},
     "output_type": "execute_result"
    }
   ],
   "source": [
    "# start with the setup\n",
    "\n",
    "# supress warnings about future deprecations\n",
    "import warnings\n",
    "warnings.simplefilter(action='ignore', category=FutureWarning)\n",
    "\n",
    "import pandas as pd\n",
    "pd.options.mode.chained_assignment = None\n",
    "\n",
    "import altair as alt\n",
    "import numpy as np\n",
    "import pprint\n",
    "import datetime as dt\n",
    "from vega_datasets import data\n",
    "import matplotlib.pyplot as plt\n",
    "\n",
    "# Solve a javascript error by explicitly setting the renderer\n",
    "alt.renderers.enable('jupyterlab')"
   ]
  },
  {
   "cell_type": "code",
   "execution_count": 202,
   "metadata": {},
   "outputs": [],
   "source": [
    "#load data\n",
    "df1 = pd.read_csv(\"https://raw.githubusercontent.com/jfjelstul/worldcup/refs/heads/master/data-csv/goals.csv\")\n",
    "df2 = pd.read_csv(\"https://raw.githubusercontent.com/jfjelstul/worldcup/refs/heads/master/data-csv/tournaments.csv\")\n",
    "df3 = pd.read_csv(\"https://raw.githubusercontent.com/jfjelstul/worldcup/refs/heads/master/data-csv/matches.csv\")\n",
    "\n",
    "#Hint: The fields are described here: https://github.com/jfjelstul/worldcup/blob/master/codebook/csv/variables.csv"
   ]
  },
  {
   "cell_type": "code",
   "execution_count": 203,
   "metadata": {},
   "outputs": [
    {
     "data": {
      "text/plain": [
       "['Argentina',\n",
       " 'Brazil',\n",
       " 'England',\n",
       " 'France',\n",
       " 'Germany',\n",
       " 'Italy',\n",
       " 'Spain',\n",
       " 'Uruguay']"
      ]
     },
     "execution_count": 203,
     "metadata": {},
     "output_type": "execute_result"
    }
   ],
   "source": [
    "#Create List of World Cup (WC) winners\n",
    "\n",
    "#Only consider WCs since 1950 and simplify DataFrame by removing and renaming columns\n",
    "tournament_ids = [\"WC-\" + str(x) for x in range(1950,2023,4)] \n",
    "df_wc_winners = df2[df2[\"tournament_id\"].isin(tournament_ids)][[\"tournament_id\", \"year\", \"winner\"]].replace(['West Germany'],'Germany').reset_index(drop=True)\n",
    "\n",
    "wc_winners = list(set(df_wc_winners[\"winner\"].to_list()))\n",
    "wc_winners.sort()\n",
    "\n",
    "wc_winners"
   ]
  },
  {
   "cell_type": "code",
   "execution_count": 204,
   "metadata": {},
   "outputs": [],
   "source": [
    "#Simplify DataFrame on matches at WC tournaments by removing and renaming columns\n",
    "match_cols = [\"tournament_id\", \"match_id\", \"home_team_name\",\"away_team_name\",\"home_team_score\",\"away_team_score\", \"home_team_win\", \"away_team_win\", \"draw\"]\n",
    "df4 = df3[df3[\"tournament_id\"].isin(tournament_ids)][match_cols].replace(['West Germany'],'Germany')"
   ]
  },
  {
   "cell_type": "code",
   "execution_count": 205,
   "metadata": {},
   "outputs": [
    {
     "data": {
      "text/html": [
       "<div>\n",
       "<style scoped>\n",
       "    .dataframe tbody tr th:only-of-type {\n",
       "        vertical-align: middle;\n",
       "    }\n",
       "\n",
       "    .dataframe tbody tr th {\n",
       "        vertical-align: top;\n",
       "    }\n",
       "\n",
       "    .dataframe thead th {\n",
       "        text-align: right;\n",
       "    }\n",
       "</style>\n",
       "<table border=\"1\" class=\"dataframe\">\n",
       "  <thead>\n",
       "    <tr style=\"text-align: right;\">\n",
       "      <th></th>\n",
       "      <th>tournament_id</th>\n",
       "      <th>match_id</th>\n",
       "      <th>team</th>\n",
       "      <th>score</th>\n",
       "      <th>year</th>\n",
       "      <th>winner</th>\n",
       "    </tr>\n",
       "  </thead>\n",
       "  <tbody>\n",
       "    <tr>\n",
       "      <th>0</th>\n",
       "      <td>WC-1950</td>\n",
       "      <td>M-1950-01</td>\n",
       "      <td>Brazil</td>\n",
       "      <td>4</td>\n",
       "      <td>1950</td>\n",
       "      <td>Uruguay</td>\n",
       "    </tr>\n",
       "    <tr>\n",
       "      <th>1</th>\n",
       "      <td>WC-1950</td>\n",
       "      <td>M-1950-03</td>\n",
       "      <td>England</td>\n",
       "      <td>2</td>\n",
       "      <td>1950</td>\n",
       "      <td>Uruguay</td>\n",
       "    </tr>\n",
       "    <tr>\n",
       "      <th>2</th>\n",
       "      <td>WC-1950</td>\n",
       "      <td>M-1950-04</td>\n",
       "      <td>Spain</td>\n",
       "      <td>3</td>\n",
       "      <td>1950</td>\n",
       "      <td>Uruguay</td>\n",
       "    </tr>\n",
       "    <tr>\n",
       "      <th>3</th>\n",
       "      <td>WC-1950</td>\n",
       "      <td>M-1950-05</td>\n",
       "      <td>Italy</td>\n",
       "      <td>2</td>\n",
       "      <td>1950</td>\n",
       "      <td>Uruguay</td>\n",
       "    </tr>\n",
       "    <tr>\n",
       "      <th>4</th>\n",
       "      <td>WC-1950</td>\n",
       "      <td>M-1950-06</td>\n",
       "      <td>Brazil</td>\n",
       "      <td>2</td>\n",
       "      <td>1950</td>\n",
       "      <td>Uruguay</td>\n",
       "    </tr>\n",
       "  </tbody>\n",
       "</table>\n",
       "</div>"
      ],
      "text/plain": [
       "  tournament_id   match_id     team  score  year   winner\n",
       "0       WC-1950  M-1950-01   Brazil      4  1950  Uruguay\n",
       "1       WC-1950  M-1950-03  England      2  1950  Uruguay\n",
       "2       WC-1950  M-1950-04    Spain      3  1950  Uruguay\n",
       "3       WC-1950  M-1950-05    Italy      2  1950  Uruguay\n",
       "4       WC-1950  M-1950-06   Brazil      2  1950  Uruguay"
      ]
     },
     "execution_count": 205,
     "metadata": {},
     "output_type": "execute_result"
    }
   ],
   "source": [
    "#Prepare data for Part 1\n",
    "\n",
    "#Create DataFrame with goals WC winners scored at WC matches since 1950\n",
    "df5 = df4[df4[\"away_team_name\"].isin(wc_winners)].rename(columns={'away_team_name': 'team', 'away_team_score': 'score'}).drop(columns=[\"home_team_name\", \"home_team_score\"])\n",
    "df6 = df4[df4[\"home_team_name\"].isin(wc_winners)].rename(columns={'home_team_name': 'team', 'home_team_score': 'score'}).drop(columns=[\"away_team_name\", \"away_team_score\"])\n",
    "df7 = pd.concat([df5,df6]).sort_values(by=['tournament_id','match_id']).drop(columns=[\"home_team_win\", \"away_team_win\", \"draw\"])\n",
    "df_goals_winners_per_match = df7.merge(df_wc_winners, on=\"tournament_id\")\n",
    "\n",
    "df_goals_winners_per_match.head()"
   ]
  },
  {
   "cell_type": "code",
   "execution_count": 206,
   "metadata": {},
   "outputs": [
    {
     "data": {
      "text/html": [
       "<div>\n",
       "<style scoped>\n",
       "    .dataframe tbody tr th:only-of-type {\n",
       "        vertical-align: middle;\n",
       "    }\n",
       "\n",
       "    .dataframe tbody tr th {\n",
       "        vertical-align: top;\n",
       "    }\n",
       "\n",
       "    .dataframe thead th {\n",
       "        text-align: right;\n",
       "    }\n",
       "</style>\n",
       "<table border=\"1\" class=\"dataframe\">\n",
       "  <thead>\n",
       "    <tr style=\"text-align: right;\">\n",
       "      <th></th>\n",
       "      <th>tournament_id</th>\n",
       "      <th>match_id</th>\n",
       "      <th>home_team_name</th>\n",
       "      <th>away_team_name</th>\n",
       "      <th>home_team_score</th>\n",
       "      <th>away_team_score</th>\n",
       "      <th>home_team_win</th>\n",
       "      <th>away_team_win</th>\n",
       "      <th>draw</th>\n",
       "      <th>year</th>\n",
       "    </tr>\n",
       "  </thead>\n",
       "  <tbody>\n",
       "    <tr>\n",
       "      <th>0</th>\n",
       "      <td>WC-1950</td>\n",
       "      <td>M-1950-13</td>\n",
       "      <td>Spain</td>\n",
       "      <td>England</td>\n",
       "      <td>1</td>\n",
       "      <td>0</td>\n",
       "      <td>1</td>\n",
       "      <td>0</td>\n",
       "      <td>0</td>\n",
       "      <td>1950</td>\n",
       "    </tr>\n",
       "    <tr>\n",
       "      <th>1</th>\n",
       "      <td>WC-1950</td>\n",
       "      <td>M-1950-18</td>\n",
       "      <td>Uruguay</td>\n",
       "      <td>Spain</td>\n",
       "      <td>2</td>\n",
       "      <td>2</td>\n",
       "      <td>0</td>\n",
       "      <td>0</td>\n",
       "      <td>1</td>\n",
       "      <td>1950</td>\n",
       "    </tr>\n",
       "    <tr>\n",
       "      <th>2</th>\n",
       "      <td>WC-1950</td>\n",
       "      <td>M-1950-19</td>\n",
       "      <td>Brazil</td>\n",
       "      <td>Spain</td>\n",
       "      <td>6</td>\n",
       "      <td>1</td>\n",
       "      <td>1</td>\n",
       "      <td>0</td>\n",
       "      <td>0</td>\n",
       "      <td>1950</td>\n",
       "    </tr>\n",
       "    <tr>\n",
       "      <th>3</th>\n",
       "      <td>WC-1950</td>\n",
       "      <td>M-1950-22</td>\n",
       "      <td>Uruguay</td>\n",
       "      <td>Brazil</td>\n",
       "      <td>2</td>\n",
       "      <td>1</td>\n",
       "      <td>1</td>\n",
       "      <td>0</td>\n",
       "      <td>0</td>\n",
       "      <td>1950</td>\n",
       "    </tr>\n",
       "    <tr>\n",
       "      <th>4</th>\n",
       "      <td>WC-1954</td>\n",
       "      <td>M-1954-20</td>\n",
       "      <td>Uruguay</td>\n",
       "      <td>England</td>\n",
       "      <td>4</td>\n",
       "      <td>2</td>\n",
       "      <td>1</td>\n",
       "      <td>0</td>\n",
       "      <td>0</td>\n",
       "      <td>1954</td>\n",
       "    </tr>\n",
       "  </tbody>\n",
       "</table>\n",
       "</div>"
      ],
      "text/plain": [
       "  tournament_id   match_id home_team_name away_team_name  home_team_score  \\\n",
       "0       WC-1950  M-1950-13          Spain        England                1   \n",
       "1       WC-1950  M-1950-18        Uruguay          Spain                2   \n",
       "2       WC-1950  M-1950-19         Brazil          Spain                6   \n",
       "3       WC-1950  M-1950-22        Uruguay         Brazil                2   \n",
       "4       WC-1954  M-1954-20        Uruguay        England                4   \n",
       "\n",
       "   away_team_score  home_team_win  away_team_win  draw  year  \n",
       "0                0              1              0     0  1950  \n",
       "1                2              0              0     1  1950  \n",
       "2                1              1              0     0  1950  \n",
       "3                1              1              0     0  1950  \n",
       "4                2              1              0     0  1954  "
      ]
     },
     "execution_count": 206,
     "metadata": {},
     "output_type": "execute_result"
    }
   ],
   "source": [
    "#Prepare data for Part 2\n",
    "\n",
    "#Simplify DataFrame on WC matches by removing and renaming columns\n",
    "df8 = df4[df4[\"away_team_name\"].isin(wc_winners) & df4[\"home_team_name\"].isin(wc_winners)].reset_index(drop=True)\n",
    "\n",
    "#For the two halfs of the heatmap, copy and add mirrored match data (i.e. away and home team are reversed)\n",
    "df_wc_winner_matchups = pd.concat([df8,df8.rename(columns={'home_team_name': 'away_team_name', 'away_team_name': 'home_team_name', \n",
    "                                                                             'home_team_score': 'away_team_score', 'away_team_score': 'home_team_score', \n",
    "                                                                             'home_team_win': 'away_team_win', 'away_team_win': 'home_team_win'})])\n",
    "#Add a year field\n",
    "df_wc_winner_matchups['year'] = pd.to_numeric(df_wc_winner_matchups['tournament_id'].str.replace(\"WC-\", ''), downcast='integer', errors='coerce')\n",
    "\n",
    "df_wc_winner_matchups.head()"
   ]
  },
  {
   "cell_type": "code",
   "execution_count": 207,
   "metadata": {},
   "outputs": [
    {
     "data": {
      "text/html": [
       "<div>\n",
       "<style scoped>\n",
       "    .dataframe tbody tr th:only-of-type {\n",
       "        vertical-align: middle;\n",
       "    }\n",
       "\n",
       "    .dataframe tbody tr th {\n",
       "        vertical-align: top;\n",
       "    }\n",
       "\n",
       "    .dataframe thead th {\n",
       "        text-align: right;\n",
       "    }\n",
       "</style>\n",
       "<table border=\"1\" class=\"dataframe\">\n",
       "  <thead>\n",
       "    <tr style=\"text-align: right;\">\n",
       "      <th></th>\n",
       "      <th>goal_id</th>\n",
       "      <th>tournament_id</th>\n",
       "      <th>match_id</th>\n",
       "      <th>team_name</th>\n",
       "      <th>minute</th>\n",
       "    </tr>\n",
       "  </thead>\n",
       "  <tbody>\n",
       "    <tr>\n",
       "      <th>0</th>\n",
       "      <td>G-0001</td>\n",
       "      <td>WC-1930</td>\n",
       "      <td>M-1930-01</td>\n",
       "      <td>France</td>\n",
       "      <td>19.0</td>\n",
       "    </tr>\n",
       "    <tr>\n",
       "      <th>1</th>\n",
       "      <td>G-0002</td>\n",
       "      <td>WC-1930</td>\n",
       "      <td>M-1930-01</td>\n",
       "      <td>France</td>\n",
       "      <td>40.0</td>\n",
       "    </tr>\n",
       "    <tr>\n",
       "      <th>2</th>\n",
       "      <td>G-0003</td>\n",
       "      <td>WC-1930</td>\n",
       "      <td>M-1930-01</td>\n",
       "      <td>France</td>\n",
       "      <td>43.0</td>\n",
       "    </tr>\n",
       "    <tr>\n",
       "      <th>3</th>\n",
       "      <td>G-0004</td>\n",
       "      <td>WC-1930</td>\n",
       "      <td>M-1930-01</td>\n",
       "      <td>Mexico</td>\n",
       "      <td>70.0</td>\n",
       "    </tr>\n",
       "    <tr>\n",
       "      <th>4</th>\n",
       "      <td>G-0005</td>\n",
       "      <td>WC-1930</td>\n",
       "      <td>M-1930-01</td>\n",
       "      <td>France</td>\n",
       "      <td>87.0</td>\n",
       "    </tr>\n",
       "  </tbody>\n",
       "</table>\n",
       "</div>"
      ],
      "text/plain": [
       "  goal_id tournament_id   match_id team_name  minute\n",
       "0  G-0001       WC-1930  M-1930-01    France    19.0\n",
       "1  G-0002       WC-1930  M-1930-01    France    40.0\n",
       "2  G-0003       WC-1930  M-1930-01    France    43.0\n",
       "3  G-0004       WC-1930  M-1930-01    Mexico    70.0\n",
       "4  G-0005       WC-1930  M-1930-01    France    87.0"
      ]
     },
     "execution_count": 207,
     "metadata": {},
     "output_type": "execute_result"
    }
   ],
   "source": [
    "#Prepare data for Part 3 and 4\n",
    "\n",
    "#Simplify DataFrame so it lists at which minute teams scored a goal (own goals are ignored in this exercise)\n",
    "df_goals = df1[[\"goal_id\", \"tournament_id\", \"match_id\", \"team_name\", \"minute_label\"]]\n",
    "df_goals['minute'] = pd.to_numeric(df_goals['minute_label'].str.replace(\"'\", ''), downcast='integer', errors='coerce')\n",
    "df_goals = df_goals.drop(columns=[\"minute_label\"])\n",
    "\n",
    "df_goals.head()"
   ]
  },
  {
   "cell_type": "markdown",
   "metadata": {},
   "source": [
    "# Visualization 1: Goals of World Cup Winners since 1950\n",
    "\n",
    "We will replicate the following visualization: <br>\n",
    "<img src=\"https://raw.githubusercontent.com/grill/SI649-hw-interaction/main/line.png?raw=true\" alt=\"drawing\" width=\"500\"/>"
   ]
  },
  {
   "cell_type": "markdown",
   "metadata": {},
   "source": [
    "**Description of the visualization (interactivity):**\n",
    "1. When hovering over bars, the associated average score will show up as tooltips. <br>\n",
    "<img src=\"https://raw.githubusercontent.com/grill/SI649-hw-interaction/main/line_tooltip.gif?raw=true\" alt=\"drawing\" width=\"500\"/>\n",
    "2. Brushing over the bars will change the opacity of the bars.\n",
    "3. Brushing over the bars will generate different average score value lines. <br>\n",
    "<img src=\"https://raw.githubusercontent.com/grill/SI649-hw-interaction/main/line_hover.gif?raw=true\" alt=\"drawing\" width=\"500\"/>"
   ]
  },
  {
   "cell_type": "code",
   "execution_count": 208,
   "metadata": {},
   "outputs": [
    {
     "data": {
      "application/vnd.vegalite.v5+json": {
       "$schema": "https://vega.github.io/schema/vega-lite/v5.20.1.json",
       "config": {
        "view": {
         "continuousHeight": 300,
         "continuousWidth": 300
        }
       },
       "data": {
        "name": "data-21dc8d41befda26a4a19c35277ab92c0"
       },
       "datasets": {
        "data-21dc8d41befda26a4a19c35277ab92c0": [
         {
          "match_id": "M-1950-15",
          "score": 8,
          "team": "Uruguay",
          "tournament_id": "WC-1950",
          "winner": "Uruguay",
          "year": 1950
         },
         {
          "match_id": "M-1950-18",
          "score": 2,
          "team": "Uruguay",
          "tournament_id": "WC-1950",
          "winner": "Uruguay",
          "year": 1950
         },
         {
          "match_id": "M-1950-20",
          "score": 3,
          "team": "Uruguay",
          "tournament_id": "WC-1950",
          "winner": "Uruguay",
          "year": 1950
         },
         {
          "match_id": "M-1950-22",
          "score": 2,
          "team": "Uruguay",
          "tournament_id": "WC-1950",
          "winner": "Uruguay",
          "year": 1950
         },
         {
          "match_id": "M-1954-07",
          "score": 4,
          "team": "Germany",
          "tournament_id": "WC-1954",
          "winner": "Germany",
          "year": 1954
         },
         {
          "match_id": "M-1954-13",
          "score": 3,
          "team": "Germany",
          "tournament_id": "WC-1954",
          "winner": "Germany",
          "year": 1954
         },
         {
          "match_id": "M-1954-17",
          "score": 7,
          "team": "Germany",
          "tournament_id": "WC-1954",
          "winner": "Germany",
          "year": 1954
         },
         {
          "match_id": "M-1954-22",
          "score": 2,
          "team": "Germany",
          "tournament_id": "WC-1954",
          "winner": "Germany",
          "year": 1954
         },
         {
          "match_id": "M-1954-24",
          "score": 6,
          "team": "Germany",
          "tournament_id": "WC-1954",
          "winner": "Germany",
          "year": 1954
         },
         {
          "match_id": "M-1954-26",
          "score": 3,
          "team": "Germany",
          "tournament_id": "WC-1954",
          "winner": "Germany",
          "year": 1954
         },
         {
          "match_id": "M-1958-07",
          "score": 3,
          "team": "Brazil",
          "tournament_id": "WC-1958",
          "winner": "Brazil",
          "year": 1958
         },
         {
          "match_id": "M-1958-14",
          "score": 0,
          "team": "Brazil",
          "tournament_id": "WC-1958",
          "winner": "Brazil",
          "year": 1958
         },
         {
          "match_id": "M-1958-23",
          "score": 2,
          "team": "Brazil",
          "tournament_id": "WC-1958",
          "winner": "Brazil",
          "year": 1958
         },
         {
          "match_id": "M-1958-28",
          "score": 1,
          "team": "Brazil",
          "tournament_id": "WC-1958",
          "winner": "Brazil",
          "year": 1958
         },
         {
          "match_id": "M-1958-32",
          "score": 5,
          "team": "Brazil",
          "tournament_id": "WC-1958",
          "winner": "Brazil",
          "year": 1958
         },
         {
          "match_id": "M-1958-35",
          "score": 5,
          "team": "Brazil",
          "tournament_id": "WC-1958",
          "winner": "Brazil",
          "year": 1958
         },
         {
          "match_id": "M-1962-03",
          "score": 2,
          "team": "Brazil",
          "tournament_id": "WC-1962",
          "winner": "Brazil",
          "year": 1962
         },
         {
          "match_id": "M-1962-11",
          "score": 0,
          "team": "Brazil",
          "tournament_id": "WC-1962",
          "winner": "Brazil",
          "year": 1962
         },
         {
          "match_id": "M-1962-19",
          "score": 2,
          "team": "Brazil",
          "tournament_id": "WC-1962",
          "winner": "Brazil",
          "year": 1962
         },
         {
          "match_id": "M-1962-25",
          "score": 3,
          "team": "Brazil",
          "tournament_id": "WC-1962",
          "winner": "Brazil",
          "year": 1962
         },
         {
          "match_id": "M-1962-29",
          "score": 4,
          "team": "Brazil",
          "tournament_id": "WC-1962",
          "winner": "Brazil",
          "year": 1962
         },
         {
          "match_id": "M-1962-32",
          "score": 3,
          "team": "Brazil",
          "tournament_id": "WC-1962",
          "winner": "Brazil",
          "year": 1962
         },
         {
          "match_id": "M-1966-01",
          "score": 0,
          "team": "England",
          "tournament_id": "WC-1966",
          "winner": "England",
          "year": 1966
         },
         {
          "match_id": "M-1966-16",
          "score": 2,
          "team": "England",
          "tournament_id": "WC-1966",
          "winner": "England",
          "year": 1966
         },
         {
          "match_id": "M-1966-21",
          "score": 2,
          "team": "England",
          "tournament_id": "WC-1966",
          "winner": "England",
          "year": 1966
         },
         {
          "match_id": "M-1966-25",
          "score": 1,
          "team": "England",
          "tournament_id": "WC-1966",
          "winner": "England",
          "year": 1966
         },
         {
          "match_id": "M-1966-30",
          "score": 2,
          "team": "England",
          "tournament_id": "WC-1966",
          "winner": "England",
          "year": 1966
         },
         {
          "match_id": "M-1966-32",
          "score": 4,
          "team": "England",
          "tournament_id": "WC-1966",
          "winner": "England",
          "year": 1966
         },
         {
          "match_id": "M-1970-07",
          "score": 4,
          "team": "Brazil",
          "tournament_id": "WC-1970",
          "winner": "Brazil",
          "year": 1970
         },
         {
          "match_id": "M-1970-15",
          "score": 1,
          "team": "Brazil",
          "tournament_id": "WC-1970",
          "winner": "Brazil",
          "year": 1970
         },
         {
          "match_id": "M-1970-19",
          "score": 3,
          "team": "Brazil",
          "tournament_id": "WC-1970",
          "winner": "Brazil",
          "year": 1970
         },
         {
          "match_id": "M-1970-25",
          "score": 4,
          "team": "Brazil",
          "tournament_id": "WC-1970",
          "winner": "Brazil",
          "year": 1970
         },
         {
          "match_id": "M-1970-29",
          "score": 3,
          "team": "Brazil",
          "tournament_id": "WC-1970",
          "winner": "Brazil",
          "year": 1970
         },
         {
          "match_id": "M-1970-32",
          "score": 4,
          "team": "Brazil",
          "tournament_id": "WC-1970",
          "winner": "Brazil",
          "year": 1970
         },
         {
          "match_id": "M-1974-02",
          "score": 1,
          "team": "Germany",
          "tournament_id": "WC-1974",
          "winner": "Germany",
          "year": 1974
         },
         {
          "match_id": "M-1974-09",
          "score": 3,
          "team": "Germany",
          "tournament_id": "WC-1974",
          "winner": "Germany",
          "year": 1974
         },
         {
          "match_id": "M-1974-20",
          "score": 0,
          "team": "Germany",
          "tournament_id": "WC-1974",
          "winner": "Germany",
          "year": 1974
         },
         {
          "match_id": "M-1974-25",
          "score": 2,
          "team": "Germany",
          "tournament_id": "WC-1974",
          "winner": "Germany",
          "year": 1974
         },
         {
          "match_id": "M-1974-32",
          "score": 4,
          "team": "Germany",
          "tournament_id": "WC-1974",
          "winner": "Germany",
          "year": 1974
         },
         {
          "match_id": "M-1974-33",
          "score": 1,
          "team": "Germany",
          "tournament_id": "WC-1974",
          "winner": "Germany",
          "year": 1974
         },
         {
          "match_id": "M-1974-38",
          "score": 2,
          "team": "Germany",
          "tournament_id": "WC-1974",
          "winner": "Germany",
          "year": 1974
         },
         {
          "match_id": "M-1978-04",
          "score": 2,
          "team": "Argentina",
          "tournament_id": "WC-1978",
          "winner": "Argentina",
          "year": 1978
         },
         {
          "match_id": "M-1978-12",
          "score": 2,
          "team": "Argentina",
          "tournament_id": "WC-1978",
          "winner": "Argentina",
          "year": 1978
         },
         {
          "match_id": "M-1978-20",
          "score": 0,
          "team": "Argentina",
          "tournament_id": "WC-1978",
          "winner": "Argentina",
          "year": 1978
         },
         {
          "match_id": "M-1978-28",
          "score": 2,
          "team": "Argentina",
          "tournament_id": "WC-1978",
          "winner": "Argentina",
          "year": 1978
         },
         {
          "match_id": "M-1978-32",
          "score": 0,
          "team": "Argentina",
          "tournament_id": "WC-1978",
          "winner": "Argentina",
          "year": 1978
         },
         {
          "match_id": "M-1978-36",
          "score": 6,
          "team": "Argentina",
          "tournament_id": "WC-1978",
          "winner": "Argentina",
          "year": 1978
         },
         {
          "match_id": "M-1978-38",
          "score": 3,
          "team": "Argentina",
          "tournament_id": "WC-1978",
          "winner": "Argentina",
          "year": 1978
         },
         {
          "match_id": "M-1982-02",
          "score": 0,
          "team": "Italy",
          "tournament_id": "WC-1982",
          "winner": "Italy",
          "year": 1982
         },
         {
          "match_id": "M-1982-13",
          "score": 1,
          "team": "Italy",
          "tournament_id": "WC-1982",
          "winner": "Italy",
          "year": 1982
         },
         {
          "match_id": "M-1982-28",
          "score": 1,
          "team": "Italy",
          "tournament_id": "WC-1982",
          "winner": "Italy",
          "year": 1982
         },
         {
          "match_id": "M-1982-39",
          "score": 2,
          "team": "Italy",
          "tournament_id": "WC-1982",
          "winner": "Italy",
          "year": 1982
         },
         {
          "match_id": "M-1982-47",
          "score": 3,
          "team": "Italy",
          "tournament_id": "WC-1982",
          "winner": "Italy",
          "year": 1982
         },
         {
          "match_id": "M-1982-49",
          "score": 2,
          "team": "Italy",
          "tournament_id": "WC-1982",
          "winner": "Italy",
          "year": 1982
         },
         {
          "match_id": "M-1982-52",
          "score": 3,
          "team": "Italy",
          "tournament_id": "WC-1982",
          "winner": "Italy",
          "year": 1982
         },
         {
          "match_id": "M-1986-04",
          "score": 3,
          "team": "Argentina",
          "tournament_id": "WC-1986",
          "winner": "Argentina",
          "year": 1986
         },
         {
          "match_id": "M-1986-13",
          "score": 1,
          "team": "Argentina",
          "tournament_id": "WC-1986",
          "winner": "Argentina",
          "year": 1986
         },
         {
          "match_id": "M-1986-27",
          "score": 2,
          "team": "Argentina",
          "tournament_id": "WC-1986",
          "winner": "Argentina",
          "year": 1986
         },
         {
          "match_id": "M-1986-40",
          "score": 1,
          "team": "Argentina",
          "tournament_id": "WC-1986",
          "winner": "Argentina",
          "year": 1986
         },
         {
          "match_id": "M-1986-47",
          "score": 2,
          "team": "Argentina",
          "tournament_id": "WC-1986",
          "winner": "Argentina",
          "year": 1986
         },
         {
          "match_id": "M-1986-50",
          "score": 2,
          "team": "Argentina",
          "tournament_id": "WC-1986",
          "winner": "Argentina",
          "year": 1986
         },
         {
          "match_id": "M-1986-52",
          "score": 3,
          "team": "Argentina",
          "tournament_id": "WC-1986",
          "winner": "Argentina",
          "year": 1986
         },
         {
          "match_id": "M-1990-07",
          "score": 4,
          "team": "Germany",
          "tournament_id": "WC-1990",
          "winner": "Germany",
          "year": 1990
         },
         {
          "match_id": "M-1990-18",
          "score": 5,
          "team": "Germany",
          "tournament_id": "WC-1990",
          "winner": "Germany",
          "year": 1990
         },
         {
          "match_id": "M-1990-27",
          "score": 1,
          "team": "Germany",
          "tournament_id": "WC-1990",
          "winner": "Germany",
          "year": 1990
         },
         {
          "match_id": "M-1990-40",
          "score": 2,
          "team": "Germany",
          "tournament_id": "WC-1990",
          "winner": "Germany",
          "year": 1990
         },
         {
          "match_id": "M-1990-47",
          "score": 1,
          "team": "Germany",
          "tournament_id": "WC-1990",
          "winner": "Germany",
          "year": 1990
         },
         {
          "match_id": "M-1990-50",
          "score": 1,
          "team": "Germany",
          "tournament_id": "WC-1990",
          "winner": "Germany",
          "year": 1990
         },
         {
          "match_id": "M-1990-52",
          "score": 1,
          "team": "Germany",
          "tournament_id": "WC-1990",
          "winner": "Germany",
          "year": 1990
         },
         {
          "match_id": "M-1994-09",
          "score": 2,
          "team": "Brazil",
          "tournament_id": "WC-1994",
          "winner": "Brazil",
          "year": 1994
         },
         {
          "match_id": "M-1994-19",
          "score": 3,
          "team": "Brazil",
          "tournament_id": "WC-1994",
          "winner": "Brazil",
          "year": 1994
         },
         {
          "match_id": "M-1994-32",
          "score": 1,
          "team": "Brazil",
          "tournament_id": "WC-1994",
          "winner": "Brazil",
          "year": 1994
         },
         {
          "match_id": "M-1994-42",
          "score": 1,
          "team": "Brazil",
          "tournament_id": "WC-1994",
          "winner": "Brazil",
          "year": 1994
         },
         {
          "match_id": "M-1994-46",
          "score": 3,
          "team": "Brazil",
          "tournament_id": "WC-1994",
          "winner": "Brazil",
          "year": 1994
         },
         {
          "match_id": "M-1994-50",
          "score": 1,
          "team": "Brazil",
          "tournament_id": "WC-1994",
          "winner": "Brazil",
          "year": 1994
         },
         {
          "match_id": "M-1994-52",
          "score": 0,
          "team": "Brazil",
          "tournament_id": "WC-1994",
          "winner": "Brazil",
          "year": 1994
         },
         {
          "match_id": "M-1998-07",
          "score": 3,
          "team": "France",
          "tournament_id": "WC-1998",
          "winner": "France",
          "year": 1998
         },
         {
          "match_id": "M-1998-22",
          "score": 4,
          "team": "France",
          "tournament_id": "WC-1998",
          "winner": "France",
          "year": 1998
         },
         {
          "match_id": "M-1998-37",
          "score": 2,
          "team": "France",
          "tournament_id": "WC-1998",
          "winner": "France",
          "year": 1998
         },
         {
          "match_id": "M-1998-51",
          "score": 1,
          "team": "France",
          "tournament_id": "WC-1998",
          "winner": "France",
          "year": 1998
         },
         {
          "match_id": "M-1998-57",
          "score": 0,
          "team": "France",
          "tournament_id": "WC-1998",
          "winner": "France",
          "year": 1998
         },
         {
          "match_id": "M-1998-62",
          "score": 2,
          "team": "France",
          "tournament_id": "WC-1998",
          "winner": "France",
          "year": 1998
         },
         {
          "match_id": "M-1998-64",
          "score": 3,
          "team": "France",
          "tournament_id": "WC-1998",
          "winner": "France",
          "year": 1998
         },
         {
          "match_id": "M-2002-10",
          "score": 2,
          "team": "Brazil",
          "tournament_id": "WC-2002",
          "winner": "Brazil",
          "year": 2002
         },
         {
          "match_id": "M-2002-26",
          "score": 4,
          "team": "Brazil",
          "tournament_id": "WC-2002",
          "winner": "Brazil",
          "year": 2002
         },
         {
          "match_id": "M-2002-41",
          "score": 5,
          "team": "Brazil",
          "tournament_id": "WC-2002",
          "winner": "Brazil",
          "year": 2002
         },
         {
          "match_id": "M-2002-54",
          "score": 2,
          "team": "Brazil",
          "tournament_id": "WC-2002",
          "winner": "Brazil",
          "year": 2002
         },
         {
          "match_id": "M-2002-57",
          "score": 2,
          "team": "Brazil",
          "tournament_id": "WC-2002",
          "winner": "Brazil",
          "year": 2002
         },
         {
          "match_id": "M-2002-62",
          "score": 1,
          "team": "Brazil",
          "tournament_id": "WC-2002",
          "winner": "Brazil",
          "year": 2002
         },
         {
          "match_id": "M-2002-64",
          "score": 2,
          "team": "Brazil",
          "tournament_id": "WC-2002",
          "winner": "Brazil",
          "year": 2002
         },
         {
          "match_id": "M-2006-11",
          "score": 2,
          "team": "Italy",
          "tournament_id": "WC-2006",
          "winner": "Italy",
          "year": 2006
         },
         {
          "match_id": "M-2006-26",
          "score": 1,
          "team": "Italy",
          "tournament_id": "WC-2006",
          "winner": "Italy",
          "year": 2006
         },
         {
          "match_id": "M-2006-41",
          "score": 2,
          "team": "Italy",
          "tournament_id": "WC-2006",
          "winner": "Italy",
          "year": 2006
         },
         {
          "match_id": "M-2006-53",
          "score": 1,
          "team": "Italy",
          "tournament_id": "WC-2006",
          "winner": "Italy",
          "year": 2006
         },
         {
          "match_id": "M-2006-58",
          "score": 3,
          "team": "Italy",
          "tournament_id": "WC-2006",
          "winner": "Italy",
          "year": 2006
         },
         {
          "match_id": "M-2006-61",
          "score": 2,
          "team": "Italy",
          "tournament_id": "WC-2006",
          "winner": "Italy",
          "year": 2006
         },
         {
          "match_id": "M-2006-64",
          "score": 1,
          "team": "Italy",
          "tournament_id": "WC-2006",
          "winner": "Italy",
          "year": 2006
         },
         {
          "match_id": "M-2010-16",
          "score": 0,
          "team": "Spain",
          "tournament_id": "WC-2010",
          "winner": "Spain",
          "year": 2010
         },
         {
          "match_id": "M-2010-32",
          "score": 2,
          "team": "Spain",
          "tournament_id": "WC-2010",
          "winner": "Spain",
          "year": 2010
         },
         {
          "match_id": "M-2010-47",
          "score": 2,
          "team": "Spain",
          "tournament_id": "WC-2010",
          "winner": "Spain",
          "year": 2010
         },
         {
          "match_id": "M-2010-56",
          "score": 1,
          "team": "Spain",
          "tournament_id": "WC-2010",
          "winner": "Spain",
          "year": 2010
         },
         {
          "match_id": "M-2010-60",
          "score": 1,
          "team": "Spain",
          "tournament_id": "WC-2010",
          "winner": "Spain",
          "year": 2010
         },
         {
          "match_id": "M-2010-62",
          "score": 1,
          "team": "Spain",
          "tournament_id": "WC-2010",
          "winner": "Spain",
          "year": 2010
         },
         {
          "match_id": "M-2010-64",
          "score": 1,
          "team": "Spain",
          "tournament_id": "WC-2010",
          "winner": "Spain",
          "year": 2010
         },
         {
          "match_id": "M-2014-12",
          "score": 4,
          "team": "Germany",
          "tournament_id": "WC-2014",
          "winner": "Germany",
          "year": 2014
         },
         {
          "match_id": "M-2014-28",
          "score": 2,
          "team": "Germany",
          "tournament_id": "WC-2014",
          "winner": "Germany",
          "year": 2014
         },
         {
          "match_id": "M-2014-46",
          "score": 1,
          "team": "Germany",
          "tournament_id": "WC-2014",
          "winner": "Germany",
          "year": 2014
         },
         {
          "match_id": "M-2014-54",
          "score": 2,
          "team": "Germany",
          "tournament_id": "WC-2014",
          "winner": "Germany",
          "year": 2014
         },
         {
          "match_id": "M-2014-57",
          "score": 1,
          "team": "Germany",
          "tournament_id": "WC-2014",
          "winner": "Germany",
          "year": 2014
         },
         {
          "match_id": "M-2014-61",
          "score": 7,
          "team": "Germany",
          "tournament_id": "WC-2014",
          "winner": "Germany",
          "year": 2014
         },
         {
          "match_id": "M-2014-64",
          "score": 1,
          "team": "Germany",
          "tournament_id": "WC-2014",
          "winner": "Germany",
          "year": 2014
         },
         {
          "match_id": "M-2018-05",
          "score": 2,
          "team": "France",
          "tournament_id": "WC-2018",
          "winner": "France",
          "year": 2018
         },
         {
          "match_id": "M-2018-22",
          "score": 1,
          "team": "France",
          "tournament_id": "WC-2018",
          "winner": "France",
          "year": 2018
         },
         {
          "match_id": "M-2018-38",
          "score": 0,
          "team": "France",
          "tournament_id": "WC-2018",
          "winner": "France",
          "year": 2018
         },
         {
          "match_id": "M-2018-49",
          "score": 4,
          "team": "France",
          "tournament_id": "WC-2018",
          "winner": "France",
          "year": 2018
         },
         {
          "match_id": "M-2018-57",
          "score": 2,
          "team": "France",
          "tournament_id": "WC-2018",
          "winner": "France",
          "year": 2018
         },
         {
          "match_id": "M-2018-61",
          "score": 1,
          "team": "France",
          "tournament_id": "WC-2018",
          "winner": "France",
          "year": 2018
         },
         {
          "match_id": "M-2018-64",
          "score": 4,
          "team": "France",
          "tournament_id": "WC-2018",
          "winner": "France",
          "year": 2018
         },
         {
          "match_id": "M-2022-05",
          "score": 1,
          "team": "Argentina",
          "tournament_id": "WC-2022",
          "winner": "Argentina",
          "year": 2022
         },
         {
          "match_id": "M-2022-24",
          "score": 2,
          "team": "Argentina",
          "tournament_id": "WC-2022",
          "winner": "Argentina",
          "year": 2022
         },
         {
          "match_id": "M-2022-39",
          "score": 2,
          "team": "Argentina",
          "tournament_id": "WC-2022",
          "winner": "Argentina",
          "year": 2022
         },
         {
          "match_id": "M-2022-50",
          "score": 2,
          "team": "Argentina",
          "tournament_id": "WC-2022",
          "winner": "Argentina",
          "year": 2022
         },
         {
          "match_id": "M-2022-58",
          "score": 2,
          "team": "Argentina",
          "tournament_id": "WC-2022",
          "winner": "Argentina",
          "year": 2022
         },
         {
          "match_id": "M-2022-61",
          "score": 3,
          "team": "Argentina",
          "tournament_id": "WC-2022",
          "winner": "Argentina",
          "year": 2022
         },
         {
          "match_id": "M-2022-64",
          "score": 3,
          "team": "Argentina",
          "tournament_id": "WC-2022",
          "winner": "Argentina",
          "year": 2022
         }
        ]
       },
       "height": 500,
       "layer": [
        {
         "encoding": {
          "opacity": {
           "condition": {
            "param": "param_45",
            "value": 1
           },
           "value": 0.6
          },
          "tooltip": {
           "field": "mean_goals",
           "format": ".2f",
           "type": "quantitative"
          },
          "x": {
           "axis": {
            "labels": true,
            "title": null
           },
           "field": "mean_goals",
           "type": "quantitative"
          },
          "y": {
           "axis": {
            "labels": true,
            "title": null
           },
           "field": "winner_year",
           "type": "nominal"
          }
         },
         "mark": {
          "height": 15,
          "opacity": 0.6,
          "type": "bar"
         },
         "name": "view_57",
         "title": "Goals of World Cup Winner since 1950",
         "transform": [
          {
           "aggregate": [
            {
             "as": "mean_goals",
             "field": "score",
             "op": "mean"
            }
           ],
           "groupby": [
            "winner",
            "year"
           ]
          },
          {
           "as": "winner_year",
           "calculate": "datum.year + \" \" + datum.winner"
          }
         ]
        },
        {
         "encoding": {
          "x": {
           "field": "mean_score",
           "type": "quantitative"
          }
         },
         "mark": {
          "color": "firebrick",
          "size": 3,
          "type": "rule"
         },
         "transform": [
          {
           "as": "winner_year",
           "calculate": "datum.year + \" \" + datum.winner"
          },
          {
           "filter": {
            "param": "param_45"
           }
          },
          {
           "aggregate": [
            {
             "as": "mean_score",
             "field": "score",
             "op": "mean"
            }
           ]
          }
         ]
        },
        {
         "encoding": {
          "text": {
           "field": "mean_score",
           "format": ".2f",
           "type": "quantitative"
          },
          "x": {
           "field": "mean_score",
           "type": "quantitative"
          }
         },
         "mark": {
          "align": "left",
          "color": "firebrick",
          "dx": 7,
          "fontSize": 12,
          "type": "text"
         },
         "transform": [
          {
           "as": "winner_year",
           "calculate": "datum.year + \" \" + datum.winner"
          },
          {
           "filter": {
            "param": "param_45"
           }
          },
          {
           "aggregate": [
            {
             "as": "mean_score",
             "field": "score",
             "op": "mean"
            }
           ]
          }
         ]
        }
       ],
       "params": [
        {
         "name": "param_45",
         "select": {
          "encodings": [
           "y"
          ],
          "type": "interval"
         },
         "views": [
          "view_57"
         ]
        }
       ],
       "width": 700
      },
      "text/plain": [
       "<VegaLite 5 object>\n",
       "\n",
       "If you see this message, it means the renderer has not been properly enabled\n",
       "for the frontend that you are using. For more information, see\n",
       "https://altair-viz.github.io/user_guide/display_frontends.html#troubleshooting\n"
      ]
     },
     "execution_count": 208,
     "metadata": {},
     "output_type": "execute_result"
    }
   ],
   "source": [
    "##TODO: replicate vis 1 \n",
    "df_goals_winners_per_match_filtered = df_goals_winners_per_match[df_goals_winners_per_match['team'] == df_goals_winners_per_match['winner']]\n",
    "\n",
    "##base chart (define calculated and aggregated fields needed across all charts)\n",
    "barchart1_1 = alt.Chart(df_goals_winners_per_match_filtered).transform_aggregate(\n",
    "    mean_goals='mean(score)',\n",
    "    groupby=['winner', 'year'] \n",
    ").transform_calculate(\n",
    "    winner_year='datum.year + \" \" + datum.winner'\n",
    ").mark_bar(opacity=0.6, height=15).encode(\n",
    "    alt.X('mean_goals:Q', axis=alt.Axis(labels=True, title=None)),\n",
    "    alt.Y('winner_year:N', axis=alt.Axis(labels=True, title=None)),\n",
    "    alt.Tooltip('mean_goals:Q', format='.2f')\n",
    ").properties(\n",
    "    title='Goals of World Cup Winner since 1950',\n",
    "    height = 500,\n",
    "    width = 700,\n",
    ")\n",
    "\n",
    "##Create selections\n",
    "selection1 = alt.selection_interval(encodings=[\"y\"])\n",
    "condition1 = alt.condition(selection1, alt.value(1.0), alt.value(0.6))\n",
    "\n",
    "##Static Component - Bars\n",
    "\n",
    "##Static Component - Vertical Line\n",
    "vline1_1 = (\n",
    "    alt.Chart(df_goals_winners_per_match_filtered)\n",
    "    .transform_calculate(\n",
    "        winner_year='datum.year + \" \" + datum.winner'\n",
    "    )\n",
    "    .transform_filter(selection1)          # 只過濾被選到的資料\n",
    "    .transform_aggregate(\n",
    "        mean_score='mean(score)'\n",
    "    )\n",
    "    .mark_rule(size=3, color=\"firebrick\")\n",
    "    .encode(\n",
    "        alt.X('mean_score:Q')\n",
    "    )\n",
    ")\n",
    "##Static Component - Text\n",
    "\n",
    "text1_1 = (\n",
    "    vline1_1\n",
    "    .mark_text(\n",
    "        color='firebrick',\n",
    "        fontSize=12,\n",
    "        align='left',\n",
    "        dx=7\n",
    "    )\n",
    "    .encode(\n",
    "        alt.Text('mean_score:Q', format='.2f')\n",
    "    )\n",
    ")\n",
    "\n",
    "##Put all together\n",
    "barchart1_2 = barchart1_1.add_params(selection1).encode(\n",
    "    opacity = condition1\n",
    ")\n",
    "\n",
    "\n",
    "final_viz1 = barchart1_2 + vline1_1 + text1_1\n",
    "final_viz1"
   ]
  },
  {
   "cell_type": "markdown",
   "metadata": {},
   "source": [
    "# Visualization 2: Matchups of World Cup winners\n",
    "\n",
    "We will replicate the following visualization: <br>\n",
    "<img src=\"https://raw.githubusercontent.com/grill/SI649-hw-interaction/main/heat.png?raw=true\" alt=\"drawing\" width=\"500\"/>\n",
    "\n",
    "**Description of the visualization (static):**\n",
    "*   Use *df_wc_winner_matchups* for this exercise\n",
    "*   This visualization has 2 components: **heatmap** and **text charts** \n",
    "*   Look in the example gallery for inspiration for how to build the 1st and 2nd component (especially in sections \"Simple Charts\", \"Advanced Calculations\" and \"Case Studies\"): https://altair-viz.github.io/gallery/"
   ]
  },
  {
   "cell_type": "markdown",
   "metadata": {},
   "source": [
    "**Description of the visualization (interactivity):**\n",
    "1. When brushing over colored boxes in the heatmap, the associated text will be filtered/updated. <br>\n",
    "<img src=\"https://raw.githubusercontent.com/grill/SI649-hw-interaction/main/heat_interaction.gif?raw=true\" alt=\"drawing\" width=\"500\"/>"
   ]
  },
  {
   "cell_type": "code",
   "execution_count": 209,
   "metadata": {},
   "outputs": [
    {
     "data": {
      "application/vnd.vegalite.v5+json": {
       "$schema": "https://vega.github.io/schema/vega-lite/v5.20.1.json",
       "config": {
        "view": {
         "continuousHeight": 300,
         "continuousWidth": 300
        }
       },
       "data": {
        "name": "data-d6559eb26081035a4e1a3ea4aa1fe3ba"
       },
       "datasets": {
        "data-d6559eb26081035a4e1a3ea4aa1fe3ba": [
         {
          "TotalWin_A": 0,
          "TotalWin_B": 2,
          "match_id": "M-1950-13",
          "match_info": "1950 (0 : 1)",
          "matchup": "England vs Spain",
          "teamA": "England",
          "teamA_score": 0,
          "teamA_win": 0,
          "teamB": "Spain",
          "teamB_score": 1,
          "teamB_win": 1,
          "tournament_id": "WC-1950",
          "win_diff": 2,
          "year": 1950
         },
         {
          "TotalWin_A": 0,
          "TotalWin_B": 0,
          "match_id": "M-1950-18",
          "match_info": "1950 (2 : 2)",
          "matchup": "Spain vs Uruguay",
          "teamA": "Spain",
          "teamA_score": 2,
          "teamA_win": 0,
          "teamB": "Uruguay",
          "teamB_score": 2,
          "teamB_win": 0,
          "tournament_id": "WC-1950",
          "win_diff": 0,
          "year": 1950
         },
         {
          "TotalWin_A": 6,
          "TotalWin_B": 0,
          "match_id": "M-1950-19",
          "match_info": "1950 (6 : 1)",
          "matchup": "Brazil vs Spain",
          "teamA": "Brazil",
          "teamA_score": 6,
          "teamA_win": 1,
          "teamB": "Spain",
          "teamB_score": 1,
          "teamB_win": 0,
          "tournament_id": "WC-1950",
          "win_diff": -6,
          "year": 1950
         },
         {
          "TotalWin_A": 2,
          "TotalWin_B": 2,
          "match_id": "M-1950-22",
          "match_info": "1950 (1 : 2)",
          "matchup": "Brazil vs Uruguay",
          "teamA": "Brazil",
          "teamA_score": 1,
          "teamA_win": 0,
          "teamB": "Uruguay",
          "teamB_score": 2,
          "teamB_win": 1,
          "tournament_id": "WC-1950",
          "win_diff": 0,
          "year": 1950
         },
         {
          "TotalWin_A": 0,
          "TotalWin_B": 4,
          "match_id": "M-1954-20",
          "match_info": "1954 (2 : 4)",
          "matchup": "England vs Uruguay",
          "teamA": "England",
          "teamA_score": 2,
          "teamA_win": 0,
          "teamB": "Uruguay",
          "teamB_score": 4,
          "teamB_win": 1,
          "tournament_id": "WC-1954",
          "win_diff": 4,
          "year": 1954
         },
         {
          "TotalWin_A": 2,
          "TotalWin_B": 10,
          "match_id": "M-1958-02",
          "match_info": "1958 (1 : 3)",
          "matchup": "Argentina vs Germany",
          "teamA": "Argentina",
          "teamA_score": 1,
          "teamA_win": 0,
          "teamB": "Germany",
          "teamB_score": 3,
          "teamB_win": 1,
          "tournament_id": "WC-1958",
          "win_diff": 8,
          "year": 1958
         },
         {
          "TotalWin_A": 6,
          "TotalWin_B": 0,
          "match_id": "M-1958-14",
          "match_info": "1958 (0 : 0)",
          "matchup": "Brazil vs England",
          "teamA": "Brazil",
          "teamA_score": 0,
          "teamA_win": 0,
          "teamB": "England",
          "teamB_score": 0,
          "teamB_win": 0,
          "tournament_id": "WC-1958",
          "win_diff": -6,
          "year": 1958
         },
         {
          "TotalWin_A": 2,
          "TotalWin_B": 6,
          "match_id": "M-1958-32",
          "match_info": "1958 (5 : 2)",
          "matchup": "Brazil vs France",
          "teamA": "Brazil",
          "teamA_score": 5,
          "teamA_win": 1,
          "teamB": "France",
          "teamB_score": 2,
          "teamB_win": 0,
          "tournament_id": "WC-1958",
          "win_diff": 4,
          "year": 1958
         },
         {
          "TotalWin_A": 2,
          "TotalWin_B": 6,
          "match_id": "M-1958-34",
          "match_info": "1958 (6 : 3)",
          "matchup": "France vs Germany",
          "teamA": "France",
          "teamA_score": 6,
          "teamA_win": 1,
          "teamB": "Germany",
          "teamB_score": 3,
          "teamB_win": 0,
          "tournament_id": "WC-1958",
          "win_diff": 4,
          "year": 1958
         },
         {
          "TotalWin_A": 0,
          "TotalWin_B": 6,
          "match_id": "M-1962-06",
          "match_info": "1962 (0 : 0)",
          "matchup": "Germany vs Italy",
          "teamA": "Germany",
          "teamA_score": 0,
          "teamA_win": 0,
          "teamB": "Italy",
          "teamB_score": 0,
          "teamB_win": 0,
          "tournament_id": "WC-1962",
          "win_diff": 6,
          "year": 1962
         },
         {
          "TotalWin_A": 4,
          "TotalWin_B": 6,
          "match_id": "M-1962-12",
          "match_info": "1962 (1 : 3)",
          "matchup": "Argentina vs England",
          "teamA": "Argentina",
          "teamA_score": 1,
          "teamA_win": 0,
          "teamB": "England",
          "teamB_score": 3,
          "teamB_win": 1,
          "tournament_id": "WC-1962",
          "win_diff": 2,
          "year": 1962
         },
         {
          "TotalWin_A": 6,
          "TotalWin_B": 0,
          "match_id": "M-1962-19",
          "match_info": "1962 (2 : 1)",
          "matchup": "Brazil vs Spain",
          "teamA": "Brazil",
          "teamA_score": 2,
          "teamA_win": 1,
          "teamB": "Spain",
          "teamB_score": 1,
          "teamB_win": 0,
          "tournament_id": "WC-1962",
          "win_diff": -6,
          "year": 1962
         },
         {
          "TotalWin_A": 6,
          "TotalWin_B": 0,
          "match_id": "M-1962-25",
          "match_info": "1962 (3 : 1)",
          "matchup": "Brazil vs England",
          "teamA": "Brazil",
          "teamA_score": 3,
          "teamA_win": 1,
          "teamB": "England",
          "teamB_score": 1,
          "teamB_win": 0,
          "tournament_id": "WC-1962",
          "win_diff": -6,
          "year": 1962
         },
         {
          "TotalWin_A": 0,
          "TotalWin_B": 4,
          "match_id": "M-1966-01",
          "match_info": "1966 (0 : 0)",
          "matchup": "England vs Uruguay",
          "teamA": "England",
          "teamA_score": 0,
          "teamA_win": 0,
          "teamB": "Uruguay",
          "teamB_score": 0,
          "teamB_win": 0,
          "tournament_id": "WC-1966",
          "win_diff": 4,
          "year": 1966
         },
         {
          "TotalWin_A": 2,
          "TotalWin_B": 0,
          "match_id": "M-1966-06",
          "match_info": "1966 (2 : 1)",
          "matchup": "Argentina vs Spain",
          "teamA": "Argentina",
          "teamA_score": 2,
          "teamA_win": 1,
          "teamB": "Spain",
          "teamB_score": 1,
          "teamB_win": 0,
          "tournament_id": "WC-1966",
          "win_diff": -2,
          "year": 1966
         },
         {
          "TotalWin_A": 2,
          "TotalWin_B": 2,
          "match_id": "M-1966-09",
          "match_info": "1966 (1 : 2)",
          "matchup": "France vs Uruguay",
          "teamA": "France",
          "teamA_score": 1,
          "teamA_win": 0,
          "teamB": "Uruguay",
          "teamB_score": 2,
          "teamB_win": 1,
          "tournament_id": "WC-1966",
          "win_diff": 0,
          "year": 1966
         },
         {
          "TotalWin_A": 2,
          "TotalWin_B": 10,
          "match_id": "M-1966-13",
          "match_info": "1966 (0 : 0)",
          "matchup": "Argentina vs Germany",
          "teamA": "Argentina",
          "teamA_score": 0,
          "teamA_win": 0,
          "teamB": "Germany",
          "teamB_score": 0,
          "teamB_win": 0,
          "tournament_id": "WC-1966",
          "win_diff": 8,
          "year": 1966
         },
         {
          "TotalWin_A": 4,
          "TotalWin_B": 2,
          "match_id": "M-1966-21",
          "match_info": "1966 (2 : 0)",
          "matchup": "England vs France",
          "teamA": "England",
          "teamA_score": 2,
          "teamA_win": 1,
          "teamB": "France",
          "teamB_score": 0,
          "teamB_win": 0,
          "tournament_id": "WC-1966",
          "win_diff": -2,
          "year": 1966
         },
         {
          "TotalWin_A": 4,
          "TotalWin_B": 2,
          "match_id": "M-1966-22",
          "match_info": "1966 (2 : 1)",
          "matchup": "Germany vs Spain",
          "teamA": "Germany",
          "teamA_score": 2,
          "teamA_win": 1,
          "teamB": "Spain",
          "teamB_score": 1,
          "teamB_win": 0,
          "tournament_id": "WC-1966",
          "win_diff": -2,
          "year": 1966
         },
         {
          "TotalWin_A": 4,
          "TotalWin_B": 6,
          "match_id": "M-1966-25",
          "match_info": "1966 (0 : 1)",
          "matchup": "Argentina vs England",
          "teamA": "Argentina",
          "teamA_score": 0,
          "teamA_win": 0,
          "teamB": "England",
          "teamB_score": 1,
          "teamB_win": 1,
          "tournament_id": "WC-1966",
          "win_diff": 2,
          "year": 1966
         },
         {
          "TotalWin_A": 6,
          "TotalWin_B": 0,
          "match_id": "M-1966-28",
          "match_info": "1966 (4 : 0)",
          "matchup": "Germany vs Uruguay",
          "teamA": "Germany",
          "teamA_score": 4,
          "teamA_win": 1,
          "teamB": "Uruguay",
          "teamB_score": 0,
          "teamB_win": 0,
          "tournament_id": "WC-1966",
          "win_diff": -6,
          "year": 1966
         },
         {
          "TotalWin_A": 2,
          "TotalWin_B": 6,
          "match_id": "M-1966-32",
          "match_info": "1966 (4 : 2)",
          "matchup": "England vs Germany",
          "teamA": "England",
          "teamA_score": 4,
          "teamA_win": 1,
          "teamB": "Germany",
          "teamB_score": 2,
          "teamB_win": 0,
          "tournament_id": "WC-1966",
          "win_diff": 4,
          "year": 1966
         },
         {
          "TotalWin_A": 2,
          "TotalWin_B": 2,
          "match_id": "M-1970-10",
          "match_info": "1970 (0 : 0)",
          "matchup": "Italy vs Uruguay",
          "teamA": "Italy",
          "teamA_score": 0,
          "teamA_win": 0,
          "teamB": "Uruguay",
          "teamB_score": 0,
          "teamB_win": 0,
          "tournament_id": "WC-1970",
          "win_diff": 0,
          "year": 1970
         },
         {
          "TotalWin_A": 6,
          "TotalWin_B": 0,
          "match_id": "M-1970-15",
          "match_info": "1970 (1 : 0)",
          "matchup": "Brazil vs England",
          "teamA": "Brazil",
          "teamA_score": 1,
          "teamA_win": 1,
          "teamB": "England",
          "teamB_score": 0,
          "teamB_win": 0,
          "tournament_id": "WC-1970",
          "win_diff": -6,
          "year": 1970
         },
         {
          "TotalWin_A": 2,
          "TotalWin_B": 6,
          "match_id": "M-1970-28",
          "match_info": "1970 (2 : 3)",
          "matchup": "England vs Germany",
          "teamA": "England",
          "teamA_score": 2,
          "teamA_win": 0,
          "teamB": "Germany",
          "teamB_score": 3,
          "teamB_win": 1,
          "tournament_id": "WC-1970",
          "win_diff": 4,
          "year": 1970
         },
         {
          "TotalWin_A": 2,
          "TotalWin_B": 2,
          "match_id": "M-1970-29",
          "match_info": "1970 (3 : 1)",
          "matchup": "Brazil vs Uruguay",
          "teamA": "Brazil",
          "teamA_score": 3,
          "teamA_win": 1,
          "teamB": "Uruguay",
          "teamB_score": 1,
          "teamB_win": 0,
          "tournament_id": "WC-1970",
          "win_diff": 0,
          "year": 1970
         },
         {
          "TotalWin_A": 0,
          "TotalWin_B": 6,
          "match_id": "M-1970-30",
          "match_info": "1970 (3 : 4)",
          "matchup": "Germany vs Italy",
          "teamA": "Germany",
          "teamA_score": 3,
          "teamA_win": 0,
          "teamB": "Italy",
          "teamB_score": 4,
          "teamB_win": 1,
          "tournament_id": "WC-1970",
          "win_diff": 6,
          "year": 1970
         },
         {
          "TotalWin_A": 6,
          "TotalWin_B": 0,
          "match_id": "M-1970-31",
          "match_info": "1970 (1 : 0)",
          "matchup": "Germany vs Uruguay",
          "teamA": "Germany",
          "teamA_score": 1,
          "teamA_win": 1,
          "teamB": "Uruguay",
          "teamB_score": 0,
          "teamB_win": 0,
          "tournament_id": "WC-1970",
          "win_diff": -6,
          "year": 1970
         },
         {
          "TotalWin_A": 6,
          "TotalWin_B": 2,
          "match_id": "M-1970-32",
          "match_info": "1970 (4 : 1)",
          "matchup": "Brazil vs Italy",
          "teamA": "Brazil",
          "teamA_score": 4,
          "teamA_win": 1,
          "teamB": "Italy",
          "teamB_score": 1,
          "teamB_win": 0,
          "tournament_id": "WC-1970",
          "win_diff": -4,
          "year": 1970
         },
         {
          "TotalWin_A": 2,
          "TotalWin_B": 4,
          "match_id": "M-1974-15",
          "match_info": "1974 (1 : 1)",
          "matchup": "Argentina vs Italy",
          "teamA": "Argentina",
          "teamA_score": 1,
          "teamA_win": 0,
          "teamB": "Italy",
          "teamB_score": 1,
          "teamB_win": 0,
          "tournament_id": "WC-1974",
          "win_diff": 2,
          "year": 1974
         },
         {
          "TotalWin_A": 2,
          "TotalWin_B": 4,
          "match_id": "M-1974-29",
          "match_info": "1974 (1 : 2)",
          "matchup": "Argentina vs Brazil",
          "teamA": "Argentina",
          "teamA_score": 1,
          "teamA_win": 0,
          "teamB": "Brazil",
          "teamB_score": 2,
          "teamB_win": 1,
          "tournament_id": "WC-1974",
          "win_diff": 2,
          "year": 1974
         },
         {
          "TotalWin_A": 4,
          "TotalWin_B": 4,
          "match_id": "M-1978-02",
          "match_info": "1978 (1 : 2)",
          "matchup": "France vs Italy",
          "teamA": "France",
          "teamA_score": 1,
          "teamA_win": 0,
          "teamB": "Italy",
          "teamB_score": 2,
          "teamB_win": 1,
          "tournament_id": "WC-1978",
          "win_diff": 0,
          "year": 1978
         },
         {
          "TotalWin_A": 4,
          "TotalWin_B": 2,
          "match_id": "M-1978-12",
          "match_info": "1978 (2 : 1)",
          "matchup": "Argentina vs France",
          "teamA": "Argentina",
          "teamA_score": 2,
          "teamA_win": 1,
          "teamB": "France",
          "teamB_score": 1,
          "teamB_win": 0,
          "tournament_id": "WC-1978",
          "win_diff": -2,
          "year": 1978
         },
         {
          "TotalWin_A": 6,
          "TotalWin_B": 0,
          "match_id": "M-1978-14",
          "match_info": "1978 (0 : 0)",
          "matchup": "Brazil vs Spain",
          "teamA": "Brazil",
          "teamA_score": 0,
          "teamA_win": 0,
          "teamB": "Spain",
          "teamB_score": 0,
          "teamB_win": 0,
          "tournament_id": "WC-1978",
          "win_diff": -6,
          "year": 1978
         },
         {
          "TotalWin_A": 2,
          "TotalWin_B": 4,
          "match_id": "M-1978-20",
          "match_info": "1978 (0 : 1)",
          "matchup": "Argentina vs Italy",
          "teamA": "Argentina",
          "teamA_score": 0,
          "teamA_win": 0,
          "teamB": "Italy",
          "teamB_score": 1,
          "teamB_win": 1,
          "tournament_id": "WC-1978",
          "win_diff": 2,
          "year": 1978
         },
         {
          "TotalWin_A": 0,
          "TotalWin_B": 6,
          "match_id": "M-1978-26",
          "match_info": "1978 (0 : 0)",
          "matchup": "Germany vs Italy",
          "teamA": "Germany",
          "teamA_score": 0,
          "teamA_win": 0,
          "teamB": "Italy",
          "teamB_score": 0,
          "teamB_win": 0,
          "tournament_id": "WC-1978",
          "win_diff": 6,
          "year": 1978
         },
         {
          "TotalWin_A": 2,
          "TotalWin_B": 4,
          "match_id": "M-1978-32",
          "match_info": "1978 (0 : 0)",
          "matchup": "Argentina vs Brazil",
          "teamA": "Argentina",
          "teamA_score": 0,
          "teamA_win": 0,
          "teamB": "Brazil",
          "teamB_score": 0,
          "teamB_win": 0,
          "tournament_id": "WC-1978",
          "win_diff": 2,
          "year": 1978
         },
         {
          "TotalWin_A": 6,
          "TotalWin_B": 2,
          "match_id": "M-1978-37",
          "match_info": "1978 (2 : 1)",
          "matchup": "Brazil vs Italy",
          "teamA": "Brazil",
          "teamA_score": 2,
          "teamA_win": 1,
          "teamB": "Italy",
          "teamB_score": 1,
          "teamB_win": 0,
          "tournament_id": "WC-1978",
          "win_diff": -4,
          "year": 1978
         },
         {
          "TotalWin_A": 4,
          "TotalWin_B": 2,
          "match_id": "M-1982-08",
          "match_info": "1982 (3 : 1)",
          "matchup": "England vs France",
          "teamA": "England",
          "teamA_score": 3,
          "teamA_win": 1,
          "teamB": "France",
          "teamB_score": 1,
          "teamB_win": 0,
          "tournament_id": "WC-1982",
          "win_diff": -2,
          "year": 1982
         },
         {
          "TotalWin_A": 2,
          "TotalWin_B": 4,
          "match_id": "M-1982-39",
          "match_info": "1982 (1 : 2)",
          "matchup": "Argentina vs Italy",
          "teamA": "Argentina",
          "teamA_score": 1,
          "teamA_win": 0,
          "teamB": "Italy",
          "teamB_score": 2,
          "teamB_win": 1,
          "tournament_id": "WC-1982",
          "win_diff": 2,
          "year": 1982
         },
         {
          "TotalWin_A": 2,
          "TotalWin_B": 6,
          "match_id": "M-1982-40",
          "match_info": "1982 (0 : 0)",
          "matchup": "England vs Germany",
          "teamA": "England",
          "teamA_score": 0,
          "teamA_win": 0,
          "teamB": "Germany",
          "teamB_score": 0,
          "teamB_win": 0,
          "tournament_id": "WC-1982",
          "win_diff": 4,
          "year": 1982
         },
         {
          "TotalWin_A": 2,
          "TotalWin_B": 4,
          "match_id": "M-1982-43",
          "match_info": "1982 (1 : 3)",
          "matchup": "Argentina vs Brazil",
          "teamA": "Argentina",
          "teamA_score": 1,
          "teamA_win": 0,
          "teamB": "Brazil",
          "teamB_score": 3,
          "teamB_win": 1,
          "tournament_id": "WC-1982",
          "win_diff": 2,
          "year": 1982
         },
         {
          "TotalWin_A": 4,
          "TotalWin_B": 2,
          "match_id": "M-1982-44",
          "match_info": "1982 (2 : 1)",
          "matchup": "Germany vs Spain",
          "teamA": "Germany",
          "teamA_score": 2,
          "teamA_win": 1,
          "teamB": "Spain",
          "teamB_score": 1,
          "teamB_win": 0,
          "tournament_id": "WC-1982",
          "win_diff": -2,
          "year": 1982
         },
         {
          "TotalWin_A": 6,
          "TotalWin_B": 2,
          "match_id": "M-1982-47",
          "match_info": "1982 (2 : 3)",
          "matchup": "Brazil vs Italy",
          "teamA": "Brazil",
          "teamA_score": 2,
          "teamA_win": 0,
          "teamB": "Italy",
          "teamB_score": 3,
          "teamB_win": 1,
          "tournament_id": "WC-1982",
          "win_diff": -4,
          "year": 1982
         },
         {
          "TotalWin_A": 0,
          "TotalWin_B": 2,
          "match_id": "M-1982-48",
          "match_info": "1982 (0 : 0)",
          "matchup": "England vs Spain",
          "teamA": "England",
          "teamA_score": 0,
          "teamA_win": 0,
          "teamB": "Spain",
          "teamB_score": 0,
          "teamB_win": 0,
          "tournament_id": "WC-1982",
          "win_diff": 2,
          "year": 1982
         },
         {
          "TotalWin_A": 2,
          "TotalWin_B": 6,
          "match_id": "M-1982-50",
          "match_info": "1982 (3 : 3)",
          "matchup": "France vs Germany",
          "teamA": "France",
          "teamA_score": 3,
          "teamA_win": 0,
          "teamB": "Germany",
          "teamB_score": 3,
          "teamB_win": 1,
          "tournament_id": "WC-1982",
          "win_diff": 4,
          "year": 1982
         },
         {
          "TotalWin_A": 0,
          "TotalWin_B": 6,
          "match_id": "M-1982-52",
          "match_info": "1982 (1 : 3)",
          "matchup": "Germany vs Italy",
          "teamA": "Germany",
          "teamA_score": 1,
          "teamA_win": 0,
          "teamB": "Italy",
          "teamB_score": 3,
          "teamB_win": 1,
          "tournament_id": "WC-1982",
          "win_diff": 6,
          "year": 1982
         },
         {
          "TotalWin_A": 6,
          "TotalWin_B": 0,
          "match_id": "M-1986-02",
          "match_info": "1986 (1 : 0)",
          "matchup": "Brazil vs Spain",
          "teamA": "Brazil",
          "teamA_score": 1,
          "teamA_win": 1,
          "teamB": "Spain",
          "teamB_score": 0,
          "teamB_win": 0,
          "tournament_id": "WC-1986",
          "win_diff": -6,
          "year": 1986
         },
         {
          "TotalWin_A": 6,
          "TotalWin_B": 0,
          "match_id": "M-1986-11",
          "match_info": "1986 (1 : 1)",
          "matchup": "Germany vs Uruguay",
          "teamA": "Germany",
          "teamA_score": 1,
          "teamA_win": 0,
          "teamB": "Uruguay",
          "teamB_score": 1,
          "teamB_win": 0,
          "tournament_id": "WC-1986",
          "win_diff": -6,
          "year": 1986
         },
         {
          "TotalWin_A": 2,
          "TotalWin_B": 4,
          "match_id": "M-1986-13",
          "match_info": "1986 (1 : 1)",
          "matchup": "Argentina vs Italy",
          "teamA": "Argentina",
          "teamA_score": 1,
          "teamA_win": 0,
          "teamB": "Italy",
          "teamB_score": 1,
          "teamB_win": 0,
          "tournament_id": "WC-1986",
          "win_diff": 2,
          "year": 1986
         },
         {
          "TotalWin_A": 2,
          "TotalWin_B": 0,
          "match_id": "M-1986-40",
          "match_info": "1986 (1 : 0)",
          "matchup": "Argentina vs Uruguay",
          "teamA": "Argentina",
          "teamA_score": 1,
          "teamA_win": 1,
          "teamB": "Uruguay",
          "teamB_score": 0,
          "teamB_win": 0,
          "tournament_id": "WC-1986",
          "win_diff": -2,
          "year": 1986
         },
         {
          "TotalWin_A": 4,
          "TotalWin_B": 4,
          "match_id": "M-1986-41",
          "match_info": "1986 (2 : 0)",
          "matchup": "France vs Italy",
          "teamA": "France",
          "teamA_score": 2,
          "teamA_win": 1,
          "teamB": "Italy",
          "teamB_score": 0,
          "teamB_win": 0,
          "tournament_id": "WC-1986",
          "win_diff": 0,
          "year": 1986
         },
         {
          "TotalWin_A": 2,
          "TotalWin_B": 6,
          "match_id": "M-1986-45",
          "match_info": "1986 (1 : 1)",
          "matchup": "Brazil vs France",
          "teamA": "Brazil",
          "teamA_score": 1,
          "teamA_win": 0,
          "teamB": "France",
          "teamB_score": 1,
          "teamB_win": 1,
          "tournament_id": "WC-1986",
          "win_diff": 4,
          "year": 1986
         },
         {
          "TotalWin_A": 4,
          "TotalWin_B": 6,
          "match_id": "M-1986-47",
          "match_info": "1986 (2 : 1)",
          "matchup": "Argentina vs England",
          "teamA": "Argentina",
          "teamA_score": 2,
          "teamA_win": 1,
          "teamB": "England",
          "teamB_score": 1,
          "teamB_win": 0,
          "tournament_id": "WC-1986",
          "win_diff": 2,
          "year": 1986
         },
         {
          "TotalWin_A": 2,
          "TotalWin_B": 6,
          "match_id": "M-1986-49",
          "match_info": "1986 (0 : 2)",
          "matchup": "France vs Germany",
          "teamA": "France",
          "teamA_score": 0,
          "teamA_win": 0,
          "teamB": "Germany",
          "teamB_score": 2,
          "teamB_win": 1,
          "tournament_id": "WC-1986",
          "win_diff": 4,
          "year": 1986
         },
         {
          "TotalWin_A": 2,
          "TotalWin_B": 10,
          "match_id": "M-1986-52",
          "match_info": "1986 (3 : 2)",
          "matchup": "Argentina vs Germany",
          "teamA": "Argentina",
          "teamA_score": 3,
          "teamA_win": 1,
          "teamB": "Germany",
          "teamB_score": 2,
          "teamB_win": 0,
          "tournament_id": "WC-1986",
          "win_diff": 8,
          "year": 1986
         },
         {
          "TotalWin_A": 0,
          "TotalWin_B": 0,
          "match_id": "M-1990-12",
          "match_info": "1990 (0 : 0)",
          "matchup": "Spain vs Uruguay",
          "teamA": "Spain",
          "teamA_score": 0,
          "teamA_win": 0,
          "teamB": "Uruguay",
          "teamB_score": 0,
          "teamB_win": 0,
          "tournament_id": "WC-1990",
          "win_diff": 0,
          "year": 1990
         },
         {
          "TotalWin_A": 2,
          "TotalWin_B": 4,
          "match_id": "M-1990-39",
          "match_info": "1990 (1 : 0)",
          "matchup": "Argentina vs Brazil",
          "teamA": "Argentina",
          "teamA_score": 1,
          "teamA_win": 1,
          "teamB": "Brazil",
          "teamB_score": 0,
          "teamB_win": 0,
          "tournament_id": "WC-1990",
          "win_diff": 2,
          "year": 1990
         },
         {
          "TotalWin_A": 2,
          "TotalWin_B": 2,
          "match_id": "M-1990-42",
          "match_info": "1990 (2 : 0)",
          "matchup": "Italy vs Uruguay",
          "teamA": "Italy",
          "teamA_score": 2,
          "teamA_win": 1,
          "teamB": "Uruguay",
          "teamB_score": 0,
          "teamB_win": 0,
          "tournament_id": "WC-1990",
          "win_diff": 0,
          "year": 1990
         },
         {
          "TotalWin_A": 2,
          "TotalWin_B": 4,
          "match_id": "M-1990-49",
          "match_info": "1990 (1 : 1)",
          "matchup": "Argentina vs Italy",
          "teamA": "Argentina",
          "teamA_score": 1,
          "teamA_win": 1,
          "teamB": "Italy",
          "teamB_score": 1,
          "teamB_win": 0,
          "tournament_id": "WC-1990",
          "win_diff": 2,
          "year": 1990
         },
         {
          "TotalWin_A": 2,
          "TotalWin_B": 6,
          "match_id": "M-1990-50",
          "match_info": "1990 (1 : 1)",
          "matchup": "England vs Germany",
          "teamA": "England",
          "teamA_score": 1,
          "teamA_win": 0,
          "teamB": "Germany",
          "teamB_score": 1,
          "teamB_win": 1,
          "tournament_id": "WC-1990",
          "win_diff": 4,
          "year": 1990
         },
         {
          "TotalWin_A": 0,
          "TotalWin_B": 4,
          "match_id": "M-1990-51",
          "match_info": "1990 (1 : 2)",
          "matchup": "England vs Italy",
          "teamA": "England",
          "teamA_score": 1,
          "teamA_win": 0,
          "teamB": "Italy",
          "teamB_score": 2,
          "teamB_win": 1,
          "tournament_id": "WC-1990",
          "win_diff": 4,
          "year": 1990
         },
         {
          "TotalWin_A": 2,
          "TotalWin_B": 10,
          "match_id": "M-1990-52",
          "match_info": "1990 (0 : 1)",
          "matchup": "Argentina vs Germany",
          "teamA": "Argentina",
          "teamA_score": 0,
          "teamA_win": 0,
          "teamB": "Germany",
          "teamB_score": 1,
          "teamB_win": 1,
          "tournament_id": "WC-1990",
          "win_diff": 8,
          "year": 1990
         },
         {
          "TotalWin_A": 4,
          "TotalWin_B": 2,
          "match_id": "M-1994-12",
          "match_info": "1994 (1 : 1)",
          "matchup": "Germany vs Spain",
          "teamA": "Germany",
          "teamA_score": 1,
          "teamA_win": 0,
          "teamB": "Spain",
          "teamB_score": 1,
          "teamB_win": 0,
          "tournament_id": "WC-1994",
          "win_diff": -2,
          "year": 1994
         },
         {
          "TotalWin_A": 2,
          "TotalWin_B": 0,
          "match_id": "M-1994-45",
          "match_info": "1994 (2 : 1)",
          "matchup": "Italy vs Spain",
          "teamA": "Italy",
          "teamA_score": 2,
          "teamA_win": 1,
          "teamB": "Spain",
          "teamB_score": 1,
          "teamB_win": 0,
          "tournament_id": "WC-1994",
          "win_diff": -2,
          "year": 1994
         },
         {
          "TotalWin_A": 6,
          "TotalWin_B": 2,
          "match_id": "M-1994-52",
          "match_info": "1994 (0 : 0)",
          "matchup": "Brazil vs Italy",
          "teamA": "Brazil",
          "teamA_score": 0,
          "teamA_win": 1,
          "teamB": "Italy",
          "teamB_score": 0,
          "teamB_win": 0,
          "tournament_id": "WC-1994",
          "win_diff": -4,
          "year": 1994
         },
         {
          "TotalWin_A": 4,
          "TotalWin_B": 6,
          "match_id": "M-1998-56",
          "match_info": "1998 (2 : 2)",
          "matchup": "Argentina vs England",
          "teamA": "Argentina",
          "teamA_score": 2,
          "teamA_win": 1,
          "teamB": "England",
          "teamB_score": 2,
          "teamB_win": 0,
          "tournament_id": "WC-1998",
          "win_diff": 2,
          "year": 1998
         },
         {
          "TotalWin_A": 4,
          "TotalWin_B": 4,
          "match_id": "M-1998-57",
          "match_info": "1998 (0 : 0)",
          "matchup": "France vs Italy",
          "teamA": "France",
          "teamA_score": 0,
          "teamA_win": 1,
          "teamB": "Italy",
          "teamB_score": 0,
          "teamB_win": 0,
          "tournament_id": "WC-1998",
          "win_diff": 0,
          "year": 1998
         },
         {
          "TotalWin_A": 2,
          "TotalWin_B": 6,
          "match_id": "M-1998-64",
          "match_info": "1998 (0 : 3)",
          "matchup": "Brazil vs France",
          "teamA": "Brazil",
          "teamA_score": 0,
          "teamA_win": 0,
          "teamB": "France",
          "teamB_score": 3,
          "teamB_win": 1,
          "tournament_id": "WC-1998",
          "win_diff": 4,
          "year": 1998
         },
         {
          "TotalWin_A": 2,
          "TotalWin_B": 2,
          "match_id": "M-2002-20",
          "match_info": "2002 (0 : 0)",
          "matchup": "France vs Uruguay",
          "teamA": "France",
          "teamA_score": 0,
          "teamA_win": 0,
          "teamB": "Uruguay",
          "teamB_score": 0,
          "teamB_win": 0,
          "tournament_id": "WC-2002",
          "win_diff": 0,
          "year": 2002
         },
         {
          "TotalWin_A": 4,
          "TotalWin_B": 6,
          "match_id": "M-2002-23",
          "match_info": "2002 (0 : 1)",
          "matchup": "Argentina vs England",
          "teamA": "Argentina",
          "teamA_score": 0,
          "teamA_win": 0,
          "teamB": "England",
          "teamB_score": 1,
          "teamB_win": 1,
          "tournament_id": "WC-2002",
          "win_diff": 2,
          "year": 2002
         },
         {
          "TotalWin_A": 6,
          "TotalWin_B": 0,
          "match_id": "M-2002-57",
          "match_info": "2002 (2 : 1)",
          "matchup": "Brazil vs England",
          "teamA": "Brazil",
          "teamA_score": 2,
          "teamA_win": 1,
          "teamB": "England",
          "teamB_score": 1,
          "teamB_win": 0,
          "tournament_id": "WC-2002",
          "win_diff": -6,
          "year": 2002
         },
         {
          "TotalWin_A": 2,
          "TotalWin_B": 2,
          "match_id": "M-2002-64",
          "match_info": "2002 (2 : 0)",
          "matchup": "Brazil vs Germany",
          "teamA": "Brazil",
          "teamA_score": 2,
          "teamA_win": 1,
          "teamB": "Germany",
          "teamB_score": 0,
          "teamB_win": 0,
          "tournament_id": "WC-2002",
          "win_diff": 0,
          "year": 2002
         },
         {
          "TotalWin_A": 2,
          "TotalWin_B": 0,
          "match_id": "M-2006-56",
          "match_info": "2006 (3 : 1)",
          "matchup": "France vs Spain",
          "teamA": "France",
          "teamA_score": 3,
          "teamA_win": 1,
          "teamB": "Spain",
          "teamB_score": 1,
          "teamB_win": 0,
          "tournament_id": "WC-2006",
          "win_diff": -2,
          "year": 2006
         },
         {
          "TotalWin_A": 2,
          "TotalWin_B": 10,
          "match_id": "M-2006-57",
          "match_info": "2006 (1 : 1)",
          "matchup": "Argentina vs Germany",
          "teamA": "Argentina",
          "teamA_score": 1,
          "teamA_win": 0,
          "teamB": "Germany",
          "teamB_score": 1,
          "teamB_win": 1,
          "tournament_id": "WC-2006",
          "win_diff": 8,
          "year": 2006
         },
         {
          "TotalWin_A": 2,
          "TotalWin_B": 6,
          "match_id": "M-2006-60",
          "match_info": "2006 (0 : 1)",
          "matchup": "Brazil vs France",
          "teamA": "Brazil",
          "teamA_score": 0,
          "teamA_win": 0,
          "teamB": "France",
          "teamB_score": 1,
          "teamB_win": 1,
          "tournament_id": "WC-2006",
          "win_diff": 4,
          "year": 2006
         },
         {
          "TotalWin_A": 0,
          "TotalWin_B": 6,
          "match_id": "M-2006-61",
          "match_info": "2006 (0 : 2)",
          "matchup": "Germany vs Italy",
          "teamA": "Germany",
          "teamA_score": 0,
          "teamA_win": 0,
          "teamB": "Italy",
          "teamB_score": 2,
          "teamB_win": 1,
          "tournament_id": "WC-2006",
          "win_diff": 6,
          "year": 2006
         },
         {
          "TotalWin_A": 4,
          "TotalWin_B": 4,
          "match_id": "M-2006-64",
          "match_info": "2006 (1 : 1)",
          "matchup": "France vs Italy",
          "teamA": "France",
          "teamA_score": 1,
          "teamA_win": 0,
          "teamB": "Italy",
          "teamB_score": 1,
          "teamB_win": 1,
          "tournament_id": "WC-2006",
          "win_diff": 0,
          "year": 2006
         },
         {
          "TotalWin_A": 2,
          "TotalWin_B": 2,
          "match_id": "M-2010-02",
          "match_info": "2010 (0 : 0)",
          "matchup": "France vs Uruguay",
          "teamA": "France",
          "teamA_score": 0,
          "teamA_win": 0,
          "teamB": "Uruguay",
          "teamB_score": 0,
          "teamB_win": 0,
          "tournament_id": "WC-2010",
          "win_diff": 0,
          "year": 2010
         },
         {
          "TotalWin_A": 2,
          "TotalWin_B": 6,
          "match_id": "M-2010-51",
          "match_info": "2010 (1 : 4)",
          "matchup": "England vs Germany",
          "teamA": "England",
          "teamA_score": 1,
          "teamA_win": 0,
          "teamB": "Germany",
          "teamB_score": 4,
          "teamB_win": 1,
          "tournament_id": "WC-2010",
          "win_diff": 4,
          "year": 2010
         },
         {
          "TotalWin_A": 2,
          "TotalWin_B": 10,
          "match_id": "M-2010-59",
          "match_info": "2010 (0 : 4)",
          "matchup": "Argentina vs Germany",
          "teamA": "Argentina",
          "teamA_score": 0,
          "teamA_win": 0,
          "teamB": "Germany",
          "teamB_score": 4,
          "teamB_win": 1,
          "tournament_id": "WC-2010",
          "win_diff": 8,
          "year": 2010
         },
         {
          "TotalWin_A": 4,
          "TotalWin_B": 2,
          "match_id": "M-2010-62",
          "match_info": "2010 (0 : 1)",
          "matchup": "Germany vs Spain",
          "teamA": "Germany",
          "teamA_score": 0,
          "teamA_win": 0,
          "teamB": "Spain",
          "teamB_score": 1,
          "teamB_win": 1,
          "tournament_id": "WC-2010",
          "win_diff": -2,
          "year": 2010
         },
         {
          "TotalWin_A": 6,
          "TotalWin_B": 0,
          "match_id": "M-2010-63",
          "match_info": "2010 (3 : 2)",
          "matchup": "Germany vs Uruguay",
          "teamA": "Germany",
          "teamA_score": 3,
          "teamA_win": 1,
          "teamB": "Uruguay",
          "teamB_score": 2,
          "teamB_win": 0,
          "tournament_id": "WC-2010",
          "win_diff": -6,
          "year": 2010
         },
         {
          "TotalWin_A": 0,
          "TotalWin_B": 4,
          "match_id": "M-2014-07",
          "match_info": "2014 (1 : 2)",
          "matchup": "England vs Italy",
          "teamA": "England",
          "teamA_score": 1,
          "teamA_win": 0,
          "teamB": "Italy",
          "teamB_score": 2,
          "teamB_win": 1,
          "tournament_id": "WC-2014",
          "win_diff": 4,
          "year": 2014
         },
         {
          "TotalWin_A": 0,
          "TotalWin_B": 4,
          "match_id": "M-2014-22",
          "match_info": "2014 (1 : 2)",
          "matchup": "England vs Uruguay",
          "teamA": "England",
          "teamA_score": 1,
          "teamA_win": 0,
          "teamB": "Uruguay",
          "teamB_score": 2,
          "teamB_win": 1,
          "tournament_id": "WC-2014",
          "win_diff": 4,
          "year": 2014
         },
         {
          "TotalWin_A": 2,
          "TotalWin_B": 2,
          "match_id": "M-2014-38",
          "match_info": "2014 (0 : 1)",
          "matchup": "Italy vs Uruguay",
          "teamA": "Italy",
          "teamA_score": 0,
          "teamA_win": 0,
          "teamB": "Uruguay",
          "teamB_score": 1,
          "teamB_win": 1,
          "tournament_id": "WC-2014",
          "win_diff": 0,
          "year": 2014
         },
         {
          "TotalWin_A": 2,
          "TotalWin_B": 6,
          "match_id": "M-2014-57",
          "match_info": "2014 (0 : 1)",
          "matchup": "France vs Germany",
          "teamA": "France",
          "teamA_score": 0,
          "teamA_win": 0,
          "teamB": "Germany",
          "teamB_score": 1,
          "teamB_win": 1,
          "tournament_id": "WC-2014",
          "win_diff": 4,
          "year": 2014
         },
         {
          "TotalWin_A": 2,
          "TotalWin_B": 2,
          "match_id": "M-2014-61",
          "match_info": "2014 (1 : 7)",
          "matchup": "Brazil vs Germany",
          "teamA": "Brazil",
          "teamA_score": 1,
          "teamA_win": 0,
          "teamB": "Germany",
          "teamB_score": 7,
          "teamB_win": 1,
          "tournament_id": "WC-2014",
          "win_diff": 0,
          "year": 2014
         },
         {
          "TotalWin_A": 2,
          "TotalWin_B": 10,
          "match_id": "M-2014-64",
          "match_info": "2014 (0 : 1)",
          "matchup": "Argentina vs Germany",
          "teamA": "Argentina",
          "teamA_score": 0,
          "teamA_win": 0,
          "teamB": "Germany",
          "teamB_score": 1,
          "teamB_win": 1,
          "tournament_id": "WC-2014",
          "win_diff": 8,
          "year": 2014
         },
         {
          "TotalWin_A": 4,
          "TotalWin_B": 2,
          "match_id": "M-2018-49",
          "match_info": "2018 (3 : 4)",
          "matchup": "Argentina vs France",
          "teamA": "Argentina",
          "teamA_score": 3,
          "teamA_win": 0,
          "teamB": "France",
          "teamB_score": 4,
          "teamB_win": 1,
          "tournament_id": "WC-2018",
          "win_diff": -2,
          "year": 2018
         },
         {
          "TotalWin_A": 2,
          "TotalWin_B": 2,
          "match_id": "M-2018-57",
          "match_info": "2018 (2 : 0)",
          "matchup": "France vs Uruguay",
          "teamA": "France",
          "teamA_score": 2,
          "teamA_win": 1,
          "teamB": "Uruguay",
          "teamB_score": 0,
          "teamB_win": 0,
          "tournament_id": "WC-2018",
          "win_diff": 0,
          "year": 2018
         },
         {
          "TotalWin_A": 4,
          "TotalWin_B": 2,
          "match_id": "M-2022-28",
          "match_info": "2022 (1 : 1)",
          "matchup": "Germany vs Spain",
          "teamA": "Germany",
          "teamA_score": 1,
          "teamA_win": 0,
          "teamB": "Spain",
          "teamB_score": 1,
          "teamB_win": 0,
          "tournament_id": "WC-2022",
          "win_diff": -2,
          "year": 2022
         },
         {
          "TotalWin_A": 4,
          "TotalWin_B": 2,
          "match_id": "M-2022-60",
          "match_info": "2022 (1 : 2)",
          "matchup": "England vs France",
          "teamA": "England",
          "teamA_score": 1,
          "teamA_win": 0,
          "teamB": "France",
          "teamB_score": 2,
          "teamB_win": 1,
          "tournament_id": "WC-2022",
          "win_diff": -2,
          "year": 2022
         },
         {
          "TotalWin_A": 4,
          "TotalWin_B": 2,
          "match_id": "M-2022-64",
          "match_info": "2022 (3 : 3)",
          "matchup": "Argentina vs France",
          "teamA": "Argentina",
          "teamA_score": 3,
          "teamA_win": 1,
          "teamB": "France",
          "teamB_score": 3,
          "teamB_win": 0,
          "tournament_id": "WC-2022",
          "win_diff": -2,
          "year": 2022
         },
         {
          "TotalWin_A": 0,
          "TotalWin_B": 2,
          "match_id": "M-1950-13",
          "match_info": "1950 (0 : 1)",
          "matchup": "England vs Spain",
          "teamA": "England",
          "teamA_score": 0,
          "teamA_win": 0,
          "teamB": "Spain",
          "teamB_score": 1,
          "teamB_win": 1,
          "tournament_id": "WC-1950",
          "win_diff": 2,
          "year": 1950
         },
         {
          "TotalWin_A": 0,
          "TotalWin_B": 0,
          "match_id": "M-1950-18",
          "match_info": "1950 (2 : 2)",
          "matchup": "Spain vs Uruguay",
          "teamA": "Spain",
          "teamA_score": 2,
          "teamA_win": 0,
          "teamB": "Uruguay",
          "teamB_score": 2,
          "teamB_win": 0,
          "tournament_id": "WC-1950",
          "win_diff": 0,
          "year": 1950
         },
         {
          "TotalWin_A": 6,
          "TotalWin_B": 0,
          "match_id": "M-1950-19",
          "match_info": "1950 (6 : 1)",
          "matchup": "Brazil vs Spain",
          "teamA": "Brazil",
          "teamA_score": 6,
          "teamA_win": 1,
          "teamB": "Spain",
          "teamB_score": 1,
          "teamB_win": 0,
          "tournament_id": "WC-1950",
          "win_diff": -6,
          "year": 1950
         },
         {
          "TotalWin_A": 2,
          "TotalWin_B": 2,
          "match_id": "M-1950-22",
          "match_info": "1950 (1 : 2)",
          "matchup": "Brazil vs Uruguay",
          "teamA": "Brazil",
          "teamA_score": 1,
          "teamA_win": 0,
          "teamB": "Uruguay",
          "teamB_score": 2,
          "teamB_win": 1,
          "tournament_id": "WC-1950",
          "win_diff": 0,
          "year": 1950
         },
         {
          "TotalWin_A": 0,
          "TotalWin_B": 4,
          "match_id": "M-1954-20",
          "match_info": "1954 (2 : 4)",
          "matchup": "England vs Uruguay",
          "teamA": "England",
          "teamA_score": 2,
          "teamA_win": 0,
          "teamB": "Uruguay",
          "teamB_score": 4,
          "teamB_win": 1,
          "tournament_id": "WC-1954",
          "win_diff": 4,
          "year": 1954
         },
         {
          "TotalWin_A": 2,
          "TotalWin_B": 10,
          "match_id": "M-1958-02",
          "match_info": "1958 (1 : 3)",
          "matchup": "Argentina vs Germany",
          "teamA": "Argentina",
          "teamA_score": 1,
          "teamA_win": 0,
          "teamB": "Germany",
          "teamB_score": 3,
          "teamB_win": 1,
          "tournament_id": "WC-1958",
          "win_diff": 8,
          "year": 1958
         },
         {
          "TotalWin_A": 6,
          "TotalWin_B": 0,
          "match_id": "M-1958-14",
          "match_info": "1958 (0 : 0)",
          "matchup": "Brazil vs England",
          "teamA": "Brazil",
          "teamA_score": 0,
          "teamA_win": 0,
          "teamB": "England",
          "teamB_score": 0,
          "teamB_win": 0,
          "tournament_id": "WC-1958",
          "win_diff": -6,
          "year": 1958
         },
         {
          "TotalWin_A": 2,
          "TotalWin_B": 6,
          "match_id": "M-1958-32",
          "match_info": "1958 (5 : 2)",
          "matchup": "Brazil vs France",
          "teamA": "Brazil",
          "teamA_score": 5,
          "teamA_win": 1,
          "teamB": "France",
          "teamB_score": 2,
          "teamB_win": 0,
          "tournament_id": "WC-1958",
          "win_diff": 4,
          "year": 1958
         },
         {
          "TotalWin_A": 2,
          "TotalWin_B": 6,
          "match_id": "M-1958-34",
          "match_info": "1958 (6 : 3)",
          "matchup": "France vs Germany",
          "teamA": "France",
          "teamA_score": 6,
          "teamA_win": 1,
          "teamB": "Germany",
          "teamB_score": 3,
          "teamB_win": 0,
          "tournament_id": "WC-1958",
          "win_diff": 4,
          "year": 1958
         },
         {
          "TotalWin_A": 0,
          "TotalWin_B": 6,
          "match_id": "M-1962-06",
          "match_info": "1962 (0 : 0)",
          "matchup": "Germany vs Italy",
          "teamA": "Germany",
          "teamA_score": 0,
          "teamA_win": 0,
          "teamB": "Italy",
          "teamB_score": 0,
          "teamB_win": 0,
          "tournament_id": "WC-1962",
          "win_diff": 6,
          "year": 1962
         },
         {
          "TotalWin_A": 4,
          "TotalWin_B": 6,
          "match_id": "M-1962-12",
          "match_info": "1962 (1 : 3)",
          "matchup": "Argentina vs England",
          "teamA": "Argentina",
          "teamA_score": 1,
          "teamA_win": 0,
          "teamB": "England",
          "teamB_score": 3,
          "teamB_win": 1,
          "tournament_id": "WC-1962",
          "win_diff": 2,
          "year": 1962
         },
         {
          "TotalWin_A": 6,
          "TotalWin_B": 0,
          "match_id": "M-1962-19",
          "match_info": "1962 (2 : 1)",
          "matchup": "Brazil vs Spain",
          "teamA": "Brazil",
          "teamA_score": 2,
          "teamA_win": 1,
          "teamB": "Spain",
          "teamB_score": 1,
          "teamB_win": 0,
          "tournament_id": "WC-1962",
          "win_diff": -6,
          "year": 1962
         },
         {
          "TotalWin_A": 6,
          "TotalWin_B": 0,
          "match_id": "M-1962-25",
          "match_info": "1962 (3 : 1)",
          "matchup": "Brazil vs England",
          "teamA": "Brazil",
          "teamA_score": 3,
          "teamA_win": 1,
          "teamB": "England",
          "teamB_score": 1,
          "teamB_win": 0,
          "tournament_id": "WC-1962",
          "win_diff": -6,
          "year": 1962
         },
         {
          "TotalWin_A": 0,
          "TotalWin_B": 4,
          "match_id": "M-1966-01",
          "match_info": "1966 (0 : 0)",
          "matchup": "England vs Uruguay",
          "teamA": "England",
          "teamA_score": 0,
          "teamA_win": 0,
          "teamB": "Uruguay",
          "teamB_score": 0,
          "teamB_win": 0,
          "tournament_id": "WC-1966",
          "win_diff": 4,
          "year": 1966
         },
         {
          "TotalWin_A": 2,
          "TotalWin_B": 0,
          "match_id": "M-1966-06",
          "match_info": "1966 (2 : 1)",
          "matchup": "Argentina vs Spain",
          "teamA": "Argentina",
          "teamA_score": 2,
          "teamA_win": 1,
          "teamB": "Spain",
          "teamB_score": 1,
          "teamB_win": 0,
          "tournament_id": "WC-1966",
          "win_diff": -2,
          "year": 1966
         },
         {
          "TotalWin_A": 2,
          "TotalWin_B": 2,
          "match_id": "M-1966-09",
          "match_info": "1966 (1 : 2)",
          "matchup": "France vs Uruguay",
          "teamA": "France",
          "teamA_score": 1,
          "teamA_win": 0,
          "teamB": "Uruguay",
          "teamB_score": 2,
          "teamB_win": 1,
          "tournament_id": "WC-1966",
          "win_diff": 0,
          "year": 1966
         },
         {
          "TotalWin_A": 2,
          "TotalWin_B": 10,
          "match_id": "M-1966-13",
          "match_info": "1966 (0 : 0)",
          "matchup": "Argentina vs Germany",
          "teamA": "Argentina",
          "teamA_score": 0,
          "teamA_win": 0,
          "teamB": "Germany",
          "teamB_score": 0,
          "teamB_win": 0,
          "tournament_id": "WC-1966",
          "win_diff": 8,
          "year": 1966
         },
         {
          "TotalWin_A": 4,
          "TotalWin_B": 2,
          "match_id": "M-1966-21",
          "match_info": "1966 (2 : 0)",
          "matchup": "England vs France",
          "teamA": "England",
          "teamA_score": 2,
          "teamA_win": 1,
          "teamB": "France",
          "teamB_score": 0,
          "teamB_win": 0,
          "tournament_id": "WC-1966",
          "win_diff": -2,
          "year": 1966
         },
         {
          "TotalWin_A": 4,
          "TotalWin_B": 2,
          "match_id": "M-1966-22",
          "match_info": "1966 (2 : 1)",
          "matchup": "Germany vs Spain",
          "teamA": "Germany",
          "teamA_score": 2,
          "teamA_win": 1,
          "teamB": "Spain",
          "teamB_score": 1,
          "teamB_win": 0,
          "tournament_id": "WC-1966",
          "win_diff": -2,
          "year": 1966
         },
         {
          "TotalWin_A": 4,
          "TotalWin_B": 6,
          "match_id": "M-1966-25",
          "match_info": "1966 (0 : 1)",
          "matchup": "Argentina vs England",
          "teamA": "Argentina",
          "teamA_score": 0,
          "teamA_win": 0,
          "teamB": "England",
          "teamB_score": 1,
          "teamB_win": 1,
          "tournament_id": "WC-1966",
          "win_diff": 2,
          "year": 1966
         },
         {
          "TotalWin_A": 6,
          "TotalWin_B": 0,
          "match_id": "M-1966-28",
          "match_info": "1966 (4 : 0)",
          "matchup": "Germany vs Uruguay",
          "teamA": "Germany",
          "teamA_score": 4,
          "teamA_win": 1,
          "teamB": "Uruguay",
          "teamB_score": 0,
          "teamB_win": 0,
          "tournament_id": "WC-1966",
          "win_diff": -6,
          "year": 1966
         },
         {
          "TotalWin_A": 2,
          "TotalWin_B": 6,
          "match_id": "M-1966-32",
          "match_info": "1966 (4 : 2)",
          "matchup": "England vs Germany",
          "teamA": "England",
          "teamA_score": 4,
          "teamA_win": 1,
          "teamB": "Germany",
          "teamB_score": 2,
          "teamB_win": 0,
          "tournament_id": "WC-1966",
          "win_diff": 4,
          "year": 1966
         },
         {
          "TotalWin_A": 2,
          "TotalWin_B": 2,
          "match_id": "M-1970-10",
          "match_info": "1970 (0 : 0)",
          "matchup": "Italy vs Uruguay",
          "teamA": "Italy",
          "teamA_score": 0,
          "teamA_win": 0,
          "teamB": "Uruguay",
          "teamB_score": 0,
          "teamB_win": 0,
          "tournament_id": "WC-1970",
          "win_diff": 0,
          "year": 1970
         },
         {
          "TotalWin_A": 6,
          "TotalWin_B": 0,
          "match_id": "M-1970-15",
          "match_info": "1970 (1 : 0)",
          "matchup": "Brazil vs England",
          "teamA": "Brazil",
          "teamA_score": 1,
          "teamA_win": 1,
          "teamB": "England",
          "teamB_score": 0,
          "teamB_win": 0,
          "tournament_id": "WC-1970",
          "win_diff": -6,
          "year": 1970
         },
         {
          "TotalWin_A": 2,
          "TotalWin_B": 6,
          "match_id": "M-1970-28",
          "match_info": "1970 (2 : 3)",
          "matchup": "England vs Germany",
          "teamA": "England",
          "teamA_score": 2,
          "teamA_win": 0,
          "teamB": "Germany",
          "teamB_score": 3,
          "teamB_win": 1,
          "tournament_id": "WC-1970",
          "win_diff": 4,
          "year": 1970
         },
         {
          "TotalWin_A": 2,
          "TotalWin_B": 2,
          "match_id": "M-1970-29",
          "match_info": "1970 (3 : 1)",
          "matchup": "Brazil vs Uruguay",
          "teamA": "Brazil",
          "teamA_score": 3,
          "teamA_win": 1,
          "teamB": "Uruguay",
          "teamB_score": 1,
          "teamB_win": 0,
          "tournament_id": "WC-1970",
          "win_diff": 0,
          "year": 1970
         },
         {
          "TotalWin_A": 0,
          "TotalWin_B": 6,
          "match_id": "M-1970-30",
          "match_info": "1970 (3 : 4)",
          "matchup": "Germany vs Italy",
          "teamA": "Germany",
          "teamA_score": 3,
          "teamA_win": 0,
          "teamB": "Italy",
          "teamB_score": 4,
          "teamB_win": 1,
          "tournament_id": "WC-1970",
          "win_diff": 6,
          "year": 1970
         },
         {
          "TotalWin_A": 6,
          "TotalWin_B": 0,
          "match_id": "M-1970-31",
          "match_info": "1970 (1 : 0)",
          "matchup": "Germany vs Uruguay",
          "teamA": "Germany",
          "teamA_score": 1,
          "teamA_win": 1,
          "teamB": "Uruguay",
          "teamB_score": 0,
          "teamB_win": 0,
          "tournament_id": "WC-1970",
          "win_diff": -6,
          "year": 1970
         },
         {
          "TotalWin_A": 6,
          "TotalWin_B": 2,
          "match_id": "M-1970-32",
          "match_info": "1970 (4 : 1)",
          "matchup": "Brazil vs Italy",
          "teamA": "Brazil",
          "teamA_score": 4,
          "teamA_win": 1,
          "teamB": "Italy",
          "teamB_score": 1,
          "teamB_win": 0,
          "tournament_id": "WC-1970",
          "win_diff": -4,
          "year": 1970
         },
         {
          "TotalWin_A": 2,
          "TotalWin_B": 4,
          "match_id": "M-1974-15",
          "match_info": "1974 (1 : 1)",
          "matchup": "Argentina vs Italy",
          "teamA": "Argentina",
          "teamA_score": 1,
          "teamA_win": 0,
          "teamB": "Italy",
          "teamB_score": 1,
          "teamB_win": 0,
          "tournament_id": "WC-1974",
          "win_diff": 2,
          "year": 1974
         },
         {
          "TotalWin_A": 2,
          "TotalWin_B": 4,
          "match_id": "M-1974-29",
          "match_info": "1974 (1 : 2)",
          "matchup": "Argentina vs Brazil",
          "teamA": "Argentina",
          "teamA_score": 1,
          "teamA_win": 0,
          "teamB": "Brazil",
          "teamB_score": 2,
          "teamB_win": 1,
          "tournament_id": "WC-1974",
          "win_diff": 2,
          "year": 1974
         },
         {
          "TotalWin_A": 4,
          "TotalWin_B": 4,
          "match_id": "M-1978-02",
          "match_info": "1978 (1 : 2)",
          "matchup": "France vs Italy",
          "teamA": "France",
          "teamA_score": 1,
          "teamA_win": 0,
          "teamB": "Italy",
          "teamB_score": 2,
          "teamB_win": 1,
          "tournament_id": "WC-1978",
          "win_diff": 0,
          "year": 1978
         },
         {
          "TotalWin_A": 4,
          "TotalWin_B": 2,
          "match_id": "M-1978-12",
          "match_info": "1978 (2 : 1)",
          "matchup": "Argentina vs France",
          "teamA": "Argentina",
          "teamA_score": 2,
          "teamA_win": 1,
          "teamB": "France",
          "teamB_score": 1,
          "teamB_win": 0,
          "tournament_id": "WC-1978",
          "win_diff": -2,
          "year": 1978
         },
         {
          "TotalWin_A": 6,
          "TotalWin_B": 0,
          "match_id": "M-1978-14",
          "match_info": "1978 (0 : 0)",
          "matchup": "Brazil vs Spain",
          "teamA": "Brazil",
          "teamA_score": 0,
          "teamA_win": 0,
          "teamB": "Spain",
          "teamB_score": 0,
          "teamB_win": 0,
          "tournament_id": "WC-1978",
          "win_diff": -6,
          "year": 1978
         },
         {
          "TotalWin_A": 2,
          "TotalWin_B": 4,
          "match_id": "M-1978-20",
          "match_info": "1978 (0 : 1)",
          "matchup": "Argentina vs Italy",
          "teamA": "Argentina",
          "teamA_score": 0,
          "teamA_win": 0,
          "teamB": "Italy",
          "teamB_score": 1,
          "teamB_win": 1,
          "tournament_id": "WC-1978",
          "win_diff": 2,
          "year": 1978
         },
         {
          "TotalWin_A": 0,
          "TotalWin_B": 6,
          "match_id": "M-1978-26",
          "match_info": "1978 (0 : 0)",
          "matchup": "Germany vs Italy",
          "teamA": "Germany",
          "teamA_score": 0,
          "teamA_win": 0,
          "teamB": "Italy",
          "teamB_score": 0,
          "teamB_win": 0,
          "tournament_id": "WC-1978",
          "win_diff": 6,
          "year": 1978
         },
         {
          "TotalWin_A": 2,
          "TotalWin_B": 4,
          "match_id": "M-1978-32",
          "match_info": "1978 (0 : 0)",
          "matchup": "Argentina vs Brazil",
          "teamA": "Argentina",
          "teamA_score": 0,
          "teamA_win": 0,
          "teamB": "Brazil",
          "teamB_score": 0,
          "teamB_win": 0,
          "tournament_id": "WC-1978",
          "win_diff": 2,
          "year": 1978
         },
         {
          "TotalWin_A": 6,
          "TotalWin_B": 2,
          "match_id": "M-1978-37",
          "match_info": "1978 (2 : 1)",
          "matchup": "Brazil vs Italy",
          "teamA": "Brazil",
          "teamA_score": 2,
          "teamA_win": 1,
          "teamB": "Italy",
          "teamB_score": 1,
          "teamB_win": 0,
          "tournament_id": "WC-1978",
          "win_diff": -4,
          "year": 1978
         },
         {
          "TotalWin_A": 4,
          "TotalWin_B": 2,
          "match_id": "M-1982-08",
          "match_info": "1982 (3 : 1)",
          "matchup": "England vs France",
          "teamA": "England",
          "teamA_score": 3,
          "teamA_win": 1,
          "teamB": "France",
          "teamB_score": 1,
          "teamB_win": 0,
          "tournament_id": "WC-1982",
          "win_diff": -2,
          "year": 1982
         },
         {
          "TotalWin_A": 2,
          "TotalWin_B": 4,
          "match_id": "M-1982-39",
          "match_info": "1982 (1 : 2)",
          "matchup": "Argentina vs Italy",
          "teamA": "Argentina",
          "teamA_score": 1,
          "teamA_win": 0,
          "teamB": "Italy",
          "teamB_score": 2,
          "teamB_win": 1,
          "tournament_id": "WC-1982",
          "win_diff": 2,
          "year": 1982
         },
         {
          "TotalWin_A": 2,
          "TotalWin_B": 6,
          "match_id": "M-1982-40",
          "match_info": "1982 (0 : 0)",
          "matchup": "England vs Germany",
          "teamA": "England",
          "teamA_score": 0,
          "teamA_win": 0,
          "teamB": "Germany",
          "teamB_score": 0,
          "teamB_win": 0,
          "tournament_id": "WC-1982",
          "win_diff": 4,
          "year": 1982
         },
         {
          "TotalWin_A": 2,
          "TotalWin_B": 4,
          "match_id": "M-1982-43",
          "match_info": "1982 (1 : 3)",
          "matchup": "Argentina vs Brazil",
          "teamA": "Argentina",
          "teamA_score": 1,
          "teamA_win": 0,
          "teamB": "Brazil",
          "teamB_score": 3,
          "teamB_win": 1,
          "tournament_id": "WC-1982",
          "win_diff": 2,
          "year": 1982
         },
         {
          "TotalWin_A": 4,
          "TotalWin_B": 2,
          "match_id": "M-1982-44",
          "match_info": "1982 (2 : 1)",
          "matchup": "Germany vs Spain",
          "teamA": "Germany",
          "teamA_score": 2,
          "teamA_win": 1,
          "teamB": "Spain",
          "teamB_score": 1,
          "teamB_win": 0,
          "tournament_id": "WC-1982",
          "win_diff": -2,
          "year": 1982
         },
         {
          "TotalWin_A": 6,
          "TotalWin_B": 2,
          "match_id": "M-1982-47",
          "match_info": "1982 (2 : 3)",
          "matchup": "Brazil vs Italy",
          "teamA": "Brazil",
          "teamA_score": 2,
          "teamA_win": 0,
          "teamB": "Italy",
          "teamB_score": 3,
          "teamB_win": 1,
          "tournament_id": "WC-1982",
          "win_diff": -4,
          "year": 1982
         },
         {
          "TotalWin_A": 0,
          "TotalWin_B": 2,
          "match_id": "M-1982-48",
          "match_info": "1982 (0 : 0)",
          "matchup": "England vs Spain",
          "teamA": "England",
          "teamA_score": 0,
          "teamA_win": 0,
          "teamB": "Spain",
          "teamB_score": 0,
          "teamB_win": 0,
          "tournament_id": "WC-1982",
          "win_diff": 2,
          "year": 1982
         },
         {
          "TotalWin_A": 2,
          "TotalWin_B": 6,
          "match_id": "M-1982-50",
          "match_info": "1982 (3 : 3)",
          "matchup": "France vs Germany",
          "teamA": "France",
          "teamA_score": 3,
          "teamA_win": 0,
          "teamB": "Germany",
          "teamB_score": 3,
          "teamB_win": 1,
          "tournament_id": "WC-1982",
          "win_diff": 4,
          "year": 1982
         },
         {
          "TotalWin_A": 0,
          "TotalWin_B": 6,
          "match_id": "M-1982-52",
          "match_info": "1982 (1 : 3)",
          "matchup": "Germany vs Italy",
          "teamA": "Germany",
          "teamA_score": 1,
          "teamA_win": 0,
          "teamB": "Italy",
          "teamB_score": 3,
          "teamB_win": 1,
          "tournament_id": "WC-1982",
          "win_diff": 6,
          "year": 1982
         },
         {
          "TotalWin_A": 6,
          "TotalWin_B": 0,
          "match_id": "M-1986-02",
          "match_info": "1986 (1 : 0)",
          "matchup": "Brazil vs Spain",
          "teamA": "Brazil",
          "teamA_score": 1,
          "teamA_win": 1,
          "teamB": "Spain",
          "teamB_score": 0,
          "teamB_win": 0,
          "tournament_id": "WC-1986",
          "win_diff": -6,
          "year": 1986
         },
         {
          "TotalWin_A": 6,
          "TotalWin_B": 0,
          "match_id": "M-1986-11",
          "match_info": "1986 (1 : 1)",
          "matchup": "Germany vs Uruguay",
          "teamA": "Germany",
          "teamA_score": 1,
          "teamA_win": 0,
          "teamB": "Uruguay",
          "teamB_score": 1,
          "teamB_win": 0,
          "tournament_id": "WC-1986",
          "win_diff": -6,
          "year": 1986
         },
         {
          "TotalWin_A": 2,
          "TotalWin_B": 4,
          "match_id": "M-1986-13",
          "match_info": "1986 (1 : 1)",
          "matchup": "Argentina vs Italy",
          "teamA": "Argentina",
          "teamA_score": 1,
          "teamA_win": 0,
          "teamB": "Italy",
          "teamB_score": 1,
          "teamB_win": 0,
          "tournament_id": "WC-1986",
          "win_diff": 2,
          "year": 1986
         },
         {
          "TotalWin_A": 2,
          "TotalWin_B": 0,
          "match_id": "M-1986-40",
          "match_info": "1986 (1 : 0)",
          "matchup": "Argentina vs Uruguay",
          "teamA": "Argentina",
          "teamA_score": 1,
          "teamA_win": 1,
          "teamB": "Uruguay",
          "teamB_score": 0,
          "teamB_win": 0,
          "tournament_id": "WC-1986",
          "win_diff": -2,
          "year": 1986
         },
         {
          "TotalWin_A": 4,
          "TotalWin_B": 4,
          "match_id": "M-1986-41",
          "match_info": "1986 (2 : 0)",
          "matchup": "France vs Italy",
          "teamA": "France",
          "teamA_score": 2,
          "teamA_win": 1,
          "teamB": "Italy",
          "teamB_score": 0,
          "teamB_win": 0,
          "tournament_id": "WC-1986",
          "win_diff": 0,
          "year": 1986
         },
         {
          "TotalWin_A": 2,
          "TotalWin_B": 6,
          "match_id": "M-1986-45",
          "match_info": "1986 (1 : 1)",
          "matchup": "Brazil vs France",
          "teamA": "Brazil",
          "teamA_score": 1,
          "teamA_win": 0,
          "teamB": "France",
          "teamB_score": 1,
          "teamB_win": 1,
          "tournament_id": "WC-1986",
          "win_diff": 4,
          "year": 1986
         },
         {
          "TotalWin_A": 4,
          "TotalWin_B": 6,
          "match_id": "M-1986-47",
          "match_info": "1986 (2 : 1)",
          "matchup": "Argentina vs England",
          "teamA": "Argentina",
          "teamA_score": 2,
          "teamA_win": 1,
          "teamB": "England",
          "teamB_score": 1,
          "teamB_win": 0,
          "tournament_id": "WC-1986",
          "win_diff": 2,
          "year": 1986
         },
         {
          "TotalWin_A": 2,
          "TotalWin_B": 6,
          "match_id": "M-1986-49",
          "match_info": "1986 (0 : 2)",
          "matchup": "France vs Germany",
          "teamA": "France",
          "teamA_score": 0,
          "teamA_win": 0,
          "teamB": "Germany",
          "teamB_score": 2,
          "teamB_win": 1,
          "tournament_id": "WC-1986",
          "win_diff": 4,
          "year": 1986
         },
         {
          "TotalWin_A": 2,
          "TotalWin_B": 10,
          "match_id": "M-1986-52",
          "match_info": "1986 (3 : 2)",
          "matchup": "Argentina vs Germany",
          "teamA": "Argentina",
          "teamA_score": 3,
          "teamA_win": 1,
          "teamB": "Germany",
          "teamB_score": 2,
          "teamB_win": 0,
          "tournament_id": "WC-1986",
          "win_diff": 8,
          "year": 1986
         },
         {
          "TotalWin_A": 0,
          "TotalWin_B": 0,
          "match_id": "M-1990-12",
          "match_info": "1990 (0 : 0)",
          "matchup": "Spain vs Uruguay",
          "teamA": "Spain",
          "teamA_score": 0,
          "teamA_win": 0,
          "teamB": "Uruguay",
          "teamB_score": 0,
          "teamB_win": 0,
          "tournament_id": "WC-1990",
          "win_diff": 0,
          "year": 1990
         },
         {
          "TotalWin_A": 2,
          "TotalWin_B": 4,
          "match_id": "M-1990-39",
          "match_info": "1990 (1 : 0)",
          "matchup": "Argentina vs Brazil",
          "teamA": "Argentina",
          "teamA_score": 1,
          "teamA_win": 1,
          "teamB": "Brazil",
          "teamB_score": 0,
          "teamB_win": 0,
          "tournament_id": "WC-1990",
          "win_diff": 2,
          "year": 1990
         },
         {
          "TotalWin_A": 2,
          "TotalWin_B": 2,
          "match_id": "M-1990-42",
          "match_info": "1990 (2 : 0)",
          "matchup": "Italy vs Uruguay",
          "teamA": "Italy",
          "teamA_score": 2,
          "teamA_win": 1,
          "teamB": "Uruguay",
          "teamB_score": 0,
          "teamB_win": 0,
          "tournament_id": "WC-1990",
          "win_diff": 0,
          "year": 1990
         },
         {
          "TotalWin_A": 2,
          "TotalWin_B": 4,
          "match_id": "M-1990-49",
          "match_info": "1990 (1 : 1)",
          "matchup": "Argentina vs Italy",
          "teamA": "Argentina",
          "teamA_score": 1,
          "teamA_win": 1,
          "teamB": "Italy",
          "teamB_score": 1,
          "teamB_win": 0,
          "tournament_id": "WC-1990",
          "win_diff": 2,
          "year": 1990
         },
         {
          "TotalWin_A": 2,
          "TotalWin_B": 6,
          "match_id": "M-1990-50",
          "match_info": "1990 (1 : 1)",
          "matchup": "England vs Germany",
          "teamA": "England",
          "teamA_score": 1,
          "teamA_win": 0,
          "teamB": "Germany",
          "teamB_score": 1,
          "teamB_win": 1,
          "tournament_id": "WC-1990",
          "win_diff": 4,
          "year": 1990
         },
         {
          "TotalWin_A": 0,
          "TotalWin_B": 4,
          "match_id": "M-1990-51",
          "match_info": "1990 (1 : 2)",
          "matchup": "England vs Italy",
          "teamA": "England",
          "teamA_score": 1,
          "teamA_win": 0,
          "teamB": "Italy",
          "teamB_score": 2,
          "teamB_win": 1,
          "tournament_id": "WC-1990",
          "win_diff": 4,
          "year": 1990
         },
         {
          "TotalWin_A": 2,
          "TotalWin_B": 10,
          "match_id": "M-1990-52",
          "match_info": "1990 (0 : 1)",
          "matchup": "Argentina vs Germany",
          "teamA": "Argentina",
          "teamA_score": 0,
          "teamA_win": 0,
          "teamB": "Germany",
          "teamB_score": 1,
          "teamB_win": 1,
          "tournament_id": "WC-1990",
          "win_diff": 8,
          "year": 1990
         },
         {
          "TotalWin_A": 4,
          "TotalWin_B": 2,
          "match_id": "M-1994-12",
          "match_info": "1994 (1 : 1)",
          "matchup": "Germany vs Spain",
          "teamA": "Germany",
          "teamA_score": 1,
          "teamA_win": 0,
          "teamB": "Spain",
          "teamB_score": 1,
          "teamB_win": 0,
          "tournament_id": "WC-1994",
          "win_diff": -2,
          "year": 1994
         },
         {
          "TotalWin_A": 2,
          "TotalWin_B": 0,
          "match_id": "M-1994-45",
          "match_info": "1994 (2 : 1)",
          "matchup": "Italy vs Spain",
          "teamA": "Italy",
          "teamA_score": 2,
          "teamA_win": 1,
          "teamB": "Spain",
          "teamB_score": 1,
          "teamB_win": 0,
          "tournament_id": "WC-1994",
          "win_diff": -2,
          "year": 1994
         },
         {
          "TotalWin_A": 6,
          "TotalWin_B": 2,
          "match_id": "M-1994-52",
          "match_info": "1994 (0 : 0)",
          "matchup": "Brazil vs Italy",
          "teamA": "Brazil",
          "teamA_score": 0,
          "teamA_win": 1,
          "teamB": "Italy",
          "teamB_score": 0,
          "teamB_win": 0,
          "tournament_id": "WC-1994",
          "win_diff": -4,
          "year": 1994
         },
         {
          "TotalWin_A": 4,
          "TotalWin_B": 6,
          "match_id": "M-1998-56",
          "match_info": "1998 (2 : 2)",
          "matchup": "Argentina vs England",
          "teamA": "Argentina",
          "teamA_score": 2,
          "teamA_win": 1,
          "teamB": "England",
          "teamB_score": 2,
          "teamB_win": 0,
          "tournament_id": "WC-1998",
          "win_diff": 2,
          "year": 1998
         },
         {
          "TotalWin_A": 4,
          "TotalWin_B": 4,
          "match_id": "M-1998-57",
          "match_info": "1998 (0 : 0)",
          "matchup": "France vs Italy",
          "teamA": "France",
          "teamA_score": 0,
          "teamA_win": 1,
          "teamB": "Italy",
          "teamB_score": 0,
          "teamB_win": 0,
          "tournament_id": "WC-1998",
          "win_diff": 0,
          "year": 1998
         },
         {
          "TotalWin_A": 2,
          "TotalWin_B": 6,
          "match_id": "M-1998-64",
          "match_info": "1998 (0 : 3)",
          "matchup": "Brazil vs France",
          "teamA": "Brazil",
          "teamA_score": 0,
          "teamA_win": 0,
          "teamB": "France",
          "teamB_score": 3,
          "teamB_win": 1,
          "tournament_id": "WC-1998",
          "win_diff": 4,
          "year": 1998
         },
         {
          "TotalWin_A": 2,
          "TotalWin_B": 2,
          "match_id": "M-2002-20",
          "match_info": "2002 (0 : 0)",
          "matchup": "France vs Uruguay",
          "teamA": "France",
          "teamA_score": 0,
          "teamA_win": 0,
          "teamB": "Uruguay",
          "teamB_score": 0,
          "teamB_win": 0,
          "tournament_id": "WC-2002",
          "win_diff": 0,
          "year": 2002
         },
         {
          "TotalWin_A": 4,
          "TotalWin_B": 6,
          "match_id": "M-2002-23",
          "match_info": "2002 (0 : 1)",
          "matchup": "Argentina vs England",
          "teamA": "Argentina",
          "teamA_score": 0,
          "teamA_win": 0,
          "teamB": "England",
          "teamB_score": 1,
          "teamB_win": 1,
          "tournament_id": "WC-2002",
          "win_diff": 2,
          "year": 2002
         },
         {
          "TotalWin_A": 6,
          "TotalWin_B": 0,
          "match_id": "M-2002-57",
          "match_info": "2002 (2 : 1)",
          "matchup": "Brazil vs England",
          "teamA": "Brazil",
          "teamA_score": 2,
          "teamA_win": 1,
          "teamB": "England",
          "teamB_score": 1,
          "teamB_win": 0,
          "tournament_id": "WC-2002",
          "win_diff": -6,
          "year": 2002
         },
         {
          "TotalWin_A": 2,
          "TotalWin_B": 2,
          "match_id": "M-2002-64",
          "match_info": "2002 (2 : 0)",
          "matchup": "Brazil vs Germany",
          "teamA": "Brazil",
          "teamA_score": 2,
          "teamA_win": 1,
          "teamB": "Germany",
          "teamB_score": 0,
          "teamB_win": 0,
          "tournament_id": "WC-2002",
          "win_diff": 0,
          "year": 2002
         },
         {
          "TotalWin_A": 2,
          "TotalWin_B": 0,
          "match_id": "M-2006-56",
          "match_info": "2006 (3 : 1)",
          "matchup": "France vs Spain",
          "teamA": "France",
          "teamA_score": 3,
          "teamA_win": 1,
          "teamB": "Spain",
          "teamB_score": 1,
          "teamB_win": 0,
          "tournament_id": "WC-2006",
          "win_diff": -2,
          "year": 2006
         },
         {
          "TotalWin_A": 2,
          "TotalWin_B": 10,
          "match_id": "M-2006-57",
          "match_info": "2006 (1 : 1)",
          "matchup": "Argentina vs Germany",
          "teamA": "Argentina",
          "teamA_score": 1,
          "teamA_win": 0,
          "teamB": "Germany",
          "teamB_score": 1,
          "teamB_win": 1,
          "tournament_id": "WC-2006",
          "win_diff": 8,
          "year": 2006
         },
         {
          "TotalWin_A": 2,
          "TotalWin_B": 6,
          "match_id": "M-2006-60",
          "match_info": "2006 (0 : 1)",
          "matchup": "Brazil vs France",
          "teamA": "Brazil",
          "teamA_score": 0,
          "teamA_win": 0,
          "teamB": "France",
          "teamB_score": 1,
          "teamB_win": 1,
          "tournament_id": "WC-2006",
          "win_diff": 4,
          "year": 2006
         },
         {
          "TotalWin_A": 0,
          "TotalWin_B": 6,
          "match_id": "M-2006-61",
          "match_info": "2006 (0 : 2)",
          "matchup": "Germany vs Italy",
          "teamA": "Germany",
          "teamA_score": 0,
          "teamA_win": 0,
          "teamB": "Italy",
          "teamB_score": 2,
          "teamB_win": 1,
          "tournament_id": "WC-2006",
          "win_diff": 6,
          "year": 2006
         },
         {
          "TotalWin_A": 4,
          "TotalWin_B": 4,
          "match_id": "M-2006-64",
          "match_info": "2006 (1 : 1)",
          "matchup": "France vs Italy",
          "teamA": "France",
          "teamA_score": 1,
          "teamA_win": 0,
          "teamB": "Italy",
          "teamB_score": 1,
          "teamB_win": 1,
          "tournament_id": "WC-2006",
          "win_diff": 0,
          "year": 2006
         },
         {
          "TotalWin_A": 2,
          "TotalWin_B": 2,
          "match_id": "M-2010-02",
          "match_info": "2010 (0 : 0)",
          "matchup": "France vs Uruguay",
          "teamA": "France",
          "teamA_score": 0,
          "teamA_win": 0,
          "teamB": "Uruguay",
          "teamB_score": 0,
          "teamB_win": 0,
          "tournament_id": "WC-2010",
          "win_diff": 0,
          "year": 2010
         },
         {
          "TotalWin_A": 2,
          "TotalWin_B": 6,
          "match_id": "M-2010-51",
          "match_info": "2010 (1 : 4)",
          "matchup": "England vs Germany",
          "teamA": "England",
          "teamA_score": 1,
          "teamA_win": 0,
          "teamB": "Germany",
          "teamB_score": 4,
          "teamB_win": 1,
          "tournament_id": "WC-2010",
          "win_diff": 4,
          "year": 2010
         },
         {
          "TotalWin_A": 2,
          "TotalWin_B": 10,
          "match_id": "M-2010-59",
          "match_info": "2010 (0 : 4)",
          "matchup": "Argentina vs Germany",
          "teamA": "Argentina",
          "teamA_score": 0,
          "teamA_win": 0,
          "teamB": "Germany",
          "teamB_score": 4,
          "teamB_win": 1,
          "tournament_id": "WC-2010",
          "win_diff": 8,
          "year": 2010
         },
         {
          "TotalWin_A": 4,
          "TotalWin_B": 2,
          "match_id": "M-2010-62",
          "match_info": "2010 (0 : 1)",
          "matchup": "Germany vs Spain",
          "teamA": "Germany",
          "teamA_score": 0,
          "teamA_win": 0,
          "teamB": "Spain",
          "teamB_score": 1,
          "teamB_win": 1,
          "tournament_id": "WC-2010",
          "win_diff": -2,
          "year": 2010
         },
         {
          "TotalWin_A": 6,
          "TotalWin_B": 0,
          "match_id": "M-2010-63",
          "match_info": "2010 (3 : 2)",
          "matchup": "Germany vs Uruguay",
          "teamA": "Germany",
          "teamA_score": 3,
          "teamA_win": 1,
          "teamB": "Uruguay",
          "teamB_score": 2,
          "teamB_win": 0,
          "tournament_id": "WC-2010",
          "win_diff": -6,
          "year": 2010
         },
         {
          "TotalWin_A": 0,
          "TotalWin_B": 4,
          "match_id": "M-2014-07",
          "match_info": "2014 (1 : 2)",
          "matchup": "England vs Italy",
          "teamA": "England",
          "teamA_score": 1,
          "teamA_win": 0,
          "teamB": "Italy",
          "teamB_score": 2,
          "teamB_win": 1,
          "tournament_id": "WC-2014",
          "win_diff": 4,
          "year": 2014
         },
         {
          "TotalWin_A": 0,
          "TotalWin_B": 4,
          "match_id": "M-2014-22",
          "match_info": "2014 (1 : 2)",
          "matchup": "England vs Uruguay",
          "teamA": "England",
          "teamA_score": 1,
          "teamA_win": 0,
          "teamB": "Uruguay",
          "teamB_score": 2,
          "teamB_win": 1,
          "tournament_id": "WC-2014",
          "win_diff": 4,
          "year": 2014
         },
         {
          "TotalWin_A": 2,
          "TotalWin_B": 2,
          "match_id": "M-2014-38",
          "match_info": "2014 (0 : 1)",
          "matchup": "Italy vs Uruguay",
          "teamA": "Italy",
          "teamA_score": 0,
          "teamA_win": 0,
          "teamB": "Uruguay",
          "teamB_score": 1,
          "teamB_win": 1,
          "tournament_id": "WC-2014",
          "win_diff": 0,
          "year": 2014
         },
         {
          "TotalWin_A": 2,
          "TotalWin_B": 6,
          "match_id": "M-2014-57",
          "match_info": "2014 (0 : 1)",
          "matchup": "France vs Germany",
          "teamA": "France",
          "teamA_score": 0,
          "teamA_win": 0,
          "teamB": "Germany",
          "teamB_score": 1,
          "teamB_win": 1,
          "tournament_id": "WC-2014",
          "win_diff": 4,
          "year": 2014
         },
         {
          "TotalWin_A": 2,
          "TotalWin_B": 2,
          "match_id": "M-2014-61",
          "match_info": "2014 (1 : 7)",
          "matchup": "Brazil vs Germany",
          "teamA": "Brazil",
          "teamA_score": 1,
          "teamA_win": 0,
          "teamB": "Germany",
          "teamB_score": 7,
          "teamB_win": 1,
          "tournament_id": "WC-2014",
          "win_diff": 0,
          "year": 2014
         },
         {
          "TotalWin_A": 2,
          "TotalWin_B": 10,
          "match_id": "M-2014-64",
          "match_info": "2014 (0 : 1)",
          "matchup": "Argentina vs Germany",
          "teamA": "Argentina",
          "teamA_score": 0,
          "teamA_win": 0,
          "teamB": "Germany",
          "teamB_score": 1,
          "teamB_win": 1,
          "tournament_id": "WC-2014",
          "win_diff": 8,
          "year": 2014
         },
         {
          "TotalWin_A": 4,
          "TotalWin_B": 2,
          "match_id": "M-2018-49",
          "match_info": "2018 (3 : 4)",
          "matchup": "Argentina vs France",
          "teamA": "Argentina",
          "teamA_score": 3,
          "teamA_win": 0,
          "teamB": "France",
          "teamB_score": 4,
          "teamB_win": 1,
          "tournament_id": "WC-2018",
          "win_diff": -2,
          "year": 2018
         },
         {
          "TotalWin_A": 2,
          "TotalWin_B": 2,
          "match_id": "M-2018-57",
          "match_info": "2018 (2 : 0)",
          "matchup": "France vs Uruguay",
          "teamA": "France",
          "teamA_score": 2,
          "teamA_win": 1,
          "teamB": "Uruguay",
          "teamB_score": 0,
          "teamB_win": 0,
          "tournament_id": "WC-2018",
          "win_diff": 0,
          "year": 2018
         },
         {
          "TotalWin_A": 4,
          "TotalWin_B": 2,
          "match_id": "M-2022-28",
          "match_info": "2022 (1 : 1)",
          "matchup": "Germany vs Spain",
          "teamA": "Germany",
          "teamA_score": 1,
          "teamA_win": 0,
          "teamB": "Spain",
          "teamB_score": 1,
          "teamB_win": 0,
          "tournament_id": "WC-2022",
          "win_diff": -2,
          "year": 2022
         },
         {
          "TotalWin_A": 4,
          "TotalWin_B": 2,
          "match_id": "M-2022-60",
          "match_info": "2022 (1 : 2)",
          "matchup": "England vs France",
          "teamA": "England",
          "teamA_score": 1,
          "teamA_win": 0,
          "teamB": "France",
          "teamB_score": 2,
          "teamB_win": 1,
          "tournament_id": "WC-2022",
          "win_diff": -2,
          "year": 2022
         },
         {
          "TotalWin_A": 4,
          "TotalWin_B": 2,
          "match_id": "M-2022-64",
          "match_info": "2022 (3 : 3)",
          "matchup": "Argentina vs France",
          "teamA": "Argentina",
          "teamA_score": 3,
          "teamA_win": 1,
          "teamB": "France",
          "teamB_score": 3,
          "teamB_win": 0,
          "tournament_id": "WC-2022",
          "win_diff": -2,
          "year": 2022
         },
         {
          "TotalWin_A": 0,
          "TotalWin_B": 2,
          "match_id": "M-1950-13",
          "match_info": "1950 (1 : 0)",
          "matchup": "England vs Spain",
          "teamA": "Spain",
          "teamA_score": 1,
          "teamA_win": 1,
          "teamB": "England",
          "teamB_score": 0,
          "teamB_win": 0,
          "tournament_id": "WC-1950",
          "win_diff": 2,
          "year": 1950
         },
         {
          "TotalWin_A": 0,
          "TotalWin_B": 0,
          "match_id": "M-1950-18",
          "match_info": "1950 (2 : 2)",
          "matchup": "Spain vs Uruguay",
          "teamA": "Uruguay",
          "teamA_score": 2,
          "teamA_win": 0,
          "teamB": "Spain",
          "teamB_score": 2,
          "teamB_win": 0,
          "tournament_id": "WC-1950",
          "win_diff": 0,
          "year": 1950
         },
         {
          "TotalWin_A": 6,
          "TotalWin_B": 0,
          "match_id": "M-1950-19",
          "match_info": "1950 (1 : 6)",
          "matchup": "Brazil vs Spain",
          "teamA": "Spain",
          "teamA_score": 1,
          "teamA_win": 0,
          "teamB": "Brazil",
          "teamB_score": 6,
          "teamB_win": 1,
          "tournament_id": "WC-1950",
          "win_diff": -6,
          "year": 1950
         },
         {
          "TotalWin_A": 2,
          "TotalWin_B": 2,
          "match_id": "M-1950-22",
          "match_info": "1950 (2 : 1)",
          "matchup": "Brazil vs Uruguay",
          "teamA": "Uruguay",
          "teamA_score": 2,
          "teamA_win": 1,
          "teamB": "Brazil",
          "teamB_score": 1,
          "teamB_win": 0,
          "tournament_id": "WC-1950",
          "win_diff": 0,
          "year": 1950
         },
         {
          "TotalWin_A": 0,
          "TotalWin_B": 4,
          "match_id": "M-1954-20",
          "match_info": "1954 (4 : 2)",
          "matchup": "England vs Uruguay",
          "teamA": "Uruguay",
          "teamA_score": 4,
          "teamA_win": 1,
          "teamB": "England",
          "teamB_score": 2,
          "teamB_win": 0,
          "tournament_id": "WC-1954",
          "win_diff": 4,
          "year": 1954
         },
         {
          "TotalWin_A": 2,
          "TotalWin_B": 10,
          "match_id": "M-1958-02",
          "match_info": "1958 (3 : 1)",
          "matchup": "Argentina vs Germany",
          "teamA": "Germany",
          "teamA_score": 3,
          "teamA_win": 1,
          "teamB": "Argentina",
          "teamB_score": 1,
          "teamB_win": 0,
          "tournament_id": "WC-1958",
          "win_diff": 8,
          "year": 1958
         },
         {
          "TotalWin_A": 6,
          "TotalWin_B": 0,
          "match_id": "M-1958-14",
          "match_info": "1958 (0 : 0)",
          "matchup": "Brazil vs England",
          "teamA": "England",
          "teamA_score": 0,
          "teamA_win": 0,
          "teamB": "Brazil",
          "teamB_score": 0,
          "teamB_win": 0,
          "tournament_id": "WC-1958",
          "win_diff": -6,
          "year": 1958
         },
         {
          "TotalWin_A": 2,
          "TotalWin_B": 6,
          "match_id": "M-1958-32",
          "match_info": "1958 (2 : 5)",
          "matchup": "Brazil vs France",
          "teamA": "France",
          "teamA_score": 2,
          "teamA_win": 0,
          "teamB": "Brazil",
          "teamB_score": 5,
          "teamB_win": 1,
          "tournament_id": "WC-1958",
          "win_diff": 4,
          "year": 1958
         },
         {
          "TotalWin_A": 2,
          "TotalWin_B": 6,
          "match_id": "M-1958-34",
          "match_info": "1958 (3 : 6)",
          "matchup": "France vs Germany",
          "teamA": "Germany",
          "teamA_score": 3,
          "teamA_win": 0,
          "teamB": "France",
          "teamB_score": 6,
          "teamB_win": 1,
          "tournament_id": "WC-1958",
          "win_diff": 4,
          "year": 1958
         },
         {
          "TotalWin_A": 0,
          "TotalWin_B": 6,
          "match_id": "M-1962-06",
          "match_info": "1962 (0 : 0)",
          "matchup": "Germany vs Italy",
          "teamA": "Italy",
          "teamA_score": 0,
          "teamA_win": 0,
          "teamB": "Germany",
          "teamB_score": 0,
          "teamB_win": 0,
          "tournament_id": "WC-1962",
          "win_diff": 6,
          "year": 1962
         },
         {
          "TotalWin_A": 4,
          "TotalWin_B": 6,
          "match_id": "M-1962-12",
          "match_info": "1962 (3 : 1)",
          "matchup": "Argentina vs England",
          "teamA": "England",
          "teamA_score": 3,
          "teamA_win": 1,
          "teamB": "Argentina",
          "teamB_score": 1,
          "teamB_win": 0,
          "tournament_id": "WC-1962",
          "win_diff": 2,
          "year": 1962
         },
         {
          "TotalWin_A": 6,
          "TotalWin_B": 0,
          "match_id": "M-1962-19",
          "match_info": "1962 (1 : 2)",
          "matchup": "Brazil vs Spain",
          "teamA": "Spain",
          "teamA_score": 1,
          "teamA_win": 0,
          "teamB": "Brazil",
          "teamB_score": 2,
          "teamB_win": 1,
          "tournament_id": "WC-1962",
          "win_diff": -6,
          "year": 1962
         },
         {
          "TotalWin_A": 6,
          "TotalWin_B": 0,
          "match_id": "M-1962-25",
          "match_info": "1962 (1 : 3)",
          "matchup": "Brazil vs England",
          "teamA": "England",
          "teamA_score": 1,
          "teamA_win": 0,
          "teamB": "Brazil",
          "teamB_score": 3,
          "teamB_win": 1,
          "tournament_id": "WC-1962",
          "win_diff": -6,
          "year": 1962
         },
         {
          "TotalWin_A": 0,
          "TotalWin_B": 4,
          "match_id": "M-1966-01",
          "match_info": "1966 (0 : 0)",
          "matchup": "England vs Uruguay",
          "teamA": "Uruguay",
          "teamA_score": 0,
          "teamA_win": 0,
          "teamB": "England",
          "teamB_score": 0,
          "teamB_win": 0,
          "tournament_id": "WC-1966",
          "win_diff": 4,
          "year": 1966
         },
         {
          "TotalWin_A": 2,
          "TotalWin_B": 0,
          "match_id": "M-1966-06",
          "match_info": "1966 (1 : 2)",
          "matchup": "Argentina vs Spain",
          "teamA": "Spain",
          "teamA_score": 1,
          "teamA_win": 0,
          "teamB": "Argentina",
          "teamB_score": 2,
          "teamB_win": 1,
          "tournament_id": "WC-1966",
          "win_diff": -2,
          "year": 1966
         },
         {
          "TotalWin_A": 2,
          "TotalWin_B": 2,
          "match_id": "M-1966-09",
          "match_info": "1966 (2 : 1)",
          "matchup": "France vs Uruguay",
          "teamA": "Uruguay",
          "teamA_score": 2,
          "teamA_win": 1,
          "teamB": "France",
          "teamB_score": 1,
          "teamB_win": 0,
          "tournament_id": "WC-1966",
          "win_diff": 0,
          "year": 1966
         },
         {
          "TotalWin_A": 2,
          "TotalWin_B": 10,
          "match_id": "M-1966-13",
          "match_info": "1966 (0 : 0)",
          "matchup": "Argentina vs Germany",
          "teamA": "Germany",
          "teamA_score": 0,
          "teamA_win": 0,
          "teamB": "Argentina",
          "teamB_score": 0,
          "teamB_win": 0,
          "tournament_id": "WC-1966",
          "win_diff": 8,
          "year": 1966
         },
         {
          "TotalWin_A": 4,
          "TotalWin_B": 2,
          "match_id": "M-1966-21",
          "match_info": "1966 (0 : 2)",
          "matchup": "England vs France",
          "teamA": "France",
          "teamA_score": 0,
          "teamA_win": 0,
          "teamB": "England",
          "teamB_score": 2,
          "teamB_win": 1,
          "tournament_id": "WC-1966",
          "win_diff": -2,
          "year": 1966
         },
         {
          "TotalWin_A": 4,
          "TotalWin_B": 2,
          "match_id": "M-1966-22",
          "match_info": "1966 (1 : 2)",
          "matchup": "Germany vs Spain",
          "teamA": "Spain",
          "teamA_score": 1,
          "teamA_win": 0,
          "teamB": "Germany",
          "teamB_score": 2,
          "teamB_win": 1,
          "tournament_id": "WC-1966",
          "win_diff": -2,
          "year": 1966
         },
         {
          "TotalWin_A": 4,
          "TotalWin_B": 6,
          "match_id": "M-1966-25",
          "match_info": "1966 (1 : 0)",
          "matchup": "Argentina vs England",
          "teamA": "England",
          "teamA_score": 1,
          "teamA_win": 1,
          "teamB": "Argentina",
          "teamB_score": 0,
          "teamB_win": 0,
          "tournament_id": "WC-1966",
          "win_diff": 2,
          "year": 1966
         },
         {
          "TotalWin_A": 6,
          "TotalWin_B": 0,
          "match_id": "M-1966-28",
          "match_info": "1966 (0 : 4)",
          "matchup": "Germany vs Uruguay",
          "teamA": "Uruguay",
          "teamA_score": 0,
          "teamA_win": 0,
          "teamB": "Germany",
          "teamB_score": 4,
          "teamB_win": 1,
          "tournament_id": "WC-1966",
          "win_diff": -6,
          "year": 1966
         },
         {
          "TotalWin_A": 2,
          "TotalWin_B": 6,
          "match_id": "M-1966-32",
          "match_info": "1966 (2 : 4)",
          "matchup": "England vs Germany",
          "teamA": "Germany",
          "teamA_score": 2,
          "teamA_win": 0,
          "teamB": "England",
          "teamB_score": 4,
          "teamB_win": 1,
          "tournament_id": "WC-1966",
          "win_diff": 4,
          "year": 1966
         },
         {
          "TotalWin_A": 2,
          "TotalWin_B": 2,
          "match_id": "M-1970-10",
          "match_info": "1970 (0 : 0)",
          "matchup": "Italy vs Uruguay",
          "teamA": "Uruguay",
          "teamA_score": 0,
          "teamA_win": 0,
          "teamB": "Italy",
          "teamB_score": 0,
          "teamB_win": 0,
          "tournament_id": "WC-1970",
          "win_diff": 0,
          "year": 1970
         },
         {
          "TotalWin_A": 6,
          "TotalWin_B": 0,
          "match_id": "M-1970-15",
          "match_info": "1970 (0 : 1)",
          "matchup": "Brazil vs England",
          "teamA": "England",
          "teamA_score": 0,
          "teamA_win": 0,
          "teamB": "Brazil",
          "teamB_score": 1,
          "teamB_win": 1,
          "tournament_id": "WC-1970",
          "win_diff": -6,
          "year": 1970
         },
         {
          "TotalWin_A": 2,
          "TotalWin_B": 6,
          "match_id": "M-1970-28",
          "match_info": "1970 (3 : 2)",
          "matchup": "England vs Germany",
          "teamA": "Germany",
          "teamA_score": 3,
          "teamA_win": 1,
          "teamB": "England",
          "teamB_score": 2,
          "teamB_win": 0,
          "tournament_id": "WC-1970",
          "win_diff": 4,
          "year": 1970
         },
         {
          "TotalWin_A": 2,
          "TotalWin_B": 2,
          "match_id": "M-1970-29",
          "match_info": "1970 (1 : 3)",
          "matchup": "Brazil vs Uruguay",
          "teamA": "Uruguay",
          "teamA_score": 1,
          "teamA_win": 0,
          "teamB": "Brazil",
          "teamB_score": 3,
          "teamB_win": 1,
          "tournament_id": "WC-1970",
          "win_diff": 0,
          "year": 1970
         },
         {
          "TotalWin_A": 0,
          "TotalWin_B": 6,
          "match_id": "M-1970-30",
          "match_info": "1970 (4 : 3)",
          "matchup": "Germany vs Italy",
          "teamA": "Italy",
          "teamA_score": 4,
          "teamA_win": 1,
          "teamB": "Germany",
          "teamB_score": 3,
          "teamB_win": 0,
          "tournament_id": "WC-1970",
          "win_diff": 6,
          "year": 1970
         },
         {
          "TotalWin_A": 6,
          "TotalWin_B": 0,
          "match_id": "M-1970-31",
          "match_info": "1970 (0 : 1)",
          "matchup": "Germany vs Uruguay",
          "teamA": "Uruguay",
          "teamA_score": 0,
          "teamA_win": 0,
          "teamB": "Germany",
          "teamB_score": 1,
          "teamB_win": 1,
          "tournament_id": "WC-1970",
          "win_diff": -6,
          "year": 1970
         },
         {
          "TotalWin_A": 6,
          "TotalWin_B": 2,
          "match_id": "M-1970-32",
          "match_info": "1970 (1 : 4)",
          "matchup": "Brazil vs Italy",
          "teamA": "Italy",
          "teamA_score": 1,
          "teamA_win": 0,
          "teamB": "Brazil",
          "teamB_score": 4,
          "teamB_win": 1,
          "tournament_id": "WC-1970",
          "win_diff": -4,
          "year": 1970
         },
         {
          "TotalWin_A": 2,
          "TotalWin_B": 4,
          "match_id": "M-1974-15",
          "match_info": "1974 (1 : 1)",
          "matchup": "Argentina vs Italy",
          "teamA": "Italy",
          "teamA_score": 1,
          "teamA_win": 0,
          "teamB": "Argentina",
          "teamB_score": 1,
          "teamB_win": 0,
          "tournament_id": "WC-1974",
          "win_diff": 2,
          "year": 1974
         },
         {
          "TotalWin_A": 2,
          "TotalWin_B": 4,
          "match_id": "M-1974-29",
          "match_info": "1974 (2 : 1)",
          "matchup": "Argentina vs Brazil",
          "teamA": "Brazil",
          "teamA_score": 2,
          "teamA_win": 1,
          "teamB": "Argentina",
          "teamB_score": 1,
          "teamB_win": 0,
          "tournament_id": "WC-1974",
          "win_diff": 2,
          "year": 1974
         },
         {
          "TotalWin_A": 4,
          "TotalWin_B": 4,
          "match_id": "M-1978-02",
          "match_info": "1978 (2 : 1)",
          "matchup": "France vs Italy",
          "teamA": "Italy",
          "teamA_score": 2,
          "teamA_win": 1,
          "teamB": "France",
          "teamB_score": 1,
          "teamB_win": 0,
          "tournament_id": "WC-1978",
          "win_diff": 0,
          "year": 1978
         },
         {
          "TotalWin_A": 4,
          "TotalWin_B": 2,
          "match_id": "M-1978-12",
          "match_info": "1978 (1 : 2)",
          "matchup": "Argentina vs France",
          "teamA": "France",
          "teamA_score": 1,
          "teamA_win": 0,
          "teamB": "Argentina",
          "teamB_score": 2,
          "teamB_win": 1,
          "tournament_id": "WC-1978",
          "win_diff": -2,
          "year": 1978
         },
         {
          "TotalWin_A": 6,
          "TotalWin_B": 0,
          "match_id": "M-1978-14",
          "match_info": "1978 (0 : 0)",
          "matchup": "Brazil vs Spain",
          "teamA": "Spain",
          "teamA_score": 0,
          "teamA_win": 0,
          "teamB": "Brazil",
          "teamB_score": 0,
          "teamB_win": 0,
          "tournament_id": "WC-1978",
          "win_diff": -6,
          "year": 1978
         },
         {
          "TotalWin_A": 2,
          "TotalWin_B": 4,
          "match_id": "M-1978-20",
          "match_info": "1978 (1 : 0)",
          "matchup": "Argentina vs Italy",
          "teamA": "Italy",
          "teamA_score": 1,
          "teamA_win": 1,
          "teamB": "Argentina",
          "teamB_score": 0,
          "teamB_win": 0,
          "tournament_id": "WC-1978",
          "win_diff": 2,
          "year": 1978
         },
         {
          "TotalWin_A": 0,
          "TotalWin_B": 6,
          "match_id": "M-1978-26",
          "match_info": "1978 (0 : 0)",
          "matchup": "Germany vs Italy",
          "teamA": "Italy",
          "teamA_score": 0,
          "teamA_win": 0,
          "teamB": "Germany",
          "teamB_score": 0,
          "teamB_win": 0,
          "tournament_id": "WC-1978",
          "win_diff": 6,
          "year": 1978
         },
         {
          "TotalWin_A": 2,
          "TotalWin_B": 4,
          "match_id": "M-1978-32",
          "match_info": "1978 (0 : 0)",
          "matchup": "Argentina vs Brazil",
          "teamA": "Brazil",
          "teamA_score": 0,
          "teamA_win": 0,
          "teamB": "Argentina",
          "teamB_score": 0,
          "teamB_win": 0,
          "tournament_id": "WC-1978",
          "win_diff": 2,
          "year": 1978
         },
         {
          "TotalWin_A": 6,
          "TotalWin_B": 2,
          "match_id": "M-1978-37",
          "match_info": "1978 (1 : 2)",
          "matchup": "Brazil vs Italy",
          "teamA": "Italy",
          "teamA_score": 1,
          "teamA_win": 0,
          "teamB": "Brazil",
          "teamB_score": 2,
          "teamB_win": 1,
          "tournament_id": "WC-1978",
          "win_diff": -4,
          "year": 1978
         },
         {
          "TotalWin_A": 4,
          "TotalWin_B": 2,
          "match_id": "M-1982-08",
          "match_info": "1982 (1 : 3)",
          "matchup": "England vs France",
          "teamA": "France",
          "teamA_score": 1,
          "teamA_win": 0,
          "teamB": "England",
          "teamB_score": 3,
          "teamB_win": 1,
          "tournament_id": "WC-1982",
          "win_diff": -2,
          "year": 1982
         },
         {
          "TotalWin_A": 2,
          "TotalWin_B": 4,
          "match_id": "M-1982-39",
          "match_info": "1982 (2 : 1)",
          "matchup": "Argentina vs Italy",
          "teamA": "Italy",
          "teamA_score": 2,
          "teamA_win": 1,
          "teamB": "Argentina",
          "teamB_score": 1,
          "teamB_win": 0,
          "tournament_id": "WC-1982",
          "win_diff": 2,
          "year": 1982
         },
         {
          "TotalWin_A": 2,
          "TotalWin_B": 6,
          "match_id": "M-1982-40",
          "match_info": "1982 (0 : 0)",
          "matchup": "England vs Germany",
          "teamA": "Germany",
          "teamA_score": 0,
          "teamA_win": 0,
          "teamB": "England",
          "teamB_score": 0,
          "teamB_win": 0,
          "tournament_id": "WC-1982",
          "win_diff": 4,
          "year": 1982
         },
         {
          "TotalWin_A": 2,
          "TotalWin_B": 4,
          "match_id": "M-1982-43",
          "match_info": "1982 (3 : 1)",
          "matchup": "Argentina vs Brazil",
          "teamA": "Brazil",
          "teamA_score": 3,
          "teamA_win": 1,
          "teamB": "Argentina",
          "teamB_score": 1,
          "teamB_win": 0,
          "tournament_id": "WC-1982",
          "win_diff": 2,
          "year": 1982
         },
         {
          "TotalWin_A": 4,
          "TotalWin_B": 2,
          "match_id": "M-1982-44",
          "match_info": "1982 (1 : 2)",
          "matchup": "Germany vs Spain",
          "teamA": "Spain",
          "teamA_score": 1,
          "teamA_win": 0,
          "teamB": "Germany",
          "teamB_score": 2,
          "teamB_win": 1,
          "tournament_id": "WC-1982",
          "win_diff": -2,
          "year": 1982
         },
         {
          "TotalWin_A": 6,
          "TotalWin_B": 2,
          "match_id": "M-1982-47",
          "match_info": "1982 (3 : 2)",
          "matchup": "Brazil vs Italy",
          "teamA": "Italy",
          "teamA_score": 3,
          "teamA_win": 1,
          "teamB": "Brazil",
          "teamB_score": 2,
          "teamB_win": 0,
          "tournament_id": "WC-1982",
          "win_diff": -4,
          "year": 1982
         },
         {
          "TotalWin_A": 0,
          "TotalWin_B": 2,
          "match_id": "M-1982-48",
          "match_info": "1982 (0 : 0)",
          "matchup": "England vs Spain",
          "teamA": "Spain",
          "teamA_score": 0,
          "teamA_win": 0,
          "teamB": "England",
          "teamB_score": 0,
          "teamB_win": 0,
          "tournament_id": "WC-1982",
          "win_diff": 2,
          "year": 1982
         },
         {
          "TotalWin_A": 2,
          "TotalWin_B": 6,
          "match_id": "M-1982-50",
          "match_info": "1982 (3 : 3)",
          "matchup": "France vs Germany",
          "teamA": "Germany",
          "teamA_score": 3,
          "teamA_win": 1,
          "teamB": "France",
          "teamB_score": 3,
          "teamB_win": 0,
          "tournament_id": "WC-1982",
          "win_diff": 4,
          "year": 1982
         },
         {
          "TotalWin_A": 0,
          "TotalWin_B": 6,
          "match_id": "M-1982-52",
          "match_info": "1982 (3 : 1)",
          "matchup": "Germany vs Italy",
          "teamA": "Italy",
          "teamA_score": 3,
          "teamA_win": 1,
          "teamB": "Germany",
          "teamB_score": 1,
          "teamB_win": 0,
          "tournament_id": "WC-1982",
          "win_diff": 6,
          "year": 1982
         },
         {
          "TotalWin_A": 6,
          "TotalWin_B": 0,
          "match_id": "M-1986-02",
          "match_info": "1986 (0 : 1)",
          "matchup": "Brazil vs Spain",
          "teamA": "Spain",
          "teamA_score": 0,
          "teamA_win": 0,
          "teamB": "Brazil",
          "teamB_score": 1,
          "teamB_win": 1,
          "tournament_id": "WC-1986",
          "win_diff": -6,
          "year": 1986
         },
         {
          "TotalWin_A": 6,
          "TotalWin_B": 0,
          "match_id": "M-1986-11",
          "match_info": "1986 (1 : 1)",
          "matchup": "Germany vs Uruguay",
          "teamA": "Uruguay",
          "teamA_score": 1,
          "teamA_win": 0,
          "teamB": "Germany",
          "teamB_score": 1,
          "teamB_win": 0,
          "tournament_id": "WC-1986",
          "win_diff": -6,
          "year": 1986
         },
         {
          "TotalWin_A": 2,
          "TotalWin_B": 4,
          "match_id": "M-1986-13",
          "match_info": "1986 (1 : 1)",
          "matchup": "Argentina vs Italy",
          "teamA": "Italy",
          "teamA_score": 1,
          "teamA_win": 0,
          "teamB": "Argentina",
          "teamB_score": 1,
          "teamB_win": 0,
          "tournament_id": "WC-1986",
          "win_diff": 2,
          "year": 1986
         },
         {
          "TotalWin_A": 2,
          "TotalWin_B": 0,
          "match_id": "M-1986-40",
          "match_info": "1986 (0 : 1)",
          "matchup": "Argentina vs Uruguay",
          "teamA": "Uruguay",
          "teamA_score": 0,
          "teamA_win": 0,
          "teamB": "Argentina",
          "teamB_score": 1,
          "teamB_win": 1,
          "tournament_id": "WC-1986",
          "win_diff": -2,
          "year": 1986
         },
         {
          "TotalWin_A": 4,
          "TotalWin_B": 4,
          "match_id": "M-1986-41",
          "match_info": "1986 (0 : 2)",
          "matchup": "France vs Italy",
          "teamA": "Italy",
          "teamA_score": 0,
          "teamA_win": 0,
          "teamB": "France",
          "teamB_score": 2,
          "teamB_win": 1,
          "tournament_id": "WC-1986",
          "win_diff": 0,
          "year": 1986
         },
         {
          "TotalWin_A": 2,
          "TotalWin_B": 6,
          "match_id": "M-1986-45",
          "match_info": "1986 (1 : 1)",
          "matchup": "Brazil vs France",
          "teamA": "France",
          "teamA_score": 1,
          "teamA_win": 1,
          "teamB": "Brazil",
          "teamB_score": 1,
          "teamB_win": 0,
          "tournament_id": "WC-1986",
          "win_diff": 4,
          "year": 1986
         },
         {
          "TotalWin_A": 4,
          "TotalWin_B": 6,
          "match_id": "M-1986-47",
          "match_info": "1986 (1 : 2)",
          "matchup": "Argentina vs England",
          "teamA": "England",
          "teamA_score": 1,
          "teamA_win": 0,
          "teamB": "Argentina",
          "teamB_score": 2,
          "teamB_win": 1,
          "tournament_id": "WC-1986",
          "win_diff": 2,
          "year": 1986
         },
         {
          "TotalWin_A": 2,
          "TotalWin_B": 6,
          "match_id": "M-1986-49",
          "match_info": "1986 (2 : 0)",
          "matchup": "France vs Germany",
          "teamA": "Germany",
          "teamA_score": 2,
          "teamA_win": 1,
          "teamB": "France",
          "teamB_score": 0,
          "teamB_win": 0,
          "tournament_id": "WC-1986",
          "win_diff": 4,
          "year": 1986
         },
         {
          "TotalWin_A": 2,
          "TotalWin_B": 10,
          "match_id": "M-1986-52",
          "match_info": "1986 (2 : 3)",
          "matchup": "Argentina vs Germany",
          "teamA": "Germany",
          "teamA_score": 2,
          "teamA_win": 0,
          "teamB": "Argentina",
          "teamB_score": 3,
          "teamB_win": 1,
          "tournament_id": "WC-1986",
          "win_diff": 8,
          "year": 1986
         },
         {
          "TotalWin_A": 0,
          "TotalWin_B": 0,
          "match_id": "M-1990-12",
          "match_info": "1990 (0 : 0)",
          "matchup": "Spain vs Uruguay",
          "teamA": "Uruguay",
          "teamA_score": 0,
          "teamA_win": 0,
          "teamB": "Spain",
          "teamB_score": 0,
          "teamB_win": 0,
          "tournament_id": "WC-1990",
          "win_diff": 0,
          "year": 1990
         },
         {
          "TotalWin_A": 2,
          "TotalWin_B": 4,
          "match_id": "M-1990-39",
          "match_info": "1990 (0 : 1)",
          "matchup": "Argentina vs Brazil",
          "teamA": "Brazil",
          "teamA_score": 0,
          "teamA_win": 0,
          "teamB": "Argentina",
          "teamB_score": 1,
          "teamB_win": 1,
          "tournament_id": "WC-1990",
          "win_diff": 2,
          "year": 1990
         },
         {
          "TotalWin_A": 2,
          "TotalWin_B": 2,
          "match_id": "M-1990-42",
          "match_info": "1990 (0 : 2)",
          "matchup": "Italy vs Uruguay",
          "teamA": "Uruguay",
          "teamA_score": 0,
          "teamA_win": 0,
          "teamB": "Italy",
          "teamB_score": 2,
          "teamB_win": 1,
          "tournament_id": "WC-1990",
          "win_diff": 0,
          "year": 1990
         },
         {
          "TotalWin_A": 2,
          "TotalWin_B": 4,
          "match_id": "M-1990-49",
          "match_info": "1990 (1 : 1)",
          "matchup": "Argentina vs Italy",
          "teamA": "Italy",
          "teamA_score": 1,
          "teamA_win": 0,
          "teamB": "Argentina",
          "teamB_score": 1,
          "teamB_win": 1,
          "tournament_id": "WC-1990",
          "win_diff": 2,
          "year": 1990
         },
         {
          "TotalWin_A": 2,
          "TotalWin_B": 6,
          "match_id": "M-1990-50",
          "match_info": "1990 (1 : 1)",
          "matchup": "England vs Germany",
          "teamA": "Germany",
          "teamA_score": 1,
          "teamA_win": 1,
          "teamB": "England",
          "teamB_score": 1,
          "teamB_win": 0,
          "tournament_id": "WC-1990",
          "win_diff": 4,
          "year": 1990
         },
         {
          "TotalWin_A": 0,
          "TotalWin_B": 4,
          "match_id": "M-1990-51",
          "match_info": "1990 (2 : 1)",
          "matchup": "England vs Italy",
          "teamA": "Italy",
          "teamA_score": 2,
          "teamA_win": 1,
          "teamB": "England",
          "teamB_score": 1,
          "teamB_win": 0,
          "tournament_id": "WC-1990",
          "win_diff": 4,
          "year": 1990
         },
         {
          "TotalWin_A": 2,
          "TotalWin_B": 10,
          "match_id": "M-1990-52",
          "match_info": "1990 (1 : 0)",
          "matchup": "Argentina vs Germany",
          "teamA": "Germany",
          "teamA_score": 1,
          "teamA_win": 1,
          "teamB": "Argentina",
          "teamB_score": 0,
          "teamB_win": 0,
          "tournament_id": "WC-1990",
          "win_diff": 8,
          "year": 1990
         },
         {
          "TotalWin_A": 4,
          "TotalWin_B": 2,
          "match_id": "M-1994-12",
          "match_info": "1994 (1 : 1)",
          "matchup": "Germany vs Spain",
          "teamA": "Spain",
          "teamA_score": 1,
          "teamA_win": 0,
          "teamB": "Germany",
          "teamB_score": 1,
          "teamB_win": 0,
          "tournament_id": "WC-1994",
          "win_diff": -2,
          "year": 1994
         },
         {
          "TotalWin_A": 2,
          "TotalWin_B": 0,
          "match_id": "M-1994-45",
          "match_info": "1994 (1 : 2)",
          "matchup": "Italy vs Spain",
          "teamA": "Spain",
          "teamA_score": 1,
          "teamA_win": 0,
          "teamB": "Italy",
          "teamB_score": 2,
          "teamB_win": 1,
          "tournament_id": "WC-1994",
          "win_diff": -2,
          "year": 1994
         },
         {
          "TotalWin_A": 6,
          "TotalWin_B": 2,
          "match_id": "M-1994-52",
          "match_info": "1994 (0 : 0)",
          "matchup": "Brazil vs Italy",
          "teamA": "Italy",
          "teamA_score": 0,
          "teamA_win": 0,
          "teamB": "Brazil",
          "teamB_score": 0,
          "teamB_win": 1,
          "tournament_id": "WC-1994",
          "win_diff": -4,
          "year": 1994
         },
         {
          "TotalWin_A": 4,
          "TotalWin_B": 6,
          "match_id": "M-1998-56",
          "match_info": "1998 (2 : 2)",
          "matchup": "Argentina vs England",
          "teamA": "England",
          "teamA_score": 2,
          "teamA_win": 0,
          "teamB": "Argentina",
          "teamB_score": 2,
          "teamB_win": 1,
          "tournament_id": "WC-1998",
          "win_diff": 2,
          "year": 1998
         },
         {
          "TotalWin_A": 4,
          "TotalWin_B": 4,
          "match_id": "M-1998-57",
          "match_info": "1998 (0 : 0)",
          "matchup": "France vs Italy",
          "teamA": "Italy",
          "teamA_score": 0,
          "teamA_win": 0,
          "teamB": "France",
          "teamB_score": 0,
          "teamB_win": 1,
          "tournament_id": "WC-1998",
          "win_diff": 0,
          "year": 1998
         },
         {
          "TotalWin_A": 2,
          "TotalWin_B": 6,
          "match_id": "M-1998-64",
          "match_info": "1998 (3 : 0)",
          "matchup": "Brazil vs France",
          "teamA": "France",
          "teamA_score": 3,
          "teamA_win": 1,
          "teamB": "Brazil",
          "teamB_score": 0,
          "teamB_win": 0,
          "tournament_id": "WC-1998",
          "win_diff": 4,
          "year": 1998
         },
         {
          "TotalWin_A": 2,
          "TotalWin_B": 2,
          "match_id": "M-2002-20",
          "match_info": "2002 (0 : 0)",
          "matchup": "France vs Uruguay",
          "teamA": "Uruguay",
          "teamA_score": 0,
          "teamA_win": 0,
          "teamB": "France",
          "teamB_score": 0,
          "teamB_win": 0,
          "tournament_id": "WC-2002",
          "win_diff": 0,
          "year": 2002
         },
         {
          "TotalWin_A": 4,
          "TotalWin_B": 6,
          "match_id": "M-2002-23",
          "match_info": "2002 (1 : 0)",
          "matchup": "Argentina vs England",
          "teamA": "England",
          "teamA_score": 1,
          "teamA_win": 1,
          "teamB": "Argentina",
          "teamB_score": 0,
          "teamB_win": 0,
          "tournament_id": "WC-2002",
          "win_diff": 2,
          "year": 2002
         },
         {
          "TotalWin_A": 6,
          "TotalWin_B": 0,
          "match_id": "M-2002-57",
          "match_info": "2002 (1 : 2)",
          "matchup": "Brazil vs England",
          "teamA": "England",
          "teamA_score": 1,
          "teamA_win": 0,
          "teamB": "Brazil",
          "teamB_score": 2,
          "teamB_win": 1,
          "tournament_id": "WC-2002",
          "win_diff": -6,
          "year": 2002
         },
         {
          "TotalWin_A": 2,
          "TotalWin_B": 2,
          "match_id": "M-2002-64",
          "match_info": "2002 (0 : 2)",
          "matchup": "Brazil vs Germany",
          "teamA": "Germany",
          "teamA_score": 0,
          "teamA_win": 0,
          "teamB": "Brazil",
          "teamB_score": 2,
          "teamB_win": 1,
          "tournament_id": "WC-2002",
          "win_diff": 0,
          "year": 2002
         },
         {
          "TotalWin_A": 2,
          "TotalWin_B": 0,
          "match_id": "M-2006-56",
          "match_info": "2006 (1 : 3)",
          "matchup": "France vs Spain",
          "teamA": "Spain",
          "teamA_score": 1,
          "teamA_win": 0,
          "teamB": "France",
          "teamB_score": 3,
          "teamB_win": 1,
          "tournament_id": "WC-2006",
          "win_diff": -2,
          "year": 2006
         },
         {
          "TotalWin_A": 2,
          "TotalWin_B": 10,
          "match_id": "M-2006-57",
          "match_info": "2006 (1 : 1)",
          "matchup": "Argentina vs Germany",
          "teamA": "Germany",
          "teamA_score": 1,
          "teamA_win": 1,
          "teamB": "Argentina",
          "teamB_score": 1,
          "teamB_win": 0,
          "tournament_id": "WC-2006",
          "win_diff": 8,
          "year": 2006
         },
         {
          "TotalWin_A": 2,
          "TotalWin_B": 6,
          "match_id": "M-2006-60",
          "match_info": "2006 (1 : 0)",
          "matchup": "Brazil vs France",
          "teamA": "France",
          "teamA_score": 1,
          "teamA_win": 1,
          "teamB": "Brazil",
          "teamB_score": 0,
          "teamB_win": 0,
          "tournament_id": "WC-2006",
          "win_diff": 4,
          "year": 2006
         },
         {
          "TotalWin_A": 0,
          "TotalWin_B": 6,
          "match_id": "M-2006-61",
          "match_info": "2006 (2 : 0)",
          "matchup": "Germany vs Italy",
          "teamA": "Italy",
          "teamA_score": 2,
          "teamA_win": 1,
          "teamB": "Germany",
          "teamB_score": 0,
          "teamB_win": 0,
          "tournament_id": "WC-2006",
          "win_diff": 6,
          "year": 2006
         },
         {
          "TotalWin_A": 4,
          "TotalWin_B": 4,
          "match_id": "M-2006-64",
          "match_info": "2006 (1 : 1)",
          "matchup": "France vs Italy",
          "teamA": "Italy",
          "teamA_score": 1,
          "teamA_win": 1,
          "teamB": "France",
          "teamB_score": 1,
          "teamB_win": 0,
          "tournament_id": "WC-2006",
          "win_diff": 0,
          "year": 2006
         },
         {
          "TotalWin_A": 2,
          "TotalWin_B": 2,
          "match_id": "M-2010-02",
          "match_info": "2010 (0 : 0)",
          "matchup": "France vs Uruguay",
          "teamA": "Uruguay",
          "teamA_score": 0,
          "teamA_win": 0,
          "teamB": "France",
          "teamB_score": 0,
          "teamB_win": 0,
          "tournament_id": "WC-2010",
          "win_diff": 0,
          "year": 2010
         },
         {
          "TotalWin_A": 2,
          "TotalWin_B": 6,
          "match_id": "M-2010-51",
          "match_info": "2010 (4 : 1)",
          "matchup": "England vs Germany",
          "teamA": "Germany",
          "teamA_score": 4,
          "teamA_win": 1,
          "teamB": "England",
          "teamB_score": 1,
          "teamB_win": 0,
          "tournament_id": "WC-2010",
          "win_diff": 4,
          "year": 2010
         },
         {
          "TotalWin_A": 2,
          "TotalWin_B": 10,
          "match_id": "M-2010-59",
          "match_info": "2010 (4 : 0)",
          "matchup": "Argentina vs Germany",
          "teamA": "Germany",
          "teamA_score": 4,
          "teamA_win": 1,
          "teamB": "Argentina",
          "teamB_score": 0,
          "teamB_win": 0,
          "tournament_id": "WC-2010",
          "win_diff": 8,
          "year": 2010
         },
         {
          "TotalWin_A": 4,
          "TotalWin_B": 2,
          "match_id": "M-2010-62",
          "match_info": "2010 (1 : 0)",
          "matchup": "Germany vs Spain",
          "teamA": "Spain",
          "teamA_score": 1,
          "teamA_win": 1,
          "teamB": "Germany",
          "teamB_score": 0,
          "teamB_win": 0,
          "tournament_id": "WC-2010",
          "win_diff": -2,
          "year": 2010
         },
         {
          "TotalWin_A": 6,
          "TotalWin_B": 0,
          "match_id": "M-2010-63",
          "match_info": "2010 (2 : 3)",
          "matchup": "Germany vs Uruguay",
          "teamA": "Uruguay",
          "teamA_score": 2,
          "teamA_win": 0,
          "teamB": "Germany",
          "teamB_score": 3,
          "teamB_win": 1,
          "tournament_id": "WC-2010",
          "win_diff": -6,
          "year": 2010
         },
         {
          "TotalWin_A": 0,
          "TotalWin_B": 4,
          "match_id": "M-2014-07",
          "match_info": "2014 (2 : 1)",
          "matchup": "England vs Italy",
          "teamA": "Italy",
          "teamA_score": 2,
          "teamA_win": 1,
          "teamB": "England",
          "teamB_score": 1,
          "teamB_win": 0,
          "tournament_id": "WC-2014",
          "win_diff": 4,
          "year": 2014
         },
         {
          "TotalWin_A": 0,
          "TotalWin_B": 4,
          "match_id": "M-2014-22",
          "match_info": "2014 (2 : 1)",
          "matchup": "England vs Uruguay",
          "teamA": "Uruguay",
          "teamA_score": 2,
          "teamA_win": 1,
          "teamB": "England",
          "teamB_score": 1,
          "teamB_win": 0,
          "tournament_id": "WC-2014",
          "win_diff": 4,
          "year": 2014
         },
         {
          "TotalWin_A": 2,
          "TotalWin_B": 2,
          "match_id": "M-2014-38",
          "match_info": "2014 (1 : 0)",
          "matchup": "Italy vs Uruguay",
          "teamA": "Uruguay",
          "teamA_score": 1,
          "teamA_win": 1,
          "teamB": "Italy",
          "teamB_score": 0,
          "teamB_win": 0,
          "tournament_id": "WC-2014",
          "win_diff": 0,
          "year": 2014
         },
         {
          "TotalWin_A": 2,
          "TotalWin_B": 6,
          "match_id": "M-2014-57",
          "match_info": "2014 (1 : 0)",
          "matchup": "France vs Germany",
          "teamA": "Germany",
          "teamA_score": 1,
          "teamA_win": 1,
          "teamB": "France",
          "teamB_score": 0,
          "teamB_win": 0,
          "tournament_id": "WC-2014",
          "win_diff": 4,
          "year": 2014
         },
         {
          "TotalWin_A": 2,
          "TotalWin_B": 2,
          "match_id": "M-2014-61",
          "match_info": "2014 (7 : 1)",
          "matchup": "Brazil vs Germany",
          "teamA": "Germany",
          "teamA_score": 7,
          "teamA_win": 1,
          "teamB": "Brazil",
          "teamB_score": 1,
          "teamB_win": 0,
          "tournament_id": "WC-2014",
          "win_diff": 0,
          "year": 2014
         },
         {
          "TotalWin_A": 2,
          "TotalWin_B": 10,
          "match_id": "M-2014-64",
          "match_info": "2014 (1 : 0)",
          "matchup": "Argentina vs Germany",
          "teamA": "Germany",
          "teamA_score": 1,
          "teamA_win": 1,
          "teamB": "Argentina",
          "teamB_score": 0,
          "teamB_win": 0,
          "tournament_id": "WC-2014",
          "win_diff": 8,
          "year": 2014
         },
         {
          "TotalWin_A": 4,
          "TotalWin_B": 2,
          "match_id": "M-2018-49",
          "match_info": "2018 (4 : 3)",
          "matchup": "Argentina vs France",
          "teamA": "France",
          "teamA_score": 4,
          "teamA_win": 1,
          "teamB": "Argentina",
          "teamB_score": 3,
          "teamB_win": 0,
          "tournament_id": "WC-2018",
          "win_diff": -2,
          "year": 2018
         },
         {
          "TotalWin_A": 2,
          "TotalWin_B": 2,
          "match_id": "M-2018-57",
          "match_info": "2018 (0 : 2)",
          "matchup": "France vs Uruguay",
          "teamA": "Uruguay",
          "teamA_score": 0,
          "teamA_win": 0,
          "teamB": "France",
          "teamB_score": 2,
          "teamB_win": 1,
          "tournament_id": "WC-2018",
          "win_diff": 0,
          "year": 2018
         },
         {
          "TotalWin_A": 4,
          "TotalWin_B": 2,
          "match_id": "M-2022-28",
          "match_info": "2022 (1 : 1)",
          "matchup": "Germany vs Spain",
          "teamA": "Spain",
          "teamA_score": 1,
          "teamA_win": 0,
          "teamB": "Germany",
          "teamB_score": 1,
          "teamB_win": 0,
          "tournament_id": "WC-2022",
          "win_diff": -2,
          "year": 2022
         },
         {
          "TotalWin_A": 4,
          "TotalWin_B": 2,
          "match_id": "M-2022-60",
          "match_info": "2022 (2 : 1)",
          "matchup": "England vs France",
          "teamA": "France",
          "teamA_score": 2,
          "teamA_win": 1,
          "teamB": "England",
          "teamB_score": 1,
          "teamB_win": 0,
          "tournament_id": "WC-2022",
          "win_diff": -2,
          "year": 2022
         },
         {
          "TotalWin_A": 4,
          "TotalWin_B": 2,
          "match_id": "M-2022-64",
          "match_info": "2022 (3 : 3)",
          "matchup": "Argentina vs France",
          "teamA": "France",
          "teamA_score": 3,
          "teamA_win": 0,
          "teamB": "Argentina",
          "teamB_score": 3,
          "teamB_win": 1,
          "tournament_id": "WC-2022",
          "win_diff": -2,
          "year": 2022
         },
         {
          "TotalWin_A": 0,
          "TotalWin_B": 2,
          "match_id": "M-1950-13",
          "match_info": "1950 (1 : 0)",
          "matchup": "England vs Spain",
          "teamA": "Spain",
          "teamA_score": 1,
          "teamA_win": 1,
          "teamB": "England",
          "teamB_score": 0,
          "teamB_win": 0,
          "tournament_id": "WC-1950",
          "win_diff": 2,
          "year": 1950
         },
         {
          "TotalWin_A": 0,
          "TotalWin_B": 0,
          "match_id": "M-1950-18",
          "match_info": "1950 (2 : 2)",
          "matchup": "Spain vs Uruguay",
          "teamA": "Uruguay",
          "teamA_score": 2,
          "teamA_win": 0,
          "teamB": "Spain",
          "teamB_score": 2,
          "teamB_win": 0,
          "tournament_id": "WC-1950",
          "win_diff": 0,
          "year": 1950
         },
         {
          "TotalWin_A": 6,
          "TotalWin_B": 0,
          "match_id": "M-1950-19",
          "match_info": "1950 (1 : 6)",
          "matchup": "Brazil vs Spain",
          "teamA": "Spain",
          "teamA_score": 1,
          "teamA_win": 0,
          "teamB": "Brazil",
          "teamB_score": 6,
          "teamB_win": 1,
          "tournament_id": "WC-1950",
          "win_diff": -6,
          "year": 1950
         },
         {
          "TotalWin_A": 2,
          "TotalWin_B": 2,
          "match_id": "M-1950-22",
          "match_info": "1950 (2 : 1)",
          "matchup": "Brazil vs Uruguay",
          "teamA": "Uruguay",
          "teamA_score": 2,
          "teamA_win": 1,
          "teamB": "Brazil",
          "teamB_score": 1,
          "teamB_win": 0,
          "tournament_id": "WC-1950",
          "win_diff": 0,
          "year": 1950
         },
         {
          "TotalWin_A": 0,
          "TotalWin_B": 4,
          "match_id": "M-1954-20",
          "match_info": "1954 (4 : 2)",
          "matchup": "England vs Uruguay",
          "teamA": "Uruguay",
          "teamA_score": 4,
          "teamA_win": 1,
          "teamB": "England",
          "teamB_score": 2,
          "teamB_win": 0,
          "tournament_id": "WC-1954",
          "win_diff": 4,
          "year": 1954
         },
         {
          "TotalWin_A": 2,
          "TotalWin_B": 10,
          "match_id": "M-1958-02",
          "match_info": "1958 (3 : 1)",
          "matchup": "Argentina vs Germany",
          "teamA": "Germany",
          "teamA_score": 3,
          "teamA_win": 1,
          "teamB": "Argentina",
          "teamB_score": 1,
          "teamB_win": 0,
          "tournament_id": "WC-1958",
          "win_diff": 8,
          "year": 1958
         },
         {
          "TotalWin_A": 6,
          "TotalWin_B": 0,
          "match_id": "M-1958-14",
          "match_info": "1958 (0 : 0)",
          "matchup": "Brazil vs England",
          "teamA": "England",
          "teamA_score": 0,
          "teamA_win": 0,
          "teamB": "Brazil",
          "teamB_score": 0,
          "teamB_win": 0,
          "tournament_id": "WC-1958",
          "win_diff": -6,
          "year": 1958
         },
         {
          "TotalWin_A": 2,
          "TotalWin_B": 6,
          "match_id": "M-1958-32",
          "match_info": "1958 (2 : 5)",
          "matchup": "Brazil vs France",
          "teamA": "France",
          "teamA_score": 2,
          "teamA_win": 0,
          "teamB": "Brazil",
          "teamB_score": 5,
          "teamB_win": 1,
          "tournament_id": "WC-1958",
          "win_diff": 4,
          "year": 1958
         },
         {
          "TotalWin_A": 2,
          "TotalWin_B": 6,
          "match_id": "M-1958-34",
          "match_info": "1958 (3 : 6)",
          "matchup": "France vs Germany",
          "teamA": "Germany",
          "teamA_score": 3,
          "teamA_win": 0,
          "teamB": "France",
          "teamB_score": 6,
          "teamB_win": 1,
          "tournament_id": "WC-1958",
          "win_diff": 4,
          "year": 1958
         },
         {
          "TotalWin_A": 0,
          "TotalWin_B": 6,
          "match_id": "M-1962-06",
          "match_info": "1962 (0 : 0)",
          "matchup": "Germany vs Italy",
          "teamA": "Italy",
          "teamA_score": 0,
          "teamA_win": 0,
          "teamB": "Germany",
          "teamB_score": 0,
          "teamB_win": 0,
          "tournament_id": "WC-1962",
          "win_diff": 6,
          "year": 1962
         },
         {
          "TotalWin_A": 4,
          "TotalWin_B": 6,
          "match_id": "M-1962-12",
          "match_info": "1962 (3 : 1)",
          "matchup": "Argentina vs England",
          "teamA": "England",
          "teamA_score": 3,
          "teamA_win": 1,
          "teamB": "Argentina",
          "teamB_score": 1,
          "teamB_win": 0,
          "tournament_id": "WC-1962",
          "win_diff": 2,
          "year": 1962
         },
         {
          "TotalWin_A": 6,
          "TotalWin_B": 0,
          "match_id": "M-1962-19",
          "match_info": "1962 (1 : 2)",
          "matchup": "Brazil vs Spain",
          "teamA": "Spain",
          "teamA_score": 1,
          "teamA_win": 0,
          "teamB": "Brazil",
          "teamB_score": 2,
          "teamB_win": 1,
          "tournament_id": "WC-1962",
          "win_diff": -6,
          "year": 1962
         },
         {
          "TotalWin_A": 6,
          "TotalWin_B": 0,
          "match_id": "M-1962-25",
          "match_info": "1962 (1 : 3)",
          "matchup": "Brazil vs England",
          "teamA": "England",
          "teamA_score": 1,
          "teamA_win": 0,
          "teamB": "Brazil",
          "teamB_score": 3,
          "teamB_win": 1,
          "tournament_id": "WC-1962",
          "win_diff": -6,
          "year": 1962
         },
         {
          "TotalWin_A": 0,
          "TotalWin_B": 4,
          "match_id": "M-1966-01",
          "match_info": "1966 (0 : 0)",
          "matchup": "England vs Uruguay",
          "teamA": "Uruguay",
          "teamA_score": 0,
          "teamA_win": 0,
          "teamB": "England",
          "teamB_score": 0,
          "teamB_win": 0,
          "tournament_id": "WC-1966",
          "win_diff": 4,
          "year": 1966
         },
         {
          "TotalWin_A": 2,
          "TotalWin_B": 0,
          "match_id": "M-1966-06",
          "match_info": "1966 (1 : 2)",
          "matchup": "Argentina vs Spain",
          "teamA": "Spain",
          "teamA_score": 1,
          "teamA_win": 0,
          "teamB": "Argentina",
          "teamB_score": 2,
          "teamB_win": 1,
          "tournament_id": "WC-1966",
          "win_diff": -2,
          "year": 1966
         },
         {
          "TotalWin_A": 2,
          "TotalWin_B": 2,
          "match_id": "M-1966-09",
          "match_info": "1966 (2 : 1)",
          "matchup": "France vs Uruguay",
          "teamA": "Uruguay",
          "teamA_score": 2,
          "teamA_win": 1,
          "teamB": "France",
          "teamB_score": 1,
          "teamB_win": 0,
          "tournament_id": "WC-1966",
          "win_diff": 0,
          "year": 1966
         },
         {
          "TotalWin_A": 2,
          "TotalWin_B": 10,
          "match_id": "M-1966-13",
          "match_info": "1966 (0 : 0)",
          "matchup": "Argentina vs Germany",
          "teamA": "Germany",
          "teamA_score": 0,
          "teamA_win": 0,
          "teamB": "Argentina",
          "teamB_score": 0,
          "teamB_win": 0,
          "tournament_id": "WC-1966",
          "win_diff": 8,
          "year": 1966
         },
         {
          "TotalWin_A": 4,
          "TotalWin_B": 2,
          "match_id": "M-1966-21",
          "match_info": "1966 (0 : 2)",
          "matchup": "England vs France",
          "teamA": "France",
          "teamA_score": 0,
          "teamA_win": 0,
          "teamB": "England",
          "teamB_score": 2,
          "teamB_win": 1,
          "tournament_id": "WC-1966",
          "win_diff": -2,
          "year": 1966
         },
         {
          "TotalWin_A": 4,
          "TotalWin_B": 2,
          "match_id": "M-1966-22",
          "match_info": "1966 (1 : 2)",
          "matchup": "Germany vs Spain",
          "teamA": "Spain",
          "teamA_score": 1,
          "teamA_win": 0,
          "teamB": "Germany",
          "teamB_score": 2,
          "teamB_win": 1,
          "tournament_id": "WC-1966",
          "win_diff": -2,
          "year": 1966
         },
         {
          "TotalWin_A": 4,
          "TotalWin_B": 6,
          "match_id": "M-1966-25",
          "match_info": "1966 (1 : 0)",
          "matchup": "Argentina vs England",
          "teamA": "England",
          "teamA_score": 1,
          "teamA_win": 1,
          "teamB": "Argentina",
          "teamB_score": 0,
          "teamB_win": 0,
          "tournament_id": "WC-1966",
          "win_diff": 2,
          "year": 1966
         },
         {
          "TotalWin_A": 6,
          "TotalWin_B": 0,
          "match_id": "M-1966-28",
          "match_info": "1966 (0 : 4)",
          "matchup": "Germany vs Uruguay",
          "teamA": "Uruguay",
          "teamA_score": 0,
          "teamA_win": 0,
          "teamB": "Germany",
          "teamB_score": 4,
          "teamB_win": 1,
          "tournament_id": "WC-1966",
          "win_diff": -6,
          "year": 1966
         },
         {
          "TotalWin_A": 2,
          "TotalWin_B": 6,
          "match_id": "M-1966-32",
          "match_info": "1966 (2 : 4)",
          "matchup": "England vs Germany",
          "teamA": "Germany",
          "teamA_score": 2,
          "teamA_win": 0,
          "teamB": "England",
          "teamB_score": 4,
          "teamB_win": 1,
          "tournament_id": "WC-1966",
          "win_diff": 4,
          "year": 1966
         },
         {
          "TotalWin_A": 2,
          "TotalWin_B": 2,
          "match_id": "M-1970-10",
          "match_info": "1970 (0 : 0)",
          "matchup": "Italy vs Uruguay",
          "teamA": "Uruguay",
          "teamA_score": 0,
          "teamA_win": 0,
          "teamB": "Italy",
          "teamB_score": 0,
          "teamB_win": 0,
          "tournament_id": "WC-1970",
          "win_diff": 0,
          "year": 1970
         },
         {
          "TotalWin_A": 6,
          "TotalWin_B": 0,
          "match_id": "M-1970-15",
          "match_info": "1970 (0 : 1)",
          "matchup": "Brazil vs England",
          "teamA": "England",
          "teamA_score": 0,
          "teamA_win": 0,
          "teamB": "Brazil",
          "teamB_score": 1,
          "teamB_win": 1,
          "tournament_id": "WC-1970",
          "win_diff": -6,
          "year": 1970
         },
         {
          "TotalWin_A": 2,
          "TotalWin_B": 6,
          "match_id": "M-1970-28",
          "match_info": "1970 (3 : 2)",
          "matchup": "England vs Germany",
          "teamA": "Germany",
          "teamA_score": 3,
          "teamA_win": 1,
          "teamB": "England",
          "teamB_score": 2,
          "teamB_win": 0,
          "tournament_id": "WC-1970",
          "win_diff": 4,
          "year": 1970
         },
         {
          "TotalWin_A": 2,
          "TotalWin_B": 2,
          "match_id": "M-1970-29",
          "match_info": "1970 (1 : 3)",
          "matchup": "Brazil vs Uruguay",
          "teamA": "Uruguay",
          "teamA_score": 1,
          "teamA_win": 0,
          "teamB": "Brazil",
          "teamB_score": 3,
          "teamB_win": 1,
          "tournament_id": "WC-1970",
          "win_diff": 0,
          "year": 1970
         },
         {
          "TotalWin_A": 0,
          "TotalWin_B": 6,
          "match_id": "M-1970-30",
          "match_info": "1970 (4 : 3)",
          "matchup": "Germany vs Italy",
          "teamA": "Italy",
          "teamA_score": 4,
          "teamA_win": 1,
          "teamB": "Germany",
          "teamB_score": 3,
          "teamB_win": 0,
          "tournament_id": "WC-1970",
          "win_diff": 6,
          "year": 1970
         },
         {
          "TotalWin_A": 6,
          "TotalWin_B": 0,
          "match_id": "M-1970-31",
          "match_info": "1970 (0 : 1)",
          "matchup": "Germany vs Uruguay",
          "teamA": "Uruguay",
          "teamA_score": 0,
          "teamA_win": 0,
          "teamB": "Germany",
          "teamB_score": 1,
          "teamB_win": 1,
          "tournament_id": "WC-1970",
          "win_diff": -6,
          "year": 1970
         },
         {
          "TotalWin_A": 6,
          "TotalWin_B": 2,
          "match_id": "M-1970-32",
          "match_info": "1970 (1 : 4)",
          "matchup": "Brazil vs Italy",
          "teamA": "Italy",
          "teamA_score": 1,
          "teamA_win": 0,
          "teamB": "Brazil",
          "teamB_score": 4,
          "teamB_win": 1,
          "tournament_id": "WC-1970",
          "win_diff": -4,
          "year": 1970
         },
         {
          "TotalWin_A": 2,
          "TotalWin_B": 4,
          "match_id": "M-1974-15",
          "match_info": "1974 (1 : 1)",
          "matchup": "Argentina vs Italy",
          "teamA": "Italy",
          "teamA_score": 1,
          "teamA_win": 0,
          "teamB": "Argentina",
          "teamB_score": 1,
          "teamB_win": 0,
          "tournament_id": "WC-1974",
          "win_diff": 2,
          "year": 1974
         },
         {
          "TotalWin_A": 2,
          "TotalWin_B": 4,
          "match_id": "M-1974-29",
          "match_info": "1974 (2 : 1)",
          "matchup": "Argentina vs Brazil",
          "teamA": "Brazil",
          "teamA_score": 2,
          "teamA_win": 1,
          "teamB": "Argentina",
          "teamB_score": 1,
          "teamB_win": 0,
          "tournament_id": "WC-1974",
          "win_diff": 2,
          "year": 1974
         },
         {
          "TotalWin_A": 4,
          "TotalWin_B": 4,
          "match_id": "M-1978-02",
          "match_info": "1978 (2 : 1)",
          "matchup": "France vs Italy",
          "teamA": "Italy",
          "teamA_score": 2,
          "teamA_win": 1,
          "teamB": "France",
          "teamB_score": 1,
          "teamB_win": 0,
          "tournament_id": "WC-1978",
          "win_diff": 0,
          "year": 1978
         },
         {
          "TotalWin_A": 4,
          "TotalWin_B": 2,
          "match_id": "M-1978-12",
          "match_info": "1978 (1 : 2)",
          "matchup": "Argentina vs France",
          "teamA": "France",
          "teamA_score": 1,
          "teamA_win": 0,
          "teamB": "Argentina",
          "teamB_score": 2,
          "teamB_win": 1,
          "tournament_id": "WC-1978",
          "win_diff": -2,
          "year": 1978
         },
         {
          "TotalWin_A": 6,
          "TotalWin_B": 0,
          "match_id": "M-1978-14",
          "match_info": "1978 (0 : 0)",
          "matchup": "Brazil vs Spain",
          "teamA": "Spain",
          "teamA_score": 0,
          "teamA_win": 0,
          "teamB": "Brazil",
          "teamB_score": 0,
          "teamB_win": 0,
          "tournament_id": "WC-1978",
          "win_diff": -6,
          "year": 1978
         },
         {
          "TotalWin_A": 2,
          "TotalWin_B": 4,
          "match_id": "M-1978-20",
          "match_info": "1978 (1 : 0)",
          "matchup": "Argentina vs Italy",
          "teamA": "Italy",
          "teamA_score": 1,
          "teamA_win": 1,
          "teamB": "Argentina",
          "teamB_score": 0,
          "teamB_win": 0,
          "tournament_id": "WC-1978",
          "win_diff": 2,
          "year": 1978
         },
         {
          "TotalWin_A": 0,
          "TotalWin_B": 6,
          "match_id": "M-1978-26",
          "match_info": "1978 (0 : 0)",
          "matchup": "Germany vs Italy",
          "teamA": "Italy",
          "teamA_score": 0,
          "teamA_win": 0,
          "teamB": "Germany",
          "teamB_score": 0,
          "teamB_win": 0,
          "tournament_id": "WC-1978",
          "win_diff": 6,
          "year": 1978
         },
         {
          "TotalWin_A": 2,
          "TotalWin_B": 4,
          "match_id": "M-1978-32",
          "match_info": "1978 (0 : 0)",
          "matchup": "Argentina vs Brazil",
          "teamA": "Brazil",
          "teamA_score": 0,
          "teamA_win": 0,
          "teamB": "Argentina",
          "teamB_score": 0,
          "teamB_win": 0,
          "tournament_id": "WC-1978",
          "win_diff": 2,
          "year": 1978
         },
         {
          "TotalWin_A": 6,
          "TotalWin_B": 2,
          "match_id": "M-1978-37",
          "match_info": "1978 (1 : 2)",
          "matchup": "Brazil vs Italy",
          "teamA": "Italy",
          "teamA_score": 1,
          "teamA_win": 0,
          "teamB": "Brazil",
          "teamB_score": 2,
          "teamB_win": 1,
          "tournament_id": "WC-1978",
          "win_diff": -4,
          "year": 1978
         },
         {
          "TotalWin_A": 4,
          "TotalWin_B": 2,
          "match_id": "M-1982-08",
          "match_info": "1982 (1 : 3)",
          "matchup": "England vs France",
          "teamA": "France",
          "teamA_score": 1,
          "teamA_win": 0,
          "teamB": "England",
          "teamB_score": 3,
          "teamB_win": 1,
          "tournament_id": "WC-1982",
          "win_diff": -2,
          "year": 1982
         },
         {
          "TotalWin_A": 2,
          "TotalWin_B": 4,
          "match_id": "M-1982-39",
          "match_info": "1982 (2 : 1)",
          "matchup": "Argentina vs Italy",
          "teamA": "Italy",
          "teamA_score": 2,
          "teamA_win": 1,
          "teamB": "Argentina",
          "teamB_score": 1,
          "teamB_win": 0,
          "tournament_id": "WC-1982",
          "win_diff": 2,
          "year": 1982
         },
         {
          "TotalWin_A": 2,
          "TotalWin_B": 6,
          "match_id": "M-1982-40",
          "match_info": "1982 (0 : 0)",
          "matchup": "England vs Germany",
          "teamA": "Germany",
          "teamA_score": 0,
          "teamA_win": 0,
          "teamB": "England",
          "teamB_score": 0,
          "teamB_win": 0,
          "tournament_id": "WC-1982",
          "win_diff": 4,
          "year": 1982
         },
         {
          "TotalWin_A": 2,
          "TotalWin_B": 4,
          "match_id": "M-1982-43",
          "match_info": "1982 (3 : 1)",
          "matchup": "Argentina vs Brazil",
          "teamA": "Brazil",
          "teamA_score": 3,
          "teamA_win": 1,
          "teamB": "Argentina",
          "teamB_score": 1,
          "teamB_win": 0,
          "tournament_id": "WC-1982",
          "win_diff": 2,
          "year": 1982
         },
         {
          "TotalWin_A": 4,
          "TotalWin_B": 2,
          "match_id": "M-1982-44",
          "match_info": "1982 (1 : 2)",
          "matchup": "Germany vs Spain",
          "teamA": "Spain",
          "teamA_score": 1,
          "teamA_win": 0,
          "teamB": "Germany",
          "teamB_score": 2,
          "teamB_win": 1,
          "tournament_id": "WC-1982",
          "win_diff": -2,
          "year": 1982
         },
         {
          "TotalWin_A": 6,
          "TotalWin_B": 2,
          "match_id": "M-1982-47",
          "match_info": "1982 (3 : 2)",
          "matchup": "Brazil vs Italy",
          "teamA": "Italy",
          "teamA_score": 3,
          "teamA_win": 1,
          "teamB": "Brazil",
          "teamB_score": 2,
          "teamB_win": 0,
          "tournament_id": "WC-1982",
          "win_diff": -4,
          "year": 1982
         },
         {
          "TotalWin_A": 0,
          "TotalWin_B": 2,
          "match_id": "M-1982-48",
          "match_info": "1982 (0 : 0)",
          "matchup": "England vs Spain",
          "teamA": "Spain",
          "teamA_score": 0,
          "teamA_win": 0,
          "teamB": "England",
          "teamB_score": 0,
          "teamB_win": 0,
          "tournament_id": "WC-1982",
          "win_diff": 2,
          "year": 1982
         },
         {
          "TotalWin_A": 2,
          "TotalWin_B": 6,
          "match_id": "M-1982-50",
          "match_info": "1982 (3 : 3)",
          "matchup": "France vs Germany",
          "teamA": "Germany",
          "teamA_score": 3,
          "teamA_win": 1,
          "teamB": "France",
          "teamB_score": 3,
          "teamB_win": 0,
          "tournament_id": "WC-1982",
          "win_diff": 4,
          "year": 1982
         },
         {
          "TotalWin_A": 0,
          "TotalWin_B": 6,
          "match_id": "M-1982-52",
          "match_info": "1982 (3 : 1)",
          "matchup": "Germany vs Italy",
          "teamA": "Italy",
          "teamA_score": 3,
          "teamA_win": 1,
          "teamB": "Germany",
          "teamB_score": 1,
          "teamB_win": 0,
          "tournament_id": "WC-1982",
          "win_diff": 6,
          "year": 1982
         },
         {
          "TotalWin_A": 6,
          "TotalWin_B": 0,
          "match_id": "M-1986-02",
          "match_info": "1986 (0 : 1)",
          "matchup": "Brazil vs Spain",
          "teamA": "Spain",
          "teamA_score": 0,
          "teamA_win": 0,
          "teamB": "Brazil",
          "teamB_score": 1,
          "teamB_win": 1,
          "tournament_id": "WC-1986",
          "win_diff": -6,
          "year": 1986
         },
         {
          "TotalWin_A": 6,
          "TotalWin_B": 0,
          "match_id": "M-1986-11",
          "match_info": "1986 (1 : 1)",
          "matchup": "Germany vs Uruguay",
          "teamA": "Uruguay",
          "teamA_score": 1,
          "teamA_win": 0,
          "teamB": "Germany",
          "teamB_score": 1,
          "teamB_win": 0,
          "tournament_id": "WC-1986",
          "win_diff": -6,
          "year": 1986
         },
         {
          "TotalWin_A": 2,
          "TotalWin_B": 4,
          "match_id": "M-1986-13",
          "match_info": "1986 (1 : 1)",
          "matchup": "Argentina vs Italy",
          "teamA": "Italy",
          "teamA_score": 1,
          "teamA_win": 0,
          "teamB": "Argentina",
          "teamB_score": 1,
          "teamB_win": 0,
          "tournament_id": "WC-1986",
          "win_diff": 2,
          "year": 1986
         },
         {
          "TotalWin_A": 2,
          "TotalWin_B": 0,
          "match_id": "M-1986-40",
          "match_info": "1986 (0 : 1)",
          "matchup": "Argentina vs Uruguay",
          "teamA": "Uruguay",
          "teamA_score": 0,
          "teamA_win": 0,
          "teamB": "Argentina",
          "teamB_score": 1,
          "teamB_win": 1,
          "tournament_id": "WC-1986",
          "win_diff": -2,
          "year": 1986
         },
         {
          "TotalWin_A": 4,
          "TotalWin_B": 4,
          "match_id": "M-1986-41",
          "match_info": "1986 (0 : 2)",
          "matchup": "France vs Italy",
          "teamA": "Italy",
          "teamA_score": 0,
          "teamA_win": 0,
          "teamB": "France",
          "teamB_score": 2,
          "teamB_win": 1,
          "tournament_id": "WC-1986",
          "win_diff": 0,
          "year": 1986
         },
         {
          "TotalWin_A": 2,
          "TotalWin_B": 6,
          "match_id": "M-1986-45",
          "match_info": "1986 (1 : 1)",
          "matchup": "Brazil vs France",
          "teamA": "France",
          "teamA_score": 1,
          "teamA_win": 1,
          "teamB": "Brazil",
          "teamB_score": 1,
          "teamB_win": 0,
          "tournament_id": "WC-1986",
          "win_diff": 4,
          "year": 1986
         },
         {
          "TotalWin_A": 4,
          "TotalWin_B": 6,
          "match_id": "M-1986-47",
          "match_info": "1986 (1 : 2)",
          "matchup": "Argentina vs England",
          "teamA": "England",
          "teamA_score": 1,
          "teamA_win": 0,
          "teamB": "Argentina",
          "teamB_score": 2,
          "teamB_win": 1,
          "tournament_id": "WC-1986",
          "win_diff": 2,
          "year": 1986
         },
         {
          "TotalWin_A": 2,
          "TotalWin_B": 6,
          "match_id": "M-1986-49",
          "match_info": "1986 (2 : 0)",
          "matchup": "France vs Germany",
          "teamA": "Germany",
          "teamA_score": 2,
          "teamA_win": 1,
          "teamB": "France",
          "teamB_score": 0,
          "teamB_win": 0,
          "tournament_id": "WC-1986",
          "win_diff": 4,
          "year": 1986
         },
         {
          "TotalWin_A": 2,
          "TotalWin_B": 10,
          "match_id": "M-1986-52",
          "match_info": "1986 (2 : 3)",
          "matchup": "Argentina vs Germany",
          "teamA": "Germany",
          "teamA_score": 2,
          "teamA_win": 0,
          "teamB": "Argentina",
          "teamB_score": 3,
          "teamB_win": 1,
          "tournament_id": "WC-1986",
          "win_diff": 8,
          "year": 1986
         },
         {
          "TotalWin_A": 0,
          "TotalWin_B": 0,
          "match_id": "M-1990-12",
          "match_info": "1990 (0 : 0)",
          "matchup": "Spain vs Uruguay",
          "teamA": "Uruguay",
          "teamA_score": 0,
          "teamA_win": 0,
          "teamB": "Spain",
          "teamB_score": 0,
          "teamB_win": 0,
          "tournament_id": "WC-1990",
          "win_diff": 0,
          "year": 1990
         },
         {
          "TotalWin_A": 2,
          "TotalWin_B": 4,
          "match_id": "M-1990-39",
          "match_info": "1990 (0 : 1)",
          "matchup": "Argentina vs Brazil",
          "teamA": "Brazil",
          "teamA_score": 0,
          "teamA_win": 0,
          "teamB": "Argentina",
          "teamB_score": 1,
          "teamB_win": 1,
          "tournament_id": "WC-1990",
          "win_diff": 2,
          "year": 1990
         },
         {
          "TotalWin_A": 2,
          "TotalWin_B": 2,
          "match_id": "M-1990-42",
          "match_info": "1990 (0 : 2)",
          "matchup": "Italy vs Uruguay",
          "teamA": "Uruguay",
          "teamA_score": 0,
          "teamA_win": 0,
          "teamB": "Italy",
          "teamB_score": 2,
          "teamB_win": 1,
          "tournament_id": "WC-1990",
          "win_diff": 0,
          "year": 1990
         },
         {
          "TotalWin_A": 2,
          "TotalWin_B": 4,
          "match_id": "M-1990-49",
          "match_info": "1990 (1 : 1)",
          "matchup": "Argentina vs Italy",
          "teamA": "Italy",
          "teamA_score": 1,
          "teamA_win": 0,
          "teamB": "Argentina",
          "teamB_score": 1,
          "teamB_win": 1,
          "tournament_id": "WC-1990",
          "win_diff": 2,
          "year": 1990
         },
         {
          "TotalWin_A": 2,
          "TotalWin_B": 6,
          "match_id": "M-1990-50",
          "match_info": "1990 (1 : 1)",
          "matchup": "England vs Germany",
          "teamA": "Germany",
          "teamA_score": 1,
          "teamA_win": 1,
          "teamB": "England",
          "teamB_score": 1,
          "teamB_win": 0,
          "tournament_id": "WC-1990",
          "win_diff": 4,
          "year": 1990
         },
         {
          "TotalWin_A": 0,
          "TotalWin_B": 4,
          "match_id": "M-1990-51",
          "match_info": "1990 (2 : 1)",
          "matchup": "England vs Italy",
          "teamA": "Italy",
          "teamA_score": 2,
          "teamA_win": 1,
          "teamB": "England",
          "teamB_score": 1,
          "teamB_win": 0,
          "tournament_id": "WC-1990",
          "win_diff": 4,
          "year": 1990
         },
         {
          "TotalWin_A": 2,
          "TotalWin_B": 10,
          "match_id": "M-1990-52",
          "match_info": "1990 (1 : 0)",
          "matchup": "Argentina vs Germany",
          "teamA": "Germany",
          "teamA_score": 1,
          "teamA_win": 1,
          "teamB": "Argentina",
          "teamB_score": 0,
          "teamB_win": 0,
          "tournament_id": "WC-1990",
          "win_diff": 8,
          "year": 1990
         },
         {
          "TotalWin_A": 4,
          "TotalWin_B": 2,
          "match_id": "M-1994-12",
          "match_info": "1994 (1 : 1)",
          "matchup": "Germany vs Spain",
          "teamA": "Spain",
          "teamA_score": 1,
          "teamA_win": 0,
          "teamB": "Germany",
          "teamB_score": 1,
          "teamB_win": 0,
          "tournament_id": "WC-1994",
          "win_diff": -2,
          "year": 1994
         },
         {
          "TotalWin_A": 2,
          "TotalWin_B": 0,
          "match_id": "M-1994-45",
          "match_info": "1994 (1 : 2)",
          "matchup": "Italy vs Spain",
          "teamA": "Spain",
          "teamA_score": 1,
          "teamA_win": 0,
          "teamB": "Italy",
          "teamB_score": 2,
          "teamB_win": 1,
          "tournament_id": "WC-1994",
          "win_diff": -2,
          "year": 1994
         },
         {
          "TotalWin_A": 6,
          "TotalWin_B": 2,
          "match_id": "M-1994-52",
          "match_info": "1994 (0 : 0)",
          "matchup": "Brazil vs Italy",
          "teamA": "Italy",
          "teamA_score": 0,
          "teamA_win": 0,
          "teamB": "Brazil",
          "teamB_score": 0,
          "teamB_win": 1,
          "tournament_id": "WC-1994",
          "win_diff": -4,
          "year": 1994
         },
         {
          "TotalWin_A": 4,
          "TotalWin_B": 6,
          "match_id": "M-1998-56",
          "match_info": "1998 (2 : 2)",
          "matchup": "Argentina vs England",
          "teamA": "England",
          "teamA_score": 2,
          "teamA_win": 0,
          "teamB": "Argentina",
          "teamB_score": 2,
          "teamB_win": 1,
          "tournament_id": "WC-1998",
          "win_diff": 2,
          "year": 1998
         },
         {
          "TotalWin_A": 4,
          "TotalWin_B": 4,
          "match_id": "M-1998-57",
          "match_info": "1998 (0 : 0)",
          "matchup": "France vs Italy",
          "teamA": "Italy",
          "teamA_score": 0,
          "teamA_win": 0,
          "teamB": "France",
          "teamB_score": 0,
          "teamB_win": 1,
          "tournament_id": "WC-1998",
          "win_diff": 0,
          "year": 1998
         },
         {
          "TotalWin_A": 2,
          "TotalWin_B": 6,
          "match_id": "M-1998-64",
          "match_info": "1998 (3 : 0)",
          "matchup": "Brazil vs France",
          "teamA": "France",
          "teamA_score": 3,
          "teamA_win": 1,
          "teamB": "Brazil",
          "teamB_score": 0,
          "teamB_win": 0,
          "tournament_id": "WC-1998",
          "win_diff": 4,
          "year": 1998
         },
         {
          "TotalWin_A": 2,
          "TotalWin_B": 2,
          "match_id": "M-2002-20",
          "match_info": "2002 (0 : 0)",
          "matchup": "France vs Uruguay",
          "teamA": "Uruguay",
          "teamA_score": 0,
          "teamA_win": 0,
          "teamB": "France",
          "teamB_score": 0,
          "teamB_win": 0,
          "tournament_id": "WC-2002",
          "win_diff": 0,
          "year": 2002
         },
         {
          "TotalWin_A": 4,
          "TotalWin_B": 6,
          "match_id": "M-2002-23",
          "match_info": "2002 (1 : 0)",
          "matchup": "Argentina vs England",
          "teamA": "England",
          "teamA_score": 1,
          "teamA_win": 1,
          "teamB": "Argentina",
          "teamB_score": 0,
          "teamB_win": 0,
          "tournament_id": "WC-2002",
          "win_diff": 2,
          "year": 2002
         },
         {
          "TotalWin_A": 6,
          "TotalWin_B": 0,
          "match_id": "M-2002-57",
          "match_info": "2002 (1 : 2)",
          "matchup": "Brazil vs England",
          "teamA": "England",
          "teamA_score": 1,
          "teamA_win": 0,
          "teamB": "Brazil",
          "teamB_score": 2,
          "teamB_win": 1,
          "tournament_id": "WC-2002",
          "win_diff": -6,
          "year": 2002
         },
         {
          "TotalWin_A": 2,
          "TotalWin_B": 2,
          "match_id": "M-2002-64",
          "match_info": "2002 (0 : 2)",
          "matchup": "Brazil vs Germany",
          "teamA": "Germany",
          "teamA_score": 0,
          "teamA_win": 0,
          "teamB": "Brazil",
          "teamB_score": 2,
          "teamB_win": 1,
          "tournament_id": "WC-2002",
          "win_diff": 0,
          "year": 2002
         },
         {
          "TotalWin_A": 2,
          "TotalWin_B": 0,
          "match_id": "M-2006-56",
          "match_info": "2006 (1 : 3)",
          "matchup": "France vs Spain",
          "teamA": "Spain",
          "teamA_score": 1,
          "teamA_win": 0,
          "teamB": "France",
          "teamB_score": 3,
          "teamB_win": 1,
          "tournament_id": "WC-2006",
          "win_diff": -2,
          "year": 2006
         },
         {
          "TotalWin_A": 2,
          "TotalWin_B": 10,
          "match_id": "M-2006-57",
          "match_info": "2006 (1 : 1)",
          "matchup": "Argentina vs Germany",
          "teamA": "Germany",
          "teamA_score": 1,
          "teamA_win": 1,
          "teamB": "Argentina",
          "teamB_score": 1,
          "teamB_win": 0,
          "tournament_id": "WC-2006",
          "win_diff": 8,
          "year": 2006
         },
         {
          "TotalWin_A": 2,
          "TotalWin_B": 6,
          "match_id": "M-2006-60",
          "match_info": "2006 (1 : 0)",
          "matchup": "Brazil vs France",
          "teamA": "France",
          "teamA_score": 1,
          "teamA_win": 1,
          "teamB": "Brazil",
          "teamB_score": 0,
          "teamB_win": 0,
          "tournament_id": "WC-2006",
          "win_diff": 4,
          "year": 2006
         },
         {
          "TotalWin_A": 0,
          "TotalWin_B": 6,
          "match_id": "M-2006-61",
          "match_info": "2006 (2 : 0)",
          "matchup": "Germany vs Italy",
          "teamA": "Italy",
          "teamA_score": 2,
          "teamA_win": 1,
          "teamB": "Germany",
          "teamB_score": 0,
          "teamB_win": 0,
          "tournament_id": "WC-2006",
          "win_diff": 6,
          "year": 2006
         },
         {
          "TotalWin_A": 4,
          "TotalWin_B": 4,
          "match_id": "M-2006-64",
          "match_info": "2006 (1 : 1)",
          "matchup": "France vs Italy",
          "teamA": "Italy",
          "teamA_score": 1,
          "teamA_win": 1,
          "teamB": "France",
          "teamB_score": 1,
          "teamB_win": 0,
          "tournament_id": "WC-2006",
          "win_diff": 0,
          "year": 2006
         },
         {
          "TotalWin_A": 2,
          "TotalWin_B": 2,
          "match_id": "M-2010-02",
          "match_info": "2010 (0 : 0)",
          "matchup": "France vs Uruguay",
          "teamA": "Uruguay",
          "teamA_score": 0,
          "teamA_win": 0,
          "teamB": "France",
          "teamB_score": 0,
          "teamB_win": 0,
          "tournament_id": "WC-2010",
          "win_diff": 0,
          "year": 2010
         },
         {
          "TotalWin_A": 2,
          "TotalWin_B": 6,
          "match_id": "M-2010-51",
          "match_info": "2010 (4 : 1)",
          "matchup": "England vs Germany",
          "teamA": "Germany",
          "teamA_score": 4,
          "teamA_win": 1,
          "teamB": "England",
          "teamB_score": 1,
          "teamB_win": 0,
          "tournament_id": "WC-2010",
          "win_diff": 4,
          "year": 2010
         },
         {
          "TotalWin_A": 2,
          "TotalWin_B": 10,
          "match_id": "M-2010-59",
          "match_info": "2010 (4 : 0)",
          "matchup": "Argentina vs Germany",
          "teamA": "Germany",
          "teamA_score": 4,
          "teamA_win": 1,
          "teamB": "Argentina",
          "teamB_score": 0,
          "teamB_win": 0,
          "tournament_id": "WC-2010",
          "win_diff": 8,
          "year": 2010
         },
         {
          "TotalWin_A": 4,
          "TotalWin_B": 2,
          "match_id": "M-2010-62",
          "match_info": "2010 (1 : 0)",
          "matchup": "Germany vs Spain",
          "teamA": "Spain",
          "teamA_score": 1,
          "teamA_win": 1,
          "teamB": "Germany",
          "teamB_score": 0,
          "teamB_win": 0,
          "tournament_id": "WC-2010",
          "win_diff": -2,
          "year": 2010
         },
         {
          "TotalWin_A": 6,
          "TotalWin_B": 0,
          "match_id": "M-2010-63",
          "match_info": "2010 (2 : 3)",
          "matchup": "Germany vs Uruguay",
          "teamA": "Uruguay",
          "teamA_score": 2,
          "teamA_win": 0,
          "teamB": "Germany",
          "teamB_score": 3,
          "teamB_win": 1,
          "tournament_id": "WC-2010",
          "win_diff": -6,
          "year": 2010
         },
         {
          "TotalWin_A": 0,
          "TotalWin_B": 4,
          "match_id": "M-2014-07",
          "match_info": "2014 (2 : 1)",
          "matchup": "England vs Italy",
          "teamA": "Italy",
          "teamA_score": 2,
          "teamA_win": 1,
          "teamB": "England",
          "teamB_score": 1,
          "teamB_win": 0,
          "tournament_id": "WC-2014",
          "win_diff": 4,
          "year": 2014
         },
         {
          "TotalWin_A": 0,
          "TotalWin_B": 4,
          "match_id": "M-2014-22",
          "match_info": "2014 (2 : 1)",
          "matchup": "England vs Uruguay",
          "teamA": "Uruguay",
          "teamA_score": 2,
          "teamA_win": 1,
          "teamB": "England",
          "teamB_score": 1,
          "teamB_win": 0,
          "tournament_id": "WC-2014",
          "win_diff": 4,
          "year": 2014
         },
         {
          "TotalWin_A": 2,
          "TotalWin_B": 2,
          "match_id": "M-2014-38",
          "match_info": "2014 (1 : 0)",
          "matchup": "Italy vs Uruguay",
          "teamA": "Uruguay",
          "teamA_score": 1,
          "teamA_win": 1,
          "teamB": "Italy",
          "teamB_score": 0,
          "teamB_win": 0,
          "tournament_id": "WC-2014",
          "win_diff": 0,
          "year": 2014
         },
         {
          "TotalWin_A": 2,
          "TotalWin_B": 6,
          "match_id": "M-2014-57",
          "match_info": "2014 (1 : 0)",
          "matchup": "France vs Germany",
          "teamA": "Germany",
          "teamA_score": 1,
          "teamA_win": 1,
          "teamB": "France",
          "teamB_score": 0,
          "teamB_win": 0,
          "tournament_id": "WC-2014",
          "win_diff": 4,
          "year": 2014
         },
         {
          "TotalWin_A": 2,
          "TotalWin_B": 2,
          "match_id": "M-2014-61",
          "match_info": "2014 (7 : 1)",
          "matchup": "Brazil vs Germany",
          "teamA": "Germany",
          "teamA_score": 7,
          "teamA_win": 1,
          "teamB": "Brazil",
          "teamB_score": 1,
          "teamB_win": 0,
          "tournament_id": "WC-2014",
          "win_diff": 0,
          "year": 2014
         },
         {
          "TotalWin_A": 2,
          "TotalWin_B": 10,
          "match_id": "M-2014-64",
          "match_info": "2014 (1 : 0)",
          "matchup": "Argentina vs Germany",
          "teamA": "Germany",
          "teamA_score": 1,
          "teamA_win": 1,
          "teamB": "Argentina",
          "teamB_score": 0,
          "teamB_win": 0,
          "tournament_id": "WC-2014",
          "win_diff": 8,
          "year": 2014
         },
         {
          "TotalWin_A": 4,
          "TotalWin_B": 2,
          "match_id": "M-2018-49",
          "match_info": "2018 (4 : 3)",
          "matchup": "Argentina vs France",
          "teamA": "France",
          "teamA_score": 4,
          "teamA_win": 1,
          "teamB": "Argentina",
          "teamB_score": 3,
          "teamB_win": 0,
          "tournament_id": "WC-2018",
          "win_diff": -2,
          "year": 2018
         },
         {
          "TotalWin_A": 2,
          "TotalWin_B": 2,
          "match_id": "M-2018-57",
          "match_info": "2018 (0 : 2)",
          "matchup": "France vs Uruguay",
          "teamA": "Uruguay",
          "teamA_score": 0,
          "teamA_win": 0,
          "teamB": "France",
          "teamB_score": 2,
          "teamB_win": 1,
          "tournament_id": "WC-2018",
          "win_diff": 0,
          "year": 2018
         },
         {
          "TotalWin_A": 4,
          "TotalWin_B": 2,
          "match_id": "M-2022-28",
          "match_info": "2022 (1 : 1)",
          "matchup": "Germany vs Spain",
          "teamA": "Spain",
          "teamA_score": 1,
          "teamA_win": 0,
          "teamB": "Germany",
          "teamB_score": 1,
          "teamB_win": 0,
          "tournament_id": "WC-2022",
          "win_diff": -2,
          "year": 2022
         },
         {
          "TotalWin_A": 4,
          "TotalWin_B": 2,
          "match_id": "M-2022-60",
          "match_info": "2022 (2 : 1)",
          "matchup": "England vs France",
          "teamA": "France",
          "teamA_score": 2,
          "teamA_win": 1,
          "teamB": "England",
          "teamB_score": 1,
          "teamB_win": 0,
          "tournament_id": "WC-2022",
          "win_diff": -2,
          "year": 2022
         },
         {
          "TotalWin_A": 4,
          "TotalWin_B": 2,
          "match_id": "M-2022-64",
          "match_info": "2022 (3 : 3)",
          "matchup": "Argentina vs France",
          "teamA": "France",
          "teamA_score": 3,
          "teamA_win": 0,
          "teamB": "Argentina",
          "teamB_score": 3,
          "teamB_win": 1,
          "tournament_id": "WC-2022",
          "win_diff": -2,
          "year": 2022
         }
        ]
       },
       "encoding": {
        "color": {
         "field": "win_diff",
         "legend": {
          "legendX": 730,
          "legendY": 30,
          "orient": "none",
          "titleAnchor": "start"
         },
         "scale": {
          "domainMid": 0,
          "range": [
           "red",
           "white",
           "green"
          ]
         },
         "title": "win_ratio",
         "type": "quantitative"
        },
        "tooltip": [
         {
          "field": "matchup",
          "title": null,
          "type": "nominal"
         }
        ],
        "x": {
         "axis": {
          "labelAngle": -50
         },
         "field": "teamA",
         "sort": "x",
         "title": null,
         "type": "nominal"
        },
        "y": {
         "field": "teamB",
         "sort": "y",
         "title": null,
         "type": "nominal"
        }
       },
       "height": 300,
       "mark": {
        "type": "rect"
       },
       "params": [
        {
         "name": "param_46",
         "select": {
          "fields": [
           "teamA",
           "teamB"
          ],
          "on": "mouseover",
          "type": "point"
         }
        }
       ],
       "width": 700
      },
      "text/plain": [
       "<VegaLite 5 object>\n",
       "\n",
       "If you see this message, it means the renderer has not been properly enabled\n",
       "for the frontend that you are using. For more information, see\n",
       "https://altair-viz.github.io/user_guide/display_frontends.html#troubleshooting\n"
      ]
     },
     "execution_count": 209,
     "metadata": {},
     "output_type": "execute_result"
    }
   ],
   "source": [
    "soccer_ball = \"⚽\"\n",
    "\n",
    "df = df_wc_winner_matchups.copy()\n",
    "df[\"teamA\"] = df[[\"home_team_name\", \"away_team_name\"]].min(axis=1)\n",
    "df[\"teamB\"] = df[[\"home_team_name\", \"away_team_name\"]].max(axis=1)\n",
    "\n",
    "df[\"teamA_score\"] = df.apply(lambda row: row[\"home_team_score\"] if row[\"home_team_name\"] == row[\"teamA\"] else row[\"away_team_score\"], axis=1)\n",
    "df[\"teamB_score\"] = df.apply(lambda row: row[\"home_team_score\"] if row[\"home_team_name\"] == row[\"teamB\"] else row[\"away_team_score\"], axis=1)\n",
    "\n",
    "df[\"teamA_win\"] = df.apply(lambda row: row[\"home_team_win\"] if row[\"home_team_name\"] == row[\"teamA\"] else row[\"away_team_win\"], axis=1)\n",
    "df[\"teamB_win\"] = df.apply(lambda row: row[\"home_team_win\"] if row[\"home_team_name\"] == row[\"teamB\"] else row[\"away_team_win\"], axis=1)\n",
    "\n",
    "df = df.drop(columns=[\"home_team_name\", \"away_team_name\", \n",
    "                      \"home_team_score\", \"away_team_score\", \n",
    "                      \"home_team_win\", \"away_team_win\", \"draw\"])\n",
    "\n",
    "win_counts = df.groupby([\"teamA\", \"teamB\"], as_index=False).agg(\n",
    "    TotalWin_A=(\"teamA_win\", \"sum\"),\n",
    "    TotalWin_B=(\"teamB_win\", \"sum\")\n",
    ")\n",
    "win_counts[\"matchup\"] = win_counts[\"teamA\"] + \" vs \" + win_counts[\"teamB\"]\n",
    "win_counts[\"win_diff\"] = win_counts[\"TotalWin_B\"] - win_counts[\"TotalWin_A\"]\n",
    "\n",
    "win_counts_symmetric = win_counts.copy()\n",
    "win_counts_symmetric = win_counts_symmetric.rename(columns={\"teamA\": \"teamB\", \"teamB\": \"teamA\"})\n",
    "win_counts_symmetric[\"win_diff\"] = -win_counts_symmetric[\"win_diff\"]\n",
    "\n",
    "win_counts_full = pd.concat([win_counts_symmetric, win_counts], ignore_index=True)\n",
    "\n",
    "df = df.merge(win_counts, on=[\"teamA\", \"teamB\"], how=\"left\")\n",
    "temp = df.copy()\n",
    "temp = temp.rename(columns={\"teamA\": \"teamB\", \"teamB\": \"teamA\"})\n",
    "temp = temp.rename(columns={\"teamA_score\": \"teamB_score\", \"teamB_score\": \"teamA_score\"})\n",
    "temp = temp.rename(columns={\"teamA_win\": \"teamB_win\", \"teamB_win\": \"teamA_win\"})\n",
    "temp[\"win_diff\"] = temp[\"TotalWin_B\"] - temp[\"TotalWin_A\"]\n",
    "\n",
    "df_full = pd.concat([df, temp], ignore_index=True)\n",
    "df_full[\"match_info\"] = df_full.apply(lambda row: f\"{row['year']} ({row['teamA_score']} : {row['teamB_score']})\", axis=1)\n",
    "\n",
    "selection = alt.selection_point(\n",
    "    fields=[\"teamA\", \"teamB\"], \n",
    "    on = 'mouseover',\n",
    "    empty=\"none\",\n",
    ")\n",
    "\n",
    "heatmap = (\n",
    "    alt.Chart(df_full)\n",
    "    .mark_rect()\n",
    "    .encode(\n",
    "        x=alt.X('teamA:N', sort='x', title=None, axis=alt.Axis(labelAngle=-50)),  \n",
    "        y=alt.Y('teamB:N', sort='y', title=None),  \n",
    "        color=alt.Color(\n",
    "            'win_diff:Q',\n",
    "            title = 'win_ratio',\n",
    "            scale=alt.Scale(domainMid=0, range=['red', 'white', 'green']),\n",
    "            legend=alt.Legend(\n",
    "                orient='none',\n",
    "                titleAnchor='start',\n",
    "                legendX=730,\n",
    "                legendY=30,\n",
    "            ),\n",
    "        ),\n",
    "        tooltip= [alt.Tooltip('matchup:N', title=None)],\n",
    "    )\n",
    "    .add_params(selection)\n",
    "    .properties(width=700, height=300)\n",
    ")\n",
    "\n",
    "heatmap"
   ]
  },
  {
   "cell_type": "code",
   "execution_count": 210,
   "metadata": {},
   "outputs": [],
   "source": [
    "Title = (\n",
    "    alt.Chart(df_full)\n",
    "    .mark_text(size=35, color=\"white\", align=\"center\", baseline=\"middle\")\n",
    "    .encode(\n",
    "        text = alt.Text(\"matchup:N\"),\n",
    "        x=alt.value(350),\n",
    "    )\n",
    "    .properties(width=700,\n",
    "                height = 50,) \n",
    "    .transform_filter(selection)\n",
    ")\n",
    "\n",
    "left_goals = (\n",
    "    alt.Chart(df_full)\n",
    "    .mark_text(text=soccer_ball, size=30, baseline=\"middle\")\n",
    "    .encode(\n",
    "        x=alt.X(\"teamA_score:Q\", scale=alt.Scale(domain=[0, 8], reverse=True), title=None, axis = alt.Axis(grid = True)),  \n",
    "        y=alt.Y(\"match_id:N\", title=None, axis=None),\n",
    "    )\n",
    "    .properties(width=300,\n",
    "                height = 250) \n",
    "    .transform_filter(selection)\n",
    ")\n",
    "\n",
    "middle_text = (\n",
    "    alt.Chart(df_full)\n",
    "    .mark_text(size=12, color=\"white\", align=\"center\")\n",
    "    .encode(\n",
    "        y=alt.Y(\"match_id:N\", axis=alt.Axis(domain=False, ticks=False, labels=False, title=None)),\n",
    "        text=alt.Text(\"match_info:N\") \n",
    "    )\n",
    "    .properties(width=50,\n",
    "                height = 250) \n",
    "    .transform_filter(selection)\n",
    ")\n",
    "\n",
    "right_goals = (\n",
    "    alt.Chart(df_full)\n",
    "    .mark_text(text=soccer_ball, size=30, baseline=\"middle\")\n",
    "    .encode(\n",
    "        x=alt.X(\"teamB_score:Q\", scale=alt.Scale(domain=[0, 8]), title=None, axis =alt.Axis(grid = True)), \n",
    "        y=alt.Y(\"match_id:N\", title=None, axis=None),\n",
    "    )\n",
    "    .properties(width=300,\n",
    "                height = 250) \n",
    "    .transform_filter(selection)\n",
    ")"
   ]
  },
  {
   "cell_type": "code",
   "execution_count": 211,
   "metadata": {},
   "outputs": [
    {
     "data": {
      "application/vnd.vegalite.v5+json": {
       "$schema": "https://vega.github.io/schema/vega-lite/v5.20.1.json",
       "config": {
        "view": {
         "continuousHeight": 300,
         "continuousWidth": 300,
         "strokeWidth": 0
        }
       },
       "data": {
        "name": "data-d6559eb26081035a4e1a3ea4aa1fe3ba"
       },
       "datasets": {
        "data-d6559eb26081035a4e1a3ea4aa1fe3ba": [
         {
          "TotalWin_A": 0,
          "TotalWin_B": 2,
          "match_id": "M-1950-13",
          "match_info": "1950 (0 : 1)",
          "matchup": "England vs Spain",
          "teamA": "England",
          "teamA_score": 0,
          "teamA_win": 0,
          "teamB": "Spain",
          "teamB_score": 1,
          "teamB_win": 1,
          "tournament_id": "WC-1950",
          "win_diff": 2,
          "year": 1950
         },
         {
          "TotalWin_A": 0,
          "TotalWin_B": 0,
          "match_id": "M-1950-18",
          "match_info": "1950 (2 : 2)",
          "matchup": "Spain vs Uruguay",
          "teamA": "Spain",
          "teamA_score": 2,
          "teamA_win": 0,
          "teamB": "Uruguay",
          "teamB_score": 2,
          "teamB_win": 0,
          "tournament_id": "WC-1950",
          "win_diff": 0,
          "year": 1950
         },
         {
          "TotalWin_A": 6,
          "TotalWin_B": 0,
          "match_id": "M-1950-19",
          "match_info": "1950 (6 : 1)",
          "matchup": "Brazil vs Spain",
          "teamA": "Brazil",
          "teamA_score": 6,
          "teamA_win": 1,
          "teamB": "Spain",
          "teamB_score": 1,
          "teamB_win": 0,
          "tournament_id": "WC-1950",
          "win_diff": -6,
          "year": 1950
         },
         {
          "TotalWin_A": 2,
          "TotalWin_B": 2,
          "match_id": "M-1950-22",
          "match_info": "1950 (1 : 2)",
          "matchup": "Brazil vs Uruguay",
          "teamA": "Brazil",
          "teamA_score": 1,
          "teamA_win": 0,
          "teamB": "Uruguay",
          "teamB_score": 2,
          "teamB_win": 1,
          "tournament_id": "WC-1950",
          "win_diff": 0,
          "year": 1950
         },
         {
          "TotalWin_A": 0,
          "TotalWin_B": 4,
          "match_id": "M-1954-20",
          "match_info": "1954 (2 : 4)",
          "matchup": "England vs Uruguay",
          "teamA": "England",
          "teamA_score": 2,
          "teamA_win": 0,
          "teamB": "Uruguay",
          "teamB_score": 4,
          "teamB_win": 1,
          "tournament_id": "WC-1954",
          "win_diff": 4,
          "year": 1954
         },
         {
          "TotalWin_A": 2,
          "TotalWin_B": 10,
          "match_id": "M-1958-02",
          "match_info": "1958 (1 : 3)",
          "matchup": "Argentina vs Germany",
          "teamA": "Argentina",
          "teamA_score": 1,
          "teamA_win": 0,
          "teamB": "Germany",
          "teamB_score": 3,
          "teamB_win": 1,
          "tournament_id": "WC-1958",
          "win_diff": 8,
          "year": 1958
         },
         {
          "TotalWin_A": 6,
          "TotalWin_B": 0,
          "match_id": "M-1958-14",
          "match_info": "1958 (0 : 0)",
          "matchup": "Brazil vs England",
          "teamA": "Brazil",
          "teamA_score": 0,
          "teamA_win": 0,
          "teamB": "England",
          "teamB_score": 0,
          "teamB_win": 0,
          "tournament_id": "WC-1958",
          "win_diff": -6,
          "year": 1958
         },
         {
          "TotalWin_A": 2,
          "TotalWin_B": 6,
          "match_id": "M-1958-32",
          "match_info": "1958 (5 : 2)",
          "matchup": "Brazil vs France",
          "teamA": "Brazil",
          "teamA_score": 5,
          "teamA_win": 1,
          "teamB": "France",
          "teamB_score": 2,
          "teamB_win": 0,
          "tournament_id": "WC-1958",
          "win_diff": 4,
          "year": 1958
         },
         {
          "TotalWin_A": 2,
          "TotalWin_B": 6,
          "match_id": "M-1958-34",
          "match_info": "1958 (6 : 3)",
          "matchup": "France vs Germany",
          "teamA": "France",
          "teamA_score": 6,
          "teamA_win": 1,
          "teamB": "Germany",
          "teamB_score": 3,
          "teamB_win": 0,
          "tournament_id": "WC-1958",
          "win_diff": 4,
          "year": 1958
         },
         {
          "TotalWin_A": 0,
          "TotalWin_B": 6,
          "match_id": "M-1962-06",
          "match_info": "1962 (0 : 0)",
          "matchup": "Germany vs Italy",
          "teamA": "Germany",
          "teamA_score": 0,
          "teamA_win": 0,
          "teamB": "Italy",
          "teamB_score": 0,
          "teamB_win": 0,
          "tournament_id": "WC-1962",
          "win_diff": 6,
          "year": 1962
         },
         {
          "TotalWin_A": 4,
          "TotalWin_B": 6,
          "match_id": "M-1962-12",
          "match_info": "1962 (1 : 3)",
          "matchup": "Argentina vs England",
          "teamA": "Argentina",
          "teamA_score": 1,
          "teamA_win": 0,
          "teamB": "England",
          "teamB_score": 3,
          "teamB_win": 1,
          "tournament_id": "WC-1962",
          "win_diff": 2,
          "year": 1962
         },
         {
          "TotalWin_A": 6,
          "TotalWin_B": 0,
          "match_id": "M-1962-19",
          "match_info": "1962 (2 : 1)",
          "matchup": "Brazil vs Spain",
          "teamA": "Brazil",
          "teamA_score": 2,
          "teamA_win": 1,
          "teamB": "Spain",
          "teamB_score": 1,
          "teamB_win": 0,
          "tournament_id": "WC-1962",
          "win_diff": -6,
          "year": 1962
         },
         {
          "TotalWin_A": 6,
          "TotalWin_B": 0,
          "match_id": "M-1962-25",
          "match_info": "1962 (3 : 1)",
          "matchup": "Brazil vs England",
          "teamA": "Brazil",
          "teamA_score": 3,
          "teamA_win": 1,
          "teamB": "England",
          "teamB_score": 1,
          "teamB_win": 0,
          "tournament_id": "WC-1962",
          "win_diff": -6,
          "year": 1962
         },
         {
          "TotalWin_A": 0,
          "TotalWin_B": 4,
          "match_id": "M-1966-01",
          "match_info": "1966 (0 : 0)",
          "matchup": "England vs Uruguay",
          "teamA": "England",
          "teamA_score": 0,
          "teamA_win": 0,
          "teamB": "Uruguay",
          "teamB_score": 0,
          "teamB_win": 0,
          "tournament_id": "WC-1966",
          "win_diff": 4,
          "year": 1966
         },
         {
          "TotalWin_A": 2,
          "TotalWin_B": 0,
          "match_id": "M-1966-06",
          "match_info": "1966 (2 : 1)",
          "matchup": "Argentina vs Spain",
          "teamA": "Argentina",
          "teamA_score": 2,
          "teamA_win": 1,
          "teamB": "Spain",
          "teamB_score": 1,
          "teamB_win": 0,
          "tournament_id": "WC-1966",
          "win_diff": -2,
          "year": 1966
         },
         {
          "TotalWin_A": 2,
          "TotalWin_B": 2,
          "match_id": "M-1966-09",
          "match_info": "1966 (1 : 2)",
          "matchup": "France vs Uruguay",
          "teamA": "France",
          "teamA_score": 1,
          "teamA_win": 0,
          "teamB": "Uruguay",
          "teamB_score": 2,
          "teamB_win": 1,
          "tournament_id": "WC-1966",
          "win_diff": 0,
          "year": 1966
         },
         {
          "TotalWin_A": 2,
          "TotalWin_B": 10,
          "match_id": "M-1966-13",
          "match_info": "1966 (0 : 0)",
          "matchup": "Argentina vs Germany",
          "teamA": "Argentina",
          "teamA_score": 0,
          "teamA_win": 0,
          "teamB": "Germany",
          "teamB_score": 0,
          "teamB_win": 0,
          "tournament_id": "WC-1966",
          "win_diff": 8,
          "year": 1966
         },
         {
          "TotalWin_A": 4,
          "TotalWin_B": 2,
          "match_id": "M-1966-21",
          "match_info": "1966 (2 : 0)",
          "matchup": "England vs France",
          "teamA": "England",
          "teamA_score": 2,
          "teamA_win": 1,
          "teamB": "France",
          "teamB_score": 0,
          "teamB_win": 0,
          "tournament_id": "WC-1966",
          "win_diff": -2,
          "year": 1966
         },
         {
          "TotalWin_A": 4,
          "TotalWin_B": 2,
          "match_id": "M-1966-22",
          "match_info": "1966 (2 : 1)",
          "matchup": "Germany vs Spain",
          "teamA": "Germany",
          "teamA_score": 2,
          "teamA_win": 1,
          "teamB": "Spain",
          "teamB_score": 1,
          "teamB_win": 0,
          "tournament_id": "WC-1966",
          "win_diff": -2,
          "year": 1966
         },
         {
          "TotalWin_A": 4,
          "TotalWin_B": 6,
          "match_id": "M-1966-25",
          "match_info": "1966 (0 : 1)",
          "matchup": "Argentina vs England",
          "teamA": "Argentina",
          "teamA_score": 0,
          "teamA_win": 0,
          "teamB": "England",
          "teamB_score": 1,
          "teamB_win": 1,
          "tournament_id": "WC-1966",
          "win_diff": 2,
          "year": 1966
         },
         {
          "TotalWin_A": 6,
          "TotalWin_B": 0,
          "match_id": "M-1966-28",
          "match_info": "1966 (4 : 0)",
          "matchup": "Germany vs Uruguay",
          "teamA": "Germany",
          "teamA_score": 4,
          "teamA_win": 1,
          "teamB": "Uruguay",
          "teamB_score": 0,
          "teamB_win": 0,
          "tournament_id": "WC-1966",
          "win_diff": -6,
          "year": 1966
         },
         {
          "TotalWin_A": 2,
          "TotalWin_B": 6,
          "match_id": "M-1966-32",
          "match_info": "1966 (4 : 2)",
          "matchup": "England vs Germany",
          "teamA": "England",
          "teamA_score": 4,
          "teamA_win": 1,
          "teamB": "Germany",
          "teamB_score": 2,
          "teamB_win": 0,
          "tournament_id": "WC-1966",
          "win_diff": 4,
          "year": 1966
         },
         {
          "TotalWin_A": 2,
          "TotalWin_B": 2,
          "match_id": "M-1970-10",
          "match_info": "1970 (0 : 0)",
          "matchup": "Italy vs Uruguay",
          "teamA": "Italy",
          "teamA_score": 0,
          "teamA_win": 0,
          "teamB": "Uruguay",
          "teamB_score": 0,
          "teamB_win": 0,
          "tournament_id": "WC-1970",
          "win_diff": 0,
          "year": 1970
         },
         {
          "TotalWin_A": 6,
          "TotalWin_B": 0,
          "match_id": "M-1970-15",
          "match_info": "1970 (1 : 0)",
          "matchup": "Brazil vs England",
          "teamA": "Brazil",
          "teamA_score": 1,
          "teamA_win": 1,
          "teamB": "England",
          "teamB_score": 0,
          "teamB_win": 0,
          "tournament_id": "WC-1970",
          "win_diff": -6,
          "year": 1970
         },
         {
          "TotalWin_A": 2,
          "TotalWin_B": 6,
          "match_id": "M-1970-28",
          "match_info": "1970 (2 : 3)",
          "matchup": "England vs Germany",
          "teamA": "England",
          "teamA_score": 2,
          "teamA_win": 0,
          "teamB": "Germany",
          "teamB_score": 3,
          "teamB_win": 1,
          "tournament_id": "WC-1970",
          "win_diff": 4,
          "year": 1970
         },
         {
          "TotalWin_A": 2,
          "TotalWin_B": 2,
          "match_id": "M-1970-29",
          "match_info": "1970 (3 : 1)",
          "matchup": "Brazil vs Uruguay",
          "teamA": "Brazil",
          "teamA_score": 3,
          "teamA_win": 1,
          "teamB": "Uruguay",
          "teamB_score": 1,
          "teamB_win": 0,
          "tournament_id": "WC-1970",
          "win_diff": 0,
          "year": 1970
         },
         {
          "TotalWin_A": 0,
          "TotalWin_B": 6,
          "match_id": "M-1970-30",
          "match_info": "1970 (3 : 4)",
          "matchup": "Germany vs Italy",
          "teamA": "Germany",
          "teamA_score": 3,
          "teamA_win": 0,
          "teamB": "Italy",
          "teamB_score": 4,
          "teamB_win": 1,
          "tournament_id": "WC-1970",
          "win_diff": 6,
          "year": 1970
         },
         {
          "TotalWin_A": 6,
          "TotalWin_B": 0,
          "match_id": "M-1970-31",
          "match_info": "1970 (1 : 0)",
          "matchup": "Germany vs Uruguay",
          "teamA": "Germany",
          "teamA_score": 1,
          "teamA_win": 1,
          "teamB": "Uruguay",
          "teamB_score": 0,
          "teamB_win": 0,
          "tournament_id": "WC-1970",
          "win_diff": -6,
          "year": 1970
         },
         {
          "TotalWin_A": 6,
          "TotalWin_B": 2,
          "match_id": "M-1970-32",
          "match_info": "1970 (4 : 1)",
          "matchup": "Brazil vs Italy",
          "teamA": "Brazil",
          "teamA_score": 4,
          "teamA_win": 1,
          "teamB": "Italy",
          "teamB_score": 1,
          "teamB_win": 0,
          "tournament_id": "WC-1970",
          "win_diff": -4,
          "year": 1970
         },
         {
          "TotalWin_A": 2,
          "TotalWin_B": 4,
          "match_id": "M-1974-15",
          "match_info": "1974 (1 : 1)",
          "matchup": "Argentina vs Italy",
          "teamA": "Argentina",
          "teamA_score": 1,
          "teamA_win": 0,
          "teamB": "Italy",
          "teamB_score": 1,
          "teamB_win": 0,
          "tournament_id": "WC-1974",
          "win_diff": 2,
          "year": 1974
         },
         {
          "TotalWin_A": 2,
          "TotalWin_B": 4,
          "match_id": "M-1974-29",
          "match_info": "1974 (1 : 2)",
          "matchup": "Argentina vs Brazil",
          "teamA": "Argentina",
          "teamA_score": 1,
          "teamA_win": 0,
          "teamB": "Brazil",
          "teamB_score": 2,
          "teamB_win": 1,
          "tournament_id": "WC-1974",
          "win_diff": 2,
          "year": 1974
         },
         {
          "TotalWin_A": 4,
          "TotalWin_B": 4,
          "match_id": "M-1978-02",
          "match_info": "1978 (1 : 2)",
          "matchup": "France vs Italy",
          "teamA": "France",
          "teamA_score": 1,
          "teamA_win": 0,
          "teamB": "Italy",
          "teamB_score": 2,
          "teamB_win": 1,
          "tournament_id": "WC-1978",
          "win_diff": 0,
          "year": 1978
         },
         {
          "TotalWin_A": 4,
          "TotalWin_B": 2,
          "match_id": "M-1978-12",
          "match_info": "1978 (2 : 1)",
          "matchup": "Argentina vs France",
          "teamA": "Argentina",
          "teamA_score": 2,
          "teamA_win": 1,
          "teamB": "France",
          "teamB_score": 1,
          "teamB_win": 0,
          "tournament_id": "WC-1978",
          "win_diff": -2,
          "year": 1978
         },
         {
          "TotalWin_A": 6,
          "TotalWin_B": 0,
          "match_id": "M-1978-14",
          "match_info": "1978 (0 : 0)",
          "matchup": "Brazil vs Spain",
          "teamA": "Brazil",
          "teamA_score": 0,
          "teamA_win": 0,
          "teamB": "Spain",
          "teamB_score": 0,
          "teamB_win": 0,
          "tournament_id": "WC-1978",
          "win_diff": -6,
          "year": 1978
         },
         {
          "TotalWin_A": 2,
          "TotalWin_B": 4,
          "match_id": "M-1978-20",
          "match_info": "1978 (0 : 1)",
          "matchup": "Argentina vs Italy",
          "teamA": "Argentina",
          "teamA_score": 0,
          "teamA_win": 0,
          "teamB": "Italy",
          "teamB_score": 1,
          "teamB_win": 1,
          "tournament_id": "WC-1978",
          "win_diff": 2,
          "year": 1978
         },
         {
          "TotalWin_A": 0,
          "TotalWin_B": 6,
          "match_id": "M-1978-26",
          "match_info": "1978 (0 : 0)",
          "matchup": "Germany vs Italy",
          "teamA": "Germany",
          "teamA_score": 0,
          "teamA_win": 0,
          "teamB": "Italy",
          "teamB_score": 0,
          "teamB_win": 0,
          "tournament_id": "WC-1978",
          "win_diff": 6,
          "year": 1978
         },
         {
          "TotalWin_A": 2,
          "TotalWin_B": 4,
          "match_id": "M-1978-32",
          "match_info": "1978 (0 : 0)",
          "matchup": "Argentina vs Brazil",
          "teamA": "Argentina",
          "teamA_score": 0,
          "teamA_win": 0,
          "teamB": "Brazil",
          "teamB_score": 0,
          "teamB_win": 0,
          "tournament_id": "WC-1978",
          "win_diff": 2,
          "year": 1978
         },
         {
          "TotalWin_A": 6,
          "TotalWin_B": 2,
          "match_id": "M-1978-37",
          "match_info": "1978 (2 : 1)",
          "matchup": "Brazil vs Italy",
          "teamA": "Brazil",
          "teamA_score": 2,
          "teamA_win": 1,
          "teamB": "Italy",
          "teamB_score": 1,
          "teamB_win": 0,
          "tournament_id": "WC-1978",
          "win_diff": -4,
          "year": 1978
         },
         {
          "TotalWin_A": 4,
          "TotalWin_B": 2,
          "match_id": "M-1982-08",
          "match_info": "1982 (3 : 1)",
          "matchup": "England vs France",
          "teamA": "England",
          "teamA_score": 3,
          "teamA_win": 1,
          "teamB": "France",
          "teamB_score": 1,
          "teamB_win": 0,
          "tournament_id": "WC-1982",
          "win_diff": -2,
          "year": 1982
         },
         {
          "TotalWin_A": 2,
          "TotalWin_B": 4,
          "match_id": "M-1982-39",
          "match_info": "1982 (1 : 2)",
          "matchup": "Argentina vs Italy",
          "teamA": "Argentina",
          "teamA_score": 1,
          "teamA_win": 0,
          "teamB": "Italy",
          "teamB_score": 2,
          "teamB_win": 1,
          "tournament_id": "WC-1982",
          "win_diff": 2,
          "year": 1982
         },
         {
          "TotalWin_A": 2,
          "TotalWin_B": 6,
          "match_id": "M-1982-40",
          "match_info": "1982 (0 : 0)",
          "matchup": "England vs Germany",
          "teamA": "England",
          "teamA_score": 0,
          "teamA_win": 0,
          "teamB": "Germany",
          "teamB_score": 0,
          "teamB_win": 0,
          "tournament_id": "WC-1982",
          "win_diff": 4,
          "year": 1982
         },
         {
          "TotalWin_A": 2,
          "TotalWin_B": 4,
          "match_id": "M-1982-43",
          "match_info": "1982 (1 : 3)",
          "matchup": "Argentina vs Brazil",
          "teamA": "Argentina",
          "teamA_score": 1,
          "teamA_win": 0,
          "teamB": "Brazil",
          "teamB_score": 3,
          "teamB_win": 1,
          "tournament_id": "WC-1982",
          "win_diff": 2,
          "year": 1982
         },
         {
          "TotalWin_A": 4,
          "TotalWin_B": 2,
          "match_id": "M-1982-44",
          "match_info": "1982 (2 : 1)",
          "matchup": "Germany vs Spain",
          "teamA": "Germany",
          "teamA_score": 2,
          "teamA_win": 1,
          "teamB": "Spain",
          "teamB_score": 1,
          "teamB_win": 0,
          "tournament_id": "WC-1982",
          "win_diff": -2,
          "year": 1982
         },
         {
          "TotalWin_A": 6,
          "TotalWin_B": 2,
          "match_id": "M-1982-47",
          "match_info": "1982 (2 : 3)",
          "matchup": "Brazil vs Italy",
          "teamA": "Brazil",
          "teamA_score": 2,
          "teamA_win": 0,
          "teamB": "Italy",
          "teamB_score": 3,
          "teamB_win": 1,
          "tournament_id": "WC-1982",
          "win_diff": -4,
          "year": 1982
         },
         {
          "TotalWin_A": 0,
          "TotalWin_B": 2,
          "match_id": "M-1982-48",
          "match_info": "1982 (0 : 0)",
          "matchup": "England vs Spain",
          "teamA": "England",
          "teamA_score": 0,
          "teamA_win": 0,
          "teamB": "Spain",
          "teamB_score": 0,
          "teamB_win": 0,
          "tournament_id": "WC-1982",
          "win_diff": 2,
          "year": 1982
         },
         {
          "TotalWin_A": 2,
          "TotalWin_B": 6,
          "match_id": "M-1982-50",
          "match_info": "1982 (3 : 3)",
          "matchup": "France vs Germany",
          "teamA": "France",
          "teamA_score": 3,
          "teamA_win": 0,
          "teamB": "Germany",
          "teamB_score": 3,
          "teamB_win": 1,
          "tournament_id": "WC-1982",
          "win_diff": 4,
          "year": 1982
         },
         {
          "TotalWin_A": 0,
          "TotalWin_B": 6,
          "match_id": "M-1982-52",
          "match_info": "1982 (1 : 3)",
          "matchup": "Germany vs Italy",
          "teamA": "Germany",
          "teamA_score": 1,
          "teamA_win": 0,
          "teamB": "Italy",
          "teamB_score": 3,
          "teamB_win": 1,
          "tournament_id": "WC-1982",
          "win_diff": 6,
          "year": 1982
         },
         {
          "TotalWin_A": 6,
          "TotalWin_B": 0,
          "match_id": "M-1986-02",
          "match_info": "1986 (1 : 0)",
          "matchup": "Brazil vs Spain",
          "teamA": "Brazil",
          "teamA_score": 1,
          "teamA_win": 1,
          "teamB": "Spain",
          "teamB_score": 0,
          "teamB_win": 0,
          "tournament_id": "WC-1986",
          "win_diff": -6,
          "year": 1986
         },
         {
          "TotalWin_A": 6,
          "TotalWin_B": 0,
          "match_id": "M-1986-11",
          "match_info": "1986 (1 : 1)",
          "matchup": "Germany vs Uruguay",
          "teamA": "Germany",
          "teamA_score": 1,
          "teamA_win": 0,
          "teamB": "Uruguay",
          "teamB_score": 1,
          "teamB_win": 0,
          "tournament_id": "WC-1986",
          "win_diff": -6,
          "year": 1986
         },
         {
          "TotalWin_A": 2,
          "TotalWin_B": 4,
          "match_id": "M-1986-13",
          "match_info": "1986 (1 : 1)",
          "matchup": "Argentina vs Italy",
          "teamA": "Argentina",
          "teamA_score": 1,
          "teamA_win": 0,
          "teamB": "Italy",
          "teamB_score": 1,
          "teamB_win": 0,
          "tournament_id": "WC-1986",
          "win_diff": 2,
          "year": 1986
         },
         {
          "TotalWin_A": 2,
          "TotalWin_B": 0,
          "match_id": "M-1986-40",
          "match_info": "1986 (1 : 0)",
          "matchup": "Argentina vs Uruguay",
          "teamA": "Argentina",
          "teamA_score": 1,
          "teamA_win": 1,
          "teamB": "Uruguay",
          "teamB_score": 0,
          "teamB_win": 0,
          "tournament_id": "WC-1986",
          "win_diff": -2,
          "year": 1986
         },
         {
          "TotalWin_A": 4,
          "TotalWin_B": 4,
          "match_id": "M-1986-41",
          "match_info": "1986 (2 : 0)",
          "matchup": "France vs Italy",
          "teamA": "France",
          "teamA_score": 2,
          "teamA_win": 1,
          "teamB": "Italy",
          "teamB_score": 0,
          "teamB_win": 0,
          "tournament_id": "WC-1986",
          "win_diff": 0,
          "year": 1986
         },
         {
          "TotalWin_A": 2,
          "TotalWin_B": 6,
          "match_id": "M-1986-45",
          "match_info": "1986 (1 : 1)",
          "matchup": "Brazil vs France",
          "teamA": "Brazil",
          "teamA_score": 1,
          "teamA_win": 0,
          "teamB": "France",
          "teamB_score": 1,
          "teamB_win": 1,
          "tournament_id": "WC-1986",
          "win_diff": 4,
          "year": 1986
         },
         {
          "TotalWin_A": 4,
          "TotalWin_B": 6,
          "match_id": "M-1986-47",
          "match_info": "1986 (2 : 1)",
          "matchup": "Argentina vs England",
          "teamA": "Argentina",
          "teamA_score": 2,
          "teamA_win": 1,
          "teamB": "England",
          "teamB_score": 1,
          "teamB_win": 0,
          "tournament_id": "WC-1986",
          "win_diff": 2,
          "year": 1986
         },
         {
          "TotalWin_A": 2,
          "TotalWin_B": 6,
          "match_id": "M-1986-49",
          "match_info": "1986 (0 : 2)",
          "matchup": "France vs Germany",
          "teamA": "France",
          "teamA_score": 0,
          "teamA_win": 0,
          "teamB": "Germany",
          "teamB_score": 2,
          "teamB_win": 1,
          "tournament_id": "WC-1986",
          "win_diff": 4,
          "year": 1986
         },
         {
          "TotalWin_A": 2,
          "TotalWin_B": 10,
          "match_id": "M-1986-52",
          "match_info": "1986 (3 : 2)",
          "matchup": "Argentina vs Germany",
          "teamA": "Argentina",
          "teamA_score": 3,
          "teamA_win": 1,
          "teamB": "Germany",
          "teamB_score": 2,
          "teamB_win": 0,
          "tournament_id": "WC-1986",
          "win_diff": 8,
          "year": 1986
         },
         {
          "TotalWin_A": 0,
          "TotalWin_B": 0,
          "match_id": "M-1990-12",
          "match_info": "1990 (0 : 0)",
          "matchup": "Spain vs Uruguay",
          "teamA": "Spain",
          "teamA_score": 0,
          "teamA_win": 0,
          "teamB": "Uruguay",
          "teamB_score": 0,
          "teamB_win": 0,
          "tournament_id": "WC-1990",
          "win_diff": 0,
          "year": 1990
         },
         {
          "TotalWin_A": 2,
          "TotalWin_B": 4,
          "match_id": "M-1990-39",
          "match_info": "1990 (1 : 0)",
          "matchup": "Argentina vs Brazil",
          "teamA": "Argentina",
          "teamA_score": 1,
          "teamA_win": 1,
          "teamB": "Brazil",
          "teamB_score": 0,
          "teamB_win": 0,
          "tournament_id": "WC-1990",
          "win_diff": 2,
          "year": 1990
         },
         {
          "TotalWin_A": 2,
          "TotalWin_B": 2,
          "match_id": "M-1990-42",
          "match_info": "1990 (2 : 0)",
          "matchup": "Italy vs Uruguay",
          "teamA": "Italy",
          "teamA_score": 2,
          "teamA_win": 1,
          "teamB": "Uruguay",
          "teamB_score": 0,
          "teamB_win": 0,
          "tournament_id": "WC-1990",
          "win_diff": 0,
          "year": 1990
         },
         {
          "TotalWin_A": 2,
          "TotalWin_B": 4,
          "match_id": "M-1990-49",
          "match_info": "1990 (1 : 1)",
          "matchup": "Argentina vs Italy",
          "teamA": "Argentina",
          "teamA_score": 1,
          "teamA_win": 1,
          "teamB": "Italy",
          "teamB_score": 1,
          "teamB_win": 0,
          "tournament_id": "WC-1990",
          "win_diff": 2,
          "year": 1990
         },
         {
          "TotalWin_A": 2,
          "TotalWin_B": 6,
          "match_id": "M-1990-50",
          "match_info": "1990 (1 : 1)",
          "matchup": "England vs Germany",
          "teamA": "England",
          "teamA_score": 1,
          "teamA_win": 0,
          "teamB": "Germany",
          "teamB_score": 1,
          "teamB_win": 1,
          "tournament_id": "WC-1990",
          "win_diff": 4,
          "year": 1990
         },
         {
          "TotalWin_A": 0,
          "TotalWin_B": 4,
          "match_id": "M-1990-51",
          "match_info": "1990 (1 : 2)",
          "matchup": "England vs Italy",
          "teamA": "England",
          "teamA_score": 1,
          "teamA_win": 0,
          "teamB": "Italy",
          "teamB_score": 2,
          "teamB_win": 1,
          "tournament_id": "WC-1990",
          "win_diff": 4,
          "year": 1990
         },
         {
          "TotalWin_A": 2,
          "TotalWin_B": 10,
          "match_id": "M-1990-52",
          "match_info": "1990 (0 : 1)",
          "matchup": "Argentina vs Germany",
          "teamA": "Argentina",
          "teamA_score": 0,
          "teamA_win": 0,
          "teamB": "Germany",
          "teamB_score": 1,
          "teamB_win": 1,
          "tournament_id": "WC-1990",
          "win_diff": 8,
          "year": 1990
         },
         {
          "TotalWin_A": 4,
          "TotalWin_B": 2,
          "match_id": "M-1994-12",
          "match_info": "1994 (1 : 1)",
          "matchup": "Germany vs Spain",
          "teamA": "Germany",
          "teamA_score": 1,
          "teamA_win": 0,
          "teamB": "Spain",
          "teamB_score": 1,
          "teamB_win": 0,
          "tournament_id": "WC-1994",
          "win_diff": -2,
          "year": 1994
         },
         {
          "TotalWin_A": 2,
          "TotalWin_B": 0,
          "match_id": "M-1994-45",
          "match_info": "1994 (2 : 1)",
          "matchup": "Italy vs Spain",
          "teamA": "Italy",
          "teamA_score": 2,
          "teamA_win": 1,
          "teamB": "Spain",
          "teamB_score": 1,
          "teamB_win": 0,
          "tournament_id": "WC-1994",
          "win_diff": -2,
          "year": 1994
         },
         {
          "TotalWin_A": 6,
          "TotalWin_B": 2,
          "match_id": "M-1994-52",
          "match_info": "1994 (0 : 0)",
          "matchup": "Brazil vs Italy",
          "teamA": "Brazil",
          "teamA_score": 0,
          "teamA_win": 1,
          "teamB": "Italy",
          "teamB_score": 0,
          "teamB_win": 0,
          "tournament_id": "WC-1994",
          "win_diff": -4,
          "year": 1994
         },
         {
          "TotalWin_A": 4,
          "TotalWin_B": 6,
          "match_id": "M-1998-56",
          "match_info": "1998 (2 : 2)",
          "matchup": "Argentina vs England",
          "teamA": "Argentina",
          "teamA_score": 2,
          "teamA_win": 1,
          "teamB": "England",
          "teamB_score": 2,
          "teamB_win": 0,
          "tournament_id": "WC-1998",
          "win_diff": 2,
          "year": 1998
         },
         {
          "TotalWin_A": 4,
          "TotalWin_B": 4,
          "match_id": "M-1998-57",
          "match_info": "1998 (0 : 0)",
          "matchup": "France vs Italy",
          "teamA": "France",
          "teamA_score": 0,
          "teamA_win": 1,
          "teamB": "Italy",
          "teamB_score": 0,
          "teamB_win": 0,
          "tournament_id": "WC-1998",
          "win_diff": 0,
          "year": 1998
         },
         {
          "TotalWin_A": 2,
          "TotalWin_B": 6,
          "match_id": "M-1998-64",
          "match_info": "1998 (0 : 3)",
          "matchup": "Brazil vs France",
          "teamA": "Brazil",
          "teamA_score": 0,
          "teamA_win": 0,
          "teamB": "France",
          "teamB_score": 3,
          "teamB_win": 1,
          "tournament_id": "WC-1998",
          "win_diff": 4,
          "year": 1998
         },
         {
          "TotalWin_A": 2,
          "TotalWin_B": 2,
          "match_id": "M-2002-20",
          "match_info": "2002 (0 : 0)",
          "matchup": "France vs Uruguay",
          "teamA": "France",
          "teamA_score": 0,
          "teamA_win": 0,
          "teamB": "Uruguay",
          "teamB_score": 0,
          "teamB_win": 0,
          "tournament_id": "WC-2002",
          "win_diff": 0,
          "year": 2002
         },
         {
          "TotalWin_A": 4,
          "TotalWin_B": 6,
          "match_id": "M-2002-23",
          "match_info": "2002 (0 : 1)",
          "matchup": "Argentina vs England",
          "teamA": "Argentina",
          "teamA_score": 0,
          "teamA_win": 0,
          "teamB": "England",
          "teamB_score": 1,
          "teamB_win": 1,
          "tournament_id": "WC-2002",
          "win_diff": 2,
          "year": 2002
         },
         {
          "TotalWin_A": 6,
          "TotalWin_B": 0,
          "match_id": "M-2002-57",
          "match_info": "2002 (2 : 1)",
          "matchup": "Brazil vs England",
          "teamA": "Brazil",
          "teamA_score": 2,
          "teamA_win": 1,
          "teamB": "England",
          "teamB_score": 1,
          "teamB_win": 0,
          "tournament_id": "WC-2002",
          "win_diff": -6,
          "year": 2002
         },
         {
          "TotalWin_A": 2,
          "TotalWin_B": 2,
          "match_id": "M-2002-64",
          "match_info": "2002 (2 : 0)",
          "matchup": "Brazil vs Germany",
          "teamA": "Brazil",
          "teamA_score": 2,
          "teamA_win": 1,
          "teamB": "Germany",
          "teamB_score": 0,
          "teamB_win": 0,
          "tournament_id": "WC-2002",
          "win_diff": 0,
          "year": 2002
         },
         {
          "TotalWin_A": 2,
          "TotalWin_B": 0,
          "match_id": "M-2006-56",
          "match_info": "2006 (3 : 1)",
          "matchup": "France vs Spain",
          "teamA": "France",
          "teamA_score": 3,
          "teamA_win": 1,
          "teamB": "Spain",
          "teamB_score": 1,
          "teamB_win": 0,
          "tournament_id": "WC-2006",
          "win_diff": -2,
          "year": 2006
         },
         {
          "TotalWin_A": 2,
          "TotalWin_B": 10,
          "match_id": "M-2006-57",
          "match_info": "2006 (1 : 1)",
          "matchup": "Argentina vs Germany",
          "teamA": "Argentina",
          "teamA_score": 1,
          "teamA_win": 0,
          "teamB": "Germany",
          "teamB_score": 1,
          "teamB_win": 1,
          "tournament_id": "WC-2006",
          "win_diff": 8,
          "year": 2006
         },
         {
          "TotalWin_A": 2,
          "TotalWin_B": 6,
          "match_id": "M-2006-60",
          "match_info": "2006 (0 : 1)",
          "matchup": "Brazil vs France",
          "teamA": "Brazil",
          "teamA_score": 0,
          "teamA_win": 0,
          "teamB": "France",
          "teamB_score": 1,
          "teamB_win": 1,
          "tournament_id": "WC-2006",
          "win_diff": 4,
          "year": 2006
         },
         {
          "TotalWin_A": 0,
          "TotalWin_B": 6,
          "match_id": "M-2006-61",
          "match_info": "2006 (0 : 2)",
          "matchup": "Germany vs Italy",
          "teamA": "Germany",
          "teamA_score": 0,
          "teamA_win": 0,
          "teamB": "Italy",
          "teamB_score": 2,
          "teamB_win": 1,
          "tournament_id": "WC-2006",
          "win_diff": 6,
          "year": 2006
         },
         {
          "TotalWin_A": 4,
          "TotalWin_B": 4,
          "match_id": "M-2006-64",
          "match_info": "2006 (1 : 1)",
          "matchup": "France vs Italy",
          "teamA": "France",
          "teamA_score": 1,
          "teamA_win": 0,
          "teamB": "Italy",
          "teamB_score": 1,
          "teamB_win": 1,
          "tournament_id": "WC-2006",
          "win_diff": 0,
          "year": 2006
         },
         {
          "TotalWin_A": 2,
          "TotalWin_B": 2,
          "match_id": "M-2010-02",
          "match_info": "2010 (0 : 0)",
          "matchup": "France vs Uruguay",
          "teamA": "France",
          "teamA_score": 0,
          "teamA_win": 0,
          "teamB": "Uruguay",
          "teamB_score": 0,
          "teamB_win": 0,
          "tournament_id": "WC-2010",
          "win_diff": 0,
          "year": 2010
         },
         {
          "TotalWin_A": 2,
          "TotalWin_B": 6,
          "match_id": "M-2010-51",
          "match_info": "2010 (1 : 4)",
          "matchup": "England vs Germany",
          "teamA": "England",
          "teamA_score": 1,
          "teamA_win": 0,
          "teamB": "Germany",
          "teamB_score": 4,
          "teamB_win": 1,
          "tournament_id": "WC-2010",
          "win_diff": 4,
          "year": 2010
         },
         {
          "TotalWin_A": 2,
          "TotalWin_B": 10,
          "match_id": "M-2010-59",
          "match_info": "2010 (0 : 4)",
          "matchup": "Argentina vs Germany",
          "teamA": "Argentina",
          "teamA_score": 0,
          "teamA_win": 0,
          "teamB": "Germany",
          "teamB_score": 4,
          "teamB_win": 1,
          "tournament_id": "WC-2010",
          "win_diff": 8,
          "year": 2010
         },
         {
          "TotalWin_A": 4,
          "TotalWin_B": 2,
          "match_id": "M-2010-62",
          "match_info": "2010 (0 : 1)",
          "matchup": "Germany vs Spain",
          "teamA": "Germany",
          "teamA_score": 0,
          "teamA_win": 0,
          "teamB": "Spain",
          "teamB_score": 1,
          "teamB_win": 1,
          "tournament_id": "WC-2010",
          "win_diff": -2,
          "year": 2010
         },
         {
          "TotalWin_A": 6,
          "TotalWin_B": 0,
          "match_id": "M-2010-63",
          "match_info": "2010 (3 : 2)",
          "matchup": "Germany vs Uruguay",
          "teamA": "Germany",
          "teamA_score": 3,
          "teamA_win": 1,
          "teamB": "Uruguay",
          "teamB_score": 2,
          "teamB_win": 0,
          "tournament_id": "WC-2010",
          "win_diff": -6,
          "year": 2010
         },
         {
          "TotalWin_A": 0,
          "TotalWin_B": 4,
          "match_id": "M-2014-07",
          "match_info": "2014 (1 : 2)",
          "matchup": "England vs Italy",
          "teamA": "England",
          "teamA_score": 1,
          "teamA_win": 0,
          "teamB": "Italy",
          "teamB_score": 2,
          "teamB_win": 1,
          "tournament_id": "WC-2014",
          "win_diff": 4,
          "year": 2014
         },
         {
          "TotalWin_A": 0,
          "TotalWin_B": 4,
          "match_id": "M-2014-22",
          "match_info": "2014 (1 : 2)",
          "matchup": "England vs Uruguay",
          "teamA": "England",
          "teamA_score": 1,
          "teamA_win": 0,
          "teamB": "Uruguay",
          "teamB_score": 2,
          "teamB_win": 1,
          "tournament_id": "WC-2014",
          "win_diff": 4,
          "year": 2014
         },
         {
          "TotalWin_A": 2,
          "TotalWin_B": 2,
          "match_id": "M-2014-38",
          "match_info": "2014 (0 : 1)",
          "matchup": "Italy vs Uruguay",
          "teamA": "Italy",
          "teamA_score": 0,
          "teamA_win": 0,
          "teamB": "Uruguay",
          "teamB_score": 1,
          "teamB_win": 1,
          "tournament_id": "WC-2014",
          "win_diff": 0,
          "year": 2014
         },
         {
          "TotalWin_A": 2,
          "TotalWin_B": 6,
          "match_id": "M-2014-57",
          "match_info": "2014 (0 : 1)",
          "matchup": "France vs Germany",
          "teamA": "France",
          "teamA_score": 0,
          "teamA_win": 0,
          "teamB": "Germany",
          "teamB_score": 1,
          "teamB_win": 1,
          "tournament_id": "WC-2014",
          "win_diff": 4,
          "year": 2014
         },
         {
          "TotalWin_A": 2,
          "TotalWin_B": 2,
          "match_id": "M-2014-61",
          "match_info": "2014 (1 : 7)",
          "matchup": "Brazil vs Germany",
          "teamA": "Brazil",
          "teamA_score": 1,
          "teamA_win": 0,
          "teamB": "Germany",
          "teamB_score": 7,
          "teamB_win": 1,
          "tournament_id": "WC-2014",
          "win_diff": 0,
          "year": 2014
         },
         {
          "TotalWin_A": 2,
          "TotalWin_B": 10,
          "match_id": "M-2014-64",
          "match_info": "2014 (0 : 1)",
          "matchup": "Argentina vs Germany",
          "teamA": "Argentina",
          "teamA_score": 0,
          "teamA_win": 0,
          "teamB": "Germany",
          "teamB_score": 1,
          "teamB_win": 1,
          "tournament_id": "WC-2014",
          "win_diff": 8,
          "year": 2014
         },
         {
          "TotalWin_A": 4,
          "TotalWin_B": 2,
          "match_id": "M-2018-49",
          "match_info": "2018 (3 : 4)",
          "matchup": "Argentina vs France",
          "teamA": "Argentina",
          "teamA_score": 3,
          "teamA_win": 0,
          "teamB": "France",
          "teamB_score": 4,
          "teamB_win": 1,
          "tournament_id": "WC-2018",
          "win_diff": -2,
          "year": 2018
         },
         {
          "TotalWin_A": 2,
          "TotalWin_B": 2,
          "match_id": "M-2018-57",
          "match_info": "2018 (2 : 0)",
          "matchup": "France vs Uruguay",
          "teamA": "France",
          "teamA_score": 2,
          "teamA_win": 1,
          "teamB": "Uruguay",
          "teamB_score": 0,
          "teamB_win": 0,
          "tournament_id": "WC-2018",
          "win_diff": 0,
          "year": 2018
         },
         {
          "TotalWin_A": 4,
          "TotalWin_B": 2,
          "match_id": "M-2022-28",
          "match_info": "2022 (1 : 1)",
          "matchup": "Germany vs Spain",
          "teamA": "Germany",
          "teamA_score": 1,
          "teamA_win": 0,
          "teamB": "Spain",
          "teamB_score": 1,
          "teamB_win": 0,
          "tournament_id": "WC-2022",
          "win_diff": -2,
          "year": 2022
         },
         {
          "TotalWin_A": 4,
          "TotalWin_B": 2,
          "match_id": "M-2022-60",
          "match_info": "2022 (1 : 2)",
          "matchup": "England vs France",
          "teamA": "England",
          "teamA_score": 1,
          "teamA_win": 0,
          "teamB": "France",
          "teamB_score": 2,
          "teamB_win": 1,
          "tournament_id": "WC-2022",
          "win_diff": -2,
          "year": 2022
         },
         {
          "TotalWin_A": 4,
          "TotalWin_B": 2,
          "match_id": "M-2022-64",
          "match_info": "2022 (3 : 3)",
          "matchup": "Argentina vs France",
          "teamA": "Argentina",
          "teamA_score": 3,
          "teamA_win": 1,
          "teamB": "France",
          "teamB_score": 3,
          "teamB_win": 0,
          "tournament_id": "WC-2022",
          "win_diff": -2,
          "year": 2022
         },
         {
          "TotalWin_A": 0,
          "TotalWin_B": 2,
          "match_id": "M-1950-13",
          "match_info": "1950 (0 : 1)",
          "matchup": "England vs Spain",
          "teamA": "England",
          "teamA_score": 0,
          "teamA_win": 0,
          "teamB": "Spain",
          "teamB_score": 1,
          "teamB_win": 1,
          "tournament_id": "WC-1950",
          "win_diff": 2,
          "year": 1950
         },
         {
          "TotalWin_A": 0,
          "TotalWin_B": 0,
          "match_id": "M-1950-18",
          "match_info": "1950 (2 : 2)",
          "matchup": "Spain vs Uruguay",
          "teamA": "Spain",
          "teamA_score": 2,
          "teamA_win": 0,
          "teamB": "Uruguay",
          "teamB_score": 2,
          "teamB_win": 0,
          "tournament_id": "WC-1950",
          "win_diff": 0,
          "year": 1950
         },
         {
          "TotalWin_A": 6,
          "TotalWin_B": 0,
          "match_id": "M-1950-19",
          "match_info": "1950 (6 : 1)",
          "matchup": "Brazil vs Spain",
          "teamA": "Brazil",
          "teamA_score": 6,
          "teamA_win": 1,
          "teamB": "Spain",
          "teamB_score": 1,
          "teamB_win": 0,
          "tournament_id": "WC-1950",
          "win_diff": -6,
          "year": 1950
         },
         {
          "TotalWin_A": 2,
          "TotalWin_B": 2,
          "match_id": "M-1950-22",
          "match_info": "1950 (1 : 2)",
          "matchup": "Brazil vs Uruguay",
          "teamA": "Brazil",
          "teamA_score": 1,
          "teamA_win": 0,
          "teamB": "Uruguay",
          "teamB_score": 2,
          "teamB_win": 1,
          "tournament_id": "WC-1950",
          "win_diff": 0,
          "year": 1950
         },
         {
          "TotalWin_A": 0,
          "TotalWin_B": 4,
          "match_id": "M-1954-20",
          "match_info": "1954 (2 : 4)",
          "matchup": "England vs Uruguay",
          "teamA": "England",
          "teamA_score": 2,
          "teamA_win": 0,
          "teamB": "Uruguay",
          "teamB_score": 4,
          "teamB_win": 1,
          "tournament_id": "WC-1954",
          "win_diff": 4,
          "year": 1954
         },
         {
          "TotalWin_A": 2,
          "TotalWin_B": 10,
          "match_id": "M-1958-02",
          "match_info": "1958 (1 : 3)",
          "matchup": "Argentina vs Germany",
          "teamA": "Argentina",
          "teamA_score": 1,
          "teamA_win": 0,
          "teamB": "Germany",
          "teamB_score": 3,
          "teamB_win": 1,
          "tournament_id": "WC-1958",
          "win_diff": 8,
          "year": 1958
         },
         {
          "TotalWin_A": 6,
          "TotalWin_B": 0,
          "match_id": "M-1958-14",
          "match_info": "1958 (0 : 0)",
          "matchup": "Brazil vs England",
          "teamA": "Brazil",
          "teamA_score": 0,
          "teamA_win": 0,
          "teamB": "England",
          "teamB_score": 0,
          "teamB_win": 0,
          "tournament_id": "WC-1958",
          "win_diff": -6,
          "year": 1958
         },
         {
          "TotalWin_A": 2,
          "TotalWin_B": 6,
          "match_id": "M-1958-32",
          "match_info": "1958 (5 : 2)",
          "matchup": "Brazil vs France",
          "teamA": "Brazil",
          "teamA_score": 5,
          "teamA_win": 1,
          "teamB": "France",
          "teamB_score": 2,
          "teamB_win": 0,
          "tournament_id": "WC-1958",
          "win_diff": 4,
          "year": 1958
         },
         {
          "TotalWin_A": 2,
          "TotalWin_B": 6,
          "match_id": "M-1958-34",
          "match_info": "1958 (6 : 3)",
          "matchup": "France vs Germany",
          "teamA": "France",
          "teamA_score": 6,
          "teamA_win": 1,
          "teamB": "Germany",
          "teamB_score": 3,
          "teamB_win": 0,
          "tournament_id": "WC-1958",
          "win_diff": 4,
          "year": 1958
         },
         {
          "TotalWin_A": 0,
          "TotalWin_B": 6,
          "match_id": "M-1962-06",
          "match_info": "1962 (0 : 0)",
          "matchup": "Germany vs Italy",
          "teamA": "Germany",
          "teamA_score": 0,
          "teamA_win": 0,
          "teamB": "Italy",
          "teamB_score": 0,
          "teamB_win": 0,
          "tournament_id": "WC-1962",
          "win_diff": 6,
          "year": 1962
         },
         {
          "TotalWin_A": 4,
          "TotalWin_B": 6,
          "match_id": "M-1962-12",
          "match_info": "1962 (1 : 3)",
          "matchup": "Argentina vs England",
          "teamA": "Argentina",
          "teamA_score": 1,
          "teamA_win": 0,
          "teamB": "England",
          "teamB_score": 3,
          "teamB_win": 1,
          "tournament_id": "WC-1962",
          "win_diff": 2,
          "year": 1962
         },
         {
          "TotalWin_A": 6,
          "TotalWin_B": 0,
          "match_id": "M-1962-19",
          "match_info": "1962 (2 : 1)",
          "matchup": "Brazil vs Spain",
          "teamA": "Brazil",
          "teamA_score": 2,
          "teamA_win": 1,
          "teamB": "Spain",
          "teamB_score": 1,
          "teamB_win": 0,
          "tournament_id": "WC-1962",
          "win_diff": -6,
          "year": 1962
         },
         {
          "TotalWin_A": 6,
          "TotalWin_B": 0,
          "match_id": "M-1962-25",
          "match_info": "1962 (3 : 1)",
          "matchup": "Brazil vs England",
          "teamA": "Brazil",
          "teamA_score": 3,
          "teamA_win": 1,
          "teamB": "England",
          "teamB_score": 1,
          "teamB_win": 0,
          "tournament_id": "WC-1962",
          "win_diff": -6,
          "year": 1962
         },
         {
          "TotalWin_A": 0,
          "TotalWin_B": 4,
          "match_id": "M-1966-01",
          "match_info": "1966 (0 : 0)",
          "matchup": "England vs Uruguay",
          "teamA": "England",
          "teamA_score": 0,
          "teamA_win": 0,
          "teamB": "Uruguay",
          "teamB_score": 0,
          "teamB_win": 0,
          "tournament_id": "WC-1966",
          "win_diff": 4,
          "year": 1966
         },
         {
          "TotalWin_A": 2,
          "TotalWin_B": 0,
          "match_id": "M-1966-06",
          "match_info": "1966 (2 : 1)",
          "matchup": "Argentina vs Spain",
          "teamA": "Argentina",
          "teamA_score": 2,
          "teamA_win": 1,
          "teamB": "Spain",
          "teamB_score": 1,
          "teamB_win": 0,
          "tournament_id": "WC-1966",
          "win_diff": -2,
          "year": 1966
         },
         {
          "TotalWin_A": 2,
          "TotalWin_B": 2,
          "match_id": "M-1966-09",
          "match_info": "1966 (1 : 2)",
          "matchup": "France vs Uruguay",
          "teamA": "France",
          "teamA_score": 1,
          "teamA_win": 0,
          "teamB": "Uruguay",
          "teamB_score": 2,
          "teamB_win": 1,
          "tournament_id": "WC-1966",
          "win_diff": 0,
          "year": 1966
         },
         {
          "TotalWin_A": 2,
          "TotalWin_B": 10,
          "match_id": "M-1966-13",
          "match_info": "1966 (0 : 0)",
          "matchup": "Argentina vs Germany",
          "teamA": "Argentina",
          "teamA_score": 0,
          "teamA_win": 0,
          "teamB": "Germany",
          "teamB_score": 0,
          "teamB_win": 0,
          "tournament_id": "WC-1966",
          "win_diff": 8,
          "year": 1966
         },
         {
          "TotalWin_A": 4,
          "TotalWin_B": 2,
          "match_id": "M-1966-21",
          "match_info": "1966 (2 : 0)",
          "matchup": "England vs France",
          "teamA": "England",
          "teamA_score": 2,
          "teamA_win": 1,
          "teamB": "France",
          "teamB_score": 0,
          "teamB_win": 0,
          "tournament_id": "WC-1966",
          "win_diff": -2,
          "year": 1966
         },
         {
          "TotalWin_A": 4,
          "TotalWin_B": 2,
          "match_id": "M-1966-22",
          "match_info": "1966 (2 : 1)",
          "matchup": "Germany vs Spain",
          "teamA": "Germany",
          "teamA_score": 2,
          "teamA_win": 1,
          "teamB": "Spain",
          "teamB_score": 1,
          "teamB_win": 0,
          "tournament_id": "WC-1966",
          "win_diff": -2,
          "year": 1966
         },
         {
          "TotalWin_A": 4,
          "TotalWin_B": 6,
          "match_id": "M-1966-25",
          "match_info": "1966 (0 : 1)",
          "matchup": "Argentina vs England",
          "teamA": "Argentina",
          "teamA_score": 0,
          "teamA_win": 0,
          "teamB": "England",
          "teamB_score": 1,
          "teamB_win": 1,
          "tournament_id": "WC-1966",
          "win_diff": 2,
          "year": 1966
         },
         {
          "TotalWin_A": 6,
          "TotalWin_B": 0,
          "match_id": "M-1966-28",
          "match_info": "1966 (4 : 0)",
          "matchup": "Germany vs Uruguay",
          "teamA": "Germany",
          "teamA_score": 4,
          "teamA_win": 1,
          "teamB": "Uruguay",
          "teamB_score": 0,
          "teamB_win": 0,
          "tournament_id": "WC-1966",
          "win_diff": -6,
          "year": 1966
         },
         {
          "TotalWin_A": 2,
          "TotalWin_B": 6,
          "match_id": "M-1966-32",
          "match_info": "1966 (4 : 2)",
          "matchup": "England vs Germany",
          "teamA": "England",
          "teamA_score": 4,
          "teamA_win": 1,
          "teamB": "Germany",
          "teamB_score": 2,
          "teamB_win": 0,
          "tournament_id": "WC-1966",
          "win_diff": 4,
          "year": 1966
         },
         {
          "TotalWin_A": 2,
          "TotalWin_B": 2,
          "match_id": "M-1970-10",
          "match_info": "1970 (0 : 0)",
          "matchup": "Italy vs Uruguay",
          "teamA": "Italy",
          "teamA_score": 0,
          "teamA_win": 0,
          "teamB": "Uruguay",
          "teamB_score": 0,
          "teamB_win": 0,
          "tournament_id": "WC-1970",
          "win_diff": 0,
          "year": 1970
         },
         {
          "TotalWin_A": 6,
          "TotalWin_B": 0,
          "match_id": "M-1970-15",
          "match_info": "1970 (1 : 0)",
          "matchup": "Brazil vs England",
          "teamA": "Brazil",
          "teamA_score": 1,
          "teamA_win": 1,
          "teamB": "England",
          "teamB_score": 0,
          "teamB_win": 0,
          "tournament_id": "WC-1970",
          "win_diff": -6,
          "year": 1970
         },
         {
          "TotalWin_A": 2,
          "TotalWin_B": 6,
          "match_id": "M-1970-28",
          "match_info": "1970 (2 : 3)",
          "matchup": "England vs Germany",
          "teamA": "England",
          "teamA_score": 2,
          "teamA_win": 0,
          "teamB": "Germany",
          "teamB_score": 3,
          "teamB_win": 1,
          "tournament_id": "WC-1970",
          "win_diff": 4,
          "year": 1970
         },
         {
          "TotalWin_A": 2,
          "TotalWin_B": 2,
          "match_id": "M-1970-29",
          "match_info": "1970 (3 : 1)",
          "matchup": "Brazil vs Uruguay",
          "teamA": "Brazil",
          "teamA_score": 3,
          "teamA_win": 1,
          "teamB": "Uruguay",
          "teamB_score": 1,
          "teamB_win": 0,
          "tournament_id": "WC-1970",
          "win_diff": 0,
          "year": 1970
         },
         {
          "TotalWin_A": 0,
          "TotalWin_B": 6,
          "match_id": "M-1970-30",
          "match_info": "1970 (3 : 4)",
          "matchup": "Germany vs Italy",
          "teamA": "Germany",
          "teamA_score": 3,
          "teamA_win": 0,
          "teamB": "Italy",
          "teamB_score": 4,
          "teamB_win": 1,
          "tournament_id": "WC-1970",
          "win_diff": 6,
          "year": 1970
         },
         {
          "TotalWin_A": 6,
          "TotalWin_B": 0,
          "match_id": "M-1970-31",
          "match_info": "1970 (1 : 0)",
          "matchup": "Germany vs Uruguay",
          "teamA": "Germany",
          "teamA_score": 1,
          "teamA_win": 1,
          "teamB": "Uruguay",
          "teamB_score": 0,
          "teamB_win": 0,
          "tournament_id": "WC-1970",
          "win_diff": -6,
          "year": 1970
         },
         {
          "TotalWin_A": 6,
          "TotalWin_B": 2,
          "match_id": "M-1970-32",
          "match_info": "1970 (4 : 1)",
          "matchup": "Brazil vs Italy",
          "teamA": "Brazil",
          "teamA_score": 4,
          "teamA_win": 1,
          "teamB": "Italy",
          "teamB_score": 1,
          "teamB_win": 0,
          "tournament_id": "WC-1970",
          "win_diff": -4,
          "year": 1970
         },
         {
          "TotalWin_A": 2,
          "TotalWin_B": 4,
          "match_id": "M-1974-15",
          "match_info": "1974 (1 : 1)",
          "matchup": "Argentina vs Italy",
          "teamA": "Argentina",
          "teamA_score": 1,
          "teamA_win": 0,
          "teamB": "Italy",
          "teamB_score": 1,
          "teamB_win": 0,
          "tournament_id": "WC-1974",
          "win_diff": 2,
          "year": 1974
         },
         {
          "TotalWin_A": 2,
          "TotalWin_B": 4,
          "match_id": "M-1974-29",
          "match_info": "1974 (1 : 2)",
          "matchup": "Argentina vs Brazil",
          "teamA": "Argentina",
          "teamA_score": 1,
          "teamA_win": 0,
          "teamB": "Brazil",
          "teamB_score": 2,
          "teamB_win": 1,
          "tournament_id": "WC-1974",
          "win_diff": 2,
          "year": 1974
         },
         {
          "TotalWin_A": 4,
          "TotalWin_B": 4,
          "match_id": "M-1978-02",
          "match_info": "1978 (1 : 2)",
          "matchup": "France vs Italy",
          "teamA": "France",
          "teamA_score": 1,
          "teamA_win": 0,
          "teamB": "Italy",
          "teamB_score": 2,
          "teamB_win": 1,
          "tournament_id": "WC-1978",
          "win_diff": 0,
          "year": 1978
         },
         {
          "TotalWin_A": 4,
          "TotalWin_B": 2,
          "match_id": "M-1978-12",
          "match_info": "1978 (2 : 1)",
          "matchup": "Argentina vs France",
          "teamA": "Argentina",
          "teamA_score": 2,
          "teamA_win": 1,
          "teamB": "France",
          "teamB_score": 1,
          "teamB_win": 0,
          "tournament_id": "WC-1978",
          "win_diff": -2,
          "year": 1978
         },
         {
          "TotalWin_A": 6,
          "TotalWin_B": 0,
          "match_id": "M-1978-14",
          "match_info": "1978 (0 : 0)",
          "matchup": "Brazil vs Spain",
          "teamA": "Brazil",
          "teamA_score": 0,
          "teamA_win": 0,
          "teamB": "Spain",
          "teamB_score": 0,
          "teamB_win": 0,
          "tournament_id": "WC-1978",
          "win_diff": -6,
          "year": 1978
         },
         {
          "TotalWin_A": 2,
          "TotalWin_B": 4,
          "match_id": "M-1978-20",
          "match_info": "1978 (0 : 1)",
          "matchup": "Argentina vs Italy",
          "teamA": "Argentina",
          "teamA_score": 0,
          "teamA_win": 0,
          "teamB": "Italy",
          "teamB_score": 1,
          "teamB_win": 1,
          "tournament_id": "WC-1978",
          "win_diff": 2,
          "year": 1978
         },
         {
          "TotalWin_A": 0,
          "TotalWin_B": 6,
          "match_id": "M-1978-26",
          "match_info": "1978 (0 : 0)",
          "matchup": "Germany vs Italy",
          "teamA": "Germany",
          "teamA_score": 0,
          "teamA_win": 0,
          "teamB": "Italy",
          "teamB_score": 0,
          "teamB_win": 0,
          "tournament_id": "WC-1978",
          "win_diff": 6,
          "year": 1978
         },
         {
          "TotalWin_A": 2,
          "TotalWin_B": 4,
          "match_id": "M-1978-32",
          "match_info": "1978 (0 : 0)",
          "matchup": "Argentina vs Brazil",
          "teamA": "Argentina",
          "teamA_score": 0,
          "teamA_win": 0,
          "teamB": "Brazil",
          "teamB_score": 0,
          "teamB_win": 0,
          "tournament_id": "WC-1978",
          "win_diff": 2,
          "year": 1978
         },
         {
          "TotalWin_A": 6,
          "TotalWin_B": 2,
          "match_id": "M-1978-37",
          "match_info": "1978 (2 : 1)",
          "matchup": "Brazil vs Italy",
          "teamA": "Brazil",
          "teamA_score": 2,
          "teamA_win": 1,
          "teamB": "Italy",
          "teamB_score": 1,
          "teamB_win": 0,
          "tournament_id": "WC-1978",
          "win_diff": -4,
          "year": 1978
         },
         {
          "TotalWin_A": 4,
          "TotalWin_B": 2,
          "match_id": "M-1982-08",
          "match_info": "1982 (3 : 1)",
          "matchup": "England vs France",
          "teamA": "England",
          "teamA_score": 3,
          "teamA_win": 1,
          "teamB": "France",
          "teamB_score": 1,
          "teamB_win": 0,
          "tournament_id": "WC-1982",
          "win_diff": -2,
          "year": 1982
         },
         {
          "TotalWin_A": 2,
          "TotalWin_B": 4,
          "match_id": "M-1982-39",
          "match_info": "1982 (1 : 2)",
          "matchup": "Argentina vs Italy",
          "teamA": "Argentina",
          "teamA_score": 1,
          "teamA_win": 0,
          "teamB": "Italy",
          "teamB_score": 2,
          "teamB_win": 1,
          "tournament_id": "WC-1982",
          "win_diff": 2,
          "year": 1982
         },
         {
          "TotalWin_A": 2,
          "TotalWin_B": 6,
          "match_id": "M-1982-40",
          "match_info": "1982 (0 : 0)",
          "matchup": "England vs Germany",
          "teamA": "England",
          "teamA_score": 0,
          "teamA_win": 0,
          "teamB": "Germany",
          "teamB_score": 0,
          "teamB_win": 0,
          "tournament_id": "WC-1982",
          "win_diff": 4,
          "year": 1982
         },
         {
          "TotalWin_A": 2,
          "TotalWin_B": 4,
          "match_id": "M-1982-43",
          "match_info": "1982 (1 : 3)",
          "matchup": "Argentina vs Brazil",
          "teamA": "Argentina",
          "teamA_score": 1,
          "teamA_win": 0,
          "teamB": "Brazil",
          "teamB_score": 3,
          "teamB_win": 1,
          "tournament_id": "WC-1982",
          "win_diff": 2,
          "year": 1982
         },
         {
          "TotalWin_A": 4,
          "TotalWin_B": 2,
          "match_id": "M-1982-44",
          "match_info": "1982 (2 : 1)",
          "matchup": "Germany vs Spain",
          "teamA": "Germany",
          "teamA_score": 2,
          "teamA_win": 1,
          "teamB": "Spain",
          "teamB_score": 1,
          "teamB_win": 0,
          "tournament_id": "WC-1982",
          "win_diff": -2,
          "year": 1982
         },
         {
          "TotalWin_A": 6,
          "TotalWin_B": 2,
          "match_id": "M-1982-47",
          "match_info": "1982 (2 : 3)",
          "matchup": "Brazil vs Italy",
          "teamA": "Brazil",
          "teamA_score": 2,
          "teamA_win": 0,
          "teamB": "Italy",
          "teamB_score": 3,
          "teamB_win": 1,
          "tournament_id": "WC-1982",
          "win_diff": -4,
          "year": 1982
         },
         {
          "TotalWin_A": 0,
          "TotalWin_B": 2,
          "match_id": "M-1982-48",
          "match_info": "1982 (0 : 0)",
          "matchup": "England vs Spain",
          "teamA": "England",
          "teamA_score": 0,
          "teamA_win": 0,
          "teamB": "Spain",
          "teamB_score": 0,
          "teamB_win": 0,
          "tournament_id": "WC-1982",
          "win_diff": 2,
          "year": 1982
         },
         {
          "TotalWin_A": 2,
          "TotalWin_B": 6,
          "match_id": "M-1982-50",
          "match_info": "1982 (3 : 3)",
          "matchup": "France vs Germany",
          "teamA": "France",
          "teamA_score": 3,
          "teamA_win": 0,
          "teamB": "Germany",
          "teamB_score": 3,
          "teamB_win": 1,
          "tournament_id": "WC-1982",
          "win_diff": 4,
          "year": 1982
         },
         {
          "TotalWin_A": 0,
          "TotalWin_B": 6,
          "match_id": "M-1982-52",
          "match_info": "1982 (1 : 3)",
          "matchup": "Germany vs Italy",
          "teamA": "Germany",
          "teamA_score": 1,
          "teamA_win": 0,
          "teamB": "Italy",
          "teamB_score": 3,
          "teamB_win": 1,
          "tournament_id": "WC-1982",
          "win_diff": 6,
          "year": 1982
         },
         {
          "TotalWin_A": 6,
          "TotalWin_B": 0,
          "match_id": "M-1986-02",
          "match_info": "1986 (1 : 0)",
          "matchup": "Brazil vs Spain",
          "teamA": "Brazil",
          "teamA_score": 1,
          "teamA_win": 1,
          "teamB": "Spain",
          "teamB_score": 0,
          "teamB_win": 0,
          "tournament_id": "WC-1986",
          "win_diff": -6,
          "year": 1986
         },
         {
          "TotalWin_A": 6,
          "TotalWin_B": 0,
          "match_id": "M-1986-11",
          "match_info": "1986 (1 : 1)",
          "matchup": "Germany vs Uruguay",
          "teamA": "Germany",
          "teamA_score": 1,
          "teamA_win": 0,
          "teamB": "Uruguay",
          "teamB_score": 1,
          "teamB_win": 0,
          "tournament_id": "WC-1986",
          "win_diff": -6,
          "year": 1986
         },
         {
          "TotalWin_A": 2,
          "TotalWin_B": 4,
          "match_id": "M-1986-13",
          "match_info": "1986 (1 : 1)",
          "matchup": "Argentina vs Italy",
          "teamA": "Argentina",
          "teamA_score": 1,
          "teamA_win": 0,
          "teamB": "Italy",
          "teamB_score": 1,
          "teamB_win": 0,
          "tournament_id": "WC-1986",
          "win_diff": 2,
          "year": 1986
         },
         {
          "TotalWin_A": 2,
          "TotalWin_B": 0,
          "match_id": "M-1986-40",
          "match_info": "1986 (1 : 0)",
          "matchup": "Argentina vs Uruguay",
          "teamA": "Argentina",
          "teamA_score": 1,
          "teamA_win": 1,
          "teamB": "Uruguay",
          "teamB_score": 0,
          "teamB_win": 0,
          "tournament_id": "WC-1986",
          "win_diff": -2,
          "year": 1986
         },
         {
          "TotalWin_A": 4,
          "TotalWin_B": 4,
          "match_id": "M-1986-41",
          "match_info": "1986 (2 : 0)",
          "matchup": "France vs Italy",
          "teamA": "France",
          "teamA_score": 2,
          "teamA_win": 1,
          "teamB": "Italy",
          "teamB_score": 0,
          "teamB_win": 0,
          "tournament_id": "WC-1986",
          "win_diff": 0,
          "year": 1986
         },
         {
          "TotalWin_A": 2,
          "TotalWin_B": 6,
          "match_id": "M-1986-45",
          "match_info": "1986 (1 : 1)",
          "matchup": "Brazil vs France",
          "teamA": "Brazil",
          "teamA_score": 1,
          "teamA_win": 0,
          "teamB": "France",
          "teamB_score": 1,
          "teamB_win": 1,
          "tournament_id": "WC-1986",
          "win_diff": 4,
          "year": 1986
         },
         {
          "TotalWin_A": 4,
          "TotalWin_B": 6,
          "match_id": "M-1986-47",
          "match_info": "1986 (2 : 1)",
          "matchup": "Argentina vs England",
          "teamA": "Argentina",
          "teamA_score": 2,
          "teamA_win": 1,
          "teamB": "England",
          "teamB_score": 1,
          "teamB_win": 0,
          "tournament_id": "WC-1986",
          "win_diff": 2,
          "year": 1986
         },
         {
          "TotalWin_A": 2,
          "TotalWin_B": 6,
          "match_id": "M-1986-49",
          "match_info": "1986 (0 : 2)",
          "matchup": "France vs Germany",
          "teamA": "France",
          "teamA_score": 0,
          "teamA_win": 0,
          "teamB": "Germany",
          "teamB_score": 2,
          "teamB_win": 1,
          "tournament_id": "WC-1986",
          "win_diff": 4,
          "year": 1986
         },
         {
          "TotalWin_A": 2,
          "TotalWin_B": 10,
          "match_id": "M-1986-52",
          "match_info": "1986 (3 : 2)",
          "matchup": "Argentina vs Germany",
          "teamA": "Argentina",
          "teamA_score": 3,
          "teamA_win": 1,
          "teamB": "Germany",
          "teamB_score": 2,
          "teamB_win": 0,
          "tournament_id": "WC-1986",
          "win_diff": 8,
          "year": 1986
         },
         {
          "TotalWin_A": 0,
          "TotalWin_B": 0,
          "match_id": "M-1990-12",
          "match_info": "1990 (0 : 0)",
          "matchup": "Spain vs Uruguay",
          "teamA": "Spain",
          "teamA_score": 0,
          "teamA_win": 0,
          "teamB": "Uruguay",
          "teamB_score": 0,
          "teamB_win": 0,
          "tournament_id": "WC-1990",
          "win_diff": 0,
          "year": 1990
         },
         {
          "TotalWin_A": 2,
          "TotalWin_B": 4,
          "match_id": "M-1990-39",
          "match_info": "1990 (1 : 0)",
          "matchup": "Argentina vs Brazil",
          "teamA": "Argentina",
          "teamA_score": 1,
          "teamA_win": 1,
          "teamB": "Brazil",
          "teamB_score": 0,
          "teamB_win": 0,
          "tournament_id": "WC-1990",
          "win_diff": 2,
          "year": 1990
         },
         {
          "TotalWin_A": 2,
          "TotalWin_B": 2,
          "match_id": "M-1990-42",
          "match_info": "1990 (2 : 0)",
          "matchup": "Italy vs Uruguay",
          "teamA": "Italy",
          "teamA_score": 2,
          "teamA_win": 1,
          "teamB": "Uruguay",
          "teamB_score": 0,
          "teamB_win": 0,
          "tournament_id": "WC-1990",
          "win_diff": 0,
          "year": 1990
         },
         {
          "TotalWin_A": 2,
          "TotalWin_B": 4,
          "match_id": "M-1990-49",
          "match_info": "1990 (1 : 1)",
          "matchup": "Argentina vs Italy",
          "teamA": "Argentina",
          "teamA_score": 1,
          "teamA_win": 1,
          "teamB": "Italy",
          "teamB_score": 1,
          "teamB_win": 0,
          "tournament_id": "WC-1990",
          "win_diff": 2,
          "year": 1990
         },
         {
          "TotalWin_A": 2,
          "TotalWin_B": 6,
          "match_id": "M-1990-50",
          "match_info": "1990 (1 : 1)",
          "matchup": "England vs Germany",
          "teamA": "England",
          "teamA_score": 1,
          "teamA_win": 0,
          "teamB": "Germany",
          "teamB_score": 1,
          "teamB_win": 1,
          "tournament_id": "WC-1990",
          "win_diff": 4,
          "year": 1990
         },
         {
          "TotalWin_A": 0,
          "TotalWin_B": 4,
          "match_id": "M-1990-51",
          "match_info": "1990 (1 : 2)",
          "matchup": "England vs Italy",
          "teamA": "England",
          "teamA_score": 1,
          "teamA_win": 0,
          "teamB": "Italy",
          "teamB_score": 2,
          "teamB_win": 1,
          "tournament_id": "WC-1990",
          "win_diff": 4,
          "year": 1990
         },
         {
          "TotalWin_A": 2,
          "TotalWin_B": 10,
          "match_id": "M-1990-52",
          "match_info": "1990 (0 : 1)",
          "matchup": "Argentina vs Germany",
          "teamA": "Argentina",
          "teamA_score": 0,
          "teamA_win": 0,
          "teamB": "Germany",
          "teamB_score": 1,
          "teamB_win": 1,
          "tournament_id": "WC-1990",
          "win_diff": 8,
          "year": 1990
         },
         {
          "TotalWin_A": 4,
          "TotalWin_B": 2,
          "match_id": "M-1994-12",
          "match_info": "1994 (1 : 1)",
          "matchup": "Germany vs Spain",
          "teamA": "Germany",
          "teamA_score": 1,
          "teamA_win": 0,
          "teamB": "Spain",
          "teamB_score": 1,
          "teamB_win": 0,
          "tournament_id": "WC-1994",
          "win_diff": -2,
          "year": 1994
         },
         {
          "TotalWin_A": 2,
          "TotalWin_B": 0,
          "match_id": "M-1994-45",
          "match_info": "1994 (2 : 1)",
          "matchup": "Italy vs Spain",
          "teamA": "Italy",
          "teamA_score": 2,
          "teamA_win": 1,
          "teamB": "Spain",
          "teamB_score": 1,
          "teamB_win": 0,
          "tournament_id": "WC-1994",
          "win_diff": -2,
          "year": 1994
         },
         {
          "TotalWin_A": 6,
          "TotalWin_B": 2,
          "match_id": "M-1994-52",
          "match_info": "1994 (0 : 0)",
          "matchup": "Brazil vs Italy",
          "teamA": "Brazil",
          "teamA_score": 0,
          "teamA_win": 1,
          "teamB": "Italy",
          "teamB_score": 0,
          "teamB_win": 0,
          "tournament_id": "WC-1994",
          "win_diff": -4,
          "year": 1994
         },
         {
          "TotalWin_A": 4,
          "TotalWin_B": 6,
          "match_id": "M-1998-56",
          "match_info": "1998 (2 : 2)",
          "matchup": "Argentina vs England",
          "teamA": "Argentina",
          "teamA_score": 2,
          "teamA_win": 1,
          "teamB": "England",
          "teamB_score": 2,
          "teamB_win": 0,
          "tournament_id": "WC-1998",
          "win_diff": 2,
          "year": 1998
         },
         {
          "TotalWin_A": 4,
          "TotalWin_B": 4,
          "match_id": "M-1998-57",
          "match_info": "1998 (0 : 0)",
          "matchup": "France vs Italy",
          "teamA": "France",
          "teamA_score": 0,
          "teamA_win": 1,
          "teamB": "Italy",
          "teamB_score": 0,
          "teamB_win": 0,
          "tournament_id": "WC-1998",
          "win_diff": 0,
          "year": 1998
         },
         {
          "TotalWin_A": 2,
          "TotalWin_B": 6,
          "match_id": "M-1998-64",
          "match_info": "1998 (0 : 3)",
          "matchup": "Brazil vs France",
          "teamA": "Brazil",
          "teamA_score": 0,
          "teamA_win": 0,
          "teamB": "France",
          "teamB_score": 3,
          "teamB_win": 1,
          "tournament_id": "WC-1998",
          "win_diff": 4,
          "year": 1998
         },
         {
          "TotalWin_A": 2,
          "TotalWin_B": 2,
          "match_id": "M-2002-20",
          "match_info": "2002 (0 : 0)",
          "matchup": "France vs Uruguay",
          "teamA": "France",
          "teamA_score": 0,
          "teamA_win": 0,
          "teamB": "Uruguay",
          "teamB_score": 0,
          "teamB_win": 0,
          "tournament_id": "WC-2002",
          "win_diff": 0,
          "year": 2002
         },
         {
          "TotalWin_A": 4,
          "TotalWin_B": 6,
          "match_id": "M-2002-23",
          "match_info": "2002 (0 : 1)",
          "matchup": "Argentina vs England",
          "teamA": "Argentina",
          "teamA_score": 0,
          "teamA_win": 0,
          "teamB": "England",
          "teamB_score": 1,
          "teamB_win": 1,
          "tournament_id": "WC-2002",
          "win_diff": 2,
          "year": 2002
         },
         {
          "TotalWin_A": 6,
          "TotalWin_B": 0,
          "match_id": "M-2002-57",
          "match_info": "2002 (2 : 1)",
          "matchup": "Brazil vs England",
          "teamA": "Brazil",
          "teamA_score": 2,
          "teamA_win": 1,
          "teamB": "England",
          "teamB_score": 1,
          "teamB_win": 0,
          "tournament_id": "WC-2002",
          "win_diff": -6,
          "year": 2002
         },
         {
          "TotalWin_A": 2,
          "TotalWin_B": 2,
          "match_id": "M-2002-64",
          "match_info": "2002 (2 : 0)",
          "matchup": "Brazil vs Germany",
          "teamA": "Brazil",
          "teamA_score": 2,
          "teamA_win": 1,
          "teamB": "Germany",
          "teamB_score": 0,
          "teamB_win": 0,
          "tournament_id": "WC-2002",
          "win_diff": 0,
          "year": 2002
         },
         {
          "TotalWin_A": 2,
          "TotalWin_B": 0,
          "match_id": "M-2006-56",
          "match_info": "2006 (3 : 1)",
          "matchup": "France vs Spain",
          "teamA": "France",
          "teamA_score": 3,
          "teamA_win": 1,
          "teamB": "Spain",
          "teamB_score": 1,
          "teamB_win": 0,
          "tournament_id": "WC-2006",
          "win_diff": -2,
          "year": 2006
         },
         {
          "TotalWin_A": 2,
          "TotalWin_B": 10,
          "match_id": "M-2006-57",
          "match_info": "2006 (1 : 1)",
          "matchup": "Argentina vs Germany",
          "teamA": "Argentina",
          "teamA_score": 1,
          "teamA_win": 0,
          "teamB": "Germany",
          "teamB_score": 1,
          "teamB_win": 1,
          "tournament_id": "WC-2006",
          "win_diff": 8,
          "year": 2006
         },
         {
          "TotalWin_A": 2,
          "TotalWin_B": 6,
          "match_id": "M-2006-60",
          "match_info": "2006 (0 : 1)",
          "matchup": "Brazil vs France",
          "teamA": "Brazil",
          "teamA_score": 0,
          "teamA_win": 0,
          "teamB": "France",
          "teamB_score": 1,
          "teamB_win": 1,
          "tournament_id": "WC-2006",
          "win_diff": 4,
          "year": 2006
         },
         {
          "TotalWin_A": 0,
          "TotalWin_B": 6,
          "match_id": "M-2006-61",
          "match_info": "2006 (0 : 2)",
          "matchup": "Germany vs Italy",
          "teamA": "Germany",
          "teamA_score": 0,
          "teamA_win": 0,
          "teamB": "Italy",
          "teamB_score": 2,
          "teamB_win": 1,
          "tournament_id": "WC-2006",
          "win_diff": 6,
          "year": 2006
         },
         {
          "TotalWin_A": 4,
          "TotalWin_B": 4,
          "match_id": "M-2006-64",
          "match_info": "2006 (1 : 1)",
          "matchup": "France vs Italy",
          "teamA": "France",
          "teamA_score": 1,
          "teamA_win": 0,
          "teamB": "Italy",
          "teamB_score": 1,
          "teamB_win": 1,
          "tournament_id": "WC-2006",
          "win_diff": 0,
          "year": 2006
         },
         {
          "TotalWin_A": 2,
          "TotalWin_B": 2,
          "match_id": "M-2010-02",
          "match_info": "2010 (0 : 0)",
          "matchup": "France vs Uruguay",
          "teamA": "France",
          "teamA_score": 0,
          "teamA_win": 0,
          "teamB": "Uruguay",
          "teamB_score": 0,
          "teamB_win": 0,
          "tournament_id": "WC-2010",
          "win_diff": 0,
          "year": 2010
         },
         {
          "TotalWin_A": 2,
          "TotalWin_B": 6,
          "match_id": "M-2010-51",
          "match_info": "2010 (1 : 4)",
          "matchup": "England vs Germany",
          "teamA": "England",
          "teamA_score": 1,
          "teamA_win": 0,
          "teamB": "Germany",
          "teamB_score": 4,
          "teamB_win": 1,
          "tournament_id": "WC-2010",
          "win_diff": 4,
          "year": 2010
         },
         {
          "TotalWin_A": 2,
          "TotalWin_B": 10,
          "match_id": "M-2010-59",
          "match_info": "2010 (0 : 4)",
          "matchup": "Argentina vs Germany",
          "teamA": "Argentina",
          "teamA_score": 0,
          "teamA_win": 0,
          "teamB": "Germany",
          "teamB_score": 4,
          "teamB_win": 1,
          "tournament_id": "WC-2010",
          "win_diff": 8,
          "year": 2010
         },
         {
          "TotalWin_A": 4,
          "TotalWin_B": 2,
          "match_id": "M-2010-62",
          "match_info": "2010 (0 : 1)",
          "matchup": "Germany vs Spain",
          "teamA": "Germany",
          "teamA_score": 0,
          "teamA_win": 0,
          "teamB": "Spain",
          "teamB_score": 1,
          "teamB_win": 1,
          "tournament_id": "WC-2010",
          "win_diff": -2,
          "year": 2010
         },
         {
          "TotalWin_A": 6,
          "TotalWin_B": 0,
          "match_id": "M-2010-63",
          "match_info": "2010 (3 : 2)",
          "matchup": "Germany vs Uruguay",
          "teamA": "Germany",
          "teamA_score": 3,
          "teamA_win": 1,
          "teamB": "Uruguay",
          "teamB_score": 2,
          "teamB_win": 0,
          "tournament_id": "WC-2010",
          "win_diff": -6,
          "year": 2010
         },
         {
          "TotalWin_A": 0,
          "TotalWin_B": 4,
          "match_id": "M-2014-07",
          "match_info": "2014 (1 : 2)",
          "matchup": "England vs Italy",
          "teamA": "England",
          "teamA_score": 1,
          "teamA_win": 0,
          "teamB": "Italy",
          "teamB_score": 2,
          "teamB_win": 1,
          "tournament_id": "WC-2014",
          "win_diff": 4,
          "year": 2014
         },
         {
          "TotalWin_A": 0,
          "TotalWin_B": 4,
          "match_id": "M-2014-22",
          "match_info": "2014 (1 : 2)",
          "matchup": "England vs Uruguay",
          "teamA": "England",
          "teamA_score": 1,
          "teamA_win": 0,
          "teamB": "Uruguay",
          "teamB_score": 2,
          "teamB_win": 1,
          "tournament_id": "WC-2014",
          "win_diff": 4,
          "year": 2014
         },
         {
          "TotalWin_A": 2,
          "TotalWin_B": 2,
          "match_id": "M-2014-38",
          "match_info": "2014 (0 : 1)",
          "matchup": "Italy vs Uruguay",
          "teamA": "Italy",
          "teamA_score": 0,
          "teamA_win": 0,
          "teamB": "Uruguay",
          "teamB_score": 1,
          "teamB_win": 1,
          "tournament_id": "WC-2014",
          "win_diff": 0,
          "year": 2014
         },
         {
          "TotalWin_A": 2,
          "TotalWin_B": 6,
          "match_id": "M-2014-57",
          "match_info": "2014 (0 : 1)",
          "matchup": "France vs Germany",
          "teamA": "France",
          "teamA_score": 0,
          "teamA_win": 0,
          "teamB": "Germany",
          "teamB_score": 1,
          "teamB_win": 1,
          "tournament_id": "WC-2014",
          "win_diff": 4,
          "year": 2014
         },
         {
          "TotalWin_A": 2,
          "TotalWin_B": 2,
          "match_id": "M-2014-61",
          "match_info": "2014 (1 : 7)",
          "matchup": "Brazil vs Germany",
          "teamA": "Brazil",
          "teamA_score": 1,
          "teamA_win": 0,
          "teamB": "Germany",
          "teamB_score": 7,
          "teamB_win": 1,
          "tournament_id": "WC-2014",
          "win_diff": 0,
          "year": 2014
         },
         {
          "TotalWin_A": 2,
          "TotalWin_B": 10,
          "match_id": "M-2014-64",
          "match_info": "2014 (0 : 1)",
          "matchup": "Argentina vs Germany",
          "teamA": "Argentina",
          "teamA_score": 0,
          "teamA_win": 0,
          "teamB": "Germany",
          "teamB_score": 1,
          "teamB_win": 1,
          "tournament_id": "WC-2014",
          "win_diff": 8,
          "year": 2014
         },
         {
          "TotalWin_A": 4,
          "TotalWin_B": 2,
          "match_id": "M-2018-49",
          "match_info": "2018 (3 : 4)",
          "matchup": "Argentina vs France",
          "teamA": "Argentina",
          "teamA_score": 3,
          "teamA_win": 0,
          "teamB": "France",
          "teamB_score": 4,
          "teamB_win": 1,
          "tournament_id": "WC-2018",
          "win_diff": -2,
          "year": 2018
         },
         {
          "TotalWin_A": 2,
          "TotalWin_B": 2,
          "match_id": "M-2018-57",
          "match_info": "2018 (2 : 0)",
          "matchup": "France vs Uruguay",
          "teamA": "France",
          "teamA_score": 2,
          "teamA_win": 1,
          "teamB": "Uruguay",
          "teamB_score": 0,
          "teamB_win": 0,
          "tournament_id": "WC-2018",
          "win_diff": 0,
          "year": 2018
         },
         {
          "TotalWin_A": 4,
          "TotalWin_B": 2,
          "match_id": "M-2022-28",
          "match_info": "2022 (1 : 1)",
          "matchup": "Germany vs Spain",
          "teamA": "Germany",
          "teamA_score": 1,
          "teamA_win": 0,
          "teamB": "Spain",
          "teamB_score": 1,
          "teamB_win": 0,
          "tournament_id": "WC-2022",
          "win_diff": -2,
          "year": 2022
         },
         {
          "TotalWin_A": 4,
          "TotalWin_B": 2,
          "match_id": "M-2022-60",
          "match_info": "2022 (1 : 2)",
          "matchup": "England vs France",
          "teamA": "England",
          "teamA_score": 1,
          "teamA_win": 0,
          "teamB": "France",
          "teamB_score": 2,
          "teamB_win": 1,
          "tournament_id": "WC-2022",
          "win_diff": -2,
          "year": 2022
         },
         {
          "TotalWin_A": 4,
          "TotalWin_B": 2,
          "match_id": "M-2022-64",
          "match_info": "2022 (3 : 3)",
          "matchup": "Argentina vs France",
          "teamA": "Argentina",
          "teamA_score": 3,
          "teamA_win": 1,
          "teamB": "France",
          "teamB_score": 3,
          "teamB_win": 0,
          "tournament_id": "WC-2022",
          "win_diff": -2,
          "year": 2022
         },
         {
          "TotalWin_A": 0,
          "TotalWin_B": 2,
          "match_id": "M-1950-13",
          "match_info": "1950 (1 : 0)",
          "matchup": "England vs Spain",
          "teamA": "Spain",
          "teamA_score": 1,
          "teamA_win": 1,
          "teamB": "England",
          "teamB_score": 0,
          "teamB_win": 0,
          "tournament_id": "WC-1950",
          "win_diff": 2,
          "year": 1950
         },
         {
          "TotalWin_A": 0,
          "TotalWin_B": 0,
          "match_id": "M-1950-18",
          "match_info": "1950 (2 : 2)",
          "matchup": "Spain vs Uruguay",
          "teamA": "Uruguay",
          "teamA_score": 2,
          "teamA_win": 0,
          "teamB": "Spain",
          "teamB_score": 2,
          "teamB_win": 0,
          "tournament_id": "WC-1950",
          "win_diff": 0,
          "year": 1950
         },
         {
          "TotalWin_A": 6,
          "TotalWin_B": 0,
          "match_id": "M-1950-19",
          "match_info": "1950 (1 : 6)",
          "matchup": "Brazil vs Spain",
          "teamA": "Spain",
          "teamA_score": 1,
          "teamA_win": 0,
          "teamB": "Brazil",
          "teamB_score": 6,
          "teamB_win": 1,
          "tournament_id": "WC-1950",
          "win_diff": -6,
          "year": 1950
         },
         {
          "TotalWin_A": 2,
          "TotalWin_B": 2,
          "match_id": "M-1950-22",
          "match_info": "1950 (2 : 1)",
          "matchup": "Brazil vs Uruguay",
          "teamA": "Uruguay",
          "teamA_score": 2,
          "teamA_win": 1,
          "teamB": "Brazil",
          "teamB_score": 1,
          "teamB_win": 0,
          "tournament_id": "WC-1950",
          "win_diff": 0,
          "year": 1950
         },
         {
          "TotalWin_A": 0,
          "TotalWin_B": 4,
          "match_id": "M-1954-20",
          "match_info": "1954 (4 : 2)",
          "matchup": "England vs Uruguay",
          "teamA": "Uruguay",
          "teamA_score": 4,
          "teamA_win": 1,
          "teamB": "England",
          "teamB_score": 2,
          "teamB_win": 0,
          "tournament_id": "WC-1954",
          "win_diff": 4,
          "year": 1954
         },
         {
          "TotalWin_A": 2,
          "TotalWin_B": 10,
          "match_id": "M-1958-02",
          "match_info": "1958 (3 : 1)",
          "matchup": "Argentina vs Germany",
          "teamA": "Germany",
          "teamA_score": 3,
          "teamA_win": 1,
          "teamB": "Argentina",
          "teamB_score": 1,
          "teamB_win": 0,
          "tournament_id": "WC-1958",
          "win_diff": 8,
          "year": 1958
         },
         {
          "TotalWin_A": 6,
          "TotalWin_B": 0,
          "match_id": "M-1958-14",
          "match_info": "1958 (0 : 0)",
          "matchup": "Brazil vs England",
          "teamA": "England",
          "teamA_score": 0,
          "teamA_win": 0,
          "teamB": "Brazil",
          "teamB_score": 0,
          "teamB_win": 0,
          "tournament_id": "WC-1958",
          "win_diff": -6,
          "year": 1958
         },
         {
          "TotalWin_A": 2,
          "TotalWin_B": 6,
          "match_id": "M-1958-32",
          "match_info": "1958 (2 : 5)",
          "matchup": "Brazil vs France",
          "teamA": "France",
          "teamA_score": 2,
          "teamA_win": 0,
          "teamB": "Brazil",
          "teamB_score": 5,
          "teamB_win": 1,
          "tournament_id": "WC-1958",
          "win_diff": 4,
          "year": 1958
         },
         {
          "TotalWin_A": 2,
          "TotalWin_B": 6,
          "match_id": "M-1958-34",
          "match_info": "1958 (3 : 6)",
          "matchup": "France vs Germany",
          "teamA": "Germany",
          "teamA_score": 3,
          "teamA_win": 0,
          "teamB": "France",
          "teamB_score": 6,
          "teamB_win": 1,
          "tournament_id": "WC-1958",
          "win_diff": 4,
          "year": 1958
         },
         {
          "TotalWin_A": 0,
          "TotalWin_B": 6,
          "match_id": "M-1962-06",
          "match_info": "1962 (0 : 0)",
          "matchup": "Germany vs Italy",
          "teamA": "Italy",
          "teamA_score": 0,
          "teamA_win": 0,
          "teamB": "Germany",
          "teamB_score": 0,
          "teamB_win": 0,
          "tournament_id": "WC-1962",
          "win_diff": 6,
          "year": 1962
         },
         {
          "TotalWin_A": 4,
          "TotalWin_B": 6,
          "match_id": "M-1962-12",
          "match_info": "1962 (3 : 1)",
          "matchup": "Argentina vs England",
          "teamA": "England",
          "teamA_score": 3,
          "teamA_win": 1,
          "teamB": "Argentina",
          "teamB_score": 1,
          "teamB_win": 0,
          "tournament_id": "WC-1962",
          "win_diff": 2,
          "year": 1962
         },
         {
          "TotalWin_A": 6,
          "TotalWin_B": 0,
          "match_id": "M-1962-19",
          "match_info": "1962 (1 : 2)",
          "matchup": "Brazil vs Spain",
          "teamA": "Spain",
          "teamA_score": 1,
          "teamA_win": 0,
          "teamB": "Brazil",
          "teamB_score": 2,
          "teamB_win": 1,
          "tournament_id": "WC-1962",
          "win_diff": -6,
          "year": 1962
         },
         {
          "TotalWin_A": 6,
          "TotalWin_B": 0,
          "match_id": "M-1962-25",
          "match_info": "1962 (1 : 3)",
          "matchup": "Brazil vs England",
          "teamA": "England",
          "teamA_score": 1,
          "teamA_win": 0,
          "teamB": "Brazil",
          "teamB_score": 3,
          "teamB_win": 1,
          "tournament_id": "WC-1962",
          "win_diff": -6,
          "year": 1962
         },
         {
          "TotalWin_A": 0,
          "TotalWin_B": 4,
          "match_id": "M-1966-01",
          "match_info": "1966 (0 : 0)",
          "matchup": "England vs Uruguay",
          "teamA": "Uruguay",
          "teamA_score": 0,
          "teamA_win": 0,
          "teamB": "England",
          "teamB_score": 0,
          "teamB_win": 0,
          "tournament_id": "WC-1966",
          "win_diff": 4,
          "year": 1966
         },
         {
          "TotalWin_A": 2,
          "TotalWin_B": 0,
          "match_id": "M-1966-06",
          "match_info": "1966 (1 : 2)",
          "matchup": "Argentina vs Spain",
          "teamA": "Spain",
          "teamA_score": 1,
          "teamA_win": 0,
          "teamB": "Argentina",
          "teamB_score": 2,
          "teamB_win": 1,
          "tournament_id": "WC-1966",
          "win_diff": -2,
          "year": 1966
         },
         {
          "TotalWin_A": 2,
          "TotalWin_B": 2,
          "match_id": "M-1966-09",
          "match_info": "1966 (2 : 1)",
          "matchup": "France vs Uruguay",
          "teamA": "Uruguay",
          "teamA_score": 2,
          "teamA_win": 1,
          "teamB": "France",
          "teamB_score": 1,
          "teamB_win": 0,
          "tournament_id": "WC-1966",
          "win_diff": 0,
          "year": 1966
         },
         {
          "TotalWin_A": 2,
          "TotalWin_B": 10,
          "match_id": "M-1966-13",
          "match_info": "1966 (0 : 0)",
          "matchup": "Argentina vs Germany",
          "teamA": "Germany",
          "teamA_score": 0,
          "teamA_win": 0,
          "teamB": "Argentina",
          "teamB_score": 0,
          "teamB_win": 0,
          "tournament_id": "WC-1966",
          "win_diff": 8,
          "year": 1966
         },
         {
          "TotalWin_A": 4,
          "TotalWin_B": 2,
          "match_id": "M-1966-21",
          "match_info": "1966 (0 : 2)",
          "matchup": "England vs France",
          "teamA": "France",
          "teamA_score": 0,
          "teamA_win": 0,
          "teamB": "England",
          "teamB_score": 2,
          "teamB_win": 1,
          "tournament_id": "WC-1966",
          "win_diff": -2,
          "year": 1966
         },
         {
          "TotalWin_A": 4,
          "TotalWin_B": 2,
          "match_id": "M-1966-22",
          "match_info": "1966 (1 : 2)",
          "matchup": "Germany vs Spain",
          "teamA": "Spain",
          "teamA_score": 1,
          "teamA_win": 0,
          "teamB": "Germany",
          "teamB_score": 2,
          "teamB_win": 1,
          "tournament_id": "WC-1966",
          "win_diff": -2,
          "year": 1966
         },
         {
          "TotalWin_A": 4,
          "TotalWin_B": 6,
          "match_id": "M-1966-25",
          "match_info": "1966 (1 : 0)",
          "matchup": "Argentina vs England",
          "teamA": "England",
          "teamA_score": 1,
          "teamA_win": 1,
          "teamB": "Argentina",
          "teamB_score": 0,
          "teamB_win": 0,
          "tournament_id": "WC-1966",
          "win_diff": 2,
          "year": 1966
         },
         {
          "TotalWin_A": 6,
          "TotalWin_B": 0,
          "match_id": "M-1966-28",
          "match_info": "1966 (0 : 4)",
          "matchup": "Germany vs Uruguay",
          "teamA": "Uruguay",
          "teamA_score": 0,
          "teamA_win": 0,
          "teamB": "Germany",
          "teamB_score": 4,
          "teamB_win": 1,
          "tournament_id": "WC-1966",
          "win_diff": -6,
          "year": 1966
         },
         {
          "TotalWin_A": 2,
          "TotalWin_B": 6,
          "match_id": "M-1966-32",
          "match_info": "1966 (2 : 4)",
          "matchup": "England vs Germany",
          "teamA": "Germany",
          "teamA_score": 2,
          "teamA_win": 0,
          "teamB": "England",
          "teamB_score": 4,
          "teamB_win": 1,
          "tournament_id": "WC-1966",
          "win_diff": 4,
          "year": 1966
         },
         {
          "TotalWin_A": 2,
          "TotalWin_B": 2,
          "match_id": "M-1970-10",
          "match_info": "1970 (0 : 0)",
          "matchup": "Italy vs Uruguay",
          "teamA": "Uruguay",
          "teamA_score": 0,
          "teamA_win": 0,
          "teamB": "Italy",
          "teamB_score": 0,
          "teamB_win": 0,
          "tournament_id": "WC-1970",
          "win_diff": 0,
          "year": 1970
         },
         {
          "TotalWin_A": 6,
          "TotalWin_B": 0,
          "match_id": "M-1970-15",
          "match_info": "1970 (0 : 1)",
          "matchup": "Brazil vs England",
          "teamA": "England",
          "teamA_score": 0,
          "teamA_win": 0,
          "teamB": "Brazil",
          "teamB_score": 1,
          "teamB_win": 1,
          "tournament_id": "WC-1970",
          "win_diff": -6,
          "year": 1970
         },
         {
          "TotalWin_A": 2,
          "TotalWin_B": 6,
          "match_id": "M-1970-28",
          "match_info": "1970 (3 : 2)",
          "matchup": "England vs Germany",
          "teamA": "Germany",
          "teamA_score": 3,
          "teamA_win": 1,
          "teamB": "England",
          "teamB_score": 2,
          "teamB_win": 0,
          "tournament_id": "WC-1970",
          "win_diff": 4,
          "year": 1970
         },
         {
          "TotalWin_A": 2,
          "TotalWin_B": 2,
          "match_id": "M-1970-29",
          "match_info": "1970 (1 : 3)",
          "matchup": "Brazil vs Uruguay",
          "teamA": "Uruguay",
          "teamA_score": 1,
          "teamA_win": 0,
          "teamB": "Brazil",
          "teamB_score": 3,
          "teamB_win": 1,
          "tournament_id": "WC-1970",
          "win_diff": 0,
          "year": 1970
         },
         {
          "TotalWin_A": 0,
          "TotalWin_B": 6,
          "match_id": "M-1970-30",
          "match_info": "1970 (4 : 3)",
          "matchup": "Germany vs Italy",
          "teamA": "Italy",
          "teamA_score": 4,
          "teamA_win": 1,
          "teamB": "Germany",
          "teamB_score": 3,
          "teamB_win": 0,
          "tournament_id": "WC-1970",
          "win_diff": 6,
          "year": 1970
         },
         {
          "TotalWin_A": 6,
          "TotalWin_B": 0,
          "match_id": "M-1970-31",
          "match_info": "1970 (0 : 1)",
          "matchup": "Germany vs Uruguay",
          "teamA": "Uruguay",
          "teamA_score": 0,
          "teamA_win": 0,
          "teamB": "Germany",
          "teamB_score": 1,
          "teamB_win": 1,
          "tournament_id": "WC-1970",
          "win_diff": -6,
          "year": 1970
         },
         {
          "TotalWin_A": 6,
          "TotalWin_B": 2,
          "match_id": "M-1970-32",
          "match_info": "1970 (1 : 4)",
          "matchup": "Brazil vs Italy",
          "teamA": "Italy",
          "teamA_score": 1,
          "teamA_win": 0,
          "teamB": "Brazil",
          "teamB_score": 4,
          "teamB_win": 1,
          "tournament_id": "WC-1970",
          "win_diff": -4,
          "year": 1970
         },
         {
          "TotalWin_A": 2,
          "TotalWin_B": 4,
          "match_id": "M-1974-15",
          "match_info": "1974 (1 : 1)",
          "matchup": "Argentina vs Italy",
          "teamA": "Italy",
          "teamA_score": 1,
          "teamA_win": 0,
          "teamB": "Argentina",
          "teamB_score": 1,
          "teamB_win": 0,
          "tournament_id": "WC-1974",
          "win_diff": 2,
          "year": 1974
         },
         {
          "TotalWin_A": 2,
          "TotalWin_B": 4,
          "match_id": "M-1974-29",
          "match_info": "1974 (2 : 1)",
          "matchup": "Argentina vs Brazil",
          "teamA": "Brazil",
          "teamA_score": 2,
          "teamA_win": 1,
          "teamB": "Argentina",
          "teamB_score": 1,
          "teamB_win": 0,
          "tournament_id": "WC-1974",
          "win_diff": 2,
          "year": 1974
         },
         {
          "TotalWin_A": 4,
          "TotalWin_B": 4,
          "match_id": "M-1978-02",
          "match_info": "1978 (2 : 1)",
          "matchup": "France vs Italy",
          "teamA": "Italy",
          "teamA_score": 2,
          "teamA_win": 1,
          "teamB": "France",
          "teamB_score": 1,
          "teamB_win": 0,
          "tournament_id": "WC-1978",
          "win_diff": 0,
          "year": 1978
         },
         {
          "TotalWin_A": 4,
          "TotalWin_B": 2,
          "match_id": "M-1978-12",
          "match_info": "1978 (1 : 2)",
          "matchup": "Argentina vs France",
          "teamA": "France",
          "teamA_score": 1,
          "teamA_win": 0,
          "teamB": "Argentina",
          "teamB_score": 2,
          "teamB_win": 1,
          "tournament_id": "WC-1978",
          "win_diff": -2,
          "year": 1978
         },
         {
          "TotalWin_A": 6,
          "TotalWin_B": 0,
          "match_id": "M-1978-14",
          "match_info": "1978 (0 : 0)",
          "matchup": "Brazil vs Spain",
          "teamA": "Spain",
          "teamA_score": 0,
          "teamA_win": 0,
          "teamB": "Brazil",
          "teamB_score": 0,
          "teamB_win": 0,
          "tournament_id": "WC-1978",
          "win_diff": -6,
          "year": 1978
         },
         {
          "TotalWin_A": 2,
          "TotalWin_B": 4,
          "match_id": "M-1978-20",
          "match_info": "1978 (1 : 0)",
          "matchup": "Argentina vs Italy",
          "teamA": "Italy",
          "teamA_score": 1,
          "teamA_win": 1,
          "teamB": "Argentina",
          "teamB_score": 0,
          "teamB_win": 0,
          "tournament_id": "WC-1978",
          "win_diff": 2,
          "year": 1978
         },
         {
          "TotalWin_A": 0,
          "TotalWin_B": 6,
          "match_id": "M-1978-26",
          "match_info": "1978 (0 : 0)",
          "matchup": "Germany vs Italy",
          "teamA": "Italy",
          "teamA_score": 0,
          "teamA_win": 0,
          "teamB": "Germany",
          "teamB_score": 0,
          "teamB_win": 0,
          "tournament_id": "WC-1978",
          "win_diff": 6,
          "year": 1978
         },
         {
          "TotalWin_A": 2,
          "TotalWin_B": 4,
          "match_id": "M-1978-32",
          "match_info": "1978 (0 : 0)",
          "matchup": "Argentina vs Brazil",
          "teamA": "Brazil",
          "teamA_score": 0,
          "teamA_win": 0,
          "teamB": "Argentina",
          "teamB_score": 0,
          "teamB_win": 0,
          "tournament_id": "WC-1978",
          "win_diff": 2,
          "year": 1978
         },
         {
          "TotalWin_A": 6,
          "TotalWin_B": 2,
          "match_id": "M-1978-37",
          "match_info": "1978 (1 : 2)",
          "matchup": "Brazil vs Italy",
          "teamA": "Italy",
          "teamA_score": 1,
          "teamA_win": 0,
          "teamB": "Brazil",
          "teamB_score": 2,
          "teamB_win": 1,
          "tournament_id": "WC-1978",
          "win_diff": -4,
          "year": 1978
         },
         {
          "TotalWin_A": 4,
          "TotalWin_B": 2,
          "match_id": "M-1982-08",
          "match_info": "1982 (1 : 3)",
          "matchup": "England vs France",
          "teamA": "France",
          "teamA_score": 1,
          "teamA_win": 0,
          "teamB": "England",
          "teamB_score": 3,
          "teamB_win": 1,
          "tournament_id": "WC-1982",
          "win_diff": -2,
          "year": 1982
         },
         {
          "TotalWin_A": 2,
          "TotalWin_B": 4,
          "match_id": "M-1982-39",
          "match_info": "1982 (2 : 1)",
          "matchup": "Argentina vs Italy",
          "teamA": "Italy",
          "teamA_score": 2,
          "teamA_win": 1,
          "teamB": "Argentina",
          "teamB_score": 1,
          "teamB_win": 0,
          "tournament_id": "WC-1982",
          "win_diff": 2,
          "year": 1982
         },
         {
          "TotalWin_A": 2,
          "TotalWin_B": 6,
          "match_id": "M-1982-40",
          "match_info": "1982 (0 : 0)",
          "matchup": "England vs Germany",
          "teamA": "Germany",
          "teamA_score": 0,
          "teamA_win": 0,
          "teamB": "England",
          "teamB_score": 0,
          "teamB_win": 0,
          "tournament_id": "WC-1982",
          "win_diff": 4,
          "year": 1982
         },
         {
          "TotalWin_A": 2,
          "TotalWin_B": 4,
          "match_id": "M-1982-43",
          "match_info": "1982 (3 : 1)",
          "matchup": "Argentina vs Brazil",
          "teamA": "Brazil",
          "teamA_score": 3,
          "teamA_win": 1,
          "teamB": "Argentina",
          "teamB_score": 1,
          "teamB_win": 0,
          "tournament_id": "WC-1982",
          "win_diff": 2,
          "year": 1982
         },
         {
          "TotalWin_A": 4,
          "TotalWin_B": 2,
          "match_id": "M-1982-44",
          "match_info": "1982 (1 : 2)",
          "matchup": "Germany vs Spain",
          "teamA": "Spain",
          "teamA_score": 1,
          "teamA_win": 0,
          "teamB": "Germany",
          "teamB_score": 2,
          "teamB_win": 1,
          "tournament_id": "WC-1982",
          "win_diff": -2,
          "year": 1982
         },
         {
          "TotalWin_A": 6,
          "TotalWin_B": 2,
          "match_id": "M-1982-47",
          "match_info": "1982 (3 : 2)",
          "matchup": "Brazil vs Italy",
          "teamA": "Italy",
          "teamA_score": 3,
          "teamA_win": 1,
          "teamB": "Brazil",
          "teamB_score": 2,
          "teamB_win": 0,
          "tournament_id": "WC-1982",
          "win_diff": -4,
          "year": 1982
         },
         {
          "TotalWin_A": 0,
          "TotalWin_B": 2,
          "match_id": "M-1982-48",
          "match_info": "1982 (0 : 0)",
          "matchup": "England vs Spain",
          "teamA": "Spain",
          "teamA_score": 0,
          "teamA_win": 0,
          "teamB": "England",
          "teamB_score": 0,
          "teamB_win": 0,
          "tournament_id": "WC-1982",
          "win_diff": 2,
          "year": 1982
         },
         {
          "TotalWin_A": 2,
          "TotalWin_B": 6,
          "match_id": "M-1982-50",
          "match_info": "1982 (3 : 3)",
          "matchup": "France vs Germany",
          "teamA": "Germany",
          "teamA_score": 3,
          "teamA_win": 1,
          "teamB": "France",
          "teamB_score": 3,
          "teamB_win": 0,
          "tournament_id": "WC-1982",
          "win_diff": 4,
          "year": 1982
         },
         {
          "TotalWin_A": 0,
          "TotalWin_B": 6,
          "match_id": "M-1982-52",
          "match_info": "1982 (3 : 1)",
          "matchup": "Germany vs Italy",
          "teamA": "Italy",
          "teamA_score": 3,
          "teamA_win": 1,
          "teamB": "Germany",
          "teamB_score": 1,
          "teamB_win": 0,
          "tournament_id": "WC-1982",
          "win_diff": 6,
          "year": 1982
         },
         {
          "TotalWin_A": 6,
          "TotalWin_B": 0,
          "match_id": "M-1986-02",
          "match_info": "1986 (0 : 1)",
          "matchup": "Brazil vs Spain",
          "teamA": "Spain",
          "teamA_score": 0,
          "teamA_win": 0,
          "teamB": "Brazil",
          "teamB_score": 1,
          "teamB_win": 1,
          "tournament_id": "WC-1986",
          "win_diff": -6,
          "year": 1986
         },
         {
          "TotalWin_A": 6,
          "TotalWin_B": 0,
          "match_id": "M-1986-11",
          "match_info": "1986 (1 : 1)",
          "matchup": "Germany vs Uruguay",
          "teamA": "Uruguay",
          "teamA_score": 1,
          "teamA_win": 0,
          "teamB": "Germany",
          "teamB_score": 1,
          "teamB_win": 0,
          "tournament_id": "WC-1986",
          "win_diff": -6,
          "year": 1986
         },
         {
          "TotalWin_A": 2,
          "TotalWin_B": 4,
          "match_id": "M-1986-13",
          "match_info": "1986 (1 : 1)",
          "matchup": "Argentina vs Italy",
          "teamA": "Italy",
          "teamA_score": 1,
          "teamA_win": 0,
          "teamB": "Argentina",
          "teamB_score": 1,
          "teamB_win": 0,
          "tournament_id": "WC-1986",
          "win_diff": 2,
          "year": 1986
         },
         {
          "TotalWin_A": 2,
          "TotalWin_B": 0,
          "match_id": "M-1986-40",
          "match_info": "1986 (0 : 1)",
          "matchup": "Argentina vs Uruguay",
          "teamA": "Uruguay",
          "teamA_score": 0,
          "teamA_win": 0,
          "teamB": "Argentina",
          "teamB_score": 1,
          "teamB_win": 1,
          "tournament_id": "WC-1986",
          "win_diff": -2,
          "year": 1986
         },
         {
          "TotalWin_A": 4,
          "TotalWin_B": 4,
          "match_id": "M-1986-41",
          "match_info": "1986 (0 : 2)",
          "matchup": "France vs Italy",
          "teamA": "Italy",
          "teamA_score": 0,
          "teamA_win": 0,
          "teamB": "France",
          "teamB_score": 2,
          "teamB_win": 1,
          "tournament_id": "WC-1986",
          "win_diff": 0,
          "year": 1986
         },
         {
          "TotalWin_A": 2,
          "TotalWin_B": 6,
          "match_id": "M-1986-45",
          "match_info": "1986 (1 : 1)",
          "matchup": "Brazil vs France",
          "teamA": "France",
          "teamA_score": 1,
          "teamA_win": 1,
          "teamB": "Brazil",
          "teamB_score": 1,
          "teamB_win": 0,
          "tournament_id": "WC-1986",
          "win_diff": 4,
          "year": 1986
         },
         {
          "TotalWin_A": 4,
          "TotalWin_B": 6,
          "match_id": "M-1986-47",
          "match_info": "1986 (1 : 2)",
          "matchup": "Argentina vs England",
          "teamA": "England",
          "teamA_score": 1,
          "teamA_win": 0,
          "teamB": "Argentina",
          "teamB_score": 2,
          "teamB_win": 1,
          "tournament_id": "WC-1986",
          "win_diff": 2,
          "year": 1986
         },
         {
          "TotalWin_A": 2,
          "TotalWin_B": 6,
          "match_id": "M-1986-49",
          "match_info": "1986 (2 : 0)",
          "matchup": "France vs Germany",
          "teamA": "Germany",
          "teamA_score": 2,
          "teamA_win": 1,
          "teamB": "France",
          "teamB_score": 0,
          "teamB_win": 0,
          "tournament_id": "WC-1986",
          "win_diff": 4,
          "year": 1986
         },
         {
          "TotalWin_A": 2,
          "TotalWin_B": 10,
          "match_id": "M-1986-52",
          "match_info": "1986 (2 : 3)",
          "matchup": "Argentina vs Germany",
          "teamA": "Germany",
          "teamA_score": 2,
          "teamA_win": 0,
          "teamB": "Argentina",
          "teamB_score": 3,
          "teamB_win": 1,
          "tournament_id": "WC-1986",
          "win_diff": 8,
          "year": 1986
         },
         {
          "TotalWin_A": 0,
          "TotalWin_B": 0,
          "match_id": "M-1990-12",
          "match_info": "1990 (0 : 0)",
          "matchup": "Spain vs Uruguay",
          "teamA": "Uruguay",
          "teamA_score": 0,
          "teamA_win": 0,
          "teamB": "Spain",
          "teamB_score": 0,
          "teamB_win": 0,
          "tournament_id": "WC-1990",
          "win_diff": 0,
          "year": 1990
         },
         {
          "TotalWin_A": 2,
          "TotalWin_B": 4,
          "match_id": "M-1990-39",
          "match_info": "1990 (0 : 1)",
          "matchup": "Argentina vs Brazil",
          "teamA": "Brazil",
          "teamA_score": 0,
          "teamA_win": 0,
          "teamB": "Argentina",
          "teamB_score": 1,
          "teamB_win": 1,
          "tournament_id": "WC-1990",
          "win_diff": 2,
          "year": 1990
         },
         {
          "TotalWin_A": 2,
          "TotalWin_B": 2,
          "match_id": "M-1990-42",
          "match_info": "1990 (0 : 2)",
          "matchup": "Italy vs Uruguay",
          "teamA": "Uruguay",
          "teamA_score": 0,
          "teamA_win": 0,
          "teamB": "Italy",
          "teamB_score": 2,
          "teamB_win": 1,
          "tournament_id": "WC-1990",
          "win_diff": 0,
          "year": 1990
         },
         {
          "TotalWin_A": 2,
          "TotalWin_B": 4,
          "match_id": "M-1990-49",
          "match_info": "1990 (1 : 1)",
          "matchup": "Argentina vs Italy",
          "teamA": "Italy",
          "teamA_score": 1,
          "teamA_win": 0,
          "teamB": "Argentina",
          "teamB_score": 1,
          "teamB_win": 1,
          "tournament_id": "WC-1990",
          "win_diff": 2,
          "year": 1990
         },
         {
          "TotalWin_A": 2,
          "TotalWin_B": 6,
          "match_id": "M-1990-50",
          "match_info": "1990 (1 : 1)",
          "matchup": "England vs Germany",
          "teamA": "Germany",
          "teamA_score": 1,
          "teamA_win": 1,
          "teamB": "England",
          "teamB_score": 1,
          "teamB_win": 0,
          "tournament_id": "WC-1990",
          "win_diff": 4,
          "year": 1990
         },
         {
          "TotalWin_A": 0,
          "TotalWin_B": 4,
          "match_id": "M-1990-51",
          "match_info": "1990 (2 : 1)",
          "matchup": "England vs Italy",
          "teamA": "Italy",
          "teamA_score": 2,
          "teamA_win": 1,
          "teamB": "England",
          "teamB_score": 1,
          "teamB_win": 0,
          "tournament_id": "WC-1990",
          "win_diff": 4,
          "year": 1990
         },
         {
          "TotalWin_A": 2,
          "TotalWin_B": 10,
          "match_id": "M-1990-52",
          "match_info": "1990 (1 : 0)",
          "matchup": "Argentina vs Germany",
          "teamA": "Germany",
          "teamA_score": 1,
          "teamA_win": 1,
          "teamB": "Argentina",
          "teamB_score": 0,
          "teamB_win": 0,
          "tournament_id": "WC-1990",
          "win_diff": 8,
          "year": 1990
         },
         {
          "TotalWin_A": 4,
          "TotalWin_B": 2,
          "match_id": "M-1994-12",
          "match_info": "1994 (1 : 1)",
          "matchup": "Germany vs Spain",
          "teamA": "Spain",
          "teamA_score": 1,
          "teamA_win": 0,
          "teamB": "Germany",
          "teamB_score": 1,
          "teamB_win": 0,
          "tournament_id": "WC-1994",
          "win_diff": -2,
          "year": 1994
         },
         {
          "TotalWin_A": 2,
          "TotalWin_B": 0,
          "match_id": "M-1994-45",
          "match_info": "1994 (1 : 2)",
          "matchup": "Italy vs Spain",
          "teamA": "Spain",
          "teamA_score": 1,
          "teamA_win": 0,
          "teamB": "Italy",
          "teamB_score": 2,
          "teamB_win": 1,
          "tournament_id": "WC-1994",
          "win_diff": -2,
          "year": 1994
         },
         {
          "TotalWin_A": 6,
          "TotalWin_B": 2,
          "match_id": "M-1994-52",
          "match_info": "1994 (0 : 0)",
          "matchup": "Brazil vs Italy",
          "teamA": "Italy",
          "teamA_score": 0,
          "teamA_win": 0,
          "teamB": "Brazil",
          "teamB_score": 0,
          "teamB_win": 1,
          "tournament_id": "WC-1994",
          "win_diff": -4,
          "year": 1994
         },
         {
          "TotalWin_A": 4,
          "TotalWin_B": 6,
          "match_id": "M-1998-56",
          "match_info": "1998 (2 : 2)",
          "matchup": "Argentina vs England",
          "teamA": "England",
          "teamA_score": 2,
          "teamA_win": 0,
          "teamB": "Argentina",
          "teamB_score": 2,
          "teamB_win": 1,
          "tournament_id": "WC-1998",
          "win_diff": 2,
          "year": 1998
         },
         {
          "TotalWin_A": 4,
          "TotalWin_B": 4,
          "match_id": "M-1998-57",
          "match_info": "1998 (0 : 0)",
          "matchup": "France vs Italy",
          "teamA": "Italy",
          "teamA_score": 0,
          "teamA_win": 0,
          "teamB": "France",
          "teamB_score": 0,
          "teamB_win": 1,
          "tournament_id": "WC-1998",
          "win_diff": 0,
          "year": 1998
         },
         {
          "TotalWin_A": 2,
          "TotalWin_B": 6,
          "match_id": "M-1998-64",
          "match_info": "1998 (3 : 0)",
          "matchup": "Brazil vs France",
          "teamA": "France",
          "teamA_score": 3,
          "teamA_win": 1,
          "teamB": "Brazil",
          "teamB_score": 0,
          "teamB_win": 0,
          "tournament_id": "WC-1998",
          "win_diff": 4,
          "year": 1998
         },
         {
          "TotalWin_A": 2,
          "TotalWin_B": 2,
          "match_id": "M-2002-20",
          "match_info": "2002 (0 : 0)",
          "matchup": "France vs Uruguay",
          "teamA": "Uruguay",
          "teamA_score": 0,
          "teamA_win": 0,
          "teamB": "France",
          "teamB_score": 0,
          "teamB_win": 0,
          "tournament_id": "WC-2002",
          "win_diff": 0,
          "year": 2002
         },
         {
          "TotalWin_A": 4,
          "TotalWin_B": 6,
          "match_id": "M-2002-23",
          "match_info": "2002 (1 : 0)",
          "matchup": "Argentina vs England",
          "teamA": "England",
          "teamA_score": 1,
          "teamA_win": 1,
          "teamB": "Argentina",
          "teamB_score": 0,
          "teamB_win": 0,
          "tournament_id": "WC-2002",
          "win_diff": 2,
          "year": 2002
         },
         {
          "TotalWin_A": 6,
          "TotalWin_B": 0,
          "match_id": "M-2002-57",
          "match_info": "2002 (1 : 2)",
          "matchup": "Brazil vs England",
          "teamA": "England",
          "teamA_score": 1,
          "teamA_win": 0,
          "teamB": "Brazil",
          "teamB_score": 2,
          "teamB_win": 1,
          "tournament_id": "WC-2002",
          "win_diff": -6,
          "year": 2002
         },
         {
          "TotalWin_A": 2,
          "TotalWin_B": 2,
          "match_id": "M-2002-64",
          "match_info": "2002 (0 : 2)",
          "matchup": "Brazil vs Germany",
          "teamA": "Germany",
          "teamA_score": 0,
          "teamA_win": 0,
          "teamB": "Brazil",
          "teamB_score": 2,
          "teamB_win": 1,
          "tournament_id": "WC-2002",
          "win_diff": 0,
          "year": 2002
         },
         {
          "TotalWin_A": 2,
          "TotalWin_B": 0,
          "match_id": "M-2006-56",
          "match_info": "2006 (1 : 3)",
          "matchup": "France vs Spain",
          "teamA": "Spain",
          "teamA_score": 1,
          "teamA_win": 0,
          "teamB": "France",
          "teamB_score": 3,
          "teamB_win": 1,
          "tournament_id": "WC-2006",
          "win_diff": -2,
          "year": 2006
         },
         {
          "TotalWin_A": 2,
          "TotalWin_B": 10,
          "match_id": "M-2006-57",
          "match_info": "2006 (1 : 1)",
          "matchup": "Argentina vs Germany",
          "teamA": "Germany",
          "teamA_score": 1,
          "teamA_win": 1,
          "teamB": "Argentina",
          "teamB_score": 1,
          "teamB_win": 0,
          "tournament_id": "WC-2006",
          "win_diff": 8,
          "year": 2006
         },
         {
          "TotalWin_A": 2,
          "TotalWin_B": 6,
          "match_id": "M-2006-60",
          "match_info": "2006 (1 : 0)",
          "matchup": "Brazil vs France",
          "teamA": "France",
          "teamA_score": 1,
          "teamA_win": 1,
          "teamB": "Brazil",
          "teamB_score": 0,
          "teamB_win": 0,
          "tournament_id": "WC-2006",
          "win_diff": 4,
          "year": 2006
         },
         {
          "TotalWin_A": 0,
          "TotalWin_B": 6,
          "match_id": "M-2006-61",
          "match_info": "2006 (2 : 0)",
          "matchup": "Germany vs Italy",
          "teamA": "Italy",
          "teamA_score": 2,
          "teamA_win": 1,
          "teamB": "Germany",
          "teamB_score": 0,
          "teamB_win": 0,
          "tournament_id": "WC-2006",
          "win_diff": 6,
          "year": 2006
         },
         {
          "TotalWin_A": 4,
          "TotalWin_B": 4,
          "match_id": "M-2006-64",
          "match_info": "2006 (1 : 1)",
          "matchup": "France vs Italy",
          "teamA": "Italy",
          "teamA_score": 1,
          "teamA_win": 1,
          "teamB": "France",
          "teamB_score": 1,
          "teamB_win": 0,
          "tournament_id": "WC-2006",
          "win_diff": 0,
          "year": 2006
         },
         {
          "TotalWin_A": 2,
          "TotalWin_B": 2,
          "match_id": "M-2010-02",
          "match_info": "2010 (0 : 0)",
          "matchup": "France vs Uruguay",
          "teamA": "Uruguay",
          "teamA_score": 0,
          "teamA_win": 0,
          "teamB": "France",
          "teamB_score": 0,
          "teamB_win": 0,
          "tournament_id": "WC-2010",
          "win_diff": 0,
          "year": 2010
         },
         {
          "TotalWin_A": 2,
          "TotalWin_B": 6,
          "match_id": "M-2010-51",
          "match_info": "2010 (4 : 1)",
          "matchup": "England vs Germany",
          "teamA": "Germany",
          "teamA_score": 4,
          "teamA_win": 1,
          "teamB": "England",
          "teamB_score": 1,
          "teamB_win": 0,
          "tournament_id": "WC-2010",
          "win_diff": 4,
          "year": 2010
         },
         {
          "TotalWin_A": 2,
          "TotalWin_B": 10,
          "match_id": "M-2010-59",
          "match_info": "2010 (4 : 0)",
          "matchup": "Argentina vs Germany",
          "teamA": "Germany",
          "teamA_score": 4,
          "teamA_win": 1,
          "teamB": "Argentina",
          "teamB_score": 0,
          "teamB_win": 0,
          "tournament_id": "WC-2010",
          "win_diff": 8,
          "year": 2010
         },
         {
          "TotalWin_A": 4,
          "TotalWin_B": 2,
          "match_id": "M-2010-62",
          "match_info": "2010 (1 : 0)",
          "matchup": "Germany vs Spain",
          "teamA": "Spain",
          "teamA_score": 1,
          "teamA_win": 1,
          "teamB": "Germany",
          "teamB_score": 0,
          "teamB_win": 0,
          "tournament_id": "WC-2010",
          "win_diff": -2,
          "year": 2010
         },
         {
          "TotalWin_A": 6,
          "TotalWin_B": 0,
          "match_id": "M-2010-63",
          "match_info": "2010 (2 : 3)",
          "matchup": "Germany vs Uruguay",
          "teamA": "Uruguay",
          "teamA_score": 2,
          "teamA_win": 0,
          "teamB": "Germany",
          "teamB_score": 3,
          "teamB_win": 1,
          "tournament_id": "WC-2010",
          "win_diff": -6,
          "year": 2010
         },
         {
          "TotalWin_A": 0,
          "TotalWin_B": 4,
          "match_id": "M-2014-07",
          "match_info": "2014 (2 : 1)",
          "matchup": "England vs Italy",
          "teamA": "Italy",
          "teamA_score": 2,
          "teamA_win": 1,
          "teamB": "England",
          "teamB_score": 1,
          "teamB_win": 0,
          "tournament_id": "WC-2014",
          "win_diff": 4,
          "year": 2014
         },
         {
          "TotalWin_A": 0,
          "TotalWin_B": 4,
          "match_id": "M-2014-22",
          "match_info": "2014 (2 : 1)",
          "matchup": "England vs Uruguay",
          "teamA": "Uruguay",
          "teamA_score": 2,
          "teamA_win": 1,
          "teamB": "England",
          "teamB_score": 1,
          "teamB_win": 0,
          "tournament_id": "WC-2014",
          "win_diff": 4,
          "year": 2014
         },
         {
          "TotalWin_A": 2,
          "TotalWin_B": 2,
          "match_id": "M-2014-38",
          "match_info": "2014 (1 : 0)",
          "matchup": "Italy vs Uruguay",
          "teamA": "Uruguay",
          "teamA_score": 1,
          "teamA_win": 1,
          "teamB": "Italy",
          "teamB_score": 0,
          "teamB_win": 0,
          "tournament_id": "WC-2014",
          "win_diff": 0,
          "year": 2014
         },
         {
          "TotalWin_A": 2,
          "TotalWin_B": 6,
          "match_id": "M-2014-57",
          "match_info": "2014 (1 : 0)",
          "matchup": "France vs Germany",
          "teamA": "Germany",
          "teamA_score": 1,
          "teamA_win": 1,
          "teamB": "France",
          "teamB_score": 0,
          "teamB_win": 0,
          "tournament_id": "WC-2014",
          "win_diff": 4,
          "year": 2014
         },
         {
          "TotalWin_A": 2,
          "TotalWin_B": 2,
          "match_id": "M-2014-61",
          "match_info": "2014 (7 : 1)",
          "matchup": "Brazil vs Germany",
          "teamA": "Germany",
          "teamA_score": 7,
          "teamA_win": 1,
          "teamB": "Brazil",
          "teamB_score": 1,
          "teamB_win": 0,
          "tournament_id": "WC-2014",
          "win_diff": 0,
          "year": 2014
         },
         {
          "TotalWin_A": 2,
          "TotalWin_B": 10,
          "match_id": "M-2014-64",
          "match_info": "2014 (1 : 0)",
          "matchup": "Argentina vs Germany",
          "teamA": "Germany",
          "teamA_score": 1,
          "teamA_win": 1,
          "teamB": "Argentina",
          "teamB_score": 0,
          "teamB_win": 0,
          "tournament_id": "WC-2014",
          "win_diff": 8,
          "year": 2014
         },
         {
          "TotalWin_A": 4,
          "TotalWin_B": 2,
          "match_id": "M-2018-49",
          "match_info": "2018 (4 : 3)",
          "matchup": "Argentina vs France",
          "teamA": "France",
          "teamA_score": 4,
          "teamA_win": 1,
          "teamB": "Argentina",
          "teamB_score": 3,
          "teamB_win": 0,
          "tournament_id": "WC-2018",
          "win_diff": -2,
          "year": 2018
         },
         {
          "TotalWin_A": 2,
          "TotalWin_B": 2,
          "match_id": "M-2018-57",
          "match_info": "2018 (0 : 2)",
          "matchup": "France vs Uruguay",
          "teamA": "Uruguay",
          "teamA_score": 0,
          "teamA_win": 0,
          "teamB": "France",
          "teamB_score": 2,
          "teamB_win": 1,
          "tournament_id": "WC-2018",
          "win_diff": 0,
          "year": 2018
         },
         {
          "TotalWin_A": 4,
          "TotalWin_B": 2,
          "match_id": "M-2022-28",
          "match_info": "2022 (1 : 1)",
          "matchup": "Germany vs Spain",
          "teamA": "Spain",
          "teamA_score": 1,
          "teamA_win": 0,
          "teamB": "Germany",
          "teamB_score": 1,
          "teamB_win": 0,
          "tournament_id": "WC-2022",
          "win_diff": -2,
          "year": 2022
         },
         {
          "TotalWin_A": 4,
          "TotalWin_B": 2,
          "match_id": "M-2022-60",
          "match_info": "2022 (2 : 1)",
          "matchup": "England vs France",
          "teamA": "France",
          "teamA_score": 2,
          "teamA_win": 1,
          "teamB": "England",
          "teamB_score": 1,
          "teamB_win": 0,
          "tournament_id": "WC-2022",
          "win_diff": -2,
          "year": 2022
         },
         {
          "TotalWin_A": 4,
          "TotalWin_B": 2,
          "match_id": "M-2022-64",
          "match_info": "2022 (3 : 3)",
          "matchup": "Argentina vs France",
          "teamA": "France",
          "teamA_score": 3,
          "teamA_win": 0,
          "teamB": "Argentina",
          "teamB_score": 3,
          "teamB_win": 1,
          "tournament_id": "WC-2022",
          "win_diff": -2,
          "year": 2022
         },
         {
          "TotalWin_A": 0,
          "TotalWin_B": 2,
          "match_id": "M-1950-13",
          "match_info": "1950 (1 : 0)",
          "matchup": "England vs Spain",
          "teamA": "Spain",
          "teamA_score": 1,
          "teamA_win": 1,
          "teamB": "England",
          "teamB_score": 0,
          "teamB_win": 0,
          "tournament_id": "WC-1950",
          "win_diff": 2,
          "year": 1950
         },
         {
          "TotalWin_A": 0,
          "TotalWin_B": 0,
          "match_id": "M-1950-18",
          "match_info": "1950 (2 : 2)",
          "matchup": "Spain vs Uruguay",
          "teamA": "Uruguay",
          "teamA_score": 2,
          "teamA_win": 0,
          "teamB": "Spain",
          "teamB_score": 2,
          "teamB_win": 0,
          "tournament_id": "WC-1950",
          "win_diff": 0,
          "year": 1950
         },
         {
          "TotalWin_A": 6,
          "TotalWin_B": 0,
          "match_id": "M-1950-19",
          "match_info": "1950 (1 : 6)",
          "matchup": "Brazil vs Spain",
          "teamA": "Spain",
          "teamA_score": 1,
          "teamA_win": 0,
          "teamB": "Brazil",
          "teamB_score": 6,
          "teamB_win": 1,
          "tournament_id": "WC-1950",
          "win_diff": -6,
          "year": 1950
         },
         {
          "TotalWin_A": 2,
          "TotalWin_B": 2,
          "match_id": "M-1950-22",
          "match_info": "1950 (2 : 1)",
          "matchup": "Brazil vs Uruguay",
          "teamA": "Uruguay",
          "teamA_score": 2,
          "teamA_win": 1,
          "teamB": "Brazil",
          "teamB_score": 1,
          "teamB_win": 0,
          "tournament_id": "WC-1950",
          "win_diff": 0,
          "year": 1950
         },
         {
          "TotalWin_A": 0,
          "TotalWin_B": 4,
          "match_id": "M-1954-20",
          "match_info": "1954 (4 : 2)",
          "matchup": "England vs Uruguay",
          "teamA": "Uruguay",
          "teamA_score": 4,
          "teamA_win": 1,
          "teamB": "England",
          "teamB_score": 2,
          "teamB_win": 0,
          "tournament_id": "WC-1954",
          "win_diff": 4,
          "year": 1954
         },
         {
          "TotalWin_A": 2,
          "TotalWin_B": 10,
          "match_id": "M-1958-02",
          "match_info": "1958 (3 : 1)",
          "matchup": "Argentina vs Germany",
          "teamA": "Germany",
          "teamA_score": 3,
          "teamA_win": 1,
          "teamB": "Argentina",
          "teamB_score": 1,
          "teamB_win": 0,
          "tournament_id": "WC-1958",
          "win_diff": 8,
          "year": 1958
         },
         {
          "TotalWin_A": 6,
          "TotalWin_B": 0,
          "match_id": "M-1958-14",
          "match_info": "1958 (0 : 0)",
          "matchup": "Brazil vs England",
          "teamA": "England",
          "teamA_score": 0,
          "teamA_win": 0,
          "teamB": "Brazil",
          "teamB_score": 0,
          "teamB_win": 0,
          "tournament_id": "WC-1958",
          "win_diff": -6,
          "year": 1958
         },
         {
          "TotalWin_A": 2,
          "TotalWin_B": 6,
          "match_id": "M-1958-32",
          "match_info": "1958 (2 : 5)",
          "matchup": "Brazil vs France",
          "teamA": "France",
          "teamA_score": 2,
          "teamA_win": 0,
          "teamB": "Brazil",
          "teamB_score": 5,
          "teamB_win": 1,
          "tournament_id": "WC-1958",
          "win_diff": 4,
          "year": 1958
         },
         {
          "TotalWin_A": 2,
          "TotalWin_B": 6,
          "match_id": "M-1958-34",
          "match_info": "1958 (3 : 6)",
          "matchup": "France vs Germany",
          "teamA": "Germany",
          "teamA_score": 3,
          "teamA_win": 0,
          "teamB": "France",
          "teamB_score": 6,
          "teamB_win": 1,
          "tournament_id": "WC-1958",
          "win_diff": 4,
          "year": 1958
         },
         {
          "TotalWin_A": 0,
          "TotalWin_B": 6,
          "match_id": "M-1962-06",
          "match_info": "1962 (0 : 0)",
          "matchup": "Germany vs Italy",
          "teamA": "Italy",
          "teamA_score": 0,
          "teamA_win": 0,
          "teamB": "Germany",
          "teamB_score": 0,
          "teamB_win": 0,
          "tournament_id": "WC-1962",
          "win_diff": 6,
          "year": 1962
         },
         {
          "TotalWin_A": 4,
          "TotalWin_B": 6,
          "match_id": "M-1962-12",
          "match_info": "1962 (3 : 1)",
          "matchup": "Argentina vs England",
          "teamA": "England",
          "teamA_score": 3,
          "teamA_win": 1,
          "teamB": "Argentina",
          "teamB_score": 1,
          "teamB_win": 0,
          "tournament_id": "WC-1962",
          "win_diff": 2,
          "year": 1962
         },
         {
          "TotalWin_A": 6,
          "TotalWin_B": 0,
          "match_id": "M-1962-19",
          "match_info": "1962 (1 : 2)",
          "matchup": "Brazil vs Spain",
          "teamA": "Spain",
          "teamA_score": 1,
          "teamA_win": 0,
          "teamB": "Brazil",
          "teamB_score": 2,
          "teamB_win": 1,
          "tournament_id": "WC-1962",
          "win_diff": -6,
          "year": 1962
         },
         {
          "TotalWin_A": 6,
          "TotalWin_B": 0,
          "match_id": "M-1962-25",
          "match_info": "1962 (1 : 3)",
          "matchup": "Brazil vs England",
          "teamA": "England",
          "teamA_score": 1,
          "teamA_win": 0,
          "teamB": "Brazil",
          "teamB_score": 3,
          "teamB_win": 1,
          "tournament_id": "WC-1962",
          "win_diff": -6,
          "year": 1962
         },
         {
          "TotalWin_A": 0,
          "TotalWin_B": 4,
          "match_id": "M-1966-01",
          "match_info": "1966 (0 : 0)",
          "matchup": "England vs Uruguay",
          "teamA": "Uruguay",
          "teamA_score": 0,
          "teamA_win": 0,
          "teamB": "England",
          "teamB_score": 0,
          "teamB_win": 0,
          "tournament_id": "WC-1966",
          "win_diff": 4,
          "year": 1966
         },
         {
          "TotalWin_A": 2,
          "TotalWin_B": 0,
          "match_id": "M-1966-06",
          "match_info": "1966 (1 : 2)",
          "matchup": "Argentina vs Spain",
          "teamA": "Spain",
          "teamA_score": 1,
          "teamA_win": 0,
          "teamB": "Argentina",
          "teamB_score": 2,
          "teamB_win": 1,
          "tournament_id": "WC-1966",
          "win_diff": -2,
          "year": 1966
         },
         {
          "TotalWin_A": 2,
          "TotalWin_B": 2,
          "match_id": "M-1966-09",
          "match_info": "1966 (2 : 1)",
          "matchup": "France vs Uruguay",
          "teamA": "Uruguay",
          "teamA_score": 2,
          "teamA_win": 1,
          "teamB": "France",
          "teamB_score": 1,
          "teamB_win": 0,
          "tournament_id": "WC-1966",
          "win_diff": 0,
          "year": 1966
         },
         {
          "TotalWin_A": 2,
          "TotalWin_B": 10,
          "match_id": "M-1966-13",
          "match_info": "1966 (0 : 0)",
          "matchup": "Argentina vs Germany",
          "teamA": "Germany",
          "teamA_score": 0,
          "teamA_win": 0,
          "teamB": "Argentina",
          "teamB_score": 0,
          "teamB_win": 0,
          "tournament_id": "WC-1966",
          "win_diff": 8,
          "year": 1966
         },
         {
          "TotalWin_A": 4,
          "TotalWin_B": 2,
          "match_id": "M-1966-21",
          "match_info": "1966 (0 : 2)",
          "matchup": "England vs France",
          "teamA": "France",
          "teamA_score": 0,
          "teamA_win": 0,
          "teamB": "England",
          "teamB_score": 2,
          "teamB_win": 1,
          "tournament_id": "WC-1966",
          "win_diff": -2,
          "year": 1966
         },
         {
          "TotalWin_A": 4,
          "TotalWin_B": 2,
          "match_id": "M-1966-22",
          "match_info": "1966 (1 : 2)",
          "matchup": "Germany vs Spain",
          "teamA": "Spain",
          "teamA_score": 1,
          "teamA_win": 0,
          "teamB": "Germany",
          "teamB_score": 2,
          "teamB_win": 1,
          "tournament_id": "WC-1966",
          "win_diff": -2,
          "year": 1966
         },
         {
          "TotalWin_A": 4,
          "TotalWin_B": 6,
          "match_id": "M-1966-25",
          "match_info": "1966 (1 : 0)",
          "matchup": "Argentina vs England",
          "teamA": "England",
          "teamA_score": 1,
          "teamA_win": 1,
          "teamB": "Argentina",
          "teamB_score": 0,
          "teamB_win": 0,
          "tournament_id": "WC-1966",
          "win_diff": 2,
          "year": 1966
         },
         {
          "TotalWin_A": 6,
          "TotalWin_B": 0,
          "match_id": "M-1966-28",
          "match_info": "1966 (0 : 4)",
          "matchup": "Germany vs Uruguay",
          "teamA": "Uruguay",
          "teamA_score": 0,
          "teamA_win": 0,
          "teamB": "Germany",
          "teamB_score": 4,
          "teamB_win": 1,
          "tournament_id": "WC-1966",
          "win_diff": -6,
          "year": 1966
         },
         {
          "TotalWin_A": 2,
          "TotalWin_B": 6,
          "match_id": "M-1966-32",
          "match_info": "1966 (2 : 4)",
          "matchup": "England vs Germany",
          "teamA": "Germany",
          "teamA_score": 2,
          "teamA_win": 0,
          "teamB": "England",
          "teamB_score": 4,
          "teamB_win": 1,
          "tournament_id": "WC-1966",
          "win_diff": 4,
          "year": 1966
         },
         {
          "TotalWin_A": 2,
          "TotalWin_B": 2,
          "match_id": "M-1970-10",
          "match_info": "1970 (0 : 0)",
          "matchup": "Italy vs Uruguay",
          "teamA": "Uruguay",
          "teamA_score": 0,
          "teamA_win": 0,
          "teamB": "Italy",
          "teamB_score": 0,
          "teamB_win": 0,
          "tournament_id": "WC-1970",
          "win_diff": 0,
          "year": 1970
         },
         {
          "TotalWin_A": 6,
          "TotalWin_B": 0,
          "match_id": "M-1970-15",
          "match_info": "1970 (0 : 1)",
          "matchup": "Brazil vs England",
          "teamA": "England",
          "teamA_score": 0,
          "teamA_win": 0,
          "teamB": "Brazil",
          "teamB_score": 1,
          "teamB_win": 1,
          "tournament_id": "WC-1970",
          "win_diff": -6,
          "year": 1970
         },
         {
          "TotalWin_A": 2,
          "TotalWin_B": 6,
          "match_id": "M-1970-28",
          "match_info": "1970 (3 : 2)",
          "matchup": "England vs Germany",
          "teamA": "Germany",
          "teamA_score": 3,
          "teamA_win": 1,
          "teamB": "England",
          "teamB_score": 2,
          "teamB_win": 0,
          "tournament_id": "WC-1970",
          "win_diff": 4,
          "year": 1970
         },
         {
          "TotalWin_A": 2,
          "TotalWin_B": 2,
          "match_id": "M-1970-29",
          "match_info": "1970 (1 : 3)",
          "matchup": "Brazil vs Uruguay",
          "teamA": "Uruguay",
          "teamA_score": 1,
          "teamA_win": 0,
          "teamB": "Brazil",
          "teamB_score": 3,
          "teamB_win": 1,
          "tournament_id": "WC-1970",
          "win_diff": 0,
          "year": 1970
         },
         {
          "TotalWin_A": 0,
          "TotalWin_B": 6,
          "match_id": "M-1970-30",
          "match_info": "1970 (4 : 3)",
          "matchup": "Germany vs Italy",
          "teamA": "Italy",
          "teamA_score": 4,
          "teamA_win": 1,
          "teamB": "Germany",
          "teamB_score": 3,
          "teamB_win": 0,
          "tournament_id": "WC-1970",
          "win_diff": 6,
          "year": 1970
         },
         {
          "TotalWin_A": 6,
          "TotalWin_B": 0,
          "match_id": "M-1970-31",
          "match_info": "1970 (0 : 1)",
          "matchup": "Germany vs Uruguay",
          "teamA": "Uruguay",
          "teamA_score": 0,
          "teamA_win": 0,
          "teamB": "Germany",
          "teamB_score": 1,
          "teamB_win": 1,
          "tournament_id": "WC-1970",
          "win_diff": -6,
          "year": 1970
         },
         {
          "TotalWin_A": 6,
          "TotalWin_B": 2,
          "match_id": "M-1970-32",
          "match_info": "1970 (1 : 4)",
          "matchup": "Brazil vs Italy",
          "teamA": "Italy",
          "teamA_score": 1,
          "teamA_win": 0,
          "teamB": "Brazil",
          "teamB_score": 4,
          "teamB_win": 1,
          "tournament_id": "WC-1970",
          "win_diff": -4,
          "year": 1970
         },
         {
          "TotalWin_A": 2,
          "TotalWin_B": 4,
          "match_id": "M-1974-15",
          "match_info": "1974 (1 : 1)",
          "matchup": "Argentina vs Italy",
          "teamA": "Italy",
          "teamA_score": 1,
          "teamA_win": 0,
          "teamB": "Argentina",
          "teamB_score": 1,
          "teamB_win": 0,
          "tournament_id": "WC-1974",
          "win_diff": 2,
          "year": 1974
         },
         {
          "TotalWin_A": 2,
          "TotalWin_B": 4,
          "match_id": "M-1974-29",
          "match_info": "1974 (2 : 1)",
          "matchup": "Argentina vs Brazil",
          "teamA": "Brazil",
          "teamA_score": 2,
          "teamA_win": 1,
          "teamB": "Argentina",
          "teamB_score": 1,
          "teamB_win": 0,
          "tournament_id": "WC-1974",
          "win_diff": 2,
          "year": 1974
         },
         {
          "TotalWin_A": 4,
          "TotalWin_B": 4,
          "match_id": "M-1978-02",
          "match_info": "1978 (2 : 1)",
          "matchup": "France vs Italy",
          "teamA": "Italy",
          "teamA_score": 2,
          "teamA_win": 1,
          "teamB": "France",
          "teamB_score": 1,
          "teamB_win": 0,
          "tournament_id": "WC-1978",
          "win_diff": 0,
          "year": 1978
         },
         {
          "TotalWin_A": 4,
          "TotalWin_B": 2,
          "match_id": "M-1978-12",
          "match_info": "1978 (1 : 2)",
          "matchup": "Argentina vs France",
          "teamA": "France",
          "teamA_score": 1,
          "teamA_win": 0,
          "teamB": "Argentina",
          "teamB_score": 2,
          "teamB_win": 1,
          "tournament_id": "WC-1978",
          "win_diff": -2,
          "year": 1978
         },
         {
          "TotalWin_A": 6,
          "TotalWin_B": 0,
          "match_id": "M-1978-14",
          "match_info": "1978 (0 : 0)",
          "matchup": "Brazil vs Spain",
          "teamA": "Spain",
          "teamA_score": 0,
          "teamA_win": 0,
          "teamB": "Brazil",
          "teamB_score": 0,
          "teamB_win": 0,
          "tournament_id": "WC-1978",
          "win_diff": -6,
          "year": 1978
         },
         {
          "TotalWin_A": 2,
          "TotalWin_B": 4,
          "match_id": "M-1978-20",
          "match_info": "1978 (1 : 0)",
          "matchup": "Argentina vs Italy",
          "teamA": "Italy",
          "teamA_score": 1,
          "teamA_win": 1,
          "teamB": "Argentina",
          "teamB_score": 0,
          "teamB_win": 0,
          "tournament_id": "WC-1978",
          "win_diff": 2,
          "year": 1978
         },
         {
          "TotalWin_A": 0,
          "TotalWin_B": 6,
          "match_id": "M-1978-26",
          "match_info": "1978 (0 : 0)",
          "matchup": "Germany vs Italy",
          "teamA": "Italy",
          "teamA_score": 0,
          "teamA_win": 0,
          "teamB": "Germany",
          "teamB_score": 0,
          "teamB_win": 0,
          "tournament_id": "WC-1978",
          "win_diff": 6,
          "year": 1978
         },
         {
          "TotalWin_A": 2,
          "TotalWin_B": 4,
          "match_id": "M-1978-32",
          "match_info": "1978 (0 : 0)",
          "matchup": "Argentina vs Brazil",
          "teamA": "Brazil",
          "teamA_score": 0,
          "teamA_win": 0,
          "teamB": "Argentina",
          "teamB_score": 0,
          "teamB_win": 0,
          "tournament_id": "WC-1978",
          "win_diff": 2,
          "year": 1978
         },
         {
          "TotalWin_A": 6,
          "TotalWin_B": 2,
          "match_id": "M-1978-37",
          "match_info": "1978 (1 : 2)",
          "matchup": "Brazil vs Italy",
          "teamA": "Italy",
          "teamA_score": 1,
          "teamA_win": 0,
          "teamB": "Brazil",
          "teamB_score": 2,
          "teamB_win": 1,
          "tournament_id": "WC-1978",
          "win_diff": -4,
          "year": 1978
         },
         {
          "TotalWin_A": 4,
          "TotalWin_B": 2,
          "match_id": "M-1982-08",
          "match_info": "1982 (1 : 3)",
          "matchup": "England vs France",
          "teamA": "France",
          "teamA_score": 1,
          "teamA_win": 0,
          "teamB": "England",
          "teamB_score": 3,
          "teamB_win": 1,
          "tournament_id": "WC-1982",
          "win_diff": -2,
          "year": 1982
         },
         {
          "TotalWin_A": 2,
          "TotalWin_B": 4,
          "match_id": "M-1982-39",
          "match_info": "1982 (2 : 1)",
          "matchup": "Argentina vs Italy",
          "teamA": "Italy",
          "teamA_score": 2,
          "teamA_win": 1,
          "teamB": "Argentina",
          "teamB_score": 1,
          "teamB_win": 0,
          "tournament_id": "WC-1982",
          "win_diff": 2,
          "year": 1982
         },
         {
          "TotalWin_A": 2,
          "TotalWin_B": 6,
          "match_id": "M-1982-40",
          "match_info": "1982 (0 : 0)",
          "matchup": "England vs Germany",
          "teamA": "Germany",
          "teamA_score": 0,
          "teamA_win": 0,
          "teamB": "England",
          "teamB_score": 0,
          "teamB_win": 0,
          "tournament_id": "WC-1982",
          "win_diff": 4,
          "year": 1982
         },
         {
          "TotalWin_A": 2,
          "TotalWin_B": 4,
          "match_id": "M-1982-43",
          "match_info": "1982 (3 : 1)",
          "matchup": "Argentina vs Brazil",
          "teamA": "Brazil",
          "teamA_score": 3,
          "teamA_win": 1,
          "teamB": "Argentina",
          "teamB_score": 1,
          "teamB_win": 0,
          "tournament_id": "WC-1982",
          "win_diff": 2,
          "year": 1982
         },
         {
          "TotalWin_A": 4,
          "TotalWin_B": 2,
          "match_id": "M-1982-44",
          "match_info": "1982 (1 : 2)",
          "matchup": "Germany vs Spain",
          "teamA": "Spain",
          "teamA_score": 1,
          "teamA_win": 0,
          "teamB": "Germany",
          "teamB_score": 2,
          "teamB_win": 1,
          "tournament_id": "WC-1982",
          "win_diff": -2,
          "year": 1982
         },
         {
          "TotalWin_A": 6,
          "TotalWin_B": 2,
          "match_id": "M-1982-47",
          "match_info": "1982 (3 : 2)",
          "matchup": "Brazil vs Italy",
          "teamA": "Italy",
          "teamA_score": 3,
          "teamA_win": 1,
          "teamB": "Brazil",
          "teamB_score": 2,
          "teamB_win": 0,
          "tournament_id": "WC-1982",
          "win_diff": -4,
          "year": 1982
         },
         {
          "TotalWin_A": 0,
          "TotalWin_B": 2,
          "match_id": "M-1982-48",
          "match_info": "1982 (0 : 0)",
          "matchup": "England vs Spain",
          "teamA": "Spain",
          "teamA_score": 0,
          "teamA_win": 0,
          "teamB": "England",
          "teamB_score": 0,
          "teamB_win": 0,
          "tournament_id": "WC-1982",
          "win_diff": 2,
          "year": 1982
         },
         {
          "TotalWin_A": 2,
          "TotalWin_B": 6,
          "match_id": "M-1982-50",
          "match_info": "1982 (3 : 3)",
          "matchup": "France vs Germany",
          "teamA": "Germany",
          "teamA_score": 3,
          "teamA_win": 1,
          "teamB": "France",
          "teamB_score": 3,
          "teamB_win": 0,
          "tournament_id": "WC-1982",
          "win_diff": 4,
          "year": 1982
         },
         {
          "TotalWin_A": 0,
          "TotalWin_B": 6,
          "match_id": "M-1982-52",
          "match_info": "1982 (3 : 1)",
          "matchup": "Germany vs Italy",
          "teamA": "Italy",
          "teamA_score": 3,
          "teamA_win": 1,
          "teamB": "Germany",
          "teamB_score": 1,
          "teamB_win": 0,
          "tournament_id": "WC-1982",
          "win_diff": 6,
          "year": 1982
         },
         {
          "TotalWin_A": 6,
          "TotalWin_B": 0,
          "match_id": "M-1986-02",
          "match_info": "1986 (0 : 1)",
          "matchup": "Brazil vs Spain",
          "teamA": "Spain",
          "teamA_score": 0,
          "teamA_win": 0,
          "teamB": "Brazil",
          "teamB_score": 1,
          "teamB_win": 1,
          "tournament_id": "WC-1986",
          "win_diff": -6,
          "year": 1986
         },
         {
          "TotalWin_A": 6,
          "TotalWin_B": 0,
          "match_id": "M-1986-11",
          "match_info": "1986 (1 : 1)",
          "matchup": "Germany vs Uruguay",
          "teamA": "Uruguay",
          "teamA_score": 1,
          "teamA_win": 0,
          "teamB": "Germany",
          "teamB_score": 1,
          "teamB_win": 0,
          "tournament_id": "WC-1986",
          "win_diff": -6,
          "year": 1986
         },
         {
          "TotalWin_A": 2,
          "TotalWin_B": 4,
          "match_id": "M-1986-13",
          "match_info": "1986 (1 : 1)",
          "matchup": "Argentina vs Italy",
          "teamA": "Italy",
          "teamA_score": 1,
          "teamA_win": 0,
          "teamB": "Argentina",
          "teamB_score": 1,
          "teamB_win": 0,
          "tournament_id": "WC-1986",
          "win_diff": 2,
          "year": 1986
         },
         {
          "TotalWin_A": 2,
          "TotalWin_B": 0,
          "match_id": "M-1986-40",
          "match_info": "1986 (0 : 1)",
          "matchup": "Argentina vs Uruguay",
          "teamA": "Uruguay",
          "teamA_score": 0,
          "teamA_win": 0,
          "teamB": "Argentina",
          "teamB_score": 1,
          "teamB_win": 1,
          "tournament_id": "WC-1986",
          "win_diff": -2,
          "year": 1986
         },
         {
          "TotalWin_A": 4,
          "TotalWin_B": 4,
          "match_id": "M-1986-41",
          "match_info": "1986 (0 : 2)",
          "matchup": "France vs Italy",
          "teamA": "Italy",
          "teamA_score": 0,
          "teamA_win": 0,
          "teamB": "France",
          "teamB_score": 2,
          "teamB_win": 1,
          "tournament_id": "WC-1986",
          "win_diff": 0,
          "year": 1986
         },
         {
          "TotalWin_A": 2,
          "TotalWin_B": 6,
          "match_id": "M-1986-45",
          "match_info": "1986 (1 : 1)",
          "matchup": "Brazil vs France",
          "teamA": "France",
          "teamA_score": 1,
          "teamA_win": 1,
          "teamB": "Brazil",
          "teamB_score": 1,
          "teamB_win": 0,
          "tournament_id": "WC-1986",
          "win_diff": 4,
          "year": 1986
         },
         {
          "TotalWin_A": 4,
          "TotalWin_B": 6,
          "match_id": "M-1986-47",
          "match_info": "1986 (1 : 2)",
          "matchup": "Argentina vs England",
          "teamA": "England",
          "teamA_score": 1,
          "teamA_win": 0,
          "teamB": "Argentina",
          "teamB_score": 2,
          "teamB_win": 1,
          "tournament_id": "WC-1986",
          "win_diff": 2,
          "year": 1986
         },
         {
          "TotalWin_A": 2,
          "TotalWin_B": 6,
          "match_id": "M-1986-49",
          "match_info": "1986 (2 : 0)",
          "matchup": "France vs Germany",
          "teamA": "Germany",
          "teamA_score": 2,
          "teamA_win": 1,
          "teamB": "France",
          "teamB_score": 0,
          "teamB_win": 0,
          "tournament_id": "WC-1986",
          "win_diff": 4,
          "year": 1986
         },
         {
          "TotalWin_A": 2,
          "TotalWin_B": 10,
          "match_id": "M-1986-52",
          "match_info": "1986 (2 : 3)",
          "matchup": "Argentina vs Germany",
          "teamA": "Germany",
          "teamA_score": 2,
          "teamA_win": 0,
          "teamB": "Argentina",
          "teamB_score": 3,
          "teamB_win": 1,
          "tournament_id": "WC-1986",
          "win_diff": 8,
          "year": 1986
         },
         {
          "TotalWin_A": 0,
          "TotalWin_B": 0,
          "match_id": "M-1990-12",
          "match_info": "1990 (0 : 0)",
          "matchup": "Spain vs Uruguay",
          "teamA": "Uruguay",
          "teamA_score": 0,
          "teamA_win": 0,
          "teamB": "Spain",
          "teamB_score": 0,
          "teamB_win": 0,
          "tournament_id": "WC-1990",
          "win_diff": 0,
          "year": 1990
         },
         {
          "TotalWin_A": 2,
          "TotalWin_B": 4,
          "match_id": "M-1990-39",
          "match_info": "1990 (0 : 1)",
          "matchup": "Argentina vs Brazil",
          "teamA": "Brazil",
          "teamA_score": 0,
          "teamA_win": 0,
          "teamB": "Argentina",
          "teamB_score": 1,
          "teamB_win": 1,
          "tournament_id": "WC-1990",
          "win_diff": 2,
          "year": 1990
         },
         {
          "TotalWin_A": 2,
          "TotalWin_B": 2,
          "match_id": "M-1990-42",
          "match_info": "1990 (0 : 2)",
          "matchup": "Italy vs Uruguay",
          "teamA": "Uruguay",
          "teamA_score": 0,
          "teamA_win": 0,
          "teamB": "Italy",
          "teamB_score": 2,
          "teamB_win": 1,
          "tournament_id": "WC-1990",
          "win_diff": 0,
          "year": 1990
         },
         {
          "TotalWin_A": 2,
          "TotalWin_B": 4,
          "match_id": "M-1990-49",
          "match_info": "1990 (1 : 1)",
          "matchup": "Argentina vs Italy",
          "teamA": "Italy",
          "teamA_score": 1,
          "teamA_win": 0,
          "teamB": "Argentina",
          "teamB_score": 1,
          "teamB_win": 1,
          "tournament_id": "WC-1990",
          "win_diff": 2,
          "year": 1990
         },
         {
          "TotalWin_A": 2,
          "TotalWin_B": 6,
          "match_id": "M-1990-50",
          "match_info": "1990 (1 : 1)",
          "matchup": "England vs Germany",
          "teamA": "Germany",
          "teamA_score": 1,
          "teamA_win": 1,
          "teamB": "England",
          "teamB_score": 1,
          "teamB_win": 0,
          "tournament_id": "WC-1990",
          "win_diff": 4,
          "year": 1990
         },
         {
          "TotalWin_A": 0,
          "TotalWin_B": 4,
          "match_id": "M-1990-51",
          "match_info": "1990 (2 : 1)",
          "matchup": "England vs Italy",
          "teamA": "Italy",
          "teamA_score": 2,
          "teamA_win": 1,
          "teamB": "England",
          "teamB_score": 1,
          "teamB_win": 0,
          "tournament_id": "WC-1990",
          "win_diff": 4,
          "year": 1990
         },
         {
          "TotalWin_A": 2,
          "TotalWin_B": 10,
          "match_id": "M-1990-52",
          "match_info": "1990 (1 : 0)",
          "matchup": "Argentina vs Germany",
          "teamA": "Germany",
          "teamA_score": 1,
          "teamA_win": 1,
          "teamB": "Argentina",
          "teamB_score": 0,
          "teamB_win": 0,
          "tournament_id": "WC-1990",
          "win_diff": 8,
          "year": 1990
         },
         {
          "TotalWin_A": 4,
          "TotalWin_B": 2,
          "match_id": "M-1994-12",
          "match_info": "1994 (1 : 1)",
          "matchup": "Germany vs Spain",
          "teamA": "Spain",
          "teamA_score": 1,
          "teamA_win": 0,
          "teamB": "Germany",
          "teamB_score": 1,
          "teamB_win": 0,
          "tournament_id": "WC-1994",
          "win_diff": -2,
          "year": 1994
         },
         {
          "TotalWin_A": 2,
          "TotalWin_B": 0,
          "match_id": "M-1994-45",
          "match_info": "1994 (1 : 2)",
          "matchup": "Italy vs Spain",
          "teamA": "Spain",
          "teamA_score": 1,
          "teamA_win": 0,
          "teamB": "Italy",
          "teamB_score": 2,
          "teamB_win": 1,
          "tournament_id": "WC-1994",
          "win_diff": -2,
          "year": 1994
         },
         {
          "TotalWin_A": 6,
          "TotalWin_B": 2,
          "match_id": "M-1994-52",
          "match_info": "1994 (0 : 0)",
          "matchup": "Brazil vs Italy",
          "teamA": "Italy",
          "teamA_score": 0,
          "teamA_win": 0,
          "teamB": "Brazil",
          "teamB_score": 0,
          "teamB_win": 1,
          "tournament_id": "WC-1994",
          "win_diff": -4,
          "year": 1994
         },
         {
          "TotalWin_A": 4,
          "TotalWin_B": 6,
          "match_id": "M-1998-56",
          "match_info": "1998 (2 : 2)",
          "matchup": "Argentina vs England",
          "teamA": "England",
          "teamA_score": 2,
          "teamA_win": 0,
          "teamB": "Argentina",
          "teamB_score": 2,
          "teamB_win": 1,
          "tournament_id": "WC-1998",
          "win_diff": 2,
          "year": 1998
         },
         {
          "TotalWin_A": 4,
          "TotalWin_B": 4,
          "match_id": "M-1998-57",
          "match_info": "1998 (0 : 0)",
          "matchup": "France vs Italy",
          "teamA": "Italy",
          "teamA_score": 0,
          "teamA_win": 0,
          "teamB": "France",
          "teamB_score": 0,
          "teamB_win": 1,
          "tournament_id": "WC-1998",
          "win_diff": 0,
          "year": 1998
         },
         {
          "TotalWin_A": 2,
          "TotalWin_B": 6,
          "match_id": "M-1998-64",
          "match_info": "1998 (3 : 0)",
          "matchup": "Brazil vs France",
          "teamA": "France",
          "teamA_score": 3,
          "teamA_win": 1,
          "teamB": "Brazil",
          "teamB_score": 0,
          "teamB_win": 0,
          "tournament_id": "WC-1998",
          "win_diff": 4,
          "year": 1998
         },
         {
          "TotalWin_A": 2,
          "TotalWin_B": 2,
          "match_id": "M-2002-20",
          "match_info": "2002 (0 : 0)",
          "matchup": "France vs Uruguay",
          "teamA": "Uruguay",
          "teamA_score": 0,
          "teamA_win": 0,
          "teamB": "France",
          "teamB_score": 0,
          "teamB_win": 0,
          "tournament_id": "WC-2002",
          "win_diff": 0,
          "year": 2002
         },
         {
          "TotalWin_A": 4,
          "TotalWin_B": 6,
          "match_id": "M-2002-23",
          "match_info": "2002 (1 : 0)",
          "matchup": "Argentina vs England",
          "teamA": "England",
          "teamA_score": 1,
          "teamA_win": 1,
          "teamB": "Argentina",
          "teamB_score": 0,
          "teamB_win": 0,
          "tournament_id": "WC-2002",
          "win_diff": 2,
          "year": 2002
         },
         {
          "TotalWin_A": 6,
          "TotalWin_B": 0,
          "match_id": "M-2002-57",
          "match_info": "2002 (1 : 2)",
          "matchup": "Brazil vs England",
          "teamA": "England",
          "teamA_score": 1,
          "teamA_win": 0,
          "teamB": "Brazil",
          "teamB_score": 2,
          "teamB_win": 1,
          "tournament_id": "WC-2002",
          "win_diff": -6,
          "year": 2002
         },
         {
          "TotalWin_A": 2,
          "TotalWin_B": 2,
          "match_id": "M-2002-64",
          "match_info": "2002 (0 : 2)",
          "matchup": "Brazil vs Germany",
          "teamA": "Germany",
          "teamA_score": 0,
          "teamA_win": 0,
          "teamB": "Brazil",
          "teamB_score": 2,
          "teamB_win": 1,
          "tournament_id": "WC-2002",
          "win_diff": 0,
          "year": 2002
         },
         {
          "TotalWin_A": 2,
          "TotalWin_B": 0,
          "match_id": "M-2006-56",
          "match_info": "2006 (1 : 3)",
          "matchup": "France vs Spain",
          "teamA": "Spain",
          "teamA_score": 1,
          "teamA_win": 0,
          "teamB": "France",
          "teamB_score": 3,
          "teamB_win": 1,
          "tournament_id": "WC-2006",
          "win_diff": -2,
          "year": 2006
         },
         {
          "TotalWin_A": 2,
          "TotalWin_B": 10,
          "match_id": "M-2006-57",
          "match_info": "2006 (1 : 1)",
          "matchup": "Argentina vs Germany",
          "teamA": "Germany",
          "teamA_score": 1,
          "teamA_win": 1,
          "teamB": "Argentina",
          "teamB_score": 1,
          "teamB_win": 0,
          "tournament_id": "WC-2006",
          "win_diff": 8,
          "year": 2006
         },
         {
          "TotalWin_A": 2,
          "TotalWin_B": 6,
          "match_id": "M-2006-60",
          "match_info": "2006 (1 : 0)",
          "matchup": "Brazil vs France",
          "teamA": "France",
          "teamA_score": 1,
          "teamA_win": 1,
          "teamB": "Brazil",
          "teamB_score": 0,
          "teamB_win": 0,
          "tournament_id": "WC-2006",
          "win_diff": 4,
          "year": 2006
         },
         {
          "TotalWin_A": 0,
          "TotalWin_B": 6,
          "match_id": "M-2006-61",
          "match_info": "2006 (2 : 0)",
          "matchup": "Germany vs Italy",
          "teamA": "Italy",
          "teamA_score": 2,
          "teamA_win": 1,
          "teamB": "Germany",
          "teamB_score": 0,
          "teamB_win": 0,
          "tournament_id": "WC-2006",
          "win_diff": 6,
          "year": 2006
         },
         {
          "TotalWin_A": 4,
          "TotalWin_B": 4,
          "match_id": "M-2006-64",
          "match_info": "2006 (1 : 1)",
          "matchup": "France vs Italy",
          "teamA": "Italy",
          "teamA_score": 1,
          "teamA_win": 1,
          "teamB": "France",
          "teamB_score": 1,
          "teamB_win": 0,
          "tournament_id": "WC-2006",
          "win_diff": 0,
          "year": 2006
         },
         {
          "TotalWin_A": 2,
          "TotalWin_B": 2,
          "match_id": "M-2010-02",
          "match_info": "2010 (0 : 0)",
          "matchup": "France vs Uruguay",
          "teamA": "Uruguay",
          "teamA_score": 0,
          "teamA_win": 0,
          "teamB": "France",
          "teamB_score": 0,
          "teamB_win": 0,
          "tournament_id": "WC-2010",
          "win_diff": 0,
          "year": 2010
         },
         {
          "TotalWin_A": 2,
          "TotalWin_B": 6,
          "match_id": "M-2010-51",
          "match_info": "2010 (4 : 1)",
          "matchup": "England vs Germany",
          "teamA": "Germany",
          "teamA_score": 4,
          "teamA_win": 1,
          "teamB": "England",
          "teamB_score": 1,
          "teamB_win": 0,
          "tournament_id": "WC-2010",
          "win_diff": 4,
          "year": 2010
         },
         {
          "TotalWin_A": 2,
          "TotalWin_B": 10,
          "match_id": "M-2010-59",
          "match_info": "2010 (4 : 0)",
          "matchup": "Argentina vs Germany",
          "teamA": "Germany",
          "teamA_score": 4,
          "teamA_win": 1,
          "teamB": "Argentina",
          "teamB_score": 0,
          "teamB_win": 0,
          "tournament_id": "WC-2010",
          "win_diff": 8,
          "year": 2010
         },
         {
          "TotalWin_A": 4,
          "TotalWin_B": 2,
          "match_id": "M-2010-62",
          "match_info": "2010 (1 : 0)",
          "matchup": "Germany vs Spain",
          "teamA": "Spain",
          "teamA_score": 1,
          "teamA_win": 1,
          "teamB": "Germany",
          "teamB_score": 0,
          "teamB_win": 0,
          "tournament_id": "WC-2010",
          "win_diff": -2,
          "year": 2010
         },
         {
          "TotalWin_A": 6,
          "TotalWin_B": 0,
          "match_id": "M-2010-63",
          "match_info": "2010 (2 : 3)",
          "matchup": "Germany vs Uruguay",
          "teamA": "Uruguay",
          "teamA_score": 2,
          "teamA_win": 0,
          "teamB": "Germany",
          "teamB_score": 3,
          "teamB_win": 1,
          "tournament_id": "WC-2010",
          "win_diff": -6,
          "year": 2010
         },
         {
          "TotalWin_A": 0,
          "TotalWin_B": 4,
          "match_id": "M-2014-07",
          "match_info": "2014 (2 : 1)",
          "matchup": "England vs Italy",
          "teamA": "Italy",
          "teamA_score": 2,
          "teamA_win": 1,
          "teamB": "England",
          "teamB_score": 1,
          "teamB_win": 0,
          "tournament_id": "WC-2014",
          "win_diff": 4,
          "year": 2014
         },
         {
          "TotalWin_A": 0,
          "TotalWin_B": 4,
          "match_id": "M-2014-22",
          "match_info": "2014 (2 : 1)",
          "matchup": "England vs Uruguay",
          "teamA": "Uruguay",
          "teamA_score": 2,
          "teamA_win": 1,
          "teamB": "England",
          "teamB_score": 1,
          "teamB_win": 0,
          "tournament_id": "WC-2014",
          "win_diff": 4,
          "year": 2014
         },
         {
          "TotalWin_A": 2,
          "TotalWin_B": 2,
          "match_id": "M-2014-38",
          "match_info": "2014 (1 : 0)",
          "matchup": "Italy vs Uruguay",
          "teamA": "Uruguay",
          "teamA_score": 1,
          "teamA_win": 1,
          "teamB": "Italy",
          "teamB_score": 0,
          "teamB_win": 0,
          "tournament_id": "WC-2014",
          "win_diff": 0,
          "year": 2014
         },
         {
          "TotalWin_A": 2,
          "TotalWin_B": 6,
          "match_id": "M-2014-57",
          "match_info": "2014 (1 : 0)",
          "matchup": "France vs Germany",
          "teamA": "Germany",
          "teamA_score": 1,
          "teamA_win": 1,
          "teamB": "France",
          "teamB_score": 0,
          "teamB_win": 0,
          "tournament_id": "WC-2014",
          "win_diff": 4,
          "year": 2014
         },
         {
          "TotalWin_A": 2,
          "TotalWin_B": 2,
          "match_id": "M-2014-61",
          "match_info": "2014 (7 : 1)",
          "matchup": "Brazil vs Germany",
          "teamA": "Germany",
          "teamA_score": 7,
          "teamA_win": 1,
          "teamB": "Brazil",
          "teamB_score": 1,
          "teamB_win": 0,
          "tournament_id": "WC-2014",
          "win_diff": 0,
          "year": 2014
         },
         {
          "TotalWin_A": 2,
          "TotalWin_B": 10,
          "match_id": "M-2014-64",
          "match_info": "2014 (1 : 0)",
          "matchup": "Argentina vs Germany",
          "teamA": "Germany",
          "teamA_score": 1,
          "teamA_win": 1,
          "teamB": "Argentina",
          "teamB_score": 0,
          "teamB_win": 0,
          "tournament_id": "WC-2014",
          "win_diff": 8,
          "year": 2014
         },
         {
          "TotalWin_A": 4,
          "TotalWin_B": 2,
          "match_id": "M-2018-49",
          "match_info": "2018 (4 : 3)",
          "matchup": "Argentina vs France",
          "teamA": "France",
          "teamA_score": 4,
          "teamA_win": 1,
          "teamB": "Argentina",
          "teamB_score": 3,
          "teamB_win": 0,
          "tournament_id": "WC-2018",
          "win_diff": -2,
          "year": 2018
         },
         {
          "TotalWin_A": 2,
          "TotalWin_B": 2,
          "match_id": "M-2018-57",
          "match_info": "2018 (0 : 2)",
          "matchup": "France vs Uruguay",
          "teamA": "Uruguay",
          "teamA_score": 0,
          "teamA_win": 0,
          "teamB": "France",
          "teamB_score": 2,
          "teamB_win": 1,
          "tournament_id": "WC-2018",
          "win_diff": 0,
          "year": 2018
         },
         {
          "TotalWin_A": 4,
          "TotalWin_B": 2,
          "match_id": "M-2022-28",
          "match_info": "2022 (1 : 1)",
          "matchup": "Germany vs Spain",
          "teamA": "Spain",
          "teamA_score": 1,
          "teamA_win": 0,
          "teamB": "Germany",
          "teamB_score": 1,
          "teamB_win": 0,
          "tournament_id": "WC-2022",
          "win_diff": -2,
          "year": 2022
         },
         {
          "TotalWin_A": 4,
          "TotalWin_B": 2,
          "match_id": "M-2022-60",
          "match_info": "2022 (2 : 1)",
          "matchup": "England vs France",
          "teamA": "France",
          "teamA_score": 2,
          "teamA_win": 1,
          "teamB": "England",
          "teamB_score": 1,
          "teamB_win": 0,
          "tournament_id": "WC-2022",
          "win_diff": -2,
          "year": 2022
         },
         {
          "TotalWin_A": 4,
          "TotalWin_B": 2,
          "match_id": "M-2022-64",
          "match_info": "2022 (3 : 3)",
          "matchup": "Argentina vs France",
          "teamA": "France",
          "teamA_score": 3,
          "teamA_win": 0,
          "teamB": "Argentina",
          "teamB_score": 3,
          "teamB_win": 1,
          "tournament_id": "WC-2022",
          "win_diff": -2,
          "year": 2022
         }
        ]
       },
       "params": [
        {
         "name": "param_46",
         "select": {
          "fields": [
           "teamA",
           "teamB"
          ],
          "on": "mouseover",
          "type": "point"
         },
         "views": [
          "view_58"
         ]
        }
       ],
       "resolve": {
        "scale": {
         "x": "independent",
         "y": "independent"
        }
       },
       "vconcat": [
        {
         "encoding": {
          "color": {
           "field": "win_diff",
           "legend": {
            "legendX": 730,
            "legendY": 30,
            "orient": "none",
            "titleAnchor": "start"
           },
           "scale": {
            "domainMid": 0,
            "range": [
             "red",
             "white",
             "green"
            ]
           },
           "title": "win_ratio",
           "type": "quantitative"
          },
          "tooltip": [
           {
            "field": "matchup",
            "title": null,
            "type": "nominal"
           }
          ],
          "x": {
           "axis": {
            "labelAngle": -50
           },
           "field": "teamA",
           "sort": "x",
           "title": null,
           "type": "nominal"
          },
          "y": {
           "field": "teamB",
           "sort": "y",
           "title": null,
           "type": "nominal"
          }
         },
         "height": 300,
         "mark": {
          "type": "rect"
         },
         "name": "view_58",
         "width": 700
        },
        {
         "resolve": {
          "scale": {
           "x": "independent",
           "y": "independent"
          }
         },
         "vconcat": [
          {
           "encoding": {
            "text": {
             "field": "matchup",
             "type": "nominal"
            },
            "x": {
             "value": 350
            }
           },
           "height": 50,
           "mark": {
            "align": "center",
            "baseline": "middle",
            "color": "white",
            "size": 35,
            "type": "text"
           },
           "transform": [
            {
             "filter": {
              "empty": false,
              "param": "param_46"
             }
            }
           ],
           "width": 700
          },
          {
           "hconcat": [
            {
             "encoding": {
              "x": {
               "axis": {
                "grid": true
               },
               "field": "teamA_score",
               "scale": {
                "domain": [
                 0,
                 8
                ],
                "reverse": true
               },
               "title": null,
               "type": "quantitative"
              },
              "y": {
               "axis": null,
               "field": "match_id",
               "title": null,
               "type": "nominal"
              }
             },
             "height": 250,
             "mark": {
              "baseline": "middle",
              "size": 30,
              "text": "⚽",
              "type": "text"
             },
             "transform": [
              {
               "filter": {
                "empty": false,
                "param": "param_46"
               }
              }
             ],
             "width": 300
            },
            {
             "encoding": {
              "text": {
               "field": "match_info",
               "type": "nominal"
              },
              "y": {
               "axis": {
                "domain": false,
                "labels": false,
                "ticks": false,
                "title": null
               },
               "field": "match_id",
               "type": "nominal"
              }
             },
             "height": 250,
             "mark": {
              "align": "center",
              "color": "white",
              "size": 12,
              "type": "text"
             },
             "transform": [
              {
               "filter": {
                "empty": false,
                "param": "param_46"
               }
              }
             ],
             "width": 50
            },
            {
             "encoding": {
              "x": {
               "axis": {
                "grid": true
               },
               "field": "teamB_score",
               "scale": {
                "domain": [
                 0,
                 8
                ]
               },
               "title": null,
               "type": "quantitative"
              },
              "y": {
               "axis": null,
               "field": "match_id",
               "title": null,
               "type": "nominal"
              }
             },
             "height": 250,
             "mark": {
              "baseline": "middle",
              "size": 30,
              "text": "⚽",
              "type": "text"
             },
             "transform": [
              {
               "filter": {
                "empty": false,
                "param": "param_46"
               }
              }
             ],
             "width": 300
            }
           ],
           "resolve": {
            "scale": {
             "x": "independent",
             "y": "shared"
            }
           }
          }
         ]
        }
       ]
      },
      "text/plain": [
       "<VegaLite 5 object>\n",
       "\n",
       "If you see this message, it means the renderer has not been properly enabled\n",
       "for the frontend that you are using. For more information, see\n",
       "https://altair-viz.github.io/user_guide/display_frontends.html#troubleshooting\n"
      ]
     },
     "execution_count": 211,
     "metadata": {},
     "output_type": "execute_result"
    }
   ],
   "source": [
    "text_chart = (left_goals|middle_text|right_goals).resolve_scale(x='independent', y='shared')\n",
    "text_chart =  alt.vconcat(\n",
    "    Title,\n",
    "    text_chart).resolve_scale(x='independent', y='independent')\n",
    "\n",
    "final_viz2 = alt.vconcat(\n",
    "    heatmap,\n",
    "    text_chart\n",
    ").resolve_scale(x='independent', y='independent').configure_view(strokeWidth=0)\n",
    "\n",
    "final_viz2"
   ]
  },
  {
   "cell_type": "markdown",
   "metadata": {},
   "source": [
    "# Visualization 3: Timing of World Cup Goals\n",
    "\n",
    "We will replicate the following visualization: <br>\n",
    "<img src=\"https://raw.githubusercontent.com/grill/SI649-hw-interaction/main/linegoal.png?raw=true\" alt=\"drawing\" width=\"500\"/>\n",
    "\n",
    "**Description of the visualization (static):**\n",
    "*   Use *df_goals* for this exercise\n",
    "*   This visualization has 4 components: **line chart**, **vertical line**, **points** and **texts** \n",
    "\n",
    "**Description of the visualization (interactive):**\n",
    "1. Enable zooming and panning along the x-axis. (The gif below only displays the line chart.) <br>\n",
    "<img src=\"https://raw.githubusercontent.com/grill/SI649-hw-interaction/main/linegoal_zoom.gif?raw=true\" alt=\"drawing\" width=\"500\"/>\n",
    "2. Display a vertical line that moves with the mouse. This will require you to add additional chart component(let's call it **vLine**). <br>\n",
    "<img src=\"https://raw.githubusercontent.com/grill/SI649-hw-interaction/main/linegoal_moveline.gif?raw=true\" alt=\"drawing\" width=\"500\"/>\n",
    "3. Display the intersection of the **vLine** with the **line chart** as 1 circle (let's call this circle **intersection dot**). \n",
    "4. When hovering over this **intersection dot**, display *how many goals were scored this minute* in text label.   <br>\n",
    "<img src=\"https://raw.githubusercontent.com/grill/SI649-hw-interaction/main/linegoal_points.gif?raw=true\" alt=\"drawing\" width=\"500\"/>"
   ]
  },
  {
   "cell_type": "code",
   "execution_count": 223,
   "metadata": {},
   "outputs": [
    {
     "data": {
      "application/vnd.vegalite.v5+json": {
       "$schema": "https://vega.github.io/schema/vega-lite/v5.20.1.json",
       "config": {
        "view": {
         "continuousHeight": 300,
         "continuousWidth": 300
        }
       },
       "data": {
        "name": "data-f6ba08bd0aa20cd3545e1def78bb403e"
       },
       "datasets": {
        "data-f6ba08bd0aa20cd3545e1def78bb403e": [
         {
          "Goals": 18,
          "minute": 1
         },
         {
          "Goals": 19,
          "minute": 2
         },
         {
          "Goals": 24,
          "minute": 3
         },
         {
          "Goals": 41,
          "minute": 4
         },
         {
          "Goals": 34,
          "minute": 5
         },
         {
          "Goals": 32,
          "minute": 6
         },
         {
          "Goals": 30,
          "minute": 7
         },
         {
          "Goals": 33,
          "minute": 8
         },
         {
          "Goals": 30,
          "minute": 9
         },
         {
          "Goals": 36,
          "minute": 10
         },
         {
          "Goals": 39,
          "minute": 11
         },
         {
          "Goals": 44,
          "minute": 12
         },
         {
          "Goals": 27,
          "minute": 13
         },
         {
          "Goals": 30,
          "minute": 14
         },
         {
          "Goals": 40,
          "minute": 15
         },
         {
          "Goals": 29,
          "minute": 16
         },
         {
          "Goals": 42,
          "minute": 17
         },
         {
          "Goals": 45,
          "minute": 18
         },
         {
          "Goals": 29,
          "minute": 19
         },
         {
          "Goals": 36,
          "minute": 20
         },
         {
          "Goals": 34,
          "minute": 21
         },
         {
          "Goals": 32,
          "minute": 22
         },
         {
          "Goals": 37,
          "minute": 23
         },
         {
          "Goals": 39,
          "minute": 24
         },
         {
          "Goals": 37,
          "minute": 25
         },
         {
          "Goals": 37,
          "minute": 26
         },
         {
          "Goals": 35,
          "minute": 27
         },
         {
          "Goals": 21,
          "minute": 28
         },
         {
          "Goals": 44,
          "minute": 29
         },
         {
          "Goals": 23,
          "minute": 30
         },
         {
          "Goals": 38,
          "minute": 31
         },
         {
          "Goals": 30,
          "minute": 32
         },
         {
          "Goals": 24,
          "minute": 33
         },
         {
          "Goals": 32,
          "minute": 34
         },
         {
          "Goals": 38,
          "minute": 35
         },
         {
          "Goals": 33,
          "minute": 36
         },
         {
          "Goals": 36,
          "minute": 37
         },
         {
          "Goals": 41,
          "minute": 38
         },
         {
          "Goals": 44,
          "minute": 39
         },
         {
          "Goals": 33,
          "minute": 40
         },
         {
          "Goals": 19,
          "minute": 41
         },
         {
          "Goals": 34,
          "minute": 42
         },
         {
          "Goals": 36,
          "minute": 43
         },
         {
          "Goals": 46,
          "minute": 44
         },
         {
          "Goals": 25,
          "minute": 45
         },
         {
          "Goals": 32,
          "minute": 46
         },
         {
          "Goals": 28,
          "minute": 47
         },
         {
          "Goals": 44,
          "minute": 48
         },
         {
          "Goals": 34,
          "minute": 49
         },
         {
          "Goals": 50,
          "minute": 50
         },
         {
          "Goals": 44,
          "minute": 51
         },
         {
          "Goals": 43,
          "minute": 52
         },
         {
          "Goals": 34,
          "minute": 53
         },
         {
          "Goals": 46,
          "minute": 54
         },
         {
          "Goals": 48,
          "minute": 55
         },
         {
          "Goals": 40,
          "minute": 56
         },
         {
          "Goals": 44,
          "minute": 57
         },
         {
          "Goals": 37,
          "minute": 58
         },
         {
          "Goals": 35,
          "minute": 59
         },
         {
          "Goals": 48,
          "minute": 60
         },
         {
          "Goals": 37,
          "minute": 61
         },
         {
          "Goals": 42,
          "minute": 62
         },
         {
          "Goals": 34,
          "minute": 63
         },
         {
          "Goals": 36,
          "minute": 64
         },
         {
          "Goals": 43,
          "minute": 65
         },
         {
          "Goals": 41,
          "minute": 66
         },
         {
          "Goals": 45,
          "minute": 67
         },
         {
          "Goals": 43,
          "minute": 68
         },
         {
          "Goals": 46,
          "minute": 69
         },
         {
          "Goals": 40,
          "minute": 70
         },
         {
          "Goals": 40,
          "minute": 71
         },
         {
          "Goals": 31,
          "minute": 72
         },
         {
          "Goals": 53,
          "minute": 73
         },
         {
          "Goals": 32,
          "minute": 74
         },
         {
          "Goals": 59,
          "minute": 75
         },
         {
          "Goals": 42,
          "minute": 76
         },
         {
          "Goals": 26,
          "minute": 77
         },
         {
          "Goals": 46,
          "minute": 78
         },
         {
          "Goals": 45,
          "minute": 79
         },
         {
          "Goals": 53,
          "minute": 80
         },
         {
          "Goals": 51,
          "minute": 81
         },
         {
          "Goals": 47,
          "minute": 82
         },
         {
          "Goals": 50,
          "minute": 83
         },
         {
          "Goals": 41,
          "minute": 84
         },
         {
          "Goals": 45,
          "minute": 85
         },
         {
          "Goals": 30,
          "minute": 86
         },
         {
          "Goals": 37,
          "minute": 87
         },
         {
          "Goals": 48,
          "minute": 88
         },
         {
          "Goals": 52,
          "minute": 89
         },
         {
          "Goals": 41,
          "minute": 90
         },
         {
          "Goals": 1,
          "minute": 91
         },
         {
          "Goals": 3,
          "minute": 92
         },
         {
          "Goals": 6,
          "minute": 93
         },
         {
          "Goals": 4,
          "minute": 94
         },
         {
          "Goals": 1,
          "minute": 95
         },
         {
          "Goals": 1,
          "minute": 96
         },
         {
          "Goals": 1,
          "minute": 97
         },
         {
          "Goals": 5,
          "minute": 98
         },
         {
          "Goals": 1,
          "minute": 99
         },
         {
          "Goals": 3,
          "minute": 101
         },
         {
          "Goals": 3,
          "minute": 102
         },
         {
          "Goals": 1,
          "minute": 103
         },
         {
          "Goals": 6,
          "minute": 104
         },
         {
          "Goals": 4,
          "minute": 105
         },
         {
          "Goals": 1,
          "minute": 106
         },
         {
          "Goals": 2,
          "minute": 107
         },
         {
          "Goals": 6,
          "minute": 108
         },
         {
          "Goals": 2,
          "minute": 109
         },
         {
          "Goals": 2,
          "minute": 110
         },
         {
          "Goals": 5,
          "minute": 111
         },
         {
          "Goals": 1,
          "minute": 113
         },
         {
          "Goals": 1,
          "minute": 114
         },
         {
          "Goals": 4,
          "minute": 115
         },
         {
          "Goals": 3,
          "minute": 116
         },
         {
          "Goals": 4,
          "minute": 117
         },
         {
          "Goals": 4,
          "minute": 118
         },
         {
          "Goals": 2,
          "minute": 119
         },
         {
          "Goals": 2,
          "minute": 120
         }
        ]
       },
       "height": 300,
       "layer": [
        {
         "encoding": {
          "x": {
           "axis": {
            "grid": true,
            "labels": true,
            "tickCount": 10,
            "title": "Minute"
           },
           "field": "minute",
           "type": "quantitative"
          },
          "y": {
           "field": "Goals",
           "type": "quantitative"
          }
         },
         "mark": {
          "size": 2.5,
          "type": "line"
         },
         "name": "view_64",
         "title": "Timing of World Cup Goals"
        },
        {
         "encoding": {
          "opacity": {
           "value": 0
          },
          "x": {
           "field": "minute",
           "type": "quantitative"
          }
         },
         "mark": {
          "type": "point"
         },
         "name": "view_65"
        },
        {
         "encoding": {
          "opacity": {
           "condition": {
            "empty": false,
            "param": "param_52",
            "value": 1
           },
           "value": 0
          },
          "x": {
           "axis": {
            "grid": true,
            "labels": true,
            "tickCount": 10,
            "title": "Minute"
           },
           "field": "minute",
           "type": "quantitative"
          },
          "y": {
           "field": "Goals",
           "type": "quantitative"
          }
         },
         "mark": {
          "size": 90,
          "type": "point"
         },
         "title": "Timing of World Cup Goals"
        },
        {
         "encoding": {
          "x": {
           "field": "minute",
           "type": "quantitative"
          }
         },
         "mark": {
          "color": "lightgray",
          "size": 4,
          "type": "rule"
         },
         "transform": [
          {
           "filter": {
            "empty": false,
            "param": "param_52"
           }
          }
         ]
        },
        {
         "encoding": {
          "text": {
           "condition": {
            "empty": false,
            "field": "Goals",
            "format": ".2f",
            "param": "param_52",
            "type": "quantitative"
           },
           "value": " "
          },
          "x": {
           "axis": {
            "grid": true,
            "labels": true,
            "tickCount": 10,
            "title": "Minute"
           },
           "field": "minute",
           "type": "quantitative"
          },
          "y": {
           "field": "Goals",
           "type": "quantitative"
          }
         },
         "mark": {
          "align": "left",
          "color": "lightgray",
          "dx": 7,
          "fontSize": 14,
          "type": "text"
         },
         "title": "Timing of World Cup Goals"
        }
       ],
       "params": [
        {
         "bind": "scales",
         "name": "param_51",
         "select": {
          "encodings": [
           "x"
          ],
          "type": "interval"
         },
         "views": [
          "view_64"
         ]
        },
        {
         "name": "param_52",
         "select": {
          "encodings": [
           "x"
          ],
          "nearest": true,
          "on": "mouseover",
          "type": "point"
         },
         "views": [
          "view_65"
         ]
        }
       ],
       "width": 800
      },
      "text/plain": [
       "<VegaLite 5 object>\n",
       "\n",
       "If you see this message, it means the renderer has not been properly enabled\n",
       "for the frontend that you are using. For more information, see\n",
       "https://altair-viz.github.io/user_guide/display_frontends.html#troubleshooting\n"
      ]
     },
     "execution_count": 223,
     "metadata": {},
     "output_type": "execute_result"
    }
   ],
   "source": [
    "#TODO: replicate vis3\n",
    "\n",
    "df_minute_agg = df_goals.groupby(\"minute\").size().reset_index(name=\"Goals\")\n",
    "df_minute_agg['minute'] = df_minute_agg['minute'].astype(int)\n",
    "# Create a selection for zooming and panning across the x-axis\n",
    "scale = alt.selection_interval(bind='scales', encodings=['x'])\n",
    "\n",
    "# Create a selection and condition for the vertical line, annotation dots, and text annotations\n",
    "nearest = alt.selection_point(on='mouseover', encodings=['x'], nearest=True, empty=False)\n",
    "opacityCondition = alt.condition(nearest, alt.value(1), alt.value(0))\n",
    "\n",
    "# Create the base chart and filter to All polls\n",
    "base3 = alt.Chart(df_minute_agg).mark_line(size=2.5\n",
    ").encode(\n",
    "    alt.X('minute:Q', axis=alt.Axis(labels=True, title=\"Minute\", grid=True, tickCount=alt.TickCount(10))),\n",
    "    y='Goals:Q',\n",
    ").add_params(scale).properties(\n",
    "    title='Timing of World Cup Goals'\n",
    ")\n",
    "\n",
    "# Static line chart\n",
    "\n",
    "# Vertical line\n",
    "selectors = alt.Chart(df_minute_agg).mark_point().encode(\n",
    "    x='minute:Q',\n",
    "    opacity=alt.value(0),\n",
    ").add_params(\n",
    "    nearest\n",
    ")\n",
    "\n",
    "rules = alt.Chart(df_minute_agg).mark_rule(size=4, color='lightgray').encode(\n",
    "    x='minute:Q'\n",
    ").transform_filter(\n",
    "    nearest\n",
    ")\n",
    "#interaction dots\n",
    "points = base3.mark_point(size=90).encode(\n",
    "    opacity= opacityCondition  \n",
    ")\n",
    "#interaction text labels\n",
    "text = base3.mark_text(fontSize=14, align='left', dx=7, color=\"lightgray\"\n",
    ").encode(\n",
    "    text=alt.condition(nearest, 'Goals:Q', alt.value(' '), format='.2f')\n",
    ")\n",
    "#Put them all together\n",
    "final_viz3 = alt.layer(\n",
    "    base3, selectors, points, rules, text\n",
    ").properties(\n",
    "    width=800, height=300\n",
    ")\n",
    "\n",
    "final_viz3"
   ]
  },
  {
   "cell_type": "markdown",
   "metadata": {},
   "source": [
    "# Visualization 4: Zooming in on Goals of World Cup winners since 1950\n",
    "\n",
    "We will replicate the following visualization: <br>\n",
    "<img src=\"https://raw.githubusercontent.com/grill/SI649-hw-interaction/main/zoom.png?raw=true\" alt=\"drawing\" width=\"800\"/>\n",
    "\n",
    "**Description of the visualization (static):**\n",
    "*   Use *df_goals* for this exercise\n",
    "*   This visualization has 2 components: **scatter chart original** and **line chart zoomed in** \n",
    "\n",
    "**Description of the visualization (interactivity):**\n",
    "1. Build drop down selections for the home and away team. Theoretically, two teams will be shown at any given time. <br>\n",
    "<img src=\"https://raw.githubusercontent.com/grill/SI649-hw-interaction/main/zoom_select.gif?raw=true\" alt=\"drawing\" width=\"400\"/>\n",
    "2. Brushing over the scatter chart will change the color of the points. <br>\n",
    "<img src=\"https://raw.githubusercontent.com/grill/SI649-hw-interaction/main/zoom_mouse_select.gif?raw=true\" alt=\"drawing\" width=\"400\"/>\n",
    "3. Brushing over the scatter chart will filter out the associated time interval to create a line chart. <br>\n",
    "<img src=\"https://raw.githubusercontent.com/grill/SI649-hw-interaction/main/zoom_interaction.gif?raw=true\" alt=\"drawing\" width=\"800\"/>"
   ]
  },
  {
   "cell_type": "code",
   "execution_count": 224,
   "metadata": {},
   "outputs": [],
   "source": [
    "df_4 = df_goals[df_goals['team_name'].isin(wc_winners)]\n",
    "# df_4 = df_4[df_4['tournament_id'].str[-4:].astype(int) >= 1950]\n",
    "# df_4"
   ]
  },
  {
   "cell_type": "code",
   "execution_count": 225,
   "metadata": {},
   "outputs": [],
   "source": [
    "df_4['Goals'] = df_4.groupby(['minute', \"team_name\"])['team_name'].transform('count')\n",
    "df4 = df_4.copy()"
   ]
  },
  {
   "cell_type": "code",
   "execution_count": 215,
   "metadata": {},
   "outputs": [],
   "source": [
    "teams = sorted(df4['team_name'].unique())\n",
    "\n",
    "team1_param = alt.param(\n",
    "    name='Team1',\n",
    "    value=teams[0],\n",
    "    bind=alt.binding_select(options=teams, name='Team 1')\n",
    ")\n",
    "\n",
    "team2_param = alt.param(\n",
    "    name='Team2',\n",
    "    value=teams[1] if len(teams) > 1 else teams[0],\n",
    "    bind=alt.binding_select(options=teams, name='Team 2')\n",
    ")\n",
    "\n",
    "team_filter = alt.expr(\"datum.team_name === Team1 || datum.team_name === Team2\")\n",
    "brush = alt.selection_interval(encodings=['x','y'], name=\"time_brush\")\n"
   ]
  },
  {
   "cell_type": "code",
   "execution_count": null,
   "metadata": {},
   "outputs": [
    {
     "data": {
      "application/vnd.vegalite.v5+json": {
       "$schema": "https://vega.github.io/schema/vega-lite/v5.20.1.json",
       "config": {
        "view": {
         "continuousHeight": 300,
         "continuousWidth": 300
        }
       },
       "data": {
        "name": "data-88fe94d3cfc62646ed609b171f5c2518"
       },
       "datasets": {
        "data-88fe94d3cfc62646ed609b171f5c2518": [
         {
          "Goals": 2,
          "goal_id": "G-0001",
          "match_id": "M-1930-01",
          "minute": 19,
          "team_name": "France",
          "tournament_id": "WC-1930"
         },
         {
          "Goals": 4,
          "goal_id": "G-0002",
          "match_id": "M-1930-01",
          "minute": 40,
          "team_name": "France",
          "tournament_id": "WC-1930"
         },
         {
          "Goals": 3,
          "goal_id": "G-0003",
          "match_id": "M-1930-01",
          "minute": 43,
          "team_name": "France",
          "tournament_id": "WC-1930"
         },
         {
          "Goals": 1,
          "goal_id": "G-0005",
          "match_id": "M-1930-01",
          "minute": 87,
          "team_name": "France",
          "tournament_id": "WC-1930"
         },
         {
          "Goals": 7,
          "goal_id": "G-0011",
          "match_id": "M-1930-03",
          "minute": 62,
          "team_name": "Brazil",
          "tournament_id": "WC-1930"
         },
         {
          "Goals": 3,
          "goal_id": "G-0016",
          "match_id": "M-1930-05",
          "minute": 81,
          "team_name": "Argentina",
          "tournament_id": "WC-1930"
         },
         {
          "Goals": 1,
          "goal_id": "G-0027",
          "match_id": "M-1930-09",
          "minute": 65,
          "team_name": "Uruguay",
          "tournament_id": "WC-1930"
         },
         {
          "Goals": 2,
          "goal_id": "G-0029",
          "match_id": "M-1930-11",
          "minute": 8,
          "team_name": "Argentina",
          "tournament_id": "WC-1930"
         },
         {
          "Goals": 2,
          "goal_id": "G-0030",
          "match_id": "M-1930-11",
          "minute": 12,
          "team_name": "Argentina",
          "tournament_id": "WC-1930"
         },
         {
          "Goals": 3,
          "goal_id": "G-0031",
          "match_id": "M-1930-11",
          "minute": 17,
          "team_name": "Argentina",
          "tournament_id": "WC-1930"
         },
         {
          "Goals": 1,
          "goal_id": "G-0033",
          "match_id": "M-1930-11",
          "minute": 53,
          "team_name": "Argentina",
          "tournament_id": "WC-1930"
         },
         {
          "Goals": 4,
          "goal_id": "G-0034",
          "match_id": "M-1930-11",
          "minute": 55,
          "team_name": "Argentina",
          "tournament_id": "WC-1930"
         },
         {
          "Goals": 3,
          "goal_id": "G-0037",
          "match_id": "M-1930-11",
          "minute": 80,
          "team_name": "Argentina",
          "tournament_id": "WC-1930"
         },
         {
          "Goals": 4,
          "goal_id": "G-0038",
          "match_id": "M-1930-12",
          "minute": 37,
          "team_name": "Brazil",
          "tournament_id": "WC-1930"
         },
         {
          "Goals": 3,
          "goal_id": "G-0039",
          "match_id": "M-1930-12",
          "minute": 57,
          "team_name": "Brazil",
          "tournament_id": "WC-1930"
         },
         {
          "Goals": 5,
          "goal_id": "G-0040",
          "match_id": "M-1930-12",
          "minute": 73,
          "team_name": "Brazil",
          "tournament_id": "WC-1930"
         },
         {
          "Goals": 5,
          "goal_id": "G-0041",
          "match_id": "M-1930-12",
          "minute": 83,
          "team_name": "Brazil",
          "tournament_id": "WC-1930"
         },
         {
          "Goals": 2,
          "goal_id": "G-0043",
          "match_id": "M-1930-14",
          "minute": 7,
          "team_name": "Uruguay",
          "tournament_id": "WC-1930"
         },
         {
          "Goals": 3,
          "goal_id": "G-0044",
          "match_id": "M-1930-14",
          "minute": 26,
          "team_name": "Uruguay",
          "tournament_id": "WC-1930"
         },
         {
          "Goals": 3,
          "goal_id": "G-0045",
          "match_id": "M-1930-14",
          "minute": 31,
          "team_name": "Uruguay",
          "tournament_id": "WC-1930"
         },
         {
          "Goals": 1,
          "goal_id": "G-0046",
          "match_id": "M-1930-14",
          "minute": 35,
          "team_name": "Uruguay",
          "tournament_id": "WC-1930"
         },
         {
          "Goals": 2,
          "goal_id": "G-0047",
          "match_id": "M-1930-15",
          "minute": 12,
          "team_name": "Argentina",
          "tournament_id": "WC-1930"
         },
         {
          "Goals": 1,
          "goal_id": "G-0048",
          "match_id": "M-1930-15",
          "minute": 13,
          "team_name": "Argentina",
          "tournament_id": "WC-1930"
         },
         {
          "Goals": 3,
          "goal_id": "G-0050",
          "match_id": "M-1930-15",
          "minute": 51,
          "team_name": "Argentina",
          "tournament_id": "WC-1930"
         },
         {
          "Goals": 4,
          "goal_id": "G-0051",
          "match_id": "M-1930-16",
          "minute": 20,
          "team_name": "Argentina",
          "tournament_id": "WC-1930"
         },
         {
          "Goals": 3,
          "goal_id": "G-0052",
          "match_id": "M-1930-16",
          "minute": 56,
          "team_name": "Argentina",
          "tournament_id": "WC-1930"
         },
         {
          "Goals": 2,
          "goal_id": "G-0053",
          "match_id": "M-1930-16",
          "minute": 69,
          "team_name": "Argentina",
          "tournament_id": "WC-1930"
         },
         {
          "Goals": 3,
          "goal_id": "G-0054",
          "match_id": "M-1930-16",
          "minute": 80,
          "team_name": "Argentina",
          "tournament_id": "WC-1930"
         },
         {
          "Goals": 1,
          "goal_id": "G-0055",
          "match_id": "M-1930-16",
          "minute": 85,
          "team_name": "Argentina",
          "tournament_id": "WC-1930"
         },
         {
          "Goals": 2,
          "goal_id": "G-0056",
          "match_id": "M-1930-16",
          "minute": 87,
          "team_name": "Argentina",
          "tournament_id": "WC-1930"
         },
         {
          "Goals": 2,
          "goal_id": "G-0059",
          "match_id": "M-1930-17",
          "minute": 18,
          "team_name": "Uruguay",
          "tournament_id": "WC-1930"
         },
         {
          "Goals": 1,
          "goal_id": "G-0060",
          "match_id": "M-1930-17",
          "minute": 20,
          "team_name": "Uruguay",
          "tournament_id": "WC-1930"
         },
         {
          "Goals": 3,
          "goal_id": "G-0061",
          "match_id": "M-1930-17",
          "minute": 31,
          "team_name": "Uruguay",
          "tournament_id": "WC-1930"
         },
         {
          "Goals": 1,
          "goal_id": "G-0062",
          "match_id": "M-1930-17",
          "minute": 61,
          "team_name": "Uruguay",
          "tournament_id": "WC-1930"
         },
         {
          "Goals": 1,
          "goal_id": "G-0063",
          "match_id": "M-1930-17",
          "minute": 67,
          "team_name": "Uruguay",
          "tournament_id": "WC-1930"
         },
         {
          "Goals": 1,
          "goal_id": "G-0064",
          "match_id": "M-1930-17",
          "minute": 72,
          "team_name": "Uruguay",
          "tournament_id": "WC-1930"
         },
         {
          "Goals": 1,
          "goal_id": "G-0065",
          "match_id": "M-1930-18",
          "minute": 12,
          "team_name": "Uruguay",
          "tournament_id": "WC-1930"
         },
         {
          "Goals": 4,
          "goal_id": "G-0066",
          "match_id": "M-1930-18",
          "minute": 20,
          "team_name": "Argentina",
          "tournament_id": "WC-1930"
         },
         {
          "Goals": 2,
          "goal_id": "G-0067",
          "match_id": "M-1930-18",
          "minute": 37,
          "team_name": "Argentina",
          "tournament_id": "WC-1930"
         },
         {
          "Goals": 2,
          "goal_id": "G-0068",
          "match_id": "M-1930-18",
          "minute": 57,
          "team_name": "Uruguay",
          "tournament_id": "WC-1930"
         },
         {
          "Goals": 1,
          "goal_id": "G-0069",
          "match_id": "M-1930-18",
          "minute": 68,
          "team_name": "Uruguay",
          "tournament_id": "WC-1930"
         },
         {
          "Goals": 2,
          "goal_id": "G-0070",
          "match_id": "M-1930-18",
          "minute": 89,
          "team_name": "Uruguay",
          "tournament_id": "WC-1930"
         },
         {
          "Goals": 3,
          "goal_id": "G-0071",
          "match_id": "M-1934-01",
          "minute": 18,
          "team_name": "France",
          "tournament_id": "WC-1934"
         },
         {
          "Goals": 1,
          "goal_id": "G-0075",
          "match_id": "M-1934-01",
          "minute": 116,
          "team_name": "France",
          "tournament_id": "WC-1934"
         },
         {
          "Goals": 4,
          "goal_id": "G-0079",
          "match_id": "M-1934-03",
          "minute": 25,
          "team_name": "Germany",
          "tournament_id": "WC-1934"
         },
         {
          "Goals": 2,
          "goal_id": "G-0082",
          "match_id": "M-1934-03",
          "minute": 49,
          "team_name": "Germany",
          "tournament_id": "WC-1934"
         },
         {
          "Goals": 3,
          "goal_id": "G-0083",
          "match_id": "M-1934-03",
          "minute": 66,
          "team_name": "Germany",
          "tournament_id": "WC-1934"
         },
         {
          "Goals": 5,
          "goal_id": "G-0084",
          "match_id": "M-1934-03",
          "minute": 70,
          "team_name": "Germany",
          "tournament_id": "WC-1934"
         },
         {
          "Goals": 3,
          "goal_id": "G-0085",
          "match_id": "M-1934-03",
          "minute": 87,
          "team_name": "Germany",
          "tournament_id": "WC-1934"
         },
         {
          "Goals": 4,
          "goal_id": "G-0092",
          "match_id": "M-1934-05",
          "minute": 18,
          "team_name": "Italy",
          "tournament_id": "WC-1934"
         },
         {
          "Goals": 1,
          "goal_id": "G-0093",
          "match_id": "M-1934-05",
          "minute": 20,
          "team_name": "Italy",
          "tournament_id": "WC-1934"
         },
         {
          "Goals": 4,
          "goal_id": "G-0094",
          "match_id": "M-1934-05",
          "minute": 29,
          "team_name": "Italy",
          "tournament_id": "WC-1934"
         },
         {
          "Goals": 3,
          "goal_id": "G-0096",
          "match_id": "M-1934-05",
          "minute": 63,
          "team_name": "Italy",
          "tournament_id": "WC-1934"
         },
         {
          "Goals": 1,
          "goal_id": "G-0097",
          "match_id": "M-1934-05",
          "minute": 64,
          "team_name": "Italy",
          "tournament_id": "WC-1934"
         },
         {
          "Goals": 4,
          "goal_id": "G-0098",
          "match_id": "M-1934-05",
          "minute": 69,
          "team_name": "Italy",
          "tournament_id": "WC-1934"
         },
         {
          "Goals": 2,
          "goal_id": "G-0099",
          "match_id": "M-1934-05",
          "minute": 90,
          "team_name": "Italy",
          "tournament_id": "WC-1934"
         },
         {
          "Goals": 3,
          "goal_id": "G-0100",
          "match_id": "M-1934-06",
          "minute": 18,
          "team_name": "Spain",
          "tournament_id": "WC-1934"
         },
         {
          "Goals": 1,
          "goal_id": "G-0101",
          "match_id": "M-1934-06",
          "minute": 25,
          "team_name": "Spain",
          "tournament_id": "WC-1934"
         },
         {
          "Goals": 2,
          "goal_id": "G-0102",
          "match_id": "M-1934-06",
          "minute": 29,
          "team_name": "Spain",
          "tournament_id": "WC-1934"
         },
         {
          "Goals": 7,
          "goal_id": "G-0103",
          "match_id": "M-1934-06",
          "minute": 55,
          "team_name": "Brazil",
          "tournament_id": "WC-1934"
         },
         {
          "Goals": 3,
          "goal_id": "G-0104",
          "match_id": "M-1934-07",
          "minute": 4,
          "team_name": "Argentina",
          "tournament_id": "WC-1934"
         },
         {
          "Goals": 2,
          "goal_id": "G-0106",
          "match_id": "M-1934-07",
          "minute": 48,
          "team_name": "Argentina",
          "tournament_id": "WC-1934"
         },
         {
          "Goals": 4,
          "goal_id": "G-0122",
          "match_id": "M-1934-11",
          "minute": 60,
          "team_name": "Germany",
          "tournament_id": "WC-1934"
         },
         {
          "Goals": 2,
          "goal_id": "G-0123",
          "match_id": "M-1934-11",
          "minute": 63,
          "team_name": "Germany",
          "tournament_id": "WC-1934"
         },
         {
          "Goals": 2,
          "goal_id": "G-0125",
          "match_id": "M-1934-12",
          "minute": 30,
          "team_name": "Spain",
          "tournament_id": "WC-1934"
         },
         {
          "Goals": 3,
          "goal_id": "G-0126",
          "match_id": "M-1934-12",
          "minute": 44,
          "team_name": "Italy",
          "tournament_id": "WC-1934"
         },
         {
          "Goals": 2,
          "goal_id": "G-0127",
          "match_id": "M-1934-13",
          "minute": 11,
          "team_name": "Italy",
          "tournament_id": "WC-1934"
         },
         {
          "Goals": 2,
          "goal_id": "G-0129",
          "match_id": "M-1934-14",
          "minute": 62,
          "team_name": "Germany",
          "tournament_id": "WC-1934"
         },
         {
          "Goals": 3,
          "goal_id": "G-0132",
          "match_id": "M-1934-15",
          "minute": 19,
          "team_name": "Italy",
          "tournament_id": "WC-1934"
         },
         {
          "Goals": 1,
          "goal_id": "G-0133",
          "match_id": "M-1934-16",
          "minute": 1,
          "team_name": "Germany",
          "tournament_id": "WC-1934"
         },
         {
          "Goals": 2,
          "goal_id": "G-0134",
          "match_id": "M-1934-16",
          "minute": 27,
          "team_name": "Germany",
          "tournament_id": "WC-1934"
         },
         {
          "Goals": 6,
          "goal_id": "G-0136",
          "match_id": "M-1934-16",
          "minute": 42,
          "team_name": "Germany",
          "tournament_id": "WC-1934"
         },
         {
          "Goals": 4,
          "goal_id": "G-0139",
          "match_id": "M-1934-17",
          "minute": 81,
          "team_name": "Italy",
          "tournament_id": "WC-1934"
         },
         {
          "Goals": 1,
          "goal_id": "G-0140",
          "match_id": "M-1934-17",
          "minute": 95,
          "team_name": "Italy",
          "tournament_id": "WC-1934"
         },
         {
          "Goals": 5,
          "goal_id": "G-0141",
          "match_id": "M-1938-01",
          "minute": 29,
          "team_name": "Germany",
          "tournament_id": "WC-1938"
         },
         {
          "Goals": 3,
          "goal_id": "G-0149",
          "match_id": "M-1938-03",
          "minute": 1,
          "team_name": "France",
          "tournament_id": "WC-1938"
         },
         {
          "Goals": 2,
          "goal_id": "G-0150",
          "match_id": "M-1938-03",
          "minute": 16,
          "team_name": "France",
          "tournament_id": "WC-1938"
         },
         {
          "Goals": 1,
          "goal_id": "G-0152",
          "match_id": "M-1938-03",
          "minute": 69,
          "team_name": "France",
          "tournament_id": "WC-1938"
         },
         {
          "Goals": 2,
          "goal_id": "G-0159",
          "match_id": "M-1938-05",
          "minute": 2,
          "team_name": "Italy",
          "tournament_id": "WC-1938"
         },
         {
          "Goals": 1,
          "goal_id": "G-0161",
          "match_id": "M-1938-05",
          "minute": 94,
          "team_name": "Italy",
          "tournament_id": "WC-1938"
         },
         {
          "Goals": 4,
          "goal_id": "G-0162",
          "match_id": "M-1938-06",
          "minute": 18,
          "team_name": "Brazil",
          "tournament_id": "WC-1938"
         },
         {
          "Goals": 3,
          "goal_id": "G-0164",
          "match_id": "M-1938-06",
          "minute": 25,
          "team_name": "Brazil",
          "tournament_id": "WC-1938"
         },
         {
          "Goals": 6,
          "goal_id": "G-0165",
          "match_id": "M-1938-06",
          "minute": 44,
          "team_name": "Brazil",
          "tournament_id": "WC-1938"
         },
         {
          "Goals": 5,
          "goal_id": "G-0168",
          "match_id": "M-1938-06",
          "minute": 71,
          "team_name": "Brazil",
          "tournament_id": "WC-1938"
         },
         {
          "Goals": 1,
          "goal_id": "G-0170",
          "match_id": "M-1938-06",
          "minute": 93,
          "team_name": "Brazil",
          "tournament_id": "WC-1938"
         },
         {
          "Goals": 2,
          "goal_id": "G-0171",
          "match_id": "M-1938-06",
          "minute": 104,
          "team_name": "Brazil",
          "tournament_id": "WC-1938"
         },
         {
          "Goals": 3,
          "goal_id": "G-0179",
          "match_id": "M-1938-09",
          "minute": 8,
          "team_name": "Germany",
          "tournament_id": "WC-1938"
         },
         {
          "Goals": 2,
          "goal_id": "G-0180",
          "match_id": "M-1938-09",
          "minute": 22,
          "team_name": "Germany",
          "tournament_id": "WC-1938"
         },
         {
          "Goals": 4,
          "goal_id": "G-0185",
          "match_id": "M-1938-10",
          "minute": 30,
          "team_name": "Brazil",
          "tournament_id": "WC-1938"
         },
         {
          "Goals": 2,
          "goal_id": "G-0189",
          "match_id": "M-1938-12",
          "minute": 9,
          "team_name": "Italy",
          "tournament_id": "WC-1938"
         },
         {
          "Goals": 1,
          "goal_id": "G-0190",
          "match_id": "M-1938-12",
          "minute": 10,
          "team_name": "France",
          "tournament_id": "WC-1938"
         },
         {
          "Goals": 3,
          "goal_id": "G-0191",
          "match_id": "M-1938-12",
          "minute": 51,
          "team_name": "Italy",
          "tournament_id": "WC-1938"
         },
         {
          "Goals": 1,
          "goal_id": "G-0192",
          "match_id": "M-1938-12",
          "minute": 72,
          "team_name": "Italy",
          "tournament_id": "WC-1938"
         },
         {
          "Goals": 3,
          "goal_id": "G-0202",
          "match_id": "M-1938-14",
          "minute": 57,
          "team_name": "Brazil",
          "tournament_id": "WC-1938"
         },
         {
          "Goals": 7,
          "goal_id": "G-0203",
          "match_id": "M-1938-14",
          "minute": 62,
          "team_name": "Brazil",
          "tournament_id": "WC-1938"
         },
         {
          "Goals": 3,
          "goal_id": "G-0210",
          "match_id": "M-1938-16",
          "minute": 51,
          "team_name": "Italy",
          "tournament_id": "WC-1938"
         },
         {
          "Goals": 2,
          "goal_id": "G-0211",
          "match_id": "M-1938-16",
          "minute": 60,
          "team_name": "Italy",
          "tournament_id": "WC-1938"
         },
         {
          "Goals": 5,
          "goal_id": "G-0212",
          "match_id": "M-1938-16",
          "minute": 87,
          "team_name": "Brazil",
          "tournament_id": "WC-1938"
         },
         {
          "Goals": 6,
          "goal_id": "G-0215",
          "match_id": "M-1938-17",
          "minute": 44,
          "team_name": "Brazil",
          "tournament_id": "WC-1938"
         },
         {
          "Goals": 8,
          "goal_id": "G-0216",
          "match_id": "M-1938-17",
          "minute": 63,
          "team_name": "Brazil",
          "tournament_id": "WC-1938"
         },
         {
          "Goals": 4,
          "goal_id": "G-0217",
          "match_id": "M-1938-17",
          "minute": 74,
          "team_name": "Brazil",
          "tournament_id": "WC-1938"
         },
         {
          "Goals": 2,
          "goal_id": "G-0218",
          "match_id": "M-1938-17",
          "minute": 80,
          "team_name": "Brazil",
          "tournament_id": "WC-1938"
         },
         {
          "Goals": 3,
          "goal_id": "G-0219",
          "match_id": "M-1938-18",
          "minute": 6,
          "team_name": "Italy",
          "tournament_id": "WC-1938"
         },
         {
          "Goals": 1,
          "goal_id": "G-0221",
          "match_id": "M-1938-18",
          "minute": 16,
          "team_name": "Italy",
          "tournament_id": "WC-1938"
         },
         {
          "Goals": 4,
          "goal_id": "G-0222",
          "match_id": "M-1938-18",
          "minute": 35,
          "team_name": "Italy",
          "tournament_id": "WC-1938"
         },
         {
          "Goals": 2,
          "goal_id": "G-0224",
          "match_id": "M-1938-18",
          "minute": 82,
          "team_name": "Italy",
          "tournament_id": "WC-1938"
         },
         {
          "Goals": 4,
          "goal_id": "G-0225",
          "match_id": "M-1950-01",
          "minute": 30,
          "team_name": "Brazil",
          "tournament_id": "WC-1950"
         },
         {
          "Goals": 2,
          "goal_id": "G-0226",
          "match_id": "M-1950-01",
          "minute": 65,
          "team_name": "Brazil",
          "tournament_id": "WC-1950"
         },
         {
          "Goals": 5,
          "goal_id": "G-0227",
          "match_id": "M-1950-01",
          "minute": 71,
          "team_name": "Brazil",
          "tournament_id": "WC-1950"
         },
         {
          "Goals": 5,
          "goal_id": "G-0228",
          "match_id": "M-1950-01",
          "minute": 79,
          "team_name": "Brazil",
          "tournament_id": "WC-1950"
         },
         {
          "Goals": 1,
          "goal_id": "G-0232",
          "match_id": "M-1950-03",
          "minute": 39,
          "team_name": "England",
          "tournament_id": "WC-1950"
         },
         {
          "Goals": 3,
          "goal_id": "G-0233",
          "match_id": "M-1950-03",
          "minute": 51,
          "team_name": "England",
          "tournament_id": "WC-1950"
         },
         {
          "Goals": 4,
          "goal_id": "G-0235",
          "match_id": "M-1950-04",
          "minute": 81,
          "team_name": "Spain",
          "tournament_id": "WC-1950"
         },
         {
          "Goals": 3,
          "goal_id": "G-0236",
          "match_id": "M-1950-04",
          "minute": 83,
          "team_name": "Spain",
          "tournament_id": "WC-1950"
         },
         {
          "Goals": 2,
          "goal_id": "G-0237",
          "match_id": "M-1950-04",
          "minute": 89,
          "team_name": "Spain",
          "tournament_id": "WC-1950"
         },
         {
          "Goals": 3,
          "goal_id": "G-0238",
          "match_id": "M-1950-05",
          "minute": 7,
          "team_name": "Italy",
          "tournament_id": "WC-1950"
         },
         {
          "Goals": 2,
          "goal_id": "G-0242",
          "match_id": "M-1950-05",
          "minute": 75,
          "team_name": "Italy",
          "tournament_id": "WC-1950"
         },
         {
          "Goals": 4,
          "goal_id": "G-0243",
          "match_id": "M-1950-06",
          "minute": 3,
          "team_name": "Brazil",
          "tournament_id": "WC-1950"
         },
         {
          "Goals": 5,
          "goal_id": "G-0245",
          "match_id": "M-1950-06",
          "minute": 32,
          "team_name": "Brazil",
          "tournament_id": "WC-1950"
         },
         {
          "Goals": 3,
          "goal_id": "G-0252",
          "match_id": "M-1950-08",
          "minute": 17,
          "team_name": "Spain",
          "tournament_id": "WC-1950"
         },
         {
          "Goals": 2,
          "goal_id": "G-0253",
          "match_id": "M-1950-08",
          "minute": 30,
          "team_name": "Spain",
          "tournament_id": "WC-1950"
         },
         {
          "Goals": 4,
          "goal_id": "G-0259",
          "match_id": "M-1950-11",
          "minute": 4,
          "team_name": "Brazil",
          "tournament_id": "WC-1950"
         },
         {
          "Goals": 5,
          "goal_id": "G-0260",
          "match_id": "M-1950-11",
          "minute": 69,
          "team_name": "Brazil",
          "tournament_id": "WC-1950"
         },
         {
          "Goals": 2,
          "goal_id": "G-0268",
          "match_id": "M-1950-13",
          "minute": 48,
          "team_name": "Spain",
          "tournament_id": "WC-1950"
         },
         {
          "Goals": 2,
          "goal_id": "G-0269",
          "match_id": "M-1950-14",
          "minute": 12,
          "team_name": "Italy",
          "tournament_id": "WC-1950"
         },
         {
          "Goals": 1,
          "goal_id": "G-0270",
          "match_id": "M-1950-14",
          "minute": 62,
          "team_name": "Italy",
          "tournament_id": "WC-1950"
         },
         {
          "Goals": 1,
          "goal_id": "G-0271",
          "match_id": "M-1950-15",
          "minute": 14,
          "team_name": "Uruguay",
          "tournament_id": "WC-1950"
         },
         {
          "Goals": 2,
          "goal_id": "G-0272",
          "match_id": "M-1950-15",
          "minute": 18,
          "team_name": "Uruguay",
          "tournament_id": "WC-1950"
         },
         {
          "Goals": 4,
          "goal_id": "G-0273",
          "match_id": "M-1950-15",
          "minute": 23,
          "team_name": "Uruguay",
          "tournament_id": "WC-1950"
         },
         {
          "Goals": 1,
          "goal_id": "G-0274",
          "match_id": "M-1950-15",
          "minute": 40,
          "team_name": "Uruguay",
          "tournament_id": "WC-1950"
         },
         {
          "Goals": 2,
          "goal_id": "G-0275",
          "match_id": "M-1950-15",
          "minute": 51,
          "team_name": "Uruguay",
          "tournament_id": "WC-1950"
         },
         {
          "Goals": 3,
          "goal_id": "G-0276",
          "match_id": "M-1950-15",
          "minute": 54,
          "team_name": "Uruguay",
          "tournament_id": "WC-1950"
         },
         {
          "Goals": 2,
          "goal_id": "G-0277",
          "match_id": "M-1950-15",
          "minute": 83,
          "team_name": "Uruguay",
          "tournament_id": "WC-1950"
         },
         {
          "Goals": 2,
          "goal_id": "G-0278",
          "match_id": "M-1950-15",
          "minute": 87,
          "team_name": "Uruguay",
          "tournament_id": "WC-1950"
         },
         {
          "Goals": 4,
          "goal_id": "G-0282",
          "match_id": "M-1950-17",
          "minute": 17,
          "team_name": "Brazil",
          "tournament_id": "WC-1950"
         },
         {
          "Goals": 3,
          "goal_id": "G-0283",
          "match_id": "M-1950-17",
          "minute": 36,
          "team_name": "Brazil",
          "tournament_id": "WC-1950"
         },
         {
          "Goals": 3,
          "goal_id": "G-0284",
          "match_id": "M-1950-17",
          "minute": 39,
          "team_name": "Brazil",
          "tournament_id": "WC-1950"
         },
         {
          "Goals": 4,
          "goal_id": "G-0285",
          "match_id": "M-1950-17",
          "minute": 52,
          "team_name": "Brazil",
          "tournament_id": "WC-1950"
         },
         {
          "Goals": 3,
          "goal_id": "G-0286",
          "match_id": "M-1950-17",
          "minute": 58,
          "team_name": "Brazil",
          "tournament_id": "WC-1950"
         },
         {
          "Goals": 2,
          "goal_id": "G-0288",
          "match_id": "M-1950-17",
          "minute": 85,
          "team_name": "Brazil",
          "tournament_id": "WC-1950"
         },
         {
          "Goals": 3,
          "goal_id": "G-0289",
          "match_id": "M-1950-17",
          "minute": 88,
          "team_name": "Brazil",
          "tournament_id": "WC-1950"
         },
         {
          "Goals": 1,
          "goal_id": "G-0290",
          "match_id": "M-1950-18",
          "minute": 29,
          "team_name": "Uruguay",
          "tournament_id": "WC-1950"
         },
         {
          "Goals": 2,
          "goal_id": "G-0291",
          "match_id": "M-1950-18",
          "minute": 37,
          "team_name": "Spain",
          "tournament_id": "WC-1950"
         },
         {
          "Goals": 1,
          "goal_id": "G-0292",
          "match_id": "M-1950-18",
          "minute": 39,
          "team_name": "Spain",
          "tournament_id": "WC-1950"
         },
         {
          "Goals": 2,
          "goal_id": "G-0293",
          "match_id": "M-1950-18",
          "minute": 73,
          "team_name": "Uruguay",
          "tournament_id": "WC-1950"
         },
         {
          "Goals": 8,
          "goal_id": "G-0294",
          "match_id": "M-1950-19",
          "minute": 15,
          "team_name": "Brazil",
          "tournament_id": "WC-1950"
         },
         {
          "Goals": 1,
          "goal_id": "G-0295",
          "match_id": "M-1950-19",
          "minute": 21,
          "team_name": "Brazil",
          "tournament_id": "WC-1950"
         },
         {
          "Goals": 3,
          "goal_id": "G-0296",
          "match_id": "M-1950-19",
          "minute": 31,
          "team_name": "Brazil",
          "tournament_id": "WC-1950"
         },
         {
          "Goals": 7,
          "goal_id": "G-0297",
          "match_id": "M-1950-19",
          "minute": 55,
          "team_name": "Brazil",
          "tournament_id": "WC-1950"
         },
         {
          "Goals": 3,
          "goal_id": "G-0298",
          "match_id": "M-1950-19",
          "minute": 57,
          "team_name": "Brazil",
          "tournament_id": "WC-1950"
         },
         {
          "Goals": 4,
          "goal_id": "G-0299",
          "match_id": "M-1950-19",
          "minute": 67,
          "team_name": "Brazil",
          "tournament_id": "WC-1950"
         },
         {
          "Goals": 3,
          "goal_id": "G-0300",
          "match_id": "M-1950-19",
          "minute": 71,
          "team_name": "Spain",
          "tournament_id": "WC-1950"
         },
         {
          "Goals": 3,
          "goal_id": "G-0302",
          "match_id": "M-1950-20",
          "minute": 39,
          "team_name": "Uruguay",
          "tournament_id": "WC-1950"
         },
         {
          "Goals": 1,
          "goal_id": "G-0304",
          "match_id": "M-1950-20",
          "minute": 77,
          "team_name": "Uruguay",
          "tournament_id": "WC-1950"
         },
         {
          "Goals": 3,
          "goal_id": "G-0305",
          "match_id": "M-1950-20",
          "minute": 85,
          "team_name": "Uruguay",
          "tournament_id": "WC-1950"
         },
         {
          "Goals": 3,
          "goal_id": "G-0309",
          "match_id": "M-1950-21",
          "minute": 82,
          "team_name": "Spain",
          "tournament_id": "WC-1950"
         },
         {
          "Goals": 4,
          "goal_id": "G-0310",
          "match_id": "M-1950-22",
          "minute": 47,
          "team_name": "Brazil",
          "tournament_id": "WC-1950"
         },
         {
          "Goals": 1,
          "goal_id": "G-0311",
          "match_id": "M-1950-22",
          "minute": 66,
          "team_name": "Uruguay",
          "tournament_id": "WC-1950"
         },
         {
          "Goals": 1,
          "goal_id": "G-0312",
          "match_id": "M-1950-22",
          "minute": 79,
          "team_name": "Uruguay",
          "tournament_id": "WC-1950"
         },
         {
          "Goals": 2,
          "goal_id": "G-0313",
          "match_id": "M-1954-01",
          "minute": 23,
          "team_name": "Brazil",
          "tournament_id": "WC-1954"
         },
         {
          "Goals": 4,
          "goal_id": "G-0314",
          "match_id": "M-1954-01",
          "minute": 30,
          "team_name": "Brazil",
          "tournament_id": "WC-1954"
         },
         {
          "Goals": 1,
          "goal_id": "G-0315",
          "match_id": "M-1954-01",
          "minute": 34,
          "team_name": "Brazil",
          "tournament_id": "WC-1954"
         },
         {
          "Goals": 1,
          "goal_id": "G-0316",
          "match_id": "M-1954-01",
          "minute": 43,
          "team_name": "Brazil",
          "tournament_id": "WC-1954"
         },
         {
          "Goals": 5,
          "goal_id": "G-0317",
          "match_id": "M-1954-01",
          "minute": 69,
          "team_name": "Brazil",
          "tournament_id": "WC-1954"
         },
         {
          "Goals": 1,
          "goal_id": "G-0320",
          "match_id": "M-1954-04",
          "minute": 71,
          "team_name": "Uruguay",
          "tournament_id": "WC-1954"
         },
         {
          "Goals": 1,
          "goal_id": "G-0321",
          "match_id": "M-1954-04",
          "minute": 84,
          "team_name": "Uruguay",
          "tournament_id": "WC-1954"
         },
         {
          "Goals": 3,
          "goal_id": "G-0323",
          "match_id": "M-1954-05",
          "minute": 44,
          "team_name": "Italy",
          "tournament_id": "WC-1954"
         },
         {
          "Goals": 1,
          "goal_id": "G-0340",
          "match_id": "M-1954-08",
          "minute": 26,
          "team_name": "England",
          "tournament_id": "WC-1954"
         },
         {
          "Goals": 2,
          "goal_id": "G-0341",
          "match_id": "M-1954-08",
          "minute": 36,
          "team_name": "England",
          "tournament_id": "WC-1954"
         },
         {
          "Goals": 2,
          "goal_id": "G-0342",
          "match_id": "M-1954-08",
          "minute": 63,
          "team_name": "England",
          "tournament_id": "WC-1954"
         },
         {
          "Goals": 1,
          "goal_id": "G-0345",
          "match_id": "M-1954-08",
          "minute": 91,
          "team_name": "England",
          "tournament_id": "WC-1954"
         },
         {
          "Goals": 1,
          "goal_id": "G-0347",
          "match_id": "M-1954-09",
          "minute": 17,
          "team_name": "Uruguay",
          "tournament_id": "WC-1954"
         },
         {
          "Goals": 1,
          "goal_id": "G-0348",
          "match_id": "M-1954-09",
          "minute": 30,
          "team_name": "Uruguay",
          "tournament_id": "WC-1954"
         },
         {
          "Goals": 2,
          "goal_id": "G-0349",
          "match_id": "M-1954-09",
          "minute": 47,
          "team_name": "Uruguay",
          "tournament_id": "WC-1954"
         },
         {
          "Goals": 3,
          "goal_id": "G-0350",
          "match_id": "M-1954-09",
          "minute": 54,
          "team_name": "Uruguay",
          "tournament_id": "WC-1954"
         },
         {
          "Goals": 2,
          "goal_id": "G-0351",
          "match_id": "M-1954-09",
          "minute": 57,
          "team_name": "Uruguay",
          "tournament_id": "WC-1954"
         },
         {
          "Goals": 2,
          "goal_id": "G-0352",
          "match_id": "M-1954-09",
          "minute": 83,
          "team_name": "Uruguay",
          "tournament_id": "WC-1954"
         },
         {
          "Goals": 3,
          "goal_id": "G-0353",
          "match_id": "M-1954-09",
          "minute": 85,
          "team_name": "Uruguay",
          "tournament_id": "WC-1954"
         },
         {
          "Goals": 5,
          "goal_id": "G-0355",
          "match_id": "M-1954-10",
          "minute": 69,
          "team_name": "Brazil",
          "tournament_id": "WC-1954"
         },
         {
          "Goals": 2,
          "goal_id": "G-0361",
          "match_id": "M-1954-12",
          "minute": 19,
          "team_name": "France",
          "tournament_id": "WC-1954"
         },
         {
          "Goals": 3,
          "goal_id": "G-0362",
          "match_id": "M-1954-12",
          "minute": 46,
          "team_name": "France",
          "tournament_id": "WC-1954"
         },
         {
          "Goals": 2,
          "goal_id": "G-0365",
          "match_id": "M-1954-12",
          "minute": 88,
          "team_name": "France",
          "tournament_id": "WC-1954"
         },
         {
          "Goals": 1,
          "goal_id": "G-0384",
          "match_id": "M-1954-15",
          "minute": 41,
          "team_name": "Italy",
          "tournament_id": "WC-1954"
         },
         {
          "Goals": 3,
          "goal_id": "G-0385",
          "match_id": "M-1954-15",
          "minute": 48,
          "team_name": "Italy",
          "tournament_id": "WC-1954"
         },
         {
          "Goals": 1,
          "goal_id": "G-0386",
          "match_id": "M-1954-15",
          "minute": 58,
          "team_name": "Italy",
          "tournament_id": "WC-1954"
         },
         {
          "Goals": 3,
          "goal_id": "G-0387",
          "match_id": "M-1954-15",
          "minute": 78,
          "team_name": "Italy",
          "tournament_id": "WC-1954"
         },
         {
          "Goals": 2,
          "goal_id": "G-0389",
          "match_id": "M-1954-16",
          "minute": 43,
          "team_name": "England",
          "tournament_id": "WC-1954"
         },
         {
          "Goals": 1,
          "goal_id": "G-0390",
          "match_id": "M-1954-16",
          "minute": 69,
          "team_name": "England",
          "tournament_id": "WC-1954"
         },
         {
          "Goals": 4,
          "goal_id": "G-0402",
          "match_id": "M-1954-18",
          "minute": 67,
          "team_name": "Italy",
          "tournament_id": "WC-1954"
         },
         {
          "Goals": 1,
          "goal_id": "G-0417",
          "match_id": "M-1954-20",
          "minute": 5,
          "team_name": "Uruguay",
          "tournament_id": "WC-1954"
         },
         {
          "Goals": 2,
          "goal_id": "G-0418",
          "match_id": "M-1954-20",
          "minute": 16,
          "team_name": "England",
          "tournament_id": "WC-1954"
         },
         {
          "Goals": 3,
          "goal_id": "G-0419",
          "match_id": "M-1954-20",
          "minute": 39,
          "team_name": "Uruguay",
          "tournament_id": "WC-1954"
         },
         {
          "Goals": 2,
          "goal_id": "G-0420",
          "match_id": "M-1954-20",
          "minute": 46,
          "team_name": "Uruguay",
          "tournament_id": "WC-1954"
         },
         {
          "Goals": 3,
          "goal_id": "G-0421",
          "match_id": "M-1954-20",
          "minute": 67,
          "team_name": "England",
          "tournament_id": "WC-1954"
         },
         {
          "Goals": 1,
          "goal_id": "G-0422",
          "match_id": "M-1954-20",
          "minute": 78,
          "team_name": "Uruguay",
          "tournament_id": "WC-1954"
         },
         {
          "Goals": 4,
          "goal_id": "G-0425",
          "match_id": "M-1954-21",
          "minute": 18,
          "team_name": "Brazil",
          "tournament_id": "WC-1954"
         },
         {
          "Goals": 2,
          "goal_id": "G-0427",
          "match_id": "M-1954-21",
          "minute": 65,
          "team_name": "Brazil",
          "tournament_id": "WC-1954"
         },
         {
          "Goals": 2,
          "goal_id": "G-0433",
          "match_id": "M-1954-23",
          "minute": 75,
          "team_name": "Uruguay",
          "tournament_id": "WC-1954"
         },
         {
          "Goals": 1,
          "goal_id": "G-0434",
          "match_id": "M-1954-23",
          "minute": 86,
          "team_name": "Uruguay",
          "tournament_id": "WC-1954"
         },
         {
          "Goals": 1,
          "goal_id": "G-0445",
          "match_id": "M-1954-25",
          "minute": 22,
          "team_name": "Uruguay",
          "tournament_id": "WC-1954"
         },
         {
          "Goals": 3,
          "goal_id": "G-0456",
          "match_id": "M-1958-02",
          "minute": 3,
          "team_name": "Argentina",
          "tournament_id": "WC-1958"
         },
         {
          "Goals": 3,
          "goal_id": "G-0462",
          "match_id": "M-1958-04",
          "minute": 24,
          "team_name": "France",
          "tournament_id": "WC-1958"
         },
         {
          "Goals": 1,
          "goal_id": "G-0463",
          "match_id": "M-1958-04",
          "minute": 30,
          "team_name": "France",
          "tournament_id": "WC-1958"
         },
         {
          "Goals": 2,
          "goal_id": "G-0466",
          "match_id": "M-1958-04",
          "minute": 52,
          "team_name": "France",
          "tournament_id": "WC-1958"
         },
         {
          "Goals": 4,
          "goal_id": "G-0467",
          "match_id": "M-1958-04",
          "minute": 61,
          "team_name": "France",
          "tournament_id": "WC-1958"
         },
         {
          "Goals": 2,
          "goal_id": "G-0468",
          "match_id": "M-1958-04",
          "minute": 67,
          "team_name": "France",
          "tournament_id": "WC-1958"
         },
         {
          "Goals": 3,
          "goal_id": "G-0469",
          "match_id": "M-1958-04",
          "minute": 70,
          "team_name": "France",
          "tournament_id": "WC-1958"
         },
         {
          "Goals": 4,
          "goal_id": "G-0470",
          "match_id": "M-1958-04",
          "minute": 83,
          "team_name": "France",
          "tournament_id": "WC-1958"
         },
         {
          "Goals": 4,
          "goal_id": "G-0475",
          "match_id": "M-1958-07",
          "minute": 37,
          "team_name": "Brazil",
          "tournament_id": "WC-1958"
         },
         {
          "Goals": 7,
          "goal_id": "G-0476",
          "match_id": "M-1958-07",
          "minute": 50,
          "team_name": "Brazil",
          "tournament_id": "WC-1958"
         },
         {
          "Goals": 2,
          "goal_id": "G-0477",
          "match_id": "M-1958-07",
          "minute": 85,
          "team_name": "Brazil",
          "tournament_id": "WC-1958"
         },
         {
          "Goals": 3,
          "goal_id": "G-0480",
          "match_id": "M-1958-08",
          "minute": 66,
          "team_name": "England",
          "tournament_id": "WC-1958"
         },
         {
          "Goals": 3,
          "goal_id": "G-0481",
          "match_id": "M-1958-08",
          "minute": 85,
          "team_name": "England",
          "tournament_id": "WC-1958"
         },
         {
          "Goals": 2,
          "goal_id": "G-0483",
          "match_id": "M-1958-09",
          "minute": 37,
          "team_name": "Argentina",
          "tournament_id": "WC-1958"
         },
         {
          "Goals": 3,
          "goal_id": "G-0484",
          "match_id": "M-1958-09",
          "minute": 56,
          "team_name": "Argentina",
          "tournament_id": "WC-1958"
         },
         {
          "Goals": 5,
          "goal_id": "G-0485",
          "match_id": "M-1958-09",
          "minute": 60,
          "team_name": "Argentina",
          "tournament_id": "WC-1958"
         },
         {
          "Goals": 2,
          "goal_id": "G-0495",
          "match_id": "M-1958-12",
          "minute": 4,
          "team_name": "France",
          "tournament_id": "WC-1958"
         },
         {
          "Goals": 3,
          "goal_id": "G-0498",
          "match_id": "M-1958-12",
          "minute": 85,
          "team_name": "France",
          "tournament_id": "WC-1958"
         },
         {
          "Goals": 3,
          "goal_id": "G-0510",
          "match_id": "M-1958-18",
          "minute": 65,
          "team_name": "Argentina",
          "tournament_id": "WC-1958"
         },
         {
          "Goals": 1,
          "goal_id": "G-0518",
          "match_id": "M-1958-20",
          "minute": 22,
          "team_name": "France",
          "tournament_id": "WC-1958"
         },
         {
          "Goals": 3,
          "goal_id": "G-0519",
          "match_id": "M-1958-20",
          "minute": 44,
          "team_name": "France",
          "tournament_id": "WC-1958"
         },
         {
          "Goals": 4,
          "goal_id": "G-0531",
          "match_id": "M-1958-23",
          "minute": 3,
          "team_name": "Brazil",
          "tournament_id": "WC-1958"
         },
         {
          "Goals": 1,
          "goal_id": "G-0532",
          "match_id": "M-1958-23",
          "minute": 77,
          "team_name": "Brazil",
          "tournament_id": "WC-1958"
         },
         {
          "Goals": 2,
          "goal_id": "G-0534",
          "match_id": "M-1958-24",
          "minute": 56,
          "team_name": "England",
          "tournament_id": "WC-1958"
         },
         {
          "Goals": 1,
          "goal_id": "G-0536",
          "match_id": "M-1958-24",
          "minute": 74,
          "team_name": "England",
          "tournament_id": "WC-1958"
         },
         {
          "Goals": 6,
          "goal_id": "G-0544",
          "match_id": "M-1958-28",
          "minute": 66,
          "team_name": "Brazil",
          "tournament_id": "WC-1958"
         },
         {
          "Goals": 3,
          "goal_id": "G-0545",
          "match_id": "M-1958-29",
          "minute": 44,
          "team_name": "France",
          "tournament_id": "WC-1958"
         },
         {
          "Goals": 3,
          "goal_id": "G-0546",
          "match_id": "M-1958-29",
          "minute": 55,
          "team_name": "France",
          "tournament_id": "WC-1958"
         },
         {
          "Goals": 1,
          "goal_id": "G-0547",
          "match_id": "M-1958-29",
          "minute": 63,
          "team_name": "France",
          "tournament_id": "WC-1958"
         },
         {
          "Goals": 5,
          "goal_id": "G-0548",
          "match_id": "M-1958-29",
          "minute": 68,
          "team_name": "France",
          "tournament_id": "WC-1958"
         },
         {
          "Goals": 1,
          "goal_id": "G-0552",
          "match_id": "M-1958-32",
          "minute": 2,
          "team_name": "Brazil",
          "tournament_id": "WC-1958"
         },
         {
          "Goals": 4,
          "goal_id": "G-0553",
          "match_id": "M-1958-32",
          "minute": 9,
          "team_name": "France",
          "tournament_id": "WC-1958"
         },
         {
          "Goals": 3,
          "goal_id": "G-0554",
          "match_id": "M-1958-32",
          "minute": 39,
          "team_name": "Brazil",
          "tournament_id": "WC-1958"
         },
         {
          "Goals": 4,
          "goal_id": "G-0555",
          "match_id": "M-1958-32",
          "minute": 52,
          "team_name": "Brazil",
          "tournament_id": "WC-1958"
         },
         {
          "Goals": 5,
          "goal_id": "G-0556",
          "match_id": "M-1958-32",
          "minute": 64,
          "team_name": "Brazil",
          "tournament_id": "WC-1958"
         },
         {
          "Goals": 5,
          "goal_id": "G-0557",
          "match_id": "M-1958-32",
          "minute": 75,
          "team_name": "Brazil",
          "tournament_id": "WC-1958"
         },
         {
          "Goals": 4,
          "goal_id": "G-0558",
          "match_id": "M-1958-32",
          "minute": 83,
          "team_name": "France",
          "tournament_id": "WC-1958"
         },
         {
          "Goals": 2,
          "goal_id": "G-0563",
          "match_id": "M-1958-34",
          "minute": 16,
          "team_name": "France",
          "tournament_id": "WC-1958"
         },
         {
          "Goals": 4,
          "goal_id": "G-0565",
          "match_id": "M-1958-34",
          "minute": 27,
          "team_name": "France",
          "tournament_id": "WC-1958"
         },
         {
          "Goals": 2,
          "goal_id": "G-0566",
          "match_id": "M-1958-34",
          "minute": 36,
          "team_name": "France",
          "tournament_id": "WC-1958"
         },
         {
          "Goals": 1,
          "goal_id": "G-0567",
          "match_id": "M-1958-34",
          "minute": 50,
          "team_name": "France",
          "tournament_id": "WC-1958"
         },
         {
          "Goals": 3,
          "goal_id": "G-0569",
          "match_id": "M-1958-34",
          "minute": 78,
          "team_name": "France",
          "tournament_id": "WC-1958"
         },
         {
          "Goals": 2,
          "goal_id": "G-0571",
          "match_id": "M-1958-34",
          "minute": 89,
          "team_name": "France",
          "tournament_id": "WC-1958"
         },
         {
          "Goals": 3,
          "goal_id": "G-0573",
          "match_id": "M-1958-35",
          "minute": 9,
          "team_name": "Brazil",
          "tournament_id": "WC-1958"
         },
         {
          "Goals": 5,
          "goal_id": "G-0574",
          "match_id": "M-1958-35",
          "minute": 32,
          "team_name": "Brazil",
          "tournament_id": "WC-1958"
         },
         {
          "Goals": 7,
          "goal_id": "G-0575",
          "match_id": "M-1958-35",
          "minute": 55,
          "team_name": "Brazil",
          "tournament_id": "WC-1958"
         },
         {
          "Goals": 5,
          "goal_id": "G-0576",
          "match_id": "M-1958-35",
          "minute": 68,
          "team_name": "Brazil",
          "tournament_id": "WC-1958"
         },
         {
          "Goals": 3,
          "goal_id": "G-0578",
          "match_id": "M-1958-35",
          "minute": 90,
          "team_name": "Brazil",
          "tournament_id": "WC-1958"
         },
         {
          "Goals": 1,
          "goal_id": "G-0580",
          "match_id": "M-1962-01",
          "minute": 56,
          "team_name": "Uruguay",
          "tournament_id": "WC-1962"
         },
         {
          "Goals": 2,
          "goal_id": "G-0581",
          "match_id": "M-1962-01",
          "minute": 75,
          "team_name": "Uruguay",
          "tournament_id": "WC-1962"
         },
         {
          "Goals": 2,
          "goal_id": "G-0586",
          "match_id": "M-1962-03",
          "minute": 56,
          "team_name": "Brazil",
          "tournament_id": "WC-1962"
         },
         {
          "Goals": 5,
          "goal_id": "G-0587",
          "match_id": "M-1962-03",
          "minute": 73,
          "team_name": "Brazil",
          "tournament_id": "WC-1962"
         },
         {
          "Goals": 3,
          "goal_id": "G-0588",
          "match_id": "M-1962-04",
          "minute": 4,
          "team_name": "Argentina",
          "tournament_id": "WC-1962"
         },
         {
          "Goals": 2,
          "goal_id": "G-0593",
          "match_id": "M-1962-08",
          "minute": 60,
          "team_name": "England",
          "tournament_id": "WC-1962"
         },
         {
          "Goals": 2,
          "goal_id": "G-0595",
          "match_id": "M-1962-09",
          "minute": 19,
          "team_name": "Uruguay",
          "tournament_id": "WC-1962"
         },
         {
          "Goals": 1,
          "goal_id": "G-0601",
          "match_id": "M-1962-12",
          "minute": 17,
          "team_name": "England",
          "tournament_id": "WC-1962"
         },
         {
          "Goals": 2,
          "goal_id": "G-0602",
          "match_id": "M-1962-12",
          "minute": 42,
          "team_name": "England",
          "tournament_id": "WC-1962"
         },
         {
          "Goals": 3,
          "goal_id": "G-0603",
          "match_id": "M-1962-12",
          "minute": 67,
          "team_name": "England",
          "tournament_id": "WC-1962"
         },
         {
          "Goals": 3,
          "goal_id": "G-0604",
          "match_id": "M-1962-12",
          "minute": 81,
          "team_name": "Argentina",
          "tournament_id": "WC-1962"
         },
         {
          "Goals": 2,
          "goal_id": "G-0616",
          "match_id": "M-1962-15",
          "minute": 90,
          "team_name": "Spain",
          "tournament_id": "WC-1962"
         },
         {
          "Goals": 3,
          "goal_id": "G-0625",
          "match_id": "M-1962-17",
          "minute": 54,
          "team_name": "Uruguay",
          "tournament_id": "WC-1962"
         },
         {
          "Goals": 1,
          "goal_id": "G-0629",
          "match_id": "M-1962-19",
          "minute": 35,
          "team_name": "Spain",
          "tournament_id": "WC-1962"
         },
         {
          "Goals": 5,
          "goal_id": "G-0630",
          "match_id": "M-1962-19",
          "minute": 72,
          "team_name": "Brazil",
          "tournament_id": "WC-1962"
         },
         {
          "Goals": 3,
          "goal_id": "G-0631",
          "match_id": "M-1962-19",
          "minute": 86,
          "team_name": "Brazil",
          "tournament_id": "WC-1962"
         },
         {
          "Goals": 2,
          "goal_id": "G-0637",
          "match_id": "M-1962-22",
          "minute": 2,
          "team_name": "Italy",
          "tournament_id": "WC-1962"
         },
         {
          "Goals": 2,
          "goal_id": "G-0638",
          "match_id": "M-1962-22",
          "minute": 65,
          "team_name": "Italy",
          "tournament_id": "WC-1962"
         },
         {
          "Goals": 4,
          "goal_id": "G-0639",
          "match_id": "M-1962-22",
          "minute": 67,
          "team_name": "Italy",
          "tournament_id": "WC-1962"
         },
         {
          "Goals": 3,
          "goal_id": "G-0644",
          "match_id": "M-1962-25",
          "minute": 31,
          "team_name": "Brazil",
          "tournament_id": "WC-1962"
         },
         {
          "Goals": 5,
          "goal_id": "G-0645",
          "match_id": "M-1962-25",
          "minute": 38,
          "team_name": "England",
          "tournament_id": "WC-1962"
         },
         {
          "Goals": 4,
          "goal_id": "G-0646",
          "match_id": "M-1962-25",
          "minute": 53,
          "team_name": "Brazil",
          "tournament_id": "WC-1962"
         },
         {
          "Goals": 7,
          "goal_id": "G-0647",
          "match_id": "M-1962-25",
          "minute": 59,
          "team_name": "Brazil",
          "tournament_id": "WC-1962"
         },
         {
          "Goals": 3,
          "goal_id": "G-0653",
          "match_id": "M-1962-29",
          "minute": 9,
          "team_name": "Brazil",
          "tournament_id": "WC-1962"
         },
         {
          "Goals": 5,
          "goal_id": "G-0654",
          "match_id": "M-1962-29",
          "minute": 32,
          "team_name": "Brazil",
          "tournament_id": "WC-1962"
         },
         {
          "Goals": 4,
          "goal_id": "G-0656",
          "match_id": "M-1962-29",
          "minute": 47,
          "team_name": "Brazil",
          "tournament_id": "WC-1962"
         },
         {
          "Goals": 3,
          "goal_id": "G-0658",
          "match_id": "M-1962-29",
          "minute": 78,
          "team_name": "Brazil",
          "tournament_id": "WC-1962"
         },
         {
          "Goals": 4,
          "goal_id": "G-0665",
          "match_id": "M-1962-32",
          "minute": 17,
          "team_name": "Brazil",
          "tournament_id": "WC-1962"
         },
         {
          "Goals": 5,
          "goal_id": "G-0666",
          "match_id": "M-1962-32",
          "minute": 69,
          "team_name": "Brazil",
          "tournament_id": "WC-1962"
         },
         {
          "Goals": 3,
          "goal_id": "G-0667",
          "match_id": "M-1962-32",
          "minute": 78,
          "team_name": "Brazil",
          "tournament_id": "WC-1962"
         },
         {
          "Goals": 8,
          "goal_id": "G-0673",
          "match_id": "M-1966-03",
          "minute": 15,
          "team_name": "Brazil",
          "tournament_id": "WC-1966"
         },
         {
          "Goals": 8,
          "goal_id": "G-0674",
          "match_id": "M-1966-03",
          "minute": 63,
          "team_name": "Brazil",
          "tournament_id": "WC-1966"
         },
         {
          "Goals": 3,
          "goal_id": "G-0679",
          "match_id": "M-1966-05",
          "minute": 62,
          "team_name": "France",
          "tournament_id": "WC-1966"
         },
         {
          "Goals": 3,
          "goal_id": "G-0680",
          "match_id": "M-1966-06",
          "minute": 65,
          "team_name": "Argentina",
          "tournament_id": "WC-1966"
         },
         {
          "Goals": 3,
          "goal_id": "G-0681",
          "match_id": "M-1966-06",
          "minute": 71,
          "team_name": "Spain",
          "tournament_id": "WC-1966"
         },
         {
          "Goals": 3,
          "goal_id": "G-0682",
          "match_id": "M-1966-06",
          "minute": 77,
          "team_name": "Argentina",
          "tournament_id": "WC-1966"
         },
         {
          "Goals": 2,
          "goal_id": "G-0687",
          "match_id": "M-1966-08",
          "minute": 8,
          "team_name": "Italy",
          "tournament_id": "WC-1966"
         },
         {
          "Goals": 3,
          "goal_id": "G-0688",
          "match_id": "M-1966-08",
          "minute": 88,
          "team_name": "Italy",
          "tournament_id": "WC-1966"
         },
         {
          "Goals": 2,
          "goal_id": "G-0689",
          "match_id": "M-1966-09",
          "minute": 15,
          "team_name": "France",
          "tournament_id": "WC-1966"
         },
         {
          "Goals": 3,
          "goal_id": "G-0690",
          "match_id": "M-1966-09",
          "minute": 26,
          "team_name": "Uruguay",
          "tournament_id": "WC-1966"
         },
         {
          "Goals": 3,
          "goal_id": "G-0691",
          "match_id": "M-1966-09",
          "minute": 31,
          "team_name": "Uruguay",
          "tournament_id": "WC-1966"
         },
         {
          "Goals": 1,
          "goal_id": "G-0693",
          "match_id": "M-1966-10",
          "minute": 57,
          "team_name": "Spain",
          "tournament_id": "WC-1966"
         },
         {
          "Goals": 2,
          "goal_id": "G-0694",
          "match_id": "M-1966-10",
          "minute": 75,
          "team_name": "Spain",
          "tournament_id": "WC-1966"
         },
         {
          "Goals": 2,
          "goal_id": "G-0696",
          "match_id": "M-1966-11",
          "minute": 14,
          "team_name": "Brazil",
          "tournament_id": "WC-1966"
         },
         {
          "Goals": 3,
          "goal_id": "G-0705",
          "match_id": "M-1966-16",
          "minute": 37,
          "team_name": "England",
          "tournament_id": "WC-1966"
         },
         {
          "Goals": 3,
          "goal_id": "G-0706",
          "match_id": "M-1966-16",
          "minute": 75,
          "team_name": "England",
          "tournament_id": "WC-1966"
         },
         {
          "Goals": 2,
          "goal_id": "G-0707",
          "match_id": "M-1966-18",
          "minute": 52,
          "team_name": "Argentina",
          "tournament_id": "WC-1966"
         },
         {
          "Goals": 3,
          "goal_id": "G-0708",
          "match_id": "M-1966-18",
          "minute": 79,
          "team_name": "Argentina",
          "tournament_id": "WC-1966"
         },
         {
          "Goals": 5,
          "goal_id": "G-0711",
          "match_id": "M-1966-19",
          "minute": 73,
          "team_name": "Brazil",
          "tournament_id": "WC-1966"
         },
         {
          "Goals": 5,
          "goal_id": "G-0714",
          "match_id": "M-1966-21",
          "minute": 38,
          "team_name": "England",
          "tournament_id": "WC-1966"
         },
         {
          "Goals": 3,
          "goal_id": "G-0715",
          "match_id": "M-1966-21",
          "minute": 75,
          "team_name": "England",
          "tournament_id": "WC-1966"
         },
         {
          "Goals": 2,
          "goal_id": "G-0716",
          "match_id": "M-1966-22",
          "minute": 23,
          "team_name": "Spain",
          "tournament_id": "WC-1966"
         },
         {
          "Goals": 2,
          "goal_id": "G-0726",
          "match_id": "M-1966-25",
          "minute": 78,
          "team_name": "England",
          "tournament_id": "WC-1966"
         },
         {
          "Goals": 2,
          "goal_id": "G-0745",
          "match_id": "M-1966-30",
          "minute": 30,
          "team_name": "England",
          "tournament_id": "WC-1966"
         },
         {
          "Goals": 2,
          "goal_id": "G-0746",
          "match_id": "M-1966-30",
          "minute": 80,
          "team_name": "England",
          "tournament_id": "WC-1966"
         },
         {
          "Goals": 1,
          "goal_id": "G-0752",
          "match_id": "M-1966-32",
          "minute": 18,
          "team_name": "England",
          "tournament_id": "WC-1966"
         },
         {
          "Goals": 2,
          "goal_id": "G-0753",
          "match_id": "M-1966-32",
          "minute": 78,
          "team_name": "England",
          "tournament_id": "WC-1966"
         },
         {
          "Goals": 1,
          "goal_id": "G-0755",
          "match_id": "M-1966-32",
          "minute": 101,
          "team_name": "England",
          "tournament_id": "WC-1966"
         },
         {
          "Goals": 1,
          "goal_id": "G-0756",
          "match_id": "M-1966-32",
          "minute": 120,
          "team_name": "England",
          "tournament_id": "WC-1966"
         },
         {
          "Goals": 4,
          "goal_id": "G-0757",
          "match_id": "M-1970-02",
          "minute": 23,
          "team_name": "Uruguay",
          "tournament_id": "WC-1970"
         },
         {
          "Goals": 1,
          "goal_id": "G-0758",
          "match_id": "M-1970-02",
          "minute": 50,
          "team_name": "Uruguay",
          "tournament_id": "WC-1970"
         },
         {
          "Goals": 1,
          "goal_id": "G-0759",
          "match_id": "M-1970-03",
          "minute": 65,
          "team_name": "England",
          "tournament_id": "WC-1970"
         },
         {
          "Goals": 2,
          "goal_id": "G-0768",
          "match_id": "M-1970-06",
          "minute": 10,
          "team_name": "Italy",
          "tournament_id": "WC-1970"
         },
         {
          "Goals": 1,
          "goal_id": "G-0770",
          "match_id": "M-1970-07",
          "minute": 24,
          "team_name": "Brazil",
          "tournament_id": "WC-1970"
         },
         {
          "Goals": 7,
          "goal_id": "G-0771",
          "match_id": "M-1970-07",
          "minute": 59,
          "team_name": "Brazil",
          "tournament_id": "WC-1970"
         },
         {
          "Goals": 1,
          "goal_id": "G-0772",
          "match_id": "M-1970-07",
          "minute": 61,
          "team_name": "Brazil",
          "tournament_id": "WC-1970"
         },
         {
          "Goals": 5,
          "goal_id": "G-0773",
          "match_id": "M-1970-07",
          "minute": 83,
          "team_name": "Brazil",
          "tournament_id": "WC-1970"
         },
         {
          "Goals": 7,
          "goal_id": "G-0794",
          "match_id": "M-1970-15",
          "minute": 59,
          "team_name": "Brazil",
          "tournament_id": "WC-1970"
         },
         {
          "Goals": 2,
          "goal_id": "G-0805",
          "match_id": "M-1970-19",
          "minute": 19,
          "team_name": "Brazil",
          "tournament_id": "WC-1970"
         },
         {
          "Goals": 3,
          "goal_id": "G-0806",
          "match_id": "M-1970-19",
          "minute": 22,
          "team_name": "Brazil",
          "tournament_id": "WC-1970"
         },
         {
          "Goals": 4,
          "goal_id": "G-0808",
          "match_id": "M-1970-19",
          "minute": 67,
          "team_name": "Brazil",
          "tournament_id": "WC-1970"
         },
         {
          "Goals": 3,
          "goal_id": "G-0815",
          "match_id": "M-1970-23",
          "minute": 50,
          "team_name": "England",
          "tournament_id": "WC-1970"
         },
         {
          "Goals": 3,
          "goal_id": "G-0818",
          "match_id": "M-1970-25",
          "minute": 11,
          "team_name": "Brazil",
          "tournament_id": "WC-1970"
         },
         {
          "Goals": 8,
          "goal_id": "G-0819",
          "match_id": "M-1970-25",
          "minute": 15,
          "team_name": "Brazil",
          "tournament_id": "WC-1970"
         },
         {
          "Goals": 4,
          "goal_id": "G-0821",
          "match_id": "M-1970-25",
          "minute": 52,
          "team_name": "Brazil",
          "tournament_id": "WC-1970"
         },
         {
          "Goals": 5,
          "goal_id": "G-0823",
          "match_id": "M-1970-25",
          "minute": 75,
          "team_name": "Brazil",
          "tournament_id": "WC-1970"
         },
         {
          "Goals": 5,
          "goal_id": "G-0825",
          "match_id": "M-1970-26",
          "minute": 25,
          "team_name": "Italy",
          "tournament_id": "WC-1970"
         },
         {
          "Goals": 3,
          "goal_id": "G-0826",
          "match_id": "M-1970-26",
          "minute": 63,
          "team_name": "Italy",
          "tournament_id": "WC-1970"
         },
         {
          "Goals": 1,
          "goal_id": "G-0827",
          "match_id": "M-1970-26",
          "minute": 70,
          "team_name": "Italy",
          "tournament_id": "WC-1970"
         },
         {
          "Goals": 1,
          "goal_id": "G-0828",
          "match_id": "M-1970-26",
          "minute": 76,
          "team_name": "Italy",
          "tournament_id": "WC-1970"
         },
         {
          "Goals": 1,
          "goal_id": "G-0829",
          "match_id": "M-1970-27",
          "minute": 117,
          "team_name": "Uruguay",
          "tournament_id": "WC-1970"
         },
         {
          "Goals": 3,
          "goal_id": "G-0830",
          "match_id": "M-1970-28",
          "minute": 31,
          "team_name": "England",
          "tournament_id": "WC-1970"
         },
         {
          "Goals": 1,
          "goal_id": "G-0831",
          "match_id": "M-1970-28",
          "minute": 49,
          "team_name": "England",
          "tournament_id": "WC-1970"
         },
         {
          "Goals": 2,
          "goal_id": "G-0835",
          "match_id": "M-1970-29",
          "minute": 19,
          "team_name": "Uruguay",
          "tournament_id": "WC-1970"
         },
         {
          "Goals": 6,
          "goal_id": "G-0836",
          "match_id": "M-1970-29",
          "minute": 44,
          "team_name": "Brazil",
          "tournament_id": "WC-1970"
         },
         {
          "Goals": 2,
          "goal_id": "G-0837",
          "match_id": "M-1970-29",
          "minute": 76,
          "team_name": "Brazil",
          "tournament_id": "WC-1970"
         },
         {
          "Goals": 1,
          "goal_id": "G-0838",
          "match_id": "M-1970-29",
          "minute": 89,
          "team_name": "Brazil",
          "tournament_id": "WC-1970"
         },
         {
          "Goals": 2,
          "goal_id": "G-0839",
          "match_id": "M-1970-30",
          "minute": 8,
          "team_name": "Italy",
          "tournament_id": "WC-1970"
         },
         {
          "Goals": 1,
          "goal_id": "G-0842",
          "match_id": "M-1970-30",
          "minute": 98,
          "team_name": "Italy",
          "tournament_id": "WC-1970"
         },
         {
          "Goals": 1,
          "goal_id": "G-0843",
          "match_id": "M-1970-30",
          "minute": 104,
          "team_name": "Italy",
          "tournament_id": "WC-1970"
         },
         {
          "Goals": 1,
          "goal_id": "G-0845",
          "match_id": "M-1970-30",
          "minute": 111,
          "team_name": "Italy",
          "tournament_id": "WC-1970"
         },
         {
          "Goals": 4,
          "goal_id": "G-0847",
          "match_id": "M-1970-32",
          "minute": 18,
          "team_name": "Brazil",
          "tournament_id": "WC-1970"
         },
         {
          "Goals": 3,
          "goal_id": "G-0848",
          "match_id": "M-1970-32",
          "minute": 37,
          "team_name": "Italy",
          "tournament_id": "WC-1970"
         },
         {
          "Goals": 6,
          "goal_id": "G-0849",
          "match_id": "M-1970-32",
          "minute": 66,
          "team_name": "Brazil",
          "tournament_id": "WC-1970"
         },
         {
          "Goals": 5,
          "goal_id": "G-0850",
          "match_id": "M-1970-32",
          "minute": 71,
          "team_name": "Brazil",
          "tournament_id": "WC-1970"
         },
         {
          "Goals": 3,
          "goal_id": "G-0851",
          "match_id": "M-1970-32",
          "minute": 86,
          "team_name": "Brazil",
          "tournament_id": "WC-1970"
         },
         {
          "Goals": 2,
          "goal_id": "G-0860",
          "match_id": "M-1974-07",
          "minute": 52,
          "team_name": "Italy",
          "tournament_id": "WC-1974"
         },
         {
          "Goals": 2,
          "goal_id": "G-0861",
          "match_id": "M-1974-07",
          "minute": 66,
          "team_name": "Italy",
          "tournament_id": "WC-1974"
         },
         {
          "Goals": 1,
          "goal_id": "G-0862",
          "match_id": "M-1974-07",
          "minute": 79,
          "team_name": "Italy",
          "tournament_id": "WC-1974"
         },
         {
          "Goals": 5,
          "goal_id": "G-0865",
          "match_id": "M-1974-08",
          "minute": 60,
          "team_name": "Argentina",
          "tournament_id": "WC-1974"
         },
         {
          "Goals": 1,
          "goal_id": "G-0867",
          "match_id": "M-1974-08",
          "minute": 66,
          "team_name": "Argentina",
          "tournament_id": "WC-1974"
         },
         {
          "Goals": 2,
          "goal_id": "G-0883",
          "match_id": "M-1974-13",
          "minute": 87,
          "team_name": "Uruguay",
          "tournament_id": "WC-1974"
         },
         {
          "Goals": 4,
          "goal_id": "G-0884",
          "match_id": "M-1974-15",
          "minute": 20,
          "team_name": "Argentina",
          "tournament_id": "WC-1974"
         },
         {
          "Goals": 4,
          "goal_id": "G-0885",
          "match_id": "M-1974-15",
          "minute": 35,
          "team_name": "Italy",
          "tournament_id": "WC-1974"
         },
         {
          "Goals": 3,
          "goal_id": "G-0895",
          "match_id": "M-1974-19",
          "minute": 12,
          "team_name": "Brazil",
          "tournament_id": "WC-1974"
         },
         {
          "Goals": 6,
          "goal_id": "G-0896",
          "match_id": "M-1974-19",
          "minute": 66,
          "team_name": "Brazil",
          "tournament_id": "WC-1974"
         },
         {
          "Goals": 5,
          "goal_id": "G-0897",
          "match_id": "M-1974-19",
          "minute": 79,
          "team_name": "Brazil",
          "tournament_id": "WC-1974"
         },
         {
          "Goals": 1,
          "goal_id": "G-0907",
          "match_id": "M-1974-23",
          "minute": 15,
          "team_name": "Argentina",
          "tournament_id": "WC-1974"
         },
         {
          "Goals": 2,
          "goal_id": "G-0908",
          "match_id": "M-1974-23",
          "minute": 18,
          "team_name": "Argentina",
          "tournament_id": "WC-1974"
         },
         {
          "Goals": 4,
          "goal_id": "G-0909",
          "match_id": "M-1974-23",
          "minute": 55,
          "team_name": "Argentina",
          "tournament_id": "WC-1974"
         },
         {
          "Goals": 1,
          "goal_id": "G-0911",
          "match_id": "M-1974-23",
          "minute": 68,
          "team_name": "Argentina",
          "tournament_id": "WC-1974"
         },
         {
          "Goals": 2,
          "goal_id": "G-0914",
          "match_id": "M-1974-24",
          "minute": 85,
          "team_name": "Italy",
          "tournament_id": "WC-1974"
         },
         {
          "Goals": 1,
          "goal_id": "G-0917",
          "match_id": "M-1974-26",
          "minute": 60,
          "team_name": "Brazil",
          "tournament_id": "WC-1974"
         },
         {
          "Goals": 5,
          "goal_id": "G-0923",
          "match_id": "M-1974-29",
          "minute": 32,
          "team_name": "Brazil",
          "tournament_id": "WC-1974"
         },
         {
          "Goals": 3,
          "goal_id": "G-0924",
          "match_id": "M-1974-29",
          "minute": 35,
          "team_name": "Argentina",
          "tournament_id": "WC-1974"
         },
         {
          "Goals": 5,
          "goal_id": "G-0925",
          "match_id": "M-1974-29",
          "minute": 49,
          "team_name": "Brazil",
          "tournament_id": "WC-1974"
         },
         {
          "Goals": 4,
          "goal_id": "G-0939",
          "match_id": "M-1974-34",
          "minute": 20,
          "team_name": "Argentina",
          "tournament_id": "WC-1974"
         },
         {
          "Goals": 3,
          "goal_id": "G-0949",
          "match_id": "M-1978-02",
          "minute": 1,
          "team_name": "France",
          "tournament_id": "WC-1978"
         },
         {
          "Goals": 4,
          "goal_id": "G-0950",
          "match_id": "M-1978-02",
          "minute": 29,
          "team_name": "Italy",
          "tournament_id": "WC-1978"
         },
         {
          "Goals": 1,
          "goal_id": "G-0951",
          "match_id": "M-1978-02",
          "minute": 54,
          "team_name": "Italy",
          "tournament_id": "WC-1978"
         },
         {
          "Goals": 2,
          "goal_id": "G-0957",
          "match_id": "M-1978-04",
          "minute": 14,
          "team_name": "Argentina",
          "tournament_id": "WC-1978"
         },
         {
          "Goals": 3,
          "goal_id": "G-0958",
          "match_id": "M-1978-04",
          "minute": 83,
          "team_name": "Argentina",
          "tournament_id": "WC-1978"
         },
         {
          "Goals": 3,
          "goal_id": "G-0960",
          "match_id": "M-1978-05",
          "minute": 21,
          "team_name": "Spain",
          "tournament_id": "WC-1978"
         },
         {
          "Goals": 2,
          "goal_id": "G-0963",
          "match_id": "M-1978-06",
          "minute": 45,
          "team_name": "Brazil",
          "tournament_id": "WC-1978"
         },
         {
          "Goals": 1,
          "goal_id": "G-0971",
          "match_id": "M-1978-09",
          "minute": 34,
          "team_name": "Italy",
          "tournament_id": "WC-1978"
         },
         {
          "Goals": 4,
          "goal_id": "G-0972",
          "match_id": "M-1978-09",
          "minute": 35,
          "team_name": "Italy",
          "tournament_id": "WC-1978"
         },
         {
          "Goals": 1,
          "goal_id": "G-0973",
          "match_id": "M-1978-09",
          "minute": 61,
          "team_name": "Italy",
          "tournament_id": "WC-1978"
         },
         {
          "Goals": 1,
          "goal_id": "G-0982",
          "match_id": "M-1978-12",
          "minute": 45,
          "team_name": "Argentina",
          "tournament_id": "WC-1978"
         },
         {
          "Goals": 2,
          "goal_id": "G-0983",
          "match_id": "M-1978-12",
          "minute": 60,
          "team_name": "France",
          "tournament_id": "WC-1978"
         },
         {
          "Goals": 3,
          "goal_id": "G-0984",
          "match_id": "M-1978-12",
          "minute": 73,
          "team_name": "Argentina",
          "tournament_id": "WC-1978"
         },
         {
          "Goals": 1,
          "goal_id": "G-0988",
          "match_id": "M-1978-17",
          "minute": 23,
          "team_name": "France",
          "tournament_id": "WC-1978"
         },
         {
          "Goals": 2,
          "goal_id": "G-0989",
          "match_id": "M-1978-17",
          "minute": 38,
          "team_name": "France",
          "tournament_id": "WC-1978"
         },
         {
          "Goals": 1,
          "goal_id": "G-0991",
          "match_id": "M-1978-17",
          "minute": 42,
          "team_name": "France",
          "tournament_id": "WC-1978"
         },
         {
          "Goals": 4,
          "goal_id": "G-0996",
          "match_id": "M-1978-20",
          "minute": 67,
          "team_name": "Italy",
          "tournament_id": "WC-1978"
         },
         {
          "Goals": 2,
          "goal_id": "G-0997",
          "match_id": "M-1978-21",
          "minute": 40,
          "team_name": "Brazil",
          "tournament_id": "WC-1978"
         },
         {
          "Goals": 2,
          "goal_id": "G-0998",
          "match_id": "M-1978-22",
          "minute": 75,
          "team_name": "Spain",
          "tournament_id": "WC-1978"
         },
         {
          "Goals": 8,
          "goal_id": "G-1015",
          "match_id": "M-1978-27",
          "minute": 15,
          "team_name": "Brazil",
          "tournament_id": "WC-1978"
         },
         {
          "Goals": 3,
          "goal_id": "G-1016",
          "match_id": "M-1978-27",
          "minute": 27,
          "team_name": "Brazil",
          "tournament_id": "WC-1978"
         },
         {
          "Goals": 5,
          "goal_id": "G-1017",
          "match_id": "M-1978-27",
          "minute": 72,
          "team_name": "Brazil",
          "tournament_id": "WC-1978"
         },
         {
          "Goals": 2,
          "goal_id": "G-1018",
          "match_id": "M-1978-28",
          "minute": 16,
          "team_name": "Argentina",
          "tournament_id": "WC-1978"
         },
         {
          "Goals": 2,
          "goal_id": "G-1019",
          "match_id": "M-1978-28",
          "minute": 71,
          "team_name": "Argentina",
          "tournament_id": "WC-1978"
         },
         {
          "Goals": 1,
          "goal_id": "G-1021",
          "match_id": "M-1978-30",
          "minute": 13,
          "team_name": "Italy",
          "tournament_id": "WC-1978"
         },
         {
          "Goals": 3,
          "goal_id": "G-1031",
          "match_id": "M-1978-34",
          "minute": 19,
          "team_name": "Italy",
          "tournament_id": "WC-1978"
         },
         {
          "Goals": 3,
          "goal_id": "G-1034",
          "match_id": "M-1978-35",
          "minute": 13,
          "team_name": "Brazil",
          "tournament_id": "WC-1978"
         },
         {
          "Goals": 3,
          "goal_id": "G-1036",
          "match_id": "M-1978-35",
          "minute": 58,
          "team_name": "Brazil",
          "tournament_id": "WC-1978"
         },
         {
          "Goals": 8,
          "goal_id": "G-1037",
          "match_id": "M-1978-35",
          "minute": 63,
          "team_name": "Brazil",
          "tournament_id": "WC-1978"
         },
         {
          "Goals": 2,
          "goal_id": "G-1038",
          "match_id": "M-1978-36",
          "minute": 21,
          "team_name": "Argentina",
          "tournament_id": "WC-1978"
         },
         {
          "Goals": 1,
          "goal_id": "G-1039",
          "match_id": "M-1978-36",
          "minute": 43,
          "team_name": "Argentina",
          "tournament_id": "WC-1978"
         },
         {
          "Goals": 2,
          "goal_id": "G-1040",
          "match_id": "M-1978-36",
          "minute": 49,
          "team_name": "Argentina",
          "tournament_id": "WC-1978"
         },
         {
          "Goals": 2,
          "goal_id": "G-1041",
          "match_id": "M-1978-36",
          "minute": 50,
          "team_name": "Argentina",
          "tournament_id": "WC-1978"
         },
         {
          "Goals": 3,
          "goal_id": "G-1042",
          "match_id": "M-1978-36",
          "minute": 67,
          "team_name": "Argentina",
          "tournament_id": "WC-1978"
         },
         {
          "Goals": 1,
          "goal_id": "G-1043",
          "match_id": "M-1978-36",
          "minute": 72,
          "team_name": "Argentina",
          "tournament_id": "WC-1978"
         },
         {
          "Goals": 2,
          "goal_id": "G-1044",
          "match_id": "M-1978-37",
          "minute": 38,
          "team_name": "Italy",
          "tournament_id": "WC-1978"
         },
         {
          "Goals": 5,
          "goal_id": "G-1045",
          "match_id": "M-1978-37",
          "minute": 64,
          "team_name": "Brazil",
          "tournament_id": "WC-1978"
         },
         {
          "Goals": 5,
          "goal_id": "G-1046",
          "match_id": "M-1978-37",
          "minute": 71,
          "team_name": "Brazil",
          "tournament_id": "WC-1978"
         },
         {
          "Goals": 2,
          "goal_id": "G-1047",
          "match_id": "M-1978-38",
          "minute": 38,
          "team_name": "Argentina",
          "tournament_id": "WC-1978"
         },
         {
          "Goals": 1,
          "goal_id": "G-1049",
          "match_id": "M-1978-38",
          "minute": 105,
          "team_name": "Argentina",
          "tournament_id": "WC-1978"
         },
         {
          "Goals": 1,
          "goal_id": "G-1050",
          "match_id": "M-1978-38",
          "minute": 115,
          "team_name": "Argentina",
          "tournament_id": "WC-1978"
         },
         {
          "Goals": 5,
          "goal_id": "G-1053",
          "match_id": "M-1982-03",
          "minute": 75,
          "team_name": "Brazil",
          "tournament_id": "WC-1982"
         },
         {
          "Goals": 3,
          "goal_id": "G-1054",
          "match_id": "M-1982-03",
          "minute": 88,
          "team_name": "Brazil",
          "tournament_id": "WC-1982"
         },
         {
          "Goals": 1,
          "goal_id": "G-1076",
          "match_id": "M-1982-08",
          "minute": 1,
          "team_name": "England",
          "tournament_id": "WC-1982"
         },
         {
          "Goals": 3,
          "goal_id": "G-1077",
          "match_id": "M-1982-08",
          "minute": 24,
          "team_name": "France",
          "tournament_id": "WC-1982"
         },
         {
          "Goals": 3,
          "goal_id": "G-1078",
          "match_id": "M-1982-08",
          "minute": 67,
          "team_name": "England",
          "tournament_id": "WC-1982"
         },
         {
          "Goals": 4,
          "goal_id": "G-1079",
          "match_id": "M-1982-08",
          "minute": 83,
          "team_name": "England",
          "tournament_id": "WC-1982"
         },
         {
          "Goals": 1,
          "goal_id": "G-1081",
          "match_id": "M-1982-09",
          "minute": 65,
          "team_name": "Spain",
          "tournament_id": "WC-1982"
         },
         {
          "Goals": 4,
          "goal_id": "G-1085",
          "match_id": "M-1982-13",
          "minute": 18,
          "team_name": "Italy",
          "tournament_id": "WC-1982"
         },
         {
          "Goals": 2,
          "goal_id": "G-1087",
          "match_id": "M-1982-14",
          "minute": 26,
          "team_name": "Argentina",
          "tournament_id": "WC-1982"
         },
         {
          "Goals": 3,
          "goal_id": "G-1088",
          "match_id": "M-1982-14",
          "minute": 28,
          "team_name": "Argentina",
          "tournament_id": "WC-1982"
         },
         {
          "Goals": 2,
          "goal_id": "G-1089",
          "match_id": "M-1982-14",
          "minute": 57,
          "team_name": "Argentina",
          "tournament_id": "WC-1982"
         },
         {
          "Goals": 5,
          "goal_id": "G-1090",
          "match_id": "M-1982-14",
          "minute": 60,
          "team_name": "Argentina",
          "tournament_id": "WC-1982"
         },
         {
          "Goals": 3,
          "goal_id": "G-1093",
          "match_id": "M-1982-15",
          "minute": 33,
          "team_name": "Brazil",
          "tournament_id": "WC-1982"
         },
         {
          "Goals": 3,
          "goal_id": "G-1094",
          "match_id": "M-1982-15",
          "minute": 48,
          "team_name": "Brazil",
          "tournament_id": "WC-1982"
         },
         {
          "Goals": 8,
          "goal_id": "G-1095",
          "match_id": "M-1982-15",
          "minute": 63,
          "team_name": "Brazil",
          "tournament_id": "WC-1982"
         },
         {
          "Goals": 5,
          "goal_id": "G-1096",
          "match_id": "M-1982-15",
          "minute": 87,
          "team_name": "Brazil",
          "tournament_id": "WC-1982"
         },
         {
          "Goals": 4,
          "goal_id": "G-1106",
          "match_id": "M-1982-20",
          "minute": 62,
          "team_name": "England",
          "tournament_id": "WC-1982"
         },
         {
          "Goals": 3,
          "goal_id": "G-1107",
          "match_id": "M-1982-20",
          "minute": 66,
          "team_name": "England",
          "tournament_id": "WC-1982"
         },
         {
          "Goals": 2,
          "goal_id": "G-1109",
          "match_id": "M-1982-21",
          "minute": 14,
          "team_name": "Spain",
          "tournament_id": "WC-1982"
         },
         {
          "Goals": 2,
          "goal_id": "G-1110",
          "match_id": "M-1982-21",
          "minute": 66,
          "team_name": "Spain",
          "tournament_id": "WC-1982"
         },
         {
          "Goals": 1,
          "goal_id": "G-1113",
          "match_id": "M-1982-23",
          "minute": 31,
          "team_name": "France",
          "tournament_id": "WC-1982"
         },
         {
          "Goals": 3,
          "goal_id": "G-1114",
          "match_id": "M-1982-23",
          "minute": 43,
          "team_name": "France",
          "tournament_id": "WC-1982"
         },
         {
          "Goals": 3,
          "goal_id": "G-1115",
          "match_id": "M-1982-23",
          "minute": 48,
          "team_name": "France",
          "tournament_id": "WC-1982"
         },
         {
          "Goals": 2,
          "goal_id": "G-1117",
          "match_id": "M-1982-23",
          "minute": 89,
          "team_name": "France",
          "tournament_id": "WC-1982"
         },
         {
          "Goals": 2,
          "goal_id": "G-1132",
          "match_id": "M-1982-28",
          "minute": 60,
          "team_name": "Italy",
          "tournament_id": "WC-1982"
         },
         {
          "Goals": 1,
          "goal_id": "G-1134",
          "match_id": "M-1982-29",
          "minute": 22,
          "team_name": "Argentina",
          "tournament_id": "WC-1982"
         },
         {
          "Goals": 1,
          "goal_id": "G-1135",
          "match_id": "M-1982-29",
          "minute": 54,
          "team_name": "Argentina",
          "tournament_id": "WC-1982"
         },
         {
          "Goals": 1,
          "goal_id": "G-1136",
          "match_id": "M-1982-30",
          "minute": 28,
          "team_name": "Brazil",
          "tournament_id": "WC-1982"
         },
         {
          "Goals": 3,
          "goal_id": "G-1137",
          "match_id": "M-1982-30",
          "minute": 31,
          "team_name": "Brazil",
          "tournament_id": "WC-1982"
         },
         {
          "Goals": 5,
          "goal_id": "G-1138",
          "match_id": "M-1982-30",
          "minute": 64,
          "team_name": "Brazil",
          "tournament_id": "WC-1982"
         },
         {
          "Goals": 2,
          "goal_id": "G-1139",
          "match_id": "M-1982-30",
          "minute": 70,
          "team_name": "Brazil",
          "tournament_id": "WC-1982"
         },
         {
          "Goals": 2,
          "goal_id": "G-1145",
          "match_id": "M-1982-32",
          "minute": 66,
          "team_name": "France",
          "tournament_id": "WC-1982"
         },
         {
          "Goals": 2,
          "goal_id": "G-1149",
          "match_id": "M-1982-35",
          "minute": 27,
          "team_name": "England",
          "tournament_id": "WC-1982"
         },
         {
          "Goals": 1,
          "goal_id": "G-1151",
          "match_id": "M-1982-37",
          "minute": 39,
          "team_name": "France",
          "tournament_id": "WC-1982"
         },
         {
          "Goals": 2,
          "goal_id": "G-1155",
          "match_id": "M-1982-39",
          "minute": 57,
          "team_name": "Italy",
          "tournament_id": "WC-1982"
         },
         {
          "Goals": 4,
          "goal_id": "G-1156",
          "match_id": "M-1982-39",
          "minute": 67,
          "team_name": "Italy",
          "tournament_id": "WC-1982"
         },
         {
          "Goals": 3,
          "goal_id": "G-1157",
          "match_id": "M-1982-39",
          "minute": 83,
          "team_name": "Argentina",
          "tournament_id": "WC-1982"
         },
         {
          "Goals": 3,
          "goal_id": "G-1163",
          "match_id": "M-1982-43",
          "minute": 11,
          "team_name": "Brazil",
          "tournament_id": "WC-1982"
         },
         {
          "Goals": 6,
          "goal_id": "G-1164",
          "match_id": "M-1982-43",
          "minute": 66,
          "team_name": "Brazil",
          "tournament_id": "WC-1982"
         },
         {
          "Goals": 5,
          "goal_id": "G-1165",
          "match_id": "M-1982-43",
          "minute": 75,
          "team_name": "Brazil",
          "tournament_id": "WC-1982"
         },
         {
          "Goals": 2,
          "goal_id": "G-1166",
          "match_id": "M-1982-43",
          "minute": 89,
          "team_name": "Argentina",
          "tournament_id": "WC-1982"
         },
         {
          "Goals": 3,
          "goal_id": "G-1169",
          "match_id": "M-1982-44",
          "minute": 82,
          "team_name": "Spain",
          "tournament_id": "WC-1982"
         },
         {
          "Goals": 2,
          "goal_id": "G-1170",
          "match_id": "M-1982-45",
          "minute": 33,
          "team_name": "France",
          "tournament_id": "WC-1982"
         },
         {
          "Goals": 3,
          "goal_id": "G-1171",
          "match_id": "M-1982-45",
          "minute": 46,
          "team_name": "France",
          "tournament_id": "WC-1982"
         },
         {
          "Goals": 5,
          "goal_id": "G-1172",
          "match_id": "M-1982-45",
          "minute": 68,
          "team_name": "France",
          "tournament_id": "WC-1982"
         },
         {
          "Goals": 3,
          "goal_id": "G-1174",
          "match_id": "M-1982-45",
          "minute": 80,
          "team_name": "France",
          "tournament_id": "WC-1982"
         },
         {
          "Goals": 1,
          "goal_id": "G-1175",
          "match_id": "M-1982-47",
          "minute": 5,
          "team_name": "Italy",
          "tournament_id": "WC-1982"
         },
         {
          "Goals": 3,
          "goal_id": "G-1176",
          "match_id": "M-1982-47",
          "minute": 12,
          "team_name": "Brazil",
          "tournament_id": "WC-1982"
         },
         {
          "Goals": 5,
          "goal_id": "G-1177",
          "match_id": "M-1982-47",
          "minute": 25,
          "team_name": "Italy",
          "tournament_id": "WC-1982"
         },
         {
          "Goals": 5,
          "goal_id": "G-1178",
          "match_id": "M-1982-47",
          "minute": 68,
          "team_name": "Brazil",
          "tournament_id": "WC-1982"
         },
         {
          "Goals": 1,
          "goal_id": "G-1179",
          "match_id": "M-1982-47",
          "minute": 74,
          "team_name": "Italy",
          "tournament_id": "WC-1982"
         },
         {
          "Goals": 2,
          "goal_id": "G-1180",
          "match_id": "M-1982-49",
          "minute": 22,
          "team_name": "Italy",
          "tournament_id": "WC-1982"
         },
         {
          "Goals": 2,
          "goal_id": "G-1181",
          "match_id": "M-1982-49",
          "minute": 73,
          "team_name": "Italy",
          "tournament_id": "WC-1982"
         },
         {
          "Goals": 1,
          "goal_id": "G-1183",
          "match_id": "M-1982-50",
          "minute": 26,
          "team_name": "France",
          "tournament_id": "WC-1982"
         },
         {
          "Goals": 1,
          "goal_id": "G-1184",
          "match_id": "M-1982-50",
          "minute": 92,
          "team_name": "France",
          "tournament_id": "WC-1982"
         },
         {
          "Goals": 1,
          "goal_id": "G-1185",
          "match_id": "M-1982-50",
          "minute": 98,
          "team_name": "France",
          "tournament_id": "WC-1982"
         },
         {
          "Goals": 3,
          "goal_id": "G-1188",
          "match_id": "M-1982-51",
          "minute": 13,
          "team_name": "France",
          "tournament_id": "WC-1982"
         },
         {
          "Goals": 4,
          "goal_id": "G-1192",
          "match_id": "M-1982-51",
          "minute": 72,
          "team_name": "France",
          "tournament_id": "WC-1982"
         },
         {
          "Goals": 2,
          "goal_id": "G-1193",
          "match_id": "M-1982-52",
          "minute": 57,
          "team_name": "Italy",
          "tournament_id": "WC-1982"
         },
         {
          "Goals": 4,
          "goal_id": "G-1194",
          "match_id": "M-1982-52",
          "minute": 69,
          "team_name": "Italy",
          "tournament_id": "WC-1982"
         },
         {
          "Goals": 4,
          "goal_id": "G-1195",
          "match_id": "M-1982-52",
          "minute": 81,
          "team_name": "Italy",
          "tournament_id": "WC-1982"
         },
         {
          "Goals": 3,
          "goal_id": "G-1197",
          "match_id": "M-1986-01",
          "minute": 44,
          "team_name": "Italy",
          "tournament_id": "WC-1986"
         },
         {
          "Goals": 7,
          "goal_id": "G-1199",
          "match_id": "M-1986-02",
          "minute": 62,
          "team_name": "Brazil",
          "tournament_id": "WC-1986"
         },
         {
          "Goals": 4,
          "goal_id": "G-1200",
          "match_id": "M-1986-03",
          "minute": 79,
          "team_name": "France",
          "tournament_id": "WC-1986"
         },
         {
          "Goals": 3,
          "goal_id": "G-1201",
          "match_id": "M-1986-04",
          "minute": 6,
          "team_name": "Argentina",
          "tournament_id": "WC-1986"
         },
         {
          "Goals": 2,
          "goal_id": "G-1202",
          "match_id": "M-1986-04",
          "minute": 18,
          "team_name": "Argentina",
          "tournament_id": "WC-1986"
         },
         {
          "Goals": 2,
          "goal_id": "G-1203",
          "match_id": "M-1986-04",
          "minute": 46,
          "team_name": "Argentina",
          "tournament_id": "WC-1986"
         },
         {
          "Goals": 1,
          "goal_id": "G-1218",
          "match_id": "M-1986-11",
          "minute": 4,
          "team_name": "Uruguay",
          "tournament_id": "WC-1986"
         },
         {
          "Goals": 3,
          "goal_id": "G-1221",
          "match_id": "M-1986-13",
          "minute": 6,
          "team_name": "Italy",
          "tournament_id": "WC-1986"
         },
         {
          "Goals": 2,
          "goal_id": "G-1222",
          "match_id": "M-1986-13",
          "minute": 34,
          "team_name": "Argentina",
          "tournament_id": "WC-1986"
         },
         {
          "Goals": 3,
          "goal_id": "G-1224",
          "match_id": "M-1986-14",
          "minute": 62,
          "team_name": "France",
          "tournament_id": "WC-1986"
         },
         {
          "Goals": 6,
          "goal_id": "G-1229",
          "match_id": "M-1986-17",
          "minute": 66,
          "team_name": "Brazil",
          "tournament_id": "WC-1986"
         },
         {
          "Goals": 1,
          "goal_id": "G-1232",
          "match_id": "M-1986-20",
          "minute": 1,
          "team_name": "Spain",
          "tournament_id": "WC-1986"
         },
         {
          "Goals": 3,
          "goal_id": "G-1233",
          "match_id": "M-1986-20",
          "minute": 18,
          "team_name": "Spain",
          "tournament_id": "WC-1986"
         },
         {
          "Goals": 1,
          "goal_id": "G-1244",
          "match_id": "M-1986-24",
          "minute": 45,
          "team_name": "Uruguay",
          "tournament_id": "WC-1986"
         },
         {
          "Goals": 2,
          "goal_id": "G-1249",
          "match_id": "M-1986-25",
          "minute": 29,
          "team_name": "France",
          "tournament_id": "WC-1986"
         },
         {
          "Goals": 3,
          "goal_id": "G-1250",
          "match_id": "M-1986-25",
          "minute": 62,
          "team_name": "France",
          "tournament_id": "WC-1986"
         },
         {
          "Goals": 2,
          "goal_id": "G-1251",
          "match_id": "M-1986-25",
          "minute": 84,
          "team_name": "France",
          "tournament_id": "WC-1986"
         },
         {
          "Goals": 3,
          "goal_id": "G-1254",
          "match_id": "M-1986-27",
          "minute": 4,
          "team_name": "Argentina",
          "tournament_id": "WC-1986"
         },
         {
          "Goals": 3,
          "goal_id": "G-1255",
          "match_id": "M-1986-27",
          "minute": 77,
          "team_name": "Argentina",
          "tournament_id": "WC-1986"
         },
         {
          "Goals": 2,
          "goal_id": "G-1256",
          "match_id": "M-1986-28",
          "minute": 17,
          "team_name": "Italy",
          "tournament_id": "WC-1986"
         },
         {
          "Goals": 2,
          "goal_id": "G-1258",
          "match_id": "M-1986-28",
          "minute": 73,
          "team_name": "Italy",
          "tournament_id": "WC-1986"
         },
         {
          "Goals": 2,
          "goal_id": "G-1259",
          "match_id": "M-1986-28",
          "minute": 82,
          "team_name": "Italy",
          "tournament_id": "WC-1986"
         },
         {
          "Goals": 4,
          "goal_id": "G-1266",
          "match_id": "M-1986-31",
          "minute": 9,
          "team_name": "England",
          "tournament_id": "WC-1986"
         },
         {
          "Goals": 5,
          "goal_id": "G-1267",
          "match_id": "M-1986-31",
          "minute": 14,
          "team_name": "England",
          "tournament_id": "WC-1986"
         },
         {
          "Goals": 2,
          "goal_id": "G-1268",
          "match_id": "M-1986-31",
          "minute": 34,
          "team_name": "England",
          "tournament_id": "WC-1986"
         },
         {
          "Goals": 2,
          "goal_id": "G-1273",
          "match_id": "M-1986-33",
          "minute": 15,
          "team_name": "Spain",
          "tournament_id": "WC-1986"
         },
         {
          "Goals": 2,
          "goal_id": "G-1274",
          "match_id": "M-1986-33",
          "minute": 68,
          "team_name": "Spain",
          "tournament_id": "WC-1986"
         },
         {
          "Goals": 2,
          "goal_id": "G-1275",
          "match_id": "M-1986-33",
          "minute": 70,
          "team_name": "Spain",
          "tournament_id": "WC-1986"
         },
         {
          "Goals": 8,
          "goal_id": "G-1276",
          "match_id": "M-1986-34",
          "minute": 15,
          "team_name": "Brazil",
          "tournament_id": "WC-1986"
         },
         {
          "Goals": 3,
          "goal_id": "G-1277",
          "match_id": "M-1986-34",
          "minute": 42,
          "team_name": "Brazil",
          "tournament_id": "WC-1986"
         },
         {
          "Goals": 5,
          "goal_id": "G-1278",
          "match_id": "M-1986-34",
          "minute": 87,
          "team_name": "Brazil",
          "tournament_id": "WC-1986"
         },
         {
          "Goals": 4,
          "goal_id": "G-1290",
          "match_id": "M-1986-39",
          "minute": 30,
          "team_name": "Brazil",
          "tournament_id": "WC-1986"
         },
         {
          "Goals": 7,
          "goal_id": "G-1291",
          "match_id": "M-1986-39",
          "minute": 55,
          "team_name": "Brazil",
          "tournament_id": "WC-1986"
         },
         {
          "Goals": 5,
          "goal_id": "G-1292",
          "match_id": "M-1986-39",
          "minute": 79,
          "team_name": "Brazil",
          "tournament_id": "WC-1986"
         },
         {
          "Goals": 5,
          "goal_id": "G-1293",
          "match_id": "M-1986-39",
          "minute": 83,
          "team_name": "Brazil",
          "tournament_id": "WC-1986"
         },
         {
          "Goals": 1,
          "goal_id": "G-1294",
          "match_id": "M-1986-40",
          "minute": 42,
          "team_name": "Argentina",
          "tournament_id": "WC-1986"
         },
         {
          "Goals": 2,
          "goal_id": "G-1295",
          "match_id": "M-1986-41",
          "minute": 15,
          "team_name": "France",
          "tournament_id": "WC-1986"
         },
         {
          "Goals": 3,
          "goal_id": "G-1296",
          "match_id": "M-1986-41",
          "minute": 57,
          "team_name": "France",
          "tournament_id": "WC-1986"
         },
         {
          "Goals": 3,
          "goal_id": "G-1298",
          "match_id": "M-1986-43",
          "minute": 31,
          "team_name": "England",
          "tournament_id": "WC-1986"
         },
         {
          "Goals": 2,
          "goal_id": "G-1299",
          "match_id": "M-1986-43",
          "minute": 56,
          "team_name": "England",
          "tournament_id": "WC-1986"
         },
         {
          "Goals": 1,
          "goal_id": "G-1300",
          "match_id": "M-1986-43",
          "minute": 73,
          "team_name": "England",
          "tournament_id": "WC-1986"
         },
         {
          "Goals": 1,
          "goal_id": "G-1302",
          "match_id": "M-1986-44",
          "minute": 43,
          "team_name": "Spain",
          "tournament_id": "WC-1986"
         },
         {
          "Goals": 2,
          "goal_id": "G-1303",
          "match_id": "M-1986-44",
          "minute": 56,
          "team_name": "Spain",
          "tournament_id": "WC-1986"
         },
         {
          "Goals": 2,
          "goal_id": "G-1304",
          "match_id": "M-1986-44",
          "minute": 68,
          "team_name": "Spain",
          "tournament_id": "WC-1986"
         },
         {
          "Goals": 1,
          "goal_id": "G-1305",
          "match_id": "M-1986-44",
          "minute": 80,
          "team_name": "Spain",
          "tournament_id": "WC-1986"
         },
         {
          "Goals": 2,
          "goal_id": "G-1306",
          "match_id": "M-1986-44",
          "minute": 88,
          "team_name": "Spain",
          "tournament_id": "WC-1986"
         },
         {
          "Goals": 4,
          "goal_id": "G-1307",
          "match_id": "M-1986-45",
          "minute": 17,
          "team_name": "Brazil",
          "tournament_id": "WC-1986"
         },
         {
          "Goals": 4,
          "goal_id": "G-1308",
          "match_id": "M-1986-45",
          "minute": 40,
          "team_name": "France",
          "tournament_id": "WC-1986"
         },
         {
          "Goals": 3,
          "goal_id": "G-1309",
          "match_id": "M-1986-47",
          "minute": 51,
          "team_name": "Argentina",
          "tournament_id": "WC-1986"
         },
         {
          "Goals": 4,
          "goal_id": "G-1310",
          "match_id": "M-1986-47",
          "minute": 55,
          "team_name": "Argentina",
          "tournament_id": "WC-1986"
         },
         {
          "Goals": 5,
          "goal_id": "G-1311",
          "match_id": "M-1986-47",
          "minute": 81,
          "team_name": "England",
          "tournament_id": "WC-1986"
         },
         {
          "Goals": 1,
          "goal_id": "G-1313",
          "match_id": "M-1986-48",
          "minute": 85,
          "team_name": "Spain",
          "tournament_id": "WC-1986"
         },
         {
          "Goals": 3,
          "goal_id": "G-1316",
          "match_id": "M-1986-50",
          "minute": 51,
          "team_name": "Argentina",
          "tournament_id": "WC-1986"
         },
         {
          "Goals": 2,
          "goal_id": "G-1317",
          "match_id": "M-1986-50",
          "minute": 63,
          "team_name": "Argentina",
          "tournament_id": "WC-1986"
         },
         {
          "Goals": 4,
          "goal_id": "G-1319",
          "match_id": "M-1986-51",
          "minute": 27,
          "team_name": "France",
          "tournament_id": "WC-1986"
         },
         {
          "Goals": 3,
          "goal_id": "G-1320",
          "match_id": "M-1986-51",
          "minute": 43,
          "team_name": "France",
          "tournament_id": "WC-1986"
         },
         {
          "Goals": 1,
          "goal_id": "G-1322",
          "match_id": "M-1986-51",
          "minute": 104,
          "team_name": "France",
          "tournament_id": "WC-1986"
         },
         {
          "Goals": 1,
          "goal_id": "G-1323",
          "match_id": "M-1986-51",
          "minute": 111,
          "team_name": "France",
          "tournament_id": "WC-1986"
         },
         {
          "Goals": 2,
          "goal_id": "G-1324",
          "match_id": "M-1986-52",
          "minute": 23,
          "team_name": "Argentina",
          "tournament_id": "WC-1986"
         },
         {
          "Goals": 3,
          "goal_id": "G-1325",
          "match_id": "M-1986-52",
          "minute": 56,
          "team_name": "Argentina",
          "tournament_id": "WC-1986"
         },
         {
          "Goals": 2,
          "goal_id": "G-1328",
          "match_id": "M-1986-52",
          "minute": 84,
          "team_name": "Argentina",
          "tournament_id": "WC-1986"
         },
         {
          "Goals": 3,
          "goal_id": "G-1334",
          "match_id": "M-1990-04",
          "minute": 78,
          "team_name": "Italy",
          "tournament_id": "WC-1990"
         },
         {
          "Goals": 2,
          "goal_id": "G-1341",
          "match_id": "M-1990-06",
          "minute": 40,
          "team_name": "Brazil",
          "tournament_id": "WC-1990"
         },
         {
          "Goals": 8,
          "goal_id": "G-1342",
          "match_id": "M-1990-06",
          "minute": 63,
          "team_name": "Brazil",
          "tournament_id": "WC-1990"
         },
         {
          "Goals": 4,
          "goal_id": "G-1350",
          "match_id": "M-1990-09",
          "minute": 9,
          "team_name": "England",
          "tournament_id": "WC-1990"
         },
         {
          "Goals": 1,
          "goal_id": "G-1356",
          "match_id": "M-1990-13",
          "minute": 27,
          "team_name": "Argentina",
          "tournament_id": "WC-1990"
         },
         {
          "Goals": 3,
          "goal_id": "G-1357",
          "match_id": "M-1990-13",
          "minute": 79,
          "team_name": "Argentina",
          "tournament_id": "WC-1990"
         },
         {
          "Goals": 2,
          "goal_id": "G-1362",
          "match_id": "M-1990-16",
          "minute": 11,
          "team_name": "Italy",
          "tournament_id": "WC-1990"
         },
         {
          "Goals": 3,
          "goal_id": "G-1370",
          "match_id": "M-1990-19",
          "minute": 33,
          "team_name": "Brazil",
          "tournament_id": "WC-1990"
         },
         {
          "Goals": 2,
          "goal_id": "G-1377",
          "match_id": "M-1990-23",
          "minute": 73,
          "team_name": "Uruguay",
          "tournament_id": "WC-1990"
         },
         {
          "Goals": 2,
          "goal_id": "G-1378",
          "match_id": "M-1990-24",
          "minute": 23,
          "team_name": "Spain",
          "tournament_id": "WC-1990"
         },
         {
          "Goals": 1,
          "goal_id": "G-1380",
          "match_id": "M-1990-24",
          "minute": 61,
          "team_name": "Spain",
          "tournament_id": "WC-1990"
         },
         {
          "Goals": 4,
          "goal_id": "G-1381",
          "match_id": "M-1990-24",
          "minute": 81,
          "team_name": "Spain",
          "tournament_id": "WC-1990"
         },
         {
          "Goals": 1,
          "goal_id": "G-1382",
          "match_id": "M-1990-25",
          "minute": 62,
          "team_name": "Argentina",
          "tournament_id": "WC-1990"
         },
         {
          "Goals": 2,
          "goal_id": "G-1398",
          "match_id": "M-1990-30",
          "minute": 9,
          "team_name": "Italy",
          "tournament_id": "WC-1990"
         },
         {
          "Goals": 3,
          "goal_id": "G-1399",
          "match_id": "M-1990-30",
          "minute": 78,
          "team_name": "Italy",
          "tournament_id": "WC-1990"
         },
         {
          "Goals": 3,
          "goal_id": "G-1400",
          "match_id": "M-1990-31",
          "minute": 81,
          "team_name": "Brazil",
          "tournament_id": "WC-1990"
         },
         {
          "Goals": 1,
          "goal_id": "G-1404",
          "match_id": "M-1990-33",
          "minute": 26,
          "team_name": "Spain",
          "tournament_id": "WC-1990"
         },
         {
          "Goals": 1,
          "goal_id": "G-1406",
          "match_id": "M-1990-33",
          "minute": 38,
          "team_name": "Spain",
          "tournament_id": "WC-1990"
         },
         {
          "Goals": null,
          "goal_id": "G-1407",
          "match_id": "M-1990-34",
          "minute": null,
          "team_name": "Uruguay",
          "tournament_id": "WC-1990"
         },
         {
          "Goals": 2,
          "goal_id": "G-1408",
          "match_id": "M-1990-35",
          "minute": 58,
          "team_name": "England",
          "tournament_id": "WC-1990"
         },
         {
          "Goals": 3,
          "goal_id": "G-1419",
          "match_id": "M-1990-39",
          "minute": 81,
          "team_name": "Argentina",
          "tournament_id": "WC-1990"
         },
         {
          "Goals": 2,
          "goal_id": "G-1423",
          "match_id": "M-1990-42",
          "minute": 65,
          "team_name": "Italy",
          "tournament_id": "WC-1990"
         },
         {
          "Goals": 2,
          "goal_id": "G-1424",
          "match_id": "M-1990-42",
          "minute": 83,
          "team_name": "Italy",
          "tournament_id": "WC-1990"
         },
         {
          "Goals": 1,
          "goal_id": "G-1426",
          "match_id": "M-1990-43",
          "minute": 84,
          "team_name": "Spain",
          "tournament_id": "WC-1990"
         },
         {
          "Goals": 1,
          "goal_id": "G-1428",
          "match_id": "M-1990-44",
          "minute": 119,
          "team_name": "England",
          "tournament_id": "WC-1990"
         },
         {
          "Goals": 2,
          "goal_id": "G-1429",
          "match_id": "M-1990-46",
          "minute": 38,
          "team_name": "Italy",
          "tournament_id": "WC-1990"
         },
         {
          "Goals": 1,
          "goal_id": "G-1431",
          "match_id": "M-1990-48",
          "minute": 25,
          "team_name": "England",
          "tournament_id": "WC-1990"
         },
         {
          "Goals": 4,
          "goal_id": "G-1434",
          "match_id": "M-1990-48",
          "minute": 83,
          "team_name": "England",
          "tournament_id": "WC-1990"
         },
         {
          "Goals": 1,
          "goal_id": "G-1435",
          "match_id": "M-1990-48",
          "minute": 105,
          "team_name": "England",
          "tournament_id": "WC-1990"
         },
         {
          "Goals": 2,
          "goal_id": "G-1436",
          "match_id": "M-1990-49",
          "minute": 17,
          "team_name": "Italy",
          "tournament_id": "WC-1990"
         },
         {
          "Goals": 3,
          "goal_id": "G-1437",
          "match_id": "M-1990-49",
          "minute": 67,
          "team_name": "Argentina",
          "tournament_id": "WC-1990"
         },
         {
          "Goals": 2,
          "goal_id": "G-1439",
          "match_id": "M-1990-50",
          "minute": 80,
          "team_name": "England",
          "tournament_id": "WC-1990"
         },
         {
          "Goals": 2,
          "goal_id": "G-1440",
          "match_id": "M-1990-51",
          "minute": 71,
          "team_name": "Italy",
          "tournament_id": "WC-1990"
         },
         {
          "Goals": 5,
          "goal_id": "G-1441",
          "match_id": "M-1990-51",
          "minute": 81,
          "team_name": "England",
          "tournament_id": "WC-1990"
         },
         {
          "Goals": 1,
          "goal_id": "G-1442",
          "match_id": "M-1990-51",
          "minute": 86,
          "team_name": "Italy",
          "tournament_id": "WC-1990"
         },
         {
          "Goals": 2,
          "goal_id": "G-1448",
          "match_id": "M-1991-02",
          "minute": 16,
          "team_name": "Germany",
          "tournament_id": "WC-1991"
         },
         {
          "Goals": 5,
          "goal_id": "G-1449",
          "match_id": "M-1991-02",
          "minute": 32,
          "team_name": "Germany",
          "tournament_id": "WC-1991"
         },
         {
          "Goals": 2,
          "goal_id": "G-1450",
          "match_id": "M-1991-02",
          "minute": 34,
          "team_name": "Germany",
          "tournament_id": "WC-1991"
         },
         {
          "Goals": 6,
          "goal_id": "G-1451",
          "match_id": "M-1991-02",
          "minute": 57,
          "team_name": "Germany",
          "tournament_id": "WC-1991"
         },
         {
          "Goals": 4,
          "goal_id": "G-1455",
          "match_id": "M-1991-04",
          "minute": 4,
          "team_name": "Brazil",
          "tournament_id": "WC-1991"
         },
         {
          "Goals": 2,
          "goal_id": "G-1461",
          "match_id": "M-1991-06",
          "minute": 15,
          "team_name": "Italy",
          "tournament_id": "WC-1991"
         },
         {
          "Goals": 4,
          "goal_id": "G-1462",
          "match_id": "M-1991-06",
          "minute": 29,
          "team_name": "Italy",
          "tournament_id": "WC-1991"
         },
         {
          "Goals": 3,
          "goal_id": "G-1463",
          "match_id": "M-1991-06",
          "minute": 37,
          "team_name": "Italy",
          "tournament_id": "WC-1991"
         },
         {
          "Goals": 2,
          "goal_id": "G-1464",
          "match_id": "M-1991-06",
          "minute": 52,
          "team_name": "Italy",
          "tournament_id": "WC-1991"
         },
         {
          "Goals": 2,
          "goal_id": "G-1465",
          "match_id": "M-1991-06",
          "minute": 66,
          "team_name": "Italy",
          "tournament_id": "WC-1991"
         },
         {
          "Goals": 1,
          "goal_id": "G-1470",
          "match_id": "M-1991-08",
          "minute": 68,
          "team_name": "Italy",
          "tournament_id": "WC-1991"
         },
         {
          "Goals": 4,
          "goal_id": "G-1488",
          "match_id": "M-1991-12",
          "minute": 10,
          "team_name": "Germany",
          "tournament_id": "WC-1991"
         },
         {
          "Goals": 2,
          "goal_id": "G-1489",
          "match_id": "M-1991-12",
          "minute": 21,
          "team_name": "Germany",
          "tournament_id": "WC-1991"
         },
         {
          "Goals": 3,
          "goal_id": "G-1490",
          "match_id": "M-1991-12",
          "minute": 50,
          "team_name": "Germany",
          "tournament_id": "WC-1991"
         },
         {
          "Goals": 3,
          "goal_id": "G-1506",
          "match_id": "M-1991-18",
          "minute": 67,
          "team_name": "Germany",
          "tournament_id": "WC-1991"
         },
         {
          "Goals": 5,
          "goal_id": "G-1507",
          "match_id": "M-1991-18",
          "minute": 79,
          "team_name": "Germany",
          "tournament_id": "WC-1991"
         },
         {
          "Goals": 3,
          "goal_id": "G-1508",
          "match_id": "M-1991-19",
          "minute": 17,
          "team_name": "Germany",
          "tournament_id": "WC-1991"
         },
         {
          "Goals": 2,
          "goal_id": "G-1510",
          "match_id": "M-1991-19",
          "minute": 98,
          "team_name": "Germany",
          "tournament_id": "WC-1991"
         },
         {
          "Goals": 1,
          "goal_id": "G-1513",
          "match_id": "M-1991-21",
          "minute": 31,
          "team_name": "Italy",
          "tournament_id": "WC-1991"
         },
         {
          "Goals": 1,
          "goal_id": "G-1515",
          "match_id": "M-1991-21",
          "minute": 80,
          "team_name": "Italy",
          "tournament_id": "WC-1991"
         },
         {
          "Goals": 2,
          "goal_id": "G-1532",
          "match_id": "M-1991-24",
          "minute": 34,
          "team_name": "Germany",
          "tournament_id": "WC-1991"
         },
         {
          "Goals": 2,
          "goal_id": "G-1534",
          "match_id": "M-1991-24",
          "minute": 63,
          "team_name": "Germany",
          "tournament_id": "WC-1991"
         },
         {
          "Goals": 3,
          "goal_id": "G-1543",
          "match_id": "M-1994-01",
          "minute": 61,
          "team_name": "Germany",
          "tournament_id": "WC-1994"
         },
         {
          "Goals": 2,
          "goal_id": "G-1544",
          "match_id": "M-1994-02",
          "minute": 51,
          "team_name": "Spain",
          "tournament_id": "WC-1994"
         },
         {
          "Goals": 3,
          "goal_id": "G-1545",
          "match_id": "M-1994-02",
          "minute": 55,
          "team_name": "Spain",
          "tournament_id": "WC-1994"
         },
         {
          "Goals": 3,
          "goal_id": "G-1561",
          "match_id": "M-1994-09",
          "minute": 26,
          "team_name": "Brazil",
          "tournament_id": "WC-1994"
         },
         {
          "Goals": 4,
          "goal_id": "G-1562",
          "match_id": "M-1994-09",
          "minute": 52,
          "team_name": "Brazil",
          "tournament_id": "WC-1994"
         },
         {
          "Goals": 1,
          "goal_id": "G-1566",
          "match_id": "M-1994-11",
          "minute": 2,
          "team_name": "Argentina",
          "tournament_id": "WC-1994"
         },
         {
          "Goals": 1,
          "goal_id": "G-1567",
          "match_id": "M-1994-11",
          "minute": 44,
          "team_name": "Argentina",
          "tournament_id": "WC-1994"
         },
         {
          "Goals": 5,
          "goal_id": "G-1568",
          "match_id": "M-1994-11",
          "minute": 60,
          "team_name": "Argentina",
          "tournament_id": "WC-1994"
         },
         {
          "Goals": 1,
          "goal_id": "G-1569",
          "match_id": "M-1994-11",
          "minute": 90,
          "team_name": "Argentina",
          "tournament_id": "WC-1994"
         },
         {
          "Goals": 2,
          "goal_id": "G-1570",
          "match_id": "M-1994-12",
          "minute": 14,
          "team_name": "Spain",
          "tournament_id": "WC-1994"
         },
         {
          "Goals": 2,
          "goal_id": "G-1571",
          "match_id": "M-1994-12",
          "minute": 48,
          "team_name": "Germany",
          "tournament_id": "WC-1994"
         },
         {
          "Goals": 4,
          "goal_id": "G-1583",
          "match_id": "M-1994-16",
          "minute": 69,
          "team_name": "Italy",
          "tournament_id": "WC-1994"
         },
         {
          "Goals": 3,
          "goal_id": "G-1587",
          "match_id": "M-1994-19",
          "minute": 39,
          "team_name": "Brazil",
          "tournament_id": "WC-1994"
         },
         {
          "Goals": 6,
          "goal_id": "G-1588",
          "match_id": "M-1994-19",
          "minute": 66,
          "team_name": "Brazil",
          "tournament_id": "WC-1994"
         },
         {
          "Goals": 5,
          "goal_id": "G-1589",
          "match_id": "M-1994-19",
          "minute": 73,
          "team_name": "Brazil",
          "tournament_id": "WC-1994"
         },
         {
          "Goals": 2,
          "goal_id": "G-1599",
          "match_id": "M-1994-23",
          "minute": 21,
          "team_name": "Argentina",
          "tournament_id": "WC-1994"
         },
         {
          "Goals": 3,
          "goal_id": "G-1600",
          "match_id": "M-1994-23",
          "minute": 28,
          "team_name": "Argentina",
          "tournament_id": "WC-1994"
         },
         {
          "Goals": 2,
          "goal_id": "G-1608",
          "match_id": "M-1994-27",
          "minute": 19,
          "team_name": "Spain",
          "tournament_id": "WC-1994"
         },
         {
          "Goals": 2,
          "goal_id": "G-1609",
          "match_id": "M-1994-27",
          "minute": 66,
          "team_name": "Spain",
          "tournament_id": "WC-1994"
         },
         {
          "Goals": 2,
          "goal_id": "G-1611",
          "match_id": "M-1994-27",
          "minute": 70,
          "team_name": "Spain",
          "tournament_id": "WC-1994"
         },
         {
          "Goals": 4,
          "goal_id": "G-1612",
          "match_id": "M-1994-28",
          "minute": 12,
          "team_name": "Germany",
          "tournament_id": "WC-1994"
         },
         {
          "Goals": 4,
          "goal_id": "G-1613",
          "match_id": "M-1994-28",
          "minute": 20,
          "team_name": "Germany",
          "tournament_id": "WC-1994"
         },
         {
          "Goals": 1,
          "goal_id": "G-1614",
          "match_id": "M-1994-28",
          "minute": 37,
          "team_name": "Germany",
          "tournament_id": "WC-1994"
         },
         {
          "Goals": 3,
          "goal_id": "G-1617",
          "match_id": "M-1994-29",
          "minute": 48,
          "team_name": "Italy",
          "tournament_id": "WC-1994"
         },
         {
          "Goals": 4,
          "goal_id": "G-1627",
          "match_id": "M-1994-32",
          "minute": 47,
          "team_name": "Brazil",
          "tournament_id": "WC-1994"
         },
         {
          "Goals": 3,
          "goal_id": "G-1636",
          "match_id": "M-1994-37",
          "minute": 6,
          "team_name": "Germany",
          "tournament_id": "WC-1994"
         },
         {
          "Goals": 2,
          "goal_id": "G-1638",
          "match_id": "M-1994-37",
          "minute": 11,
          "team_name": "Germany",
          "tournament_id": "WC-1994"
         },
         {
          "Goals": 1,
          "goal_id": "G-1639",
          "match_id": "M-1994-37",
          "minute": 38,
          "team_name": "Germany",
          "tournament_id": "WC-1994"
         },
         {
          "Goals": 2,
          "goal_id": "G-1641",
          "match_id": "M-1994-38",
          "minute": 15,
          "team_name": "Spain",
          "tournament_id": "WC-1994"
         },
         {
          "Goals": 3,
          "goal_id": "G-1642",
          "match_id": "M-1994-38",
          "minute": 74,
          "team_name": "Spain",
          "tournament_id": "WC-1994"
         },
         {
          "Goals": 1,
          "goal_id": "G-1643",
          "match_id": "M-1994-38",
          "minute": 86,
          "team_name": "Spain",
          "tournament_id": "WC-1994"
         },
         {
          "Goals": 2,
          "goal_id": "G-1649",
          "match_id": "M-1994-40",
          "minute": 16,
          "team_name": "Argentina",
          "tournament_id": "WC-1994"
         },
         {
          "Goals": 1,
          "goal_id": "G-1652",
          "match_id": "M-1994-40",
          "minute": 75,
          "team_name": "Argentina",
          "tournament_id": "WC-1994"
         },
         {
          "Goals": 5,
          "goal_id": "G-1655",
          "match_id": "M-1994-42",
          "minute": 72,
          "team_name": "Brazil",
          "tournament_id": "WC-1994"
         },
         {
          "Goals": 3,
          "goal_id": "G-1657",
          "match_id": "M-1994-43",
          "minute": 88,
          "team_name": "Italy",
          "tournament_id": "WC-1994"
         },
         {
          "Goals": 1,
          "goal_id": "G-1658",
          "match_id": "M-1994-43",
          "minute": 102,
          "team_name": "Italy",
          "tournament_id": "WC-1994"
         },
         {
          "Goals": 5,
          "goal_id": "G-1661",
          "match_id": "M-1994-45",
          "minute": 25,
          "team_name": "Italy",
          "tournament_id": "WC-1994"
         },
         {
          "Goals": 2,
          "goal_id": "G-1662",
          "match_id": "M-1994-45",
          "minute": 58,
          "team_name": "Spain",
          "tournament_id": "WC-1994"
         },
         {
          "Goals": 3,
          "goal_id": "G-1663",
          "match_id": "M-1994-45",
          "minute": 88,
          "team_name": "Italy",
          "tournament_id": "WC-1994"
         },
         {
          "Goals": 4,
          "goal_id": "G-1664",
          "match_id": "M-1994-46",
          "minute": 53,
          "team_name": "Brazil",
          "tournament_id": "WC-1994"
         },
         {
          "Goals": 8,
          "goal_id": "G-1665",
          "match_id": "M-1994-46",
          "minute": 63,
          "team_name": "Brazil",
          "tournament_id": "WC-1994"
         },
         {
          "Goals": 3,
          "goal_id": "G-1668",
          "match_id": "M-1994-46",
          "minute": 81,
          "team_name": "Brazil",
          "tournament_id": "WC-1994"
         },
         {
          "Goals": 2,
          "goal_id": "G-1669",
          "match_id": "M-1994-47",
          "minute": 47,
          "team_name": "Germany",
          "tournament_id": "WC-1994"
         },
         {
          "Goals": 1,
          "goal_id": "G-1676",
          "match_id": "M-1994-49",
          "minute": 21,
          "team_name": "Italy",
          "tournament_id": "WC-1994"
         },
         {
          "Goals": 5,
          "goal_id": "G-1677",
          "match_id": "M-1994-49",
          "minute": 25,
          "team_name": "Italy",
          "tournament_id": "WC-1994"
         },
         {
          "Goals": 2,
          "goal_id": "G-1679",
          "match_id": "M-1994-50",
          "minute": 80,
          "team_name": "Brazil",
          "tournament_id": "WC-1994"
         },
         {
          "Goals": 3,
          "goal_id": "G-1684",
          "match_id": "M-1995-01",
          "minute": 23,
          "team_name": "Germany",
          "tournament_id": "WC-1995"
         },
         {
          "Goals": 4,
          "goal_id": "G-1685",
          "match_id": "M-1995-02",
          "minute": 37,
          "team_name": "Brazil",
          "tournament_id": "WC-1995"
         },
         {
          "Goals": 3,
          "goal_id": "G-1686",
          "match_id": "M-1995-03",
          "minute": 51,
          "team_name": "England",
          "tournament_id": "WC-1995"
         },
         {
          "Goals": 2,
          "goal_id": "G-1687",
          "match_id": "M-1995-03",
          "minute": 76,
          "team_name": "England",
          "tournament_id": "WC-1995"
         },
         {
          "Goals": 3,
          "goal_id": "G-1688",
          "match_id": "M-1995-03",
          "minute": 85,
          "team_name": "England",
          "tournament_id": "WC-1995"
         },
         {
          "Goals": 3,
          "goal_id": "G-1710",
          "match_id": "M-1995-07",
          "minute": 7,
          "team_name": "Brazil",
          "tournament_id": "WC-1995"
         },
         {
          "Goals": 2,
          "goal_id": "G-1713",
          "match_id": "M-1995-08",
          "minute": 9,
          "team_name": "Germany",
          "tournament_id": "WC-1995"
         },
         {
          "Goals": 6,
          "goal_id": "G-1714",
          "match_id": "M-1995-08",
          "minute": 42,
          "team_name": "Germany",
          "tournament_id": "WC-1995"
         },
         {
          "Goals": 2,
          "goal_id": "G-1734",
          "match_id": "M-1995-13",
          "minute": 5,
          "team_name": "Germany",
          "tournament_id": "WC-1995"
         },
         {
          "Goals": 2,
          "goal_id": "G-1735",
          "match_id": "M-1995-13",
          "minute": 19,
          "team_name": "Brazil",
          "tournament_id": "WC-1995"
         },
         {
          "Goals": 2,
          "goal_id": "G-1736",
          "match_id": "M-1995-13",
          "minute": 22,
          "team_name": "Germany",
          "tournament_id": "WC-1995"
         },
         {
          "Goals": 6,
          "goal_id": "G-1737",
          "match_id": "M-1995-13",
          "minute": 42,
          "team_name": "Germany",
          "tournament_id": "WC-1995"
         },
         {
          "Goals": 5,
          "goal_id": "G-1738",
          "match_id": "M-1995-13",
          "minute": 78,
          "team_name": "Germany",
          "tournament_id": "WC-1995"
         },
         {
          "Goals": 7,
          "goal_id": "G-1739",
          "match_id": "M-1995-13",
          "minute": 89,
          "team_name": "Germany",
          "tournament_id": "WC-1995"
         },
         {
          "Goals": 1,
          "goal_id": "G-1740",
          "match_id": "M-1995-13",
          "minute": 90,
          "team_name": "Germany",
          "tournament_id": "WC-1995"
         },
         {
          "Goals": 2,
          "goal_id": "G-1743",
          "match_id": "M-1995-15",
          "minute": 10,
          "team_name": "England",
          "tournament_id": "WC-1995"
         },
         {
          "Goals": 2,
          "goal_id": "G-1745",
          "match_id": "M-1995-15",
          "minute": 27,
          "team_name": "England",
          "tournament_id": "WC-1995"
         },
         {
          "Goals": 5,
          "goal_id": "G-1746",
          "match_id": "M-1995-15",
          "minute": 38,
          "team_name": "England",
          "tournament_id": "WC-1995"
         },
         {
          "Goals": 1,
          "goal_id": "G-1772",
          "match_id": "M-1995-21",
          "minute": 41,
          "team_name": "Germany",
          "tournament_id": "WC-1995"
         },
         {
          "Goals": 2,
          "goal_id": "G-1773",
          "match_id": "M-1995-21",
          "minute": 55,
          "team_name": "Germany",
          "tournament_id": "WC-1995"
         },
         {
          "Goals": 3,
          "goal_id": "G-1774",
          "match_id": "M-1995-21",
          "minute": 82,
          "team_name": "Germany",
          "tournament_id": "WC-1995"
         },
         {
          "Goals": 3,
          "goal_id": "G-1778",
          "match_id": "M-1995-24",
          "minute": 88,
          "team_name": "Germany",
          "tournament_id": "WC-1995"
         },
         {
          "Goals": 2,
          "goal_id": "G-1783",
          "match_id": "M-1998-01",
          "minute": 5,
          "team_name": "Brazil",
          "tournament_id": "WC-1998"
         },
         {
          "Goals": 4,
          "goal_id": "G-1785",
          "match_id": "M-1998-01",
          "minute": 74,
          "team_name": "Brazil",
          "tournament_id": "WC-1998"
         },
         {
          "Goals": 2,
          "goal_id": "G-1790",
          "match_id": "M-1998-03",
          "minute": 10,
          "team_name": "Italy",
          "tournament_id": "WC-1998"
         },
         {
          "Goals": 1,
          "goal_id": "G-1793",
          "match_id": "M-1998-03",
          "minute": 84,
          "team_name": "Italy",
          "tournament_id": "WC-1998"
         },
         {
          "Goals": 2,
          "goal_id": "G-1797",
          "match_id": "M-1998-07",
          "minute": 35,
          "team_name": "France",
          "tournament_id": "WC-1998"
         },
         {
          "Goals": 1,
          "goal_id": "G-1798",
          "match_id": "M-1998-07",
          "minute": 77,
          "team_name": "France",
          "tournament_id": "WC-1998"
         },
         {
          "Goals": null,
          "goal_id": "G-1799",
          "match_id": "M-1998-07",
          "minute": null,
          "team_name": "France",
          "tournament_id": "WC-1998"
         },
         {
          "Goals": 3,
          "goal_id": "G-1800",
          "match_id": "M-1998-08",
          "minute": 21,
          "team_name": "Spain",
          "tournament_id": "WC-1998"
         },
         {
          "Goals": 1,
          "goal_id": "G-1802",
          "match_id": "M-1998-08",
          "minute": 47,
          "team_name": "Spain",
          "tournament_id": "WC-1998"
         },
         {
          "Goals": 3,
          "goal_id": "G-1809",
          "match_id": "M-1998-11",
          "minute": 28,
          "team_name": "Argentina",
          "tournament_id": "WC-1998"
         },
         {
          "Goals": 2,
          "goal_id": "G-1815",
          "match_id": "M-1998-14",
          "minute": 42,
          "team_name": "England",
          "tournament_id": "WC-1998"
         },
         {
          "Goals": 1,
          "goal_id": "G-1816",
          "match_id": "M-1998-14",
          "minute": 89,
          "team_name": "England",
          "tournament_id": "WC-1998"
         },
         {
          "Goals": 2,
          "goal_id": "G-1818",
          "match_id": "M-1998-16",
          "minute": 9,
          "team_name": "Germany",
          "tournament_id": "WC-1998"
         },
         {
          "Goals": 1,
          "goal_id": "G-1819",
          "match_id": "M-1998-16",
          "minute": 65,
          "team_name": "Germany",
          "tournament_id": "WC-1998"
         },
         {
          "Goals": 3,
          "goal_id": "G-1822",
          "match_id": "M-1998-18",
          "minute": 9,
          "team_name": "Brazil",
          "tournament_id": "WC-1998"
         },
         {
          "Goals": null,
          "goal_id": "G-1823",
          "match_id": "M-1998-18",
          "minute": null,
          "team_name": "Brazil",
          "tournament_id": "WC-1998"
         },
         {
          "Goals": 7,
          "goal_id": "G-1824",
          "match_id": "M-1998-18",
          "minute": 50,
          "team_name": "Brazil",
          "tournament_id": "WC-1998"
         },
         {
          "Goals": 3,
          "goal_id": "G-1827",
          "match_id": "M-1998-20",
          "minute": 7,
          "team_name": "Italy",
          "tournament_id": "WC-1998"
         },
         {
          "Goals": 2,
          "goal_id": "G-1828",
          "match_id": "M-1998-20",
          "minute": 75,
          "team_name": "Italy",
          "tournament_id": "WC-1998"
         },
         {
          "Goals": 1,
          "goal_id": "G-1829",
          "match_id": "M-1998-20",
          "minute": 89,
          "team_name": "Italy",
          "tournament_id": "WC-1998"
         },
         {
          "Goals": 1,
          "goal_id": "G-1832",
          "match_id": "M-1998-22",
          "minute": 37,
          "team_name": "France",
          "tournament_id": "WC-1998"
         },
         {
          "Goals": 5,
          "goal_id": "G-1833",
          "match_id": "M-1998-22",
          "minute": 68,
          "team_name": "France",
          "tournament_id": "WC-1998"
         },
         {
          "Goals": 3,
          "goal_id": "G-1834",
          "match_id": "M-1998-22",
          "minute": 78,
          "team_name": "France",
          "tournament_id": "WC-1998"
         },
         {
          "Goals": 3,
          "goal_id": "G-1835",
          "match_id": "M-1998-22",
          "minute": 85,
          "team_name": "France",
          "tournament_id": "WC-1998"
         },
         {
          "Goals": 3,
          "goal_id": "G-1849",
          "match_id": "M-1998-28",
          "minute": 72,
          "team_name": "Germany",
          "tournament_id": "WC-1998"
         },
         {
          "Goals": 5,
          "goal_id": "G-1850",
          "match_id": "M-1998-28",
          "minute": 78,
          "team_name": "Germany",
          "tournament_id": "WC-1998"
         },
         {
          "Goals": 2,
          "goal_id": "G-1851",
          "match_id": "M-1998-29",
          "minute": 31,
          "team_name": "Argentina",
          "tournament_id": "WC-1998"
         },
         {
          "Goals": 4,
          "goal_id": "G-1852",
          "match_id": "M-1998-29",
          "minute": 55,
          "team_name": "Argentina",
          "tournament_id": "WC-1998"
         },
         {
          "Goals": 3,
          "goal_id": "G-1853",
          "match_id": "M-1998-29",
          "minute": 73,
          "team_name": "Argentina",
          "tournament_id": "WC-1998"
         },
         {
          "Goals": 2,
          "goal_id": "G-1854",
          "match_id": "M-1998-29",
          "minute": 78,
          "team_name": "Argentina",
          "tournament_id": "WC-1998"
         },
         {
          "Goals": 3,
          "goal_id": "G-1855",
          "match_id": "M-1998-29",
          "minute": 83,
          "team_name": "Argentina",
          "tournament_id": "WC-1998"
         },
         {
          "Goals": 5,
          "goal_id": "G-1861",
          "match_id": "M-1998-32",
          "minute": 81,
          "team_name": "England",
          "tournament_id": "WC-1998"
         },
         {
          "Goals": 3,
          "goal_id": "G-1865",
          "match_id": "M-1998-34",
          "minute": 48,
          "team_name": "Italy",
          "tournament_id": "WC-1998"
         },
         {
          "Goals": 2,
          "goal_id": "G-1866",
          "match_id": "M-1998-34",
          "minute": 90,
          "team_name": "Italy",
          "tournament_id": "WC-1998"
         },
         {
          "Goals": 3,
          "goal_id": "G-1868",
          "match_id": "M-1998-35",
          "minute": 78,
          "team_name": "Brazil",
          "tournament_id": "WC-1998"
         },
         {
          "Goals": 1,
          "goal_id": "G-1874",
          "match_id": "M-1998-37",
          "minute": 12,
          "team_name": "France",
          "tournament_id": "WC-1998"
         },
         {
          "Goals": 4,
          "goal_id": "G-1876",
          "match_id": "M-1998-37",
          "minute": 56,
          "team_name": "France",
          "tournament_id": "WC-1998"
         },
         {
          "Goals": 1,
          "goal_id": "G-1885",
          "match_id": "M-1998-40",
          "minute": 6,
          "team_name": "Spain",
          "tournament_id": "WC-1998"
         },
         {
          "Goals": 3,
          "goal_id": "G-1886",
          "match_id": "M-1998-40",
          "minute": 18,
          "team_name": "Spain",
          "tournament_id": "WC-1998"
         },
         {
          "Goals": 3,
          "goal_id": "G-1887",
          "match_id": "M-1998-40",
          "minute": 55,
          "team_name": "Spain",
          "tournament_id": "WC-1998"
         },
         {
          "Goals": 4,
          "goal_id": "G-1889",
          "match_id": "M-1998-40",
          "minute": 81,
          "team_name": "Spain",
          "tournament_id": "WC-1998"
         },
         {
          "Goals": 2,
          "goal_id": "G-1890",
          "match_id": "M-1998-40",
          "minute": 88,
          "team_name": "Spain",
          "tournament_id": "WC-1998"
         },
         {
          "Goals": null,
          "goal_id": "G-1891",
          "match_id": "M-1998-40",
          "minute": null,
          "team_name": "Spain",
          "tournament_id": "WC-1998"
         },
         {
          "Goals": 3,
          "goal_id": "G-1898",
          "match_id": "M-1998-43",
          "minute": 50,
          "team_name": "Germany",
          "tournament_id": "WC-1998"
         },
         {
          "Goals": 6,
          "goal_id": "G-1899",
          "match_id": "M-1998-43",
          "minute": 57,
          "team_name": "Germany",
          "tournament_id": "WC-1998"
         },
         {
          "Goals": 2,
          "goal_id": "G-1901",
          "match_id": "M-1998-45",
          "minute": 36,
          "team_name": "Argentina",
          "tournament_id": "WC-1998"
         },
         {
          "Goals": 1,
          "goal_id": "G-1905",
          "match_id": "M-1998-47",
          "minute": 20,
          "team_name": "England",
          "tournament_id": "WC-1998"
         },
         {
          "Goals": 1,
          "goal_id": "G-1906",
          "match_id": "M-1998-47",
          "minute": 29,
          "team_name": "England",
          "tournament_id": "WC-1998"
         },
         {
          "Goals": 4,
          "goal_id": "G-1909",
          "match_id": "M-1998-49",
          "minute": 18,
          "team_name": "Italy",
          "tournament_id": "WC-1998"
         },
         {
          "Goals": 3,
          "goal_id": "G-1910",
          "match_id": "M-1998-50",
          "minute": 11,
          "team_name": "Brazil",
          "tournament_id": "WC-1998"
         },
         {
          "Goals": 3,
          "goal_id": "G-1911",
          "match_id": "M-1998-50",
          "minute": 26,
          "team_name": "Brazil",
          "tournament_id": "WC-1998"
         },
         {
          "Goals": null,
          "goal_id": "G-1912",
          "match_id": "M-1998-50",
          "minute": null,
          "team_name": "Brazil",
          "tournament_id": "WC-1998"
         },
         {
          "Goals": 5,
          "goal_id": "G-1914",
          "match_id": "M-1998-50",
          "minute": 72,
          "team_name": "Brazil",
          "tournament_id": "WC-1998"
         },
         {
          "Goals": 1,
          "goal_id": "G-1915",
          "match_id": "M-1998-51",
          "minute": 114,
          "team_name": "France",
          "tournament_id": "WC-1998"
         },
         {
          "Goals": 2,
          "goal_id": "G-1922",
          "match_id": "M-1998-53",
          "minute": 74,
          "team_name": "Germany",
          "tournament_id": "WC-1998"
         },
         {
          "Goals": 2,
          "goal_id": "G-1923",
          "match_id": "M-1998-53",
          "minute": 86,
          "team_name": "Germany",
          "tournament_id": "WC-1998"
         },
         {
          "Goals": 1,
          "goal_id": "G-1928",
          "match_id": "M-1998-56",
          "minute": 5,
          "team_name": "Argentina",
          "tournament_id": "WC-1998"
         },
         {
          "Goals": 4,
          "goal_id": "G-1929",
          "match_id": "M-1998-56",
          "minute": 9,
          "team_name": "England",
          "tournament_id": "WC-1998"
         },
         {
          "Goals": 2,
          "goal_id": "G-1930",
          "match_id": "M-1998-56",
          "minute": 16,
          "team_name": "England",
          "tournament_id": "WC-1998"
         },
         {
          "Goals": null,
          "goal_id": "G-1931",
          "match_id": "M-1998-56",
          "minute": null,
          "team_name": "Argentina",
          "tournament_id": "WC-1998"
         },
         {
          "Goals": 4,
          "goal_id": "G-1933",
          "match_id": "M-1998-58",
          "minute": 10,
          "team_name": "Brazil",
          "tournament_id": "WC-1998"
         },
         {
          "Goals": 3,
          "goal_id": "G-1934",
          "match_id": "M-1998-58",
          "minute": 25,
          "team_name": "Brazil",
          "tournament_id": "WC-1998"
         },
         {
          "Goals": 7,
          "goal_id": "G-1936",
          "match_id": "M-1998-58",
          "minute": 59,
          "team_name": "Brazil",
          "tournament_id": "WC-1998"
         },
         {
          "Goals": 3,
          "goal_id": "G-1938",
          "match_id": "M-1998-59",
          "minute": 17,
          "team_name": "Argentina",
          "tournament_id": "WC-1998"
         },
         {
          "Goals": 2,
          "goal_id": "G-1943",
          "match_id": "M-1998-61",
          "minute": 46,
          "team_name": "Brazil",
          "tournament_id": "WC-1998"
         },
         {
          "Goals": 1,
          "goal_id": "G-1946",
          "match_id": "M-1998-62",
          "minute": 47,
          "team_name": "France",
          "tournament_id": "WC-1998"
         },
         {
          "Goals": 3,
          "goal_id": "G-1947",
          "match_id": "M-1998-62",
          "minute": 70,
          "team_name": "France",
          "tournament_id": "WC-1998"
         },
         {
          "Goals": 4,
          "goal_id": "G-1951",
          "match_id": "M-1998-64",
          "minute": 27,
          "team_name": "France",
          "tournament_id": "WC-1998"
         },
         {
          "Goals": null,
          "goal_id": "G-1952",
          "match_id": "M-1998-64",
          "minute": null,
          "team_name": "France",
          "tournament_id": "WC-1998"
         },
         {
          "Goals": null,
          "goal_id": "G-1953",
          "match_id": "M-1998-64",
          "minute": null,
          "team_name": "France",
          "tournament_id": "WC-1998"
         },
         {
          "Goals": 4,
          "goal_id": "G-1960",
          "match_id": "M-1999-03",
          "minute": 3,
          "team_name": "Brazil",
          "tournament_id": "WC-1999"
         },
         {
          "Goals": 3,
          "goal_id": "G-1962",
          "match_id": "M-1999-03",
          "minute": 12,
          "team_name": "Brazil",
          "tournament_id": "WC-1999"
         },
         {
          "Goals": 3,
          "goal_id": "G-1963",
          "match_id": "M-1999-03",
          "minute": 29,
          "team_name": "Brazil",
          "tournament_id": "WC-1999"
         },
         {
          "Goals": 4,
          "goal_id": "G-1964",
          "match_id": "M-1999-03",
          "minute": 35,
          "team_name": "Brazil",
          "tournament_id": "WC-1999"
         },
         {
          "Goals": 3,
          "goal_id": "G-1965",
          "match_id": "M-1999-03",
          "minute": 42,
          "team_name": "Brazil",
          "tournament_id": "WC-1999"
         },
         {
          "Goals": 7,
          "goal_id": "G-1966",
          "match_id": "M-1999-03",
          "minute": 50,
          "team_name": "Brazil",
          "tournament_id": "WC-1999"
         },
         {
          "Goals": null,
          "goal_id": "G-1967",
          "match_id": "M-1999-03",
          "minute": null,
          "team_name": "Brazil",
          "tournament_id": "WC-1999"
         },
         {
          "Goals": 1,
          "goal_id": "G-1970",
          "match_id": "M-1999-05",
          "minute": 36,
          "team_name": "Italy",
          "tournament_id": "WC-1999"
         },
         {
          "Goals": 3,
          "goal_id": "G-1971",
          "match_id": "M-1999-05",
          "minute": 61,
          "team_name": "Germany",
          "tournament_id": "WC-1999"
         },
         {
          "Goals": 4,
          "goal_id": "G-2004",
          "match_id": "M-1999-13",
          "minute": 3,
          "team_name": "Brazil",
          "tournament_id": "WC-1999"
         },
         {
          "Goals": 8,
          "goal_id": "G-2005",
          "match_id": "M-1999-13",
          "minute": 63,
          "team_name": "Brazil",
          "tournament_id": "WC-1999"
         },
         {
          "Goals": 4,
          "goal_id": "G-2018",
          "match_id": "M-1999-16",
          "minute": 10,
          "team_name": "Germany",
          "tournament_id": "WC-1999"
         },
         {
          "Goals": null,
          "goal_id": "G-2019",
          "match_id": "M-1999-16",
          "minute": null,
          "team_name": "Germany",
          "tournament_id": "WC-1999"
         },
         {
          "Goals": 2,
          "goal_id": "G-2020",
          "match_id": "M-1999-16",
          "minute": 49,
          "team_name": "Germany",
          "tournament_id": "WC-1999"
         },
         {
          "Goals": 6,
          "goal_id": "G-2021",
          "match_id": "M-1999-16",
          "minute": 57,
          "team_name": "Germany",
          "tournament_id": "WC-1999"
         },
         {
          "Goals": 7,
          "goal_id": "G-2022",
          "match_id": "M-1999-16",
          "minute": 89,
          "team_name": "Germany",
          "tournament_id": "WC-1999"
         },
         {
          "Goals": null,
          "goal_id": "G-2023",
          "match_id": "M-1999-16",
          "minute": null,
          "team_name": "Germany",
          "tournament_id": "WC-1999"
         },
         {
          "Goals": 3,
          "goal_id": "G-2039",
          "match_id": "M-1999-21",
          "minute": 8,
          "team_name": "Germany",
          "tournament_id": "WC-1999"
         },
         {
          "Goals": 8,
          "goal_id": "G-2040",
          "match_id": "M-1999-21",
          "minute": 15,
          "team_name": "Brazil",
          "tournament_id": "WC-1999"
         },
         {
          "Goals": 3,
          "goal_id": "G-2041",
          "match_id": "M-1999-21",
          "minute": 20,
          "team_name": "Brazil",
          "tournament_id": "WC-1999"
         },
         {
          "Goals": 2,
          "goal_id": "G-2042",
          "match_id": "M-1999-21",
          "minute": 46,
          "team_name": "Germany",
          "tournament_id": "WC-1999"
         },
         {
          "Goals": 3,
          "goal_id": "G-2043",
          "match_id": "M-1999-21",
          "minute": 58,
          "team_name": "Germany",
          "tournament_id": "WC-1999"
         },
         {
          "Goals": null,
          "goal_id": "G-2044",
          "match_id": "M-1999-21",
          "minute": null,
          "team_name": "Brazil",
          "tournament_id": "WC-1999"
         },
         {
          "Goals": 3,
          "goal_id": "G-2047",
          "match_id": "M-1999-23",
          "minute": 37,
          "team_name": "Italy",
          "tournament_id": "WC-1999"
         },
         {
          "Goals": 3,
          "goal_id": "G-2048",
          "match_id": "M-1999-23",
          "minute": 51,
          "team_name": "Italy",
          "tournament_id": "WC-1999"
         },
         {
          "Goals": 2,
          "goal_id": "G-2058",
          "match_id": "M-1999-27",
          "minute": 5,
          "team_name": "Germany",
          "tournament_id": "WC-1999"
         },
         {
          "Goals": null,
          "goal_id": "G-2060",
          "match_id": "M-1999-27",
          "minute": null,
          "team_name": "Germany",
          "tournament_id": "WC-1999"
         },
         {
          "Goals": 4,
          "goal_id": "G-2063",
          "match_id": "M-1999-28",
          "minute": 4,
          "team_name": "Brazil",
          "tournament_id": "WC-1999"
         },
         {
          "Goals": 3,
          "goal_id": "G-2064",
          "match_id": "M-1999-28",
          "minute": 22,
          "team_name": "Brazil",
          "tournament_id": "WC-1999"
         },
         {
          "Goals": 4,
          "goal_id": "G-2065",
          "match_id": "M-1999-28",
          "minute": 35,
          "team_name": "Brazil",
          "tournament_id": "WC-1999"
         },
         {
          "Goals": 2,
          "goal_id": "G-2069",
          "match_id": "M-1999-28",
          "minute": 104,
          "team_name": "Brazil",
          "tournament_id": "WC-1999"
         },
         {
          "Goals": 2,
          "goal_id": "G-2081",
          "match_id": "M-2002-03",
          "minute": 47,
          "team_name": "Uruguay",
          "tournament_id": "WC-2002"
         },
         {
          "Goals": 4,
          "goal_id": "G-2083",
          "match_id": "M-2002-04",
          "minute": 20,
          "team_name": "Germany",
          "tournament_id": "WC-2002"
         },
         {
          "Goals": 4,
          "goal_id": "G-2084",
          "match_id": "M-2002-04",
          "minute": 25,
          "team_name": "Germany",
          "tournament_id": "WC-2002"
         },
         {
          "Goals": 2,
          "goal_id": "G-2085",
          "match_id": "M-2002-04",
          "minute": 40,
          "team_name": "Germany",
          "tournament_id": "WC-2002"
         },
         {
          "Goals": null,
          "goal_id": "G-2086",
          "match_id": "M-2002-04",
          "minute": null,
          "team_name": "Germany",
          "tournament_id": "WC-2002"
         },
         {
          "Goals": 5,
          "goal_id": "G-2087",
          "match_id": "M-2002-04",
          "minute": 70,
          "team_name": "Germany",
          "tournament_id": "WC-2002"
         },
         {
          "Goals": 3,
          "goal_id": "G-2088",
          "match_id": "M-2002-04",
          "minute": 73,
          "team_name": "Germany",
          "tournament_id": "WC-2002"
         },
         {
          "Goals": 2,
          "goal_id": "G-2089",
          "match_id": "M-2002-04",
          "minute": 84,
          "team_name": "Germany",
          "tournament_id": "WC-2002"
         },
         {
          "Goals": null,
          "goal_id": "G-2090",
          "match_id": "M-2002-04",
          "minute": null,
          "team_name": "Germany",
          "tournament_id": "WC-2002"
         },
         {
          "Goals": 2,
          "goal_id": "G-2091",
          "match_id": "M-2002-05",
          "minute": 63,
          "team_name": "Argentina",
          "tournament_id": "WC-2002"
         },
         {
          "Goals": 1,
          "goal_id": "G-2096",
          "match_id": "M-2002-07",
          "minute": 24,
          "team_name": "England",
          "tournament_id": "WC-2002"
         },
         {
          "Goals": 1,
          "goal_id": "G-2098",
          "match_id": "M-2002-08",
          "minute": 44,
          "team_name": "Spain",
          "tournament_id": "WC-2002"
         },
         {
          "Goals": 3,
          "goal_id": "G-2099",
          "match_id": "M-2002-08",
          "minute": 74,
          "team_name": "Spain",
          "tournament_id": "WC-2002"
         },
         {
          "Goals": 1,
          "goal_id": "G-2101",
          "match_id": "M-2002-08",
          "minute": 87,
          "team_name": "Spain",
          "tournament_id": "WC-2002"
         },
         {
          "Goals": 7,
          "goal_id": "G-2104",
          "match_id": "M-2002-10",
          "minute": 50,
          "team_name": "Brazil",
          "tournament_id": "WC-2002"
         },
         {
          "Goals": 5,
          "goal_id": "G-2105",
          "match_id": "M-2002-10",
          "minute": 87,
          "team_name": "Brazil",
          "tournament_id": "WC-2002"
         },
         {
          "Goals": 3,
          "goal_id": "G-2106",
          "match_id": "M-2002-11",
          "minute": 7,
          "team_name": "Italy",
          "tournament_id": "WC-2002"
         },
         {
          "Goals": 1,
          "goal_id": "G-2107",
          "match_id": "M-2002-11",
          "minute": 27,
          "team_name": "Italy",
          "tournament_id": "WC-2002"
         },
         {
          "Goals": 2,
          "goal_id": "G-2123",
          "match_id": "M-2002-17",
          "minute": 19,
          "team_name": "Germany",
          "tournament_id": "WC-2002"
         },
         {
          "Goals": 1,
          "goal_id": "G-2132",
          "match_id": "M-2002-22",
          "minute": 53,
          "team_name": "Spain",
          "tournament_id": "WC-2002"
         },
         {
          "Goals": 2,
          "goal_id": "G-2133",
          "match_id": "M-2002-22",
          "minute": 69,
          "team_name": "Spain",
          "tournament_id": "WC-2002"
         },
         {
          "Goals": 3,
          "goal_id": "G-2134",
          "match_id": "M-2002-22",
          "minute": 83,
          "team_name": "Spain",
          "tournament_id": "WC-2002"
         },
         {
          "Goals": 2,
          "goal_id": "G-2135",
          "match_id": "M-2002-23",
          "minute": 44,
          "team_name": "England",
          "tournament_id": "WC-2002"
         },
         {
          "Goals": 1,
          "goal_id": "G-2137",
          "match_id": "M-2002-25",
          "minute": 55,
          "team_name": "Italy",
          "tournament_id": "WC-2002"
         },
         {
          "Goals": 8,
          "goal_id": "G-2140",
          "match_id": "M-2002-26",
          "minute": 15,
          "team_name": "Brazil",
          "tournament_id": "WC-2002"
         },
         {
          "Goals": 5,
          "goal_id": "G-2141",
          "match_id": "M-2002-26",
          "minute": 32,
          "team_name": "Brazil",
          "tournament_id": "WC-2002"
         },
         {
          "Goals": 2,
          "goal_id": "G-2142",
          "match_id": "M-2002-26",
          "minute": 45,
          "team_name": "Brazil",
          "tournament_id": "WC-2002"
         },
         {
          "Goals": 7,
          "goal_id": "G-2143",
          "match_id": "M-2002-26",
          "minute": 55,
          "team_name": "Brazil",
          "tournament_id": "WC-2002"
         },
         {
          "Goals": 2,
          "goal_id": "G-2163",
          "match_id": "M-2002-34",
          "minute": 46,
          "team_name": "Uruguay",
          "tournament_id": "WC-2002"
         },
         {
          "Goals": 1,
          "goal_id": "G-2164",
          "match_id": "M-2002-34",
          "minute": 69,
          "team_name": "Uruguay",
          "tournament_id": "WC-2002"
         },
         {
          "Goals": 1,
          "goal_id": "G-2165",
          "match_id": "M-2002-34",
          "minute": 88,
          "team_name": "Uruguay",
          "tournament_id": "WC-2002"
         },
         {
          "Goals": 3,
          "goal_id": "G-2166",
          "match_id": "M-2002-35",
          "minute": 50,
          "team_name": "Germany",
          "tournament_id": "WC-2002"
         },
         {
          "Goals": 5,
          "goal_id": "G-2167",
          "match_id": "M-2002-35",
          "minute": 79,
          "team_name": "Germany",
          "tournament_id": "WC-2002"
         },
         {
          "Goals": 2,
          "goal_id": "G-2172",
          "match_id": "M-2002-38",
          "minute": 88,
          "team_name": "Argentina",
          "tournament_id": "WC-2002"
         },
         {
          "Goals": 1,
          "goal_id": "G-2177",
          "match_id": "M-2002-40",
          "minute": 4,
          "team_name": "Spain",
          "tournament_id": "WC-2002"
         },
         {
          "Goals": null,
          "goal_id": "G-2179",
          "match_id": "M-2002-40",
          "minute": null,
          "team_name": "Spain",
          "tournament_id": "WC-2002"
         },
         {
          "Goals": 2,
          "goal_id": "G-2181",
          "match_id": "M-2002-40",
          "minute": 56,
          "team_name": "Spain",
          "tournament_id": "WC-2002"
         },
         {
          "Goals": 4,
          "goal_id": "G-2182",
          "match_id": "M-2002-41",
          "minute": 10,
          "team_name": "Brazil",
          "tournament_id": "WC-2002"
         },
         {
          "Goals": 3,
          "goal_id": "G-2183",
          "match_id": "M-2002-41",
          "minute": 13,
          "team_name": "Brazil",
          "tournament_id": "WC-2002"
         },
         {
          "Goals": 3,
          "goal_id": "G-2184",
          "match_id": "M-2002-41",
          "minute": 38,
          "team_name": "Brazil",
          "tournament_id": "WC-2002"
         },
         {
          "Goals": 7,
          "goal_id": "G-2187",
          "match_id": "M-2002-41",
          "minute": 62,
          "team_name": "Brazil",
          "tournament_id": "WC-2002"
         },
         {
          "Goals": 5,
          "goal_id": "G-2188",
          "match_id": "M-2002-41",
          "minute": 64,
          "team_name": "Brazil",
          "tournament_id": "WC-2002"
         },
         {
          "Goals": 2,
          "goal_id": "G-2194",
          "match_id": "M-2002-44",
          "minute": 85,
          "team_name": "Italy",
          "tournament_id": "WC-2002"
         },
         {
          "Goals": 3,
          "goal_id": "G-2207",
          "match_id": "M-2002-49",
          "minute": 88,
          "team_name": "Germany",
          "tournament_id": "WC-2002"
         },
         {
          "Goals": 2,
          "goal_id": "G-2208",
          "match_id": "M-2002-50",
          "minute": 5,
          "team_name": "England",
          "tournament_id": "WC-2002"
         },
         {
          "Goals": 2,
          "goal_id": "G-2209",
          "match_id": "M-2002-50",
          "minute": 22,
          "team_name": "England",
          "tournament_id": "WC-2002"
         },
         {
          "Goals": 2,
          "goal_id": "G-2210",
          "match_id": "M-2002-50",
          "minute": 44,
          "team_name": "England",
          "tournament_id": "WC-2002"
         },
         {
          "Goals": 1,
          "goal_id": "G-2214",
          "match_id": "M-2002-52",
          "minute": 8,
          "team_name": "Spain",
          "tournament_id": "WC-2002"
         },
         {
          "Goals": 4,
          "goal_id": "G-2218",
          "match_id": "M-2002-54",
          "minute": 67,
          "team_name": "Brazil",
          "tournament_id": "WC-2002"
         },
         {
          "Goals": 5,
          "goal_id": "G-2219",
          "match_id": "M-2002-54",
          "minute": 87,
          "team_name": "Brazil",
          "tournament_id": "WC-2002"
         },
         {
          "Goals": 4,
          "goal_id": "G-2221",
          "match_id": "M-2002-56",
          "minute": 18,
          "team_name": "Italy",
          "tournament_id": "WC-2002"
         },
         {
          "Goals": 2,
          "goal_id": "G-2224",
          "match_id": "M-2002-57",
          "minute": 23,
          "team_name": "England",
          "tournament_id": "WC-2002"
         },
         {
          "Goals": null,
          "goal_id": "G-2225",
          "match_id": "M-2002-57",
          "minute": null,
          "team_name": "Brazil",
          "tournament_id": "WC-2002"
         },
         {
          "Goals": 7,
          "goal_id": "G-2226",
          "match_id": "M-2002-57",
          "minute": 50,
          "team_name": "Brazil",
          "tournament_id": "WC-2002"
         },
         {
          "Goals": 2,
          "goal_id": "G-2227",
          "match_id": "M-2002-58",
          "minute": 39,
          "team_name": "Germany",
          "tournament_id": "WC-2002"
         },
         {
          "Goals": 4,
          "goal_id": "G-2229",
          "match_id": "M-2002-61",
          "minute": 75,
          "team_name": "Germany",
          "tournament_id": "WC-2002"
         },
         {
          "Goals": 5,
          "goal_id": "G-2230",
          "match_id": "M-2002-62",
          "minute": 49,
          "team_name": "Brazil",
          "tournament_id": "WC-2002"
         },
         {
          "Goals": 4,
          "goal_id": "G-2236",
          "match_id": "M-2002-64",
          "minute": 67,
          "team_name": "Brazil",
          "tournament_id": "WC-2002"
         },
         {
          "Goals": 5,
          "goal_id": "G-2237",
          "match_id": "M-2002-64",
          "minute": 79,
          "team_name": "Brazil",
          "tournament_id": "WC-2002"
         },
         {
          "Goals": 2,
          "goal_id": "G-2244",
          "match_id": "M-2003-03",
          "minute": 39,
          "team_name": "Germany",
          "tournament_id": "WC-2003"
         },
         {
          "Goals": 2,
          "goal_id": "G-2245",
          "match_id": "M-2003-03",
          "minute": 47,
          "team_name": "Germany",
          "tournament_id": "WC-2003"
         },
         {
          "Goals": 4,
          "goal_id": "G-2246",
          "match_id": "M-2003-03",
          "minute": 75,
          "team_name": "Germany",
          "tournament_id": "WC-2003"
         },
         {
          "Goals": null,
          "goal_id": "G-2247",
          "match_id": "M-2003-03",
          "minute": null,
          "team_name": "Germany",
          "tournament_id": "WC-2003"
         },
         {
          "Goals": 2,
          "goal_id": "G-2258",
          "match_id": "M-2003-06",
          "minute": 14,
          "team_name": "Brazil",
          "tournament_id": "WC-2003"
         },
         {
          "Goals": 7,
          "goal_id": "G-2259",
          "match_id": "M-2003-06",
          "minute": 55,
          "team_name": "Brazil",
          "tournament_id": "WC-2003"
         },
         {
          "Goals": 7,
          "goal_id": "G-2260",
          "match_id": "M-2003-06",
          "minute": 62,
          "team_name": "Brazil",
          "tournament_id": "WC-2003"
         },
         {
          "Goals": 3,
          "goal_id": "G-2265",
          "match_id": "M-2003-09",
          "minute": 26,
          "team_name": "Brazil",
          "tournament_id": "WC-2003"
         },
         {
          "Goals": 4,
          "goal_id": "G-2266",
          "match_id": "M-2003-09",
          "minute": 37,
          "team_name": "Brazil",
          "tournament_id": "WC-2003"
         },
         {
          "Goals": 7,
          "goal_id": "G-2268",
          "match_id": "M-2003-09",
          "minute": 59,
          "team_name": "Brazil",
          "tournament_id": "WC-2003"
         },
         {
          "Goals": 5,
          "goal_id": "G-2269",
          "match_id": "M-2003-09",
          "minute": 68,
          "team_name": "Brazil",
          "tournament_id": "WC-2003"
         },
         {
          "Goals": 3,
          "goal_id": "G-2270",
          "match_id": "M-2003-10",
          "minute": 23,
          "team_name": "Germany",
          "tournament_id": "WC-2003"
         },
         {
          "Goals": 2,
          "goal_id": "G-2271",
          "match_id": "M-2003-10",
          "minute": 36,
          "team_name": "Germany",
          "tournament_id": "WC-2003"
         },
         {
          "Goals": 3,
          "goal_id": "G-2272",
          "match_id": "M-2003-10",
          "minute": 66,
          "team_name": "Germany",
          "tournament_id": "WC-2003"
         },
         {
          "Goals": 2,
          "goal_id": "G-2273",
          "match_id": "M-2003-11",
          "minute": 84,
          "team_name": "France",
          "tournament_id": "WC-2003"
         },
         {
          "Goals": 3,
          "goal_id": "G-2288",
          "match_id": "M-2003-17",
          "minute": 58,
          "team_name": "Brazil",
          "tournament_id": "WC-2003"
         },
         {
          "Goals": null,
          "goal_id": "G-2289",
          "match_id": "M-2003-17",
          "minute": null,
          "team_name": "France",
          "tournament_id": "WC-2003"
         },
         {
          "Goals": 3,
          "goal_id": "G-2298",
          "match_id": "M-2003-19",
          "minute": 3,
          "team_name": "Germany",
          "tournament_id": "WC-2003"
         },
         {
          "Goals": 5,
          "goal_id": "G-2299",
          "match_id": "M-2003-19",
          "minute": 24,
          "team_name": "Germany",
          "tournament_id": "WC-2003"
         },
         {
          "Goals": 5,
          "goal_id": "G-2300",
          "match_id": "M-2003-19",
          "minute": 32,
          "team_name": "Germany",
          "tournament_id": "WC-2003"
         },
         {
          "Goals": 1,
          "goal_id": "G-2301",
          "match_id": "M-2003-19",
          "minute": 43,
          "team_name": "Germany",
          "tournament_id": "WC-2003"
         },
         {
          "Goals": 2,
          "goal_id": "G-2302",
          "match_id": "M-2003-19",
          "minute": 71,
          "team_name": "Argentina",
          "tournament_id": "WC-2003"
         },
         {
          "Goals": 7,
          "goal_id": "G-2303",
          "match_id": "M-2003-19",
          "minute": 89,
          "team_name": "Germany",
          "tournament_id": "WC-2003"
         },
         {
          "Goals": null,
          "goal_id": "G-2304",
          "match_id": "M-2003-19",
          "minute": null,
          "team_name": "Germany",
          "tournament_id": "WC-2003"
         },
         {
          "Goals": 6,
          "goal_id": "G-2320",
          "match_id": "M-2003-25",
          "minute": 44,
          "team_name": "Brazil",
          "tournament_id": "WC-2003"
         },
         {
          "Goals": 4,
          "goal_id": "G-2323",
          "match_id": "M-2003-27",
          "minute": 25,
          "team_name": "Germany",
          "tournament_id": "WC-2003"
         },
         {
          "Goals": 6,
          "goal_id": "G-2324",
          "match_id": "M-2003-27",
          "minute": 57,
          "team_name": "Germany",
          "tournament_id": "WC-2003"
         },
         {
          "Goals": 4,
          "goal_id": "G-2325",
          "match_id": "M-2003-27",
          "minute": 60,
          "team_name": "Germany",
          "tournament_id": "WC-2003"
         },
         {
          "Goals": 2,
          "goal_id": "G-2326",
          "match_id": "M-2003-27",
          "minute": 62,
          "team_name": "Germany",
          "tournament_id": "WC-2003"
         },
         {
          "Goals": 2,
          "goal_id": "G-2328",
          "match_id": "M-2003-27",
          "minute": 80,
          "team_name": "Germany",
          "tournament_id": "WC-2003"
         },
         {
          "Goals": 3,
          "goal_id": "G-2329",
          "match_id": "M-2003-27",
          "minute": 85,
          "team_name": "Germany",
          "tournament_id": "WC-2003"
         },
         {
          "Goals": 7,
          "goal_id": "G-2330",
          "match_id": "M-2003-27",
          "minute": 89,
          "team_name": "Germany",
          "tournament_id": "WC-2003"
         },
         {
          "Goals": 1,
          "goal_id": "G-2332",
          "match_id": "M-2003-29",
          "minute": 15,
          "team_name": "Germany",
          "tournament_id": "WC-2003"
         },
         {
          "Goals": null,
          "goal_id": "G-2333",
          "match_id": "M-2003-29",
          "minute": null,
          "team_name": "Germany",
          "tournament_id": "WC-2003"
         },
         {
          "Goals": null,
          "goal_id": "G-2334",
          "match_id": "M-2003-29",
          "minute": null,
          "team_name": "Germany",
          "tournament_id": "WC-2003"
         },
         {
          "Goals": 2,
          "goal_id": "G-2343",
          "match_id": "M-2003-32",
          "minute": 46,
          "team_name": "Germany",
          "tournament_id": "WC-2003"
         },
         {
          "Goals": 2,
          "goal_id": "G-2344",
          "match_id": "M-2003-32",
          "minute": 98,
          "team_name": "Germany",
          "tournament_id": "WC-2003"
         },
         {
          "Goals": 3,
          "goal_id": "G-2345",
          "match_id": "M-2006-01",
          "minute": 6,
          "team_name": "Germany",
          "tournament_id": "WC-2006"
         },
         {
          "Goals": 3,
          "goal_id": "G-2347",
          "match_id": "M-2006-01",
          "minute": 17,
          "team_name": "Germany",
          "tournament_id": "WC-2006"
         },
         {
          "Goals": 3,
          "goal_id": "G-2348",
          "match_id": "M-2006-01",
          "minute": 61,
          "team_name": "Germany",
          "tournament_id": "WC-2006"
         },
         {
          "Goals": 3,
          "goal_id": "G-2350",
          "match_id": "M-2006-01",
          "minute": 87,
          "team_name": "Germany",
          "tournament_id": "WC-2006"
         },
         {
          "Goals": 2,
          "goal_id": "G-2353",
          "match_id": "M-2006-03",
          "minute": 3,
          "team_name": "England",
          "tournament_id": "WC-2006"
         },
         {
          "Goals": 1,
          "goal_id": "G-2354",
          "match_id": "M-2006-05",
          "minute": 24,
          "team_name": "Argentina",
          "tournament_id": "WC-2006"
         },
         {
          "Goals": 2,
          "goal_id": "G-2355",
          "match_id": "M-2006-05",
          "minute": 38,
          "team_name": "Argentina",
          "tournament_id": "WC-2006"
         },
         {
          "Goals": 1,
          "goal_id": "G-2370",
          "match_id": "M-2006-11",
          "minute": 40,
          "team_name": "Italy",
          "tournament_id": "WC-2006"
         },
         {
          "Goals": 2,
          "goal_id": "G-2371",
          "match_id": "M-2006-11",
          "minute": 83,
          "team_name": "Italy",
          "tournament_id": "WC-2006"
         },
         {
          "Goals": 6,
          "goal_id": "G-2375",
          "match_id": "M-2006-14",
          "minute": 44,
          "team_name": "Brazil",
          "tournament_id": "WC-2006"
         },
         {
          "Goals": 2,
          "goal_id": "G-2376",
          "match_id": "M-2006-15",
          "minute": 13,
          "team_name": "Spain",
          "tournament_id": "WC-2006"
         },
         {
          "Goals": 3,
          "goal_id": "G-2377",
          "match_id": "M-2006-15",
          "minute": 17,
          "team_name": "Spain",
          "tournament_id": "WC-2006"
         },
         {
          "Goals": 2,
          "goal_id": "G-2378",
          "match_id": "M-2006-15",
          "minute": 48,
          "team_name": "Spain",
          "tournament_id": "WC-2006"
         },
         {
          "Goals": 4,
          "goal_id": "G-2379",
          "match_id": "M-2006-15",
          "minute": 81,
          "team_name": "Spain",
          "tournament_id": "WC-2006"
         },
         {
          "Goals": null,
          "goal_id": "G-2384",
          "match_id": "M-2006-17",
          "minute": null,
          "team_name": "Germany",
          "tournament_id": "WC-2006"
         },
         {
          "Goals": 4,
          "goal_id": "G-2388",
          "match_id": "M-2006-19",
          "minute": 83,
          "team_name": "England",
          "tournament_id": "WC-2006"
         },
         {
          "Goals": null,
          "goal_id": "G-2389",
          "match_id": "M-2006-19",
          "minute": null,
          "team_name": "England",
          "tournament_id": "WC-2006"
         },
         {
          "Goals": 3,
          "goal_id": "G-2391",
          "match_id": "M-2006-21",
          "minute": 6,
          "team_name": "Argentina",
          "tournament_id": "WC-2006"
         },
         {
          "Goals": 2,
          "goal_id": "G-2392",
          "match_id": "M-2006-21",
          "minute": 31,
          "team_name": "Argentina",
          "tournament_id": "WC-2006"
         },
         {
          "Goals": 2,
          "goal_id": "G-2393",
          "match_id": "M-2006-21",
          "minute": 41,
          "team_name": "Argentina",
          "tournament_id": "WC-2006"
         },
         {
          "Goals": 2,
          "goal_id": "G-2394",
          "match_id": "M-2006-21",
          "minute": 78,
          "team_name": "Argentina",
          "tournament_id": "WC-2006"
         },
         {
          "Goals": 2,
          "goal_id": "G-2395",
          "match_id": "M-2006-21",
          "minute": 84,
          "team_name": "Argentina",
          "tournament_id": "WC-2006"
         },
         {
          "Goals": 2,
          "goal_id": "G-2396",
          "match_id": "M-2006-21",
          "minute": 88,
          "team_name": "Argentina",
          "tournament_id": "WC-2006"
         },
         {
          "Goals": 2,
          "goal_id": "G-2404",
          "match_id": "M-2006-26",
          "minute": 22,
          "team_name": "Italy",
          "tournament_id": "WC-2006"
         },
         {
          "Goals": 5,
          "goal_id": "G-2406",
          "match_id": "M-2006-28",
          "minute": 49,
          "team_name": "Brazil",
          "tournament_id": "WC-2006"
         },
         {
          "Goals": 3,
          "goal_id": "G-2407",
          "match_id": "M-2006-28",
          "minute": 90,
          "team_name": "Brazil",
          "tournament_id": "WC-2006"
         },
         {
          "Goals": 4,
          "goal_id": "G-2408",
          "match_id": "M-2006-29",
          "minute": 9,
          "team_name": "France",
          "tournament_id": "WC-2006"
         },
         {
          "Goals": 3,
          "goal_id": "G-2417",
          "match_id": "M-2006-32",
          "minute": 71,
          "team_name": "Spain",
          "tournament_id": "WC-2006"
         },
         {
          "Goals": 1,
          "goal_id": "G-2418",
          "match_id": "M-2006-32",
          "minute": 76,
          "team_name": "Spain",
          "tournament_id": "WC-2006"
         },
         {
          "Goals": null,
          "goal_id": "G-2419",
          "match_id": "M-2006-32",
          "minute": null,
          "team_name": "Spain",
          "tournament_id": "WC-2006"
         },
         {
          "Goals": 2,
          "goal_id": "G-2423",
          "match_id": "M-2006-34",
          "minute": 4,
          "team_name": "Germany",
          "tournament_id": "WC-2006"
         },
         {
          "Goals": 2,
          "goal_id": "G-2424",
          "match_id": "M-2006-34",
          "minute": 44,
          "team_name": "Germany",
          "tournament_id": "WC-2006"
         },
         {
          "Goals": 6,
          "goal_id": "G-2425",
          "match_id": "M-2006-34",
          "minute": 57,
          "team_name": "Germany",
          "tournament_id": "WC-2006"
         },
         {
          "Goals": 2,
          "goal_id": "G-2428",
          "match_id": "M-2006-36",
          "minute": 34,
          "team_name": "England",
          "tournament_id": "WC-2006"
         },
         {
          "Goals": 3,
          "goal_id": "G-2430",
          "match_id": "M-2006-36",
          "minute": 85,
          "team_name": "England",
          "tournament_id": "WC-2006"
         },
         {
          "Goals": 1,
          "goal_id": "G-2442",
          "match_id": "M-2006-41",
          "minute": 26,
          "team_name": "Italy",
          "tournament_id": "WC-2006"
         },
         {
          "Goals": 1,
          "goal_id": "G-2443",
          "match_id": "M-2006-41",
          "minute": 87,
          "team_name": "Italy",
          "tournament_id": "WC-2006"
         },
         {
          "Goals": null,
          "goal_id": "G-2452",
          "match_id": "M-2006-44",
          "minute": null,
          "team_name": "Brazil",
          "tournament_id": "WC-2006"
         },
         {
          "Goals": 4,
          "goal_id": "G-2453",
          "match_id": "M-2006-44",
          "minute": 53,
          "team_name": "Brazil",
          "tournament_id": "WC-2006"
         },
         {
          "Goals": 7,
          "goal_id": "G-2454",
          "match_id": "M-2006-44",
          "minute": 59,
          "team_name": "Brazil",
          "tournament_id": "WC-2006"
         },
         {
          "Goals": 3,
          "goal_id": "G-2455",
          "match_id": "M-2006-44",
          "minute": 81,
          "team_name": "Brazil",
          "tournament_id": "WC-2006"
         },
         {
          "Goals": 2,
          "goal_id": "G-2456",
          "match_id": "M-2006-45",
          "minute": 36,
          "team_name": "Spain",
          "tournament_id": "WC-2006"
         },
         {
          "Goals": 3,
          "goal_id": "G-2460",
          "match_id": "M-2006-48",
          "minute": 55,
          "team_name": "France",
          "tournament_id": "WC-2006"
         },
         {
          "Goals": 4,
          "goal_id": "G-2461",
          "match_id": "M-2006-48",
          "minute": 61,
          "team_name": "France",
          "tournament_id": "WC-2006"
         },
         {
          "Goals": 2,
          "goal_id": "G-2462",
          "match_id": "M-2006-49",
          "minute": 4,
          "team_name": "Germany",
          "tournament_id": "WC-2006"
         },
         {
          "Goals": 4,
          "goal_id": "G-2463",
          "match_id": "M-2006-49",
          "minute": 12,
          "team_name": "Germany",
          "tournament_id": "WC-2006"
         },
         {
          "Goals": 2,
          "goal_id": "G-2465",
          "match_id": "M-2006-50",
          "minute": 10,
          "team_name": "Argentina",
          "tournament_id": "WC-2006"
         },
         {
          "Goals": 1,
          "goal_id": "G-2466",
          "match_id": "M-2006-50",
          "minute": 98,
          "team_name": "Argentina",
          "tournament_id": "WC-2006"
         },
         {
          "Goals": 2,
          "goal_id": "G-2467",
          "match_id": "M-2006-51",
          "minute": 60,
          "team_name": "England",
          "tournament_id": "WC-2006"
         },
         {
          "Goals": null,
          "goal_id": "G-2469",
          "match_id": "M-2006-53",
          "minute": null,
          "team_name": "Italy",
          "tournament_id": "WC-2006"
         },
         {
          "Goals": 2,
          "goal_id": "G-2470",
          "match_id": "M-2006-55",
          "minute": 5,
          "team_name": "Brazil",
          "tournament_id": "WC-2006"
         },
         {
          "Goals": null,
          "goal_id": "G-2471",
          "match_id": "M-2006-55",
          "minute": null,
          "team_name": "Brazil",
          "tournament_id": "WC-2006"
         },
         {
          "Goals": 2,
          "goal_id": "G-2472",
          "match_id": "M-2006-55",
          "minute": 84,
          "team_name": "Brazil",
          "tournament_id": "WC-2006"
         },
         {
          "Goals": 1,
          "goal_id": "G-2473",
          "match_id": "M-2006-56",
          "minute": 28,
          "team_name": "Spain",
          "tournament_id": "WC-2006"
         },
         {
          "Goals": 1,
          "goal_id": "G-2474",
          "match_id": "M-2006-56",
          "minute": 41,
          "team_name": "France",
          "tournament_id": "WC-2006"
         },
         {
          "Goals": 4,
          "goal_id": "G-2475",
          "match_id": "M-2006-56",
          "minute": 83,
          "team_name": "France",
          "tournament_id": "WC-2006"
         },
         {
          "Goals": null,
          "goal_id": "G-2476",
          "match_id": "M-2006-56",
          "minute": null,
          "team_name": "France",
          "tournament_id": "WC-2006"
         },
         {
          "Goals": 2,
          "goal_id": "G-2477",
          "match_id": "M-2006-57",
          "minute": 49,
          "team_name": "Argentina",
          "tournament_id": "WC-2006"
         },
         {
          "Goals": 2,
          "goal_id": "G-2478",
          "match_id": "M-2006-57",
          "minute": 80,
          "team_name": "Germany",
          "tournament_id": "WC-2006"
         },
         {
          "Goals": 3,
          "goal_id": "G-2479",
          "match_id": "M-2006-58",
          "minute": 6,
          "team_name": "Italy",
          "tournament_id": "WC-2006"
         },
         {
          "Goals": 1,
          "goal_id": "G-2480",
          "match_id": "M-2006-58",
          "minute": 59,
          "team_name": "Italy",
          "tournament_id": "WC-2006"
         },
         {
          "Goals": 4,
          "goal_id": "G-2481",
          "match_id": "M-2006-58",
          "minute": 69,
          "team_name": "Italy",
          "tournament_id": "WC-2006"
         },
         {
          "Goals": 3,
          "goal_id": "G-2482",
          "match_id": "M-2006-60",
          "minute": 57,
          "team_name": "France",
          "tournament_id": "WC-2006"
         },
         {
          "Goals": 1,
          "goal_id": "G-2483",
          "match_id": "M-2006-61",
          "minute": 119,
          "team_name": "Italy",
          "tournament_id": "WC-2006"
         },
         {
          "Goals": null,
          "goal_id": "G-2484",
          "match_id": "M-2006-61",
          "minute": null,
          "team_name": "Italy",
          "tournament_id": "WC-2006"
         },
         {
          "Goals": 2,
          "goal_id": "G-2485",
          "match_id": "M-2006-62",
          "minute": 33,
          "team_name": "France",
          "tournament_id": "WC-2006"
         },
         {
          "Goals": 3,
          "goal_id": "G-2486",
          "match_id": "M-2006-63",
          "minute": 56,
          "team_name": "Germany",
          "tournament_id": "WC-2006"
         },
         {
          "Goals": 4,
          "goal_id": "G-2487",
          "match_id": "M-2006-63",
          "minute": 60,
          "team_name": "Germany",
          "tournament_id": "WC-2006"
         },
         {
          "Goals": 5,
          "goal_id": "G-2488",
          "match_id": "M-2006-63",
          "minute": 78,
          "team_name": "Germany",
          "tournament_id": "WC-2006"
         },
         {
          "Goals": 1,
          "goal_id": "G-2490",
          "match_id": "M-2006-64",
          "minute": 7,
          "team_name": "France",
          "tournament_id": "WC-2006"
         },
         {
          "Goals": 3,
          "goal_id": "G-2491",
          "match_id": "M-2006-64",
          "minute": 19,
          "team_name": "Italy",
          "tournament_id": "WC-2006"
         },
         {
          "Goals": 4,
          "goal_id": "G-2492",
          "match_id": "M-2007-01",
          "minute": 12,
          "team_name": "Germany",
          "tournament_id": "WC-2007"
         },
         {
          "Goals": 3,
          "goal_id": "G-2493",
          "match_id": "M-2007-01",
          "minute": 17,
          "team_name": "Germany",
          "tournament_id": "WC-2007"
         },
         {
          "Goals": 5,
          "goal_id": "G-2494",
          "match_id": "M-2007-01",
          "minute": 24,
          "team_name": "Germany",
          "tournament_id": "WC-2007"
         },
         {
          "Goals": 5,
          "goal_id": "G-2495",
          "match_id": "M-2007-01",
          "minute": 29,
          "team_name": "Germany",
          "tournament_id": "WC-2007"
         },
         {
          "Goals": null,
          "goal_id": "G-2496",
          "match_id": "M-2007-01",
          "minute": null,
          "team_name": "Germany",
          "tournament_id": "WC-2007"
         },
         {
          "Goals": 2,
          "goal_id": "G-2497",
          "match_id": "M-2007-01",
          "minute": 51,
          "team_name": "Germany",
          "tournament_id": "WC-2007"
         },
         {
          "Goals": 6,
          "goal_id": "G-2498",
          "match_id": "M-2007-01",
          "minute": 57,
          "team_name": "Germany",
          "tournament_id": "WC-2007"
         },
         {
          "Goals": 1,
          "goal_id": "G-2499",
          "match_id": "M-2007-01",
          "minute": 59,
          "team_name": "Germany",
          "tournament_id": "WC-2007"
         },
         {
          "Goals": 5,
          "goal_id": "G-2500",
          "match_id": "M-2007-01",
          "minute": 70,
          "team_name": "Germany",
          "tournament_id": "WC-2007"
         },
         {
          "Goals": 5,
          "goal_id": "G-2501",
          "match_id": "M-2007-01",
          "minute": 79,
          "team_name": "Germany",
          "tournament_id": "WC-2007"
         },
         {
          "Goals": null,
          "goal_id": "G-2502",
          "match_id": "M-2007-01",
          "minute": null,
          "team_name": "Germany",
          "tournament_id": "WC-2007"
         },
         {
          "Goals": 5,
          "goal_id": "G-2508",
          "match_id": "M-2007-03",
          "minute": 81,
          "team_name": "England",
          "tournament_id": "WC-2007"
         },
         {
          "Goals": 4,
          "goal_id": "G-2509",
          "match_id": "M-2007-03",
          "minute": 83,
          "team_name": "England",
          "tournament_id": "WC-2007"
         },
         {
          "Goals": 4,
          "goal_id": "G-2518",
          "match_id": "M-2007-06",
          "minute": 10,
          "team_name": "Brazil",
          "tournament_id": "WC-2007"
         },
         {
          "Goals": 3,
          "goal_id": "G-2519",
          "match_id": "M-2007-06",
          "minute": 54,
          "team_name": "Brazil",
          "tournament_id": "WC-2007"
         },
         {
          "Goals": 4,
          "goal_id": "G-2520",
          "match_id": "M-2007-06",
          "minute": 74,
          "team_name": "Brazil",
          "tournament_id": "WC-2007"
         },
         {
          "Goals": 3,
          "goal_id": "G-2521",
          "match_id": "M-2007-06",
          "minute": 86,
          "team_name": "Brazil",
          "tournament_id": "WC-2007"
         },
         {
          "Goals": null,
          "goal_id": "G-2522",
          "match_id": "M-2007-06",
          "minute": null,
          "team_name": "Brazil",
          "tournament_id": "WC-2007"
         },
         {
          "Goals": 3,
          "goal_id": "G-2544",
          "match_id": "M-2007-16",
          "minute": 42,
          "team_name": "Brazil",
          "tournament_id": "WC-2007"
         },
         {
          "Goals": 4,
          "goal_id": "G-2545",
          "match_id": "M-2007-16",
          "minute": 47,
          "team_name": "Brazil",
          "tournament_id": "WC-2007"
         },
         {
          "Goals": 3,
          "goal_id": "G-2546",
          "match_id": "M-2007-16",
          "minute": 48,
          "team_name": "Brazil",
          "tournament_id": "WC-2007"
         },
         {
          "Goals": 2,
          "goal_id": "G-2547",
          "match_id": "M-2007-16",
          "minute": 70,
          "team_name": "Brazil",
          "tournament_id": "WC-2007"
         },
         {
          "Goals": 4,
          "goal_id": "G-2548",
          "match_id": "M-2007-17",
          "minute": 9,
          "team_name": "England",
          "tournament_id": "WC-2007"
         },
         {
          "Goals": 2,
          "goal_id": "G-2549",
          "match_id": "M-2007-17",
          "minute": 10,
          "team_name": "England",
          "tournament_id": "WC-2007"
         },
         {
          "Goals": 3,
          "goal_id": "G-2550",
          "match_id": "M-2007-17",
          "minute": 50,
          "team_name": "England",
          "tournament_id": "WC-2007"
         },
         {
          "Goals": 5,
          "goal_id": "G-2551",
          "match_id": "M-2007-17",
          "minute": 60,
          "team_name": "Argentina",
          "tournament_id": "WC-2007"
         },
         {
          "Goals": 1,
          "goal_id": "G-2552",
          "match_id": "M-2007-17",
          "minute": 64,
          "team_name": "England",
          "tournament_id": "WC-2007"
         },
         {
          "Goals": 1,
          "goal_id": "G-2553",
          "match_id": "M-2007-17",
          "minute": 77,
          "team_name": "England",
          "tournament_id": "WC-2007"
         },
         {
          "Goals": 2,
          "goal_id": "G-2554",
          "match_id": "M-2007-17",
          "minute": 90,
          "team_name": "England",
          "tournament_id": "WC-2007"
         },
         {
          "Goals": 2,
          "goal_id": "G-2555",
          "match_id": "M-2007-18",
          "minute": 21,
          "team_name": "Germany",
          "tournament_id": "WC-2007"
         },
         {
          "Goals": 3,
          "goal_id": "G-2556",
          "match_id": "M-2007-18",
          "minute": 87,
          "team_name": "Germany",
          "tournament_id": "WC-2007"
         },
         {
          "Goals": null,
          "goal_id": "G-2574",
          "match_id": "M-2007-23",
          "minute": null,
          "team_name": "Brazil",
          "tournament_id": "WC-2007"
         },
         {
          "Goals": 2,
          "goal_id": "G-2577",
          "match_id": "M-2007-25",
          "minute": 44,
          "team_name": "Germany",
          "tournament_id": "WC-2007"
         },
         {
          "Goals": 3,
          "goal_id": "G-2578",
          "match_id": "M-2007-25",
          "minute": 67,
          "team_name": "Germany",
          "tournament_id": "WC-2007"
         },
         {
          "Goals": 3,
          "goal_id": "G-2579",
          "match_id": "M-2007-25",
          "minute": 72,
          "team_name": "Germany",
          "tournament_id": "WC-2007"
         },
         {
          "Goals": 4,
          "goal_id": "G-2584",
          "match_id": "M-2007-28",
          "minute": 4,
          "team_name": "Brazil",
          "tournament_id": "WC-2007"
         },
         {
          "Goals": 2,
          "goal_id": "G-2585",
          "match_id": "M-2007-28",
          "minute": 23,
          "team_name": "Brazil",
          "tournament_id": "WC-2007"
         },
         {
          "Goals": 5,
          "goal_id": "G-2588",
          "match_id": "M-2007-28",
          "minute": 75,
          "team_name": "Brazil",
          "tournament_id": "WC-2007"
         },
         {
          "Goals": 6,
          "goal_id": "G-2589",
          "match_id": "M-2007-29",
          "minute": 42,
          "team_name": "Germany",
          "tournament_id": "WC-2007"
         },
         {
          "Goals": 3,
          "goal_id": "G-2590",
          "match_id": "M-2007-29",
          "minute": 72,
          "team_name": "Germany",
          "tournament_id": "WC-2007"
         },
         {
          "Goals": 4,
          "goal_id": "G-2591",
          "match_id": "M-2007-29",
          "minute": 75,
          "team_name": "Germany",
          "tournament_id": "WC-2007"
         },
         {
          "Goals": 3,
          "goal_id": "G-2592",
          "match_id": "M-2007-30",
          "minute": 20,
          "team_name": "Brazil",
          "tournament_id": "WC-2007"
         },
         {
          "Goals": 3,
          "goal_id": "G-2593",
          "match_id": "M-2007-30",
          "minute": 27,
          "team_name": "Brazil",
          "tournament_id": "WC-2007"
         },
         {
          "Goals": 2,
          "goal_id": "G-2594",
          "match_id": "M-2007-30",
          "minute": 56,
          "team_name": "Brazil",
          "tournament_id": "WC-2007"
         },
         {
          "Goals": 5,
          "goal_id": "G-2595",
          "match_id": "M-2007-30",
          "minute": 79,
          "team_name": "Brazil",
          "tournament_id": "WC-2007"
         },
         {
          "Goals": 1,
          "goal_id": "G-2601",
          "match_id": "M-2007-32",
          "minute": 52,
          "team_name": "Germany",
          "tournament_id": "WC-2007"
         },
         {
          "Goals": 2,
          "goal_id": "G-2602",
          "match_id": "M-2007-32",
          "minute": 86,
          "team_name": "Germany",
          "tournament_id": "WC-2007"
         },
         {
          "Goals": 3,
          "goal_id": "G-2607",
          "match_id": "M-2010-04",
          "minute": 6,
          "team_name": "Argentina",
          "tournament_id": "WC-2010"
         },
         {
          "Goals": 1,
          "goal_id": "G-2608",
          "match_id": "M-2010-05",
          "minute": 4,
          "team_name": "England",
          "tournament_id": "WC-2010"
         },
         {
          "Goals": 3,
          "goal_id": "G-2612",
          "match_id": "M-2010-08",
          "minute": 8,
          "team_name": "Germany",
          "tournament_id": "WC-2010"
         },
         {
          "Goals": 2,
          "goal_id": "G-2613",
          "match_id": "M-2010-08",
          "minute": 26,
          "team_name": "Germany",
          "tournament_id": "WC-2010"
         },
         {
          "Goals": 3,
          "goal_id": "G-2614",
          "match_id": "M-2010-08",
          "minute": 68,
          "team_name": "Germany",
          "tournament_id": "WC-2010"
         },
         {
          "Goals": 5,
          "goal_id": "G-2615",
          "match_id": "M-2010-08",
          "minute": 70,
          "team_name": "Germany",
          "tournament_id": "WC-2010"
         },
         {
          "Goals": 3,
          "goal_id": "G-2620",
          "match_id": "M-2010-11",
          "minute": 63,
          "team_name": "Italy",
          "tournament_id": "WC-2010"
         },
         {
          "Goals": 7,
          "goal_id": "G-2623",
          "match_id": "M-2010-14",
          "minute": 55,
          "team_name": "Brazil",
          "tournament_id": "WC-2010"
         },
         {
          "Goals": 5,
          "goal_id": "G-2624",
          "match_id": "M-2010-14",
          "minute": 72,
          "team_name": "Brazil",
          "tournament_id": "WC-2010"
         },
         {
          "Goals": 2,
          "goal_id": "G-2628",
          "match_id": "M-2010-17",
          "minute": 24,
          "team_name": "Uruguay",
          "tournament_id": "WC-2010"
         },
         {
          "Goals": 2,
          "goal_id": "G-2629",
          "match_id": "M-2010-17",
          "minute": 80,
          "team_name": "Uruguay",
          "tournament_id": "WC-2010"
         },
         {
          "Goals": null,
          "goal_id": "G-2630",
          "match_id": "M-2010-17",
          "minute": null,
          "team_name": "Uruguay",
          "tournament_id": "WC-2010"
         },
         {
          "Goals": 3,
          "goal_id": "G-2631",
          "match_id": "M-2010-18",
          "minute": 17,
          "team_name": "Argentina",
          "tournament_id": "WC-2010"
         },
         {
          "Goals": 2,
          "goal_id": "G-2632",
          "match_id": "M-2010-18",
          "minute": 33,
          "team_name": "Argentina",
          "tournament_id": "WC-2010"
         },
         {
          "Goals": 1,
          "goal_id": "G-2634",
          "match_id": "M-2010-18",
          "minute": 76,
          "team_name": "Argentina",
          "tournament_id": "WC-2010"
         },
         {
          "Goals": 3,
          "goal_id": "G-2635",
          "match_id": "M-2010-18",
          "minute": 80,
          "team_name": "Argentina",
          "tournament_id": "WC-2010"
         },
         {
          "Goals": 4,
          "goal_id": "G-2655",
          "match_id": "M-2010-28",
          "minute": 29,
          "team_name": "Italy",
          "tournament_id": "WC-2010"
         },
         {
          "Goals": 3,
          "goal_id": "G-2656",
          "match_id": "M-2010-29",
          "minute": 25,
          "team_name": "Brazil",
          "tournament_id": "WC-2010"
         },
         {
          "Goals": 7,
          "goal_id": "G-2657",
          "match_id": "M-2010-29",
          "minute": 50,
          "team_name": "Brazil",
          "tournament_id": "WC-2010"
         },
         {
          "Goals": 7,
          "goal_id": "G-2658",
          "match_id": "M-2010-29",
          "minute": 62,
          "team_name": "Brazil",
          "tournament_id": "WC-2010"
         },
         {
          "Goals": 3,
          "goal_id": "G-2668",
          "match_id": "M-2010-32",
          "minute": 17,
          "team_name": "Spain",
          "tournament_id": "WC-2010"
         },
         {
          "Goals": 2,
          "goal_id": "G-2669",
          "match_id": "M-2010-32",
          "minute": 51,
          "team_name": "Spain",
          "tournament_id": "WC-2010"
         },
         {
          "Goals": 3,
          "goal_id": "G-2672",
          "match_id": "M-2010-33",
          "minute": 70,
          "team_name": "France",
          "tournament_id": "WC-2010"
         },
         {
          "Goals": 1,
          "goal_id": "G-2673",
          "match_id": "M-2010-34",
          "minute": 43,
          "team_name": "Uruguay",
          "tournament_id": "WC-2010"
         },
         {
          "Goals": 3,
          "goal_id": "G-2674",
          "match_id": "M-2010-35",
          "minute": 77,
          "team_name": "Argentina",
          "tournament_id": "WC-2010"
         },
         {
          "Goals": 2,
          "goal_id": "G-2675",
          "match_id": "M-2010-35",
          "minute": 89,
          "team_name": "Argentina",
          "tournament_id": "WC-2010"
         },
         {
          "Goals": 2,
          "goal_id": "G-2680",
          "match_id": "M-2010-37",
          "minute": 23,
          "team_name": "England",
          "tournament_id": "WC-2010"
         },
         {
          "Goals": 4,
          "goal_id": "G-2685",
          "match_id": "M-2010-40",
          "minute": 60,
          "team_name": "Germany",
          "tournament_id": "WC-2010"
         },
         {
          "Goals": 4,
          "goal_id": "G-2688",
          "match_id": "M-2010-42",
          "minute": 81,
          "team_name": "Italy",
          "tournament_id": "WC-2010"
         },
         {
          "Goals": null,
          "goal_id": "G-2690",
          "match_id": "M-2010-42",
          "minute": null,
          "team_name": "Italy",
          "tournament_id": "WC-2010"
         },
         {
          "Goals": 2,
          "goal_id": "G-2701",
          "match_id": "M-2010-47",
          "minute": 24,
          "team_name": "Spain",
          "tournament_id": "WC-2010"
         },
         {
          "Goals": 2,
          "goal_id": "G-2702",
          "match_id": "M-2010-47",
          "minute": 37,
          "team_name": "Spain",
          "tournament_id": "WC-2010"
         },
         {
          "Goals": 1,
          "goal_id": "G-2704",
          "match_id": "M-2010-49",
          "minute": 8,
          "team_name": "Uruguay",
          "tournament_id": "WC-2010"
         },
         {
          "Goals": 2,
          "goal_id": "G-2706",
          "match_id": "M-2010-49",
          "minute": 80,
          "team_name": "Uruguay",
          "tournament_id": "WC-2010"
         },
         {
          "Goals": 4,
          "goal_id": "G-2710",
          "match_id": "M-2010-51",
          "minute": 20,
          "team_name": "Germany",
          "tournament_id": "WC-2010"
         },
         {
          "Goals": 5,
          "goal_id": "G-2711",
          "match_id": "M-2010-51",
          "minute": 32,
          "team_name": "Germany",
          "tournament_id": "WC-2010"
         },
         {
          "Goals": 3,
          "goal_id": "G-2712",
          "match_id": "M-2010-51",
          "minute": 37,
          "team_name": "England",
          "tournament_id": "WC-2010"
         },
         {
          "Goals": 3,
          "goal_id": "G-2713",
          "match_id": "M-2010-51",
          "minute": 67,
          "team_name": "Germany",
          "tournament_id": "WC-2010"
         },
         {
          "Goals": 5,
          "goal_id": "G-2714",
          "match_id": "M-2010-51",
          "minute": 70,
          "team_name": "Germany",
          "tournament_id": "WC-2010"
         },
         {
          "Goals": 2,
          "goal_id": "G-2715",
          "match_id": "M-2010-52",
          "minute": 26,
          "team_name": "Argentina",
          "tournament_id": "WC-2010"
         },
         {
          "Goals": 2,
          "goal_id": "G-2716",
          "match_id": "M-2010-52",
          "minute": 33,
          "team_name": "Argentina",
          "tournament_id": "WC-2010"
         },
         {
          "Goals": 2,
          "goal_id": "G-2717",
          "match_id": "M-2010-52",
          "minute": 52,
          "team_name": "Argentina",
          "tournament_id": "WC-2010"
         },
         {
          "Goals": 4,
          "goal_id": "G-2722",
          "match_id": "M-2010-54",
          "minute": 35,
          "team_name": "Brazil",
          "tournament_id": "WC-2010"
         },
         {
          "Goals": 3,
          "goal_id": "G-2723",
          "match_id": "M-2010-54",
          "minute": 38,
          "team_name": "Brazil",
          "tournament_id": "WC-2010"
         },
         {
          "Goals": 7,
          "goal_id": "G-2724",
          "match_id": "M-2010-54",
          "minute": 59,
          "team_name": "Brazil",
          "tournament_id": "WC-2010"
         },
         {
          "Goals": 1,
          "goal_id": "G-2725",
          "match_id": "M-2010-56",
          "minute": 63,
          "team_name": "Spain",
          "tournament_id": "WC-2010"
         },
         {
          "Goals": 4,
          "goal_id": "G-2726",
          "match_id": "M-2010-57",
          "minute": 10,
          "team_name": "Brazil",
          "tournament_id": "WC-2010"
         },
         {
          "Goals": 1,
          "goal_id": "G-2730",
          "match_id": "M-2010-58",
          "minute": 55,
          "team_name": "Uruguay",
          "tournament_id": "WC-2010"
         },
         {
          "Goals": 3,
          "goal_id": "G-2731",
          "match_id": "M-2010-59",
          "minute": 3,
          "team_name": "Germany",
          "tournament_id": "WC-2010"
         },
         {
          "Goals": 3,
          "goal_id": "G-2732",
          "match_id": "M-2010-59",
          "minute": 68,
          "team_name": "Germany",
          "tournament_id": "WC-2010"
         },
         {
          "Goals": 2,
          "goal_id": "G-2733",
          "match_id": "M-2010-59",
          "minute": 74,
          "team_name": "Germany",
          "tournament_id": "WC-2010"
         },
         {
          "Goals": 7,
          "goal_id": "G-2734",
          "match_id": "M-2010-59",
          "minute": 89,
          "team_name": "Germany",
          "tournament_id": "WC-2010"
         },
         {
          "Goals": 3,
          "goal_id": "G-2735",
          "match_id": "M-2010-60",
          "minute": 83,
          "team_name": "Spain",
          "tournament_id": "WC-2010"
         },
         {
          "Goals": 1,
          "goal_id": "G-2737",
          "match_id": "M-2010-61",
          "minute": 41,
          "team_name": "Uruguay",
          "tournament_id": "WC-2010"
         },
         {
          "Goals": null,
          "goal_id": "G-2740",
          "match_id": "M-2010-61",
          "minute": null,
          "team_name": "Uruguay",
          "tournament_id": "WC-2010"
         },
         {
          "Goals": 1,
          "goal_id": "G-2741",
          "match_id": "M-2010-62",
          "minute": 73,
          "team_name": "Spain",
          "tournament_id": "WC-2010"
         },
         {
          "Goals": 2,
          "goal_id": "G-2742",
          "match_id": "M-2010-63",
          "minute": 19,
          "team_name": "Germany",
          "tournament_id": "WC-2010"
         },
         {
          "Goals": 1,
          "goal_id": "G-2743",
          "match_id": "M-2010-63",
          "minute": 28,
          "team_name": "Uruguay",
          "tournament_id": "WC-2010"
         },
         {
          "Goals": 2,
          "goal_id": "G-2744",
          "match_id": "M-2010-63",
          "minute": 51,
          "team_name": "Uruguay",
          "tournament_id": "WC-2010"
         },
         {
          "Goals": 3,
          "goal_id": "G-2745",
          "match_id": "M-2010-63",
          "minute": 56,
          "team_name": "Germany",
          "tournament_id": "WC-2010"
         },
         {
          "Goals": 3,
          "goal_id": "G-2746",
          "match_id": "M-2010-63",
          "minute": 82,
          "team_name": "Germany",
          "tournament_id": "WC-2010"
         },
         {
          "Goals": 1,
          "goal_id": "G-2747",
          "match_id": "M-2010-64",
          "minute": 116,
          "team_name": "Spain",
          "tournament_id": "WC-2010"
         },
         {
          "Goals": 4,
          "goal_id": "G-2748",
          "match_id": "M-2011-01",
          "minute": 56,
          "team_name": "France",
          "tournament_id": "WC-2011"
         },
         {
          "Goals": 4,
          "goal_id": "G-2749",
          "match_id": "M-2011-02",
          "minute": 10,
          "team_name": "Germany",
          "tournament_id": "WC-2011"
         },
         {
          "Goals": 6,
          "goal_id": "G-2750",
          "match_id": "M-2011-02",
          "minute": 42,
          "team_name": "Germany",
          "tournament_id": "WC-2011"
         },
         {
          "Goals": 1,
          "goal_id": "G-2755",
          "match_id": "M-2011-04",
          "minute": 21,
          "team_name": "England",
          "tournament_id": "WC-2011"
         },
         {
          "Goals": 3,
          "goal_id": "G-2761",
          "match_id": "M-2011-08",
          "minute": 54,
          "team_name": "Brazil",
          "tournament_id": "WC-2011"
         },
         {
          "Goals": 3,
          "goal_id": "G-2762",
          "match_id": "M-2011-09",
          "minute": 24,
          "team_name": "France",
          "tournament_id": "WC-2011"
         },
         {
          "Goals": 2,
          "goal_id": "G-2763",
          "match_id": "M-2011-09",
          "minute": 60,
          "team_name": "France",
          "tournament_id": "WC-2011"
         },
         {
          "Goals": 2,
          "goal_id": "G-2764",
          "match_id": "M-2011-09",
          "minute": 66,
          "team_name": "France",
          "tournament_id": "WC-2011"
         },
         {
          "Goals": 4,
          "goal_id": "G-2765",
          "match_id": "M-2011-09",
          "minute": 83,
          "team_name": "France",
          "tournament_id": "WC-2011"
         },
         {
          "Goals": 1,
          "goal_id": "G-2766",
          "match_id": "M-2011-10",
          "minute": 54,
          "team_name": "Germany",
          "tournament_id": "WC-2011"
         },
         {
          "Goals": 2,
          "goal_id": "G-2772",
          "match_id": "M-2011-12",
          "minute": 63,
          "team_name": "England",
          "tournament_id": "WC-2011"
         },
         {
          "Goals": 5,
          "goal_id": "G-2773",
          "match_id": "M-2011-12",
          "minute": 81,
          "team_name": "England",
          "tournament_id": "WC-2011"
         },
         {
          "Goals": 3,
          "goal_id": "G-2783",
          "match_id": "M-2011-16",
          "minute": 22,
          "team_name": "Brazil",
          "tournament_id": "WC-2011"
         },
         {
          "Goals": 2,
          "goal_id": "G-2784",
          "match_id": "M-2011-16",
          "minute": 46,
          "team_name": "Brazil",
          "tournament_id": "WC-2011"
         },
         {
          "Goals": 3,
          "goal_id": "G-2785",
          "match_id": "M-2011-16",
          "minute": 48,
          "team_name": "Brazil",
          "tournament_id": "WC-2011"
         },
         {
          "Goals": 2,
          "goal_id": "G-2786",
          "match_id": "M-2011-17",
          "minute": 15,
          "team_name": "England",
          "tournament_id": "WC-2011"
         },
         {
          "Goals": 3,
          "goal_id": "G-2787",
          "match_id": "M-2011-17",
          "minute": 66,
          "team_name": "England",
          "tournament_id": "WC-2011"
         },
         {
          "Goals": 4,
          "goal_id": "G-2793",
          "match_id": "M-2011-20",
          "minute": 25,
          "team_name": "Germany",
          "tournament_id": "WC-2011"
         },
         {
          "Goals": 5,
          "goal_id": "G-2794",
          "match_id": "M-2011-20",
          "minute": 32,
          "team_name": "Germany",
          "tournament_id": "WC-2011"
         },
         {
          "Goals": 4,
          "goal_id": "G-2795",
          "match_id": "M-2011-20",
          "minute": 56,
          "team_name": "France",
          "tournament_id": "WC-2011"
         },
         {
          "Goals": 3,
          "goal_id": "G-2796",
          "match_id": "M-2011-20",
          "minute": 68,
          "team_name": "Germany",
          "tournament_id": "WC-2011"
         },
         {
          "Goals": 4,
          "goal_id": "G-2797",
          "match_id": "M-2011-20",
          "minute": 72,
          "team_name": "France",
          "tournament_id": "WC-2011"
         },
         {
          "Goals": 7,
          "goal_id": "G-2798",
          "match_id": "M-2011-20",
          "minute": 89,
          "team_name": "Germany",
          "tournament_id": "WC-2011"
         },
         {
          "Goals": 5,
          "goal_id": "G-2802",
          "match_id": "M-2011-22",
          "minute": 49,
          "team_name": "Brazil",
          "tournament_id": "WC-2011"
         },
         {
          "Goals": 3,
          "goal_id": "G-2803",
          "match_id": "M-2011-22",
          "minute": 54,
          "team_name": "Brazil",
          "tournament_id": "WC-2011"
         },
         {
          "Goals": null,
          "goal_id": "G-2804",
          "match_id": "M-2011-22",
          "minute": null,
          "team_name": "Brazil",
          "tournament_id": "WC-2011"
         },
         {
          "Goals": 2,
          "goal_id": "G-2808",
          "match_id": "M-2011-25",
          "minute": 59,
          "team_name": "England",
          "tournament_id": "WC-2011"
         },
         {
          "Goals": 2,
          "goal_id": "G-2809",
          "match_id": "M-2011-25",
          "minute": 88,
          "team_name": "France",
          "tournament_id": "WC-2011"
         },
         {
          "Goals": 5,
          "goal_id": "G-2816",
          "match_id": "M-2011-28",
          "minute": 68,
          "team_name": "Brazil",
          "tournament_id": "WC-2011"
         },
         {
          "Goals": 1,
          "goal_id": "G-2817",
          "match_id": "M-2011-28",
          "minute": 92,
          "team_name": "Brazil",
          "tournament_id": "WC-2011"
         },
         {
          "Goals": 3,
          "goal_id": "G-2820",
          "match_id": "M-2011-29",
          "minute": 55,
          "team_name": "France",
          "tournament_id": "WC-2011"
         },
         {
          "Goals": 4,
          "goal_id": "G-2828",
          "match_id": "M-2011-31",
          "minute": 56,
          "team_name": "France",
          "tournament_id": "WC-2011"
         },
         {
          "Goals": 3,
          "goal_id": "G-2835",
          "match_id": "M-2014-01",
          "minute": 29,
          "team_name": "Brazil",
          "tournament_id": "WC-2014"
         },
         {
          "Goals": 5,
          "goal_id": "G-2836",
          "match_id": "M-2014-01",
          "minute": 71,
          "team_name": "Brazil",
          "tournament_id": "WC-2014"
         },
         {
          "Goals": null,
          "goal_id": "G-2837",
          "match_id": "M-2014-01",
          "minute": null,
          "team_name": "Brazil",
          "tournament_id": "WC-2014"
         },
         {
          "Goals": 1,
          "goal_id": "G-2839",
          "match_id": "M-2014-03",
          "minute": 27,
          "team_name": "Spain",
          "tournament_id": "WC-2014"
         },
         {
          "Goals": 2,
          "goal_id": "G-2852",
          "match_id": "M-2014-06",
          "minute": 24,
          "team_name": "Uruguay",
          "tournament_id": "WC-2014"
         },
         {
          "Goals": 4,
          "goal_id": "G-2856",
          "match_id": "M-2014-07",
          "minute": 35,
          "team_name": "Italy",
          "tournament_id": "WC-2014"
         },
         {
          "Goals": 3,
          "goal_id": "G-2857",
          "match_id": "M-2014-07",
          "minute": 37,
          "team_name": "England",
          "tournament_id": "WC-2014"
         },
         {
          "Goals": 1,
          "goal_id": "G-2858",
          "match_id": "M-2014-07",
          "minute": 50,
          "team_name": "Italy",
          "tournament_id": "WC-2014"
         },
         {
          "Goals": 1,
          "goal_id": "G-2865",
          "match_id": "M-2014-10",
          "minute": 45,
          "team_name": "France",
          "tournament_id": "WC-2014"
         },
         {
          "Goals": 3,
          "goal_id": "G-2866",
          "match_id": "M-2014-10",
          "minute": 48,
          "team_name": "France",
          "tournament_id": "WC-2014"
         },
         {
          "Goals": 4,
          "goal_id": "G-2867",
          "match_id": "M-2014-10",
          "minute": 72,
          "team_name": "France",
          "tournament_id": "WC-2014"
         },
         {
          "Goals": 3,
          "goal_id": "G-2868",
          "match_id": "M-2014-11",
          "minute": 3,
          "team_name": "Argentina",
          "tournament_id": "WC-2014"
         },
         {
          "Goals": 3,
          "goal_id": "G-2869",
          "match_id": "M-2014-11",
          "minute": 65,
          "team_name": "Argentina",
          "tournament_id": "WC-2014"
         },
         {
          "Goals": 4,
          "goal_id": "G-2871",
          "match_id": "M-2014-12",
          "minute": 12,
          "team_name": "Germany",
          "tournament_id": "WC-2014"
         },
         {
          "Goals": 5,
          "goal_id": "G-2872",
          "match_id": "M-2014-12",
          "minute": 32,
          "team_name": "Germany",
          "tournament_id": "WC-2014"
         },
         {
          "Goals": null,
          "goal_id": "G-2873",
          "match_id": "M-2014-12",
          "minute": null,
          "team_name": "Germany",
          "tournament_id": "WC-2014"
         },
         {
          "Goals": 5,
          "goal_id": "G-2874",
          "match_id": "M-2014-12",
          "minute": 78,
          "team_name": "Germany",
          "tournament_id": "WC-2014"
         },
         {
          "Goals": 3,
          "goal_id": "G-2897",
          "match_id": "M-2014-22",
          "minute": 39,
          "team_name": "Uruguay",
          "tournament_id": "WC-2014"
         },
         {
          "Goals": 3,
          "goal_id": "G-2898",
          "match_id": "M-2014-22",
          "minute": 75,
          "team_name": "England",
          "tournament_id": "WC-2014"
         },
         {
          "Goals": 3,
          "goal_id": "G-2899",
          "match_id": "M-2014-22",
          "minute": 85,
          "team_name": "Uruguay",
          "tournament_id": "WC-2014"
         },
         {
          "Goals": 2,
          "goal_id": "G-2901",
          "match_id": "M-2014-25",
          "minute": 17,
          "team_name": "France",
          "tournament_id": "WC-2014"
         },
         {
          "Goals": 3,
          "goal_id": "G-2902",
          "match_id": "M-2014-25",
          "minute": 18,
          "team_name": "France",
          "tournament_id": "WC-2014"
         },
         {
          "Goals": 4,
          "goal_id": "G-2903",
          "match_id": "M-2014-25",
          "minute": 40,
          "team_name": "France",
          "tournament_id": "WC-2014"
         },
         {
          "Goals": 2,
          "goal_id": "G-2904",
          "match_id": "M-2014-25",
          "minute": 67,
          "team_name": "France",
          "tournament_id": "WC-2014"
         },
         {
          "Goals": 1,
          "goal_id": "G-2905",
          "match_id": "M-2014-25",
          "minute": 73,
          "team_name": "France",
          "tournament_id": "WC-2014"
         },
         {
          "Goals": null,
          "goal_id": "G-2911",
          "match_id": "M-2014-27",
          "minute": null,
          "team_name": "Argentina",
          "tournament_id": "WC-2014"
         },
         {
          "Goals": 2,
          "goal_id": "G-2912",
          "match_id": "M-2014-28",
          "minute": 51,
          "team_name": "Germany",
          "tournament_id": "WC-2014"
         },
         {
          "Goals": 2,
          "goal_id": "G-2915",
          "match_id": "M-2014-28",
          "minute": 71,
          "team_name": "Germany",
          "tournament_id": "WC-2014"
         },
         {
          "Goals": 2,
          "goal_id": "G-2928",
          "match_id": "M-2014-33",
          "minute": 36,
          "team_name": "Spain",
          "tournament_id": "WC-2014"
         },
         {
          "Goals": 2,
          "goal_id": "G-2929",
          "match_id": "M-2014-33",
          "minute": 69,
          "team_name": "Spain",
          "tournament_id": "WC-2014"
         },
         {
          "Goals": 3,
          "goal_id": "G-2930",
          "match_id": "M-2014-33",
          "minute": 82,
          "team_name": "Spain",
          "tournament_id": "WC-2014"
         },
         {
          "Goals": 4,
          "goal_id": "G-2933",
          "match_id": "M-2014-35",
          "minute": 17,
          "team_name": "Brazil",
          "tournament_id": "WC-2014"
         },
         {
          "Goals": 4,
          "goal_id": "G-2935",
          "match_id": "M-2014-35",
          "minute": 35,
          "team_name": "Brazil",
          "tournament_id": "WC-2014"
         },
         {
          "Goals": 5,
          "goal_id": "G-2936",
          "match_id": "M-2014-35",
          "minute": 49,
          "team_name": "Brazil",
          "tournament_id": "WC-2014"
         },
         {
          "Goals": 2,
          "goal_id": "G-2937",
          "match_id": "M-2014-35",
          "minute": 84,
          "team_name": "Brazil",
          "tournament_id": "WC-2014"
         },
         {
          "Goals": 1,
          "goal_id": "G-2942",
          "match_id": "M-2014-38",
          "minute": 81,
          "team_name": "Uruguay",
          "tournament_id": "WC-2014"
         },
         {
          "Goals": 3,
          "goal_id": "G-2955",
          "match_id": "M-2014-42",
          "minute": 3,
          "team_name": "Argentina",
          "tournament_id": "WC-2014"
         },
         {
          "Goals": null,
          "goal_id": "G-2957",
          "match_id": "M-2014-42",
          "minute": null,
          "team_name": "Argentina",
          "tournament_id": "WC-2014"
         },
         {
          "Goals": 2,
          "goal_id": "G-2959",
          "match_id": "M-2014-42",
          "minute": 50,
          "team_name": "Argentina",
          "tournament_id": "WC-2014"
         },
         {
          "Goals": 2,
          "goal_id": "G-2966",
          "match_id": "M-2014-46",
          "minute": 55,
          "team_name": "Germany",
          "tournament_id": "WC-2014"
         },
         {
          "Goals": 4,
          "goal_id": "G-2970",
          "match_id": "M-2014-49",
          "minute": 18,
          "team_name": "Brazil",
          "tournament_id": "WC-2014"
         },
         {
          "Goals": 4,
          "goal_id": "G-2979",
          "match_id": "M-2014-53",
          "minute": 79,
          "team_name": "France",
          "tournament_id": "WC-2014"
         },
         {
          "Goals": null,
          "goal_id": "G-2980",
          "match_id": "M-2014-53",
          "minute": null,
          "team_name": "France",
          "tournament_id": "WC-2014"
         },
         {
          "Goals": 1,
          "goal_id": "G-2981",
          "match_id": "M-2014-54",
          "minute": 92,
          "team_name": "Germany",
          "tournament_id": "WC-2014"
         },
         {
          "Goals": 1,
          "goal_id": "G-2982",
          "match_id": "M-2014-54",
          "minute": 120,
          "team_name": "Germany",
          "tournament_id": "WC-2014"
         },
         {
          "Goals": 1,
          "goal_id": "G-2984",
          "match_id": "M-2014-55",
          "minute": 118,
          "team_name": "Argentina",
          "tournament_id": "WC-2014"
         },
         {
          "Goals": 1,
          "goal_id": "G-2988",
          "match_id": "M-2014-57",
          "minute": 13,
          "team_name": "Germany",
          "tournament_id": "WC-2014"
         },
         {
          "Goals": 3,
          "goal_id": "G-2989",
          "match_id": "M-2014-58",
          "minute": 7,
          "team_name": "Brazil",
          "tournament_id": "WC-2014"
         },
         {
          "Goals": 5,
          "goal_id": "G-2990",
          "match_id": "M-2014-58",
          "minute": 69,
          "team_name": "Brazil",
          "tournament_id": "WC-2014"
         },
         {
          "Goals": 2,
          "goal_id": "G-2992",
          "match_id": "M-2014-59",
          "minute": 8,
          "team_name": "Argentina",
          "tournament_id": "WC-2014"
         },
         {
          "Goals": 2,
          "goal_id": "G-2993",
          "match_id": "M-2014-61",
          "minute": 11,
          "team_name": "Germany",
          "tournament_id": "WC-2014"
         },
         {
          "Goals": 3,
          "goal_id": "G-2994",
          "match_id": "M-2014-61",
          "minute": 23,
          "team_name": "Germany",
          "tournament_id": "WC-2014"
         },
         {
          "Goals": 5,
          "goal_id": "G-2995",
          "match_id": "M-2014-61",
          "minute": 24,
          "team_name": "Germany",
          "tournament_id": "WC-2014"
         },
         {
          "Goals": 2,
          "goal_id": "G-2996",
          "match_id": "M-2014-61",
          "minute": 26,
          "team_name": "Germany",
          "tournament_id": "WC-2014"
         },
         {
          "Goals": 5,
          "goal_id": "G-2997",
          "match_id": "M-2014-61",
          "minute": 29,
          "team_name": "Germany",
          "tournament_id": "WC-2014"
         },
         {
          "Goals": 1,
          "goal_id": "G-2998",
          "match_id": "M-2014-61",
          "minute": 69,
          "team_name": "Germany",
          "tournament_id": "WC-2014"
         },
         {
          "Goals": 5,
          "goal_id": "G-2999",
          "match_id": "M-2014-61",
          "minute": 79,
          "team_name": "Germany",
          "tournament_id": "WC-2014"
         },
         {
          "Goals": 3,
          "goal_id": "G-3000",
          "match_id": "M-2014-61",
          "minute": 90,
          "team_name": "Brazil",
          "tournament_id": "WC-2014"
         },
         {
          "Goals": 1,
          "goal_id": "G-3004",
          "match_id": "M-2014-64",
          "minute": 113,
          "team_name": "Germany",
          "tournament_id": "WC-2014"
         },
         {
          "Goals": 3,
          "goal_id": "G-3011",
          "match_id": "M-2015-04",
          "minute": 3,
          "team_name": "Germany",
          "tournament_id": "WC-2015"
         },
         {
          "Goals": 2,
          "goal_id": "G-3012",
          "match_id": "M-2015-04",
          "minute": 14,
          "team_name": "Germany",
          "tournament_id": "WC-2015"
         },
         {
          "Goals": 5,
          "goal_id": "G-3013",
          "match_id": "M-2015-04",
          "minute": 29,
          "team_name": "Germany",
          "tournament_id": "WC-2015"
         },
         {
          "Goals": 1,
          "goal_id": "G-3014",
          "match_id": "M-2015-04",
          "minute": 31,
          "team_name": "Germany",
          "tournament_id": "WC-2015"
         },
         {
          "Goals": 1,
          "goal_id": "G-3015",
          "match_id": "M-2015-04",
          "minute": 35,
          "team_name": "Germany",
          "tournament_id": "WC-2015"
         },
         {
          "Goals": 1,
          "goal_id": "G-3016",
          "match_id": "M-2015-04",
          "minute": 64,
          "team_name": "Germany",
          "tournament_id": "WC-2015"
         },
         {
          "Goals": 2,
          "goal_id": "G-3017",
          "match_id": "M-2015-04",
          "minute": 71,
          "team_name": "Germany",
          "tournament_id": "WC-2015"
         },
         {
          "Goals": 4,
          "goal_id": "G-3018",
          "match_id": "M-2015-04",
          "minute": 75,
          "team_name": "Germany",
          "tournament_id": "WC-2015"
         },
         {
          "Goals": 5,
          "goal_id": "G-3019",
          "match_id": "M-2015-04",
          "minute": 79,
          "team_name": "Germany",
          "tournament_id": "WC-2015"
         },
         {
          "Goals": 3,
          "goal_id": "G-3020",
          "match_id": "M-2015-04",
          "minute": 85,
          "team_name": "Germany",
          "tournament_id": "WC-2015"
         },
         {
          "Goals": 2,
          "goal_id": "G-3038",
          "match_id": "M-2015-09",
          "minute": 29,
          "team_name": "France",
          "tournament_id": "WC-2015"
         },
         {
          "Goals": 2,
          "goal_id": "G-3039",
          "match_id": "M-2015-10",
          "minute": 13,
          "team_name": "Spain",
          "tournament_id": "WC-2015"
         },
         {
          "Goals": 3,
          "goal_id": "G-3043",
          "match_id": "M-2015-12",
          "minute": 33,
          "team_name": "Brazil",
          "tournament_id": "WC-2015"
         },
         {
          "Goals": 4,
          "goal_id": "G-3044",
          "match_id": "M-2015-12",
          "minute": 53,
          "team_name": "Brazil",
          "tournament_id": "WC-2015"
         },
         {
          "Goals": 3,
          "goal_id": "G-3046",
          "match_id": "M-2015-14",
          "minute": 6,
          "team_name": "Germany",
          "tournament_id": "WC-2015"
         },
         {
          "Goals": 6,
          "goal_id": "G-3071",
          "match_id": "M-2015-22",
          "minute": 44,
          "team_name": "Brazil",
          "tournament_id": "WC-2015"
         },
         {
          "Goals": 2,
          "goal_id": "G-3072",
          "match_id": "M-2015-23",
          "minute": 71,
          "team_name": "England",
          "tournament_id": "WC-2015"
         },
         {
          "Goals": 1,
          "goal_id": "G-3073",
          "match_id": "M-2015-23",
          "minute": 82,
          "team_name": "England",
          "tournament_id": "WC-2015"
         },
         {
          "Goals": 5,
          "goal_id": "G-3079",
          "match_id": "M-2015-25",
          "minute": 24,
          "team_name": "Germany",
          "tournament_id": "WC-2015"
         },
         {
          "Goals": 3,
          "goal_id": "G-3080",
          "match_id": "M-2015-25",
          "minute": 56,
          "team_name": "Germany",
          "tournament_id": "WC-2015"
         },
         {
          "Goals": 3,
          "goal_id": "G-3081",
          "match_id": "M-2015-25",
          "minute": 58,
          "team_name": "Germany",
          "tournament_id": "WC-2015"
         },
         {
          "Goals": 3,
          "goal_id": "G-3082",
          "match_id": "M-2015-25",
          "minute": 73,
          "team_name": "Germany",
          "tournament_id": "WC-2015"
         },
         {
          "Goals": 2,
          "goal_id": "G-3100",
          "match_id": "M-2015-33",
          "minute": 15,
          "team_name": "England",
          "tournament_id": "WC-2015"
         },
         {
          "Goals": 5,
          "goal_id": "G-3101",
          "match_id": "M-2015-33",
          "minute": 38,
          "team_name": "England",
          "tournament_id": "WC-2015"
         },
         {
          "Goals": 3,
          "goal_id": "G-3103",
          "match_id": "M-2015-34",
          "minute": 1,
          "team_name": "France",
          "tournament_id": "WC-2015"
         },
         {
          "Goals": 4,
          "goal_id": "G-3104",
          "match_id": "M-2015-34",
          "minute": 9,
          "team_name": "France",
          "tournament_id": "WC-2015"
         },
         {
          "Goals": 3,
          "goal_id": "G-3105",
          "match_id": "M-2015-34",
          "minute": 13,
          "team_name": "France",
          "tournament_id": "WC-2015"
         },
         {
          "Goals": 2,
          "goal_id": "G-3106",
          "match_id": "M-2015-34",
          "minute": 36,
          "team_name": "France",
          "tournament_id": "WC-2015"
         },
         {
          "Goals": 3,
          "goal_id": "G-3107",
          "match_id": "M-2015-34",
          "minute": 80,
          "team_name": "France",
          "tournament_id": "WC-2015"
         },
         {
          "Goals": 2,
          "goal_id": "G-3108",
          "match_id": "M-2015-35",
          "minute": 29,
          "team_name": "Spain",
          "tournament_id": "WC-2015"
         },
         {
          "Goals": 5,
          "goal_id": "G-3111",
          "match_id": "M-2015-36",
          "minute": 83,
          "team_name": "Brazil",
          "tournament_id": "WC-2015"
         },
         {
          "Goals": 5,
          "goal_id": "G-3112",
          "match_id": "M-2015-37",
          "minute": 24,
          "team_name": "Germany",
          "tournament_id": "WC-2015"
         },
         {
          "Goals": 2,
          "goal_id": "G-3113",
          "match_id": "M-2015-37",
          "minute": 36,
          "team_name": "Germany",
          "tournament_id": "WC-2015"
         },
         {
          "Goals": 5,
          "goal_id": "G-3114",
          "match_id": "M-2015-37",
          "minute": 78,
          "team_name": "Germany",
          "tournament_id": "WC-2015"
         },
         {
          "Goals": 3,
          "goal_id": "G-3116",
          "match_id": "M-2015-37",
          "minute": 88,
          "team_name": "Germany",
          "tournament_id": "WC-2015"
         },
         {
          "Goals": 2,
          "goal_id": "G-3119",
          "match_id": "M-2015-40",
          "minute": 4,
          "team_name": "France",
          "tournament_id": "WC-2015"
         },
         {
          "Goals": 1,
          "goal_id": "G-3120",
          "match_id": "M-2015-40",
          "minute": 8,
          "team_name": "France",
          "tournament_id": "WC-2015"
         },
         {
          "Goals": 3,
          "goal_id": "G-3121",
          "match_id": "M-2015-40",
          "minute": 48,
          "team_name": "France",
          "tournament_id": "WC-2015"
         },
         {
          "Goals": 1,
          "goal_id": "G-3124",
          "match_id": "M-2015-42",
          "minute": 61,
          "team_name": "England",
          "tournament_id": "WC-2015"
         },
         {
          "Goals": 2,
          "goal_id": "G-3125",
          "match_id": "M-2015-42",
          "minute": 76,
          "team_name": "England",
          "tournament_id": "WC-2015"
         },
         {
          "Goals": 2,
          "goal_id": "G-3131",
          "match_id": "M-2015-45",
          "minute": 64,
          "team_name": "France",
          "tournament_id": "WC-2015"
         },
         {
          "Goals": 2,
          "goal_id": "G-3132",
          "match_id": "M-2015-45",
          "minute": 84,
          "team_name": "Germany",
          "tournament_id": "WC-2015"
         },
         {
          "Goals": 2,
          "goal_id": "G-3135",
          "match_id": "M-2015-48",
          "minute": 11,
          "team_name": "England",
          "tournament_id": "WC-2015"
         },
         {
          "Goals": 5,
          "goal_id": "G-3136",
          "match_id": "M-2015-48",
          "minute": 14,
          "team_name": "England",
          "tournament_id": "WC-2015"
         },
         {
          "Goals": 4,
          "goal_id": "G-3141",
          "match_id": "M-2015-50",
          "minute": 40,
          "team_name": "England",
          "tournament_id": "WC-2015"
         },
         {
          "Goals": 1,
          "goal_id": "G-3143",
          "match_id": "M-2015-51",
          "minute": 108,
          "team_name": "England",
          "tournament_id": "WC-2015"
         },
         {
          "Goals": 2,
          "goal_id": "G-3156",
          "match_id": "M-2018-02",
          "minute": 89,
          "team_name": "Uruguay",
          "tournament_id": "WC-2018"
         },
         {
          "Goals": 2,
          "goal_id": "G-3159",
          "match_id": "M-2018-04",
          "minute": 24,
          "team_name": "Spain",
          "tournament_id": "WC-2018"
         },
         {
          "Goals": 3,
          "goal_id": "G-3161",
          "match_id": "M-2018-04",
          "minute": 55,
          "team_name": "Spain",
          "tournament_id": "WC-2018"
         },
         {
          "Goals": 2,
          "goal_id": "G-3162",
          "match_id": "M-2018-04",
          "minute": 58,
          "team_name": "Spain",
          "tournament_id": "WC-2018"
         },
         {
          "Goals": 1,
          "goal_id": "G-3164",
          "match_id": "M-2018-05",
          "minute": 58,
          "team_name": "France",
          "tournament_id": "WC-2018"
         },
         {
          "Goals": 3,
          "goal_id": "G-3166",
          "match_id": "M-2018-05",
          "minute": 81,
          "team_name": "France",
          "tournament_id": "WC-2018"
         },
         {
          "Goals": 1,
          "goal_id": "G-3167",
          "match_id": "M-2018-06",
          "minute": 19,
          "team_name": "Argentina",
          "tournament_id": "WC-2018"
         },
         {
          "Goals": 3,
          "goal_id": "G-3174",
          "match_id": "M-2018-11",
          "minute": 20,
          "team_name": "Brazil",
          "tournament_id": "WC-2018"
         },
         {
          "Goals": 2,
          "goal_id": "G-3180",
          "match_id": "M-2018-14",
          "minute": 11,
          "team_name": "England",
          "tournament_id": "WC-2018"
         },
         {
          "Goals": null,
          "goal_id": "G-3182",
          "match_id": "M-2018-14",
          "minute": null,
          "team_name": "England",
          "tournament_id": "WC-2018"
         },
         {
          "Goals": 4,
          "goal_id": "G-3194",
          "match_id": "M-2018-19",
          "minute": 23,
          "team_name": "Uruguay",
          "tournament_id": "WC-2018"
         },
         {
          "Goals": 2,
          "goal_id": "G-3195",
          "match_id": "M-2018-20",
          "minute": 54,
          "team_name": "Spain",
          "tournament_id": "WC-2018"
         },
         {
          "Goals": 1,
          "goal_id": "G-3198",
          "match_id": "M-2018-22",
          "minute": 34,
          "team_name": "France",
          "tournament_id": "WC-2018"
         },
         {
          "Goals": null,
          "goal_id": "G-3202",
          "match_id": "M-2018-24",
          "minute": null,
          "team_name": "Brazil",
          "tournament_id": "WC-2018"
         },
         {
          "Goals": null,
          "goal_id": "G-3203",
          "match_id": "M-2018-24",
          "minute": null,
          "team_name": "Brazil",
          "tournament_id": "WC-2018"
         },
         {
          "Goals": 2,
          "goal_id": "G-3220",
          "match_id": "M-2018-29",
          "minute": 48,
          "team_name": "Germany",
          "tournament_id": "WC-2018"
         },
         {
          "Goals": null,
          "goal_id": "G-3221",
          "match_id": "M-2018-29",
          "minute": null,
          "team_name": "Germany",
          "tournament_id": "WC-2018"
         },
         {
          "Goals": 1,
          "goal_id": "G-3222",
          "match_id": "M-2018-30",
          "minute": 8,
          "team_name": "England",
          "tournament_id": "WC-2018"
         },
         {
          "Goals": 2,
          "goal_id": "G-3223",
          "match_id": "M-2018-30",
          "minute": 22,
          "team_name": "England",
          "tournament_id": "WC-2018"
         },
         {
          "Goals": 2,
          "goal_id": "G-3224",
          "match_id": "M-2018-30",
          "minute": 36,
          "team_name": "England",
          "tournament_id": "WC-2018"
         },
         {
          "Goals": 4,
          "goal_id": "G-3225",
          "match_id": "M-2018-30",
          "minute": 40,
          "team_name": "England",
          "tournament_id": "WC-2018"
         },
         {
          "Goals": null,
          "goal_id": "G-3226",
          "match_id": "M-2018-30",
          "minute": null,
          "team_name": "England",
          "tournament_id": "WC-2018"
         },
         {
          "Goals": 4,
          "goal_id": "G-3227",
          "match_id": "M-2018-30",
          "minute": 62,
          "team_name": "England",
          "tournament_id": "WC-2018"
         },
         {
          "Goals": 1,
          "goal_id": "G-3239",
          "match_id": "M-2018-34",
          "minute": 10,
          "team_name": "Uruguay",
          "tournament_id": "WC-2018"
         },
         {
          "Goals": 4,
          "goal_id": "G-3240",
          "match_id": "M-2018-34",
          "minute": 23,
          "team_name": "Uruguay",
          "tournament_id": "WC-2018"
         },
         {
          "Goals": 1,
          "goal_id": "G-3241",
          "match_id": "M-2018-34",
          "minute": 90,
          "team_name": "Uruguay",
          "tournament_id": "WC-2018"
         },
         {
          "Goals": 2,
          "goal_id": "G-3243",
          "match_id": "M-2018-35",
          "minute": 19,
          "team_name": "Spain",
          "tournament_id": "WC-2018"
         },
         {
          "Goals": null,
          "goal_id": "G-3245",
          "match_id": "M-2018-35",
          "minute": null,
          "team_name": "Spain",
          "tournament_id": "WC-2018"
         },
         {
          "Goals": 2,
          "goal_id": "G-3253",
          "match_id": "M-2018-40",
          "minute": 14,
          "team_name": "Argentina",
          "tournament_id": "WC-2018"
         },
         {
          "Goals": 1,
          "goal_id": "G-3255",
          "match_id": "M-2018-40",
          "minute": 86,
          "team_name": "Argentina",
          "tournament_id": "WC-2018"
         },
         {
          "Goals": 3,
          "goal_id": "G-3261",
          "match_id": "M-2018-43",
          "minute": 36,
          "team_name": "Brazil",
          "tournament_id": "WC-2018"
         },
         {
          "Goals": 5,
          "goal_id": "G-3262",
          "match_id": "M-2018-43",
          "minute": 68,
          "team_name": "Brazil",
          "tournament_id": "WC-2018"
         },
         {
          "Goals": 3,
          "goal_id": "G-3273",
          "match_id": "M-2018-49",
          "minute": 13,
          "team_name": "France",
          "tournament_id": "WC-2018"
         },
         {
          "Goals": 2,
          "goal_id": "G-3274",
          "match_id": "M-2018-49",
          "minute": 41,
          "team_name": "Argentina",
          "tournament_id": "WC-2018"
         },
         {
          "Goals": 2,
          "goal_id": "G-3275",
          "match_id": "M-2018-49",
          "minute": 48,
          "team_name": "Argentina",
          "tournament_id": "WC-2018"
         },
         {
          "Goals": 3,
          "goal_id": "G-3276",
          "match_id": "M-2018-49",
          "minute": 57,
          "team_name": "France",
          "tournament_id": "WC-2018"
         },
         {
          "Goals": 2,
          "goal_id": "G-3277",
          "match_id": "M-2018-49",
          "minute": 64,
          "team_name": "France",
          "tournament_id": "WC-2018"
         },
         {
          "Goals": 5,
          "goal_id": "G-3278",
          "match_id": "M-2018-49",
          "minute": 68,
          "team_name": "France",
          "tournament_id": "WC-2018"
         },
         {
          "Goals": null,
          "goal_id": "G-3279",
          "match_id": "M-2018-49",
          "minute": null,
          "team_name": "Argentina",
          "tournament_id": "WC-2018"
         },
         {
          "Goals": 2,
          "goal_id": "G-3280",
          "match_id": "M-2018-50",
          "minute": 7,
          "team_name": "Uruguay",
          "tournament_id": "WC-2018"
         },
         {
          "Goals": 1,
          "goal_id": "G-3282",
          "match_id": "M-2018-50",
          "minute": 62,
          "team_name": "Uruguay",
          "tournament_id": "WC-2018"
         },
         {
          "Goals": 1,
          "goal_id": "G-3283",
          "match_id": "M-2018-51",
          "minute": 12,
          "team_name": "Spain",
          "tournament_id": "WC-2018"
         },
         {
          "Goals": 1,
          "goal_id": "G-3287",
          "match_id": "M-2018-53",
          "minute": 51,
          "team_name": "Brazil",
          "tournament_id": "WC-2018"
         },
         {
          "Goals": 3,
          "goal_id": "G-3288",
          "match_id": "M-2018-53",
          "minute": 88,
          "team_name": "Brazil",
          "tournament_id": "WC-2018"
         },
         {
          "Goals": 3,
          "goal_id": "G-3295",
          "match_id": "M-2018-56",
          "minute": 57,
          "team_name": "England",
          "tournament_id": "WC-2018"
         },
         {
          "Goals": 4,
          "goal_id": "G-3297",
          "match_id": "M-2018-57",
          "minute": 40,
          "team_name": "France",
          "tournament_id": "WC-2018"
         },
         {
          "Goals": 4,
          "goal_id": "G-3298",
          "match_id": "M-2018-57",
          "minute": 61,
          "team_name": "France",
          "tournament_id": "WC-2018"
         },
         {
          "Goals": 2,
          "goal_id": "G-3301",
          "match_id": "M-2018-58",
          "minute": 76,
          "team_name": "Brazil",
          "tournament_id": "WC-2018"
         },
         {
          "Goals": 2,
          "goal_id": "G-3302",
          "match_id": "M-2018-59",
          "minute": 30,
          "team_name": "England",
          "tournament_id": "WC-2018"
         },
         {
          "Goals": 2,
          "goal_id": "G-3303",
          "match_id": "M-2018-59",
          "minute": 59,
          "team_name": "England",
          "tournament_id": "WC-2018"
         },
         {
          "Goals": 1,
          "goal_id": "G-3308",
          "match_id": "M-2018-61",
          "minute": 51,
          "team_name": "France",
          "tournament_id": "WC-2018"
         },
         {
          "Goals": 2,
          "goal_id": "G-3309",
          "match_id": "M-2018-62",
          "minute": 5,
          "team_name": "England",
          "tournament_id": "WC-2018"
         },
         {
          "Goals": 3,
          "goal_id": "G-3314",
          "match_id": "M-2018-64",
          "minute": 18,
          "team_name": "France",
          "tournament_id": "WC-2018"
         },
         {
          "Goals": 2,
          "goal_id": "G-3316",
          "match_id": "M-2018-64",
          "minute": 38,
          "team_name": "France",
          "tournament_id": "WC-2018"
         },
         {
          "Goals": 1,
          "goal_id": "G-3317",
          "match_id": "M-2018-64",
          "minute": 59,
          "team_name": "France",
          "tournament_id": "WC-2018"
         },
         {
          "Goals": 1,
          "goal_id": "G-3318",
          "match_id": "M-2018-64",
          "minute": 65,
          "team_name": "France",
          "tournament_id": "WC-2018"
         },
         {
          "Goals": 4,
          "goal_id": "G-3320",
          "match_id": "M-2019-01",
          "minute": 9,
          "team_name": "France",
          "tournament_id": "WC-2019"
         },
         {
          "Goals": 2,
          "goal_id": "G-3321",
          "match_id": "M-2019-01",
          "minute": 35,
          "team_name": "France",
          "tournament_id": "WC-2019"
         },
         {
          "Goals": null,
          "goal_id": "G-3322",
          "match_id": "M-2019-01",
          "minute": null,
          "team_name": "France",
          "tournament_id": "WC-2019"
         },
         {
          "Goals": 3,
          "goal_id": "G-3323",
          "match_id": "M-2019-01",
          "minute": 85,
          "team_name": "France",
          "tournament_id": "WC-2019"
         },
         {
          "Goals": 3,
          "goal_id": "G-3324",
          "match_id": "M-2019-02",
          "minute": 66,
          "team_name": "Germany",
          "tournament_id": "WC-2019"
         },
         {
          "Goals": null,
          "goal_id": "G-3326",
          "match_id": "M-2019-03",
          "minute": null,
          "team_name": "Spain",
          "tournament_id": "WC-2019"
         },
         {
          "Goals": null,
          "goal_id": "G-3327",
          "match_id": "M-2019-03",
          "minute": null,
          "team_name": "Spain",
          "tournament_id": "WC-2019"
         },
         {
          "Goals": 2,
          "goal_id": "G-3328",
          "match_id": "M-2019-03",
          "minute": 89,
          "team_name": "Spain",
          "tournament_id": "WC-2019"
         },
         {
          "Goals": 1,
          "goal_id": "G-3333",
          "match_id": "M-2019-05",
          "minute": 56,
          "team_name": "Italy",
          "tournament_id": "WC-2019"
         },
         {
          "Goals": null,
          "goal_id": "G-3334",
          "match_id": "M-2019-05",
          "minute": null,
          "team_name": "Italy",
          "tournament_id": "WC-2019"
         },
         {
          "Goals": 8,
          "goal_id": "G-3335",
          "match_id": "M-2019-06",
          "minute": 15,
          "team_name": "Brazil",
          "tournament_id": "WC-2019"
         },
         {
          "Goals": 7,
          "goal_id": "G-3336",
          "match_id": "M-2019-06",
          "minute": 50,
          "team_name": "Brazil",
          "tournament_id": "WC-2019"
         },
         {
          "Goals": 5,
          "goal_id": "G-3337",
          "match_id": "M-2019-06",
          "minute": 64,
          "team_name": "Brazil",
          "tournament_id": "WC-2019"
         },
         {
          "Goals": 5,
          "goal_id": "G-3338",
          "match_id": "M-2019-07",
          "minute": 14,
          "team_name": "England",
          "tournament_id": "WC-2019"
         },
         {
          "Goals": 4,
          "goal_id": "G-3339",
          "match_id": "M-2019-07",
          "minute": 40,
          "team_name": "England",
          "tournament_id": "WC-2019"
         },
         {
          "Goals": 6,
          "goal_id": "G-3360",
          "match_id": "M-2019-14",
          "minute": 42,
          "team_name": "Germany",
          "tournament_id": "WC-2019"
         },
         {
          "Goals": 3,
          "goal_id": "G-3361",
          "match_id": "M-2019-15",
          "minute": 46,
          "team_name": "France",
          "tournament_id": "WC-2019"
         },
         {
          "Goals": 4,
          "goal_id": "G-3363",
          "match_id": "M-2019-15",
          "minute": 72,
          "team_name": "France",
          "tournament_id": "WC-2019"
         },
         {
          "Goals": 3,
          "goal_id": "G-3364",
          "match_id": "M-2019-16",
          "minute": 27,
          "team_name": "Brazil",
          "tournament_id": "WC-2019"
         },
         {
          "Goals": 3,
          "goal_id": "G-3365",
          "match_id": "M-2019-16",
          "minute": 38,
          "team_name": "Brazil",
          "tournament_id": "WC-2019"
         },
         {
          "Goals": 2,
          "goal_id": "G-3373",
          "match_id": "M-2019-19",
          "minute": 12,
          "team_name": "Italy",
          "tournament_id": "WC-2019"
         },
         {
          "Goals": 5,
          "goal_id": "G-3374",
          "match_id": "M-2019-19",
          "minute": 25,
          "team_name": "Italy",
          "tournament_id": "WC-2019"
         },
         {
          "Goals": 1,
          "goal_id": "G-3375",
          "match_id": "M-2019-19",
          "minute": 46,
          "team_name": "Italy",
          "tournament_id": "WC-2019"
         },
         {
          "Goals": 2,
          "goal_id": "G-3376",
          "match_id": "M-2019-19",
          "minute": 71,
          "team_name": "Italy",
          "tournament_id": "WC-2019"
         },
         {
          "Goals": 4,
          "goal_id": "G-3377",
          "match_id": "M-2019-19",
          "minute": 81,
          "team_name": "Italy",
          "tournament_id": "WC-2019"
         },
         {
          "Goals": 4,
          "goal_id": "G-3378",
          "match_id": "M-2019-20",
          "minute": 62,
          "team_name": "England",
          "tournament_id": "WC-2019"
         },
         {
          "Goals": 2,
          "goal_id": "G-3394",
          "match_id": "M-2019-26",
          "minute": 14,
          "team_name": "Germany",
          "tournament_id": "WC-2019"
         },
         {
          "Goals": 5,
          "goal_id": "G-3395",
          "match_id": "M-2019-26",
          "minute": 29,
          "team_name": "Germany",
          "tournament_id": "WC-2019"
         },
         {
          "Goals": 2,
          "goal_id": "G-3396",
          "match_id": "M-2019-26",
          "minute": 40,
          "team_name": "Germany",
          "tournament_id": "WC-2019"
         },
         {
          "Goals": 3,
          "goal_id": "G-3397",
          "match_id": "M-2019-26",
          "minute": 58,
          "team_name": "Germany",
          "tournament_id": "WC-2019"
         },
         {
          "Goals": 4,
          "goal_id": "G-3398",
          "match_id": "M-2019-27",
          "minute": 79,
          "team_name": "France",
          "tournament_id": "WC-2019"
         },
         {
          "Goals": 4,
          "goal_id": "G-3402",
          "match_id": "M-2019-29",
          "minute": 74,
          "team_name": "Brazil",
          "tournament_id": "WC-2019"
         },
         {
          "Goals": 5,
          "goal_id": "G-3408",
          "match_id": "M-2019-31",
          "minute": 14,
          "team_name": "England",
          "tournament_id": "WC-2019"
         },
         {
          "Goals": 1,
          "goal_id": "G-3409",
          "match_id": "M-2019-31",
          "minute": 84,
          "team_name": "England",
          "tournament_id": "WC-2019"
         },
         {
          "Goals": 1,
          "goal_id": "G-3413",
          "match_id": "M-2019-32",
          "minute": 74,
          "team_name": "Argentina",
          "tournament_id": "WC-2019"
         },
         {
          "Goals": 3,
          "goal_id": "G-3414",
          "match_id": "M-2019-32",
          "minute": 79,
          "team_name": "Argentina",
          "tournament_id": "WC-2019"
         },
         {
          "Goals": null,
          "goal_id": "G-3415",
          "match_id": "M-2019-32",
          "minute": null,
          "team_name": "Argentina",
          "tournament_id": "WC-2019"
         },
         {
          "Goals": 4,
          "goal_id": "G-3426",
          "match_id": "M-2019-37",
          "minute": 20,
          "team_name": "Germany",
          "tournament_id": "WC-2019"
         },
         {
          "Goals": 2,
          "goal_id": "G-3427",
          "match_id": "M-2019-37",
          "minute": 27,
          "team_name": "Germany",
          "tournament_id": "WC-2019"
         },
         {
          "Goals": 3,
          "goal_id": "G-3428",
          "match_id": "M-2019-37",
          "minute": 82,
          "team_name": "Germany",
          "tournament_id": "WC-2019"
         },
         {
          "Goals": 5,
          "goal_id": "G-3431",
          "match_id": "M-2019-39",
          "minute": 14,
          "team_name": "England",
          "tournament_id": "WC-2019"
         },
         {
          "Goals": null,
          "goal_id": "G-3432",
          "match_id": "M-2019-39",
          "minute": null,
          "team_name": "England",
          "tournament_id": "WC-2019"
         },
         {
          "Goals": 2,
          "goal_id": "G-3433",
          "match_id": "M-2019-39",
          "minute": 58,
          "team_name": "England",
          "tournament_id": "WC-2019"
         },
         {
          "Goals": 2,
          "goal_id": "G-3434",
          "match_id": "M-2019-40",
          "minute": 52,
          "team_name": "France",
          "tournament_id": "WC-2019"
         },
         {
          "Goals": 8,
          "goal_id": "G-3435",
          "match_id": "M-2019-40",
          "minute": 63,
          "team_name": "Brazil",
          "tournament_id": "WC-2019"
         },
         {
          "Goals": 1,
          "goal_id": "G-3436",
          "match_id": "M-2019-40",
          "minute": 107,
          "team_name": "France",
          "tournament_id": "WC-2019"
         },
         {
          "Goals": 1,
          "goal_id": "G-3438",
          "match_id": "M-2019-41",
          "minute": 9,
          "team_name": "Spain",
          "tournament_id": "WC-2019"
         },
         {
          "Goals": 2,
          "goal_id": "G-3441",
          "match_id": "M-2019-43",
          "minute": 15,
          "team_name": "Italy",
          "tournament_id": "WC-2019"
         },
         {
          "Goals": 1,
          "goal_id": "G-3442",
          "match_id": "M-2019-43",
          "minute": 49,
          "team_name": "Italy",
          "tournament_id": "WC-2019"
         },
         {
          "Goals": 2,
          "goal_id": "G-3446",
          "match_id": "M-2019-45",
          "minute": 3,
          "team_name": "England",
          "tournament_id": "WC-2019"
         },
         {
          "Goals": 4,
          "goal_id": "G-3447",
          "match_id": "M-2019-45",
          "minute": 40,
          "team_name": "England",
          "tournament_id": "WC-2019"
         },
         {
          "Goals": 3,
          "goal_id": "G-3448",
          "match_id": "M-2019-45",
          "minute": 57,
          "team_name": "England",
          "tournament_id": "WC-2019"
         },
         {
          "Goals": 3,
          "goal_id": "G-3451",
          "match_id": "M-2019-46",
          "minute": 81,
          "team_name": "France",
          "tournament_id": "WC-2019"
         },
         {
          "Goals": 2,
          "goal_id": "G-3454",
          "match_id": "M-2019-48",
          "minute": 16,
          "team_name": "Germany",
          "tournament_id": "WC-2019"
         },
         {
          "Goals": 1,
          "goal_id": "G-3458",
          "match_id": "M-2019-49",
          "minute": 19,
          "team_name": "England",
          "tournament_id": "WC-2019"
         },
         {
          "Goals": 3,
          "goal_id": "G-3463",
          "match_id": "M-2019-51",
          "minute": 31,
          "team_name": "England",
          "tournament_id": "WC-2019"
         },
         {
          "Goals": 1,
          "goal_id": "G-3468",
          "match_id": "M-2022-02",
          "minute": 35,
          "team_name": "England",
          "tournament_id": "WC-2022"
         },
         {
          "Goals": 2,
          "goal_id": "G-3469",
          "match_id": "M-2022-02",
          "minute": 43,
          "team_name": "England",
          "tournament_id": "WC-2022"
         },
         {
          "Goals": null,
          "goal_id": "G-3470",
          "match_id": "M-2022-02",
          "minute": null,
          "team_name": "England",
          "tournament_id": "WC-2022"
         },
         {
          "Goals": 4,
          "goal_id": "G-3471",
          "match_id": "M-2022-02",
          "minute": 62,
          "team_name": "England",
          "tournament_id": "WC-2022"
         },
         {
          "Goals": 2,
          "goal_id": "G-3473",
          "match_id": "M-2022-02",
          "minute": 71,
          "team_name": "England",
          "tournament_id": "WC-2022"
         },
         {
          "Goals": 2,
          "goal_id": "G-3474",
          "match_id": "M-2022-02",
          "minute": 90,
          "team_name": "England",
          "tournament_id": "WC-2022"
         },
         {
          "Goals": 2,
          "goal_id": "G-3480",
          "match_id": "M-2022-05",
          "minute": 10,
          "team_name": "Argentina",
          "tournament_id": "WC-2022"
         },
         {
          "Goals": 4,
          "goal_id": "G-3484",
          "match_id": "M-2022-08",
          "minute": 27,
          "team_name": "France",
          "tournament_id": "WC-2022"
         },
         {
          "Goals": 1,
          "goal_id": "G-3485",
          "match_id": "M-2022-08",
          "minute": 32,
          "team_name": "France",
          "tournament_id": "WC-2022"
         },
         {
          "Goals": 5,
          "goal_id": "G-3486",
          "match_id": "M-2022-08",
          "minute": 68,
          "team_name": "France",
          "tournament_id": "WC-2022"
         },
         {
          "Goals": 1,
          "goal_id": "G-3487",
          "match_id": "M-2022-08",
          "minute": 71,
          "team_name": "France",
          "tournament_id": "WC-2022"
         },
         {
          "Goals": 1,
          "goal_id": "G-3488",
          "match_id": "M-2022-10",
          "minute": 33,
          "team_name": "Germany",
          "tournament_id": "WC-2022"
         },
         {
          "Goals": 2,
          "goal_id": "G-3491",
          "match_id": "M-2022-11",
          "minute": 11,
          "team_name": "Spain",
          "tournament_id": "WC-2022"
         },
         {
          "Goals": 3,
          "goal_id": "G-3492",
          "match_id": "M-2022-11",
          "minute": 21,
          "team_name": "Spain",
          "tournament_id": "WC-2022"
         },
         {
          "Goals": 1,
          "goal_id": "G-3493",
          "match_id": "M-2022-11",
          "minute": 31,
          "team_name": "Spain",
          "tournament_id": "WC-2022"
         },
         {
          "Goals": 2,
          "goal_id": "G-3494",
          "match_id": "M-2022-11",
          "minute": 54,
          "team_name": "Spain",
          "tournament_id": "WC-2022"
         },
         {
          "Goals": 3,
          "goal_id": "G-3495",
          "match_id": "M-2022-11",
          "minute": 74,
          "team_name": "Spain",
          "tournament_id": "WC-2022"
         },
         {
          "Goals": 2,
          "goal_id": "G-3496",
          "match_id": "M-2022-11",
          "minute": 90,
          "team_name": "Spain",
          "tournament_id": "WC-2022"
         },
         {
          "Goals": null,
          "goal_id": "G-3497",
          "match_id": "M-2022-11",
          "minute": null,
          "team_name": "Spain",
          "tournament_id": "WC-2022"
         },
         {
          "Goals": 7,
          "goal_id": "G-3505",
          "match_id": "M-2022-16",
          "minute": 62,
          "team_name": "Brazil",
          "tournament_id": "WC-2022"
         },
         {
          "Goals": 5,
          "goal_id": "G-3506",
          "match_id": "M-2022-16",
          "minute": 73,
          "team_name": "Brazil",
          "tournament_id": "WC-2022"
         },
         {
          "Goals": 4,
          "goal_id": "G-3518",
          "match_id": "M-2022-23",
          "minute": 61,
          "team_name": "France",
          "tournament_id": "WC-2022"
         },
         {
          "Goals": 1,
          "goal_id": "G-3520",
          "match_id": "M-2022-23",
          "minute": 86,
          "team_name": "France",
          "tournament_id": "WC-2022"
         },
         {
          "Goals": 1,
          "goal_id": "G-3521",
          "match_id": "M-2022-24",
          "minute": 64,
          "team_name": "Argentina",
          "tournament_id": "WC-2022"
         },
         {
          "Goals": 2,
          "goal_id": "G-3522",
          "match_id": "M-2022-24",
          "minute": 87,
          "team_name": "Argentina",
          "tournament_id": "WC-2022"
         },
         {
          "Goals": 1,
          "goal_id": "G-3531",
          "match_id": "M-2022-28",
          "minute": 62,
          "team_name": "Spain",
          "tournament_id": "WC-2022"
         },
         {
          "Goals": 1,
          "goal_id": "G-3532",
          "match_id": "M-2022-28",
          "minute": 83,
          "team_name": "Germany",
          "tournament_id": "WC-2022"
         },
         {
          "Goals": 5,
          "goal_id": "G-3544",
          "match_id": "M-2022-31",
          "minute": 83,
          "team_name": "Brazil",
          "tournament_id": "WC-2022"
         },
         {
          "Goals": 3,
          "goal_id": "G-3553",
          "match_id": "M-2022-36",
          "minute": 50,
          "team_name": "England",
          "tournament_id": "WC-2022"
         },
         {
          "Goals": 3,
          "goal_id": "G-3554",
          "match_id": "M-2022-36",
          "minute": 51,
          "team_name": "England",
          "tournament_id": "WC-2022"
         },
         {
          "Goals": 1,
          "goal_id": "G-3555",
          "match_id": "M-2022-36",
          "minute": 68,
          "team_name": "England",
          "tournament_id": "WC-2022"
         },
         {
          "Goals": 2,
          "goal_id": "G-3558",
          "match_id": "M-2022-39",
          "minute": 46,
          "team_name": "Argentina",
          "tournament_id": "WC-2022"
         },
         {
          "Goals": 3,
          "goal_id": "G-3559",
          "match_id": "M-2022-39",
          "minute": 67,
          "team_name": "Argentina",
          "tournament_id": "WC-2022"
         },
         {
          "Goals": 4,
          "goal_id": "G-3566",
          "match_id": "M-2022-43",
          "minute": 10,
          "team_name": "Germany",
          "tournament_id": "WC-2022"
         },
         {
          "Goals": 3,
          "goal_id": "G-3569",
          "match_id": "M-2022-43",
          "minute": 73,
          "team_name": "Germany",
          "tournament_id": "WC-2022"
         },
         {
          "Goals": 3,
          "goal_id": "G-3570",
          "match_id": "M-2022-43",
          "minute": 85,
          "team_name": "Germany",
          "tournament_id": "WC-2022"
         },
         {
          "Goals": 7,
          "goal_id": "G-3571",
          "match_id": "M-2022-43",
          "minute": 89,
          "team_name": "Germany",
          "tournament_id": "WC-2022"
         },
         {
          "Goals": 2,
          "goal_id": "G-3572",
          "match_id": "M-2022-44",
          "minute": 11,
          "team_name": "Spain",
          "tournament_id": "WC-2022"
         },
         {
          "Goals": 3,
          "goal_id": "G-3575",
          "match_id": "M-2022-45",
          "minute": 26,
          "team_name": "Uruguay",
          "tournament_id": "WC-2022"
         },
         {
          "Goals": 1,
          "goal_id": "G-3576",
          "match_id": "M-2022-45",
          "minute": 32,
          "team_name": "Uruguay",
          "tournament_id": "WC-2022"
         },
         {
          "Goals": 3,
          "goal_id": "G-3590",
          "match_id": "M-2022-50",
          "minute": 35,
          "team_name": "Argentina",
          "tournament_id": "WC-2022"
         },
         {
          "Goals": 2,
          "goal_id": "G-3591",
          "match_id": "M-2022-50",
          "minute": 57,
          "team_name": "Argentina",
          "tournament_id": "WC-2022"
         },
         {
          "Goals": 3,
          "goal_id": "G-3593",
          "match_id": "M-2022-51",
          "minute": 44,
          "team_name": "France",
          "tournament_id": "WC-2022"
         },
         {
          "Goals": 1,
          "goal_id": "G-3594",
          "match_id": "M-2022-51",
          "minute": 74,
          "team_name": "France",
          "tournament_id": "WC-2022"
         },
         {
          "Goals": null,
          "goal_id": "G-3595",
          "match_id": "M-2022-51",
          "minute": null,
          "team_name": "France",
          "tournament_id": "WC-2022"
         },
         {
          "Goals": 5,
          "goal_id": "G-3597",
          "match_id": "M-2022-52",
          "minute": 38,
          "team_name": "England",
          "tournament_id": "WC-2022"
         },
         {
          "Goals": null,
          "goal_id": "G-3598",
          "match_id": "M-2022-52",
          "minute": null,
          "team_name": "England",
          "tournament_id": "WC-2022"
         },
         {
          "Goals": 3,
          "goal_id": "G-3599",
          "match_id": "M-2022-52",
          "minute": 57,
          "team_name": "England",
          "tournament_id": "WC-2022"
         },
         {
          "Goals": 3,
          "goal_id": "G-3602",
          "match_id": "M-2022-54",
          "minute": 7,
          "team_name": "Brazil",
          "tournament_id": "WC-2022"
         },
         {
          "Goals": 3,
          "goal_id": "G-3603",
          "match_id": "M-2022-54",
          "minute": 13,
          "team_name": "Brazil",
          "tournament_id": "WC-2022"
         },
         {
          "Goals": 3,
          "goal_id": "G-3604",
          "match_id": "M-2022-54",
          "minute": 29,
          "team_name": "Brazil",
          "tournament_id": "WC-2022"
         },
         {
          "Goals": 3,
          "goal_id": "G-3605",
          "match_id": "M-2022-54",
          "minute": 36,
          "team_name": "Brazil",
          "tournament_id": "WC-2022"
         },
         {
          "Goals": null,
          "goal_id": "G-3614",
          "match_id": "M-2022-57",
          "minute": null,
          "team_name": "Brazil",
          "tournament_id": "WC-2022"
         },
         {
          "Goals": 3,
          "goal_id": "G-3616",
          "match_id": "M-2022-58",
          "minute": 35,
          "team_name": "Argentina",
          "tournament_id": "WC-2022"
         },
         {
          "Goals": 3,
          "goal_id": "G-3617",
          "match_id": "M-2022-58",
          "minute": 73,
          "team_name": "Argentina",
          "tournament_id": "WC-2022"
         },
         {
          "Goals": 2,
          "goal_id": "G-3621",
          "match_id": "M-2022-60",
          "minute": 17,
          "team_name": "France",
          "tournament_id": "WC-2022"
         },
         {
          "Goals": 1,
          "goal_id": "G-3622",
          "match_id": "M-2022-60",
          "minute": 54,
          "team_name": "England",
          "tournament_id": "WC-2022"
         },
         {
          "Goals": 3,
          "goal_id": "G-3623",
          "match_id": "M-2022-60",
          "minute": 78,
          "team_name": "France",
          "tournament_id": "WC-2022"
         },
         {
          "Goals": 2,
          "goal_id": "G-3624",
          "match_id": "M-2022-61",
          "minute": 34,
          "team_name": "Argentina",
          "tournament_id": "WC-2022"
         },
         {
          "Goals": 1,
          "goal_id": "G-3625",
          "match_id": "M-2022-61",
          "minute": 39,
          "team_name": "Argentina",
          "tournament_id": "WC-2022"
         },
         {
          "Goals": 2,
          "goal_id": "G-3626",
          "match_id": "M-2022-61",
          "minute": 69,
          "team_name": "Argentina",
          "tournament_id": "WC-2022"
         },
         {
          "Goals": 1,
          "goal_id": "G-3627",
          "match_id": "M-2022-62",
          "minute": 5,
          "team_name": "France",
          "tournament_id": "WC-2022"
         },
         {
          "Goals": 4,
          "goal_id": "G-3628",
          "match_id": "M-2022-62",
          "minute": 79,
          "team_name": "France",
          "tournament_id": "WC-2022"
         },
         {
          "Goals": 2,
          "goal_id": "G-3632",
          "match_id": "M-2022-64",
          "minute": 23,
          "team_name": "Argentina",
          "tournament_id": "WC-2022"
         },
         {
          "Goals": 2,
          "goal_id": "G-3633",
          "match_id": "M-2022-64",
          "minute": 36,
          "team_name": "Argentina",
          "tournament_id": "WC-2022"
         },
         {
          "Goals": 3,
          "goal_id": "G-3634",
          "match_id": "M-2022-64",
          "minute": 80,
          "team_name": "France",
          "tournament_id": "WC-2022"
         },
         {
          "Goals": 3,
          "goal_id": "G-3635",
          "match_id": "M-2022-64",
          "minute": 81,
          "team_name": "France",
          "tournament_id": "WC-2022"
         },
         {
          "Goals": 1,
          "goal_id": "G-3636",
          "match_id": "M-2022-64",
          "minute": 108,
          "team_name": "Argentina",
          "tournament_id": "WC-2022"
         },
         {
          "Goals": 1,
          "goal_id": "G-3637",
          "match_id": "M-2022-64",
          "minute": 118,
          "team_name": "France",
          "tournament_id": "WC-2022"
         }
        ]
       },
       "encoding": {
        "color": {
         "field": "team_name",
         "scale": {
          "range": [
           "blue",
           "orange"
          ]
         },
         "title": "team_name",
         "type": "nominal"
        },
        "tooltip": [
         {
          "field": "team_name",
          "type": "nominal"
         },
         {
          "field": "minute",
          "type": "quantitative"
         },
         {
          "field": "Goals",
          "type": "quantitative"
         }
        ],
        "x": {
         "field": "minute",
         "title": "Minute",
         "type": "quantitative"
        },
        "y": {
         "axis": {
          "values": [
           0,
           5,
           10,
           15
          ]
         },
         "field": "Goals",
         "scale": {
          "domain": [
           0,
           15
          ]
         },
         "title": "Goals",
         "type": "quantitative"
        }
       },
       "height": 200,
       "mark": {
        "opacity": 0.8,
        "size": 50,
        "type": "circle"
       },
       "params": [
        {
         "bind": {
          "input": "select",
          "name": "Team 1",
          "options": [
           "Argentina",
           "Brazil",
           "England",
           "France",
           "Germany",
           "Italy",
           "Spain",
           "Uruguay"
          ]
         },
         "name": "Team1",
         "value": "Argentina"
        },
        {
         "bind": {
          "input": "select",
          "name": "Team 2",
          "options": [
           "Argentina",
           "Brazil",
           "England",
           "France",
           "Germany",
           "Italy",
           "Spain",
           "Uruguay"
          ]
         },
         "name": "Team2",
         "value": "Brazil"
        },
        {
         "name": "time_brush",
         "select": {
          "encodings": [
           "x",
           "y"
          ],
          "type": "interval"
         }
        }
       ],
       "title": "Zooming in on Goals of World Cups winner since 1950",
       "transform": [
        {
         "filter": "datum.team_name == Team1 || datum.team_name == Team2"
        }
       ],
       "width": 400
      },
      "text/plain": [
       "<VegaLite 5 object>\n",
       "\n",
       "If you see this message, it means the renderer has not been properly enabled\n",
       "for the frontend that you are using. For more information, see\n",
       "https://altair-viz.github.io/user_guide/display_frontends.html#troubleshooting\n"
      ]
     },
     "execution_count": 216,
     "metadata": {},
     "output_type": "execute_result"
    }
   ],
   "source": [
    "scatter = alt.Chart(df4).mark_circle(size=50, opacity=0.8).encode( \n",
    "    x=alt.X('minute:Q', title='Minute'),\n",
    "    y=alt.Y('Goals:Q', title='Goals', scale=alt.Scale(domain=[0,15]), axis=alt.Axis(values=[0,5,10,15])),\n",
    "    tooltip=['team_name', 'minute', 'Goals'],\n",
    "    color=alt.Color('team_name:N', title='team_name', scale=alt.Scale(range=['blue', 'orange']))\n",
    ").transform_filter(\"datum.team_name == Team1 || datum.team_name == Team2\"\n",
    ").add_params(team1_param, team2_param\n",
    ").add_params(brush\n",
    ").properties(\n",
    "    width=400,\n",
    "    height=200,\n",
    "    title='Zooming in on Goals of World Cups winner since 1950'\n",
    ")\n",
    "\n",
    "scatter"
   ]
  },
  {
   "cell_type": "code",
   "execution_count": 217,
   "metadata": {},
   "outputs": [
    {
     "data": {
      "application/vnd.vegalite.v5+json": {
       "$schema": "https://vega.github.io/schema/vega-lite/v5.20.1.json",
       "config": {
        "view": {
         "continuousHeight": 300,
         "continuousWidth": 300
        }
       },
       "data": {
        "name": "data-88fe94d3cfc62646ed609b171f5c2518"
       },
       "datasets": {
        "data-88fe94d3cfc62646ed609b171f5c2518": [
         {
          "Goals": 2,
          "goal_id": "G-0001",
          "match_id": "M-1930-01",
          "minute": 19,
          "team_name": "France",
          "tournament_id": "WC-1930"
         },
         {
          "Goals": 4,
          "goal_id": "G-0002",
          "match_id": "M-1930-01",
          "minute": 40,
          "team_name": "France",
          "tournament_id": "WC-1930"
         },
         {
          "Goals": 3,
          "goal_id": "G-0003",
          "match_id": "M-1930-01",
          "minute": 43,
          "team_name": "France",
          "tournament_id": "WC-1930"
         },
         {
          "Goals": 1,
          "goal_id": "G-0005",
          "match_id": "M-1930-01",
          "minute": 87,
          "team_name": "France",
          "tournament_id": "WC-1930"
         },
         {
          "Goals": 7,
          "goal_id": "G-0011",
          "match_id": "M-1930-03",
          "minute": 62,
          "team_name": "Brazil",
          "tournament_id": "WC-1930"
         },
         {
          "Goals": 3,
          "goal_id": "G-0016",
          "match_id": "M-1930-05",
          "minute": 81,
          "team_name": "Argentina",
          "tournament_id": "WC-1930"
         },
         {
          "Goals": 1,
          "goal_id": "G-0027",
          "match_id": "M-1930-09",
          "minute": 65,
          "team_name": "Uruguay",
          "tournament_id": "WC-1930"
         },
         {
          "Goals": 2,
          "goal_id": "G-0029",
          "match_id": "M-1930-11",
          "minute": 8,
          "team_name": "Argentina",
          "tournament_id": "WC-1930"
         },
         {
          "Goals": 2,
          "goal_id": "G-0030",
          "match_id": "M-1930-11",
          "minute": 12,
          "team_name": "Argentina",
          "tournament_id": "WC-1930"
         },
         {
          "Goals": 3,
          "goal_id": "G-0031",
          "match_id": "M-1930-11",
          "minute": 17,
          "team_name": "Argentina",
          "tournament_id": "WC-1930"
         },
         {
          "Goals": 1,
          "goal_id": "G-0033",
          "match_id": "M-1930-11",
          "minute": 53,
          "team_name": "Argentina",
          "tournament_id": "WC-1930"
         },
         {
          "Goals": 4,
          "goal_id": "G-0034",
          "match_id": "M-1930-11",
          "minute": 55,
          "team_name": "Argentina",
          "tournament_id": "WC-1930"
         },
         {
          "Goals": 3,
          "goal_id": "G-0037",
          "match_id": "M-1930-11",
          "minute": 80,
          "team_name": "Argentina",
          "tournament_id": "WC-1930"
         },
         {
          "Goals": 4,
          "goal_id": "G-0038",
          "match_id": "M-1930-12",
          "minute": 37,
          "team_name": "Brazil",
          "tournament_id": "WC-1930"
         },
         {
          "Goals": 3,
          "goal_id": "G-0039",
          "match_id": "M-1930-12",
          "minute": 57,
          "team_name": "Brazil",
          "tournament_id": "WC-1930"
         },
         {
          "Goals": 5,
          "goal_id": "G-0040",
          "match_id": "M-1930-12",
          "minute": 73,
          "team_name": "Brazil",
          "tournament_id": "WC-1930"
         },
         {
          "Goals": 5,
          "goal_id": "G-0041",
          "match_id": "M-1930-12",
          "minute": 83,
          "team_name": "Brazil",
          "tournament_id": "WC-1930"
         },
         {
          "Goals": 2,
          "goal_id": "G-0043",
          "match_id": "M-1930-14",
          "minute": 7,
          "team_name": "Uruguay",
          "tournament_id": "WC-1930"
         },
         {
          "Goals": 3,
          "goal_id": "G-0044",
          "match_id": "M-1930-14",
          "minute": 26,
          "team_name": "Uruguay",
          "tournament_id": "WC-1930"
         },
         {
          "Goals": 3,
          "goal_id": "G-0045",
          "match_id": "M-1930-14",
          "minute": 31,
          "team_name": "Uruguay",
          "tournament_id": "WC-1930"
         },
         {
          "Goals": 1,
          "goal_id": "G-0046",
          "match_id": "M-1930-14",
          "minute": 35,
          "team_name": "Uruguay",
          "tournament_id": "WC-1930"
         },
         {
          "Goals": 2,
          "goal_id": "G-0047",
          "match_id": "M-1930-15",
          "minute": 12,
          "team_name": "Argentina",
          "tournament_id": "WC-1930"
         },
         {
          "Goals": 1,
          "goal_id": "G-0048",
          "match_id": "M-1930-15",
          "minute": 13,
          "team_name": "Argentina",
          "tournament_id": "WC-1930"
         },
         {
          "Goals": 3,
          "goal_id": "G-0050",
          "match_id": "M-1930-15",
          "minute": 51,
          "team_name": "Argentina",
          "tournament_id": "WC-1930"
         },
         {
          "Goals": 4,
          "goal_id": "G-0051",
          "match_id": "M-1930-16",
          "minute": 20,
          "team_name": "Argentina",
          "tournament_id": "WC-1930"
         },
         {
          "Goals": 3,
          "goal_id": "G-0052",
          "match_id": "M-1930-16",
          "minute": 56,
          "team_name": "Argentina",
          "tournament_id": "WC-1930"
         },
         {
          "Goals": 2,
          "goal_id": "G-0053",
          "match_id": "M-1930-16",
          "minute": 69,
          "team_name": "Argentina",
          "tournament_id": "WC-1930"
         },
         {
          "Goals": 3,
          "goal_id": "G-0054",
          "match_id": "M-1930-16",
          "minute": 80,
          "team_name": "Argentina",
          "tournament_id": "WC-1930"
         },
         {
          "Goals": 1,
          "goal_id": "G-0055",
          "match_id": "M-1930-16",
          "minute": 85,
          "team_name": "Argentina",
          "tournament_id": "WC-1930"
         },
         {
          "Goals": 2,
          "goal_id": "G-0056",
          "match_id": "M-1930-16",
          "minute": 87,
          "team_name": "Argentina",
          "tournament_id": "WC-1930"
         },
         {
          "Goals": 2,
          "goal_id": "G-0059",
          "match_id": "M-1930-17",
          "minute": 18,
          "team_name": "Uruguay",
          "tournament_id": "WC-1930"
         },
         {
          "Goals": 1,
          "goal_id": "G-0060",
          "match_id": "M-1930-17",
          "minute": 20,
          "team_name": "Uruguay",
          "tournament_id": "WC-1930"
         },
         {
          "Goals": 3,
          "goal_id": "G-0061",
          "match_id": "M-1930-17",
          "minute": 31,
          "team_name": "Uruguay",
          "tournament_id": "WC-1930"
         },
         {
          "Goals": 1,
          "goal_id": "G-0062",
          "match_id": "M-1930-17",
          "minute": 61,
          "team_name": "Uruguay",
          "tournament_id": "WC-1930"
         },
         {
          "Goals": 1,
          "goal_id": "G-0063",
          "match_id": "M-1930-17",
          "minute": 67,
          "team_name": "Uruguay",
          "tournament_id": "WC-1930"
         },
         {
          "Goals": 1,
          "goal_id": "G-0064",
          "match_id": "M-1930-17",
          "minute": 72,
          "team_name": "Uruguay",
          "tournament_id": "WC-1930"
         },
         {
          "Goals": 1,
          "goal_id": "G-0065",
          "match_id": "M-1930-18",
          "minute": 12,
          "team_name": "Uruguay",
          "tournament_id": "WC-1930"
         },
         {
          "Goals": 4,
          "goal_id": "G-0066",
          "match_id": "M-1930-18",
          "minute": 20,
          "team_name": "Argentina",
          "tournament_id": "WC-1930"
         },
         {
          "Goals": 2,
          "goal_id": "G-0067",
          "match_id": "M-1930-18",
          "minute": 37,
          "team_name": "Argentina",
          "tournament_id": "WC-1930"
         },
         {
          "Goals": 2,
          "goal_id": "G-0068",
          "match_id": "M-1930-18",
          "minute": 57,
          "team_name": "Uruguay",
          "tournament_id": "WC-1930"
         },
         {
          "Goals": 1,
          "goal_id": "G-0069",
          "match_id": "M-1930-18",
          "minute": 68,
          "team_name": "Uruguay",
          "tournament_id": "WC-1930"
         },
         {
          "Goals": 2,
          "goal_id": "G-0070",
          "match_id": "M-1930-18",
          "minute": 89,
          "team_name": "Uruguay",
          "tournament_id": "WC-1930"
         },
         {
          "Goals": 3,
          "goal_id": "G-0071",
          "match_id": "M-1934-01",
          "minute": 18,
          "team_name": "France",
          "tournament_id": "WC-1934"
         },
         {
          "Goals": 1,
          "goal_id": "G-0075",
          "match_id": "M-1934-01",
          "minute": 116,
          "team_name": "France",
          "tournament_id": "WC-1934"
         },
         {
          "Goals": 4,
          "goal_id": "G-0079",
          "match_id": "M-1934-03",
          "minute": 25,
          "team_name": "Germany",
          "tournament_id": "WC-1934"
         },
         {
          "Goals": 2,
          "goal_id": "G-0082",
          "match_id": "M-1934-03",
          "minute": 49,
          "team_name": "Germany",
          "tournament_id": "WC-1934"
         },
         {
          "Goals": 3,
          "goal_id": "G-0083",
          "match_id": "M-1934-03",
          "minute": 66,
          "team_name": "Germany",
          "tournament_id": "WC-1934"
         },
         {
          "Goals": 5,
          "goal_id": "G-0084",
          "match_id": "M-1934-03",
          "minute": 70,
          "team_name": "Germany",
          "tournament_id": "WC-1934"
         },
         {
          "Goals": 3,
          "goal_id": "G-0085",
          "match_id": "M-1934-03",
          "minute": 87,
          "team_name": "Germany",
          "tournament_id": "WC-1934"
         },
         {
          "Goals": 4,
          "goal_id": "G-0092",
          "match_id": "M-1934-05",
          "minute": 18,
          "team_name": "Italy",
          "tournament_id": "WC-1934"
         },
         {
          "Goals": 1,
          "goal_id": "G-0093",
          "match_id": "M-1934-05",
          "minute": 20,
          "team_name": "Italy",
          "tournament_id": "WC-1934"
         },
         {
          "Goals": 4,
          "goal_id": "G-0094",
          "match_id": "M-1934-05",
          "minute": 29,
          "team_name": "Italy",
          "tournament_id": "WC-1934"
         },
         {
          "Goals": 3,
          "goal_id": "G-0096",
          "match_id": "M-1934-05",
          "minute": 63,
          "team_name": "Italy",
          "tournament_id": "WC-1934"
         },
         {
          "Goals": 1,
          "goal_id": "G-0097",
          "match_id": "M-1934-05",
          "minute": 64,
          "team_name": "Italy",
          "tournament_id": "WC-1934"
         },
         {
          "Goals": 4,
          "goal_id": "G-0098",
          "match_id": "M-1934-05",
          "minute": 69,
          "team_name": "Italy",
          "tournament_id": "WC-1934"
         },
         {
          "Goals": 2,
          "goal_id": "G-0099",
          "match_id": "M-1934-05",
          "minute": 90,
          "team_name": "Italy",
          "tournament_id": "WC-1934"
         },
         {
          "Goals": 3,
          "goal_id": "G-0100",
          "match_id": "M-1934-06",
          "minute": 18,
          "team_name": "Spain",
          "tournament_id": "WC-1934"
         },
         {
          "Goals": 1,
          "goal_id": "G-0101",
          "match_id": "M-1934-06",
          "minute": 25,
          "team_name": "Spain",
          "tournament_id": "WC-1934"
         },
         {
          "Goals": 2,
          "goal_id": "G-0102",
          "match_id": "M-1934-06",
          "minute": 29,
          "team_name": "Spain",
          "tournament_id": "WC-1934"
         },
         {
          "Goals": 7,
          "goal_id": "G-0103",
          "match_id": "M-1934-06",
          "minute": 55,
          "team_name": "Brazil",
          "tournament_id": "WC-1934"
         },
         {
          "Goals": 3,
          "goal_id": "G-0104",
          "match_id": "M-1934-07",
          "minute": 4,
          "team_name": "Argentina",
          "tournament_id": "WC-1934"
         },
         {
          "Goals": 2,
          "goal_id": "G-0106",
          "match_id": "M-1934-07",
          "minute": 48,
          "team_name": "Argentina",
          "tournament_id": "WC-1934"
         },
         {
          "Goals": 4,
          "goal_id": "G-0122",
          "match_id": "M-1934-11",
          "minute": 60,
          "team_name": "Germany",
          "tournament_id": "WC-1934"
         },
         {
          "Goals": 2,
          "goal_id": "G-0123",
          "match_id": "M-1934-11",
          "minute": 63,
          "team_name": "Germany",
          "tournament_id": "WC-1934"
         },
         {
          "Goals": 2,
          "goal_id": "G-0125",
          "match_id": "M-1934-12",
          "minute": 30,
          "team_name": "Spain",
          "tournament_id": "WC-1934"
         },
         {
          "Goals": 3,
          "goal_id": "G-0126",
          "match_id": "M-1934-12",
          "minute": 44,
          "team_name": "Italy",
          "tournament_id": "WC-1934"
         },
         {
          "Goals": 2,
          "goal_id": "G-0127",
          "match_id": "M-1934-13",
          "minute": 11,
          "team_name": "Italy",
          "tournament_id": "WC-1934"
         },
         {
          "Goals": 2,
          "goal_id": "G-0129",
          "match_id": "M-1934-14",
          "minute": 62,
          "team_name": "Germany",
          "tournament_id": "WC-1934"
         },
         {
          "Goals": 3,
          "goal_id": "G-0132",
          "match_id": "M-1934-15",
          "minute": 19,
          "team_name": "Italy",
          "tournament_id": "WC-1934"
         },
         {
          "Goals": 1,
          "goal_id": "G-0133",
          "match_id": "M-1934-16",
          "minute": 1,
          "team_name": "Germany",
          "tournament_id": "WC-1934"
         },
         {
          "Goals": 2,
          "goal_id": "G-0134",
          "match_id": "M-1934-16",
          "minute": 27,
          "team_name": "Germany",
          "tournament_id": "WC-1934"
         },
         {
          "Goals": 6,
          "goal_id": "G-0136",
          "match_id": "M-1934-16",
          "minute": 42,
          "team_name": "Germany",
          "tournament_id": "WC-1934"
         },
         {
          "Goals": 4,
          "goal_id": "G-0139",
          "match_id": "M-1934-17",
          "minute": 81,
          "team_name": "Italy",
          "tournament_id": "WC-1934"
         },
         {
          "Goals": 1,
          "goal_id": "G-0140",
          "match_id": "M-1934-17",
          "minute": 95,
          "team_name": "Italy",
          "tournament_id": "WC-1934"
         },
         {
          "Goals": 5,
          "goal_id": "G-0141",
          "match_id": "M-1938-01",
          "minute": 29,
          "team_name": "Germany",
          "tournament_id": "WC-1938"
         },
         {
          "Goals": 3,
          "goal_id": "G-0149",
          "match_id": "M-1938-03",
          "minute": 1,
          "team_name": "France",
          "tournament_id": "WC-1938"
         },
         {
          "Goals": 2,
          "goal_id": "G-0150",
          "match_id": "M-1938-03",
          "minute": 16,
          "team_name": "France",
          "tournament_id": "WC-1938"
         },
         {
          "Goals": 1,
          "goal_id": "G-0152",
          "match_id": "M-1938-03",
          "minute": 69,
          "team_name": "France",
          "tournament_id": "WC-1938"
         },
         {
          "Goals": 2,
          "goal_id": "G-0159",
          "match_id": "M-1938-05",
          "minute": 2,
          "team_name": "Italy",
          "tournament_id": "WC-1938"
         },
         {
          "Goals": 1,
          "goal_id": "G-0161",
          "match_id": "M-1938-05",
          "minute": 94,
          "team_name": "Italy",
          "tournament_id": "WC-1938"
         },
         {
          "Goals": 4,
          "goal_id": "G-0162",
          "match_id": "M-1938-06",
          "minute": 18,
          "team_name": "Brazil",
          "tournament_id": "WC-1938"
         },
         {
          "Goals": 3,
          "goal_id": "G-0164",
          "match_id": "M-1938-06",
          "minute": 25,
          "team_name": "Brazil",
          "tournament_id": "WC-1938"
         },
         {
          "Goals": 6,
          "goal_id": "G-0165",
          "match_id": "M-1938-06",
          "minute": 44,
          "team_name": "Brazil",
          "tournament_id": "WC-1938"
         },
         {
          "Goals": 5,
          "goal_id": "G-0168",
          "match_id": "M-1938-06",
          "minute": 71,
          "team_name": "Brazil",
          "tournament_id": "WC-1938"
         },
         {
          "Goals": 1,
          "goal_id": "G-0170",
          "match_id": "M-1938-06",
          "minute": 93,
          "team_name": "Brazil",
          "tournament_id": "WC-1938"
         },
         {
          "Goals": 2,
          "goal_id": "G-0171",
          "match_id": "M-1938-06",
          "minute": 104,
          "team_name": "Brazil",
          "tournament_id": "WC-1938"
         },
         {
          "Goals": 3,
          "goal_id": "G-0179",
          "match_id": "M-1938-09",
          "minute": 8,
          "team_name": "Germany",
          "tournament_id": "WC-1938"
         },
         {
          "Goals": 2,
          "goal_id": "G-0180",
          "match_id": "M-1938-09",
          "minute": 22,
          "team_name": "Germany",
          "tournament_id": "WC-1938"
         },
         {
          "Goals": 4,
          "goal_id": "G-0185",
          "match_id": "M-1938-10",
          "minute": 30,
          "team_name": "Brazil",
          "tournament_id": "WC-1938"
         },
         {
          "Goals": 2,
          "goal_id": "G-0189",
          "match_id": "M-1938-12",
          "minute": 9,
          "team_name": "Italy",
          "tournament_id": "WC-1938"
         },
         {
          "Goals": 1,
          "goal_id": "G-0190",
          "match_id": "M-1938-12",
          "minute": 10,
          "team_name": "France",
          "tournament_id": "WC-1938"
         },
         {
          "Goals": 3,
          "goal_id": "G-0191",
          "match_id": "M-1938-12",
          "minute": 51,
          "team_name": "Italy",
          "tournament_id": "WC-1938"
         },
         {
          "Goals": 1,
          "goal_id": "G-0192",
          "match_id": "M-1938-12",
          "minute": 72,
          "team_name": "Italy",
          "tournament_id": "WC-1938"
         },
         {
          "Goals": 3,
          "goal_id": "G-0202",
          "match_id": "M-1938-14",
          "minute": 57,
          "team_name": "Brazil",
          "tournament_id": "WC-1938"
         },
         {
          "Goals": 7,
          "goal_id": "G-0203",
          "match_id": "M-1938-14",
          "minute": 62,
          "team_name": "Brazil",
          "tournament_id": "WC-1938"
         },
         {
          "Goals": 3,
          "goal_id": "G-0210",
          "match_id": "M-1938-16",
          "minute": 51,
          "team_name": "Italy",
          "tournament_id": "WC-1938"
         },
         {
          "Goals": 2,
          "goal_id": "G-0211",
          "match_id": "M-1938-16",
          "minute": 60,
          "team_name": "Italy",
          "tournament_id": "WC-1938"
         },
         {
          "Goals": 5,
          "goal_id": "G-0212",
          "match_id": "M-1938-16",
          "minute": 87,
          "team_name": "Brazil",
          "tournament_id": "WC-1938"
         },
         {
          "Goals": 6,
          "goal_id": "G-0215",
          "match_id": "M-1938-17",
          "minute": 44,
          "team_name": "Brazil",
          "tournament_id": "WC-1938"
         },
         {
          "Goals": 8,
          "goal_id": "G-0216",
          "match_id": "M-1938-17",
          "minute": 63,
          "team_name": "Brazil",
          "tournament_id": "WC-1938"
         },
         {
          "Goals": 4,
          "goal_id": "G-0217",
          "match_id": "M-1938-17",
          "minute": 74,
          "team_name": "Brazil",
          "tournament_id": "WC-1938"
         },
         {
          "Goals": 2,
          "goal_id": "G-0218",
          "match_id": "M-1938-17",
          "minute": 80,
          "team_name": "Brazil",
          "tournament_id": "WC-1938"
         },
         {
          "Goals": 3,
          "goal_id": "G-0219",
          "match_id": "M-1938-18",
          "minute": 6,
          "team_name": "Italy",
          "tournament_id": "WC-1938"
         },
         {
          "Goals": 1,
          "goal_id": "G-0221",
          "match_id": "M-1938-18",
          "minute": 16,
          "team_name": "Italy",
          "tournament_id": "WC-1938"
         },
         {
          "Goals": 4,
          "goal_id": "G-0222",
          "match_id": "M-1938-18",
          "minute": 35,
          "team_name": "Italy",
          "tournament_id": "WC-1938"
         },
         {
          "Goals": 2,
          "goal_id": "G-0224",
          "match_id": "M-1938-18",
          "minute": 82,
          "team_name": "Italy",
          "tournament_id": "WC-1938"
         },
         {
          "Goals": 4,
          "goal_id": "G-0225",
          "match_id": "M-1950-01",
          "minute": 30,
          "team_name": "Brazil",
          "tournament_id": "WC-1950"
         },
         {
          "Goals": 2,
          "goal_id": "G-0226",
          "match_id": "M-1950-01",
          "minute": 65,
          "team_name": "Brazil",
          "tournament_id": "WC-1950"
         },
         {
          "Goals": 5,
          "goal_id": "G-0227",
          "match_id": "M-1950-01",
          "minute": 71,
          "team_name": "Brazil",
          "tournament_id": "WC-1950"
         },
         {
          "Goals": 5,
          "goal_id": "G-0228",
          "match_id": "M-1950-01",
          "minute": 79,
          "team_name": "Brazil",
          "tournament_id": "WC-1950"
         },
         {
          "Goals": 1,
          "goal_id": "G-0232",
          "match_id": "M-1950-03",
          "minute": 39,
          "team_name": "England",
          "tournament_id": "WC-1950"
         },
         {
          "Goals": 3,
          "goal_id": "G-0233",
          "match_id": "M-1950-03",
          "minute": 51,
          "team_name": "England",
          "tournament_id": "WC-1950"
         },
         {
          "Goals": 4,
          "goal_id": "G-0235",
          "match_id": "M-1950-04",
          "minute": 81,
          "team_name": "Spain",
          "tournament_id": "WC-1950"
         },
         {
          "Goals": 3,
          "goal_id": "G-0236",
          "match_id": "M-1950-04",
          "minute": 83,
          "team_name": "Spain",
          "tournament_id": "WC-1950"
         },
         {
          "Goals": 2,
          "goal_id": "G-0237",
          "match_id": "M-1950-04",
          "minute": 89,
          "team_name": "Spain",
          "tournament_id": "WC-1950"
         },
         {
          "Goals": 3,
          "goal_id": "G-0238",
          "match_id": "M-1950-05",
          "minute": 7,
          "team_name": "Italy",
          "tournament_id": "WC-1950"
         },
         {
          "Goals": 2,
          "goal_id": "G-0242",
          "match_id": "M-1950-05",
          "minute": 75,
          "team_name": "Italy",
          "tournament_id": "WC-1950"
         },
         {
          "Goals": 4,
          "goal_id": "G-0243",
          "match_id": "M-1950-06",
          "minute": 3,
          "team_name": "Brazil",
          "tournament_id": "WC-1950"
         },
         {
          "Goals": 5,
          "goal_id": "G-0245",
          "match_id": "M-1950-06",
          "minute": 32,
          "team_name": "Brazil",
          "tournament_id": "WC-1950"
         },
         {
          "Goals": 3,
          "goal_id": "G-0252",
          "match_id": "M-1950-08",
          "minute": 17,
          "team_name": "Spain",
          "tournament_id": "WC-1950"
         },
         {
          "Goals": 2,
          "goal_id": "G-0253",
          "match_id": "M-1950-08",
          "minute": 30,
          "team_name": "Spain",
          "tournament_id": "WC-1950"
         },
         {
          "Goals": 4,
          "goal_id": "G-0259",
          "match_id": "M-1950-11",
          "minute": 4,
          "team_name": "Brazil",
          "tournament_id": "WC-1950"
         },
         {
          "Goals": 5,
          "goal_id": "G-0260",
          "match_id": "M-1950-11",
          "minute": 69,
          "team_name": "Brazil",
          "tournament_id": "WC-1950"
         },
         {
          "Goals": 2,
          "goal_id": "G-0268",
          "match_id": "M-1950-13",
          "minute": 48,
          "team_name": "Spain",
          "tournament_id": "WC-1950"
         },
         {
          "Goals": 2,
          "goal_id": "G-0269",
          "match_id": "M-1950-14",
          "minute": 12,
          "team_name": "Italy",
          "tournament_id": "WC-1950"
         },
         {
          "Goals": 1,
          "goal_id": "G-0270",
          "match_id": "M-1950-14",
          "minute": 62,
          "team_name": "Italy",
          "tournament_id": "WC-1950"
         },
         {
          "Goals": 1,
          "goal_id": "G-0271",
          "match_id": "M-1950-15",
          "minute": 14,
          "team_name": "Uruguay",
          "tournament_id": "WC-1950"
         },
         {
          "Goals": 2,
          "goal_id": "G-0272",
          "match_id": "M-1950-15",
          "minute": 18,
          "team_name": "Uruguay",
          "tournament_id": "WC-1950"
         },
         {
          "Goals": 4,
          "goal_id": "G-0273",
          "match_id": "M-1950-15",
          "minute": 23,
          "team_name": "Uruguay",
          "tournament_id": "WC-1950"
         },
         {
          "Goals": 1,
          "goal_id": "G-0274",
          "match_id": "M-1950-15",
          "minute": 40,
          "team_name": "Uruguay",
          "tournament_id": "WC-1950"
         },
         {
          "Goals": 2,
          "goal_id": "G-0275",
          "match_id": "M-1950-15",
          "minute": 51,
          "team_name": "Uruguay",
          "tournament_id": "WC-1950"
         },
         {
          "Goals": 3,
          "goal_id": "G-0276",
          "match_id": "M-1950-15",
          "minute": 54,
          "team_name": "Uruguay",
          "tournament_id": "WC-1950"
         },
         {
          "Goals": 2,
          "goal_id": "G-0277",
          "match_id": "M-1950-15",
          "minute": 83,
          "team_name": "Uruguay",
          "tournament_id": "WC-1950"
         },
         {
          "Goals": 2,
          "goal_id": "G-0278",
          "match_id": "M-1950-15",
          "minute": 87,
          "team_name": "Uruguay",
          "tournament_id": "WC-1950"
         },
         {
          "Goals": 4,
          "goal_id": "G-0282",
          "match_id": "M-1950-17",
          "minute": 17,
          "team_name": "Brazil",
          "tournament_id": "WC-1950"
         },
         {
          "Goals": 3,
          "goal_id": "G-0283",
          "match_id": "M-1950-17",
          "minute": 36,
          "team_name": "Brazil",
          "tournament_id": "WC-1950"
         },
         {
          "Goals": 3,
          "goal_id": "G-0284",
          "match_id": "M-1950-17",
          "minute": 39,
          "team_name": "Brazil",
          "tournament_id": "WC-1950"
         },
         {
          "Goals": 4,
          "goal_id": "G-0285",
          "match_id": "M-1950-17",
          "minute": 52,
          "team_name": "Brazil",
          "tournament_id": "WC-1950"
         },
         {
          "Goals": 3,
          "goal_id": "G-0286",
          "match_id": "M-1950-17",
          "minute": 58,
          "team_name": "Brazil",
          "tournament_id": "WC-1950"
         },
         {
          "Goals": 2,
          "goal_id": "G-0288",
          "match_id": "M-1950-17",
          "minute": 85,
          "team_name": "Brazil",
          "tournament_id": "WC-1950"
         },
         {
          "Goals": 3,
          "goal_id": "G-0289",
          "match_id": "M-1950-17",
          "minute": 88,
          "team_name": "Brazil",
          "tournament_id": "WC-1950"
         },
         {
          "Goals": 1,
          "goal_id": "G-0290",
          "match_id": "M-1950-18",
          "minute": 29,
          "team_name": "Uruguay",
          "tournament_id": "WC-1950"
         },
         {
          "Goals": 2,
          "goal_id": "G-0291",
          "match_id": "M-1950-18",
          "minute": 37,
          "team_name": "Spain",
          "tournament_id": "WC-1950"
         },
         {
          "Goals": 1,
          "goal_id": "G-0292",
          "match_id": "M-1950-18",
          "minute": 39,
          "team_name": "Spain",
          "tournament_id": "WC-1950"
         },
         {
          "Goals": 2,
          "goal_id": "G-0293",
          "match_id": "M-1950-18",
          "minute": 73,
          "team_name": "Uruguay",
          "tournament_id": "WC-1950"
         },
         {
          "Goals": 8,
          "goal_id": "G-0294",
          "match_id": "M-1950-19",
          "minute": 15,
          "team_name": "Brazil",
          "tournament_id": "WC-1950"
         },
         {
          "Goals": 1,
          "goal_id": "G-0295",
          "match_id": "M-1950-19",
          "minute": 21,
          "team_name": "Brazil",
          "tournament_id": "WC-1950"
         },
         {
          "Goals": 3,
          "goal_id": "G-0296",
          "match_id": "M-1950-19",
          "minute": 31,
          "team_name": "Brazil",
          "tournament_id": "WC-1950"
         },
         {
          "Goals": 7,
          "goal_id": "G-0297",
          "match_id": "M-1950-19",
          "minute": 55,
          "team_name": "Brazil",
          "tournament_id": "WC-1950"
         },
         {
          "Goals": 3,
          "goal_id": "G-0298",
          "match_id": "M-1950-19",
          "minute": 57,
          "team_name": "Brazil",
          "tournament_id": "WC-1950"
         },
         {
          "Goals": 4,
          "goal_id": "G-0299",
          "match_id": "M-1950-19",
          "minute": 67,
          "team_name": "Brazil",
          "tournament_id": "WC-1950"
         },
         {
          "Goals": 3,
          "goal_id": "G-0300",
          "match_id": "M-1950-19",
          "minute": 71,
          "team_name": "Spain",
          "tournament_id": "WC-1950"
         },
         {
          "Goals": 3,
          "goal_id": "G-0302",
          "match_id": "M-1950-20",
          "minute": 39,
          "team_name": "Uruguay",
          "tournament_id": "WC-1950"
         },
         {
          "Goals": 1,
          "goal_id": "G-0304",
          "match_id": "M-1950-20",
          "minute": 77,
          "team_name": "Uruguay",
          "tournament_id": "WC-1950"
         },
         {
          "Goals": 3,
          "goal_id": "G-0305",
          "match_id": "M-1950-20",
          "minute": 85,
          "team_name": "Uruguay",
          "tournament_id": "WC-1950"
         },
         {
          "Goals": 3,
          "goal_id": "G-0309",
          "match_id": "M-1950-21",
          "minute": 82,
          "team_name": "Spain",
          "tournament_id": "WC-1950"
         },
         {
          "Goals": 4,
          "goal_id": "G-0310",
          "match_id": "M-1950-22",
          "minute": 47,
          "team_name": "Brazil",
          "tournament_id": "WC-1950"
         },
         {
          "Goals": 1,
          "goal_id": "G-0311",
          "match_id": "M-1950-22",
          "minute": 66,
          "team_name": "Uruguay",
          "tournament_id": "WC-1950"
         },
         {
          "Goals": 1,
          "goal_id": "G-0312",
          "match_id": "M-1950-22",
          "minute": 79,
          "team_name": "Uruguay",
          "tournament_id": "WC-1950"
         },
         {
          "Goals": 2,
          "goal_id": "G-0313",
          "match_id": "M-1954-01",
          "minute": 23,
          "team_name": "Brazil",
          "tournament_id": "WC-1954"
         },
         {
          "Goals": 4,
          "goal_id": "G-0314",
          "match_id": "M-1954-01",
          "minute": 30,
          "team_name": "Brazil",
          "tournament_id": "WC-1954"
         },
         {
          "Goals": 1,
          "goal_id": "G-0315",
          "match_id": "M-1954-01",
          "minute": 34,
          "team_name": "Brazil",
          "tournament_id": "WC-1954"
         },
         {
          "Goals": 1,
          "goal_id": "G-0316",
          "match_id": "M-1954-01",
          "minute": 43,
          "team_name": "Brazil",
          "tournament_id": "WC-1954"
         },
         {
          "Goals": 5,
          "goal_id": "G-0317",
          "match_id": "M-1954-01",
          "minute": 69,
          "team_name": "Brazil",
          "tournament_id": "WC-1954"
         },
         {
          "Goals": 1,
          "goal_id": "G-0320",
          "match_id": "M-1954-04",
          "minute": 71,
          "team_name": "Uruguay",
          "tournament_id": "WC-1954"
         },
         {
          "Goals": 1,
          "goal_id": "G-0321",
          "match_id": "M-1954-04",
          "minute": 84,
          "team_name": "Uruguay",
          "tournament_id": "WC-1954"
         },
         {
          "Goals": 3,
          "goal_id": "G-0323",
          "match_id": "M-1954-05",
          "minute": 44,
          "team_name": "Italy",
          "tournament_id": "WC-1954"
         },
         {
          "Goals": 1,
          "goal_id": "G-0340",
          "match_id": "M-1954-08",
          "minute": 26,
          "team_name": "England",
          "tournament_id": "WC-1954"
         },
         {
          "Goals": 2,
          "goal_id": "G-0341",
          "match_id": "M-1954-08",
          "minute": 36,
          "team_name": "England",
          "tournament_id": "WC-1954"
         },
         {
          "Goals": 2,
          "goal_id": "G-0342",
          "match_id": "M-1954-08",
          "minute": 63,
          "team_name": "England",
          "tournament_id": "WC-1954"
         },
         {
          "Goals": 1,
          "goal_id": "G-0345",
          "match_id": "M-1954-08",
          "minute": 91,
          "team_name": "England",
          "tournament_id": "WC-1954"
         },
         {
          "Goals": 1,
          "goal_id": "G-0347",
          "match_id": "M-1954-09",
          "minute": 17,
          "team_name": "Uruguay",
          "tournament_id": "WC-1954"
         },
         {
          "Goals": 1,
          "goal_id": "G-0348",
          "match_id": "M-1954-09",
          "minute": 30,
          "team_name": "Uruguay",
          "tournament_id": "WC-1954"
         },
         {
          "Goals": 2,
          "goal_id": "G-0349",
          "match_id": "M-1954-09",
          "minute": 47,
          "team_name": "Uruguay",
          "tournament_id": "WC-1954"
         },
         {
          "Goals": 3,
          "goal_id": "G-0350",
          "match_id": "M-1954-09",
          "minute": 54,
          "team_name": "Uruguay",
          "tournament_id": "WC-1954"
         },
         {
          "Goals": 2,
          "goal_id": "G-0351",
          "match_id": "M-1954-09",
          "minute": 57,
          "team_name": "Uruguay",
          "tournament_id": "WC-1954"
         },
         {
          "Goals": 2,
          "goal_id": "G-0352",
          "match_id": "M-1954-09",
          "minute": 83,
          "team_name": "Uruguay",
          "tournament_id": "WC-1954"
         },
         {
          "Goals": 3,
          "goal_id": "G-0353",
          "match_id": "M-1954-09",
          "minute": 85,
          "team_name": "Uruguay",
          "tournament_id": "WC-1954"
         },
         {
          "Goals": 5,
          "goal_id": "G-0355",
          "match_id": "M-1954-10",
          "minute": 69,
          "team_name": "Brazil",
          "tournament_id": "WC-1954"
         },
         {
          "Goals": 2,
          "goal_id": "G-0361",
          "match_id": "M-1954-12",
          "minute": 19,
          "team_name": "France",
          "tournament_id": "WC-1954"
         },
         {
          "Goals": 3,
          "goal_id": "G-0362",
          "match_id": "M-1954-12",
          "minute": 46,
          "team_name": "France",
          "tournament_id": "WC-1954"
         },
         {
          "Goals": 2,
          "goal_id": "G-0365",
          "match_id": "M-1954-12",
          "minute": 88,
          "team_name": "France",
          "tournament_id": "WC-1954"
         },
         {
          "Goals": 1,
          "goal_id": "G-0384",
          "match_id": "M-1954-15",
          "minute": 41,
          "team_name": "Italy",
          "tournament_id": "WC-1954"
         },
         {
          "Goals": 3,
          "goal_id": "G-0385",
          "match_id": "M-1954-15",
          "minute": 48,
          "team_name": "Italy",
          "tournament_id": "WC-1954"
         },
         {
          "Goals": 1,
          "goal_id": "G-0386",
          "match_id": "M-1954-15",
          "minute": 58,
          "team_name": "Italy",
          "tournament_id": "WC-1954"
         },
         {
          "Goals": 3,
          "goal_id": "G-0387",
          "match_id": "M-1954-15",
          "minute": 78,
          "team_name": "Italy",
          "tournament_id": "WC-1954"
         },
         {
          "Goals": 2,
          "goal_id": "G-0389",
          "match_id": "M-1954-16",
          "minute": 43,
          "team_name": "England",
          "tournament_id": "WC-1954"
         },
         {
          "Goals": 1,
          "goal_id": "G-0390",
          "match_id": "M-1954-16",
          "minute": 69,
          "team_name": "England",
          "tournament_id": "WC-1954"
         },
         {
          "Goals": 4,
          "goal_id": "G-0402",
          "match_id": "M-1954-18",
          "minute": 67,
          "team_name": "Italy",
          "tournament_id": "WC-1954"
         },
         {
          "Goals": 1,
          "goal_id": "G-0417",
          "match_id": "M-1954-20",
          "minute": 5,
          "team_name": "Uruguay",
          "tournament_id": "WC-1954"
         },
         {
          "Goals": 2,
          "goal_id": "G-0418",
          "match_id": "M-1954-20",
          "minute": 16,
          "team_name": "England",
          "tournament_id": "WC-1954"
         },
         {
          "Goals": 3,
          "goal_id": "G-0419",
          "match_id": "M-1954-20",
          "minute": 39,
          "team_name": "Uruguay",
          "tournament_id": "WC-1954"
         },
         {
          "Goals": 2,
          "goal_id": "G-0420",
          "match_id": "M-1954-20",
          "minute": 46,
          "team_name": "Uruguay",
          "tournament_id": "WC-1954"
         },
         {
          "Goals": 3,
          "goal_id": "G-0421",
          "match_id": "M-1954-20",
          "minute": 67,
          "team_name": "England",
          "tournament_id": "WC-1954"
         },
         {
          "Goals": 1,
          "goal_id": "G-0422",
          "match_id": "M-1954-20",
          "minute": 78,
          "team_name": "Uruguay",
          "tournament_id": "WC-1954"
         },
         {
          "Goals": 4,
          "goal_id": "G-0425",
          "match_id": "M-1954-21",
          "minute": 18,
          "team_name": "Brazil",
          "tournament_id": "WC-1954"
         },
         {
          "Goals": 2,
          "goal_id": "G-0427",
          "match_id": "M-1954-21",
          "minute": 65,
          "team_name": "Brazil",
          "tournament_id": "WC-1954"
         },
         {
          "Goals": 2,
          "goal_id": "G-0433",
          "match_id": "M-1954-23",
          "minute": 75,
          "team_name": "Uruguay",
          "tournament_id": "WC-1954"
         },
         {
          "Goals": 1,
          "goal_id": "G-0434",
          "match_id": "M-1954-23",
          "minute": 86,
          "team_name": "Uruguay",
          "tournament_id": "WC-1954"
         },
         {
          "Goals": 1,
          "goal_id": "G-0445",
          "match_id": "M-1954-25",
          "minute": 22,
          "team_name": "Uruguay",
          "tournament_id": "WC-1954"
         },
         {
          "Goals": 3,
          "goal_id": "G-0456",
          "match_id": "M-1958-02",
          "minute": 3,
          "team_name": "Argentina",
          "tournament_id": "WC-1958"
         },
         {
          "Goals": 3,
          "goal_id": "G-0462",
          "match_id": "M-1958-04",
          "minute": 24,
          "team_name": "France",
          "tournament_id": "WC-1958"
         },
         {
          "Goals": 1,
          "goal_id": "G-0463",
          "match_id": "M-1958-04",
          "minute": 30,
          "team_name": "France",
          "tournament_id": "WC-1958"
         },
         {
          "Goals": 2,
          "goal_id": "G-0466",
          "match_id": "M-1958-04",
          "minute": 52,
          "team_name": "France",
          "tournament_id": "WC-1958"
         },
         {
          "Goals": 4,
          "goal_id": "G-0467",
          "match_id": "M-1958-04",
          "minute": 61,
          "team_name": "France",
          "tournament_id": "WC-1958"
         },
         {
          "Goals": 2,
          "goal_id": "G-0468",
          "match_id": "M-1958-04",
          "minute": 67,
          "team_name": "France",
          "tournament_id": "WC-1958"
         },
         {
          "Goals": 3,
          "goal_id": "G-0469",
          "match_id": "M-1958-04",
          "minute": 70,
          "team_name": "France",
          "tournament_id": "WC-1958"
         },
         {
          "Goals": 4,
          "goal_id": "G-0470",
          "match_id": "M-1958-04",
          "minute": 83,
          "team_name": "France",
          "tournament_id": "WC-1958"
         },
         {
          "Goals": 4,
          "goal_id": "G-0475",
          "match_id": "M-1958-07",
          "minute": 37,
          "team_name": "Brazil",
          "tournament_id": "WC-1958"
         },
         {
          "Goals": 7,
          "goal_id": "G-0476",
          "match_id": "M-1958-07",
          "minute": 50,
          "team_name": "Brazil",
          "tournament_id": "WC-1958"
         },
         {
          "Goals": 2,
          "goal_id": "G-0477",
          "match_id": "M-1958-07",
          "minute": 85,
          "team_name": "Brazil",
          "tournament_id": "WC-1958"
         },
         {
          "Goals": 3,
          "goal_id": "G-0480",
          "match_id": "M-1958-08",
          "minute": 66,
          "team_name": "England",
          "tournament_id": "WC-1958"
         },
         {
          "Goals": 3,
          "goal_id": "G-0481",
          "match_id": "M-1958-08",
          "minute": 85,
          "team_name": "England",
          "tournament_id": "WC-1958"
         },
         {
          "Goals": 2,
          "goal_id": "G-0483",
          "match_id": "M-1958-09",
          "minute": 37,
          "team_name": "Argentina",
          "tournament_id": "WC-1958"
         },
         {
          "Goals": 3,
          "goal_id": "G-0484",
          "match_id": "M-1958-09",
          "minute": 56,
          "team_name": "Argentina",
          "tournament_id": "WC-1958"
         },
         {
          "Goals": 5,
          "goal_id": "G-0485",
          "match_id": "M-1958-09",
          "minute": 60,
          "team_name": "Argentina",
          "tournament_id": "WC-1958"
         },
         {
          "Goals": 2,
          "goal_id": "G-0495",
          "match_id": "M-1958-12",
          "minute": 4,
          "team_name": "France",
          "tournament_id": "WC-1958"
         },
         {
          "Goals": 3,
          "goal_id": "G-0498",
          "match_id": "M-1958-12",
          "minute": 85,
          "team_name": "France",
          "tournament_id": "WC-1958"
         },
         {
          "Goals": 3,
          "goal_id": "G-0510",
          "match_id": "M-1958-18",
          "minute": 65,
          "team_name": "Argentina",
          "tournament_id": "WC-1958"
         },
         {
          "Goals": 1,
          "goal_id": "G-0518",
          "match_id": "M-1958-20",
          "minute": 22,
          "team_name": "France",
          "tournament_id": "WC-1958"
         },
         {
          "Goals": 3,
          "goal_id": "G-0519",
          "match_id": "M-1958-20",
          "minute": 44,
          "team_name": "France",
          "tournament_id": "WC-1958"
         },
         {
          "Goals": 4,
          "goal_id": "G-0531",
          "match_id": "M-1958-23",
          "minute": 3,
          "team_name": "Brazil",
          "tournament_id": "WC-1958"
         },
         {
          "Goals": 1,
          "goal_id": "G-0532",
          "match_id": "M-1958-23",
          "minute": 77,
          "team_name": "Brazil",
          "tournament_id": "WC-1958"
         },
         {
          "Goals": 2,
          "goal_id": "G-0534",
          "match_id": "M-1958-24",
          "minute": 56,
          "team_name": "England",
          "tournament_id": "WC-1958"
         },
         {
          "Goals": 1,
          "goal_id": "G-0536",
          "match_id": "M-1958-24",
          "minute": 74,
          "team_name": "England",
          "tournament_id": "WC-1958"
         },
         {
          "Goals": 6,
          "goal_id": "G-0544",
          "match_id": "M-1958-28",
          "minute": 66,
          "team_name": "Brazil",
          "tournament_id": "WC-1958"
         },
         {
          "Goals": 3,
          "goal_id": "G-0545",
          "match_id": "M-1958-29",
          "minute": 44,
          "team_name": "France",
          "tournament_id": "WC-1958"
         },
         {
          "Goals": 3,
          "goal_id": "G-0546",
          "match_id": "M-1958-29",
          "minute": 55,
          "team_name": "France",
          "tournament_id": "WC-1958"
         },
         {
          "Goals": 1,
          "goal_id": "G-0547",
          "match_id": "M-1958-29",
          "minute": 63,
          "team_name": "France",
          "tournament_id": "WC-1958"
         },
         {
          "Goals": 5,
          "goal_id": "G-0548",
          "match_id": "M-1958-29",
          "minute": 68,
          "team_name": "France",
          "tournament_id": "WC-1958"
         },
         {
          "Goals": 1,
          "goal_id": "G-0552",
          "match_id": "M-1958-32",
          "minute": 2,
          "team_name": "Brazil",
          "tournament_id": "WC-1958"
         },
         {
          "Goals": 4,
          "goal_id": "G-0553",
          "match_id": "M-1958-32",
          "minute": 9,
          "team_name": "France",
          "tournament_id": "WC-1958"
         },
         {
          "Goals": 3,
          "goal_id": "G-0554",
          "match_id": "M-1958-32",
          "minute": 39,
          "team_name": "Brazil",
          "tournament_id": "WC-1958"
         },
         {
          "Goals": 4,
          "goal_id": "G-0555",
          "match_id": "M-1958-32",
          "minute": 52,
          "team_name": "Brazil",
          "tournament_id": "WC-1958"
         },
         {
          "Goals": 5,
          "goal_id": "G-0556",
          "match_id": "M-1958-32",
          "minute": 64,
          "team_name": "Brazil",
          "tournament_id": "WC-1958"
         },
         {
          "Goals": 5,
          "goal_id": "G-0557",
          "match_id": "M-1958-32",
          "minute": 75,
          "team_name": "Brazil",
          "tournament_id": "WC-1958"
         },
         {
          "Goals": 4,
          "goal_id": "G-0558",
          "match_id": "M-1958-32",
          "minute": 83,
          "team_name": "France",
          "tournament_id": "WC-1958"
         },
         {
          "Goals": 2,
          "goal_id": "G-0563",
          "match_id": "M-1958-34",
          "minute": 16,
          "team_name": "France",
          "tournament_id": "WC-1958"
         },
         {
          "Goals": 4,
          "goal_id": "G-0565",
          "match_id": "M-1958-34",
          "minute": 27,
          "team_name": "France",
          "tournament_id": "WC-1958"
         },
         {
          "Goals": 2,
          "goal_id": "G-0566",
          "match_id": "M-1958-34",
          "minute": 36,
          "team_name": "France",
          "tournament_id": "WC-1958"
         },
         {
          "Goals": 1,
          "goal_id": "G-0567",
          "match_id": "M-1958-34",
          "minute": 50,
          "team_name": "France",
          "tournament_id": "WC-1958"
         },
         {
          "Goals": 3,
          "goal_id": "G-0569",
          "match_id": "M-1958-34",
          "minute": 78,
          "team_name": "France",
          "tournament_id": "WC-1958"
         },
         {
          "Goals": 2,
          "goal_id": "G-0571",
          "match_id": "M-1958-34",
          "minute": 89,
          "team_name": "France",
          "tournament_id": "WC-1958"
         },
         {
          "Goals": 3,
          "goal_id": "G-0573",
          "match_id": "M-1958-35",
          "minute": 9,
          "team_name": "Brazil",
          "tournament_id": "WC-1958"
         },
         {
          "Goals": 5,
          "goal_id": "G-0574",
          "match_id": "M-1958-35",
          "minute": 32,
          "team_name": "Brazil",
          "tournament_id": "WC-1958"
         },
         {
          "Goals": 7,
          "goal_id": "G-0575",
          "match_id": "M-1958-35",
          "minute": 55,
          "team_name": "Brazil",
          "tournament_id": "WC-1958"
         },
         {
          "Goals": 5,
          "goal_id": "G-0576",
          "match_id": "M-1958-35",
          "minute": 68,
          "team_name": "Brazil",
          "tournament_id": "WC-1958"
         },
         {
          "Goals": 3,
          "goal_id": "G-0578",
          "match_id": "M-1958-35",
          "minute": 90,
          "team_name": "Brazil",
          "tournament_id": "WC-1958"
         },
         {
          "Goals": 1,
          "goal_id": "G-0580",
          "match_id": "M-1962-01",
          "minute": 56,
          "team_name": "Uruguay",
          "tournament_id": "WC-1962"
         },
         {
          "Goals": 2,
          "goal_id": "G-0581",
          "match_id": "M-1962-01",
          "minute": 75,
          "team_name": "Uruguay",
          "tournament_id": "WC-1962"
         },
         {
          "Goals": 2,
          "goal_id": "G-0586",
          "match_id": "M-1962-03",
          "minute": 56,
          "team_name": "Brazil",
          "tournament_id": "WC-1962"
         },
         {
          "Goals": 5,
          "goal_id": "G-0587",
          "match_id": "M-1962-03",
          "minute": 73,
          "team_name": "Brazil",
          "tournament_id": "WC-1962"
         },
         {
          "Goals": 3,
          "goal_id": "G-0588",
          "match_id": "M-1962-04",
          "minute": 4,
          "team_name": "Argentina",
          "tournament_id": "WC-1962"
         },
         {
          "Goals": 2,
          "goal_id": "G-0593",
          "match_id": "M-1962-08",
          "minute": 60,
          "team_name": "England",
          "tournament_id": "WC-1962"
         },
         {
          "Goals": 2,
          "goal_id": "G-0595",
          "match_id": "M-1962-09",
          "minute": 19,
          "team_name": "Uruguay",
          "tournament_id": "WC-1962"
         },
         {
          "Goals": 1,
          "goal_id": "G-0601",
          "match_id": "M-1962-12",
          "minute": 17,
          "team_name": "England",
          "tournament_id": "WC-1962"
         },
         {
          "Goals": 2,
          "goal_id": "G-0602",
          "match_id": "M-1962-12",
          "minute": 42,
          "team_name": "England",
          "tournament_id": "WC-1962"
         },
         {
          "Goals": 3,
          "goal_id": "G-0603",
          "match_id": "M-1962-12",
          "minute": 67,
          "team_name": "England",
          "tournament_id": "WC-1962"
         },
         {
          "Goals": 3,
          "goal_id": "G-0604",
          "match_id": "M-1962-12",
          "minute": 81,
          "team_name": "Argentina",
          "tournament_id": "WC-1962"
         },
         {
          "Goals": 2,
          "goal_id": "G-0616",
          "match_id": "M-1962-15",
          "minute": 90,
          "team_name": "Spain",
          "tournament_id": "WC-1962"
         },
         {
          "Goals": 3,
          "goal_id": "G-0625",
          "match_id": "M-1962-17",
          "minute": 54,
          "team_name": "Uruguay",
          "tournament_id": "WC-1962"
         },
         {
          "Goals": 1,
          "goal_id": "G-0629",
          "match_id": "M-1962-19",
          "minute": 35,
          "team_name": "Spain",
          "tournament_id": "WC-1962"
         },
         {
          "Goals": 5,
          "goal_id": "G-0630",
          "match_id": "M-1962-19",
          "minute": 72,
          "team_name": "Brazil",
          "tournament_id": "WC-1962"
         },
         {
          "Goals": 3,
          "goal_id": "G-0631",
          "match_id": "M-1962-19",
          "minute": 86,
          "team_name": "Brazil",
          "tournament_id": "WC-1962"
         },
         {
          "Goals": 2,
          "goal_id": "G-0637",
          "match_id": "M-1962-22",
          "minute": 2,
          "team_name": "Italy",
          "tournament_id": "WC-1962"
         },
         {
          "Goals": 2,
          "goal_id": "G-0638",
          "match_id": "M-1962-22",
          "minute": 65,
          "team_name": "Italy",
          "tournament_id": "WC-1962"
         },
         {
          "Goals": 4,
          "goal_id": "G-0639",
          "match_id": "M-1962-22",
          "minute": 67,
          "team_name": "Italy",
          "tournament_id": "WC-1962"
         },
         {
          "Goals": 3,
          "goal_id": "G-0644",
          "match_id": "M-1962-25",
          "minute": 31,
          "team_name": "Brazil",
          "tournament_id": "WC-1962"
         },
         {
          "Goals": 5,
          "goal_id": "G-0645",
          "match_id": "M-1962-25",
          "minute": 38,
          "team_name": "England",
          "tournament_id": "WC-1962"
         },
         {
          "Goals": 4,
          "goal_id": "G-0646",
          "match_id": "M-1962-25",
          "minute": 53,
          "team_name": "Brazil",
          "tournament_id": "WC-1962"
         },
         {
          "Goals": 7,
          "goal_id": "G-0647",
          "match_id": "M-1962-25",
          "minute": 59,
          "team_name": "Brazil",
          "tournament_id": "WC-1962"
         },
         {
          "Goals": 3,
          "goal_id": "G-0653",
          "match_id": "M-1962-29",
          "minute": 9,
          "team_name": "Brazil",
          "tournament_id": "WC-1962"
         },
         {
          "Goals": 5,
          "goal_id": "G-0654",
          "match_id": "M-1962-29",
          "minute": 32,
          "team_name": "Brazil",
          "tournament_id": "WC-1962"
         },
         {
          "Goals": 4,
          "goal_id": "G-0656",
          "match_id": "M-1962-29",
          "minute": 47,
          "team_name": "Brazil",
          "tournament_id": "WC-1962"
         },
         {
          "Goals": 3,
          "goal_id": "G-0658",
          "match_id": "M-1962-29",
          "minute": 78,
          "team_name": "Brazil",
          "tournament_id": "WC-1962"
         },
         {
          "Goals": 4,
          "goal_id": "G-0665",
          "match_id": "M-1962-32",
          "minute": 17,
          "team_name": "Brazil",
          "tournament_id": "WC-1962"
         },
         {
          "Goals": 5,
          "goal_id": "G-0666",
          "match_id": "M-1962-32",
          "minute": 69,
          "team_name": "Brazil",
          "tournament_id": "WC-1962"
         },
         {
          "Goals": 3,
          "goal_id": "G-0667",
          "match_id": "M-1962-32",
          "minute": 78,
          "team_name": "Brazil",
          "tournament_id": "WC-1962"
         },
         {
          "Goals": 8,
          "goal_id": "G-0673",
          "match_id": "M-1966-03",
          "minute": 15,
          "team_name": "Brazil",
          "tournament_id": "WC-1966"
         },
         {
          "Goals": 8,
          "goal_id": "G-0674",
          "match_id": "M-1966-03",
          "minute": 63,
          "team_name": "Brazil",
          "tournament_id": "WC-1966"
         },
         {
          "Goals": 3,
          "goal_id": "G-0679",
          "match_id": "M-1966-05",
          "minute": 62,
          "team_name": "France",
          "tournament_id": "WC-1966"
         },
         {
          "Goals": 3,
          "goal_id": "G-0680",
          "match_id": "M-1966-06",
          "minute": 65,
          "team_name": "Argentina",
          "tournament_id": "WC-1966"
         },
         {
          "Goals": 3,
          "goal_id": "G-0681",
          "match_id": "M-1966-06",
          "minute": 71,
          "team_name": "Spain",
          "tournament_id": "WC-1966"
         },
         {
          "Goals": 3,
          "goal_id": "G-0682",
          "match_id": "M-1966-06",
          "minute": 77,
          "team_name": "Argentina",
          "tournament_id": "WC-1966"
         },
         {
          "Goals": 2,
          "goal_id": "G-0687",
          "match_id": "M-1966-08",
          "minute": 8,
          "team_name": "Italy",
          "tournament_id": "WC-1966"
         },
         {
          "Goals": 3,
          "goal_id": "G-0688",
          "match_id": "M-1966-08",
          "minute": 88,
          "team_name": "Italy",
          "tournament_id": "WC-1966"
         },
         {
          "Goals": 2,
          "goal_id": "G-0689",
          "match_id": "M-1966-09",
          "minute": 15,
          "team_name": "France",
          "tournament_id": "WC-1966"
         },
         {
          "Goals": 3,
          "goal_id": "G-0690",
          "match_id": "M-1966-09",
          "minute": 26,
          "team_name": "Uruguay",
          "tournament_id": "WC-1966"
         },
         {
          "Goals": 3,
          "goal_id": "G-0691",
          "match_id": "M-1966-09",
          "minute": 31,
          "team_name": "Uruguay",
          "tournament_id": "WC-1966"
         },
         {
          "Goals": 1,
          "goal_id": "G-0693",
          "match_id": "M-1966-10",
          "minute": 57,
          "team_name": "Spain",
          "tournament_id": "WC-1966"
         },
         {
          "Goals": 2,
          "goal_id": "G-0694",
          "match_id": "M-1966-10",
          "minute": 75,
          "team_name": "Spain",
          "tournament_id": "WC-1966"
         },
         {
          "Goals": 2,
          "goal_id": "G-0696",
          "match_id": "M-1966-11",
          "minute": 14,
          "team_name": "Brazil",
          "tournament_id": "WC-1966"
         },
         {
          "Goals": 3,
          "goal_id": "G-0705",
          "match_id": "M-1966-16",
          "minute": 37,
          "team_name": "England",
          "tournament_id": "WC-1966"
         },
         {
          "Goals": 3,
          "goal_id": "G-0706",
          "match_id": "M-1966-16",
          "minute": 75,
          "team_name": "England",
          "tournament_id": "WC-1966"
         },
         {
          "Goals": 2,
          "goal_id": "G-0707",
          "match_id": "M-1966-18",
          "minute": 52,
          "team_name": "Argentina",
          "tournament_id": "WC-1966"
         },
         {
          "Goals": 3,
          "goal_id": "G-0708",
          "match_id": "M-1966-18",
          "minute": 79,
          "team_name": "Argentina",
          "tournament_id": "WC-1966"
         },
         {
          "Goals": 5,
          "goal_id": "G-0711",
          "match_id": "M-1966-19",
          "minute": 73,
          "team_name": "Brazil",
          "tournament_id": "WC-1966"
         },
         {
          "Goals": 5,
          "goal_id": "G-0714",
          "match_id": "M-1966-21",
          "minute": 38,
          "team_name": "England",
          "tournament_id": "WC-1966"
         },
         {
          "Goals": 3,
          "goal_id": "G-0715",
          "match_id": "M-1966-21",
          "minute": 75,
          "team_name": "England",
          "tournament_id": "WC-1966"
         },
         {
          "Goals": 2,
          "goal_id": "G-0716",
          "match_id": "M-1966-22",
          "minute": 23,
          "team_name": "Spain",
          "tournament_id": "WC-1966"
         },
         {
          "Goals": 2,
          "goal_id": "G-0726",
          "match_id": "M-1966-25",
          "minute": 78,
          "team_name": "England",
          "tournament_id": "WC-1966"
         },
         {
          "Goals": 2,
          "goal_id": "G-0745",
          "match_id": "M-1966-30",
          "minute": 30,
          "team_name": "England",
          "tournament_id": "WC-1966"
         },
         {
          "Goals": 2,
          "goal_id": "G-0746",
          "match_id": "M-1966-30",
          "minute": 80,
          "team_name": "England",
          "tournament_id": "WC-1966"
         },
         {
          "Goals": 1,
          "goal_id": "G-0752",
          "match_id": "M-1966-32",
          "minute": 18,
          "team_name": "England",
          "tournament_id": "WC-1966"
         },
         {
          "Goals": 2,
          "goal_id": "G-0753",
          "match_id": "M-1966-32",
          "minute": 78,
          "team_name": "England",
          "tournament_id": "WC-1966"
         },
         {
          "Goals": 1,
          "goal_id": "G-0755",
          "match_id": "M-1966-32",
          "minute": 101,
          "team_name": "England",
          "tournament_id": "WC-1966"
         },
         {
          "Goals": 1,
          "goal_id": "G-0756",
          "match_id": "M-1966-32",
          "minute": 120,
          "team_name": "England",
          "tournament_id": "WC-1966"
         },
         {
          "Goals": 4,
          "goal_id": "G-0757",
          "match_id": "M-1970-02",
          "minute": 23,
          "team_name": "Uruguay",
          "tournament_id": "WC-1970"
         },
         {
          "Goals": 1,
          "goal_id": "G-0758",
          "match_id": "M-1970-02",
          "minute": 50,
          "team_name": "Uruguay",
          "tournament_id": "WC-1970"
         },
         {
          "Goals": 1,
          "goal_id": "G-0759",
          "match_id": "M-1970-03",
          "minute": 65,
          "team_name": "England",
          "tournament_id": "WC-1970"
         },
         {
          "Goals": 2,
          "goal_id": "G-0768",
          "match_id": "M-1970-06",
          "minute": 10,
          "team_name": "Italy",
          "tournament_id": "WC-1970"
         },
         {
          "Goals": 1,
          "goal_id": "G-0770",
          "match_id": "M-1970-07",
          "minute": 24,
          "team_name": "Brazil",
          "tournament_id": "WC-1970"
         },
         {
          "Goals": 7,
          "goal_id": "G-0771",
          "match_id": "M-1970-07",
          "minute": 59,
          "team_name": "Brazil",
          "tournament_id": "WC-1970"
         },
         {
          "Goals": 1,
          "goal_id": "G-0772",
          "match_id": "M-1970-07",
          "minute": 61,
          "team_name": "Brazil",
          "tournament_id": "WC-1970"
         },
         {
          "Goals": 5,
          "goal_id": "G-0773",
          "match_id": "M-1970-07",
          "minute": 83,
          "team_name": "Brazil",
          "tournament_id": "WC-1970"
         },
         {
          "Goals": 7,
          "goal_id": "G-0794",
          "match_id": "M-1970-15",
          "minute": 59,
          "team_name": "Brazil",
          "tournament_id": "WC-1970"
         },
         {
          "Goals": 2,
          "goal_id": "G-0805",
          "match_id": "M-1970-19",
          "minute": 19,
          "team_name": "Brazil",
          "tournament_id": "WC-1970"
         },
         {
          "Goals": 3,
          "goal_id": "G-0806",
          "match_id": "M-1970-19",
          "minute": 22,
          "team_name": "Brazil",
          "tournament_id": "WC-1970"
         },
         {
          "Goals": 4,
          "goal_id": "G-0808",
          "match_id": "M-1970-19",
          "minute": 67,
          "team_name": "Brazil",
          "tournament_id": "WC-1970"
         },
         {
          "Goals": 3,
          "goal_id": "G-0815",
          "match_id": "M-1970-23",
          "minute": 50,
          "team_name": "England",
          "tournament_id": "WC-1970"
         },
         {
          "Goals": 3,
          "goal_id": "G-0818",
          "match_id": "M-1970-25",
          "minute": 11,
          "team_name": "Brazil",
          "tournament_id": "WC-1970"
         },
         {
          "Goals": 8,
          "goal_id": "G-0819",
          "match_id": "M-1970-25",
          "minute": 15,
          "team_name": "Brazil",
          "tournament_id": "WC-1970"
         },
         {
          "Goals": 4,
          "goal_id": "G-0821",
          "match_id": "M-1970-25",
          "minute": 52,
          "team_name": "Brazil",
          "tournament_id": "WC-1970"
         },
         {
          "Goals": 5,
          "goal_id": "G-0823",
          "match_id": "M-1970-25",
          "minute": 75,
          "team_name": "Brazil",
          "tournament_id": "WC-1970"
         },
         {
          "Goals": 5,
          "goal_id": "G-0825",
          "match_id": "M-1970-26",
          "minute": 25,
          "team_name": "Italy",
          "tournament_id": "WC-1970"
         },
         {
          "Goals": 3,
          "goal_id": "G-0826",
          "match_id": "M-1970-26",
          "minute": 63,
          "team_name": "Italy",
          "tournament_id": "WC-1970"
         },
         {
          "Goals": 1,
          "goal_id": "G-0827",
          "match_id": "M-1970-26",
          "minute": 70,
          "team_name": "Italy",
          "tournament_id": "WC-1970"
         },
         {
          "Goals": 1,
          "goal_id": "G-0828",
          "match_id": "M-1970-26",
          "minute": 76,
          "team_name": "Italy",
          "tournament_id": "WC-1970"
         },
         {
          "Goals": 1,
          "goal_id": "G-0829",
          "match_id": "M-1970-27",
          "minute": 117,
          "team_name": "Uruguay",
          "tournament_id": "WC-1970"
         },
         {
          "Goals": 3,
          "goal_id": "G-0830",
          "match_id": "M-1970-28",
          "minute": 31,
          "team_name": "England",
          "tournament_id": "WC-1970"
         },
         {
          "Goals": 1,
          "goal_id": "G-0831",
          "match_id": "M-1970-28",
          "minute": 49,
          "team_name": "England",
          "tournament_id": "WC-1970"
         },
         {
          "Goals": 2,
          "goal_id": "G-0835",
          "match_id": "M-1970-29",
          "minute": 19,
          "team_name": "Uruguay",
          "tournament_id": "WC-1970"
         },
         {
          "Goals": 6,
          "goal_id": "G-0836",
          "match_id": "M-1970-29",
          "minute": 44,
          "team_name": "Brazil",
          "tournament_id": "WC-1970"
         },
         {
          "Goals": 2,
          "goal_id": "G-0837",
          "match_id": "M-1970-29",
          "minute": 76,
          "team_name": "Brazil",
          "tournament_id": "WC-1970"
         },
         {
          "Goals": 1,
          "goal_id": "G-0838",
          "match_id": "M-1970-29",
          "minute": 89,
          "team_name": "Brazil",
          "tournament_id": "WC-1970"
         },
         {
          "Goals": 2,
          "goal_id": "G-0839",
          "match_id": "M-1970-30",
          "minute": 8,
          "team_name": "Italy",
          "tournament_id": "WC-1970"
         },
         {
          "Goals": 1,
          "goal_id": "G-0842",
          "match_id": "M-1970-30",
          "minute": 98,
          "team_name": "Italy",
          "tournament_id": "WC-1970"
         },
         {
          "Goals": 1,
          "goal_id": "G-0843",
          "match_id": "M-1970-30",
          "minute": 104,
          "team_name": "Italy",
          "tournament_id": "WC-1970"
         },
         {
          "Goals": 1,
          "goal_id": "G-0845",
          "match_id": "M-1970-30",
          "minute": 111,
          "team_name": "Italy",
          "tournament_id": "WC-1970"
         },
         {
          "Goals": 4,
          "goal_id": "G-0847",
          "match_id": "M-1970-32",
          "minute": 18,
          "team_name": "Brazil",
          "tournament_id": "WC-1970"
         },
         {
          "Goals": 3,
          "goal_id": "G-0848",
          "match_id": "M-1970-32",
          "minute": 37,
          "team_name": "Italy",
          "tournament_id": "WC-1970"
         },
         {
          "Goals": 6,
          "goal_id": "G-0849",
          "match_id": "M-1970-32",
          "minute": 66,
          "team_name": "Brazil",
          "tournament_id": "WC-1970"
         },
         {
          "Goals": 5,
          "goal_id": "G-0850",
          "match_id": "M-1970-32",
          "minute": 71,
          "team_name": "Brazil",
          "tournament_id": "WC-1970"
         },
         {
          "Goals": 3,
          "goal_id": "G-0851",
          "match_id": "M-1970-32",
          "minute": 86,
          "team_name": "Brazil",
          "tournament_id": "WC-1970"
         },
         {
          "Goals": 2,
          "goal_id": "G-0860",
          "match_id": "M-1974-07",
          "minute": 52,
          "team_name": "Italy",
          "tournament_id": "WC-1974"
         },
         {
          "Goals": 2,
          "goal_id": "G-0861",
          "match_id": "M-1974-07",
          "minute": 66,
          "team_name": "Italy",
          "tournament_id": "WC-1974"
         },
         {
          "Goals": 1,
          "goal_id": "G-0862",
          "match_id": "M-1974-07",
          "minute": 79,
          "team_name": "Italy",
          "tournament_id": "WC-1974"
         },
         {
          "Goals": 5,
          "goal_id": "G-0865",
          "match_id": "M-1974-08",
          "minute": 60,
          "team_name": "Argentina",
          "tournament_id": "WC-1974"
         },
         {
          "Goals": 1,
          "goal_id": "G-0867",
          "match_id": "M-1974-08",
          "minute": 66,
          "team_name": "Argentina",
          "tournament_id": "WC-1974"
         },
         {
          "Goals": 2,
          "goal_id": "G-0883",
          "match_id": "M-1974-13",
          "minute": 87,
          "team_name": "Uruguay",
          "tournament_id": "WC-1974"
         },
         {
          "Goals": 4,
          "goal_id": "G-0884",
          "match_id": "M-1974-15",
          "minute": 20,
          "team_name": "Argentina",
          "tournament_id": "WC-1974"
         },
         {
          "Goals": 4,
          "goal_id": "G-0885",
          "match_id": "M-1974-15",
          "minute": 35,
          "team_name": "Italy",
          "tournament_id": "WC-1974"
         },
         {
          "Goals": 3,
          "goal_id": "G-0895",
          "match_id": "M-1974-19",
          "minute": 12,
          "team_name": "Brazil",
          "tournament_id": "WC-1974"
         },
         {
          "Goals": 6,
          "goal_id": "G-0896",
          "match_id": "M-1974-19",
          "minute": 66,
          "team_name": "Brazil",
          "tournament_id": "WC-1974"
         },
         {
          "Goals": 5,
          "goal_id": "G-0897",
          "match_id": "M-1974-19",
          "minute": 79,
          "team_name": "Brazil",
          "tournament_id": "WC-1974"
         },
         {
          "Goals": 1,
          "goal_id": "G-0907",
          "match_id": "M-1974-23",
          "minute": 15,
          "team_name": "Argentina",
          "tournament_id": "WC-1974"
         },
         {
          "Goals": 2,
          "goal_id": "G-0908",
          "match_id": "M-1974-23",
          "minute": 18,
          "team_name": "Argentina",
          "tournament_id": "WC-1974"
         },
         {
          "Goals": 4,
          "goal_id": "G-0909",
          "match_id": "M-1974-23",
          "minute": 55,
          "team_name": "Argentina",
          "tournament_id": "WC-1974"
         },
         {
          "Goals": 1,
          "goal_id": "G-0911",
          "match_id": "M-1974-23",
          "minute": 68,
          "team_name": "Argentina",
          "tournament_id": "WC-1974"
         },
         {
          "Goals": 2,
          "goal_id": "G-0914",
          "match_id": "M-1974-24",
          "minute": 85,
          "team_name": "Italy",
          "tournament_id": "WC-1974"
         },
         {
          "Goals": 1,
          "goal_id": "G-0917",
          "match_id": "M-1974-26",
          "minute": 60,
          "team_name": "Brazil",
          "tournament_id": "WC-1974"
         },
         {
          "Goals": 5,
          "goal_id": "G-0923",
          "match_id": "M-1974-29",
          "minute": 32,
          "team_name": "Brazil",
          "tournament_id": "WC-1974"
         },
         {
          "Goals": 3,
          "goal_id": "G-0924",
          "match_id": "M-1974-29",
          "minute": 35,
          "team_name": "Argentina",
          "tournament_id": "WC-1974"
         },
         {
          "Goals": 5,
          "goal_id": "G-0925",
          "match_id": "M-1974-29",
          "minute": 49,
          "team_name": "Brazil",
          "tournament_id": "WC-1974"
         },
         {
          "Goals": 4,
          "goal_id": "G-0939",
          "match_id": "M-1974-34",
          "minute": 20,
          "team_name": "Argentina",
          "tournament_id": "WC-1974"
         },
         {
          "Goals": 3,
          "goal_id": "G-0949",
          "match_id": "M-1978-02",
          "minute": 1,
          "team_name": "France",
          "tournament_id": "WC-1978"
         },
         {
          "Goals": 4,
          "goal_id": "G-0950",
          "match_id": "M-1978-02",
          "minute": 29,
          "team_name": "Italy",
          "tournament_id": "WC-1978"
         },
         {
          "Goals": 1,
          "goal_id": "G-0951",
          "match_id": "M-1978-02",
          "minute": 54,
          "team_name": "Italy",
          "tournament_id": "WC-1978"
         },
         {
          "Goals": 2,
          "goal_id": "G-0957",
          "match_id": "M-1978-04",
          "minute": 14,
          "team_name": "Argentina",
          "tournament_id": "WC-1978"
         },
         {
          "Goals": 3,
          "goal_id": "G-0958",
          "match_id": "M-1978-04",
          "minute": 83,
          "team_name": "Argentina",
          "tournament_id": "WC-1978"
         },
         {
          "Goals": 3,
          "goal_id": "G-0960",
          "match_id": "M-1978-05",
          "minute": 21,
          "team_name": "Spain",
          "tournament_id": "WC-1978"
         },
         {
          "Goals": 2,
          "goal_id": "G-0963",
          "match_id": "M-1978-06",
          "minute": 45,
          "team_name": "Brazil",
          "tournament_id": "WC-1978"
         },
         {
          "Goals": 1,
          "goal_id": "G-0971",
          "match_id": "M-1978-09",
          "minute": 34,
          "team_name": "Italy",
          "tournament_id": "WC-1978"
         },
         {
          "Goals": 4,
          "goal_id": "G-0972",
          "match_id": "M-1978-09",
          "minute": 35,
          "team_name": "Italy",
          "tournament_id": "WC-1978"
         },
         {
          "Goals": 1,
          "goal_id": "G-0973",
          "match_id": "M-1978-09",
          "minute": 61,
          "team_name": "Italy",
          "tournament_id": "WC-1978"
         },
         {
          "Goals": 1,
          "goal_id": "G-0982",
          "match_id": "M-1978-12",
          "minute": 45,
          "team_name": "Argentina",
          "tournament_id": "WC-1978"
         },
         {
          "Goals": 2,
          "goal_id": "G-0983",
          "match_id": "M-1978-12",
          "minute": 60,
          "team_name": "France",
          "tournament_id": "WC-1978"
         },
         {
          "Goals": 3,
          "goal_id": "G-0984",
          "match_id": "M-1978-12",
          "minute": 73,
          "team_name": "Argentina",
          "tournament_id": "WC-1978"
         },
         {
          "Goals": 1,
          "goal_id": "G-0988",
          "match_id": "M-1978-17",
          "minute": 23,
          "team_name": "France",
          "tournament_id": "WC-1978"
         },
         {
          "Goals": 2,
          "goal_id": "G-0989",
          "match_id": "M-1978-17",
          "minute": 38,
          "team_name": "France",
          "tournament_id": "WC-1978"
         },
         {
          "Goals": 1,
          "goal_id": "G-0991",
          "match_id": "M-1978-17",
          "minute": 42,
          "team_name": "France",
          "tournament_id": "WC-1978"
         },
         {
          "Goals": 4,
          "goal_id": "G-0996",
          "match_id": "M-1978-20",
          "minute": 67,
          "team_name": "Italy",
          "tournament_id": "WC-1978"
         },
         {
          "Goals": 2,
          "goal_id": "G-0997",
          "match_id": "M-1978-21",
          "minute": 40,
          "team_name": "Brazil",
          "tournament_id": "WC-1978"
         },
         {
          "Goals": 2,
          "goal_id": "G-0998",
          "match_id": "M-1978-22",
          "minute": 75,
          "team_name": "Spain",
          "tournament_id": "WC-1978"
         },
         {
          "Goals": 8,
          "goal_id": "G-1015",
          "match_id": "M-1978-27",
          "minute": 15,
          "team_name": "Brazil",
          "tournament_id": "WC-1978"
         },
         {
          "Goals": 3,
          "goal_id": "G-1016",
          "match_id": "M-1978-27",
          "minute": 27,
          "team_name": "Brazil",
          "tournament_id": "WC-1978"
         },
         {
          "Goals": 5,
          "goal_id": "G-1017",
          "match_id": "M-1978-27",
          "minute": 72,
          "team_name": "Brazil",
          "tournament_id": "WC-1978"
         },
         {
          "Goals": 2,
          "goal_id": "G-1018",
          "match_id": "M-1978-28",
          "minute": 16,
          "team_name": "Argentina",
          "tournament_id": "WC-1978"
         },
         {
          "Goals": 2,
          "goal_id": "G-1019",
          "match_id": "M-1978-28",
          "minute": 71,
          "team_name": "Argentina",
          "tournament_id": "WC-1978"
         },
         {
          "Goals": 1,
          "goal_id": "G-1021",
          "match_id": "M-1978-30",
          "minute": 13,
          "team_name": "Italy",
          "tournament_id": "WC-1978"
         },
         {
          "Goals": 3,
          "goal_id": "G-1031",
          "match_id": "M-1978-34",
          "minute": 19,
          "team_name": "Italy",
          "tournament_id": "WC-1978"
         },
         {
          "Goals": 3,
          "goal_id": "G-1034",
          "match_id": "M-1978-35",
          "minute": 13,
          "team_name": "Brazil",
          "tournament_id": "WC-1978"
         },
         {
          "Goals": 3,
          "goal_id": "G-1036",
          "match_id": "M-1978-35",
          "minute": 58,
          "team_name": "Brazil",
          "tournament_id": "WC-1978"
         },
         {
          "Goals": 8,
          "goal_id": "G-1037",
          "match_id": "M-1978-35",
          "minute": 63,
          "team_name": "Brazil",
          "tournament_id": "WC-1978"
         },
         {
          "Goals": 2,
          "goal_id": "G-1038",
          "match_id": "M-1978-36",
          "minute": 21,
          "team_name": "Argentina",
          "tournament_id": "WC-1978"
         },
         {
          "Goals": 1,
          "goal_id": "G-1039",
          "match_id": "M-1978-36",
          "minute": 43,
          "team_name": "Argentina",
          "tournament_id": "WC-1978"
         },
         {
          "Goals": 2,
          "goal_id": "G-1040",
          "match_id": "M-1978-36",
          "minute": 49,
          "team_name": "Argentina",
          "tournament_id": "WC-1978"
         },
         {
          "Goals": 2,
          "goal_id": "G-1041",
          "match_id": "M-1978-36",
          "minute": 50,
          "team_name": "Argentina",
          "tournament_id": "WC-1978"
         },
         {
          "Goals": 3,
          "goal_id": "G-1042",
          "match_id": "M-1978-36",
          "minute": 67,
          "team_name": "Argentina",
          "tournament_id": "WC-1978"
         },
         {
          "Goals": 1,
          "goal_id": "G-1043",
          "match_id": "M-1978-36",
          "minute": 72,
          "team_name": "Argentina",
          "tournament_id": "WC-1978"
         },
         {
          "Goals": 2,
          "goal_id": "G-1044",
          "match_id": "M-1978-37",
          "minute": 38,
          "team_name": "Italy",
          "tournament_id": "WC-1978"
         },
         {
          "Goals": 5,
          "goal_id": "G-1045",
          "match_id": "M-1978-37",
          "minute": 64,
          "team_name": "Brazil",
          "tournament_id": "WC-1978"
         },
         {
          "Goals": 5,
          "goal_id": "G-1046",
          "match_id": "M-1978-37",
          "minute": 71,
          "team_name": "Brazil",
          "tournament_id": "WC-1978"
         },
         {
          "Goals": 2,
          "goal_id": "G-1047",
          "match_id": "M-1978-38",
          "minute": 38,
          "team_name": "Argentina",
          "tournament_id": "WC-1978"
         },
         {
          "Goals": 1,
          "goal_id": "G-1049",
          "match_id": "M-1978-38",
          "minute": 105,
          "team_name": "Argentina",
          "tournament_id": "WC-1978"
         },
         {
          "Goals": 1,
          "goal_id": "G-1050",
          "match_id": "M-1978-38",
          "minute": 115,
          "team_name": "Argentina",
          "tournament_id": "WC-1978"
         },
         {
          "Goals": 5,
          "goal_id": "G-1053",
          "match_id": "M-1982-03",
          "minute": 75,
          "team_name": "Brazil",
          "tournament_id": "WC-1982"
         },
         {
          "Goals": 3,
          "goal_id": "G-1054",
          "match_id": "M-1982-03",
          "minute": 88,
          "team_name": "Brazil",
          "tournament_id": "WC-1982"
         },
         {
          "Goals": 1,
          "goal_id": "G-1076",
          "match_id": "M-1982-08",
          "minute": 1,
          "team_name": "England",
          "tournament_id": "WC-1982"
         },
         {
          "Goals": 3,
          "goal_id": "G-1077",
          "match_id": "M-1982-08",
          "minute": 24,
          "team_name": "France",
          "tournament_id": "WC-1982"
         },
         {
          "Goals": 3,
          "goal_id": "G-1078",
          "match_id": "M-1982-08",
          "minute": 67,
          "team_name": "England",
          "tournament_id": "WC-1982"
         },
         {
          "Goals": 4,
          "goal_id": "G-1079",
          "match_id": "M-1982-08",
          "minute": 83,
          "team_name": "England",
          "tournament_id": "WC-1982"
         },
         {
          "Goals": 1,
          "goal_id": "G-1081",
          "match_id": "M-1982-09",
          "minute": 65,
          "team_name": "Spain",
          "tournament_id": "WC-1982"
         },
         {
          "Goals": 4,
          "goal_id": "G-1085",
          "match_id": "M-1982-13",
          "minute": 18,
          "team_name": "Italy",
          "tournament_id": "WC-1982"
         },
         {
          "Goals": 2,
          "goal_id": "G-1087",
          "match_id": "M-1982-14",
          "minute": 26,
          "team_name": "Argentina",
          "tournament_id": "WC-1982"
         },
         {
          "Goals": 3,
          "goal_id": "G-1088",
          "match_id": "M-1982-14",
          "minute": 28,
          "team_name": "Argentina",
          "tournament_id": "WC-1982"
         },
         {
          "Goals": 2,
          "goal_id": "G-1089",
          "match_id": "M-1982-14",
          "minute": 57,
          "team_name": "Argentina",
          "tournament_id": "WC-1982"
         },
         {
          "Goals": 5,
          "goal_id": "G-1090",
          "match_id": "M-1982-14",
          "minute": 60,
          "team_name": "Argentina",
          "tournament_id": "WC-1982"
         },
         {
          "Goals": 3,
          "goal_id": "G-1093",
          "match_id": "M-1982-15",
          "minute": 33,
          "team_name": "Brazil",
          "tournament_id": "WC-1982"
         },
         {
          "Goals": 3,
          "goal_id": "G-1094",
          "match_id": "M-1982-15",
          "minute": 48,
          "team_name": "Brazil",
          "tournament_id": "WC-1982"
         },
         {
          "Goals": 8,
          "goal_id": "G-1095",
          "match_id": "M-1982-15",
          "minute": 63,
          "team_name": "Brazil",
          "tournament_id": "WC-1982"
         },
         {
          "Goals": 5,
          "goal_id": "G-1096",
          "match_id": "M-1982-15",
          "minute": 87,
          "team_name": "Brazil",
          "tournament_id": "WC-1982"
         },
         {
          "Goals": 4,
          "goal_id": "G-1106",
          "match_id": "M-1982-20",
          "minute": 62,
          "team_name": "England",
          "tournament_id": "WC-1982"
         },
         {
          "Goals": 3,
          "goal_id": "G-1107",
          "match_id": "M-1982-20",
          "minute": 66,
          "team_name": "England",
          "tournament_id": "WC-1982"
         },
         {
          "Goals": 2,
          "goal_id": "G-1109",
          "match_id": "M-1982-21",
          "minute": 14,
          "team_name": "Spain",
          "tournament_id": "WC-1982"
         },
         {
          "Goals": 2,
          "goal_id": "G-1110",
          "match_id": "M-1982-21",
          "minute": 66,
          "team_name": "Spain",
          "tournament_id": "WC-1982"
         },
         {
          "Goals": 1,
          "goal_id": "G-1113",
          "match_id": "M-1982-23",
          "minute": 31,
          "team_name": "France",
          "tournament_id": "WC-1982"
         },
         {
          "Goals": 3,
          "goal_id": "G-1114",
          "match_id": "M-1982-23",
          "minute": 43,
          "team_name": "France",
          "tournament_id": "WC-1982"
         },
         {
          "Goals": 3,
          "goal_id": "G-1115",
          "match_id": "M-1982-23",
          "minute": 48,
          "team_name": "France",
          "tournament_id": "WC-1982"
         },
         {
          "Goals": 2,
          "goal_id": "G-1117",
          "match_id": "M-1982-23",
          "minute": 89,
          "team_name": "France",
          "tournament_id": "WC-1982"
         },
         {
          "Goals": 2,
          "goal_id": "G-1132",
          "match_id": "M-1982-28",
          "minute": 60,
          "team_name": "Italy",
          "tournament_id": "WC-1982"
         },
         {
          "Goals": 1,
          "goal_id": "G-1134",
          "match_id": "M-1982-29",
          "minute": 22,
          "team_name": "Argentina",
          "tournament_id": "WC-1982"
         },
         {
          "Goals": 1,
          "goal_id": "G-1135",
          "match_id": "M-1982-29",
          "minute": 54,
          "team_name": "Argentina",
          "tournament_id": "WC-1982"
         },
         {
          "Goals": 1,
          "goal_id": "G-1136",
          "match_id": "M-1982-30",
          "minute": 28,
          "team_name": "Brazil",
          "tournament_id": "WC-1982"
         },
         {
          "Goals": 3,
          "goal_id": "G-1137",
          "match_id": "M-1982-30",
          "minute": 31,
          "team_name": "Brazil",
          "tournament_id": "WC-1982"
         },
         {
          "Goals": 5,
          "goal_id": "G-1138",
          "match_id": "M-1982-30",
          "minute": 64,
          "team_name": "Brazil",
          "tournament_id": "WC-1982"
         },
         {
          "Goals": 2,
          "goal_id": "G-1139",
          "match_id": "M-1982-30",
          "minute": 70,
          "team_name": "Brazil",
          "tournament_id": "WC-1982"
         },
         {
          "Goals": 2,
          "goal_id": "G-1145",
          "match_id": "M-1982-32",
          "minute": 66,
          "team_name": "France",
          "tournament_id": "WC-1982"
         },
         {
          "Goals": 2,
          "goal_id": "G-1149",
          "match_id": "M-1982-35",
          "minute": 27,
          "team_name": "England",
          "tournament_id": "WC-1982"
         },
         {
          "Goals": 1,
          "goal_id": "G-1151",
          "match_id": "M-1982-37",
          "minute": 39,
          "team_name": "France",
          "tournament_id": "WC-1982"
         },
         {
          "Goals": 2,
          "goal_id": "G-1155",
          "match_id": "M-1982-39",
          "minute": 57,
          "team_name": "Italy",
          "tournament_id": "WC-1982"
         },
         {
          "Goals": 4,
          "goal_id": "G-1156",
          "match_id": "M-1982-39",
          "minute": 67,
          "team_name": "Italy",
          "tournament_id": "WC-1982"
         },
         {
          "Goals": 3,
          "goal_id": "G-1157",
          "match_id": "M-1982-39",
          "minute": 83,
          "team_name": "Argentina",
          "tournament_id": "WC-1982"
         },
         {
          "Goals": 3,
          "goal_id": "G-1163",
          "match_id": "M-1982-43",
          "minute": 11,
          "team_name": "Brazil",
          "tournament_id": "WC-1982"
         },
         {
          "Goals": 6,
          "goal_id": "G-1164",
          "match_id": "M-1982-43",
          "minute": 66,
          "team_name": "Brazil",
          "tournament_id": "WC-1982"
         },
         {
          "Goals": 5,
          "goal_id": "G-1165",
          "match_id": "M-1982-43",
          "minute": 75,
          "team_name": "Brazil",
          "tournament_id": "WC-1982"
         },
         {
          "Goals": 2,
          "goal_id": "G-1166",
          "match_id": "M-1982-43",
          "minute": 89,
          "team_name": "Argentina",
          "tournament_id": "WC-1982"
         },
         {
          "Goals": 3,
          "goal_id": "G-1169",
          "match_id": "M-1982-44",
          "minute": 82,
          "team_name": "Spain",
          "tournament_id": "WC-1982"
         },
         {
          "Goals": 2,
          "goal_id": "G-1170",
          "match_id": "M-1982-45",
          "minute": 33,
          "team_name": "France",
          "tournament_id": "WC-1982"
         },
         {
          "Goals": 3,
          "goal_id": "G-1171",
          "match_id": "M-1982-45",
          "minute": 46,
          "team_name": "France",
          "tournament_id": "WC-1982"
         },
         {
          "Goals": 5,
          "goal_id": "G-1172",
          "match_id": "M-1982-45",
          "minute": 68,
          "team_name": "France",
          "tournament_id": "WC-1982"
         },
         {
          "Goals": 3,
          "goal_id": "G-1174",
          "match_id": "M-1982-45",
          "minute": 80,
          "team_name": "France",
          "tournament_id": "WC-1982"
         },
         {
          "Goals": 1,
          "goal_id": "G-1175",
          "match_id": "M-1982-47",
          "minute": 5,
          "team_name": "Italy",
          "tournament_id": "WC-1982"
         },
         {
          "Goals": 3,
          "goal_id": "G-1176",
          "match_id": "M-1982-47",
          "minute": 12,
          "team_name": "Brazil",
          "tournament_id": "WC-1982"
         },
         {
          "Goals": 5,
          "goal_id": "G-1177",
          "match_id": "M-1982-47",
          "minute": 25,
          "team_name": "Italy",
          "tournament_id": "WC-1982"
         },
         {
          "Goals": 5,
          "goal_id": "G-1178",
          "match_id": "M-1982-47",
          "minute": 68,
          "team_name": "Brazil",
          "tournament_id": "WC-1982"
         },
         {
          "Goals": 1,
          "goal_id": "G-1179",
          "match_id": "M-1982-47",
          "minute": 74,
          "team_name": "Italy",
          "tournament_id": "WC-1982"
         },
         {
          "Goals": 2,
          "goal_id": "G-1180",
          "match_id": "M-1982-49",
          "minute": 22,
          "team_name": "Italy",
          "tournament_id": "WC-1982"
         },
         {
          "Goals": 2,
          "goal_id": "G-1181",
          "match_id": "M-1982-49",
          "minute": 73,
          "team_name": "Italy",
          "tournament_id": "WC-1982"
         },
         {
          "Goals": 1,
          "goal_id": "G-1183",
          "match_id": "M-1982-50",
          "minute": 26,
          "team_name": "France",
          "tournament_id": "WC-1982"
         },
         {
          "Goals": 1,
          "goal_id": "G-1184",
          "match_id": "M-1982-50",
          "minute": 92,
          "team_name": "France",
          "tournament_id": "WC-1982"
         },
         {
          "Goals": 1,
          "goal_id": "G-1185",
          "match_id": "M-1982-50",
          "minute": 98,
          "team_name": "France",
          "tournament_id": "WC-1982"
         },
         {
          "Goals": 3,
          "goal_id": "G-1188",
          "match_id": "M-1982-51",
          "minute": 13,
          "team_name": "France",
          "tournament_id": "WC-1982"
         },
         {
          "Goals": 4,
          "goal_id": "G-1192",
          "match_id": "M-1982-51",
          "minute": 72,
          "team_name": "France",
          "tournament_id": "WC-1982"
         },
         {
          "Goals": 2,
          "goal_id": "G-1193",
          "match_id": "M-1982-52",
          "minute": 57,
          "team_name": "Italy",
          "tournament_id": "WC-1982"
         },
         {
          "Goals": 4,
          "goal_id": "G-1194",
          "match_id": "M-1982-52",
          "minute": 69,
          "team_name": "Italy",
          "tournament_id": "WC-1982"
         },
         {
          "Goals": 4,
          "goal_id": "G-1195",
          "match_id": "M-1982-52",
          "minute": 81,
          "team_name": "Italy",
          "tournament_id": "WC-1982"
         },
         {
          "Goals": 3,
          "goal_id": "G-1197",
          "match_id": "M-1986-01",
          "minute": 44,
          "team_name": "Italy",
          "tournament_id": "WC-1986"
         },
         {
          "Goals": 7,
          "goal_id": "G-1199",
          "match_id": "M-1986-02",
          "minute": 62,
          "team_name": "Brazil",
          "tournament_id": "WC-1986"
         },
         {
          "Goals": 4,
          "goal_id": "G-1200",
          "match_id": "M-1986-03",
          "minute": 79,
          "team_name": "France",
          "tournament_id": "WC-1986"
         },
         {
          "Goals": 3,
          "goal_id": "G-1201",
          "match_id": "M-1986-04",
          "minute": 6,
          "team_name": "Argentina",
          "tournament_id": "WC-1986"
         },
         {
          "Goals": 2,
          "goal_id": "G-1202",
          "match_id": "M-1986-04",
          "minute": 18,
          "team_name": "Argentina",
          "tournament_id": "WC-1986"
         },
         {
          "Goals": 2,
          "goal_id": "G-1203",
          "match_id": "M-1986-04",
          "minute": 46,
          "team_name": "Argentina",
          "tournament_id": "WC-1986"
         },
         {
          "Goals": 1,
          "goal_id": "G-1218",
          "match_id": "M-1986-11",
          "minute": 4,
          "team_name": "Uruguay",
          "tournament_id": "WC-1986"
         },
         {
          "Goals": 3,
          "goal_id": "G-1221",
          "match_id": "M-1986-13",
          "minute": 6,
          "team_name": "Italy",
          "tournament_id": "WC-1986"
         },
         {
          "Goals": 2,
          "goal_id": "G-1222",
          "match_id": "M-1986-13",
          "minute": 34,
          "team_name": "Argentina",
          "tournament_id": "WC-1986"
         },
         {
          "Goals": 3,
          "goal_id": "G-1224",
          "match_id": "M-1986-14",
          "minute": 62,
          "team_name": "France",
          "tournament_id": "WC-1986"
         },
         {
          "Goals": 6,
          "goal_id": "G-1229",
          "match_id": "M-1986-17",
          "minute": 66,
          "team_name": "Brazil",
          "tournament_id": "WC-1986"
         },
         {
          "Goals": 1,
          "goal_id": "G-1232",
          "match_id": "M-1986-20",
          "minute": 1,
          "team_name": "Spain",
          "tournament_id": "WC-1986"
         },
         {
          "Goals": 3,
          "goal_id": "G-1233",
          "match_id": "M-1986-20",
          "minute": 18,
          "team_name": "Spain",
          "tournament_id": "WC-1986"
         },
         {
          "Goals": 1,
          "goal_id": "G-1244",
          "match_id": "M-1986-24",
          "minute": 45,
          "team_name": "Uruguay",
          "tournament_id": "WC-1986"
         },
         {
          "Goals": 2,
          "goal_id": "G-1249",
          "match_id": "M-1986-25",
          "minute": 29,
          "team_name": "France",
          "tournament_id": "WC-1986"
         },
         {
          "Goals": 3,
          "goal_id": "G-1250",
          "match_id": "M-1986-25",
          "minute": 62,
          "team_name": "France",
          "tournament_id": "WC-1986"
         },
         {
          "Goals": 2,
          "goal_id": "G-1251",
          "match_id": "M-1986-25",
          "minute": 84,
          "team_name": "France",
          "tournament_id": "WC-1986"
         },
         {
          "Goals": 3,
          "goal_id": "G-1254",
          "match_id": "M-1986-27",
          "minute": 4,
          "team_name": "Argentina",
          "tournament_id": "WC-1986"
         },
         {
          "Goals": 3,
          "goal_id": "G-1255",
          "match_id": "M-1986-27",
          "minute": 77,
          "team_name": "Argentina",
          "tournament_id": "WC-1986"
         },
         {
          "Goals": 2,
          "goal_id": "G-1256",
          "match_id": "M-1986-28",
          "minute": 17,
          "team_name": "Italy",
          "tournament_id": "WC-1986"
         },
         {
          "Goals": 2,
          "goal_id": "G-1258",
          "match_id": "M-1986-28",
          "minute": 73,
          "team_name": "Italy",
          "tournament_id": "WC-1986"
         },
         {
          "Goals": 2,
          "goal_id": "G-1259",
          "match_id": "M-1986-28",
          "minute": 82,
          "team_name": "Italy",
          "tournament_id": "WC-1986"
         },
         {
          "Goals": 4,
          "goal_id": "G-1266",
          "match_id": "M-1986-31",
          "minute": 9,
          "team_name": "England",
          "tournament_id": "WC-1986"
         },
         {
          "Goals": 5,
          "goal_id": "G-1267",
          "match_id": "M-1986-31",
          "minute": 14,
          "team_name": "England",
          "tournament_id": "WC-1986"
         },
         {
          "Goals": 2,
          "goal_id": "G-1268",
          "match_id": "M-1986-31",
          "minute": 34,
          "team_name": "England",
          "tournament_id": "WC-1986"
         },
         {
          "Goals": 2,
          "goal_id": "G-1273",
          "match_id": "M-1986-33",
          "minute": 15,
          "team_name": "Spain",
          "tournament_id": "WC-1986"
         },
         {
          "Goals": 2,
          "goal_id": "G-1274",
          "match_id": "M-1986-33",
          "minute": 68,
          "team_name": "Spain",
          "tournament_id": "WC-1986"
         },
         {
          "Goals": 2,
          "goal_id": "G-1275",
          "match_id": "M-1986-33",
          "minute": 70,
          "team_name": "Spain",
          "tournament_id": "WC-1986"
         },
         {
          "Goals": 8,
          "goal_id": "G-1276",
          "match_id": "M-1986-34",
          "minute": 15,
          "team_name": "Brazil",
          "tournament_id": "WC-1986"
         },
         {
          "Goals": 3,
          "goal_id": "G-1277",
          "match_id": "M-1986-34",
          "minute": 42,
          "team_name": "Brazil",
          "tournament_id": "WC-1986"
         },
         {
          "Goals": 5,
          "goal_id": "G-1278",
          "match_id": "M-1986-34",
          "minute": 87,
          "team_name": "Brazil",
          "tournament_id": "WC-1986"
         },
         {
          "Goals": 4,
          "goal_id": "G-1290",
          "match_id": "M-1986-39",
          "minute": 30,
          "team_name": "Brazil",
          "tournament_id": "WC-1986"
         },
         {
          "Goals": 7,
          "goal_id": "G-1291",
          "match_id": "M-1986-39",
          "minute": 55,
          "team_name": "Brazil",
          "tournament_id": "WC-1986"
         },
         {
          "Goals": 5,
          "goal_id": "G-1292",
          "match_id": "M-1986-39",
          "minute": 79,
          "team_name": "Brazil",
          "tournament_id": "WC-1986"
         },
         {
          "Goals": 5,
          "goal_id": "G-1293",
          "match_id": "M-1986-39",
          "minute": 83,
          "team_name": "Brazil",
          "tournament_id": "WC-1986"
         },
         {
          "Goals": 1,
          "goal_id": "G-1294",
          "match_id": "M-1986-40",
          "minute": 42,
          "team_name": "Argentina",
          "tournament_id": "WC-1986"
         },
         {
          "Goals": 2,
          "goal_id": "G-1295",
          "match_id": "M-1986-41",
          "minute": 15,
          "team_name": "France",
          "tournament_id": "WC-1986"
         },
         {
          "Goals": 3,
          "goal_id": "G-1296",
          "match_id": "M-1986-41",
          "minute": 57,
          "team_name": "France",
          "tournament_id": "WC-1986"
         },
         {
          "Goals": 3,
          "goal_id": "G-1298",
          "match_id": "M-1986-43",
          "minute": 31,
          "team_name": "England",
          "tournament_id": "WC-1986"
         },
         {
          "Goals": 2,
          "goal_id": "G-1299",
          "match_id": "M-1986-43",
          "minute": 56,
          "team_name": "England",
          "tournament_id": "WC-1986"
         },
         {
          "Goals": 1,
          "goal_id": "G-1300",
          "match_id": "M-1986-43",
          "minute": 73,
          "team_name": "England",
          "tournament_id": "WC-1986"
         },
         {
          "Goals": 1,
          "goal_id": "G-1302",
          "match_id": "M-1986-44",
          "minute": 43,
          "team_name": "Spain",
          "tournament_id": "WC-1986"
         },
         {
          "Goals": 2,
          "goal_id": "G-1303",
          "match_id": "M-1986-44",
          "minute": 56,
          "team_name": "Spain",
          "tournament_id": "WC-1986"
         },
         {
          "Goals": 2,
          "goal_id": "G-1304",
          "match_id": "M-1986-44",
          "minute": 68,
          "team_name": "Spain",
          "tournament_id": "WC-1986"
         },
         {
          "Goals": 1,
          "goal_id": "G-1305",
          "match_id": "M-1986-44",
          "minute": 80,
          "team_name": "Spain",
          "tournament_id": "WC-1986"
         },
         {
          "Goals": 2,
          "goal_id": "G-1306",
          "match_id": "M-1986-44",
          "minute": 88,
          "team_name": "Spain",
          "tournament_id": "WC-1986"
         },
         {
          "Goals": 4,
          "goal_id": "G-1307",
          "match_id": "M-1986-45",
          "minute": 17,
          "team_name": "Brazil",
          "tournament_id": "WC-1986"
         },
         {
          "Goals": 4,
          "goal_id": "G-1308",
          "match_id": "M-1986-45",
          "minute": 40,
          "team_name": "France",
          "tournament_id": "WC-1986"
         },
         {
          "Goals": 3,
          "goal_id": "G-1309",
          "match_id": "M-1986-47",
          "minute": 51,
          "team_name": "Argentina",
          "tournament_id": "WC-1986"
         },
         {
          "Goals": 4,
          "goal_id": "G-1310",
          "match_id": "M-1986-47",
          "minute": 55,
          "team_name": "Argentina",
          "tournament_id": "WC-1986"
         },
         {
          "Goals": 5,
          "goal_id": "G-1311",
          "match_id": "M-1986-47",
          "minute": 81,
          "team_name": "England",
          "tournament_id": "WC-1986"
         },
         {
          "Goals": 1,
          "goal_id": "G-1313",
          "match_id": "M-1986-48",
          "minute": 85,
          "team_name": "Spain",
          "tournament_id": "WC-1986"
         },
         {
          "Goals": 3,
          "goal_id": "G-1316",
          "match_id": "M-1986-50",
          "minute": 51,
          "team_name": "Argentina",
          "tournament_id": "WC-1986"
         },
         {
          "Goals": 2,
          "goal_id": "G-1317",
          "match_id": "M-1986-50",
          "minute": 63,
          "team_name": "Argentina",
          "tournament_id": "WC-1986"
         },
         {
          "Goals": 4,
          "goal_id": "G-1319",
          "match_id": "M-1986-51",
          "minute": 27,
          "team_name": "France",
          "tournament_id": "WC-1986"
         },
         {
          "Goals": 3,
          "goal_id": "G-1320",
          "match_id": "M-1986-51",
          "minute": 43,
          "team_name": "France",
          "tournament_id": "WC-1986"
         },
         {
          "Goals": 1,
          "goal_id": "G-1322",
          "match_id": "M-1986-51",
          "minute": 104,
          "team_name": "France",
          "tournament_id": "WC-1986"
         },
         {
          "Goals": 1,
          "goal_id": "G-1323",
          "match_id": "M-1986-51",
          "minute": 111,
          "team_name": "France",
          "tournament_id": "WC-1986"
         },
         {
          "Goals": 2,
          "goal_id": "G-1324",
          "match_id": "M-1986-52",
          "minute": 23,
          "team_name": "Argentina",
          "tournament_id": "WC-1986"
         },
         {
          "Goals": 3,
          "goal_id": "G-1325",
          "match_id": "M-1986-52",
          "minute": 56,
          "team_name": "Argentina",
          "tournament_id": "WC-1986"
         },
         {
          "Goals": 2,
          "goal_id": "G-1328",
          "match_id": "M-1986-52",
          "minute": 84,
          "team_name": "Argentina",
          "tournament_id": "WC-1986"
         },
         {
          "Goals": 3,
          "goal_id": "G-1334",
          "match_id": "M-1990-04",
          "minute": 78,
          "team_name": "Italy",
          "tournament_id": "WC-1990"
         },
         {
          "Goals": 2,
          "goal_id": "G-1341",
          "match_id": "M-1990-06",
          "minute": 40,
          "team_name": "Brazil",
          "tournament_id": "WC-1990"
         },
         {
          "Goals": 8,
          "goal_id": "G-1342",
          "match_id": "M-1990-06",
          "minute": 63,
          "team_name": "Brazil",
          "tournament_id": "WC-1990"
         },
         {
          "Goals": 4,
          "goal_id": "G-1350",
          "match_id": "M-1990-09",
          "minute": 9,
          "team_name": "England",
          "tournament_id": "WC-1990"
         },
         {
          "Goals": 1,
          "goal_id": "G-1356",
          "match_id": "M-1990-13",
          "minute": 27,
          "team_name": "Argentina",
          "tournament_id": "WC-1990"
         },
         {
          "Goals": 3,
          "goal_id": "G-1357",
          "match_id": "M-1990-13",
          "minute": 79,
          "team_name": "Argentina",
          "tournament_id": "WC-1990"
         },
         {
          "Goals": 2,
          "goal_id": "G-1362",
          "match_id": "M-1990-16",
          "minute": 11,
          "team_name": "Italy",
          "tournament_id": "WC-1990"
         },
         {
          "Goals": 3,
          "goal_id": "G-1370",
          "match_id": "M-1990-19",
          "minute": 33,
          "team_name": "Brazil",
          "tournament_id": "WC-1990"
         },
         {
          "Goals": 2,
          "goal_id": "G-1377",
          "match_id": "M-1990-23",
          "minute": 73,
          "team_name": "Uruguay",
          "tournament_id": "WC-1990"
         },
         {
          "Goals": 2,
          "goal_id": "G-1378",
          "match_id": "M-1990-24",
          "minute": 23,
          "team_name": "Spain",
          "tournament_id": "WC-1990"
         },
         {
          "Goals": 1,
          "goal_id": "G-1380",
          "match_id": "M-1990-24",
          "minute": 61,
          "team_name": "Spain",
          "tournament_id": "WC-1990"
         },
         {
          "Goals": 4,
          "goal_id": "G-1381",
          "match_id": "M-1990-24",
          "minute": 81,
          "team_name": "Spain",
          "tournament_id": "WC-1990"
         },
         {
          "Goals": 1,
          "goal_id": "G-1382",
          "match_id": "M-1990-25",
          "minute": 62,
          "team_name": "Argentina",
          "tournament_id": "WC-1990"
         },
         {
          "Goals": 2,
          "goal_id": "G-1398",
          "match_id": "M-1990-30",
          "minute": 9,
          "team_name": "Italy",
          "tournament_id": "WC-1990"
         },
         {
          "Goals": 3,
          "goal_id": "G-1399",
          "match_id": "M-1990-30",
          "minute": 78,
          "team_name": "Italy",
          "tournament_id": "WC-1990"
         },
         {
          "Goals": 3,
          "goal_id": "G-1400",
          "match_id": "M-1990-31",
          "minute": 81,
          "team_name": "Brazil",
          "tournament_id": "WC-1990"
         },
         {
          "Goals": 1,
          "goal_id": "G-1404",
          "match_id": "M-1990-33",
          "minute": 26,
          "team_name": "Spain",
          "tournament_id": "WC-1990"
         },
         {
          "Goals": 1,
          "goal_id": "G-1406",
          "match_id": "M-1990-33",
          "minute": 38,
          "team_name": "Spain",
          "tournament_id": "WC-1990"
         },
         {
          "Goals": null,
          "goal_id": "G-1407",
          "match_id": "M-1990-34",
          "minute": null,
          "team_name": "Uruguay",
          "tournament_id": "WC-1990"
         },
         {
          "Goals": 2,
          "goal_id": "G-1408",
          "match_id": "M-1990-35",
          "minute": 58,
          "team_name": "England",
          "tournament_id": "WC-1990"
         },
         {
          "Goals": 3,
          "goal_id": "G-1419",
          "match_id": "M-1990-39",
          "minute": 81,
          "team_name": "Argentina",
          "tournament_id": "WC-1990"
         },
         {
          "Goals": 2,
          "goal_id": "G-1423",
          "match_id": "M-1990-42",
          "minute": 65,
          "team_name": "Italy",
          "tournament_id": "WC-1990"
         },
         {
          "Goals": 2,
          "goal_id": "G-1424",
          "match_id": "M-1990-42",
          "minute": 83,
          "team_name": "Italy",
          "tournament_id": "WC-1990"
         },
         {
          "Goals": 1,
          "goal_id": "G-1426",
          "match_id": "M-1990-43",
          "minute": 84,
          "team_name": "Spain",
          "tournament_id": "WC-1990"
         },
         {
          "Goals": 1,
          "goal_id": "G-1428",
          "match_id": "M-1990-44",
          "minute": 119,
          "team_name": "England",
          "tournament_id": "WC-1990"
         },
         {
          "Goals": 2,
          "goal_id": "G-1429",
          "match_id": "M-1990-46",
          "minute": 38,
          "team_name": "Italy",
          "tournament_id": "WC-1990"
         },
         {
          "Goals": 1,
          "goal_id": "G-1431",
          "match_id": "M-1990-48",
          "minute": 25,
          "team_name": "England",
          "tournament_id": "WC-1990"
         },
         {
          "Goals": 4,
          "goal_id": "G-1434",
          "match_id": "M-1990-48",
          "minute": 83,
          "team_name": "England",
          "tournament_id": "WC-1990"
         },
         {
          "Goals": 1,
          "goal_id": "G-1435",
          "match_id": "M-1990-48",
          "minute": 105,
          "team_name": "England",
          "tournament_id": "WC-1990"
         },
         {
          "Goals": 2,
          "goal_id": "G-1436",
          "match_id": "M-1990-49",
          "minute": 17,
          "team_name": "Italy",
          "tournament_id": "WC-1990"
         },
         {
          "Goals": 3,
          "goal_id": "G-1437",
          "match_id": "M-1990-49",
          "minute": 67,
          "team_name": "Argentina",
          "tournament_id": "WC-1990"
         },
         {
          "Goals": 2,
          "goal_id": "G-1439",
          "match_id": "M-1990-50",
          "minute": 80,
          "team_name": "England",
          "tournament_id": "WC-1990"
         },
         {
          "Goals": 2,
          "goal_id": "G-1440",
          "match_id": "M-1990-51",
          "minute": 71,
          "team_name": "Italy",
          "tournament_id": "WC-1990"
         },
         {
          "Goals": 5,
          "goal_id": "G-1441",
          "match_id": "M-1990-51",
          "minute": 81,
          "team_name": "England",
          "tournament_id": "WC-1990"
         },
         {
          "Goals": 1,
          "goal_id": "G-1442",
          "match_id": "M-1990-51",
          "minute": 86,
          "team_name": "Italy",
          "tournament_id": "WC-1990"
         },
         {
          "Goals": 2,
          "goal_id": "G-1448",
          "match_id": "M-1991-02",
          "minute": 16,
          "team_name": "Germany",
          "tournament_id": "WC-1991"
         },
         {
          "Goals": 5,
          "goal_id": "G-1449",
          "match_id": "M-1991-02",
          "minute": 32,
          "team_name": "Germany",
          "tournament_id": "WC-1991"
         },
         {
          "Goals": 2,
          "goal_id": "G-1450",
          "match_id": "M-1991-02",
          "minute": 34,
          "team_name": "Germany",
          "tournament_id": "WC-1991"
         },
         {
          "Goals": 6,
          "goal_id": "G-1451",
          "match_id": "M-1991-02",
          "minute": 57,
          "team_name": "Germany",
          "tournament_id": "WC-1991"
         },
         {
          "Goals": 4,
          "goal_id": "G-1455",
          "match_id": "M-1991-04",
          "minute": 4,
          "team_name": "Brazil",
          "tournament_id": "WC-1991"
         },
         {
          "Goals": 2,
          "goal_id": "G-1461",
          "match_id": "M-1991-06",
          "minute": 15,
          "team_name": "Italy",
          "tournament_id": "WC-1991"
         },
         {
          "Goals": 4,
          "goal_id": "G-1462",
          "match_id": "M-1991-06",
          "minute": 29,
          "team_name": "Italy",
          "tournament_id": "WC-1991"
         },
         {
          "Goals": 3,
          "goal_id": "G-1463",
          "match_id": "M-1991-06",
          "minute": 37,
          "team_name": "Italy",
          "tournament_id": "WC-1991"
         },
         {
          "Goals": 2,
          "goal_id": "G-1464",
          "match_id": "M-1991-06",
          "minute": 52,
          "team_name": "Italy",
          "tournament_id": "WC-1991"
         },
         {
          "Goals": 2,
          "goal_id": "G-1465",
          "match_id": "M-1991-06",
          "minute": 66,
          "team_name": "Italy",
          "tournament_id": "WC-1991"
         },
         {
          "Goals": 1,
          "goal_id": "G-1470",
          "match_id": "M-1991-08",
          "minute": 68,
          "team_name": "Italy",
          "tournament_id": "WC-1991"
         },
         {
          "Goals": 4,
          "goal_id": "G-1488",
          "match_id": "M-1991-12",
          "minute": 10,
          "team_name": "Germany",
          "tournament_id": "WC-1991"
         },
         {
          "Goals": 2,
          "goal_id": "G-1489",
          "match_id": "M-1991-12",
          "minute": 21,
          "team_name": "Germany",
          "tournament_id": "WC-1991"
         },
         {
          "Goals": 3,
          "goal_id": "G-1490",
          "match_id": "M-1991-12",
          "minute": 50,
          "team_name": "Germany",
          "tournament_id": "WC-1991"
         },
         {
          "Goals": 3,
          "goal_id": "G-1506",
          "match_id": "M-1991-18",
          "minute": 67,
          "team_name": "Germany",
          "tournament_id": "WC-1991"
         },
         {
          "Goals": 5,
          "goal_id": "G-1507",
          "match_id": "M-1991-18",
          "minute": 79,
          "team_name": "Germany",
          "tournament_id": "WC-1991"
         },
         {
          "Goals": 3,
          "goal_id": "G-1508",
          "match_id": "M-1991-19",
          "minute": 17,
          "team_name": "Germany",
          "tournament_id": "WC-1991"
         },
         {
          "Goals": 2,
          "goal_id": "G-1510",
          "match_id": "M-1991-19",
          "minute": 98,
          "team_name": "Germany",
          "tournament_id": "WC-1991"
         },
         {
          "Goals": 1,
          "goal_id": "G-1513",
          "match_id": "M-1991-21",
          "minute": 31,
          "team_name": "Italy",
          "tournament_id": "WC-1991"
         },
         {
          "Goals": 1,
          "goal_id": "G-1515",
          "match_id": "M-1991-21",
          "minute": 80,
          "team_name": "Italy",
          "tournament_id": "WC-1991"
         },
         {
          "Goals": 2,
          "goal_id": "G-1532",
          "match_id": "M-1991-24",
          "minute": 34,
          "team_name": "Germany",
          "tournament_id": "WC-1991"
         },
         {
          "Goals": 2,
          "goal_id": "G-1534",
          "match_id": "M-1991-24",
          "minute": 63,
          "team_name": "Germany",
          "tournament_id": "WC-1991"
         },
         {
          "Goals": 3,
          "goal_id": "G-1543",
          "match_id": "M-1994-01",
          "minute": 61,
          "team_name": "Germany",
          "tournament_id": "WC-1994"
         },
         {
          "Goals": 2,
          "goal_id": "G-1544",
          "match_id": "M-1994-02",
          "minute": 51,
          "team_name": "Spain",
          "tournament_id": "WC-1994"
         },
         {
          "Goals": 3,
          "goal_id": "G-1545",
          "match_id": "M-1994-02",
          "minute": 55,
          "team_name": "Spain",
          "tournament_id": "WC-1994"
         },
         {
          "Goals": 3,
          "goal_id": "G-1561",
          "match_id": "M-1994-09",
          "minute": 26,
          "team_name": "Brazil",
          "tournament_id": "WC-1994"
         },
         {
          "Goals": 4,
          "goal_id": "G-1562",
          "match_id": "M-1994-09",
          "minute": 52,
          "team_name": "Brazil",
          "tournament_id": "WC-1994"
         },
         {
          "Goals": 1,
          "goal_id": "G-1566",
          "match_id": "M-1994-11",
          "minute": 2,
          "team_name": "Argentina",
          "tournament_id": "WC-1994"
         },
         {
          "Goals": 1,
          "goal_id": "G-1567",
          "match_id": "M-1994-11",
          "minute": 44,
          "team_name": "Argentina",
          "tournament_id": "WC-1994"
         },
         {
          "Goals": 5,
          "goal_id": "G-1568",
          "match_id": "M-1994-11",
          "minute": 60,
          "team_name": "Argentina",
          "tournament_id": "WC-1994"
         },
         {
          "Goals": 1,
          "goal_id": "G-1569",
          "match_id": "M-1994-11",
          "minute": 90,
          "team_name": "Argentina",
          "tournament_id": "WC-1994"
         },
         {
          "Goals": 2,
          "goal_id": "G-1570",
          "match_id": "M-1994-12",
          "minute": 14,
          "team_name": "Spain",
          "tournament_id": "WC-1994"
         },
         {
          "Goals": 2,
          "goal_id": "G-1571",
          "match_id": "M-1994-12",
          "minute": 48,
          "team_name": "Germany",
          "tournament_id": "WC-1994"
         },
         {
          "Goals": 4,
          "goal_id": "G-1583",
          "match_id": "M-1994-16",
          "minute": 69,
          "team_name": "Italy",
          "tournament_id": "WC-1994"
         },
         {
          "Goals": 3,
          "goal_id": "G-1587",
          "match_id": "M-1994-19",
          "minute": 39,
          "team_name": "Brazil",
          "tournament_id": "WC-1994"
         },
         {
          "Goals": 6,
          "goal_id": "G-1588",
          "match_id": "M-1994-19",
          "minute": 66,
          "team_name": "Brazil",
          "tournament_id": "WC-1994"
         },
         {
          "Goals": 5,
          "goal_id": "G-1589",
          "match_id": "M-1994-19",
          "minute": 73,
          "team_name": "Brazil",
          "tournament_id": "WC-1994"
         },
         {
          "Goals": 2,
          "goal_id": "G-1599",
          "match_id": "M-1994-23",
          "minute": 21,
          "team_name": "Argentina",
          "tournament_id": "WC-1994"
         },
         {
          "Goals": 3,
          "goal_id": "G-1600",
          "match_id": "M-1994-23",
          "minute": 28,
          "team_name": "Argentina",
          "tournament_id": "WC-1994"
         },
         {
          "Goals": 2,
          "goal_id": "G-1608",
          "match_id": "M-1994-27",
          "minute": 19,
          "team_name": "Spain",
          "tournament_id": "WC-1994"
         },
         {
          "Goals": 2,
          "goal_id": "G-1609",
          "match_id": "M-1994-27",
          "minute": 66,
          "team_name": "Spain",
          "tournament_id": "WC-1994"
         },
         {
          "Goals": 2,
          "goal_id": "G-1611",
          "match_id": "M-1994-27",
          "minute": 70,
          "team_name": "Spain",
          "tournament_id": "WC-1994"
         },
         {
          "Goals": 4,
          "goal_id": "G-1612",
          "match_id": "M-1994-28",
          "minute": 12,
          "team_name": "Germany",
          "tournament_id": "WC-1994"
         },
         {
          "Goals": 4,
          "goal_id": "G-1613",
          "match_id": "M-1994-28",
          "minute": 20,
          "team_name": "Germany",
          "tournament_id": "WC-1994"
         },
         {
          "Goals": 1,
          "goal_id": "G-1614",
          "match_id": "M-1994-28",
          "minute": 37,
          "team_name": "Germany",
          "tournament_id": "WC-1994"
         },
         {
          "Goals": 3,
          "goal_id": "G-1617",
          "match_id": "M-1994-29",
          "minute": 48,
          "team_name": "Italy",
          "tournament_id": "WC-1994"
         },
         {
          "Goals": 4,
          "goal_id": "G-1627",
          "match_id": "M-1994-32",
          "minute": 47,
          "team_name": "Brazil",
          "tournament_id": "WC-1994"
         },
         {
          "Goals": 3,
          "goal_id": "G-1636",
          "match_id": "M-1994-37",
          "minute": 6,
          "team_name": "Germany",
          "tournament_id": "WC-1994"
         },
         {
          "Goals": 2,
          "goal_id": "G-1638",
          "match_id": "M-1994-37",
          "minute": 11,
          "team_name": "Germany",
          "tournament_id": "WC-1994"
         },
         {
          "Goals": 1,
          "goal_id": "G-1639",
          "match_id": "M-1994-37",
          "minute": 38,
          "team_name": "Germany",
          "tournament_id": "WC-1994"
         },
         {
          "Goals": 2,
          "goal_id": "G-1641",
          "match_id": "M-1994-38",
          "minute": 15,
          "team_name": "Spain",
          "tournament_id": "WC-1994"
         },
         {
          "Goals": 3,
          "goal_id": "G-1642",
          "match_id": "M-1994-38",
          "minute": 74,
          "team_name": "Spain",
          "tournament_id": "WC-1994"
         },
         {
          "Goals": 1,
          "goal_id": "G-1643",
          "match_id": "M-1994-38",
          "minute": 86,
          "team_name": "Spain",
          "tournament_id": "WC-1994"
         },
         {
          "Goals": 2,
          "goal_id": "G-1649",
          "match_id": "M-1994-40",
          "minute": 16,
          "team_name": "Argentina",
          "tournament_id": "WC-1994"
         },
         {
          "Goals": 1,
          "goal_id": "G-1652",
          "match_id": "M-1994-40",
          "minute": 75,
          "team_name": "Argentina",
          "tournament_id": "WC-1994"
         },
         {
          "Goals": 5,
          "goal_id": "G-1655",
          "match_id": "M-1994-42",
          "minute": 72,
          "team_name": "Brazil",
          "tournament_id": "WC-1994"
         },
         {
          "Goals": 3,
          "goal_id": "G-1657",
          "match_id": "M-1994-43",
          "minute": 88,
          "team_name": "Italy",
          "tournament_id": "WC-1994"
         },
         {
          "Goals": 1,
          "goal_id": "G-1658",
          "match_id": "M-1994-43",
          "minute": 102,
          "team_name": "Italy",
          "tournament_id": "WC-1994"
         },
         {
          "Goals": 5,
          "goal_id": "G-1661",
          "match_id": "M-1994-45",
          "minute": 25,
          "team_name": "Italy",
          "tournament_id": "WC-1994"
         },
         {
          "Goals": 2,
          "goal_id": "G-1662",
          "match_id": "M-1994-45",
          "minute": 58,
          "team_name": "Spain",
          "tournament_id": "WC-1994"
         },
         {
          "Goals": 3,
          "goal_id": "G-1663",
          "match_id": "M-1994-45",
          "minute": 88,
          "team_name": "Italy",
          "tournament_id": "WC-1994"
         },
         {
          "Goals": 4,
          "goal_id": "G-1664",
          "match_id": "M-1994-46",
          "minute": 53,
          "team_name": "Brazil",
          "tournament_id": "WC-1994"
         },
         {
          "Goals": 8,
          "goal_id": "G-1665",
          "match_id": "M-1994-46",
          "minute": 63,
          "team_name": "Brazil",
          "tournament_id": "WC-1994"
         },
         {
          "Goals": 3,
          "goal_id": "G-1668",
          "match_id": "M-1994-46",
          "minute": 81,
          "team_name": "Brazil",
          "tournament_id": "WC-1994"
         },
         {
          "Goals": 2,
          "goal_id": "G-1669",
          "match_id": "M-1994-47",
          "minute": 47,
          "team_name": "Germany",
          "tournament_id": "WC-1994"
         },
         {
          "Goals": 1,
          "goal_id": "G-1676",
          "match_id": "M-1994-49",
          "minute": 21,
          "team_name": "Italy",
          "tournament_id": "WC-1994"
         },
         {
          "Goals": 5,
          "goal_id": "G-1677",
          "match_id": "M-1994-49",
          "minute": 25,
          "team_name": "Italy",
          "tournament_id": "WC-1994"
         },
         {
          "Goals": 2,
          "goal_id": "G-1679",
          "match_id": "M-1994-50",
          "minute": 80,
          "team_name": "Brazil",
          "tournament_id": "WC-1994"
         },
         {
          "Goals": 3,
          "goal_id": "G-1684",
          "match_id": "M-1995-01",
          "minute": 23,
          "team_name": "Germany",
          "tournament_id": "WC-1995"
         },
         {
          "Goals": 4,
          "goal_id": "G-1685",
          "match_id": "M-1995-02",
          "minute": 37,
          "team_name": "Brazil",
          "tournament_id": "WC-1995"
         },
         {
          "Goals": 3,
          "goal_id": "G-1686",
          "match_id": "M-1995-03",
          "minute": 51,
          "team_name": "England",
          "tournament_id": "WC-1995"
         },
         {
          "Goals": 2,
          "goal_id": "G-1687",
          "match_id": "M-1995-03",
          "minute": 76,
          "team_name": "England",
          "tournament_id": "WC-1995"
         },
         {
          "Goals": 3,
          "goal_id": "G-1688",
          "match_id": "M-1995-03",
          "minute": 85,
          "team_name": "England",
          "tournament_id": "WC-1995"
         },
         {
          "Goals": 3,
          "goal_id": "G-1710",
          "match_id": "M-1995-07",
          "minute": 7,
          "team_name": "Brazil",
          "tournament_id": "WC-1995"
         },
         {
          "Goals": 2,
          "goal_id": "G-1713",
          "match_id": "M-1995-08",
          "minute": 9,
          "team_name": "Germany",
          "tournament_id": "WC-1995"
         },
         {
          "Goals": 6,
          "goal_id": "G-1714",
          "match_id": "M-1995-08",
          "minute": 42,
          "team_name": "Germany",
          "tournament_id": "WC-1995"
         },
         {
          "Goals": 2,
          "goal_id": "G-1734",
          "match_id": "M-1995-13",
          "minute": 5,
          "team_name": "Germany",
          "tournament_id": "WC-1995"
         },
         {
          "Goals": 2,
          "goal_id": "G-1735",
          "match_id": "M-1995-13",
          "minute": 19,
          "team_name": "Brazil",
          "tournament_id": "WC-1995"
         },
         {
          "Goals": 2,
          "goal_id": "G-1736",
          "match_id": "M-1995-13",
          "minute": 22,
          "team_name": "Germany",
          "tournament_id": "WC-1995"
         },
         {
          "Goals": 6,
          "goal_id": "G-1737",
          "match_id": "M-1995-13",
          "minute": 42,
          "team_name": "Germany",
          "tournament_id": "WC-1995"
         },
         {
          "Goals": 5,
          "goal_id": "G-1738",
          "match_id": "M-1995-13",
          "minute": 78,
          "team_name": "Germany",
          "tournament_id": "WC-1995"
         },
         {
          "Goals": 7,
          "goal_id": "G-1739",
          "match_id": "M-1995-13",
          "minute": 89,
          "team_name": "Germany",
          "tournament_id": "WC-1995"
         },
         {
          "Goals": 1,
          "goal_id": "G-1740",
          "match_id": "M-1995-13",
          "minute": 90,
          "team_name": "Germany",
          "tournament_id": "WC-1995"
         },
         {
          "Goals": 2,
          "goal_id": "G-1743",
          "match_id": "M-1995-15",
          "minute": 10,
          "team_name": "England",
          "tournament_id": "WC-1995"
         },
         {
          "Goals": 2,
          "goal_id": "G-1745",
          "match_id": "M-1995-15",
          "minute": 27,
          "team_name": "England",
          "tournament_id": "WC-1995"
         },
         {
          "Goals": 5,
          "goal_id": "G-1746",
          "match_id": "M-1995-15",
          "minute": 38,
          "team_name": "England",
          "tournament_id": "WC-1995"
         },
         {
          "Goals": 1,
          "goal_id": "G-1772",
          "match_id": "M-1995-21",
          "minute": 41,
          "team_name": "Germany",
          "tournament_id": "WC-1995"
         },
         {
          "Goals": 2,
          "goal_id": "G-1773",
          "match_id": "M-1995-21",
          "minute": 55,
          "team_name": "Germany",
          "tournament_id": "WC-1995"
         },
         {
          "Goals": 3,
          "goal_id": "G-1774",
          "match_id": "M-1995-21",
          "minute": 82,
          "team_name": "Germany",
          "tournament_id": "WC-1995"
         },
         {
          "Goals": 3,
          "goal_id": "G-1778",
          "match_id": "M-1995-24",
          "minute": 88,
          "team_name": "Germany",
          "tournament_id": "WC-1995"
         },
         {
          "Goals": 2,
          "goal_id": "G-1783",
          "match_id": "M-1998-01",
          "minute": 5,
          "team_name": "Brazil",
          "tournament_id": "WC-1998"
         },
         {
          "Goals": 4,
          "goal_id": "G-1785",
          "match_id": "M-1998-01",
          "minute": 74,
          "team_name": "Brazil",
          "tournament_id": "WC-1998"
         },
         {
          "Goals": 2,
          "goal_id": "G-1790",
          "match_id": "M-1998-03",
          "minute": 10,
          "team_name": "Italy",
          "tournament_id": "WC-1998"
         },
         {
          "Goals": 1,
          "goal_id": "G-1793",
          "match_id": "M-1998-03",
          "minute": 84,
          "team_name": "Italy",
          "tournament_id": "WC-1998"
         },
         {
          "Goals": 2,
          "goal_id": "G-1797",
          "match_id": "M-1998-07",
          "minute": 35,
          "team_name": "France",
          "tournament_id": "WC-1998"
         },
         {
          "Goals": 1,
          "goal_id": "G-1798",
          "match_id": "M-1998-07",
          "minute": 77,
          "team_name": "France",
          "tournament_id": "WC-1998"
         },
         {
          "Goals": null,
          "goal_id": "G-1799",
          "match_id": "M-1998-07",
          "minute": null,
          "team_name": "France",
          "tournament_id": "WC-1998"
         },
         {
          "Goals": 3,
          "goal_id": "G-1800",
          "match_id": "M-1998-08",
          "minute": 21,
          "team_name": "Spain",
          "tournament_id": "WC-1998"
         },
         {
          "Goals": 1,
          "goal_id": "G-1802",
          "match_id": "M-1998-08",
          "minute": 47,
          "team_name": "Spain",
          "tournament_id": "WC-1998"
         },
         {
          "Goals": 3,
          "goal_id": "G-1809",
          "match_id": "M-1998-11",
          "minute": 28,
          "team_name": "Argentina",
          "tournament_id": "WC-1998"
         },
         {
          "Goals": 2,
          "goal_id": "G-1815",
          "match_id": "M-1998-14",
          "minute": 42,
          "team_name": "England",
          "tournament_id": "WC-1998"
         },
         {
          "Goals": 1,
          "goal_id": "G-1816",
          "match_id": "M-1998-14",
          "minute": 89,
          "team_name": "England",
          "tournament_id": "WC-1998"
         },
         {
          "Goals": 2,
          "goal_id": "G-1818",
          "match_id": "M-1998-16",
          "minute": 9,
          "team_name": "Germany",
          "tournament_id": "WC-1998"
         },
         {
          "Goals": 1,
          "goal_id": "G-1819",
          "match_id": "M-1998-16",
          "minute": 65,
          "team_name": "Germany",
          "tournament_id": "WC-1998"
         },
         {
          "Goals": 3,
          "goal_id": "G-1822",
          "match_id": "M-1998-18",
          "minute": 9,
          "team_name": "Brazil",
          "tournament_id": "WC-1998"
         },
         {
          "Goals": null,
          "goal_id": "G-1823",
          "match_id": "M-1998-18",
          "minute": null,
          "team_name": "Brazil",
          "tournament_id": "WC-1998"
         },
         {
          "Goals": 7,
          "goal_id": "G-1824",
          "match_id": "M-1998-18",
          "minute": 50,
          "team_name": "Brazil",
          "tournament_id": "WC-1998"
         },
         {
          "Goals": 3,
          "goal_id": "G-1827",
          "match_id": "M-1998-20",
          "minute": 7,
          "team_name": "Italy",
          "tournament_id": "WC-1998"
         },
         {
          "Goals": 2,
          "goal_id": "G-1828",
          "match_id": "M-1998-20",
          "minute": 75,
          "team_name": "Italy",
          "tournament_id": "WC-1998"
         },
         {
          "Goals": 1,
          "goal_id": "G-1829",
          "match_id": "M-1998-20",
          "minute": 89,
          "team_name": "Italy",
          "tournament_id": "WC-1998"
         },
         {
          "Goals": 1,
          "goal_id": "G-1832",
          "match_id": "M-1998-22",
          "minute": 37,
          "team_name": "France",
          "tournament_id": "WC-1998"
         },
         {
          "Goals": 5,
          "goal_id": "G-1833",
          "match_id": "M-1998-22",
          "minute": 68,
          "team_name": "France",
          "tournament_id": "WC-1998"
         },
         {
          "Goals": 3,
          "goal_id": "G-1834",
          "match_id": "M-1998-22",
          "minute": 78,
          "team_name": "France",
          "tournament_id": "WC-1998"
         },
         {
          "Goals": 3,
          "goal_id": "G-1835",
          "match_id": "M-1998-22",
          "minute": 85,
          "team_name": "France",
          "tournament_id": "WC-1998"
         },
         {
          "Goals": 3,
          "goal_id": "G-1849",
          "match_id": "M-1998-28",
          "minute": 72,
          "team_name": "Germany",
          "tournament_id": "WC-1998"
         },
         {
          "Goals": 5,
          "goal_id": "G-1850",
          "match_id": "M-1998-28",
          "minute": 78,
          "team_name": "Germany",
          "tournament_id": "WC-1998"
         },
         {
          "Goals": 2,
          "goal_id": "G-1851",
          "match_id": "M-1998-29",
          "minute": 31,
          "team_name": "Argentina",
          "tournament_id": "WC-1998"
         },
         {
          "Goals": 4,
          "goal_id": "G-1852",
          "match_id": "M-1998-29",
          "minute": 55,
          "team_name": "Argentina",
          "tournament_id": "WC-1998"
         },
         {
          "Goals": 3,
          "goal_id": "G-1853",
          "match_id": "M-1998-29",
          "minute": 73,
          "team_name": "Argentina",
          "tournament_id": "WC-1998"
         },
         {
          "Goals": 2,
          "goal_id": "G-1854",
          "match_id": "M-1998-29",
          "minute": 78,
          "team_name": "Argentina",
          "tournament_id": "WC-1998"
         },
         {
          "Goals": 3,
          "goal_id": "G-1855",
          "match_id": "M-1998-29",
          "minute": 83,
          "team_name": "Argentina",
          "tournament_id": "WC-1998"
         },
         {
          "Goals": 5,
          "goal_id": "G-1861",
          "match_id": "M-1998-32",
          "minute": 81,
          "team_name": "England",
          "tournament_id": "WC-1998"
         },
         {
          "Goals": 3,
          "goal_id": "G-1865",
          "match_id": "M-1998-34",
          "minute": 48,
          "team_name": "Italy",
          "tournament_id": "WC-1998"
         },
         {
          "Goals": 2,
          "goal_id": "G-1866",
          "match_id": "M-1998-34",
          "minute": 90,
          "team_name": "Italy",
          "tournament_id": "WC-1998"
         },
         {
          "Goals": 3,
          "goal_id": "G-1868",
          "match_id": "M-1998-35",
          "minute": 78,
          "team_name": "Brazil",
          "tournament_id": "WC-1998"
         },
         {
          "Goals": 1,
          "goal_id": "G-1874",
          "match_id": "M-1998-37",
          "minute": 12,
          "team_name": "France",
          "tournament_id": "WC-1998"
         },
         {
          "Goals": 4,
          "goal_id": "G-1876",
          "match_id": "M-1998-37",
          "minute": 56,
          "team_name": "France",
          "tournament_id": "WC-1998"
         },
         {
          "Goals": 1,
          "goal_id": "G-1885",
          "match_id": "M-1998-40",
          "minute": 6,
          "team_name": "Spain",
          "tournament_id": "WC-1998"
         },
         {
          "Goals": 3,
          "goal_id": "G-1886",
          "match_id": "M-1998-40",
          "minute": 18,
          "team_name": "Spain",
          "tournament_id": "WC-1998"
         },
         {
          "Goals": 3,
          "goal_id": "G-1887",
          "match_id": "M-1998-40",
          "minute": 55,
          "team_name": "Spain",
          "tournament_id": "WC-1998"
         },
         {
          "Goals": 4,
          "goal_id": "G-1889",
          "match_id": "M-1998-40",
          "minute": 81,
          "team_name": "Spain",
          "tournament_id": "WC-1998"
         },
         {
          "Goals": 2,
          "goal_id": "G-1890",
          "match_id": "M-1998-40",
          "minute": 88,
          "team_name": "Spain",
          "tournament_id": "WC-1998"
         },
         {
          "Goals": null,
          "goal_id": "G-1891",
          "match_id": "M-1998-40",
          "minute": null,
          "team_name": "Spain",
          "tournament_id": "WC-1998"
         },
         {
          "Goals": 3,
          "goal_id": "G-1898",
          "match_id": "M-1998-43",
          "minute": 50,
          "team_name": "Germany",
          "tournament_id": "WC-1998"
         },
         {
          "Goals": 6,
          "goal_id": "G-1899",
          "match_id": "M-1998-43",
          "minute": 57,
          "team_name": "Germany",
          "tournament_id": "WC-1998"
         },
         {
          "Goals": 2,
          "goal_id": "G-1901",
          "match_id": "M-1998-45",
          "minute": 36,
          "team_name": "Argentina",
          "tournament_id": "WC-1998"
         },
         {
          "Goals": 1,
          "goal_id": "G-1905",
          "match_id": "M-1998-47",
          "minute": 20,
          "team_name": "England",
          "tournament_id": "WC-1998"
         },
         {
          "Goals": 1,
          "goal_id": "G-1906",
          "match_id": "M-1998-47",
          "minute": 29,
          "team_name": "England",
          "tournament_id": "WC-1998"
         },
         {
          "Goals": 4,
          "goal_id": "G-1909",
          "match_id": "M-1998-49",
          "minute": 18,
          "team_name": "Italy",
          "tournament_id": "WC-1998"
         },
         {
          "Goals": 3,
          "goal_id": "G-1910",
          "match_id": "M-1998-50",
          "minute": 11,
          "team_name": "Brazil",
          "tournament_id": "WC-1998"
         },
         {
          "Goals": 3,
          "goal_id": "G-1911",
          "match_id": "M-1998-50",
          "minute": 26,
          "team_name": "Brazil",
          "tournament_id": "WC-1998"
         },
         {
          "Goals": null,
          "goal_id": "G-1912",
          "match_id": "M-1998-50",
          "minute": null,
          "team_name": "Brazil",
          "tournament_id": "WC-1998"
         },
         {
          "Goals": 5,
          "goal_id": "G-1914",
          "match_id": "M-1998-50",
          "minute": 72,
          "team_name": "Brazil",
          "tournament_id": "WC-1998"
         },
         {
          "Goals": 1,
          "goal_id": "G-1915",
          "match_id": "M-1998-51",
          "minute": 114,
          "team_name": "France",
          "tournament_id": "WC-1998"
         },
         {
          "Goals": 2,
          "goal_id": "G-1922",
          "match_id": "M-1998-53",
          "minute": 74,
          "team_name": "Germany",
          "tournament_id": "WC-1998"
         },
         {
          "Goals": 2,
          "goal_id": "G-1923",
          "match_id": "M-1998-53",
          "minute": 86,
          "team_name": "Germany",
          "tournament_id": "WC-1998"
         },
         {
          "Goals": 1,
          "goal_id": "G-1928",
          "match_id": "M-1998-56",
          "minute": 5,
          "team_name": "Argentina",
          "tournament_id": "WC-1998"
         },
         {
          "Goals": 4,
          "goal_id": "G-1929",
          "match_id": "M-1998-56",
          "minute": 9,
          "team_name": "England",
          "tournament_id": "WC-1998"
         },
         {
          "Goals": 2,
          "goal_id": "G-1930",
          "match_id": "M-1998-56",
          "minute": 16,
          "team_name": "England",
          "tournament_id": "WC-1998"
         },
         {
          "Goals": null,
          "goal_id": "G-1931",
          "match_id": "M-1998-56",
          "minute": null,
          "team_name": "Argentina",
          "tournament_id": "WC-1998"
         },
         {
          "Goals": 4,
          "goal_id": "G-1933",
          "match_id": "M-1998-58",
          "minute": 10,
          "team_name": "Brazil",
          "tournament_id": "WC-1998"
         },
         {
          "Goals": 3,
          "goal_id": "G-1934",
          "match_id": "M-1998-58",
          "minute": 25,
          "team_name": "Brazil",
          "tournament_id": "WC-1998"
         },
         {
          "Goals": 7,
          "goal_id": "G-1936",
          "match_id": "M-1998-58",
          "minute": 59,
          "team_name": "Brazil",
          "tournament_id": "WC-1998"
         },
         {
          "Goals": 3,
          "goal_id": "G-1938",
          "match_id": "M-1998-59",
          "minute": 17,
          "team_name": "Argentina",
          "tournament_id": "WC-1998"
         },
         {
          "Goals": 2,
          "goal_id": "G-1943",
          "match_id": "M-1998-61",
          "minute": 46,
          "team_name": "Brazil",
          "tournament_id": "WC-1998"
         },
         {
          "Goals": 1,
          "goal_id": "G-1946",
          "match_id": "M-1998-62",
          "minute": 47,
          "team_name": "France",
          "tournament_id": "WC-1998"
         },
         {
          "Goals": 3,
          "goal_id": "G-1947",
          "match_id": "M-1998-62",
          "minute": 70,
          "team_name": "France",
          "tournament_id": "WC-1998"
         },
         {
          "Goals": 4,
          "goal_id": "G-1951",
          "match_id": "M-1998-64",
          "minute": 27,
          "team_name": "France",
          "tournament_id": "WC-1998"
         },
         {
          "Goals": null,
          "goal_id": "G-1952",
          "match_id": "M-1998-64",
          "minute": null,
          "team_name": "France",
          "tournament_id": "WC-1998"
         },
         {
          "Goals": null,
          "goal_id": "G-1953",
          "match_id": "M-1998-64",
          "minute": null,
          "team_name": "France",
          "tournament_id": "WC-1998"
         },
         {
          "Goals": 4,
          "goal_id": "G-1960",
          "match_id": "M-1999-03",
          "minute": 3,
          "team_name": "Brazil",
          "tournament_id": "WC-1999"
         },
         {
          "Goals": 3,
          "goal_id": "G-1962",
          "match_id": "M-1999-03",
          "minute": 12,
          "team_name": "Brazil",
          "tournament_id": "WC-1999"
         },
         {
          "Goals": 3,
          "goal_id": "G-1963",
          "match_id": "M-1999-03",
          "minute": 29,
          "team_name": "Brazil",
          "tournament_id": "WC-1999"
         },
         {
          "Goals": 4,
          "goal_id": "G-1964",
          "match_id": "M-1999-03",
          "minute": 35,
          "team_name": "Brazil",
          "tournament_id": "WC-1999"
         },
         {
          "Goals": 3,
          "goal_id": "G-1965",
          "match_id": "M-1999-03",
          "minute": 42,
          "team_name": "Brazil",
          "tournament_id": "WC-1999"
         },
         {
          "Goals": 7,
          "goal_id": "G-1966",
          "match_id": "M-1999-03",
          "minute": 50,
          "team_name": "Brazil",
          "tournament_id": "WC-1999"
         },
         {
          "Goals": null,
          "goal_id": "G-1967",
          "match_id": "M-1999-03",
          "minute": null,
          "team_name": "Brazil",
          "tournament_id": "WC-1999"
         },
         {
          "Goals": 1,
          "goal_id": "G-1970",
          "match_id": "M-1999-05",
          "minute": 36,
          "team_name": "Italy",
          "tournament_id": "WC-1999"
         },
         {
          "Goals": 3,
          "goal_id": "G-1971",
          "match_id": "M-1999-05",
          "minute": 61,
          "team_name": "Germany",
          "tournament_id": "WC-1999"
         },
         {
          "Goals": 4,
          "goal_id": "G-2004",
          "match_id": "M-1999-13",
          "minute": 3,
          "team_name": "Brazil",
          "tournament_id": "WC-1999"
         },
         {
          "Goals": 8,
          "goal_id": "G-2005",
          "match_id": "M-1999-13",
          "minute": 63,
          "team_name": "Brazil",
          "tournament_id": "WC-1999"
         },
         {
          "Goals": 4,
          "goal_id": "G-2018",
          "match_id": "M-1999-16",
          "minute": 10,
          "team_name": "Germany",
          "tournament_id": "WC-1999"
         },
         {
          "Goals": null,
          "goal_id": "G-2019",
          "match_id": "M-1999-16",
          "minute": null,
          "team_name": "Germany",
          "tournament_id": "WC-1999"
         },
         {
          "Goals": 2,
          "goal_id": "G-2020",
          "match_id": "M-1999-16",
          "minute": 49,
          "team_name": "Germany",
          "tournament_id": "WC-1999"
         },
         {
          "Goals": 6,
          "goal_id": "G-2021",
          "match_id": "M-1999-16",
          "minute": 57,
          "team_name": "Germany",
          "tournament_id": "WC-1999"
         },
         {
          "Goals": 7,
          "goal_id": "G-2022",
          "match_id": "M-1999-16",
          "minute": 89,
          "team_name": "Germany",
          "tournament_id": "WC-1999"
         },
         {
          "Goals": null,
          "goal_id": "G-2023",
          "match_id": "M-1999-16",
          "minute": null,
          "team_name": "Germany",
          "tournament_id": "WC-1999"
         },
         {
          "Goals": 3,
          "goal_id": "G-2039",
          "match_id": "M-1999-21",
          "minute": 8,
          "team_name": "Germany",
          "tournament_id": "WC-1999"
         },
         {
          "Goals": 8,
          "goal_id": "G-2040",
          "match_id": "M-1999-21",
          "minute": 15,
          "team_name": "Brazil",
          "tournament_id": "WC-1999"
         },
         {
          "Goals": 3,
          "goal_id": "G-2041",
          "match_id": "M-1999-21",
          "minute": 20,
          "team_name": "Brazil",
          "tournament_id": "WC-1999"
         },
         {
          "Goals": 2,
          "goal_id": "G-2042",
          "match_id": "M-1999-21",
          "minute": 46,
          "team_name": "Germany",
          "tournament_id": "WC-1999"
         },
         {
          "Goals": 3,
          "goal_id": "G-2043",
          "match_id": "M-1999-21",
          "minute": 58,
          "team_name": "Germany",
          "tournament_id": "WC-1999"
         },
         {
          "Goals": null,
          "goal_id": "G-2044",
          "match_id": "M-1999-21",
          "minute": null,
          "team_name": "Brazil",
          "tournament_id": "WC-1999"
         },
         {
          "Goals": 3,
          "goal_id": "G-2047",
          "match_id": "M-1999-23",
          "minute": 37,
          "team_name": "Italy",
          "tournament_id": "WC-1999"
         },
         {
          "Goals": 3,
          "goal_id": "G-2048",
          "match_id": "M-1999-23",
          "minute": 51,
          "team_name": "Italy",
          "tournament_id": "WC-1999"
         },
         {
          "Goals": 2,
          "goal_id": "G-2058",
          "match_id": "M-1999-27",
          "minute": 5,
          "team_name": "Germany",
          "tournament_id": "WC-1999"
         },
         {
          "Goals": null,
          "goal_id": "G-2060",
          "match_id": "M-1999-27",
          "minute": null,
          "team_name": "Germany",
          "tournament_id": "WC-1999"
         },
         {
          "Goals": 4,
          "goal_id": "G-2063",
          "match_id": "M-1999-28",
          "minute": 4,
          "team_name": "Brazil",
          "tournament_id": "WC-1999"
         },
         {
          "Goals": 3,
          "goal_id": "G-2064",
          "match_id": "M-1999-28",
          "minute": 22,
          "team_name": "Brazil",
          "tournament_id": "WC-1999"
         },
         {
          "Goals": 4,
          "goal_id": "G-2065",
          "match_id": "M-1999-28",
          "minute": 35,
          "team_name": "Brazil",
          "tournament_id": "WC-1999"
         },
         {
          "Goals": 2,
          "goal_id": "G-2069",
          "match_id": "M-1999-28",
          "minute": 104,
          "team_name": "Brazil",
          "tournament_id": "WC-1999"
         },
         {
          "Goals": 2,
          "goal_id": "G-2081",
          "match_id": "M-2002-03",
          "minute": 47,
          "team_name": "Uruguay",
          "tournament_id": "WC-2002"
         },
         {
          "Goals": 4,
          "goal_id": "G-2083",
          "match_id": "M-2002-04",
          "minute": 20,
          "team_name": "Germany",
          "tournament_id": "WC-2002"
         },
         {
          "Goals": 4,
          "goal_id": "G-2084",
          "match_id": "M-2002-04",
          "minute": 25,
          "team_name": "Germany",
          "tournament_id": "WC-2002"
         },
         {
          "Goals": 2,
          "goal_id": "G-2085",
          "match_id": "M-2002-04",
          "minute": 40,
          "team_name": "Germany",
          "tournament_id": "WC-2002"
         },
         {
          "Goals": null,
          "goal_id": "G-2086",
          "match_id": "M-2002-04",
          "minute": null,
          "team_name": "Germany",
          "tournament_id": "WC-2002"
         },
         {
          "Goals": 5,
          "goal_id": "G-2087",
          "match_id": "M-2002-04",
          "minute": 70,
          "team_name": "Germany",
          "tournament_id": "WC-2002"
         },
         {
          "Goals": 3,
          "goal_id": "G-2088",
          "match_id": "M-2002-04",
          "minute": 73,
          "team_name": "Germany",
          "tournament_id": "WC-2002"
         },
         {
          "Goals": 2,
          "goal_id": "G-2089",
          "match_id": "M-2002-04",
          "minute": 84,
          "team_name": "Germany",
          "tournament_id": "WC-2002"
         },
         {
          "Goals": null,
          "goal_id": "G-2090",
          "match_id": "M-2002-04",
          "minute": null,
          "team_name": "Germany",
          "tournament_id": "WC-2002"
         },
         {
          "Goals": 2,
          "goal_id": "G-2091",
          "match_id": "M-2002-05",
          "minute": 63,
          "team_name": "Argentina",
          "tournament_id": "WC-2002"
         },
         {
          "Goals": 1,
          "goal_id": "G-2096",
          "match_id": "M-2002-07",
          "minute": 24,
          "team_name": "England",
          "tournament_id": "WC-2002"
         },
         {
          "Goals": 1,
          "goal_id": "G-2098",
          "match_id": "M-2002-08",
          "minute": 44,
          "team_name": "Spain",
          "tournament_id": "WC-2002"
         },
         {
          "Goals": 3,
          "goal_id": "G-2099",
          "match_id": "M-2002-08",
          "minute": 74,
          "team_name": "Spain",
          "tournament_id": "WC-2002"
         },
         {
          "Goals": 1,
          "goal_id": "G-2101",
          "match_id": "M-2002-08",
          "minute": 87,
          "team_name": "Spain",
          "tournament_id": "WC-2002"
         },
         {
          "Goals": 7,
          "goal_id": "G-2104",
          "match_id": "M-2002-10",
          "minute": 50,
          "team_name": "Brazil",
          "tournament_id": "WC-2002"
         },
         {
          "Goals": 5,
          "goal_id": "G-2105",
          "match_id": "M-2002-10",
          "minute": 87,
          "team_name": "Brazil",
          "tournament_id": "WC-2002"
         },
         {
          "Goals": 3,
          "goal_id": "G-2106",
          "match_id": "M-2002-11",
          "minute": 7,
          "team_name": "Italy",
          "tournament_id": "WC-2002"
         },
         {
          "Goals": 1,
          "goal_id": "G-2107",
          "match_id": "M-2002-11",
          "minute": 27,
          "team_name": "Italy",
          "tournament_id": "WC-2002"
         },
         {
          "Goals": 2,
          "goal_id": "G-2123",
          "match_id": "M-2002-17",
          "minute": 19,
          "team_name": "Germany",
          "tournament_id": "WC-2002"
         },
         {
          "Goals": 1,
          "goal_id": "G-2132",
          "match_id": "M-2002-22",
          "minute": 53,
          "team_name": "Spain",
          "tournament_id": "WC-2002"
         },
         {
          "Goals": 2,
          "goal_id": "G-2133",
          "match_id": "M-2002-22",
          "minute": 69,
          "team_name": "Spain",
          "tournament_id": "WC-2002"
         },
         {
          "Goals": 3,
          "goal_id": "G-2134",
          "match_id": "M-2002-22",
          "minute": 83,
          "team_name": "Spain",
          "tournament_id": "WC-2002"
         },
         {
          "Goals": 2,
          "goal_id": "G-2135",
          "match_id": "M-2002-23",
          "minute": 44,
          "team_name": "England",
          "tournament_id": "WC-2002"
         },
         {
          "Goals": 1,
          "goal_id": "G-2137",
          "match_id": "M-2002-25",
          "minute": 55,
          "team_name": "Italy",
          "tournament_id": "WC-2002"
         },
         {
          "Goals": 8,
          "goal_id": "G-2140",
          "match_id": "M-2002-26",
          "minute": 15,
          "team_name": "Brazil",
          "tournament_id": "WC-2002"
         },
         {
          "Goals": 5,
          "goal_id": "G-2141",
          "match_id": "M-2002-26",
          "minute": 32,
          "team_name": "Brazil",
          "tournament_id": "WC-2002"
         },
         {
          "Goals": 2,
          "goal_id": "G-2142",
          "match_id": "M-2002-26",
          "minute": 45,
          "team_name": "Brazil",
          "tournament_id": "WC-2002"
         },
         {
          "Goals": 7,
          "goal_id": "G-2143",
          "match_id": "M-2002-26",
          "minute": 55,
          "team_name": "Brazil",
          "tournament_id": "WC-2002"
         },
         {
          "Goals": 2,
          "goal_id": "G-2163",
          "match_id": "M-2002-34",
          "minute": 46,
          "team_name": "Uruguay",
          "tournament_id": "WC-2002"
         },
         {
          "Goals": 1,
          "goal_id": "G-2164",
          "match_id": "M-2002-34",
          "minute": 69,
          "team_name": "Uruguay",
          "tournament_id": "WC-2002"
         },
         {
          "Goals": 1,
          "goal_id": "G-2165",
          "match_id": "M-2002-34",
          "minute": 88,
          "team_name": "Uruguay",
          "tournament_id": "WC-2002"
         },
         {
          "Goals": 3,
          "goal_id": "G-2166",
          "match_id": "M-2002-35",
          "minute": 50,
          "team_name": "Germany",
          "tournament_id": "WC-2002"
         },
         {
          "Goals": 5,
          "goal_id": "G-2167",
          "match_id": "M-2002-35",
          "minute": 79,
          "team_name": "Germany",
          "tournament_id": "WC-2002"
         },
         {
          "Goals": 2,
          "goal_id": "G-2172",
          "match_id": "M-2002-38",
          "minute": 88,
          "team_name": "Argentina",
          "tournament_id": "WC-2002"
         },
         {
          "Goals": 1,
          "goal_id": "G-2177",
          "match_id": "M-2002-40",
          "minute": 4,
          "team_name": "Spain",
          "tournament_id": "WC-2002"
         },
         {
          "Goals": null,
          "goal_id": "G-2179",
          "match_id": "M-2002-40",
          "minute": null,
          "team_name": "Spain",
          "tournament_id": "WC-2002"
         },
         {
          "Goals": 2,
          "goal_id": "G-2181",
          "match_id": "M-2002-40",
          "minute": 56,
          "team_name": "Spain",
          "tournament_id": "WC-2002"
         },
         {
          "Goals": 4,
          "goal_id": "G-2182",
          "match_id": "M-2002-41",
          "minute": 10,
          "team_name": "Brazil",
          "tournament_id": "WC-2002"
         },
         {
          "Goals": 3,
          "goal_id": "G-2183",
          "match_id": "M-2002-41",
          "minute": 13,
          "team_name": "Brazil",
          "tournament_id": "WC-2002"
         },
         {
          "Goals": 3,
          "goal_id": "G-2184",
          "match_id": "M-2002-41",
          "minute": 38,
          "team_name": "Brazil",
          "tournament_id": "WC-2002"
         },
         {
          "Goals": 7,
          "goal_id": "G-2187",
          "match_id": "M-2002-41",
          "minute": 62,
          "team_name": "Brazil",
          "tournament_id": "WC-2002"
         },
         {
          "Goals": 5,
          "goal_id": "G-2188",
          "match_id": "M-2002-41",
          "minute": 64,
          "team_name": "Brazil",
          "tournament_id": "WC-2002"
         },
         {
          "Goals": 2,
          "goal_id": "G-2194",
          "match_id": "M-2002-44",
          "minute": 85,
          "team_name": "Italy",
          "tournament_id": "WC-2002"
         },
         {
          "Goals": 3,
          "goal_id": "G-2207",
          "match_id": "M-2002-49",
          "minute": 88,
          "team_name": "Germany",
          "tournament_id": "WC-2002"
         },
         {
          "Goals": 2,
          "goal_id": "G-2208",
          "match_id": "M-2002-50",
          "minute": 5,
          "team_name": "England",
          "tournament_id": "WC-2002"
         },
         {
          "Goals": 2,
          "goal_id": "G-2209",
          "match_id": "M-2002-50",
          "minute": 22,
          "team_name": "England",
          "tournament_id": "WC-2002"
         },
         {
          "Goals": 2,
          "goal_id": "G-2210",
          "match_id": "M-2002-50",
          "minute": 44,
          "team_name": "England",
          "tournament_id": "WC-2002"
         },
         {
          "Goals": 1,
          "goal_id": "G-2214",
          "match_id": "M-2002-52",
          "minute": 8,
          "team_name": "Spain",
          "tournament_id": "WC-2002"
         },
         {
          "Goals": 4,
          "goal_id": "G-2218",
          "match_id": "M-2002-54",
          "minute": 67,
          "team_name": "Brazil",
          "tournament_id": "WC-2002"
         },
         {
          "Goals": 5,
          "goal_id": "G-2219",
          "match_id": "M-2002-54",
          "minute": 87,
          "team_name": "Brazil",
          "tournament_id": "WC-2002"
         },
         {
          "Goals": 4,
          "goal_id": "G-2221",
          "match_id": "M-2002-56",
          "minute": 18,
          "team_name": "Italy",
          "tournament_id": "WC-2002"
         },
         {
          "Goals": 2,
          "goal_id": "G-2224",
          "match_id": "M-2002-57",
          "minute": 23,
          "team_name": "England",
          "tournament_id": "WC-2002"
         },
         {
          "Goals": null,
          "goal_id": "G-2225",
          "match_id": "M-2002-57",
          "minute": null,
          "team_name": "Brazil",
          "tournament_id": "WC-2002"
         },
         {
          "Goals": 7,
          "goal_id": "G-2226",
          "match_id": "M-2002-57",
          "minute": 50,
          "team_name": "Brazil",
          "tournament_id": "WC-2002"
         },
         {
          "Goals": 2,
          "goal_id": "G-2227",
          "match_id": "M-2002-58",
          "minute": 39,
          "team_name": "Germany",
          "tournament_id": "WC-2002"
         },
         {
          "Goals": 4,
          "goal_id": "G-2229",
          "match_id": "M-2002-61",
          "minute": 75,
          "team_name": "Germany",
          "tournament_id": "WC-2002"
         },
         {
          "Goals": 5,
          "goal_id": "G-2230",
          "match_id": "M-2002-62",
          "minute": 49,
          "team_name": "Brazil",
          "tournament_id": "WC-2002"
         },
         {
          "Goals": 4,
          "goal_id": "G-2236",
          "match_id": "M-2002-64",
          "minute": 67,
          "team_name": "Brazil",
          "tournament_id": "WC-2002"
         },
         {
          "Goals": 5,
          "goal_id": "G-2237",
          "match_id": "M-2002-64",
          "minute": 79,
          "team_name": "Brazil",
          "tournament_id": "WC-2002"
         },
         {
          "Goals": 2,
          "goal_id": "G-2244",
          "match_id": "M-2003-03",
          "minute": 39,
          "team_name": "Germany",
          "tournament_id": "WC-2003"
         },
         {
          "Goals": 2,
          "goal_id": "G-2245",
          "match_id": "M-2003-03",
          "minute": 47,
          "team_name": "Germany",
          "tournament_id": "WC-2003"
         },
         {
          "Goals": 4,
          "goal_id": "G-2246",
          "match_id": "M-2003-03",
          "minute": 75,
          "team_name": "Germany",
          "tournament_id": "WC-2003"
         },
         {
          "Goals": null,
          "goal_id": "G-2247",
          "match_id": "M-2003-03",
          "minute": null,
          "team_name": "Germany",
          "tournament_id": "WC-2003"
         },
         {
          "Goals": 2,
          "goal_id": "G-2258",
          "match_id": "M-2003-06",
          "minute": 14,
          "team_name": "Brazil",
          "tournament_id": "WC-2003"
         },
         {
          "Goals": 7,
          "goal_id": "G-2259",
          "match_id": "M-2003-06",
          "minute": 55,
          "team_name": "Brazil",
          "tournament_id": "WC-2003"
         },
         {
          "Goals": 7,
          "goal_id": "G-2260",
          "match_id": "M-2003-06",
          "minute": 62,
          "team_name": "Brazil",
          "tournament_id": "WC-2003"
         },
         {
          "Goals": 3,
          "goal_id": "G-2265",
          "match_id": "M-2003-09",
          "minute": 26,
          "team_name": "Brazil",
          "tournament_id": "WC-2003"
         },
         {
          "Goals": 4,
          "goal_id": "G-2266",
          "match_id": "M-2003-09",
          "minute": 37,
          "team_name": "Brazil",
          "tournament_id": "WC-2003"
         },
         {
          "Goals": 7,
          "goal_id": "G-2268",
          "match_id": "M-2003-09",
          "minute": 59,
          "team_name": "Brazil",
          "tournament_id": "WC-2003"
         },
         {
          "Goals": 5,
          "goal_id": "G-2269",
          "match_id": "M-2003-09",
          "minute": 68,
          "team_name": "Brazil",
          "tournament_id": "WC-2003"
         },
         {
          "Goals": 3,
          "goal_id": "G-2270",
          "match_id": "M-2003-10",
          "minute": 23,
          "team_name": "Germany",
          "tournament_id": "WC-2003"
         },
         {
          "Goals": 2,
          "goal_id": "G-2271",
          "match_id": "M-2003-10",
          "minute": 36,
          "team_name": "Germany",
          "tournament_id": "WC-2003"
         },
         {
          "Goals": 3,
          "goal_id": "G-2272",
          "match_id": "M-2003-10",
          "minute": 66,
          "team_name": "Germany",
          "tournament_id": "WC-2003"
         },
         {
          "Goals": 2,
          "goal_id": "G-2273",
          "match_id": "M-2003-11",
          "minute": 84,
          "team_name": "France",
          "tournament_id": "WC-2003"
         },
         {
          "Goals": 3,
          "goal_id": "G-2288",
          "match_id": "M-2003-17",
          "minute": 58,
          "team_name": "Brazil",
          "tournament_id": "WC-2003"
         },
         {
          "Goals": null,
          "goal_id": "G-2289",
          "match_id": "M-2003-17",
          "minute": null,
          "team_name": "France",
          "tournament_id": "WC-2003"
         },
         {
          "Goals": 3,
          "goal_id": "G-2298",
          "match_id": "M-2003-19",
          "minute": 3,
          "team_name": "Germany",
          "tournament_id": "WC-2003"
         },
         {
          "Goals": 5,
          "goal_id": "G-2299",
          "match_id": "M-2003-19",
          "minute": 24,
          "team_name": "Germany",
          "tournament_id": "WC-2003"
         },
         {
          "Goals": 5,
          "goal_id": "G-2300",
          "match_id": "M-2003-19",
          "minute": 32,
          "team_name": "Germany",
          "tournament_id": "WC-2003"
         },
         {
          "Goals": 1,
          "goal_id": "G-2301",
          "match_id": "M-2003-19",
          "minute": 43,
          "team_name": "Germany",
          "tournament_id": "WC-2003"
         },
         {
          "Goals": 2,
          "goal_id": "G-2302",
          "match_id": "M-2003-19",
          "minute": 71,
          "team_name": "Argentina",
          "tournament_id": "WC-2003"
         },
         {
          "Goals": 7,
          "goal_id": "G-2303",
          "match_id": "M-2003-19",
          "minute": 89,
          "team_name": "Germany",
          "tournament_id": "WC-2003"
         },
         {
          "Goals": null,
          "goal_id": "G-2304",
          "match_id": "M-2003-19",
          "minute": null,
          "team_name": "Germany",
          "tournament_id": "WC-2003"
         },
         {
          "Goals": 6,
          "goal_id": "G-2320",
          "match_id": "M-2003-25",
          "minute": 44,
          "team_name": "Brazil",
          "tournament_id": "WC-2003"
         },
         {
          "Goals": 4,
          "goal_id": "G-2323",
          "match_id": "M-2003-27",
          "minute": 25,
          "team_name": "Germany",
          "tournament_id": "WC-2003"
         },
         {
          "Goals": 6,
          "goal_id": "G-2324",
          "match_id": "M-2003-27",
          "minute": 57,
          "team_name": "Germany",
          "tournament_id": "WC-2003"
         },
         {
          "Goals": 4,
          "goal_id": "G-2325",
          "match_id": "M-2003-27",
          "minute": 60,
          "team_name": "Germany",
          "tournament_id": "WC-2003"
         },
         {
          "Goals": 2,
          "goal_id": "G-2326",
          "match_id": "M-2003-27",
          "minute": 62,
          "team_name": "Germany",
          "tournament_id": "WC-2003"
         },
         {
          "Goals": 2,
          "goal_id": "G-2328",
          "match_id": "M-2003-27",
          "minute": 80,
          "team_name": "Germany",
          "tournament_id": "WC-2003"
         },
         {
          "Goals": 3,
          "goal_id": "G-2329",
          "match_id": "M-2003-27",
          "minute": 85,
          "team_name": "Germany",
          "tournament_id": "WC-2003"
         },
         {
          "Goals": 7,
          "goal_id": "G-2330",
          "match_id": "M-2003-27",
          "minute": 89,
          "team_name": "Germany",
          "tournament_id": "WC-2003"
         },
         {
          "Goals": 1,
          "goal_id": "G-2332",
          "match_id": "M-2003-29",
          "minute": 15,
          "team_name": "Germany",
          "tournament_id": "WC-2003"
         },
         {
          "Goals": null,
          "goal_id": "G-2333",
          "match_id": "M-2003-29",
          "minute": null,
          "team_name": "Germany",
          "tournament_id": "WC-2003"
         },
         {
          "Goals": null,
          "goal_id": "G-2334",
          "match_id": "M-2003-29",
          "minute": null,
          "team_name": "Germany",
          "tournament_id": "WC-2003"
         },
         {
          "Goals": 2,
          "goal_id": "G-2343",
          "match_id": "M-2003-32",
          "minute": 46,
          "team_name": "Germany",
          "tournament_id": "WC-2003"
         },
         {
          "Goals": 2,
          "goal_id": "G-2344",
          "match_id": "M-2003-32",
          "minute": 98,
          "team_name": "Germany",
          "tournament_id": "WC-2003"
         },
         {
          "Goals": 3,
          "goal_id": "G-2345",
          "match_id": "M-2006-01",
          "minute": 6,
          "team_name": "Germany",
          "tournament_id": "WC-2006"
         },
         {
          "Goals": 3,
          "goal_id": "G-2347",
          "match_id": "M-2006-01",
          "minute": 17,
          "team_name": "Germany",
          "tournament_id": "WC-2006"
         },
         {
          "Goals": 3,
          "goal_id": "G-2348",
          "match_id": "M-2006-01",
          "minute": 61,
          "team_name": "Germany",
          "tournament_id": "WC-2006"
         },
         {
          "Goals": 3,
          "goal_id": "G-2350",
          "match_id": "M-2006-01",
          "minute": 87,
          "team_name": "Germany",
          "tournament_id": "WC-2006"
         },
         {
          "Goals": 2,
          "goal_id": "G-2353",
          "match_id": "M-2006-03",
          "minute": 3,
          "team_name": "England",
          "tournament_id": "WC-2006"
         },
         {
          "Goals": 1,
          "goal_id": "G-2354",
          "match_id": "M-2006-05",
          "minute": 24,
          "team_name": "Argentina",
          "tournament_id": "WC-2006"
         },
         {
          "Goals": 2,
          "goal_id": "G-2355",
          "match_id": "M-2006-05",
          "minute": 38,
          "team_name": "Argentina",
          "tournament_id": "WC-2006"
         },
         {
          "Goals": 1,
          "goal_id": "G-2370",
          "match_id": "M-2006-11",
          "minute": 40,
          "team_name": "Italy",
          "tournament_id": "WC-2006"
         },
         {
          "Goals": 2,
          "goal_id": "G-2371",
          "match_id": "M-2006-11",
          "minute": 83,
          "team_name": "Italy",
          "tournament_id": "WC-2006"
         },
         {
          "Goals": 6,
          "goal_id": "G-2375",
          "match_id": "M-2006-14",
          "minute": 44,
          "team_name": "Brazil",
          "tournament_id": "WC-2006"
         },
         {
          "Goals": 2,
          "goal_id": "G-2376",
          "match_id": "M-2006-15",
          "minute": 13,
          "team_name": "Spain",
          "tournament_id": "WC-2006"
         },
         {
          "Goals": 3,
          "goal_id": "G-2377",
          "match_id": "M-2006-15",
          "minute": 17,
          "team_name": "Spain",
          "tournament_id": "WC-2006"
         },
         {
          "Goals": 2,
          "goal_id": "G-2378",
          "match_id": "M-2006-15",
          "minute": 48,
          "team_name": "Spain",
          "tournament_id": "WC-2006"
         },
         {
          "Goals": 4,
          "goal_id": "G-2379",
          "match_id": "M-2006-15",
          "minute": 81,
          "team_name": "Spain",
          "tournament_id": "WC-2006"
         },
         {
          "Goals": null,
          "goal_id": "G-2384",
          "match_id": "M-2006-17",
          "minute": null,
          "team_name": "Germany",
          "tournament_id": "WC-2006"
         },
         {
          "Goals": 4,
          "goal_id": "G-2388",
          "match_id": "M-2006-19",
          "minute": 83,
          "team_name": "England",
          "tournament_id": "WC-2006"
         },
         {
          "Goals": null,
          "goal_id": "G-2389",
          "match_id": "M-2006-19",
          "minute": null,
          "team_name": "England",
          "tournament_id": "WC-2006"
         },
         {
          "Goals": 3,
          "goal_id": "G-2391",
          "match_id": "M-2006-21",
          "minute": 6,
          "team_name": "Argentina",
          "tournament_id": "WC-2006"
         },
         {
          "Goals": 2,
          "goal_id": "G-2392",
          "match_id": "M-2006-21",
          "minute": 31,
          "team_name": "Argentina",
          "tournament_id": "WC-2006"
         },
         {
          "Goals": 2,
          "goal_id": "G-2393",
          "match_id": "M-2006-21",
          "minute": 41,
          "team_name": "Argentina",
          "tournament_id": "WC-2006"
         },
         {
          "Goals": 2,
          "goal_id": "G-2394",
          "match_id": "M-2006-21",
          "minute": 78,
          "team_name": "Argentina",
          "tournament_id": "WC-2006"
         },
         {
          "Goals": 2,
          "goal_id": "G-2395",
          "match_id": "M-2006-21",
          "minute": 84,
          "team_name": "Argentina",
          "tournament_id": "WC-2006"
         },
         {
          "Goals": 2,
          "goal_id": "G-2396",
          "match_id": "M-2006-21",
          "minute": 88,
          "team_name": "Argentina",
          "tournament_id": "WC-2006"
         },
         {
          "Goals": 2,
          "goal_id": "G-2404",
          "match_id": "M-2006-26",
          "minute": 22,
          "team_name": "Italy",
          "tournament_id": "WC-2006"
         },
         {
          "Goals": 5,
          "goal_id": "G-2406",
          "match_id": "M-2006-28",
          "minute": 49,
          "team_name": "Brazil",
          "tournament_id": "WC-2006"
         },
         {
          "Goals": 3,
          "goal_id": "G-2407",
          "match_id": "M-2006-28",
          "minute": 90,
          "team_name": "Brazil",
          "tournament_id": "WC-2006"
         },
         {
          "Goals": 4,
          "goal_id": "G-2408",
          "match_id": "M-2006-29",
          "minute": 9,
          "team_name": "France",
          "tournament_id": "WC-2006"
         },
         {
          "Goals": 3,
          "goal_id": "G-2417",
          "match_id": "M-2006-32",
          "minute": 71,
          "team_name": "Spain",
          "tournament_id": "WC-2006"
         },
         {
          "Goals": 1,
          "goal_id": "G-2418",
          "match_id": "M-2006-32",
          "minute": 76,
          "team_name": "Spain",
          "tournament_id": "WC-2006"
         },
         {
          "Goals": null,
          "goal_id": "G-2419",
          "match_id": "M-2006-32",
          "minute": null,
          "team_name": "Spain",
          "tournament_id": "WC-2006"
         },
         {
          "Goals": 2,
          "goal_id": "G-2423",
          "match_id": "M-2006-34",
          "minute": 4,
          "team_name": "Germany",
          "tournament_id": "WC-2006"
         },
         {
          "Goals": 2,
          "goal_id": "G-2424",
          "match_id": "M-2006-34",
          "minute": 44,
          "team_name": "Germany",
          "tournament_id": "WC-2006"
         },
         {
          "Goals": 6,
          "goal_id": "G-2425",
          "match_id": "M-2006-34",
          "minute": 57,
          "team_name": "Germany",
          "tournament_id": "WC-2006"
         },
         {
          "Goals": 2,
          "goal_id": "G-2428",
          "match_id": "M-2006-36",
          "minute": 34,
          "team_name": "England",
          "tournament_id": "WC-2006"
         },
         {
          "Goals": 3,
          "goal_id": "G-2430",
          "match_id": "M-2006-36",
          "minute": 85,
          "team_name": "England",
          "tournament_id": "WC-2006"
         },
         {
          "Goals": 1,
          "goal_id": "G-2442",
          "match_id": "M-2006-41",
          "minute": 26,
          "team_name": "Italy",
          "tournament_id": "WC-2006"
         },
         {
          "Goals": 1,
          "goal_id": "G-2443",
          "match_id": "M-2006-41",
          "minute": 87,
          "team_name": "Italy",
          "tournament_id": "WC-2006"
         },
         {
          "Goals": null,
          "goal_id": "G-2452",
          "match_id": "M-2006-44",
          "minute": null,
          "team_name": "Brazil",
          "tournament_id": "WC-2006"
         },
         {
          "Goals": 4,
          "goal_id": "G-2453",
          "match_id": "M-2006-44",
          "minute": 53,
          "team_name": "Brazil",
          "tournament_id": "WC-2006"
         },
         {
          "Goals": 7,
          "goal_id": "G-2454",
          "match_id": "M-2006-44",
          "minute": 59,
          "team_name": "Brazil",
          "tournament_id": "WC-2006"
         },
         {
          "Goals": 3,
          "goal_id": "G-2455",
          "match_id": "M-2006-44",
          "minute": 81,
          "team_name": "Brazil",
          "tournament_id": "WC-2006"
         },
         {
          "Goals": 2,
          "goal_id": "G-2456",
          "match_id": "M-2006-45",
          "minute": 36,
          "team_name": "Spain",
          "tournament_id": "WC-2006"
         },
         {
          "Goals": 3,
          "goal_id": "G-2460",
          "match_id": "M-2006-48",
          "minute": 55,
          "team_name": "France",
          "tournament_id": "WC-2006"
         },
         {
          "Goals": 4,
          "goal_id": "G-2461",
          "match_id": "M-2006-48",
          "minute": 61,
          "team_name": "France",
          "tournament_id": "WC-2006"
         },
         {
          "Goals": 2,
          "goal_id": "G-2462",
          "match_id": "M-2006-49",
          "minute": 4,
          "team_name": "Germany",
          "tournament_id": "WC-2006"
         },
         {
          "Goals": 4,
          "goal_id": "G-2463",
          "match_id": "M-2006-49",
          "minute": 12,
          "team_name": "Germany",
          "tournament_id": "WC-2006"
         },
         {
          "Goals": 2,
          "goal_id": "G-2465",
          "match_id": "M-2006-50",
          "minute": 10,
          "team_name": "Argentina",
          "tournament_id": "WC-2006"
         },
         {
          "Goals": 1,
          "goal_id": "G-2466",
          "match_id": "M-2006-50",
          "minute": 98,
          "team_name": "Argentina",
          "tournament_id": "WC-2006"
         },
         {
          "Goals": 2,
          "goal_id": "G-2467",
          "match_id": "M-2006-51",
          "minute": 60,
          "team_name": "England",
          "tournament_id": "WC-2006"
         },
         {
          "Goals": null,
          "goal_id": "G-2469",
          "match_id": "M-2006-53",
          "minute": null,
          "team_name": "Italy",
          "tournament_id": "WC-2006"
         },
         {
          "Goals": 2,
          "goal_id": "G-2470",
          "match_id": "M-2006-55",
          "minute": 5,
          "team_name": "Brazil",
          "tournament_id": "WC-2006"
         },
         {
          "Goals": null,
          "goal_id": "G-2471",
          "match_id": "M-2006-55",
          "minute": null,
          "team_name": "Brazil",
          "tournament_id": "WC-2006"
         },
         {
          "Goals": 2,
          "goal_id": "G-2472",
          "match_id": "M-2006-55",
          "minute": 84,
          "team_name": "Brazil",
          "tournament_id": "WC-2006"
         },
         {
          "Goals": 1,
          "goal_id": "G-2473",
          "match_id": "M-2006-56",
          "minute": 28,
          "team_name": "Spain",
          "tournament_id": "WC-2006"
         },
         {
          "Goals": 1,
          "goal_id": "G-2474",
          "match_id": "M-2006-56",
          "minute": 41,
          "team_name": "France",
          "tournament_id": "WC-2006"
         },
         {
          "Goals": 4,
          "goal_id": "G-2475",
          "match_id": "M-2006-56",
          "minute": 83,
          "team_name": "France",
          "tournament_id": "WC-2006"
         },
         {
          "Goals": null,
          "goal_id": "G-2476",
          "match_id": "M-2006-56",
          "minute": null,
          "team_name": "France",
          "tournament_id": "WC-2006"
         },
         {
          "Goals": 2,
          "goal_id": "G-2477",
          "match_id": "M-2006-57",
          "minute": 49,
          "team_name": "Argentina",
          "tournament_id": "WC-2006"
         },
         {
          "Goals": 2,
          "goal_id": "G-2478",
          "match_id": "M-2006-57",
          "minute": 80,
          "team_name": "Germany",
          "tournament_id": "WC-2006"
         },
         {
          "Goals": 3,
          "goal_id": "G-2479",
          "match_id": "M-2006-58",
          "minute": 6,
          "team_name": "Italy",
          "tournament_id": "WC-2006"
         },
         {
          "Goals": 1,
          "goal_id": "G-2480",
          "match_id": "M-2006-58",
          "minute": 59,
          "team_name": "Italy",
          "tournament_id": "WC-2006"
         },
         {
          "Goals": 4,
          "goal_id": "G-2481",
          "match_id": "M-2006-58",
          "minute": 69,
          "team_name": "Italy",
          "tournament_id": "WC-2006"
         },
         {
          "Goals": 3,
          "goal_id": "G-2482",
          "match_id": "M-2006-60",
          "minute": 57,
          "team_name": "France",
          "tournament_id": "WC-2006"
         },
         {
          "Goals": 1,
          "goal_id": "G-2483",
          "match_id": "M-2006-61",
          "minute": 119,
          "team_name": "Italy",
          "tournament_id": "WC-2006"
         },
         {
          "Goals": null,
          "goal_id": "G-2484",
          "match_id": "M-2006-61",
          "minute": null,
          "team_name": "Italy",
          "tournament_id": "WC-2006"
         },
         {
          "Goals": 2,
          "goal_id": "G-2485",
          "match_id": "M-2006-62",
          "minute": 33,
          "team_name": "France",
          "tournament_id": "WC-2006"
         },
         {
          "Goals": 3,
          "goal_id": "G-2486",
          "match_id": "M-2006-63",
          "minute": 56,
          "team_name": "Germany",
          "tournament_id": "WC-2006"
         },
         {
          "Goals": 4,
          "goal_id": "G-2487",
          "match_id": "M-2006-63",
          "minute": 60,
          "team_name": "Germany",
          "tournament_id": "WC-2006"
         },
         {
          "Goals": 5,
          "goal_id": "G-2488",
          "match_id": "M-2006-63",
          "minute": 78,
          "team_name": "Germany",
          "tournament_id": "WC-2006"
         },
         {
          "Goals": 1,
          "goal_id": "G-2490",
          "match_id": "M-2006-64",
          "minute": 7,
          "team_name": "France",
          "tournament_id": "WC-2006"
         },
         {
          "Goals": 3,
          "goal_id": "G-2491",
          "match_id": "M-2006-64",
          "minute": 19,
          "team_name": "Italy",
          "tournament_id": "WC-2006"
         },
         {
          "Goals": 4,
          "goal_id": "G-2492",
          "match_id": "M-2007-01",
          "minute": 12,
          "team_name": "Germany",
          "tournament_id": "WC-2007"
         },
         {
          "Goals": 3,
          "goal_id": "G-2493",
          "match_id": "M-2007-01",
          "minute": 17,
          "team_name": "Germany",
          "tournament_id": "WC-2007"
         },
         {
          "Goals": 5,
          "goal_id": "G-2494",
          "match_id": "M-2007-01",
          "minute": 24,
          "team_name": "Germany",
          "tournament_id": "WC-2007"
         },
         {
          "Goals": 5,
          "goal_id": "G-2495",
          "match_id": "M-2007-01",
          "minute": 29,
          "team_name": "Germany",
          "tournament_id": "WC-2007"
         },
         {
          "Goals": null,
          "goal_id": "G-2496",
          "match_id": "M-2007-01",
          "minute": null,
          "team_name": "Germany",
          "tournament_id": "WC-2007"
         },
         {
          "Goals": 2,
          "goal_id": "G-2497",
          "match_id": "M-2007-01",
          "minute": 51,
          "team_name": "Germany",
          "tournament_id": "WC-2007"
         },
         {
          "Goals": 6,
          "goal_id": "G-2498",
          "match_id": "M-2007-01",
          "minute": 57,
          "team_name": "Germany",
          "tournament_id": "WC-2007"
         },
         {
          "Goals": 1,
          "goal_id": "G-2499",
          "match_id": "M-2007-01",
          "minute": 59,
          "team_name": "Germany",
          "tournament_id": "WC-2007"
         },
         {
          "Goals": 5,
          "goal_id": "G-2500",
          "match_id": "M-2007-01",
          "minute": 70,
          "team_name": "Germany",
          "tournament_id": "WC-2007"
         },
         {
          "Goals": 5,
          "goal_id": "G-2501",
          "match_id": "M-2007-01",
          "minute": 79,
          "team_name": "Germany",
          "tournament_id": "WC-2007"
         },
         {
          "Goals": null,
          "goal_id": "G-2502",
          "match_id": "M-2007-01",
          "minute": null,
          "team_name": "Germany",
          "tournament_id": "WC-2007"
         },
         {
          "Goals": 5,
          "goal_id": "G-2508",
          "match_id": "M-2007-03",
          "minute": 81,
          "team_name": "England",
          "tournament_id": "WC-2007"
         },
         {
          "Goals": 4,
          "goal_id": "G-2509",
          "match_id": "M-2007-03",
          "minute": 83,
          "team_name": "England",
          "tournament_id": "WC-2007"
         },
         {
          "Goals": 4,
          "goal_id": "G-2518",
          "match_id": "M-2007-06",
          "minute": 10,
          "team_name": "Brazil",
          "tournament_id": "WC-2007"
         },
         {
          "Goals": 3,
          "goal_id": "G-2519",
          "match_id": "M-2007-06",
          "minute": 54,
          "team_name": "Brazil",
          "tournament_id": "WC-2007"
         },
         {
          "Goals": 4,
          "goal_id": "G-2520",
          "match_id": "M-2007-06",
          "minute": 74,
          "team_name": "Brazil",
          "tournament_id": "WC-2007"
         },
         {
          "Goals": 3,
          "goal_id": "G-2521",
          "match_id": "M-2007-06",
          "minute": 86,
          "team_name": "Brazil",
          "tournament_id": "WC-2007"
         },
         {
          "Goals": null,
          "goal_id": "G-2522",
          "match_id": "M-2007-06",
          "minute": null,
          "team_name": "Brazil",
          "tournament_id": "WC-2007"
         },
         {
          "Goals": 3,
          "goal_id": "G-2544",
          "match_id": "M-2007-16",
          "minute": 42,
          "team_name": "Brazil",
          "tournament_id": "WC-2007"
         },
         {
          "Goals": 4,
          "goal_id": "G-2545",
          "match_id": "M-2007-16",
          "minute": 47,
          "team_name": "Brazil",
          "tournament_id": "WC-2007"
         },
         {
          "Goals": 3,
          "goal_id": "G-2546",
          "match_id": "M-2007-16",
          "minute": 48,
          "team_name": "Brazil",
          "tournament_id": "WC-2007"
         },
         {
          "Goals": 2,
          "goal_id": "G-2547",
          "match_id": "M-2007-16",
          "minute": 70,
          "team_name": "Brazil",
          "tournament_id": "WC-2007"
         },
         {
          "Goals": 4,
          "goal_id": "G-2548",
          "match_id": "M-2007-17",
          "minute": 9,
          "team_name": "England",
          "tournament_id": "WC-2007"
         },
         {
          "Goals": 2,
          "goal_id": "G-2549",
          "match_id": "M-2007-17",
          "minute": 10,
          "team_name": "England",
          "tournament_id": "WC-2007"
         },
         {
          "Goals": 3,
          "goal_id": "G-2550",
          "match_id": "M-2007-17",
          "minute": 50,
          "team_name": "England",
          "tournament_id": "WC-2007"
         },
         {
          "Goals": 5,
          "goal_id": "G-2551",
          "match_id": "M-2007-17",
          "minute": 60,
          "team_name": "Argentina",
          "tournament_id": "WC-2007"
         },
         {
          "Goals": 1,
          "goal_id": "G-2552",
          "match_id": "M-2007-17",
          "minute": 64,
          "team_name": "England",
          "tournament_id": "WC-2007"
         },
         {
          "Goals": 1,
          "goal_id": "G-2553",
          "match_id": "M-2007-17",
          "minute": 77,
          "team_name": "England",
          "tournament_id": "WC-2007"
         },
         {
          "Goals": 2,
          "goal_id": "G-2554",
          "match_id": "M-2007-17",
          "minute": 90,
          "team_name": "England",
          "tournament_id": "WC-2007"
         },
         {
          "Goals": 2,
          "goal_id": "G-2555",
          "match_id": "M-2007-18",
          "minute": 21,
          "team_name": "Germany",
          "tournament_id": "WC-2007"
         },
         {
          "Goals": 3,
          "goal_id": "G-2556",
          "match_id": "M-2007-18",
          "minute": 87,
          "team_name": "Germany",
          "tournament_id": "WC-2007"
         },
         {
          "Goals": null,
          "goal_id": "G-2574",
          "match_id": "M-2007-23",
          "minute": null,
          "team_name": "Brazil",
          "tournament_id": "WC-2007"
         },
         {
          "Goals": 2,
          "goal_id": "G-2577",
          "match_id": "M-2007-25",
          "minute": 44,
          "team_name": "Germany",
          "tournament_id": "WC-2007"
         },
         {
          "Goals": 3,
          "goal_id": "G-2578",
          "match_id": "M-2007-25",
          "minute": 67,
          "team_name": "Germany",
          "tournament_id": "WC-2007"
         },
         {
          "Goals": 3,
          "goal_id": "G-2579",
          "match_id": "M-2007-25",
          "minute": 72,
          "team_name": "Germany",
          "tournament_id": "WC-2007"
         },
         {
          "Goals": 4,
          "goal_id": "G-2584",
          "match_id": "M-2007-28",
          "minute": 4,
          "team_name": "Brazil",
          "tournament_id": "WC-2007"
         },
         {
          "Goals": 2,
          "goal_id": "G-2585",
          "match_id": "M-2007-28",
          "minute": 23,
          "team_name": "Brazil",
          "tournament_id": "WC-2007"
         },
         {
          "Goals": 5,
          "goal_id": "G-2588",
          "match_id": "M-2007-28",
          "minute": 75,
          "team_name": "Brazil",
          "tournament_id": "WC-2007"
         },
         {
          "Goals": 6,
          "goal_id": "G-2589",
          "match_id": "M-2007-29",
          "minute": 42,
          "team_name": "Germany",
          "tournament_id": "WC-2007"
         },
         {
          "Goals": 3,
          "goal_id": "G-2590",
          "match_id": "M-2007-29",
          "minute": 72,
          "team_name": "Germany",
          "tournament_id": "WC-2007"
         },
         {
          "Goals": 4,
          "goal_id": "G-2591",
          "match_id": "M-2007-29",
          "minute": 75,
          "team_name": "Germany",
          "tournament_id": "WC-2007"
         },
         {
          "Goals": 3,
          "goal_id": "G-2592",
          "match_id": "M-2007-30",
          "minute": 20,
          "team_name": "Brazil",
          "tournament_id": "WC-2007"
         },
         {
          "Goals": 3,
          "goal_id": "G-2593",
          "match_id": "M-2007-30",
          "minute": 27,
          "team_name": "Brazil",
          "tournament_id": "WC-2007"
         },
         {
          "Goals": 2,
          "goal_id": "G-2594",
          "match_id": "M-2007-30",
          "minute": 56,
          "team_name": "Brazil",
          "tournament_id": "WC-2007"
         },
         {
          "Goals": 5,
          "goal_id": "G-2595",
          "match_id": "M-2007-30",
          "minute": 79,
          "team_name": "Brazil",
          "tournament_id": "WC-2007"
         },
         {
          "Goals": 1,
          "goal_id": "G-2601",
          "match_id": "M-2007-32",
          "minute": 52,
          "team_name": "Germany",
          "tournament_id": "WC-2007"
         },
         {
          "Goals": 2,
          "goal_id": "G-2602",
          "match_id": "M-2007-32",
          "minute": 86,
          "team_name": "Germany",
          "tournament_id": "WC-2007"
         },
         {
          "Goals": 3,
          "goal_id": "G-2607",
          "match_id": "M-2010-04",
          "minute": 6,
          "team_name": "Argentina",
          "tournament_id": "WC-2010"
         },
         {
          "Goals": 1,
          "goal_id": "G-2608",
          "match_id": "M-2010-05",
          "minute": 4,
          "team_name": "England",
          "tournament_id": "WC-2010"
         },
         {
          "Goals": 3,
          "goal_id": "G-2612",
          "match_id": "M-2010-08",
          "minute": 8,
          "team_name": "Germany",
          "tournament_id": "WC-2010"
         },
         {
          "Goals": 2,
          "goal_id": "G-2613",
          "match_id": "M-2010-08",
          "minute": 26,
          "team_name": "Germany",
          "tournament_id": "WC-2010"
         },
         {
          "Goals": 3,
          "goal_id": "G-2614",
          "match_id": "M-2010-08",
          "minute": 68,
          "team_name": "Germany",
          "tournament_id": "WC-2010"
         },
         {
          "Goals": 5,
          "goal_id": "G-2615",
          "match_id": "M-2010-08",
          "minute": 70,
          "team_name": "Germany",
          "tournament_id": "WC-2010"
         },
         {
          "Goals": 3,
          "goal_id": "G-2620",
          "match_id": "M-2010-11",
          "minute": 63,
          "team_name": "Italy",
          "tournament_id": "WC-2010"
         },
         {
          "Goals": 7,
          "goal_id": "G-2623",
          "match_id": "M-2010-14",
          "minute": 55,
          "team_name": "Brazil",
          "tournament_id": "WC-2010"
         },
         {
          "Goals": 5,
          "goal_id": "G-2624",
          "match_id": "M-2010-14",
          "minute": 72,
          "team_name": "Brazil",
          "tournament_id": "WC-2010"
         },
         {
          "Goals": 2,
          "goal_id": "G-2628",
          "match_id": "M-2010-17",
          "minute": 24,
          "team_name": "Uruguay",
          "tournament_id": "WC-2010"
         },
         {
          "Goals": 2,
          "goal_id": "G-2629",
          "match_id": "M-2010-17",
          "minute": 80,
          "team_name": "Uruguay",
          "tournament_id": "WC-2010"
         },
         {
          "Goals": null,
          "goal_id": "G-2630",
          "match_id": "M-2010-17",
          "minute": null,
          "team_name": "Uruguay",
          "tournament_id": "WC-2010"
         },
         {
          "Goals": 3,
          "goal_id": "G-2631",
          "match_id": "M-2010-18",
          "minute": 17,
          "team_name": "Argentina",
          "tournament_id": "WC-2010"
         },
         {
          "Goals": 2,
          "goal_id": "G-2632",
          "match_id": "M-2010-18",
          "minute": 33,
          "team_name": "Argentina",
          "tournament_id": "WC-2010"
         },
         {
          "Goals": 1,
          "goal_id": "G-2634",
          "match_id": "M-2010-18",
          "minute": 76,
          "team_name": "Argentina",
          "tournament_id": "WC-2010"
         },
         {
          "Goals": 3,
          "goal_id": "G-2635",
          "match_id": "M-2010-18",
          "minute": 80,
          "team_name": "Argentina",
          "tournament_id": "WC-2010"
         },
         {
          "Goals": 4,
          "goal_id": "G-2655",
          "match_id": "M-2010-28",
          "minute": 29,
          "team_name": "Italy",
          "tournament_id": "WC-2010"
         },
         {
          "Goals": 3,
          "goal_id": "G-2656",
          "match_id": "M-2010-29",
          "minute": 25,
          "team_name": "Brazil",
          "tournament_id": "WC-2010"
         },
         {
          "Goals": 7,
          "goal_id": "G-2657",
          "match_id": "M-2010-29",
          "minute": 50,
          "team_name": "Brazil",
          "tournament_id": "WC-2010"
         },
         {
          "Goals": 7,
          "goal_id": "G-2658",
          "match_id": "M-2010-29",
          "minute": 62,
          "team_name": "Brazil",
          "tournament_id": "WC-2010"
         },
         {
          "Goals": 3,
          "goal_id": "G-2668",
          "match_id": "M-2010-32",
          "minute": 17,
          "team_name": "Spain",
          "tournament_id": "WC-2010"
         },
         {
          "Goals": 2,
          "goal_id": "G-2669",
          "match_id": "M-2010-32",
          "minute": 51,
          "team_name": "Spain",
          "tournament_id": "WC-2010"
         },
         {
          "Goals": 3,
          "goal_id": "G-2672",
          "match_id": "M-2010-33",
          "minute": 70,
          "team_name": "France",
          "tournament_id": "WC-2010"
         },
         {
          "Goals": 1,
          "goal_id": "G-2673",
          "match_id": "M-2010-34",
          "minute": 43,
          "team_name": "Uruguay",
          "tournament_id": "WC-2010"
         },
         {
          "Goals": 3,
          "goal_id": "G-2674",
          "match_id": "M-2010-35",
          "minute": 77,
          "team_name": "Argentina",
          "tournament_id": "WC-2010"
         },
         {
          "Goals": 2,
          "goal_id": "G-2675",
          "match_id": "M-2010-35",
          "minute": 89,
          "team_name": "Argentina",
          "tournament_id": "WC-2010"
         },
         {
          "Goals": 2,
          "goal_id": "G-2680",
          "match_id": "M-2010-37",
          "minute": 23,
          "team_name": "England",
          "tournament_id": "WC-2010"
         },
         {
          "Goals": 4,
          "goal_id": "G-2685",
          "match_id": "M-2010-40",
          "minute": 60,
          "team_name": "Germany",
          "tournament_id": "WC-2010"
         },
         {
          "Goals": 4,
          "goal_id": "G-2688",
          "match_id": "M-2010-42",
          "minute": 81,
          "team_name": "Italy",
          "tournament_id": "WC-2010"
         },
         {
          "Goals": null,
          "goal_id": "G-2690",
          "match_id": "M-2010-42",
          "minute": null,
          "team_name": "Italy",
          "tournament_id": "WC-2010"
         },
         {
          "Goals": 2,
          "goal_id": "G-2701",
          "match_id": "M-2010-47",
          "minute": 24,
          "team_name": "Spain",
          "tournament_id": "WC-2010"
         },
         {
          "Goals": 2,
          "goal_id": "G-2702",
          "match_id": "M-2010-47",
          "minute": 37,
          "team_name": "Spain",
          "tournament_id": "WC-2010"
         },
         {
          "Goals": 1,
          "goal_id": "G-2704",
          "match_id": "M-2010-49",
          "minute": 8,
          "team_name": "Uruguay",
          "tournament_id": "WC-2010"
         },
         {
          "Goals": 2,
          "goal_id": "G-2706",
          "match_id": "M-2010-49",
          "minute": 80,
          "team_name": "Uruguay",
          "tournament_id": "WC-2010"
         },
         {
          "Goals": 4,
          "goal_id": "G-2710",
          "match_id": "M-2010-51",
          "minute": 20,
          "team_name": "Germany",
          "tournament_id": "WC-2010"
         },
         {
          "Goals": 5,
          "goal_id": "G-2711",
          "match_id": "M-2010-51",
          "minute": 32,
          "team_name": "Germany",
          "tournament_id": "WC-2010"
         },
         {
          "Goals": 3,
          "goal_id": "G-2712",
          "match_id": "M-2010-51",
          "minute": 37,
          "team_name": "England",
          "tournament_id": "WC-2010"
         },
         {
          "Goals": 3,
          "goal_id": "G-2713",
          "match_id": "M-2010-51",
          "minute": 67,
          "team_name": "Germany",
          "tournament_id": "WC-2010"
         },
         {
          "Goals": 5,
          "goal_id": "G-2714",
          "match_id": "M-2010-51",
          "minute": 70,
          "team_name": "Germany",
          "tournament_id": "WC-2010"
         },
         {
          "Goals": 2,
          "goal_id": "G-2715",
          "match_id": "M-2010-52",
          "minute": 26,
          "team_name": "Argentina",
          "tournament_id": "WC-2010"
         },
         {
          "Goals": 2,
          "goal_id": "G-2716",
          "match_id": "M-2010-52",
          "minute": 33,
          "team_name": "Argentina",
          "tournament_id": "WC-2010"
         },
         {
          "Goals": 2,
          "goal_id": "G-2717",
          "match_id": "M-2010-52",
          "minute": 52,
          "team_name": "Argentina",
          "tournament_id": "WC-2010"
         },
         {
          "Goals": 4,
          "goal_id": "G-2722",
          "match_id": "M-2010-54",
          "minute": 35,
          "team_name": "Brazil",
          "tournament_id": "WC-2010"
         },
         {
          "Goals": 3,
          "goal_id": "G-2723",
          "match_id": "M-2010-54",
          "minute": 38,
          "team_name": "Brazil",
          "tournament_id": "WC-2010"
         },
         {
          "Goals": 7,
          "goal_id": "G-2724",
          "match_id": "M-2010-54",
          "minute": 59,
          "team_name": "Brazil",
          "tournament_id": "WC-2010"
         },
         {
          "Goals": 1,
          "goal_id": "G-2725",
          "match_id": "M-2010-56",
          "minute": 63,
          "team_name": "Spain",
          "tournament_id": "WC-2010"
         },
         {
          "Goals": 4,
          "goal_id": "G-2726",
          "match_id": "M-2010-57",
          "minute": 10,
          "team_name": "Brazil",
          "tournament_id": "WC-2010"
         },
         {
          "Goals": 1,
          "goal_id": "G-2730",
          "match_id": "M-2010-58",
          "minute": 55,
          "team_name": "Uruguay",
          "tournament_id": "WC-2010"
         },
         {
          "Goals": 3,
          "goal_id": "G-2731",
          "match_id": "M-2010-59",
          "minute": 3,
          "team_name": "Germany",
          "tournament_id": "WC-2010"
         },
         {
          "Goals": 3,
          "goal_id": "G-2732",
          "match_id": "M-2010-59",
          "minute": 68,
          "team_name": "Germany",
          "tournament_id": "WC-2010"
         },
         {
          "Goals": 2,
          "goal_id": "G-2733",
          "match_id": "M-2010-59",
          "minute": 74,
          "team_name": "Germany",
          "tournament_id": "WC-2010"
         },
         {
          "Goals": 7,
          "goal_id": "G-2734",
          "match_id": "M-2010-59",
          "minute": 89,
          "team_name": "Germany",
          "tournament_id": "WC-2010"
         },
         {
          "Goals": 3,
          "goal_id": "G-2735",
          "match_id": "M-2010-60",
          "minute": 83,
          "team_name": "Spain",
          "tournament_id": "WC-2010"
         },
         {
          "Goals": 1,
          "goal_id": "G-2737",
          "match_id": "M-2010-61",
          "minute": 41,
          "team_name": "Uruguay",
          "tournament_id": "WC-2010"
         },
         {
          "Goals": null,
          "goal_id": "G-2740",
          "match_id": "M-2010-61",
          "minute": null,
          "team_name": "Uruguay",
          "tournament_id": "WC-2010"
         },
         {
          "Goals": 1,
          "goal_id": "G-2741",
          "match_id": "M-2010-62",
          "minute": 73,
          "team_name": "Spain",
          "tournament_id": "WC-2010"
         },
         {
          "Goals": 2,
          "goal_id": "G-2742",
          "match_id": "M-2010-63",
          "minute": 19,
          "team_name": "Germany",
          "tournament_id": "WC-2010"
         },
         {
          "Goals": 1,
          "goal_id": "G-2743",
          "match_id": "M-2010-63",
          "minute": 28,
          "team_name": "Uruguay",
          "tournament_id": "WC-2010"
         },
         {
          "Goals": 2,
          "goal_id": "G-2744",
          "match_id": "M-2010-63",
          "minute": 51,
          "team_name": "Uruguay",
          "tournament_id": "WC-2010"
         },
         {
          "Goals": 3,
          "goal_id": "G-2745",
          "match_id": "M-2010-63",
          "minute": 56,
          "team_name": "Germany",
          "tournament_id": "WC-2010"
         },
         {
          "Goals": 3,
          "goal_id": "G-2746",
          "match_id": "M-2010-63",
          "minute": 82,
          "team_name": "Germany",
          "tournament_id": "WC-2010"
         },
         {
          "Goals": 1,
          "goal_id": "G-2747",
          "match_id": "M-2010-64",
          "minute": 116,
          "team_name": "Spain",
          "tournament_id": "WC-2010"
         },
         {
          "Goals": 4,
          "goal_id": "G-2748",
          "match_id": "M-2011-01",
          "minute": 56,
          "team_name": "France",
          "tournament_id": "WC-2011"
         },
         {
          "Goals": 4,
          "goal_id": "G-2749",
          "match_id": "M-2011-02",
          "minute": 10,
          "team_name": "Germany",
          "tournament_id": "WC-2011"
         },
         {
          "Goals": 6,
          "goal_id": "G-2750",
          "match_id": "M-2011-02",
          "minute": 42,
          "team_name": "Germany",
          "tournament_id": "WC-2011"
         },
         {
          "Goals": 1,
          "goal_id": "G-2755",
          "match_id": "M-2011-04",
          "minute": 21,
          "team_name": "England",
          "tournament_id": "WC-2011"
         },
         {
          "Goals": 3,
          "goal_id": "G-2761",
          "match_id": "M-2011-08",
          "minute": 54,
          "team_name": "Brazil",
          "tournament_id": "WC-2011"
         },
         {
          "Goals": 3,
          "goal_id": "G-2762",
          "match_id": "M-2011-09",
          "minute": 24,
          "team_name": "France",
          "tournament_id": "WC-2011"
         },
         {
          "Goals": 2,
          "goal_id": "G-2763",
          "match_id": "M-2011-09",
          "minute": 60,
          "team_name": "France",
          "tournament_id": "WC-2011"
         },
         {
          "Goals": 2,
          "goal_id": "G-2764",
          "match_id": "M-2011-09",
          "minute": 66,
          "team_name": "France",
          "tournament_id": "WC-2011"
         },
         {
          "Goals": 4,
          "goal_id": "G-2765",
          "match_id": "M-2011-09",
          "minute": 83,
          "team_name": "France",
          "tournament_id": "WC-2011"
         },
         {
          "Goals": 1,
          "goal_id": "G-2766",
          "match_id": "M-2011-10",
          "minute": 54,
          "team_name": "Germany",
          "tournament_id": "WC-2011"
         },
         {
          "Goals": 2,
          "goal_id": "G-2772",
          "match_id": "M-2011-12",
          "minute": 63,
          "team_name": "England",
          "tournament_id": "WC-2011"
         },
         {
          "Goals": 5,
          "goal_id": "G-2773",
          "match_id": "M-2011-12",
          "minute": 81,
          "team_name": "England",
          "tournament_id": "WC-2011"
         },
         {
          "Goals": 3,
          "goal_id": "G-2783",
          "match_id": "M-2011-16",
          "minute": 22,
          "team_name": "Brazil",
          "tournament_id": "WC-2011"
         },
         {
          "Goals": 2,
          "goal_id": "G-2784",
          "match_id": "M-2011-16",
          "minute": 46,
          "team_name": "Brazil",
          "tournament_id": "WC-2011"
         },
         {
          "Goals": 3,
          "goal_id": "G-2785",
          "match_id": "M-2011-16",
          "minute": 48,
          "team_name": "Brazil",
          "tournament_id": "WC-2011"
         },
         {
          "Goals": 2,
          "goal_id": "G-2786",
          "match_id": "M-2011-17",
          "minute": 15,
          "team_name": "England",
          "tournament_id": "WC-2011"
         },
         {
          "Goals": 3,
          "goal_id": "G-2787",
          "match_id": "M-2011-17",
          "minute": 66,
          "team_name": "England",
          "tournament_id": "WC-2011"
         },
         {
          "Goals": 4,
          "goal_id": "G-2793",
          "match_id": "M-2011-20",
          "minute": 25,
          "team_name": "Germany",
          "tournament_id": "WC-2011"
         },
         {
          "Goals": 5,
          "goal_id": "G-2794",
          "match_id": "M-2011-20",
          "minute": 32,
          "team_name": "Germany",
          "tournament_id": "WC-2011"
         },
         {
          "Goals": 4,
          "goal_id": "G-2795",
          "match_id": "M-2011-20",
          "minute": 56,
          "team_name": "France",
          "tournament_id": "WC-2011"
         },
         {
          "Goals": 3,
          "goal_id": "G-2796",
          "match_id": "M-2011-20",
          "minute": 68,
          "team_name": "Germany",
          "tournament_id": "WC-2011"
         },
         {
          "Goals": 4,
          "goal_id": "G-2797",
          "match_id": "M-2011-20",
          "minute": 72,
          "team_name": "France",
          "tournament_id": "WC-2011"
         },
         {
          "Goals": 7,
          "goal_id": "G-2798",
          "match_id": "M-2011-20",
          "minute": 89,
          "team_name": "Germany",
          "tournament_id": "WC-2011"
         },
         {
          "Goals": 5,
          "goal_id": "G-2802",
          "match_id": "M-2011-22",
          "minute": 49,
          "team_name": "Brazil",
          "tournament_id": "WC-2011"
         },
         {
          "Goals": 3,
          "goal_id": "G-2803",
          "match_id": "M-2011-22",
          "minute": 54,
          "team_name": "Brazil",
          "tournament_id": "WC-2011"
         },
         {
          "Goals": null,
          "goal_id": "G-2804",
          "match_id": "M-2011-22",
          "minute": null,
          "team_name": "Brazil",
          "tournament_id": "WC-2011"
         },
         {
          "Goals": 2,
          "goal_id": "G-2808",
          "match_id": "M-2011-25",
          "minute": 59,
          "team_name": "England",
          "tournament_id": "WC-2011"
         },
         {
          "Goals": 2,
          "goal_id": "G-2809",
          "match_id": "M-2011-25",
          "minute": 88,
          "team_name": "France",
          "tournament_id": "WC-2011"
         },
         {
          "Goals": 5,
          "goal_id": "G-2816",
          "match_id": "M-2011-28",
          "minute": 68,
          "team_name": "Brazil",
          "tournament_id": "WC-2011"
         },
         {
          "Goals": 1,
          "goal_id": "G-2817",
          "match_id": "M-2011-28",
          "minute": 92,
          "team_name": "Brazil",
          "tournament_id": "WC-2011"
         },
         {
          "Goals": 3,
          "goal_id": "G-2820",
          "match_id": "M-2011-29",
          "minute": 55,
          "team_name": "France",
          "tournament_id": "WC-2011"
         },
         {
          "Goals": 4,
          "goal_id": "G-2828",
          "match_id": "M-2011-31",
          "minute": 56,
          "team_name": "France",
          "tournament_id": "WC-2011"
         },
         {
          "Goals": 3,
          "goal_id": "G-2835",
          "match_id": "M-2014-01",
          "minute": 29,
          "team_name": "Brazil",
          "tournament_id": "WC-2014"
         },
         {
          "Goals": 5,
          "goal_id": "G-2836",
          "match_id": "M-2014-01",
          "minute": 71,
          "team_name": "Brazil",
          "tournament_id": "WC-2014"
         },
         {
          "Goals": null,
          "goal_id": "G-2837",
          "match_id": "M-2014-01",
          "minute": null,
          "team_name": "Brazil",
          "tournament_id": "WC-2014"
         },
         {
          "Goals": 1,
          "goal_id": "G-2839",
          "match_id": "M-2014-03",
          "minute": 27,
          "team_name": "Spain",
          "tournament_id": "WC-2014"
         },
         {
          "Goals": 2,
          "goal_id": "G-2852",
          "match_id": "M-2014-06",
          "minute": 24,
          "team_name": "Uruguay",
          "tournament_id": "WC-2014"
         },
         {
          "Goals": 4,
          "goal_id": "G-2856",
          "match_id": "M-2014-07",
          "minute": 35,
          "team_name": "Italy",
          "tournament_id": "WC-2014"
         },
         {
          "Goals": 3,
          "goal_id": "G-2857",
          "match_id": "M-2014-07",
          "minute": 37,
          "team_name": "England",
          "tournament_id": "WC-2014"
         },
         {
          "Goals": 1,
          "goal_id": "G-2858",
          "match_id": "M-2014-07",
          "minute": 50,
          "team_name": "Italy",
          "tournament_id": "WC-2014"
         },
         {
          "Goals": 1,
          "goal_id": "G-2865",
          "match_id": "M-2014-10",
          "minute": 45,
          "team_name": "France",
          "tournament_id": "WC-2014"
         },
         {
          "Goals": 3,
          "goal_id": "G-2866",
          "match_id": "M-2014-10",
          "minute": 48,
          "team_name": "France",
          "tournament_id": "WC-2014"
         },
         {
          "Goals": 4,
          "goal_id": "G-2867",
          "match_id": "M-2014-10",
          "minute": 72,
          "team_name": "France",
          "tournament_id": "WC-2014"
         },
         {
          "Goals": 3,
          "goal_id": "G-2868",
          "match_id": "M-2014-11",
          "minute": 3,
          "team_name": "Argentina",
          "tournament_id": "WC-2014"
         },
         {
          "Goals": 3,
          "goal_id": "G-2869",
          "match_id": "M-2014-11",
          "minute": 65,
          "team_name": "Argentina",
          "tournament_id": "WC-2014"
         },
         {
          "Goals": 4,
          "goal_id": "G-2871",
          "match_id": "M-2014-12",
          "minute": 12,
          "team_name": "Germany",
          "tournament_id": "WC-2014"
         },
         {
          "Goals": 5,
          "goal_id": "G-2872",
          "match_id": "M-2014-12",
          "minute": 32,
          "team_name": "Germany",
          "tournament_id": "WC-2014"
         },
         {
          "Goals": null,
          "goal_id": "G-2873",
          "match_id": "M-2014-12",
          "minute": null,
          "team_name": "Germany",
          "tournament_id": "WC-2014"
         },
         {
          "Goals": 5,
          "goal_id": "G-2874",
          "match_id": "M-2014-12",
          "minute": 78,
          "team_name": "Germany",
          "tournament_id": "WC-2014"
         },
         {
          "Goals": 3,
          "goal_id": "G-2897",
          "match_id": "M-2014-22",
          "minute": 39,
          "team_name": "Uruguay",
          "tournament_id": "WC-2014"
         },
         {
          "Goals": 3,
          "goal_id": "G-2898",
          "match_id": "M-2014-22",
          "minute": 75,
          "team_name": "England",
          "tournament_id": "WC-2014"
         },
         {
          "Goals": 3,
          "goal_id": "G-2899",
          "match_id": "M-2014-22",
          "minute": 85,
          "team_name": "Uruguay",
          "tournament_id": "WC-2014"
         },
         {
          "Goals": 2,
          "goal_id": "G-2901",
          "match_id": "M-2014-25",
          "minute": 17,
          "team_name": "France",
          "tournament_id": "WC-2014"
         },
         {
          "Goals": 3,
          "goal_id": "G-2902",
          "match_id": "M-2014-25",
          "minute": 18,
          "team_name": "France",
          "tournament_id": "WC-2014"
         },
         {
          "Goals": 4,
          "goal_id": "G-2903",
          "match_id": "M-2014-25",
          "minute": 40,
          "team_name": "France",
          "tournament_id": "WC-2014"
         },
         {
          "Goals": 2,
          "goal_id": "G-2904",
          "match_id": "M-2014-25",
          "minute": 67,
          "team_name": "France",
          "tournament_id": "WC-2014"
         },
         {
          "Goals": 1,
          "goal_id": "G-2905",
          "match_id": "M-2014-25",
          "minute": 73,
          "team_name": "France",
          "tournament_id": "WC-2014"
         },
         {
          "Goals": null,
          "goal_id": "G-2911",
          "match_id": "M-2014-27",
          "minute": null,
          "team_name": "Argentina",
          "tournament_id": "WC-2014"
         },
         {
          "Goals": 2,
          "goal_id": "G-2912",
          "match_id": "M-2014-28",
          "minute": 51,
          "team_name": "Germany",
          "tournament_id": "WC-2014"
         },
         {
          "Goals": 2,
          "goal_id": "G-2915",
          "match_id": "M-2014-28",
          "minute": 71,
          "team_name": "Germany",
          "tournament_id": "WC-2014"
         },
         {
          "Goals": 2,
          "goal_id": "G-2928",
          "match_id": "M-2014-33",
          "minute": 36,
          "team_name": "Spain",
          "tournament_id": "WC-2014"
         },
         {
          "Goals": 2,
          "goal_id": "G-2929",
          "match_id": "M-2014-33",
          "minute": 69,
          "team_name": "Spain",
          "tournament_id": "WC-2014"
         },
         {
          "Goals": 3,
          "goal_id": "G-2930",
          "match_id": "M-2014-33",
          "minute": 82,
          "team_name": "Spain",
          "tournament_id": "WC-2014"
         },
         {
          "Goals": 4,
          "goal_id": "G-2933",
          "match_id": "M-2014-35",
          "minute": 17,
          "team_name": "Brazil",
          "tournament_id": "WC-2014"
         },
         {
          "Goals": 4,
          "goal_id": "G-2935",
          "match_id": "M-2014-35",
          "minute": 35,
          "team_name": "Brazil",
          "tournament_id": "WC-2014"
         },
         {
          "Goals": 5,
          "goal_id": "G-2936",
          "match_id": "M-2014-35",
          "minute": 49,
          "team_name": "Brazil",
          "tournament_id": "WC-2014"
         },
         {
          "Goals": 2,
          "goal_id": "G-2937",
          "match_id": "M-2014-35",
          "minute": 84,
          "team_name": "Brazil",
          "tournament_id": "WC-2014"
         },
         {
          "Goals": 1,
          "goal_id": "G-2942",
          "match_id": "M-2014-38",
          "minute": 81,
          "team_name": "Uruguay",
          "tournament_id": "WC-2014"
         },
         {
          "Goals": 3,
          "goal_id": "G-2955",
          "match_id": "M-2014-42",
          "minute": 3,
          "team_name": "Argentina",
          "tournament_id": "WC-2014"
         },
         {
          "Goals": null,
          "goal_id": "G-2957",
          "match_id": "M-2014-42",
          "minute": null,
          "team_name": "Argentina",
          "tournament_id": "WC-2014"
         },
         {
          "Goals": 2,
          "goal_id": "G-2959",
          "match_id": "M-2014-42",
          "minute": 50,
          "team_name": "Argentina",
          "tournament_id": "WC-2014"
         },
         {
          "Goals": 2,
          "goal_id": "G-2966",
          "match_id": "M-2014-46",
          "minute": 55,
          "team_name": "Germany",
          "tournament_id": "WC-2014"
         },
         {
          "Goals": 4,
          "goal_id": "G-2970",
          "match_id": "M-2014-49",
          "minute": 18,
          "team_name": "Brazil",
          "tournament_id": "WC-2014"
         },
         {
          "Goals": 4,
          "goal_id": "G-2979",
          "match_id": "M-2014-53",
          "minute": 79,
          "team_name": "France",
          "tournament_id": "WC-2014"
         },
         {
          "Goals": null,
          "goal_id": "G-2980",
          "match_id": "M-2014-53",
          "minute": null,
          "team_name": "France",
          "tournament_id": "WC-2014"
         },
         {
          "Goals": 1,
          "goal_id": "G-2981",
          "match_id": "M-2014-54",
          "minute": 92,
          "team_name": "Germany",
          "tournament_id": "WC-2014"
         },
         {
          "Goals": 1,
          "goal_id": "G-2982",
          "match_id": "M-2014-54",
          "minute": 120,
          "team_name": "Germany",
          "tournament_id": "WC-2014"
         },
         {
          "Goals": 1,
          "goal_id": "G-2984",
          "match_id": "M-2014-55",
          "minute": 118,
          "team_name": "Argentina",
          "tournament_id": "WC-2014"
         },
         {
          "Goals": 1,
          "goal_id": "G-2988",
          "match_id": "M-2014-57",
          "minute": 13,
          "team_name": "Germany",
          "tournament_id": "WC-2014"
         },
         {
          "Goals": 3,
          "goal_id": "G-2989",
          "match_id": "M-2014-58",
          "minute": 7,
          "team_name": "Brazil",
          "tournament_id": "WC-2014"
         },
         {
          "Goals": 5,
          "goal_id": "G-2990",
          "match_id": "M-2014-58",
          "minute": 69,
          "team_name": "Brazil",
          "tournament_id": "WC-2014"
         },
         {
          "Goals": 2,
          "goal_id": "G-2992",
          "match_id": "M-2014-59",
          "minute": 8,
          "team_name": "Argentina",
          "tournament_id": "WC-2014"
         },
         {
          "Goals": 2,
          "goal_id": "G-2993",
          "match_id": "M-2014-61",
          "minute": 11,
          "team_name": "Germany",
          "tournament_id": "WC-2014"
         },
         {
          "Goals": 3,
          "goal_id": "G-2994",
          "match_id": "M-2014-61",
          "minute": 23,
          "team_name": "Germany",
          "tournament_id": "WC-2014"
         },
         {
          "Goals": 5,
          "goal_id": "G-2995",
          "match_id": "M-2014-61",
          "minute": 24,
          "team_name": "Germany",
          "tournament_id": "WC-2014"
         },
         {
          "Goals": 2,
          "goal_id": "G-2996",
          "match_id": "M-2014-61",
          "minute": 26,
          "team_name": "Germany",
          "tournament_id": "WC-2014"
         },
         {
          "Goals": 5,
          "goal_id": "G-2997",
          "match_id": "M-2014-61",
          "minute": 29,
          "team_name": "Germany",
          "tournament_id": "WC-2014"
         },
         {
          "Goals": 1,
          "goal_id": "G-2998",
          "match_id": "M-2014-61",
          "minute": 69,
          "team_name": "Germany",
          "tournament_id": "WC-2014"
         },
         {
          "Goals": 5,
          "goal_id": "G-2999",
          "match_id": "M-2014-61",
          "minute": 79,
          "team_name": "Germany",
          "tournament_id": "WC-2014"
         },
         {
          "Goals": 3,
          "goal_id": "G-3000",
          "match_id": "M-2014-61",
          "minute": 90,
          "team_name": "Brazil",
          "tournament_id": "WC-2014"
         },
         {
          "Goals": 1,
          "goal_id": "G-3004",
          "match_id": "M-2014-64",
          "minute": 113,
          "team_name": "Germany",
          "tournament_id": "WC-2014"
         },
         {
          "Goals": 3,
          "goal_id": "G-3011",
          "match_id": "M-2015-04",
          "minute": 3,
          "team_name": "Germany",
          "tournament_id": "WC-2015"
         },
         {
          "Goals": 2,
          "goal_id": "G-3012",
          "match_id": "M-2015-04",
          "minute": 14,
          "team_name": "Germany",
          "tournament_id": "WC-2015"
         },
         {
          "Goals": 5,
          "goal_id": "G-3013",
          "match_id": "M-2015-04",
          "minute": 29,
          "team_name": "Germany",
          "tournament_id": "WC-2015"
         },
         {
          "Goals": 1,
          "goal_id": "G-3014",
          "match_id": "M-2015-04",
          "minute": 31,
          "team_name": "Germany",
          "tournament_id": "WC-2015"
         },
         {
          "Goals": 1,
          "goal_id": "G-3015",
          "match_id": "M-2015-04",
          "minute": 35,
          "team_name": "Germany",
          "tournament_id": "WC-2015"
         },
         {
          "Goals": 1,
          "goal_id": "G-3016",
          "match_id": "M-2015-04",
          "minute": 64,
          "team_name": "Germany",
          "tournament_id": "WC-2015"
         },
         {
          "Goals": 2,
          "goal_id": "G-3017",
          "match_id": "M-2015-04",
          "minute": 71,
          "team_name": "Germany",
          "tournament_id": "WC-2015"
         },
         {
          "Goals": 4,
          "goal_id": "G-3018",
          "match_id": "M-2015-04",
          "minute": 75,
          "team_name": "Germany",
          "tournament_id": "WC-2015"
         },
         {
          "Goals": 5,
          "goal_id": "G-3019",
          "match_id": "M-2015-04",
          "minute": 79,
          "team_name": "Germany",
          "tournament_id": "WC-2015"
         },
         {
          "Goals": 3,
          "goal_id": "G-3020",
          "match_id": "M-2015-04",
          "minute": 85,
          "team_name": "Germany",
          "tournament_id": "WC-2015"
         },
         {
          "Goals": 2,
          "goal_id": "G-3038",
          "match_id": "M-2015-09",
          "minute": 29,
          "team_name": "France",
          "tournament_id": "WC-2015"
         },
         {
          "Goals": 2,
          "goal_id": "G-3039",
          "match_id": "M-2015-10",
          "minute": 13,
          "team_name": "Spain",
          "tournament_id": "WC-2015"
         },
         {
          "Goals": 3,
          "goal_id": "G-3043",
          "match_id": "M-2015-12",
          "minute": 33,
          "team_name": "Brazil",
          "tournament_id": "WC-2015"
         },
         {
          "Goals": 4,
          "goal_id": "G-3044",
          "match_id": "M-2015-12",
          "minute": 53,
          "team_name": "Brazil",
          "tournament_id": "WC-2015"
         },
         {
          "Goals": 3,
          "goal_id": "G-3046",
          "match_id": "M-2015-14",
          "minute": 6,
          "team_name": "Germany",
          "tournament_id": "WC-2015"
         },
         {
          "Goals": 6,
          "goal_id": "G-3071",
          "match_id": "M-2015-22",
          "minute": 44,
          "team_name": "Brazil",
          "tournament_id": "WC-2015"
         },
         {
          "Goals": 2,
          "goal_id": "G-3072",
          "match_id": "M-2015-23",
          "minute": 71,
          "team_name": "England",
          "tournament_id": "WC-2015"
         },
         {
          "Goals": 1,
          "goal_id": "G-3073",
          "match_id": "M-2015-23",
          "minute": 82,
          "team_name": "England",
          "tournament_id": "WC-2015"
         },
         {
          "Goals": 5,
          "goal_id": "G-3079",
          "match_id": "M-2015-25",
          "minute": 24,
          "team_name": "Germany",
          "tournament_id": "WC-2015"
         },
         {
          "Goals": 3,
          "goal_id": "G-3080",
          "match_id": "M-2015-25",
          "minute": 56,
          "team_name": "Germany",
          "tournament_id": "WC-2015"
         },
         {
          "Goals": 3,
          "goal_id": "G-3081",
          "match_id": "M-2015-25",
          "minute": 58,
          "team_name": "Germany",
          "tournament_id": "WC-2015"
         },
         {
          "Goals": 3,
          "goal_id": "G-3082",
          "match_id": "M-2015-25",
          "minute": 73,
          "team_name": "Germany",
          "tournament_id": "WC-2015"
         },
         {
          "Goals": 2,
          "goal_id": "G-3100",
          "match_id": "M-2015-33",
          "minute": 15,
          "team_name": "England",
          "tournament_id": "WC-2015"
         },
         {
          "Goals": 5,
          "goal_id": "G-3101",
          "match_id": "M-2015-33",
          "minute": 38,
          "team_name": "England",
          "tournament_id": "WC-2015"
         },
         {
          "Goals": 3,
          "goal_id": "G-3103",
          "match_id": "M-2015-34",
          "minute": 1,
          "team_name": "France",
          "tournament_id": "WC-2015"
         },
         {
          "Goals": 4,
          "goal_id": "G-3104",
          "match_id": "M-2015-34",
          "minute": 9,
          "team_name": "France",
          "tournament_id": "WC-2015"
         },
         {
          "Goals": 3,
          "goal_id": "G-3105",
          "match_id": "M-2015-34",
          "minute": 13,
          "team_name": "France",
          "tournament_id": "WC-2015"
         },
         {
          "Goals": 2,
          "goal_id": "G-3106",
          "match_id": "M-2015-34",
          "minute": 36,
          "team_name": "France",
          "tournament_id": "WC-2015"
         },
         {
          "Goals": 3,
          "goal_id": "G-3107",
          "match_id": "M-2015-34",
          "minute": 80,
          "team_name": "France",
          "tournament_id": "WC-2015"
         },
         {
          "Goals": 2,
          "goal_id": "G-3108",
          "match_id": "M-2015-35",
          "minute": 29,
          "team_name": "Spain",
          "tournament_id": "WC-2015"
         },
         {
          "Goals": 5,
          "goal_id": "G-3111",
          "match_id": "M-2015-36",
          "minute": 83,
          "team_name": "Brazil",
          "tournament_id": "WC-2015"
         },
         {
          "Goals": 5,
          "goal_id": "G-3112",
          "match_id": "M-2015-37",
          "minute": 24,
          "team_name": "Germany",
          "tournament_id": "WC-2015"
         },
         {
          "Goals": 2,
          "goal_id": "G-3113",
          "match_id": "M-2015-37",
          "minute": 36,
          "team_name": "Germany",
          "tournament_id": "WC-2015"
         },
         {
          "Goals": 5,
          "goal_id": "G-3114",
          "match_id": "M-2015-37",
          "minute": 78,
          "team_name": "Germany",
          "tournament_id": "WC-2015"
         },
         {
          "Goals": 3,
          "goal_id": "G-3116",
          "match_id": "M-2015-37",
          "minute": 88,
          "team_name": "Germany",
          "tournament_id": "WC-2015"
         },
         {
          "Goals": 2,
          "goal_id": "G-3119",
          "match_id": "M-2015-40",
          "minute": 4,
          "team_name": "France",
          "tournament_id": "WC-2015"
         },
         {
          "Goals": 1,
          "goal_id": "G-3120",
          "match_id": "M-2015-40",
          "minute": 8,
          "team_name": "France",
          "tournament_id": "WC-2015"
         },
         {
          "Goals": 3,
          "goal_id": "G-3121",
          "match_id": "M-2015-40",
          "minute": 48,
          "team_name": "France",
          "tournament_id": "WC-2015"
         },
         {
          "Goals": 1,
          "goal_id": "G-3124",
          "match_id": "M-2015-42",
          "minute": 61,
          "team_name": "England",
          "tournament_id": "WC-2015"
         },
         {
          "Goals": 2,
          "goal_id": "G-3125",
          "match_id": "M-2015-42",
          "minute": 76,
          "team_name": "England",
          "tournament_id": "WC-2015"
         },
         {
          "Goals": 2,
          "goal_id": "G-3131",
          "match_id": "M-2015-45",
          "minute": 64,
          "team_name": "France",
          "tournament_id": "WC-2015"
         },
         {
          "Goals": 2,
          "goal_id": "G-3132",
          "match_id": "M-2015-45",
          "minute": 84,
          "team_name": "Germany",
          "tournament_id": "WC-2015"
         },
         {
          "Goals": 2,
          "goal_id": "G-3135",
          "match_id": "M-2015-48",
          "minute": 11,
          "team_name": "England",
          "tournament_id": "WC-2015"
         },
         {
          "Goals": 5,
          "goal_id": "G-3136",
          "match_id": "M-2015-48",
          "minute": 14,
          "team_name": "England",
          "tournament_id": "WC-2015"
         },
         {
          "Goals": 4,
          "goal_id": "G-3141",
          "match_id": "M-2015-50",
          "minute": 40,
          "team_name": "England",
          "tournament_id": "WC-2015"
         },
         {
          "Goals": 1,
          "goal_id": "G-3143",
          "match_id": "M-2015-51",
          "minute": 108,
          "team_name": "England",
          "tournament_id": "WC-2015"
         },
         {
          "Goals": 2,
          "goal_id": "G-3156",
          "match_id": "M-2018-02",
          "minute": 89,
          "team_name": "Uruguay",
          "tournament_id": "WC-2018"
         },
         {
          "Goals": 2,
          "goal_id": "G-3159",
          "match_id": "M-2018-04",
          "minute": 24,
          "team_name": "Spain",
          "tournament_id": "WC-2018"
         },
         {
          "Goals": 3,
          "goal_id": "G-3161",
          "match_id": "M-2018-04",
          "minute": 55,
          "team_name": "Spain",
          "tournament_id": "WC-2018"
         },
         {
          "Goals": 2,
          "goal_id": "G-3162",
          "match_id": "M-2018-04",
          "minute": 58,
          "team_name": "Spain",
          "tournament_id": "WC-2018"
         },
         {
          "Goals": 1,
          "goal_id": "G-3164",
          "match_id": "M-2018-05",
          "minute": 58,
          "team_name": "France",
          "tournament_id": "WC-2018"
         },
         {
          "Goals": 3,
          "goal_id": "G-3166",
          "match_id": "M-2018-05",
          "minute": 81,
          "team_name": "France",
          "tournament_id": "WC-2018"
         },
         {
          "Goals": 1,
          "goal_id": "G-3167",
          "match_id": "M-2018-06",
          "minute": 19,
          "team_name": "Argentina",
          "tournament_id": "WC-2018"
         },
         {
          "Goals": 3,
          "goal_id": "G-3174",
          "match_id": "M-2018-11",
          "minute": 20,
          "team_name": "Brazil",
          "tournament_id": "WC-2018"
         },
         {
          "Goals": 2,
          "goal_id": "G-3180",
          "match_id": "M-2018-14",
          "minute": 11,
          "team_name": "England",
          "tournament_id": "WC-2018"
         },
         {
          "Goals": null,
          "goal_id": "G-3182",
          "match_id": "M-2018-14",
          "minute": null,
          "team_name": "England",
          "tournament_id": "WC-2018"
         },
         {
          "Goals": 4,
          "goal_id": "G-3194",
          "match_id": "M-2018-19",
          "minute": 23,
          "team_name": "Uruguay",
          "tournament_id": "WC-2018"
         },
         {
          "Goals": 2,
          "goal_id": "G-3195",
          "match_id": "M-2018-20",
          "minute": 54,
          "team_name": "Spain",
          "tournament_id": "WC-2018"
         },
         {
          "Goals": 1,
          "goal_id": "G-3198",
          "match_id": "M-2018-22",
          "minute": 34,
          "team_name": "France",
          "tournament_id": "WC-2018"
         },
         {
          "Goals": null,
          "goal_id": "G-3202",
          "match_id": "M-2018-24",
          "minute": null,
          "team_name": "Brazil",
          "tournament_id": "WC-2018"
         },
         {
          "Goals": null,
          "goal_id": "G-3203",
          "match_id": "M-2018-24",
          "minute": null,
          "team_name": "Brazil",
          "tournament_id": "WC-2018"
         },
         {
          "Goals": 2,
          "goal_id": "G-3220",
          "match_id": "M-2018-29",
          "minute": 48,
          "team_name": "Germany",
          "tournament_id": "WC-2018"
         },
         {
          "Goals": null,
          "goal_id": "G-3221",
          "match_id": "M-2018-29",
          "minute": null,
          "team_name": "Germany",
          "tournament_id": "WC-2018"
         },
         {
          "Goals": 1,
          "goal_id": "G-3222",
          "match_id": "M-2018-30",
          "minute": 8,
          "team_name": "England",
          "tournament_id": "WC-2018"
         },
         {
          "Goals": 2,
          "goal_id": "G-3223",
          "match_id": "M-2018-30",
          "minute": 22,
          "team_name": "England",
          "tournament_id": "WC-2018"
         },
         {
          "Goals": 2,
          "goal_id": "G-3224",
          "match_id": "M-2018-30",
          "minute": 36,
          "team_name": "England",
          "tournament_id": "WC-2018"
         },
         {
          "Goals": 4,
          "goal_id": "G-3225",
          "match_id": "M-2018-30",
          "minute": 40,
          "team_name": "England",
          "tournament_id": "WC-2018"
         },
         {
          "Goals": null,
          "goal_id": "G-3226",
          "match_id": "M-2018-30",
          "minute": null,
          "team_name": "England",
          "tournament_id": "WC-2018"
         },
         {
          "Goals": 4,
          "goal_id": "G-3227",
          "match_id": "M-2018-30",
          "minute": 62,
          "team_name": "England",
          "tournament_id": "WC-2018"
         },
         {
          "Goals": 1,
          "goal_id": "G-3239",
          "match_id": "M-2018-34",
          "minute": 10,
          "team_name": "Uruguay",
          "tournament_id": "WC-2018"
         },
         {
          "Goals": 4,
          "goal_id": "G-3240",
          "match_id": "M-2018-34",
          "minute": 23,
          "team_name": "Uruguay",
          "tournament_id": "WC-2018"
         },
         {
          "Goals": 1,
          "goal_id": "G-3241",
          "match_id": "M-2018-34",
          "minute": 90,
          "team_name": "Uruguay",
          "tournament_id": "WC-2018"
         },
         {
          "Goals": 2,
          "goal_id": "G-3243",
          "match_id": "M-2018-35",
          "minute": 19,
          "team_name": "Spain",
          "tournament_id": "WC-2018"
         },
         {
          "Goals": null,
          "goal_id": "G-3245",
          "match_id": "M-2018-35",
          "minute": null,
          "team_name": "Spain",
          "tournament_id": "WC-2018"
         },
         {
          "Goals": 2,
          "goal_id": "G-3253",
          "match_id": "M-2018-40",
          "minute": 14,
          "team_name": "Argentina",
          "tournament_id": "WC-2018"
         },
         {
          "Goals": 1,
          "goal_id": "G-3255",
          "match_id": "M-2018-40",
          "minute": 86,
          "team_name": "Argentina",
          "tournament_id": "WC-2018"
         },
         {
          "Goals": 3,
          "goal_id": "G-3261",
          "match_id": "M-2018-43",
          "minute": 36,
          "team_name": "Brazil",
          "tournament_id": "WC-2018"
         },
         {
          "Goals": 5,
          "goal_id": "G-3262",
          "match_id": "M-2018-43",
          "minute": 68,
          "team_name": "Brazil",
          "tournament_id": "WC-2018"
         },
         {
          "Goals": 3,
          "goal_id": "G-3273",
          "match_id": "M-2018-49",
          "minute": 13,
          "team_name": "France",
          "tournament_id": "WC-2018"
         },
         {
          "Goals": 2,
          "goal_id": "G-3274",
          "match_id": "M-2018-49",
          "minute": 41,
          "team_name": "Argentina",
          "tournament_id": "WC-2018"
         },
         {
          "Goals": 2,
          "goal_id": "G-3275",
          "match_id": "M-2018-49",
          "minute": 48,
          "team_name": "Argentina",
          "tournament_id": "WC-2018"
         },
         {
          "Goals": 3,
          "goal_id": "G-3276",
          "match_id": "M-2018-49",
          "minute": 57,
          "team_name": "France",
          "tournament_id": "WC-2018"
         },
         {
          "Goals": 2,
          "goal_id": "G-3277",
          "match_id": "M-2018-49",
          "minute": 64,
          "team_name": "France",
          "tournament_id": "WC-2018"
         },
         {
          "Goals": 5,
          "goal_id": "G-3278",
          "match_id": "M-2018-49",
          "minute": 68,
          "team_name": "France",
          "tournament_id": "WC-2018"
         },
         {
          "Goals": null,
          "goal_id": "G-3279",
          "match_id": "M-2018-49",
          "minute": null,
          "team_name": "Argentina",
          "tournament_id": "WC-2018"
         },
         {
          "Goals": 2,
          "goal_id": "G-3280",
          "match_id": "M-2018-50",
          "minute": 7,
          "team_name": "Uruguay",
          "tournament_id": "WC-2018"
         },
         {
          "Goals": 1,
          "goal_id": "G-3282",
          "match_id": "M-2018-50",
          "minute": 62,
          "team_name": "Uruguay",
          "tournament_id": "WC-2018"
         },
         {
          "Goals": 1,
          "goal_id": "G-3283",
          "match_id": "M-2018-51",
          "minute": 12,
          "team_name": "Spain",
          "tournament_id": "WC-2018"
         },
         {
          "Goals": 1,
          "goal_id": "G-3287",
          "match_id": "M-2018-53",
          "minute": 51,
          "team_name": "Brazil",
          "tournament_id": "WC-2018"
         },
         {
          "Goals": 3,
          "goal_id": "G-3288",
          "match_id": "M-2018-53",
          "minute": 88,
          "team_name": "Brazil",
          "tournament_id": "WC-2018"
         },
         {
          "Goals": 3,
          "goal_id": "G-3295",
          "match_id": "M-2018-56",
          "minute": 57,
          "team_name": "England",
          "tournament_id": "WC-2018"
         },
         {
          "Goals": 4,
          "goal_id": "G-3297",
          "match_id": "M-2018-57",
          "minute": 40,
          "team_name": "France",
          "tournament_id": "WC-2018"
         },
         {
          "Goals": 4,
          "goal_id": "G-3298",
          "match_id": "M-2018-57",
          "minute": 61,
          "team_name": "France",
          "tournament_id": "WC-2018"
         },
         {
          "Goals": 2,
          "goal_id": "G-3301",
          "match_id": "M-2018-58",
          "minute": 76,
          "team_name": "Brazil",
          "tournament_id": "WC-2018"
         },
         {
          "Goals": 2,
          "goal_id": "G-3302",
          "match_id": "M-2018-59",
          "minute": 30,
          "team_name": "England",
          "tournament_id": "WC-2018"
         },
         {
          "Goals": 2,
          "goal_id": "G-3303",
          "match_id": "M-2018-59",
          "minute": 59,
          "team_name": "England",
          "tournament_id": "WC-2018"
         },
         {
          "Goals": 1,
          "goal_id": "G-3308",
          "match_id": "M-2018-61",
          "minute": 51,
          "team_name": "France",
          "tournament_id": "WC-2018"
         },
         {
          "Goals": 2,
          "goal_id": "G-3309",
          "match_id": "M-2018-62",
          "minute": 5,
          "team_name": "England",
          "tournament_id": "WC-2018"
         },
         {
          "Goals": 3,
          "goal_id": "G-3314",
          "match_id": "M-2018-64",
          "minute": 18,
          "team_name": "France",
          "tournament_id": "WC-2018"
         },
         {
          "Goals": 2,
          "goal_id": "G-3316",
          "match_id": "M-2018-64",
          "minute": 38,
          "team_name": "France",
          "tournament_id": "WC-2018"
         },
         {
          "Goals": 1,
          "goal_id": "G-3317",
          "match_id": "M-2018-64",
          "minute": 59,
          "team_name": "France",
          "tournament_id": "WC-2018"
         },
         {
          "Goals": 1,
          "goal_id": "G-3318",
          "match_id": "M-2018-64",
          "minute": 65,
          "team_name": "France",
          "tournament_id": "WC-2018"
         },
         {
          "Goals": 4,
          "goal_id": "G-3320",
          "match_id": "M-2019-01",
          "minute": 9,
          "team_name": "France",
          "tournament_id": "WC-2019"
         },
         {
          "Goals": 2,
          "goal_id": "G-3321",
          "match_id": "M-2019-01",
          "minute": 35,
          "team_name": "France",
          "tournament_id": "WC-2019"
         },
         {
          "Goals": null,
          "goal_id": "G-3322",
          "match_id": "M-2019-01",
          "minute": null,
          "team_name": "France",
          "tournament_id": "WC-2019"
         },
         {
          "Goals": 3,
          "goal_id": "G-3323",
          "match_id": "M-2019-01",
          "minute": 85,
          "team_name": "France",
          "tournament_id": "WC-2019"
         },
         {
          "Goals": 3,
          "goal_id": "G-3324",
          "match_id": "M-2019-02",
          "minute": 66,
          "team_name": "Germany",
          "tournament_id": "WC-2019"
         },
         {
          "Goals": null,
          "goal_id": "G-3326",
          "match_id": "M-2019-03",
          "minute": null,
          "team_name": "Spain",
          "tournament_id": "WC-2019"
         },
         {
          "Goals": null,
          "goal_id": "G-3327",
          "match_id": "M-2019-03",
          "minute": null,
          "team_name": "Spain",
          "tournament_id": "WC-2019"
         },
         {
          "Goals": 2,
          "goal_id": "G-3328",
          "match_id": "M-2019-03",
          "minute": 89,
          "team_name": "Spain",
          "tournament_id": "WC-2019"
         },
         {
          "Goals": 1,
          "goal_id": "G-3333",
          "match_id": "M-2019-05",
          "minute": 56,
          "team_name": "Italy",
          "tournament_id": "WC-2019"
         },
         {
          "Goals": null,
          "goal_id": "G-3334",
          "match_id": "M-2019-05",
          "minute": null,
          "team_name": "Italy",
          "tournament_id": "WC-2019"
         },
         {
          "Goals": 8,
          "goal_id": "G-3335",
          "match_id": "M-2019-06",
          "minute": 15,
          "team_name": "Brazil",
          "tournament_id": "WC-2019"
         },
         {
          "Goals": 7,
          "goal_id": "G-3336",
          "match_id": "M-2019-06",
          "minute": 50,
          "team_name": "Brazil",
          "tournament_id": "WC-2019"
         },
         {
          "Goals": 5,
          "goal_id": "G-3337",
          "match_id": "M-2019-06",
          "minute": 64,
          "team_name": "Brazil",
          "tournament_id": "WC-2019"
         },
         {
          "Goals": 5,
          "goal_id": "G-3338",
          "match_id": "M-2019-07",
          "minute": 14,
          "team_name": "England",
          "tournament_id": "WC-2019"
         },
         {
          "Goals": 4,
          "goal_id": "G-3339",
          "match_id": "M-2019-07",
          "minute": 40,
          "team_name": "England",
          "tournament_id": "WC-2019"
         },
         {
          "Goals": 6,
          "goal_id": "G-3360",
          "match_id": "M-2019-14",
          "minute": 42,
          "team_name": "Germany",
          "tournament_id": "WC-2019"
         },
         {
          "Goals": 3,
          "goal_id": "G-3361",
          "match_id": "M-2019-15",
          "minute": 46,
          "team_name": "France",
          "tournament_id": "WC-2019"
         },
         {
          "Goals": 4,
          "goal_id": "G-3363",
          "match_id": "M-2019-15",
          "minute": 72,
          "team_name": "France",
          "tournament_id": "WC-2019"
         },
         {
          "Goals": 3,
          "goal_id": "G-3364",
          "match_id": "M-2019-16",
          "minute": 27,
          "team_name": "Brazil",
          "tournament_id": "WC-2019"
         },
         {
          "Goals": 3,
          "goal_id": "G-3365",
          "match_id": "M-2019-16",
          "minute": 38,
          "team_name": "Brazil",
          "tournament_id": "WC-2019"
         },
         {
          "Goals": 2,
          "goal_id": "G-3373",
          "match_id": "M-2019-19",
          "minute": 12,
          "team_name": "Italy",
          "tournament_id": "WC-2019"
         },
         {
          "Goals": 5,
          "goal_id": "G-3374",
          "match_id": "M-2019-19",
          "minute": 25,
          "team_name": "Italy",
          "tournament_id": "WC-2019"
         },
         {
          "Goals": 1,
          "goal_id": "G-3375",
          "match_id": "M-2019-19",
          "minute": 46,
          "team_name": "Italy",
          "tournament_id": "WC-2019"
         },
         {
          "Goals": 2,
          "goal_id": "G-3376",
          "match_id": "M-2019-19",
          "minute": 71,
          "team_name": "Italy",
          "tournament_id": "WC-2019"
         },
         {
          "Goals": 4,
          "goal_id": "G-3377",
          "match_id": "M-2019-19",
          "minute": 81,
          "team_name": "Italy",
          "tournament_id": "WC-2019"
         },
         {
          "Goals": 4,
          "goal_id": "G-3378",
          "match_id": "M-2019-20",
          "minute": 62,
          "team_name": "England",
          "tournament_id": "WC-2019"
         },
         {
          "Goals": 2,
          "goal_id": "G-3394",
          "match_id": "M-2019-26",
          "minute": 14,
          "team_name": "Germany",
          "tournament_id": "WC-2019"
         },
         {
          "Goals": 5,
          "goal_id": "G-3395",
          "match_id": "M-2019-26",
          "minute": 29,
          "team_name": "Germany",
          "tournament_id": "WC-2019"
         },
         {
          "Goals": 2,
          "goal_id": "G-3396",
          "match_id": "M-2019-26",
          "minute": 40,
          "team_name": "Germany",
          "tournament_id": "WC-2019"
         },
         {
          "Goals": 3,
          "goal_id": "G-3397",
          "match_id": "M-2019-26",
          "minute": 58,
          "team_name": "Germany",
          "tournament_id": "WC-2019"
         },
         {
          "Goals": 4,
          "goal_id": "G-3398",
          "match_id": "M-2019-27",
          "minute": 79,
          "team_name": "France",
          "tournament_id": "WC-2019"
         },
         {
          "Goals": 4,
          "goal_id": "G-3402",
          "match_id": "M-2019-29",
          "minute": 74,
          "team_name": "Brazil",
          "tournament_id": "WC-2019"
         },
         {
          "Goals": 5,
          "goal_id": "G-3408",
          "match_id": "M-2019-31",
          "minute": 14,
          "team_name": "England",
          "tournament_id": "WC-2019"
         },
         {
          "Goals": 1,
          "goal_id": "G-3409",
          "match_id": "M-2019-31",
          "minute": 84,
          "team_name": "England",
          "tournament_id": "WC-2019"
         },
         {
          "Goals": 1,
          "goal_id": "G-3413",
          "match_id": "M-2019-32",
          "minute": 74,
          "team_name": "Argentina",
          "tournament_id": "WC-2019"
         },
         {
          "Goals": 3,
          "goal_id": "G-3414",
          "match_id": "M-2019-32",
          "minute": 79,
          "team_name": "Argentina",
          "tournament_id": "WC-2019"
         },
         {
          "Goals": null,
          "goal_id": "G-3415",
          "match_id": "M-2019-32",
          "minute": null,
          "team_name": "Argentina",
          "tournament_id": "WC-2019"
         },
         {
          "Goals": 4,
          "goal_id": "G-3426",
          "match_id": "M-2019-37",
          "minute": 20,
          "team_name": "Germany",
          "tournament_id": "WC-2019"
         },
         {
          "Goals": 2,
          "goal_id": "G-3427",
          "match_id": "M-2019-37",
          "minute": 27,
          "team_name": "Germany",
          "tournament_id": "WC-2019"
         },
         {
          "Goals": 3,
          "goal_id": "G-3428",
          "match_id": "M-2019-37",
          "minute": 82,
          "team_name": "Germany",
          "tournament_id": "WC-2019"
         },
         {
          "Goals": 5,
          "goal_id": "G-3431",
          "match_id": "M-2019-39",
          "minute": 14,
          "team_name": "England",
          "tournament_id": "WC-2019"
         },
         {
          "Goals": null,
          "goal_id": "G-3432",
          "match_id": "M-2019-39",
          "minute": null,
          "team_name": "England",
          "tournament_id": "WC-2019"
         },
         {
          "Goals": 2,
          "goal_id": "G-3433",
          "match_id": "M-2019-39",
          "minute": 58,
          "team_name": "England",
          "tournament_id": "WC-2019"
         },
         {
          "Goals": 2,
          "goal_id": "G-3434",
          "match_id": "M-2019-40",
          "minute": 52,
          "team_name": "France",
          "tournament_id": "WC-2019"
         },
         {
          "Goals": 8,
          "goal_id": "G-3435",
          "match_id": "M-2019-40",
          "minute": 63,
          "team_name": "Brazil",
          "tournament_id": "WC-2019"
         },
         {
          "Goals": 1,
          "goal_id": "G-3436",
          "match_id": "M-2019-40",
          "minute": 107,
          "team_name": "France",
          "tournament_id": "WC-2019"
         },
         {
          "Goals": 1,
          "goal_id": "G-3438",
          "match_id": "M-2019-41",
          "minute": 9,
          "team_name": "Spain",
          "tournament_id": "WC-2019"
         },
         {
          "Goals": 2,
          "goal_id": "G-3441",
          "match_id": "M-2019-43",
          "minute": 15,
          "team_name": "Italy",
          "tournament_id": "WC-2019"
         },
         {
          "Goals": 1,
          "goal_id": "G-3442",
          "match_id": "M-2019-43",
          "minute": 49,
          "team_name": "Italy",
          "tournament_id": "WC-2019"
         },
         {
          "Goals": 2,
          "goal_id": "G-3446",
          "match_id": "M-2019-45",
          "minute": 3,
          "team_name": "England",
          "tournament_id": "WC-2019"
         },
         {
          "Goals": 4,
          "goal_id": "G-3447",
          "match_id": "M-2019-45",
          "minute": 40,
          "team_name": "England",
          "tournament_id": "WC-2019"
         },
         {
          "Goals": 3,
          "goal_id": "G-3448",
          "match_id": "M-2019-45",
          "minute": 57,
          "team_name": "England",
          "tournament_id": "WC-2019"
         },
         {
          "Goals": 3,
          "goal_id": "G-3451",
          "match_id": "M-2019-46",
          "minute": 81,
          "team_name": "France",
          "tournament_id": "WC-2019"
         },
         {
          "Goals": 2,
          "goal_id": "G-3454",
          "match_id": "M-2019-48",
          "minute": 16,
          "team_name": "Germany",
          "tournament_id": "WC-2019"
         },
         {
          "Goals": 1,
          "goal_id": "G-3458",
          "match_id": "M-2019-49",
          "minute": 19,
          "team_name": "England",
          "tournament_id": "WC-2019"
         },
         {
          "Goals": 3,
          "goal_id": "G-3463",
          "match_id": "M-2019-51",
          "minute": 31,
          "team_name": "England",
          "tournament_id": "WC-2019"
         },
         {
          "Goals": 1,
          "goal_id": "G-3468",
          "match_id": "M-2022-02",
          "minute": 35,
          "team_name": "England",
          "tournament_id": "WC-2022"
         },
         {
          "Goals": 2,
          "goal_id": "G-3469",
          "match_id": "M-2022-02",
          "minute": 43,
          "team_name": "England",
          "tournament_id": "WC-2022"
         },
         {
          "Goals": null,
          "goal_id": "G-3470",
          "match_id": "M-2022-02",
          "minute": null,
          "team_name": "England",
          "tournament_id": "WC-2022"
         },
         {
          "Goals": 4,
          "goal_id": "G-3471",
          "match_id": "M-2022-02",
          "minute": 62,
          "team_name": "England",
          "tournament_id": "WC-2022"
         },
         {
          "Goals": 2,
          "goal_id": "G-3473",
          "match_id": "M-2022-02",
          "minute": 71,
          "team_name": "England",
          "tournament_id": "WC-2022"
         },
         {
          "Goals": 2,
          "goal_id": "G-3474",
          "match_id": "M-2022-02",
          "minute": 90,
          "team_name": "England",
          "tournament_id": "WC-2022"
         },
         {
          "Goals": 2,
          "goal_id": "G-3480",
          "match_id": "M-2022-05",
          "minute": 10,
          "team_name": "Argentina",
          "tournament_id": "WC-2022"
         },
         {
          "Goals": 4,
          "goal_id": "G-3484",
          "match_id": "M-2022-08",
          "minute": 27,
          "team_name": "France",
          "tournament_id": "WC-2022"
         },
         {
          "Goals": 1,
          "goal_id": "G-3485",
          "match_id": "M-2022-08",
          "minute": 32,
          "team_name": "France",
          "tournament_id": "WC-2022"
         },
         {
          "Goals": 5,
          "goal_id": "G-3486",
          "match_id": "M-2022-08",
          "minute": 68,
          "team_name": "France",
          "tournament_id": "WC-2022"
         },
         {
          "Goals": 1,
          "goal_id": "G-3487",
          "match_id": "M-2022-08",
          "minute": 71,
          "team_name": "France",
          "tournament_id": "WC-2022"
         },
         {
          "Goals": 1,
          "goal_id": "G-3488",
          "match_id": "M-2022-10",
          "minute": 33,
          "team_name": "Germany",
          "tournament_id": "WC-2022"
         },
         {
          "Goals": 2,
          "goal_id": "G-3491",
          "match_id": "M-2022-11",
          "minute": 11,
          "team_name": "Spain",
          "tournament_id": "WC-2022"
         },
         {
          "Goals": 3,
          "goal_id": "G-3492",
          "match_id": "M-2022-11",
          "minute": 21,
          "team_name": "Spain",
          "tournament_id": "WC-2022"
         },
         {
          "Goals": 1,
          "goal_id": "G-3493",
          "match_id": "M-2022-11",
          "minute": 31,
          "team_name": "Spain",
          "tournament_id": "WC-2022"
         },
         {
          "Goals": 2,
          "goal_id": "G-3494",
          "match_id": "M-2022-11",
          "minute": 54,
          "team_name": "Spain",
          "tournament_id": "WC-2022"
         },
         {
          "Goals": 3,
          "goal_id": "G-3495",
          "match_id": "M-2022-11",
          "minute": 74,
          "team_name": "Spain",
          "tournament_id": "WC-2022"
         },
         {
          "Goals": 2,
          "goal_id": "G-3496",
          "match_id": "M-2022-11",
          "minute": 90,
          "team_name": "Spain",
          "tournament_id": "WC-2022"
         },
         {
          "Goals": null,
          "goal_id": "G-3497",
          "match_id": "M-2022-11",
          "minute": null,
          "team_name": "Spain",
          "tournament_id": "WC-2022"
         },
         {
          "Goals": 7,
          "goal_id": "G-3505",
          "match_id": "M-2022-16",
          "minute": 62,
          "team_name": "Brazil",
          "tournament_id": "WC-2022"
         },
         {
          "Goals": 5,
          "goal_id": "G-3506",
          "match_id": "M-2022-16",
          "minute": 73,
          "team_name": "Brazil",
          "tournament_id": "WC-2022"
         },
         {
          "Goals": 4,
          "goal_id": "G-3518",
          "match_id": "M-2022-23",
          "minute": 61,
          "team_name": "France",
          "tournament_id": "WC-2022"
         },
         {
          "Goals": 1,
          "goal_id": "G-3520",
          "match_id": "M-2022-23",
          "minute": 86,
          "team_name": "France",
          "tournament_id": "WC-2022"
         },
         {
          "Goals": 1,
          "goal_id": "G-3521",
          "match_id": "M-2022-24",
          "minute": 64,
          "team_name": "Argentina",
          "tournament_id": "WC-2022"
         },
         {
          "Goals": 2,
          "goal_id": "G-3522",
          "match_id": "M-2022-24",
          "minute": 87,
          "team_name": "Argentina",
          "tournament_id": "WC-2022"
         },
         {
          "Goals": 1,
          "goal_id": "G-3531",
          "match_id": "M-2022-28",
          "minute": 62,
          "team_name": "Spain",
          "tournament_id": "WC-2022"
         },
         {
          "Goals": 1,
          "goal_id": "G-3532",
          "match_id": "M-2022-28",
          "minute": 83,
          "team_name": "Germany",
          "tournament_id": "WC-2022"
         },
         {
          "Goals": 5,
          "goal_id": "G-3544",
          "match_id": "M-2022-31",
          "minute": 83,
          "team_name": "Brazil",
          "tournament_id": "WC-2022"
         },
         {
          "Goals": 3,
          "goal_id": "G-3553",
          "match_id": "M-2022-36",
          "minute": 50,
          "team_name": "England",
          "tournament_id": "WC-2022"
         },
         {
          "Goals": 3,
          "goal_id": "G-3554",
          "match_id": "M-2022-36",
          "minute": 51,
          "team_name": "England",
          "tournament_id": "WC-2022"
         },
         {
          "Goals": 1,
          "goal_id": "G-3555",
          "match_id": "M-2022-36",
          "minute": 68,
          "team_name": "England",
          "tournament_id": "WC-2022"
         },
         {
          "Goals": 2,
          "goal_id": "G-3558",
          "match_id": "M-2022-39",
          "minute": 46,
          "team_name": "Argentina",
          "tournament_id": "WC-2022"
         },
         {
          "Goals": 3,
          "goal_id": "G-3559",
          "match_id": "M-2022-39",
          "minute": 67,
          "team_name": "Argentina",
          "tournament_id": "WC-2022"
         },
         {
          "Goals": 4,
          "goal_id": "G-3566",
          "match_id": "M-2022-43",
          "minute": 10,
          "team_name": "Germany",
          "tournament_id": "WC-2022"
         },
         {
          "Goals": 3,
          "goal_id": "G-3569",
          "match_id": "M-2022-43",
          "minute": 73,
          "team_name": "Germany",
          "tournament_id": "WC-2022"
         },
         {
          "Goals": 3,
          "goal_id": "G-3570",
          "match_id": "M-2022-43",
          "minute": 85,
          "team_name": "Germany",
          "tournament_id": "WC-2022"
         },
         {
          "Goals": 7,
          "goal_id": "G-3571",
          "match_id": "M-2022-43",
          "minute": 89,
          "team_name": "Germany",
          "tournament_id": "WC-2022"
         },
         {
          "Goals": 2,
          "goal_id": "G-3572",
          "match_id": "M-2022-44",
          "minute": 11,
          "team_name": "Spain",
          "tournament_id": "WC-2022"
         },
         {
          "Goals": 3,
          "goal_id": "G-3575",
          "match_id": "M-2022-45",
          "minute": 26,
          "team_name": "Uruguay",
          "tournament_id": "WC-2022"
         },
         {
          "Goals": 1,
          "goal_id": "G-3576",
          "match_id": "M-2022-45",
          "minute": 32,
          "team_name": "Uruguay",
          "tournament_id": "WC-2022"
         },
         {
          "Goals": 3,
          "goal_id": "G-3590",
          "match_id": "M-2022-50",
          "minute": 35,
          "team_name": "Argentina",
          "tournament_id": "WC-2022"
         },
         {
          "Goals": 2,
          "goal_id": "G-3591",
          "match_id": "M-2022-50",
          "minute": 57,
          "team_name": "Argentina",
          "tournament_id": "WC-2022"
         },
         {
          "Goals": 3,
          "goal_id": "G-3593",
          "match_id": "M-2022-51",
          "minute": 44,
          "team_name": "France",
          "tournament_id": "WC-2022"
         },
         {
          "Goals": 1,
          "goal_id": "G-3594",
          "match_id": "M-2022-51",
          "minute": 74,
          "team_name": "France",
          "tournament_id": "WC-2022"
         },
         {
          "Goals": null,
          "goal_id": "G-3595",
          "match_id": "M-2022-51",
          "minute": null,
          "team_name": "France",
          "tournament_id": "WC-2022"
         },
         {
          "Goals": 5,
          "goal_id": "G-3597",
          "match_id": "M-2022-52",
          "minute": 38,
          "team_name": "England",
          "tournament_id": "WC-2022"
         },
         {
          "Goals": null,
          "goal_id": "G-3598",
          "match_id": "M-2022-52",
          "minute": null,
          "team_name": "England",
          "tournament_id": "WC-2022"
         },
         {
          "Goals": 3,
          "goal_id": "G-3599",
          "match_id": "M-2022-52",
          "minute": 57,
          "team_name": "England",
          "tournament_id": "WC-2022"
         },
         {
          "Goals": 3,
          "goal_id": "G-3602",
          "match_id": "M-2022-54",
          "minute": 7,
          "team_name": "Brazil",
          "tournament_id": "WC-2022"
         },
         {
          "Goals": 3,
          "goal_id": "G-3603",
          "match_id": "M-2022-54",
          "minute": 13,
          "team_name": "Brazil",
          "tournament_id": "WC-2022"
         },
         {
          "Goals": 3,
          "goal_id": "G-3604",
          "match_id": "M-2022-54",
          "minute": 29,
          "team_name": "Brazil",
          "tournament_id": "WC-2022"
         },
         {
          "Goals": 3,
          "goal_id": "G-3605",
          "match_id": "M-2022-54",
          "minute": 36,
          "team_name": "Brazil",
          "tournament_id": "WC-2022"
         },
         {
          "Goals": null,
          "goal_id": "G-3614",
          "match_id": "M-2022-57",
          "minute": null,
          "team_name": "Brazil",
          "tournament_id": "WC-2022"
         },
         {
          "Goals": 3,
          "goal_id": "G-3616",
          "match_id": "M-2022-58",
          "minute": 35,
          "team_name": "Argentina",
          "tournament_id": "WC-2022"
         },
         {
          "Goals": 3,
          "goal_id": "G-3617",
          "match_id": "M-2022-58",
          "minute": 73,
          "team_name": "Argentina",
          "tournament_id": "WC-2022"
         },
         {
          "Goals": 2,
          "goal_id": "G-3621",
          "match_id": "M-2022-60",
          "minute": 17,
          "team_name": "France",
          "tournament_id": "WC-2022"
         },
         {
          "Goals": 1,
          "goal_id": "G-3622",
          "match_id": "M-2022-60",
          "minute": 54,
          "team_name": "England",
          "tournament_id": "WC-2022"
         },
         {
          "Goals": 3,
          "goal_id": "G-3623",
          "match_id": "M-2022-60",
          "minute": 78,
          "team_name": "France",
          "tournament_id": "WC-2022"
         },
         {
          "Goals": 2,
          "goal_id": "G-3624",
          "match_id": "M-2022-61",
          "minute": 34,
          "team_name": "Argentina",
          "tournament_id": "WC-2022"
         },
         {
          "Goals": 1,
          "goal_id": "G-3625",
          "match_id": "M-2022-61",
          "minute": 39,
          "team_name": "Argentina",
          "tournament_id": "WC-2022"
         },
         {
          "Goals": 2,
          "goal_id": "G-3626",
          "match_id": "M-2022-61",
          "minute": 69,
          "team_name": "Argentina",
          "tournament_id": "WC-2022"
         },
         {
          "Goals": 1,
          "goal_id": "G-3627",
          "match_id": "M-2022-62",
          "minute": 5,
          "team_name": "France",
          "tournament_id": "WC-2022"
         },
         {
          "Goals": 4,
          "goal_id": "G-3628",
          "match_id": "M-2022-62",
          "minute": 79,
          "team_name": "France",
          "tournament_id": "WC-2022"
         },
         {
          "Goals": 2,
          "goal_id": "G-3632",
          "match_id": "M-2022-64",
          "minute": 23,
          "team_name": "Argentina",
          "tournament_id": "WC-2022"
         },
         {
          "Goals": 2,
          "goal_id": "G-3633",
          "match_id": "M-2022-64",
          "minute": 36,
          "team_name": "Argentina",
          "tournament_id": "WC-2022"
         },
         {
          "Goals": 3,
          "goal_id": "G-3634",
          "match_id": "M-2022-64",
          "minute": 80,
          "team_name": "France",
          "tournament_id": "WC-2022"
         },
         {
          "Goals": 3,
          "goal_id": "G-3635",
          "match_id": "M-2022-64",
          "minute": 81,
          "team_name": "France",
          "tournament_id": "WC-2022"
         },
         {
          "Goals": 1,
          "goal_id": "G-3636",
          "match_id": "M-2022-64",
          "minute": 108,
          "team_name": "Argentina",
          "tournament_id": "WC-2022"
         },
         {
          "Goals": 1,
          "goal_id": "G-3637",
          "match_id": "M-2022-64",
          "minute": 118,
          "team_name": "France",
          "tournament_id": "WC-2022"
         }
        ]
       },
       "hconcat": [
        {
         "encoding": {
          "color": {
           "field": "team_name",
           "scale": {
            "range": [
             "blue",
             "orange"
            ]
           },
           "title": "team_name",
           "type": "nominal"
          },
          "tooltip": [
           {
            "field": "team_name",
            "type": "nominal"
           },
           {
            "field": "minute",
            "type": "quantitative"
           },
           {
            "field": "Goals",
            "type": "quantitative"
           }
          ],
          "x": {
           "field": "minute",
           "title": "Minute",
           "type": "quantitative"
          },
          "y": {
           "axis": {
            "values": [
             0,
             5,
             10,
             15
            ]
           },
           "field": "Goals",
           "scale": {
            "domain": [
             0,
             15
            ]
           },
           "title": "Goals",
           "type": "quantitative"
          }
         },
         "height": 200,
         "mark": {
          "opacity": 0.8,
          "size": 50,
          "type": "circle"
         },
         "name": "view_61",
         "title": "Zooming in on Goals of World Cups winner since 1950",
         "transform": [
          {
           "filter": "datum.team_name == Team1 || datum.team_name == Team2"
          }
         ],
         "width": 400
        },
        {
         "encoding": {
          "color": {
           "field": "team_name",
           "title": "Team",
           "type": "nominal"
          },
          "tooltip": [
           {
            "field": "team_name",
            "type": "nominal"
           },
           {
            "field": "minute",
            "type": "quantitative"
           },
           {
            "field": "Goals",
            "type": "quantitative"
           }
          ],
          "x": {
           "field": "minute",
           "title": "Minute",
           "type": "quantitative"
          },
          "y": {
           "axis": {
            "values": [
             0,
             5,
             10,
             15
            ]
           },
           "field": "Goals",
           "scale": {
            "domain": [
             0,
             15
            ]
           },
           "title": "Goals",
           "type": "quantitative"
          }
         },
         "height": 200,
         "mark": {
          "strokeWidth": 2.5,
          "type": "line"
         },
         "transform": [
          {
           "filter": "datum.team_name == Team1 || datum.team_name == Team2"
          },
          {
           "filter": {
            "param": "time_brush"
           }
          }
         ],
         "width": 400
        }
       ],
       "params": [
        {
         "bind": {
          "input": "select",
          "name": "Team 1",
          "options": [
           "Argentina",
           "Brazil",
           "England",
           "France",
           "Germany",
           "Italy",
           "Spain",
           "Uruguay"
          ]
         },
         "name": "Team1",
         "value": "Argentina"
        },
        {
         "bind": {
          "input": "select",
          "name": "Team 2",
          "options": [
           "Argentina",
           "Brazil",
           "England",
           "France",
           "Germany",
           "Italy",
           "Spain",
           "Uruguay"
          ]
         },
         "name": "Team2",
         "value": "Brazil"
        },
        {
         "name": "time_brush",
         "select": {
          "encodings": [
           "x",
           "y"
          ],
          "type": "interval"
         },
         "views": [
          "view_61"
         ]
        }
       ],
       "resolve": {
        "scale": {
         "color": "independent"
        }
       }
      },
      "text/plain": [
       "<VegaLite 5 object>\n",
       "\n",
       "If you see this message, it means the renderer has not been properly enabled\n",
       "for the frontend that you are using. For more information, see\n",
       "https://altair-viz.github.io/user_guide/display_frontends.html#troubleshooting\n"
      ]
     },
     "execution_count": 217,
     "metadata": {},
     "output_type": "execute_result"
    }
   ],
   "source": [
    "line = alt.Chart(df4).mark_line(strokeWidth=2.5).encode(\n",
    "    x=alt.X('minute:Q', title='Minute'),\n",
    "    y=alt.Y('Goals:Q', title='Goals', scale=alt.Scale(domain=[0,15]), axis=alt.Axis(values=[0,5,10,15])),\n",
    "    color=alt.Color('team_name:N', title='Team'),\n",
    "    tooltip=['team_name', 'minute', 'Goals']\n",
    ").transform_filter(\"datum.team_name == Team1 || datum.team_name == Team2\"\n",
    ").transform_filter(brush\n",
    ").add_params(team1_param, team2_param\n",
    ").properties(\n",
    "    width=400,\n",
    "    height=200,\n",
    ")\n",
    "\n",
    "final_viz4 = alt.hconcat(scatter, line).resolve_scale(color='independent')\n",
    "final_viz4"
   ]
  },
  {
   "cell_type": "markdown",
   "metadata": {},
   "source": [
    "# Final part"
   ]
  },
  {
   "cell_type": "markdown",
   "metadata": {},
   "source": [
    "Export all of your visualizations to HTML, then put them all into a single HTML file (as we covered in the lab this week).\n",
    "\n",
    "Upload this .html file to canvas, along with this notebook"
   ]
  },
  {
   "cell_type": "code",
   "execution_count": 226,
   "metadata": {},
   "outputs": [],
   "source": [
    "final_viz1.save('chart1.html')\n",
    "final_viz2.save('chart2.html')\n",
    "final_viz3.save('chart3.html')\n",
    "final_viz4.save('chart4.html')"
   ]
  },
  {
   "cell_type": "code",
   "execution_count": 227,
   "metadata": {},
   "outputs": [
    {
     "name": "stdout",
     "output_type": "stream",
     "text": [
      "Master HTML file saved as 'all_charts.html'. Open it in a browser.\n"
     ]
    }
   ],
   "source": [
    "html_content = \"\"\"\n",
    "<!DOCTYPE html>\n",
    "<html lang=\"en\">\n",
    "<head>\n",
    "    <meta charset=\"UTF-8\">\n",
    "    <meta name=\"viewport\" content=\"width=device-width, initial-scale=1.0\">\n",
    "    <title>All Altair Charts</title>\n",
    "    <style>\n",
    "        body {{\n",
    "            text-align: center;\n",
    "            font-family: Arial, sans-serif;\n",
    "            background-color: black;\n",
    "        }}\n",
    "        .chart-container {{\n",
    "            width: 100%;  /* Ensure full width */\n",
    "            height: auto; /* Allow height to be dynamic */\n",
    "            border: none; /* Remove iframe border */\n",
    "        }}\n",
    "    </style>\n",
    "</head>\n",
    "<body>\n",
    "    <h1>All Visualizations</h1>\n",
    "\n",
    "    <h2>Visualization 1</h2>\n",
    "    <iframe class=\"chart-container\" src=\"chart1.html\" width=\"100%\" height=\"600\"></iframe>\n",
    "\n",
    "    <h2>Visualization 2</h2>\n",
    "    <iframe class=\"chart-container\" src=\"chart2.html\" width=\"100%\" height=\"600\"></iframe>\n",
    "\n",
    "    <h2>Visualization 3</h2>\n",
    "    <iframe class=\"chart-container\" src=\"chart3.html\" width=\"100%\" height=\"600\"></iframe>\n",
    "\n",
    "    <h2>Visualization 4</h2>\n",
    "    <iframe class=\"chart-container\" src=\"chart4.html\" width=\"100%\" height=\"600\"></iframe>\n",
    "\n",
    "</body>\n",
    "</html>\n",
    "\"\"\"\n",
    "\n",
    "# Save the master HTML file\n",
    "with open(\"all_charts.html\", \"w\", encoding=\"utf-8\") as f:\n",
    "    f.write(html_content)\n",
    "\n",
    "print(\"Master HTML file saved as 'all_charts.html'. Open it in a browser.\")\n"
   ]
  }
 ],
 "metadata": {
  "kernelspec": {
   "display_name": "Python 3",
   "language": "python",
   "name": "python3"
  },
  "language_info": {
   "codemirror_mode": {
    "name": "ipython",
    "version": 3
   },
   "file_extension": ".py",
   "mimetype": "text/x-python",
   "name": "python",
   "nbconvert_exporter": "python",
   "pygments_lexer": "ipython3",
   "version": "3.11.9"
  }
 },
 "nbformat": 4,
 "nbformat_minor": 4
}
